{
 "cells": [
  {
   "cell_type": "code",
   "execution_count": 362,
   "id": "821ba4de-f6ef-4929-904b-b0e71a29999b",
   "metadata": {},
   "outputs": [
    {
     "data": {
      "application/javascript": [
       "(function(root) {\n",
       "  function now() {\n",
       "    return new Date();\n",
       "  }\n",
       "\n",
       "  var force = true;\n",
       "  var py_version = '3.2.1'.replace('rc', '-rc.').replace('.dev', '-dev.');\n",
       "  var is_dev = py_version.indexOf(\"+\") !== -1 || py_version.indexOf(\"-\") !== -1;\n",
       "  var reloading = true;\n",
       "  var Bokeh = root.Bokeh;\n",
       "  var bokeh_loaded = Bokeh != null && (Bokeh.version === py_version || (Bokeh.versions !== undefined && Bokeh.versions.has(py_version)));\n",
       "\n",
       "  if (typeof (root._bokeh_timeout) === \"undefined\" || force) {\n",
       "    root._bokeh_timeout = Date.now() + 5000;\n",
       "    root._bokeh_failed_load = false;\n",
       "  }\n",
       "\n",
       "  function run_callbacks() {\n",
       "    try {\n",
       "      root._bokeh_onload_callbacks.forEach(function(callback) {\n",
       "        if (callback != null)\n",
       "          callback();\n",
       "      });\n",
       "    } finally {\n",
       "      delete root._bokeh_onload_callbacks;\n",
       "    }\n",
       "    console.debug(\"Bokeh: all callbacks have finished\");\n",
       "  }\n",
       "\n",
       "  function load_libs(css_urls, js_urls, js_modules, js_exports, callback) {\n",
       "    if (css_urls == null) css_urls = [];\n",
       "    if (js_urls == null) js_urls = [];\n",
       "    if (js_modules == null) js_modules = [];\n",
       "    if (js_exports == null) js_exports = {};\n",
       "\n",
       "    root._bokeh_onload_callbacks.push(callback);\n",
       "\n",
       "    if (root._bokeh_is_loading > 0) {\n",
       "      console.debug(\"Bokeh: BokehJS is being loaded, scheduling callback at\", now());\n",
       "      return null;\n",
       "    }\n",
       "    if (js_urls.length === 0 && js_modules.length === 0 && Object.keys(js_exports).length === 0) {\n",
       "      run_callbacks();\n",
       "      return null;\n",
       "    }\n",
       "    if (!reloading) {\n",
       "      console.debug(\"Bokeh: BokehJS not loaded, scheduling load and callback at\", now());\n",
       "    }\n",
       "\n",
       "    function on_load() {\n",
       "      root._bokeh_is_loading--;\n",
       "      if (root._bokeh_is_loading === 0) {\n",
       "        console.debug(\"Bokeh: all BokehJS libraries/stylesheets loaded\");\n",
       "        run_callbacks()\n",
       "      }\n",
       "    }\n",
       "    window._bokeh_on_load = on_load\n",
       "\n",
       "    function on_error() {\n",
       "      console.error(\"failed to load \" + url);\n",
       "    }\n",
       "\n",
       "    var skip = [];\n",
       "    if (window.requirejs) {\n",
       "      window.requirejs.config({'packages': {}, 'paths': {'jspanel': 'https://cdn.jsdelivr.net/npm/jspanel4@4.12.0/dist/jspanel', 'jspanel-modal': 'https://cdn.jsdelivr.net/npm/jspanel4@4.12.0/dist/extensions/modal/jspanel.modal', 'jspanel-tooltip': 'https://cdn.jsdelivr.net/npm/jspanel4@4.12.0/dist/extensions/tooltip/jspanel.tooltip', 'jspanel-hint': 'https://cdn.jsdelivr.net/npm/jspanel4@4.12.0/dist/extensions/hint/jspanel.hint', 'jspanel-layout': 'https://cdn.jsdelivr.net/npm/jspanel4@4.12.0/dist/extensions/layout/jspanel.layout', 'jspanel-contextmenu': 'https://cdn.jsdelivr.net/npm/jspanel4@4.12.0/dist/extensions/contextmenu/jspanel.contextmenu', 'jspanel-dock': 'https://cdn.jsdelivr.net/npm/jspanel4@4.12.0/dist/extensions/dock/jspanel.dock', 'gridstack': 'https://cdn.jsdelivr.net/npm/gridstack@7.2.3/dist/gridstack-all', 'notyf': 'https://cdn.jsdelivr.net/npm/notyf@3/notyf.min'}, 'shim': {'jspanel': {'exports': 'jsPanel'}, 'gridstack': {'exports': 'GridStack'}}});\n",
       "      require([\"jspanel\"], function(jsPanel) {\n",
       "\twindow.jsPanel = jsPanel\n",
       "\ton_load()\n",
       "      })\n",
       "      require([\"jspanel-modal\"], function() {\n",
       "\ton_load()\n",
       "      })\n",
       "      require([\"jspanel-tooltip\"], function() {\n",
       "\ton_load()\n",
       "      })\n",
       "      require([\"jspanel-hint\"], function() {\n",
       "\ton_load()\n",
       "      })\n",
       "      require([\"jspanel-layout\"], function() {\n",
       "\ton_load()\n",
       "      })\n",
       "      require([\"jspanel-contextmenu\"], function() {\n",
       "\ton_load()\n",
       "      })\n",
       "      require([\"jspanel-dock\"], function() {\n",
       "\ton_load()\n",
       "      })\n",
       "      require([\"gridstack\"], function(GridStack) {\n",
       "\twindow.GridStack = GridStack\n",
       "\ton_load()\n",
       "      })\n",
       "      require([\"notyf\"], function() {\n",
       "\ton_load()\n",
       "      })\n",
       "      root._bokeh_is_loading = css_urls.length + 9;\n",
       "    } else {\n",
       "      root._bokeh_is_loading = css_urls.length + js_urls.length + js_modules.length + Object.keys(js_exports).length;\n",
       "    }\n",
       "\n",
       "    var existing_stylesheets = []\n",
       "    var links = document.getElementsByTagName('link')\n",
       "    for (var i = 0; i < links.length; i++) {\n",
       "      var link = links[i]\n",
       "      if (link.href != null) {\n",
       "\texisting_stylesheets.push(link.href)\n",
       "      }\n",
       "    }\n",
       "    for (var i = 0; i < css_urls.length; i++) {\n",
       "      var url = css_urls[i];\n",
       "      if (existing_stylesheets.indexOf(url) !== -1) {\n",
       "\ton_load()\n",
       "\tcontinue;\n",
       "      }\n",
       "      const element = document.createElement(\"link\");\n",
       "      element.onload = on_load;\n",
       "      element.onerror = on_error;\n",
       "      element.rel = \"stylesheet\";\n",
       "      element.type = \"text/css\";\n",
       "      element.href = url;\n",
       "      console.debug(\"Bokeh: injecting link tag for BokehJS stylesheet: \", url);\n",
       "      document.body.appendChild(element);\n",
       "    }    if (((window['jsPanel'] !== undefined) && (!(window['jsPanel'] instanceof HTMLElement))) || window.requirejs) {\n",
       "      var urls = ['https://cdn.holoviz.org/panel/1.2.1/dist/bundled/floatpanel/jspanel4@4.12.0/dist/jspanel.js', 'https://cdn.holoviz.org/panel/1.2.1/dist/bundled/floatpanel/jspanel4@4.12.0/dist/extensions/modal/jspanel.modal.js', 'https://cdn.holoviz.org/panel/1.2.1/dist/bundled/floatpanel/jspanel4@4.12.0/dist/extensions/tooltip/jspanel.tooltip.js', 'https://cdn.holoviz.org/panel/1.2.1/dist/bundled/floatpanel/jspanel4@4.12.0/dist/extensions/hint/jspanel.hint.js', 'https://cdn.holoviz.org/panel/1.2.1/dist/bundled/floatpanel/jspanel4@4.12.0/dist/extensions/layout/jspanel.layout.js', 'https://cdn.holoviz.org/panel/1.2.1/dist/bundled/floatpanel/jspanel4@4.12.0/dist/extensions/contextmenu/jspanel.contextmenu.js', 'https://cdn.holoviz.org/panel/1.2.1/dist/bundled/floatpanel/jspanel4@4.12.0/dist/extensions/dock/jspanel.dock.js'];\n",
       "      for (var i = 0; i < urls.length; i++) {\n",
       "        skip.push(urls[i])\n",
       "      }\n",
       "    }    if (((window['GridStack'] !== undefined) && (!(window['GridStack'] instanceof HTMLElement))) || window.requirejs) {\n",
       "      var urls = ['https://cdn.holoviz.org/panel/1.2.1/dist/bundled/gridstack/gridstack@7.2.3/dist/gridstack-all.js'];\n",
       "      for (var i = 0; i < urls.length; i++) {\n",
       "        skip.push(urls[i])\n",
       "      }\n",
       "    }    if (((window['Notyf'] !== undefined) && (!(window['Notyf'] instanceof HTMLElement))) || window.requirejs) {\n",
       "      var urls = ['https://cdn.holoviz.org/panel/1.2.1/dist/bundled/notificationarea/notyf@3/notyf.min.js'];\n",
       "      for (var i = 0; i < urls.length; i++) {\n",
       "        skip.push(urls[i])\n",
       "      }\n",
       "    }    var existing_scripts = []\n",
       "    var scripts = document.getElementsByTagName('script')\n",
       "    for (var i = 0; i < scripts.length; i++) {\n",
       "      var script = scripts[i]\n",
       "      if (script.src != null) {\n",
       "\texisting_scripts.push(script.src)\n",
       "      }\n",
       "    }\n",
       "    for (var i = 0; i < js_urls.length; i++) {\n",
       "      var url = js_urls[i];\n",
       "      if (skip.indexOf(url) !== -1 || existing_scripts.indexOf(url) !== -1) {\n",
       "\tif (!window.requirejs) {\n",
       "\t  on_load();\n",
       "\t}\n",
       "\tcontinue;\n",
       "      }\n",
       "      var element = document.createElement('script');\n",
       "      element.onload = on_load;\n",
       "      element.onerror = on_error;\n",
       "      element.async = false;\n",
       "      element.src = url;\n",
       "      console.debug(\"Bokeh: injecting script tag for BokehJS library: \", url);\n",
       "      document.head.appendChild(element);\n",
       "    }\n",
       "    for (var i = 0; i < js_modules.length; i++) {\n",
       "      var url = js_modules[i];\n",
       "      if (skip.indexOf(url) !== -1 || existing_scripts.indexOf(url) !== -1) {\n",
       "\tif (!window.requirejs) {\n",
       "\t  on_load();\n",
       "\t}\n",
       "\tcontinue;\n",
       "      }\n",
       "      var element = document.createElement('script');\n",
       "      element.onload = on_load;\n",
       "      element.onerror = on_error;\n",
       "      element.async = false;\n",
       "      element.src = url;\n",
       "      element.type = \"module\";\n",
       "      console.debug(\"Bokeh: injecting script tag for BokehJS library: \", url);\n",
       "      document.head.appendChild(element);\n",
       "    }\n",
       "    for (const name in js_exports) {\n",
       "      var url = js_exports[name];\n",
       "      if (skip.indexOf(url) >= 0 || root[name] != null) {\n",
       "\tif (!window.requirejs) {\n",
       "\t  on_load();\n",
       "\t}\n",
       "\tcontinue;\n",
       "      }\n",
       "      var element = document.createElement('script');\n",
       "      element.onerror = on_error;\n",
       "      element.async = false;\n",
       "      element.type = \"module\";\n",
       "      console.debug(\"Bokeh: injecting script tag for BokehJS library: \", url);\n",
       "      element.textContent = `\n",
       "      import ${name} from \"${url}\"\n",
       "      window.${name} = ${name}\n",
       "      window._bokeh_on_load()\n",
       "      `\n",
       "      document.head.appendChild(element);\n",
       "    }\n",
       "    if (!js_urls.length && !js_modules.length) {\n",
       "      on_load()\n",
       "    }\n",
       "  };\n",
       "\n",
       "  function inject_raw_css(css) {\n",
       "    const element = document.createElement(\"style\");\n",
       "    element.appendChild(document.createTextNode(css));\n",
       "    document.body.appendChild(element);\n",
       "  }\n",
       "\n",
       "  var js_urls = [];\n",
       "  var js_modules = [];\n",
       "  var js_exports = {};\n",
       "  var css_urls = [];\n",
       "  var inline_js = [    function(Bokeh) {\n",
       "      Bokeh.set_log_level(\"info\");\n",
       "    },\n",
       "function(Bokeh) {} // ensure no trailing comma for IE\n",
       "  ];\n",
       "\n",
       "  function run_inline_js() {\n",
       "    if ((root.Bokeh !== undefined) || (force === true)) {\n",
       "      for (var i = 0; i < inline_js.length; i++) {\n",
       "        inline_js[i].call(root, root.Bokeh);\n",
       "      }\n",
       "      // Cache old bokeh versions\n",
       "      if (Bokeh != undefined && !reloading) {\n",
       "\tvar NewBokeh = root.Bokeh;\n",
       "\tif (Bokeh.versions === undefined) {\n",
       "\t  Bokeh.versions = new Map();\n",
       "\t}\n",
       "\tif (NewBokeh.version !== Bokeh.version) {\n",
       "\t  Bokeh.versions.set(NewBokeh.version, NewBokeh)\n",
       "\t}\n",
       "\troot.Bokeh = Bokeh;\n",
       "      }} else if (Date.now() < root._bokeh_timeout) {\n",
       "      setTimeout(run_inline_js, 100);\n",
       "    } else if (!root._bokeh_failed_load) {\n",
       "      console.log(\"Bokeh: BokehJS failed to load within specified timeout.\");\n",
       "      root._bokeh_failed_load = true;\n",
       "    }\n",
       "    root._bokeh_is_initializing = false\n",
       "  }\n",
       "\n",
       "  function load_or_wait() {\n",
       "    // Implement a backoff loop that tries to ensure we do not load multiple\n",
       "    // versions of Bokeh and its dependencies at the same time.\n",
       "    // In recent versions we use the root._bokeh_is_initializing flag\n",
       "    // to determine whether there is an ongoing attempt to initialize\n",
       "    // bokeh, however for backward compatibility we also try to ensure\n",
       "    // that we do not start loading a newer (Panel>=1.0 and Bokeh>3) version\n",
       "    // before older versions are fully initialized.\n",
       "    if (root._bokeh_is_initializing && Date.now() > root._bokeh_timeout) {\n",
       "      root._bokeh_is_initializing = false;\n",
       "      root._bokeh_onload_callbacks = undefined;\n",
       "      console.log(\"Bokeh: BokehJS was loaded multiple times but one version failed to initialize.\");\n",
       "      load_or_wait();\n",
       "    } else if (root._bokeh_is_initializing || (typeof root._bokeh_is_initializing === \"undefined\" && root._bokeh_onload_callbacks !== undefined)) {\n",
       "      setTimeout(load_or_wait, 100);\n",
       "    } else {\n",
       "      Bokeh = root.Bokeh;\n",
       "      bokeh_loaded = Bokeh != null && (Bokeh.version === py_version || (Bokeh.versions !== undefined && Bokeh.versions.has(py_version)));\n",
       "      root._bokeh_is_initializing = true\n",
       "      root._bokeh_onload_callbacks = []\n",
       "      if (!reloading && (!bokeh_loaded || is_dev)) {\n",
       "\troot.Bokeh = undefined;\n",
       "      }\n",
       "      load_libs(css_urls, js_urls, js_modules, js_exports, function() {\n",
       "\tconsole.debug(\"Bokeh: BokehJS plotting callback run at\", now());\n",
       "\trun_inline_js();\n",
       "      });\n",
       "    }\n",
       "  }\n",
       "  // Give older versions of the autoload script a head-start to ensure\n",
       "  // they initialize before we start loading newer version.\n",
       "  setTimeout(load_or_wait, 100)\n",
       "}(window));"
      ],
      "application/vnd.holoviews_load.v0+json": "(function(root) {\n  function now() {\n    return new Date();\n  }\n\n  var force = true;\n  var py_version = '3.2.1'.replace('rc', '-rc.').replace('.dev', '-dev.');\n  var is_dev = py_version.indexOf(\"+\") !== -1 || py_version.indexOf(\"-\") !== -1;\n  var reloading = true;\n  var Bokeh = root.Bokeh;\n  var bokeh_loaded = Bokeh != null && (Bokeh.version === py_version || (Bokeh.versions !== undefined && Bokeh.versions.has(py_version)));\n\n  if (typeof (root._bokeh_timeout) === \"undefined\" || force) {\n    root._bokeh_timeout = Date.now() + 5000;\n    root._bokeh_failed_load = false;\n  }\n\n  function run_callbacks() {\n    try {\n      root._bokeh_onload_callbacks.forEach(function(callback) {\n        if (callback != null)\n          callback();\n      });\n    } finally {\n      delete root._bokeh_onload_callbacks;\n    }\n    console.debug(\"Bokeh: all callbacks have finished\");\n  }\n\n  function load_libs(css_urls, js_urls, js_modules, js_exports, callback) {\n    if (css_urls == null) css_urls = [];\n    if (js_urls == null) js_urls = [];\n    if (js_modules == null) js_modules = [];\n    if (js_exports == null) js_exports = {};\n\n    root._bokeh_onload_callbacks.push(callback);\n\n    if (root._bokeh_is_loading > 0) {\n      console.debug(\"Bokeh: BokehJS is being loaded, scheduling callback at\", now());\n      return null;\n    }\n    if (js_urls.length === 0 && js_modules.length === 0 && Object.keys(js_exports).length === 0) {\n      run_callbacks();\n      return null;\n    }\n    if (!reloading) {\n      console.debug(\"Bokeh: BokehJS not loaded, scheduling load and callback at\", now());\n    }\n\n    function on_load() {\n      root._bokeh_is_loading--;\n      if (root._bokeh_is_loading === 0) {\n        console.debug(\"Bokeh: all BokehJS libraries/stylesheets loaded\");\n        run_callbacks()\n      }\n    }\n    window._bokeh_on_load = on_load\n\n    function on_error() {\n      console.error(\"failed to load \" + url);\n    }\n\n    var skip = [];\n    if (window.requirejs) {\n      window.requirejs.config({'packages': {}, 'paths': {'jspanel': 'https://cdn.jsdelivr.net/npm/jspanel4@4.12.0/dist/jspanel', 'jspanel-modal': 'https://cdn.jsdelivr.net/npm/jspanel4@4.12.0/dist/extensions/modal/jspanel.modal', 'jspanel-tooltip': 'https://cdn.jsdelivr.net/npm/jspanel4@4.12.0/dist/extensions/tooltip/jspanel.tooltip', 'jspanel-hint': 'https://cdn.jsdelivr.net/npm/jspanel4@4.12.0/dist/extensions/hint/jspanel.hint', 'jspanel-layout': 'https://cdn.jsdelivr.net/npm/jspanel4@4.12.0/dist/extensions/layout/jspanel.layout', 'jspanel-contextmenu': 'https://cdn.jsdelivr.net/npm/jspanel4@4.12.0/dist/extensions/contextmenu/jspanel.contextmenu', 'jspanel-dock': 'https://cdn.jsdelivr.net/npm/jspanel4@4.12.0/dist/extensions/dock/jspanel.dock', 'gridstack': 'https://cdn.jsdelivr.net/npm/gridstack@7.2.3/dist/gridstack-all', 'notyf': 'https://cdn.jsdelivr.net/npm/notyf@3/notyf.min'}, 'shim': {'jspanel': {'exports': 'jsPanel'}, 'gridstack': {'exports': 'GridStack'}}});\n      require([\"jspanel\"], function(jsPanel) {\n\twindow.jsPanel = jsPanel\n\ton_load()\n      })\n      require([\"jspanel-modal\"], function() {\n\ton_load()\n      })\n      require([\"jspanel-tooltip\"], function() {\n\ton_load()\n      })\n      require([\"jspanel-hint\"], function() {\n\ton_load()\n      })\n      require([\"jspanel-layout\"], function() {\n\ton_load()\n      })\n      require([\"jspanel-contextmenu\"], function() {\n\ton_load()\n      })\n      require([\"jspanel-dock\"], function() {\n\ton_load()\n      })\n      require([\"gridstack\"], function(GridStack) {\n\twindow.GridStack = GridStack\n\ton_load()\n      })\n      require([\"notyf\"], function() {\n\ton_load()\n      })\n      root._bokeh_is_loading = css_urls.length + 9;\n    } else {\n      root._bokeh_is_loading = css_urls.length + js_urls.length + js_modules.length + Object.keys(js_exports).length;\n    }\n\n    var existing_stylesheets = []\n    var links = document.getElementsByTagName('link')\n    for (var i = 0; i < links.length; i++) {\n      var link = links[i]\n      if (link.href != null) {\n\texisting_stylesheets.push(link.href)\n      }\n    }\n    for (var i = 0; i < css_urls.length; i++) {\n      var url = css_urls[i];\n      if (existing_stylesheets.indexOf(url) !== -1) {\n\ton_load()\n\tcontinue;\n      }\n      const element = document.createElement(\"link\");\n      element.onload = on_load;\n      element.onerror = on_error;\n      element.rel = \"stylesheet\";\n      element.type = \"text/css\";\n      element.href = url;\n      console.debug(\"Bokeh: injecting link tag for BokehJS stylesheet: \", url);\n      document.body.appendChild(element);\n    }    if (((window['jsPanel'] !== undefined) && (!(window['jsPanel'] instanceof HTMLElement))) || window.requirejs) {\n      var urls = ['https://cdn.holoviz.org/panel/1.2.1/dist/bundled/floatpanel/jspanel4@4.12.0/dist/jspanel.js', 'https://cdn.holoviz.org/panel/1.2.1/dist/bundled/floatpanel/jspanel4@4.12.0/dist/extensions/modal/jspanel.modal.js', 'https://cdn.holoviz.org/panel/1.2.1/dist/bundled/floatpanel/jspanel4@4.12.0/dist/extensions/tooltip/jspanel.tooltip.js', 'https://cdn.holoviz.org/panel/1.2.1/dist/bundled/floatpanel/jspanel4@4.12.0/dist/extensions/hint/jspanel.hint.js', 'https://cdn.holoviz.org/panel/1.2.1/dist/bundled/floatpanel/jspanel4@4.12.0/dist/extensions/layout/jspanel.layout.js', 'https://cdn.holoviz.org/panel/1.2.1/dist/bundled/floatpanel/jspanel4@4.12.0/dist/extensions/contextmenu/jspanel.contextmenu.js', 'https://cdn.holoviz.org/panel/1.2.1/dist/bundled/floatpanel/jspanel4@4.12.0/dist/extensions/dock/jspanel.dock.js'];\n      for (var i = 0; i < urls.length; i++) {\n        skip.push(urls[i])\n      }\n    }    if (((window['GridStack'] !== undefined) && (!(window['GridStack'] instanceof HTMLElement))) || window.requirejs) {\n      var urls = ['https://cdn.holoviz.org/panel/1.2.1/dist/bundled/gridstack/gridstack@7.2.3/dist/gridstack-all.js'];\n      for (var i = 0; i < urls.length; i++) {\n        skip.push(urls[i])\n      }\n    }    if (((window['Notyf'] !== undefined) && (!(window['Notyf'] instanceof HTMLElement))) || window.requirejs) {\n      var urls = ['https://cdn.holoviz.org/panel/1.2.1/dist/bundled/notificationarea/notyf@3/notyf.min.js'];\n      for (var i = 0; i < urls.length; i++) {\n        skip.push(urls[i])\n      }\n    }    var existing_scripts = []\n    var scripts = document.getElementsByTagName('script')\n    for (var i = 0; i < scripts.length; i++) {\n      var script = scripts[i]\n      if (script.src != null) {\n\texisting_scripts.push(script.src)\n      }\n    }\n    for (var i = 0; i < js_urls.length; i++) {\n      var url = js_urls[i];\n      if (skip.indexOf(url) !== -1 || existing_scripts.indexOf(url) !== -1) {\n\tif (!window.requirejs) {\n\t  on_load();\n\t}\n\tcontinue;\n      }\n      var element = document.createElement('script');\n      element.onload = on_load;\n      element.onerror = on_error;\n      element.async = false;\n      element.src = url;\n      console.debug(\"Bokeh: injecting script tag for BokehJS library: \", url);\n      document.head.appendChild(element);\n    }\n    for (var i = 0; i < js_modules.length; i++) {\n      var url = js_modules[i];\n      if (skip.indexOf(url) !== -1 || existing_scripts.indexOf(url) !== -1) {\n\tif (!window.requirejs) {\n\t  on_load();\n\t}\n\tcontinue;\n      }\n      var element = document.createElement('script');\n      element.onload = on_load;\n      element.onerror = on_error;\n      element.async = false;\n      element.src = url;\n      element.type = \"module\";\n      console.debug(\"Bokeh: injecting script tag for BokehJS library: \", url);\n      document.head.appendChild(element);\n    }\n    for (const name in js_exports) {\n      var url = js_exports[name];\n      if (skip.indexOf(url) >= 0 || root[name] != null) {\n\tif (!window.requirejs) {\n\t  on_load();\n\t}\n\tcontinue;\n      }\n      var element = document.createElement('script');\n      element.onerror = on_error;\n      element.async = false;\n      element.type = \"module\";\n      console.debug(\"Bokeh: injecting script tag for BokehJS library: \", url);\n      element.textContent = `\n      import ${name} from \"${url}\"\n      window.${name} = ${name}\n      window._bokeh_on_load()\n      `\n      document.head.appendChild(element);\n    }\n    if (!js_urls.length && !js_modules.length) {\n      on_load()\n    }\n  };\n\n  function inject_raw_css(css) {\n    const element = document.createElement(\"style\");\n    element.appendChild(document.createTextNode(css));\n    document.body.appendChild(element);\n  }\n\n  var js_urls = [];\n  var js_modules = [];\n  var js_exports = {};\n  var css_urls = [];\n  var inline_js = [    function(Bokeh) {\n      Bokeh.set_log_level(\"info\");\n    },\nfunction(Bokeh) {} // ensure no trailing comma for IE\n  ];\n\n  function run_inline_js() {\n    if ((root.Bokeh !== undefined) || (force === true)) {\n      for (var i = 0; i < inline_js.length; i++) {\n        inline_js[i].call(root, root.Bokeh);\n      }\n      // Cache old bokeh versions\n      if (Bokeh != undefined && !reloading) {\n\tvar NewBokeh = root.Bokeh;\n\tif (Bokeh.versions === undefined) {\n\t  Bokeh.versions = new Map();\n\t}\n\tif (NewBokeh.version !== Bokeh.version) {\n\t  Bokeh.versions.set(NewBokeh.version, NewBokeh)\n\t}\n\troot.Bokeh = Bokeh;\n      }} else if (Date.now() < root._bokeh_timeout) {\n      setTimeout(run_inline_js, 100);\n    } else if (!root._bokeh_failed_load) {\n      console.log(\"Bokeh: BokehJS failed to load within specified timeout.\");\n      root._bokeh_failed_load = true;\n    }\n    root._bokeh_is_initializing = false\n  }\n\n  function load_or_wait() {\n    // Implement a backoff loop that tries to ensure we do not load multiple\n    // versions of Bokeh and its dependencies at the same time.\n    // In recent versions we use the root._bokeh_is_initializing flag\n    // to determine whether there is an ongoing attempt to initialize\n    // bokeh, however for backward compatibility we also try to ensure\n    // that we do not start loading a newer (Panel>=1.0 and Bokeh>3) version\n    // before older versions are fully initialized.\n    if (root._bokeh_is_initializing && Date.now() > root._bokeh_timeout) {\n      root._bokeh_is_initializing = false;\n      root._bokeh_onload_callbacks = undefined;\n      console.log(\"Bokeh: BokehJS was loaded multiple times but one version failed to initialize.\");\n      load_or_wait();\n    } else if (root._bokeh_is_initializing || (typeof root._bokeh_is_initializing === \"undefined\" && root._bokeh_onload_callbacks !== undefined)) {\n      setTimeout(load_or_wait, 100);\n    } else {\n      Bokeh = root.Bokeh;\n      bokeh_loaded = Bokeh != null && (Bokeh.version === py_version || (Bokeh.versions !== undefined && Bokeh.versions.has(py_version)));\n      root._bokeh_is_initializing = true\n      root._bokeh_onload_callbacks = []\n      if (!reloading && (!bokeh_loaded || is_dev)) {\n\troot.Bokeh = undefined;\n      }\n      load_libs(css_urls, js_urls, js_modules, js_exports, function() {\n\tconsole.debug(\"Bokeh: BokehJS plotting callback run at\", now());\n\trun_inline_js();\n      });\n    }\n  }\n  // Give older versions of the autoload script a head-start to ensure\n  // they initialize before we start loading newer version.\n  setTimeout(load_or_wait, 100)\n}(window));"
     },
     "metadata": {},
     "output_type": "display_data"
    },
    {
     "data": {
      "application/javascript": [
       "\n",
       "if ((window.PyViz === undefined) || (window.PyViz instanceof HTMLElement)) {\n",
       "  window.PyViz = {comms: {}, comm_status:{}, kernels:{}, receivers: {}, plot_index: []}\n",
       "}\n",
       "\n",
       "\n",
       "    function JupyterCommManager() {\n",
       "    }\n",
       "\n",
       "    JupyterCommManager.prototype.register_target = function(plot_id, comm_id, msg_handler) {\n",
       "      if (window.comm_manager || ((window.Jupyter !== undefined) && (Jupyter.notebook.kernel != null))) {\n",
       "        var comm_manager = window.comm_manager || Jupyter.notebook.kernel.comm_manager;\n",
       "        comm_manager.register_target(comm_id, function(comm) {\n",
       "          comm.on_msg(msg_handler);\n",
       "        });\n",
       "      } else if ((plot_id in window.PyViz.kernels) && (window.PyViz.kernels[plot_id])) {\n",
       "        window.PyViz.kernels[plot_id].registerCommTarget(comm_id, function(comm) {\n",
       "          comm.onMsg = msg_handler;\n",
       "        });\n",
       "      } else if (typeof google != 'undefined' && google.colab.kernel != null) {\n",
       "        google.colab.kernel.comms.registerTarget(comm_id, (comm) => {\n",
       "          var messages = comm.messages[Symbol.asyncIterator]();\n",
       "          function processIteratorResult(result) {\n",
       "            var message = result.value;\n",
       "            console.log(message)\n",
       "            var content = {data: message.data, comm_id};\n",
       "            var buffers = []\n",
       "            for (var buffer of message.buffers || []) {\n",
       "              buffers.push(new DataView(buffer))\n",
       "            }\n",
       "            var metadata = message.metadata || {};\n",
       "            var msg = {content, buffers, metadata}\n",
       "            msg_handler(msg);\n",
       "            return messages.next().then(processIteratorResult);\n",
       "          }\n",
       "          return messages.next().then(processIteratorResult);\n",
       "        })\n",
       "      }\n",
       "    }\n",
       "\n",
       "    JupyterCommManager.prototype.get_client_comm = function(plot_id, comm_id, msg_handler) {\n",
       "      if (comm_id in window.PyViz.comms) {\n",
       "        return window.PyViz.comms[comm_id];\n",
       "      } else if (window.comm_manager || ((window.Jupyter !== undefined) && (Jupyter.notebook.kernel != null))) {\n",
       "        var comm_manager = window.comm_manager || Jupyter.notebook.kernel.comm_manager;\n",
       "        var comm = comm_manager.new_comm(comm_id, {}, {}, {}, comm_id);\n",
       "        if (msg_handler) {\n",
       "          comm.on_msg(msg_handler);\n",
       "        }\n",
       "      } else if ((plot_id in window.PyViz.kernels) && (window.PyViz.kernels[plot_id])) {\n",
       "        var comm = window.PyViz.kernels[plot_id].connectToComm(comm_id);\n",
       "        comm.open();\n",
       "        if (msg_handler) {\n",
       "          comm.onMsg = msg_handler;\n",
       "        }\n",
       "      } else if (typeof google != 'undefined' && google.colab.kernel != null) {\n",
       "        var comm_promise = google.colab.kernel.comms.open(comm_id)\n",
       "        comm_promise.then((comm) => {\n",
       "          window.PyViz.comms[comm_id] = comm;\n",
       "          if (msg_handler) {\n",
       "            var messages = comm.messages[Symbol.asyncIterator]();\n",
       "            function processIteratorResult(result) {\n",
       "              var message = result.value;\n",
       "              var content = {data: message.data};\n",
       "              var metadata = message.metadata || {comm_id};\n",
       "              var msg = {content, metadata}\n",
       "              msg_handler(msg);\n",
       "              return messages.next().then(processIteratorResult);\n",
       "            }\n",
       "            return messages.next().then(processIteratorResult);\n",
       "          }\n",
       "        }) \n",
       "        var sendClosure = (data, metadata, buffers, disposeOnDone) => {\n",
       "          return comm_promise.then((comm) => {\n",
       "            comm.send(data, metadata, buffers, disposeOnDone);\n",
       "          });\n",
       "        };\n",
       "        var comm = {\n",
       "          send: sendClosure\n",
       "        };\n",
       "      }\n",
       "      window.PyViz.comms[comm_id] = comm;\n",
       "      return comm;\n",
       "    }\n",
       "    window.PyViz.comm_manager = new JupyterCommManager();\n",
       "    \n",
       "\n",
       "\n",
       "var JS_MIME_TYPE = 'application/javascript';\n",
       "var HTML_MIME_TYPE = 'text/html';\n",
       "var EXEC_MIME_TYPE = 'application/vnd.holoviews_exec.v0+json';\n",
       "var CLASS_NAME = 'output';\n",
       "\n",
       "/**\n",
       " * Render data to the DOM node\n",
       " */\n",
       "function render(props, node) {\n",
       "  var div = document.createElement(\"div\");\n",
       "  var script = document.createElement(\"script\");\n",
       "  node.appendChild(div);\n",
       "  node.appendChild(script);\n",
       "}\n",
       "\n",
       "/**\n",
       " * Handle when a new output is added\n",
       " */\n",
       "function handle_add_output(event, handle) {\n",
       "  var output_area = handle.output_area;\n",
       "  var output = handle.output;\n",
       "  if ((output.data == undefined) || (!output.data.hasOwnProperty(EXEC_MIME_TYPE))) {\n",
       "    return\n",
       "  }\n",
       "  var id = output.metadata[EXEC_MIME_TYPE][\"id\"];\n",
       "  var toinsert = output_area.element.find(\".\" + CLASS_NAME.split(' ')[0]);\n",
       "  if (id !== undefined) {\n",
       "    var nchildren = toinsert.length;\n",
       "    var html_node = toinsert[nchildren-1].children[0];\n",
       "    html_node.innerHTML = output.data[HTML_MIME_TYPE];\n",
       "    var scripts = [];\n",
       "    var nodelist = html_node.querySelectorAll(\"script\");\n",
       "    for (var i in nodelist) {\n",
       "      if (nodelist.hasOwnProperty(i)) {\n",
       "        scripts.push(nodelist[i])\n",
       "      }\n",
       "    }\n",
       "\n",
       "    scripts.forEach( function (oldScript) {\n",
       "      var newScript = document.createElement(\"script\");\n",
       "      var attrs = [];\n",
       "      var nodemap = oldScript.attributes;\n",
       "      for (var j in nodemap) {\n",
       "        if (nodemap.hasOwnProperty(j)) {\n",
       "          attrs.push(nodemap[j])\n",
       "        }\n",
       "      }\n",
       "      attrs.forEach(function(attr) { newScript.setAttribute(attr.name, attr.value) });\n",
       "      newScript.appendChild(document.createTextNode(oldScript.innerHTML));\n",
       "      oldScript.parentNode.replaceChild(newScript, oldScript);\n",
       "    });\n",
       "    if (JS_MIME_TYPE in output.data) {\n",
       "      toinsert[nchildren-1].children[1].textContent = output.data[JS_MIME_TYPE];\n",
       "    }\n",
       "    output_area._hv_plot_id = id;\n",
       "    if ((window.Bokeh !== undefined) && (id in Bokeh.index)) {\n",
       "      window.PyViz.plot_index[id] = Bokeh.index[id];\n",
       "    } else {\n",
       "      window.PyViz.plot_index[id] = null;\n",
       "    }\n",
       "  } else if (output.metadata[EXEC_MIME_TYPE][\"server_id\"] !== undefined) {\n",
       "    var bk_div = document.createElement(\"div\");\n",
       "    bk_div.innerHTML = output.data[HTML_MIME_TYPE];\n",
       "    var script_attrs = bk_div.children[0].attributes;\n",
       "    for (var i = 0; i < script_attrs.length; i++) {\n",
       "      toinsert[toinsert.length - 1].childNodes[1].setAttribute(script_attrs[i].name, script_attrs[i].value);\n",
       "    }\n",
       "    // store reference to server id on output_area\n",
       "    output_area._bokeh_server_id = output.metadata[EXEC_MIME_TYPE][\"server_id\"];\n",
       "  }\n",
       "}\n",
       "\n",
       "/**\n",
       " * Handle when an output is cleared or removed\n",
       " */\n",
       "function handle_clear_output(event, handle) {\n",
       "  var id = handle.cell.output_area._hv_plot_id;\n",
       "  var server_id = handle.cell.output_area._bokeh_server_id;\n",
       "  if (((id === undefined) || !(id in PyViz.plot_index)) && (server_id !== undefined)) { return; }\n",
       "  var comm = window.PyViz.comm_manager.get_client_comm(\"hv-extension-comm\", \"hv-extension-comm\", function () {});\n",
       "  if (server_id !== null) {\n",
       "    comm.send({event_type: 'server_delete', 'id': server_id});\n",
       "    return;\n",
       "  } else if (comm !== null) {\n",
       "    comm.send({event_type: 'delete', 'id': id});\n",
       "  }\n",
       "  delete PyViz.plot_index[id];\n",
       "  if ((window.Bokeh !== undefined) & (id in window.Bokeh.index)) {\n",
       "    var doc = window.Bokeh.index[id].model.document\n",
       "    doc.clear();\n",
       "    const i = window.Bokeh.documents.indexOf(doc);\n",
       "    if (i > -1) {\n",
       "      window.Bokeh.documents.splice(i, 1);\n",
       "    }\n",
       "  }\n",
       "}\n",
       "\n",
       "/**\n",
       " * Handle kernel restart event\n",
       " */\n",
       "function handle_kernel_cleanup(event, handle) {\n",
       "  delete PyViz.comms[\"hv-extension-comm\"];\n",
       "  window.PyViz.plot_index = {}\n",
       "}\n",
       "\n",
       "/**\n",
       " * Handle update_display_data messages\n",
       " */\n",
       "function handle_update_output(event, handle) {\n",
       "  handle_clear_output(event, {cell: {output_area: handle.output_area}})\n",
       "  handle_add_output(event, handle)\n",
       "}\n",
       "\n",
       "function register_renderer(events, OutputArea) {\n",
       "  function append_mime(data, metadata, element) {\n",
       "    // create a DOM node to render to\n",
       "    var toinsert = this.create_output_subarea(\n",
       "    metadata,\n",
       "    CLASS_NAME,\n",
       "    EXEC_MIME_TYPE\n",
       "    );\n",
       "    this.keyboard_manager.register_events(toinsert);\n",
       "    // Render to node\n",
       "    var props = {data: data, metadata: metadata[EXEC_MIME_TYPE]};\n",
       "    render(props, toinsert[0]);\n",
       "    element.append(toinsert);\n",
       "    return toinsert\n",
       "  }\n",
       "\n",
       "  events.on('output_added.OutputArea', handle_add_output);\n",
       "  events.on('output_updated.OutputArea', handle_update_output);\n",
       "  events.on('clear_output.CodeCell', handle_clear_output);\n",
       "  events.on('delete.Cell', handle_clear_output);\n",
       "  events.on('kernel_ready.Kernel', handle_kernel_cleanup);\n",
       "\n",
       "  OutputArea.prototype.register_mime_type(EXEC_MIME_TYPE, append_mime, {\n",
       "    safe: true,\n",
       "    index: 0\n",
       "  });\n",
       "}\n",
       "\n",
       "if (window.Jupyter !== undefined) {\n",
       "  try {\n",
       "    var events = require('base/js/events');\n",
       "    var OutputArea = require('notebook/js/outputarea').OutputArea;\n",
       "    if (OutputArea.prototype.mime_types().indexOf(EXEC_MIME_TYPE) == -1) {\n",
       "      register_renderer(events, OutputArea);\n",
       "    }\n",
       "  } catch(err) {\n",
       "  }\n",
       "}\n"
      ],
      "application/vnd.holoviews_load.v0+json": "\nif ((window.PyViz === undefined) || (window.PyViz instanceof HTMLElement)) {\n  window.PyViz = {comms: {}, comm_status:{}, kernels:{}, receivers: {}, plot_index: []}\n}\n\n\n    function JupyterCommManager() {\n    }\n\n    JupyterCommManager.prototype.register_target = function(plot_id, comm_id, msg_handler) {\n      if (window.comm_manager || ((window.Jupyter !== undefined) && (Jupyter.notebook.kernel != null))) {\n        var comm_manager = window.comm_manager || Jupyter.notebook.kernel.comm_manager;\n        comm_manager.register_target(comm_id, function(comm) {\n          comm.on_msg(msg_handler);\n        });\n      } else if ((plot_id in window.PyViz.kernels) && (window.PyViz.kernels[plot_id])) {\n        window.PyViz.kernels[plot_id].registerCommTarget(comm_id, function(comm) {\n          comm.onMsg = msg_handler;\n        });\n      } else if (typeof google != 'undefined' && google.colab.kernel != null) {\n        google.colab.kernel.comms.registerTarget(comm_id, (comm) => {\n          var messages = comm.messages[Symbol.asyncIterator]();\n          function processIteratorResult(result) {\n            var message = result.value;\n            console.log(message)\n            var content = {data: message.data, comm_id};\n            var buffers = []\n            for (var buffer of message.buffers || []) {\n              buffers.push(new DataView(buffer))\n            }\n            var metadata = message.metadata || {};\n            var msg = {content, buffers, metadata}\n            msg_handler(msg);\n            return messages.next().then(processIteratorResult);\n          }\n          return messages.next().then(processIteratorResult);\n        })\n      }\n    }\n\n    JupyterCommManager.prototype.get_client_comm = function(plot_id, comm_id, msg_handler) {\n      if (comm_id in window.PyViz.comms) {\n        return window.PyViz.comms[comm_id];\n      } else if (window.comm_manager || ((window.Jupyter !== undefined) && (Jupyter.notebook.kernel != null))) {\n        var comm_manager = window.comm_manager || Jupyter.notebook.kernel.comm_manager;\n        var comm = comm_manager.new_comm(comm_id, {}, {}, {}, comm_id);\n        if (msg_handler) {\n          comm.on_msg(msg_handler);\n        }\n      } else if ((plot_id in window.PyViz.kernels) && (window.PyViz.kernels[plot_id])) {\n        var comm = window.PyViz.kernels[plot_id].connectToComm(comm_id);\n        comm.open();\n        if (msg_handler) {\n          comm.onMsg = msg_handler;\n        }\n      } else if (typeof google != 'undefined' && google.colab.kernel != null) {\n        var comm_promise = google.colab.kernel.comms.open(comm_id)\n        comm_promise.then((comm) => {\n          window.PyViz.comms[comm_id] = comm;\n          if (msg_handler) {\n            var messages = comm.messages[Symbol.asyncIterator]();\n            function processIteratorResult(result) {\n              var message = result.value;\n              var content = {data: message.data};\n              var metadata = message.metadata || {comm_id};\n              var msg = {content, metadata}\n              msg_handler(msg);\n              return messages.next().then(processIteratorResult);\n            }\n            return messages.next().then(processIteratorResult);\n          }\n        }) \n        var sendClosure = (data, metadata, buffers, disposeOnDone) => {\n          return comm_promise.then((comm) => {\n            comm.send(data, metadata, buffers, disposeOnDone);\n          });\n        };\n        var comm = {\n          send: sendClosure\n        };\n      }\n      window.PyViz.comms[comm_id] = comm;\n      return comm;\n    }\n    window.PyViz.comm_manager = new JupyterCommManager();\n    \n\n\nvar JS_MIME_TYPE = 'application/javascript';\nvar HTML_MIME_TYPE = 'text/html';\nvar EXEC_MIME_TYPE = 'application/vnd.holoviews_exec.v0+json';\nvar CLASS_NAME = 'output';\n\n/**\n * Render data to the DOM node\n */\nfunction render(props, node) {\n  var div = document.createElement(\"div\");\n  var script = document.createElement(\"script\");\n  node.appendChild(div);\n  node.appendChild(script);\n}\n\n/**\n * Handle when a new output is added\n */\nfunction handle_add_output(event, handle) {\n  var output_area = handle.output_area;\n  var output = handle.output;\n  if ((output.data == undefined) || (!output.data.hasOwnProperty(EXEC_MIME_TYPE))) {\n    return\n  }\n  var id = output.metadata[EXEC_MIME_TYPE][\"id\"];\n  var toinsert = output_area.element.find(\".\" + CLASS_NAME.split(' ')[0]);\n  if (id !== undefined) {\n    var nchildren = toinsert.length;\n    var html_node = toinsert[nchildren-1].children[0];\n    html_node.innerHTML = output.data[HTML_MIME_TYPE];\n    var scripts = [];\n    var nodelist = html_node.querySelectorAll(\"script\");\n    for (var i in nodelist) {\n      if (nodelist.hasOwnProperty(i)) {\n        scripts.push(nodelist[i])\n      }\n    }\n\n    scripts.forEach( function (oldScript) {\n      var newScript = document.createElement(\"script\");\n      var attrs = [];\n      var nodemap = oldScript.attributes;\n      for (var j in nodemap) {\n        if (nodemap.hasOwnProperty(j)) {\n          attrs.push(nodemap[j])\n        }\n      }\n      attrs.forEach(function(attr) { newScript.setAttribute(attr.name, attr.value) });\n      newScript.appendChild(document.createTextNode(oldScript.innerHTML));\n      oldScript.parentNode.replaceChild(newScript, oldScript);\n    });\n    if (JS_MIME_TYPE in output.data) {\n      toinsert[nchildren-1].children[1].textContent = output.data[JS_MIME_TYPE];\n    }\n    output_area._hv_plot_id = id;\n    if ((window.Bokeh !== undefined) && (id in Bokeh.index)) {\n      window.PyViz.plot_index[id] = Bokeh.index[id];\n    } else {\n      window.PyViz.plot_index[id] = null;\n    }\n  } else if (output.metadata[EXEC_MIME_TYPE][\"server_id\"] !== undefined) {\n    var bk_div = document.createElement(\"div\");\n    bk_div.innerHTML = output.data[HTML_MIME_TYPE];\n    var script_attrs = bk_div.children[0].attributes;\n    for (var i = 0; i < script_attrs.length; i++) {\n      toinsert[toinsert.length - 1].childNodes[1].setAttribute(script_attrs[i].name, script_attrs[i].value);\n    }\n    // store reference to server id on output_area\n    output_area._bokeh_server_id = output.metadata[EXEC_MIME_TYPE][\"server_id\"];\n  }\n}\n\n/**\n * Handle when an output is cleared or removed\n */\nfunction handle_clear_output(event, handle) {\n  var id = handle.cell.output_area._hv_plot_id;\n  var server_id = handle.cell.output_area._bokeh_server_id;\n  if (((id === undefined) || !(id in PyViz.plot_index)) && (server_id !== undefined)) { return; }\n  var comm = window.PyViz.comm_manager.get_client_comm(\"hv-extension-comm\", \"hv-extension-comm\", function () {});\n  if (server_id !== null) {\n    comm.send({event_type: 'server_delete', 'id': server_id});\n    return;\n  } else if (comm !== null) {\n    comm.send({event_type: 'delete', 'id': id});\n  }\n  delete PyViz.plot_index[id];\n  if ((window.Bokeh !== undefined) & (id in window.Bokeh.index)) {\n    var doc = window.Bokeh.index[id].model.document\n    doc.clear();\n    const i = window.Bokeh.documents.indexOf(doc);\n    if (i > -1) {\n      window.Bokeh.documents.splice(i, 1);\n    }\n  }\n}\n\n/**\n * Handle kernel restart event\n */\nfunction handle_kernel_cleanup(event, handle) {\n  delete PyViz.comms[\"hv-extension-comm\"];\n  window.PyViz.plot_index = {}\n}\n\n/**\n * Handle update_display_data messages\n */\nfunction handle_update_output(event, handle) {\n  handle_clear_output(event, {cell: {output_area: handle.output_area}})\n  handle_add_output(event, handle)\n}\n\nfunction register_renderer(events, OutputArea) {\n  function append_mime(data, metadata, element) {\n    // create a DOM node to render to\n    var toinsert = this.create_output_subarea(\n    metadata,\n    CLASS_NAME,\n    EXEC_MIME_TYPE\n    );\n    this.keyboard_manager.register_events(toinsert);\n    // Render to node\n    var props = {data: data, metadata: metadata[EXEC_MIME_TYPE]};\n    render(props, toinsert[0]);\n    element.append(toinsert);\n    return toinsert\n  }\n\n  events.on('output_added.OutputArea', handle_add_output);\n  events.on('output_updated.OutputArea', handle_update_output);\n  events.on('clear_output.CodeCell', handle_clear_output);\n  events.on('delete.Cell', handle_clear_output);\n  events.on('kernel_ready.Kernel', handle_kernel_cleanup);\n\n  OutputArea.prototype.register_mime_type(EXEC_MIME_TYPE, append_mime, {\n    safe: true,\n    index: 0\n  });\n}\n\nif (window.Jupyter !== undefined) {\n  try {\n    var events = require('base/js/events');\n    var OutputArea = require('notebook/js/outputarea').OutputArea;\n    if (OutputArea.prototype.mime_types().indexOf(EXEC_MIME_TYPE) == -1) {\n      register_renderer(events, OutputArea);\n    }\n  } catch(err) {\n  }\n}\n"
     },
     "metadata": {},
     "output_type": "display_data"
    },
    {
     "data": {
      "text/html": [
       "<style>*[data-root-id],\n",
       "*[data-root-id] > * {\n",
       "  box-sizing: border-box;\n",
       "  font-family: var(--jp-ui-font-family);\n",
       "  font-size: var(--jp-ui-font-size1);\n",
       "  color: var(--vscode-editor-foreground, var(--jp-ui-font-color1));\n",
       "}\n",
       "\n",
       "/* Override VSCode background color */\n",
       ".cell-output-ipywidget-background:has(\n",
       "    > .cell-output-ipywidget-background > .lm-Widget > *[data-root-id]\n",
       "  ),\n",
       ".cell-output-ipywidget-background:has(> .lm-Widget > *[data-root-id]) {\n",
       "  background-color: transparent !important;\n",
       "}\n",
       "</style>"
      ]
     },
     "metadata": {},
     "output_type": "display_data"
    }
   ],
   "source": [
    "# To handle data\n",
    "import pandas as pd\n",
    "\n",
    "# To make visualizations\n",
    "import hvplot.pandas\n",
    "import panel as pn; pn.extension()\n",
    "\n",
    "from psycopg2 import OperationalError\n",
    "from psycopg2.extras import DictCursor # NamedTupleCursor\n",
    "import psycopg2"
   ]
  },
  {
   "cell_type": "code",
   "execution_count": 364,
   "id": "ca2f745b-ce5c-4de5-9e92-b1933508d050",
   "metadata": {
    "tags": []
   },
   "outputs": [],
   "source": [
    "def create_connection(db_name, db_user, db_password, db_host, db_port):\n",
    "    connection = None\n",
    "    try:\n",
    "        connection = psycopg2.connect(\n",
    "            database=db_name,\n",
    "            user=db_user,\n",
    "            password=db_password,\n",
    "            host=db_host,\n",
    "            port=db_port,\n",
    "        )\n",
    "        print(\"Connection to PostgreSQL DB successful\")\n",
    "    except OperationalError as e:\n",
    "        print(f\"The error '{e}' occurred\")\n",
    "    return connection"
   ]
  },
  {
   "cell_type": "markdown",
   "id": "4565a716-448f-4c62-9944-69ee9a70650e",
   "metadata": {},
   "source": [
    "# Retention of legislators from the start of the first term"
   ]
  },
  {
   "cell_type": "code",
   "execution_count": 365,
   "id": "a69efaf3-aeef-4b80-b20b-0809533389dd",
   "metadata": {
    "tags": []
   },
   "outputs": [
    {
     "name": "stdout",
     "output_type": "stream",
     "text": [
      "Connection to PostgreSQL DB successful\n"
     ]
    },
    {
     "data": {
      "text/plain": [
       "[0.0, 12518, 12518, Decimal('100.0000000000000000')]"
      ]
     },
     "execution_count": 365,
     "metadata": {},
     "output_type": "execute_result"
    }
   ],
   "source": [
    "connection = create_connection(db_name, db_user, db_password, db_host, db_port)\n",
    "\n",
    "cursor = connection.cursor(cursor_factory=DictCursor)  \n",
    "# from psycopg2.extras import NamedTupleCursor | cursor_factory=NamedTupleCursor\n",
    "\n",
    "# Getting table values retail_sales\n",
    "cursor.execute(\"\"\"\n",
    "SELECT period\n",
    ",first_value(cohort_retained) over (order by period) as cohort_size\n",
    ",cohort_retained\n",
    ",cohort_retained * 100.0 / first_value(cohort_retained) over (order by period) as pct_retained\n",
    "FROM\n",
    "(\n",
    "        SELECT date_part('year',age(b.term_start,a.first_term)) as period\n",
    "        ,count(distinct a.id_bioguide) as cohort_retained\n",
    "        FROM\n",
    "        (\n",
    "                SELECT id_bioguide\n",
    "                ,min(term_start) as first_term\n",
    "                FROM legislators_terms \n",
    "                GROUP BY 1\n",
    "        ) a\n",
    "        JOIN legislators_terms b on a.id_bioguide = b.id_bioguide \n",
    "        GROUP BY 1\n",
    ") aa\n",
    ";\n",
    "\"\"\")\n",
    "data = cursor.fetchall()\n",
    "cursor.close()  # Close the cursor\n",
    "connection.close()  # We close the connection\n",
    "data[0]"
   ]
  },
  {
   "cell_type": "code",
   "execution_count": 366,
   "id": "ac5588c3-2bfb-406f-b9e4-c693b6d94aaa",
   "metadata": {
    "tags": []
   },
   "outputs": [
    {
     "data": {
      "text/html": [
       "<div>\n",
       "<style scoped>\n",
       "    .dataframe tbody tr th:only-of-type {\n",
       "        vertical-align: middle;\n",
       "    }\n",
       "\n",
       "    .dataframe tbody tr th {\n",
       "        vertical-align: top;\n",
       "    }\n",
       "\n",
       "    .dataframe thead th {\n",
       "        text-align: right;\n",
       "    }\n",
       "</style>\n",
       "<table border=\"1\" class=\"dataframe\">\n",
       "  <thead>\n",
       "    <tr style=\"text-align: right;\">\n",
       "      <th></th>\n",
       "      <th>period</th>\n",
       "      <th>cohort_size</th>\n",
       "      <th>cohort_retained</th>\n",
       "      <th>pct_retained</th>\n",
       "    </tr>\n",
       "  </thead>\n",
       "  <tbody>\n",
       "    <tr>\n",
       "      <th>0</th>\n",
       "      <td>0.0</td>\n",
       "      <td>12518</td>\n",
       "      <td>12518</td>\n",
       "      <td>100.0000000000000000</td>\n",
       "    </tr>\n",
       "    <tr>\n",
       "      <th>1</th>\n",
       "      <td>1.0</td>\n",
       "      <td>12518</td>\n",
       "      <td>3600</td>\n",
       "      <td>28.7585876338073175</td>\n",
       "    </tr>\n",
       "    <tr>\n",
       "      <th>2</th>\n",
       "      <td>2.0</td>\n",
       "      <td>12518</td>\n",
       "      <td>3619</td>\n",
       "      <td>28.9103690685413005</td>\n",
       "    </tr>\n",
       "    <tr>\n",
       "      <th>3</th>\n",
       "      <td>3.0</td>\n",
       "      <td>12518</td>\n",
       "      <td>1831</td>\n",
       "      <td>14.6269372104169995</td>\n",
       "    </tr>\n",
       "    <tr>\n",
       "      <th>4</th>\n",
       "      <td>4.0</td>\n",
       "      <td>12518</td>\n",
       "      <td>3210</td>\n",
       "      <td>25.6430739734781914</td>\n",
       "    </tr>\n",
       "  </tbody>\n",
       "</table>\n",
       "</div>"
      ],
      "text/plain": [
       "   period  cohort_size  cohort_retained          pct_retained\n",
       "0     0.0        12518            12518  100.0000000000000000\n",
       "1     1.0        12518             3600   28.7585876338073175\n",
       "2     2.0        12518             3619   28.9103690685413005\n",
       "3     3.0        12518             1831   14.6269372104169995\n",
       "4     4.0        12518             3210   25.6430739734781914"
      ]
     },
     "execution_count": 366,
     "metadata": {},
     "output_type": "execute_result"
    }
   ],
   "source": [
    "# Let's convert to DataFrame\n",
    "data = pd.DataFrame(data, columns=['period', 'cohort_size', 'cohort_retained', 'pct_retained'])\n",
    "data.head()"
   ]
  },
  {
   "cell_type": "code",
   "execution_count": 367,
   "id": "c48923a2-02b9-4228-ab00-cbc5f9789823",
   "metadata": {
    "tags": []
   },
   "outputs": [
    {
     "data": {
      "text/plain": [
       "period               int64\n",
       "cohort_size          int64\n",
       "cohort_retained      int64\n",
       "pct_retained       float64\n",
       "dtype: object"
      ]
     },
     "execution_count": 367,
     "metadata": {},
     "output_type": "execute_result"
    }
   ],
   "source": [
    "data['period'] = data['period'].astype('int')\n",
    "data['pct_retained'] = data['pct_retained'].astype('float')\n",
    "data.dtypes"
   ]
  },
  {
   "cell_type": "code",
   "execution_count": 368,
   "id": "80c189d2-b640-4ae7-b711-e5fe1805644b",
   "metadata": {
    "tags": []
   },
   "outputs": [
    {
     "data": {},
     "metadata": {},
     "output_type": "display_data"
    },
    {
     "data": {
      "application/vnd.holoviews_exec.v0+json": "",
      "text/html": [
       "<div id='b4b9d271-f1f3-4e58-9aa0-89ac705ff62f'>\n",
       "  <div id=\"aea332ee-8020-4318-8d21-8ae611f8608d\" data-root-id=\"b4b9d271-f1f3-4e58-9aa0-89ac705ff62f\" style=\"display: contents;\"></div>\n",
       "</div>\n",
       "<script type=\"application/javascript\">(function(root) {\n",
       "  var docs_json = {\"3236a082-8c06-461e-989f-3ff72344eb92\":{\"version\":\"3.2.1\",\"title\":\"Bokeh Application\",\"roots\":[{\"type\":\"object\",\"name\":\"Row\",\"id\":\"b4b9d271-f1f3-4e58-9aa0-89ac705ff62f\",\"attributes\":{\"name\":\"Row53390\",\"tags\":[\"embedded\"],\"stylesheets\":[\"\\n:host(.pn-loading.pn-arc):before, .pn-loading.pn-arc:before {\\n  background-image: url(\\\"data:image/svg+xml;base64,PHN2ZyB4bWxucz0iaHR0cDovL3d3dy53My5vcmcvMjAwMC9zdmciIHN0eWxlPSJtYXJnaW46IGF1dG87IGJhY2tncm91bmQ6IG5vbmU7IGRpc3BsYXk6IGJsb2NrOyBzaGFwZS1yZW5kZXJpbmc6IGF1dG87IiB2aWV3Qm94PSIwIDAgMTAwIDEwMCIgcHJlc2VydmVBc3BlY3RSYXRpbz0ieE1pZFlNaWQiPiAgPGNpcmNsZSBjeD0iNTAiIGN5PSI1MCIgZmlsbD0ibm9uZSIgc3Ryb2tlPSIjYzNjM2MzIiBzdHJva2Utd2lkdGg9IjEwIiByPSIzNSIgc3Ryb2tlLWRhc2hhcnJheT0iMTY0LjkzMzYxNDMxMzQ2NDE1IDU2Ljk3Nzg3MTQzNzgyMTM4Ij4gICAgPGFuaW1hdGVUcmFuc2Zvcm0gYXR0cmlidXRlTmFtZT0idHJhbnNmb3JtIiB0eXBlPSJyb3RhdGUiIHJlcGVhdENvdW50PSJpbmRlZmluaXRlIiBkdXI9IjFzIiB2YWx1ZXM9IjAgNTAgNTA7MzYwIDUwIDUwIiBrZXlUaW1lcz0iMDsxIj48L2FuaW1hdGVUcmFuc2Zvcm0+ICA8L2NpcmNsZT48L3N2Zz4=\\\");\\n  background-size: auto calc(min(50%, 400px));\\n}\",{\"type\":\"object\",\"name\":\"ImportedStyleSheet\",\"id\":\"5f5b736f-c325-4003-8eaf-1303e351202e\",\"attributes\":{\"url\":\"https://cdn.holoviz.org/panel/1.2.1/dist/css/loading.css\"}},{\"type\":\"object\",\"name\":\"ImportedStyleSheet\",\"id\":\"1ffae0a0-f26e-4d3e-93a0-3f8f07f1d447\",\"attributes\":{\"url\":\"https://cdn.holoviz.org/panel/1.2.1/dist/css/listpanel.css\"}},{\"type\":\"object\",\"name\":\"ImportedStyleSheet\",\"id\":\"6e3682d9-2be8-4ed0-8ceb-56da8abf9191\",\"attributes\":{\"url\":\"https://cdn.holoviz.org/panel/1.2.1/dist/bundled/theme/default.css\"}},{\"type\":\"object\",\"name\":\"ImportedStyleSheet\",\"id\":\"61dfd155-f452-480e-b37e-c335d651345a\",\"attributes\":{\"url\":\"https://cdn.holoviz.org/panel/1.2.1/dist/bundled/theme/native.css\"}}],\"min_width\":650,\"margin\":0,\"sizing_mode\":\"stretch_width\",\"align\":\"start\",\"children\":[{\"type\":\"object\",\"name\":\"Spacer\",\"id\":\"c989fc66-4649-417d-8653-57b636dfdaf4\",\"attributes\":{\"name\":\"HSpacer53401\",\"stylesheets\":[\"\\n:host(.pn-loading.pn-arc):before, .pn-loading.pn-arc:before {\\n  background-image: url(\\\"data:image/svg+xml;base64,PHN2ZyB4bWxucz0iaHR0cDovL3d3dy53My5vcmcvMjAwMC9zdmciIHN0eWxlPSJtYXJnaW46IGF1dG87IGJhY2tncm91bmQ6IG5vbmU7IGRpc3BsYXk6IGJsb2NrOyBzaGFwZS1yZW5kZXJpbmc6IGF1dG87IiB2aWV3Qm94PSIwIDAgMTAwIDEwMCIgcHJlc2VydmVBc3BlY3RSYXRpbz0ieE1pZFlNaWQiPiAgPGNpcmNsZSBjeD0iNTAiIGN5PSI1MCIgZmlsbD0ibm9uZSIgc3Ryb2tlPSIjYzNjM2MzIiBzdHJva2Utd2lkdGg9IjEwIiByPSIzNSIgc3Ryb2tlLWRhc2hhcnJheT0iMTY0LjkzMzYxNDMxMzQ2NDE1IDU2Ljk3Nzg3MTQzNzgyMTM4Ij4gICAgPGFuaW1hdGVUcmFuc2Zvcm0gYXR0cmlidXRlTmFtZT0idHJhbnNmb3JtIiB0eXBlPSJyb3RhdGUiIHJlcGVhdENvdW50PSJpbmRlZmluaXRlIiBkdXI9IjFzIiB2YWx1ZXM9IjAgNTAgNTA7MzYwIDUwIDUwIiBrZXlUaW1lcz0iMDsxIj48L2FuaW1hdGVUcmFuc2Zvcm0+ICA8L2NpcmNsZT48L3N2Zz4=\\\");\\n  background-size: auto calc(min(50%, 400px));\\n}\",{\"id\":\"5f5b736f-c325-4003-8eaf-1303e351202e\"},{\"id\":\"6e3682d9-2be8-4ed0-8ceb-56da8abf9191\"},{\"id\":\"61dfd155-f452-480e-b37e-c335d651345a\"}],\"margin\":0,\"sizing_mode\":\"stretch_width\",\"align\":\"start\"}},{\"type\":\"object\",\"name\":\"Figure\",\"id\":\"d4a99e4f-8548-4165-8031-45f8f7edd856\",\"attributes\":{\"width\":650,\"height\":300,\"margin\":[5,10],\"sizing_mode\":\"fixed\",\"align\":\"start\",\"x_range\":{\"type\":\"object\",\"name\":\"Range1d\",\"id\":\"263bdf5f-0d41-4978-a6bb-ecaa9ea3f287\",\"attributes\":{\"tags\":[[[\"period\",\"period\",null]],[]],\"end\":57.0,\"reset_start\":0.0,\"reset_end\":57.0}},\"y_range\":{\"type\":\"object\",\"name\":\"Range1d\",\"id\":\"af912f89-dd9b-4724-a624-bf1603acb206\",\"attributes\":{\"tags\":[[[\"pct_retained\",\"pct_retained\",null]],{\"type\":\"map\",\"entries\":[[\"invert_yaxis\",false],[\"autorange\",false]]}],\"start\":-9.99121265377856,\"end\":109.99920115034351,\"reset_start\":-9.99121265377856,\"reset_end\":109.99920115034351}},\"x_scale\":{\"type\":\"object\",\"name\":\"LinearScale\",\"id\":\"60aeb56d-3f67-4889-9233-6fa6eda80cdc\"},\"y_scale\":{\"type\":\"object\",\"name\":\"LinearScale\",\"id\":\"f5b04ea9-f483-4891-a55d-bb73b34154a5\"},\"title\":{\"type\":\"object\",\"name\":\"Title\",\"id\":\"8b36dc18-9e7c-4358-8d67-daea28b17782\",\"attributes\":{\"text\":\"Retention of legislators from the start of the first term\",\"text_color\":\"black\",\"text_font_size\":\"12pt\"}},\"renderers\":[{\"type\":\"object\",\"name\":\"GlyphRenderer\",\"id\":\"f2c12c75-e77d-4405-ba90-50682b5cbe19\",\"attributes\":{\"data_source\":{\"type\":\"object\",\"name\":\"ColumnDataSource\",\"id\":\"3401be3c-d7ac-40e5-aa99-efe6a8c1cdeb\",\"attributes\":{\"selected\":{\"type\":\"object\",\"name\":\"Selection\",\"id\":\"9eda5d21-0290-462c-a4f7-23fa8335946a\",\"attributes\":{\"indices\":[],\"line_indices\":[]}},\"selection_policy\":{\"type\":\"object\",\"name\":\"UnionRenderers\",\"id\":\"b8d1414d-4636-4c40-ba5b-bc16e736d23b\"},\"data\":{\"type\":\"map\",\"entries\":[[\"period\",{\"type\":\"ndarray\",\"array\":{\"type\":\"bytes\",\"data\":\"AAAAAAEAAAACAAAAAwAAAAQAAAAFAAAABgAAAAcAAAAIAAAACQAAAAoAAAALAAAADAAAAA0AAAAOAAAADwAAABAAAAARAAAAEgAAABMAAAAUAAAAFQAAABYAAAAXAAAAGAAAABkAAAAaAAAAGwAAABwAAAAdAAAAHgAAAB8AAAAgAAAAIQAAACIAAAAjAAAAJAAAACUAAAAmAAAAJwAAACgAAAApAAAAKgAAACsAAAAsAAAALQAAAC4AAAAvAAAAMAAAADEAAAAyAAAAMwAAADQAAAA1AAAANgAAADgAAAA5AAAA\"},\"shape\":[57],\"dtype\":\"int32\",\"order\":\"little\"}],[\"pct_retained\",{\"type\":\"ndarray\",\"array\":{\"type\":\"bytes\",\"data\":\"AAAAAAAAWUA6WpbMMsI8QMSsgPIN6TxA4cX+6f1ALUBj//R+oKQ5QDZmj/om3StAYDW92nQNM0DRkxbIjLolQNH14qHOrClAlMjIIaJsIED43b9f+VUmQPStUUFxVR1ARNnA18fuIkCi4nk0z3IbQNZEn47b2BZA7j9Hht/9C0ChJfg/jDkbQHYjryKQ1BFAUJaHf2ZyEUAkHHDJcdYHQJk96pt0bwlAUhCLaOzkAUBKqZdsmzgIQDbldFJgvwNAqQ0G5KMD/T/Lpia1wYD8P41h1SVRwPY/i2js5JFr7j+34gObhgf4PwnqQvSkBfI/NmaP+ibd6z/7FEU9wgHnP8mrCCR18OM/2II7K+Uv3z+WQswKKN/gP/obXPwCrd4/yasIJHXw0z9AR4bf/fvVPwzlYIXxlco/tekaWseyzz+DgN5AeqG8PzB3apfOZ8I/udvs20VcwD+VSePJaIq4P4OA3kB6oaw/g4DeQHqhvD+VSePJaIqYP5VJ48loiqg/pxLoUldzpD+VSePJaIqYP7nb7NtFXKA/pxLoUldzpD+52+zbRVyAP7nb7NtFXIA/udvs20VckD+52+zbRVyAP7nb7NtFXIA/\"},\"shape\":[57],\"dtype\":\"float64\",\"order\":\"little\"}]]}}},\"view\":{\"type\":\"object\",\"name\":\"CDSView\",\"id\":\"b9afd725-cd48-4a7d-9bb7-749e80056567\",\"attributes\":{\"filter\":{\"type\":\"object\",\"name\":\"AllIndices\",\"id\":\"dc90d7f1-9021-45fe-b2f9-da0094ee54a5\"}}},\"glyph\":{\"type\":\"object\",\"name\":\"Line\",\"id\":\"5877350f-0a2c-4112-9c54-d38dfd48bb2c\",\"attributes\":{\"tags\":[\"apply_ranges\"],\"x\":{\"type\":\"field\",\"field\":\"period\"},\"y\":{\"type\":\"field\",\"field\":\"pct_retained\"},\"line_color\":\"orange\",\"line_width\":2}},\"selection_glyph\":{\"type\":\"object\",\"name\":\"Line\",\"id\":\"b02bfb21-05cf-418a-8ea8-4ba8f66886e3\",\"attributes\":{\"tags\":[\"apply_ranges\"],\"x\":{\"type\":\"field\",\"field\":\"period\"},\"y\":{\"type\":\"field\",\"field\":\"pct_retained\"},\"line_color\":\"orange\",\"line_width\":2}},\"nonselection_glyph\":{\"type\":\"object\",\"name\":\"Line\",\"id\":\"9ae22471-4b06-44a6-a587-b31ffa5fb0e2\",\"attributes\":{\"tags\":[\"apply_ranges\"],\"x\":{\"type\":\"field\",\"field\":\"period\"},\"y\":{\"type\":\"field\",\"field\":\"pct_retained\"},\"line_color\":\"orange\",\"line_alpha\":0.1,\"line_width\":2}},\"muted_glyph\":{\"type\":\"object\",\"name\":\"Line\",\"id\":\"20ac2519-c2a7-4c16-b864-e2c48dc87fa3\",\"attributes\":{\"tags\":[\"apply_ranges\"],\"x\":{\"type\":\"field\",\"field\":\"period\"},\"y\":{\"type\":\"field\",\"field\":\"pct_retained\"},\"line_color\":\"orange\",\"line_alpha\":0.2,\"line_width\":2}}}}],\"toolbar\":{\"type\":\"object\",\"name\":\"Toolbar\",\"id\":\"40967dd1-c919-4263-beca-6dc44192b47b\",\"attributes\":{\"tools\":[{\"type\":\"object\",\"name\":\"WheelZoomTool\",\"id\":\"ad565be9-f6e7-498b-aa90-1515ddc29842\",\"attributes\":{\"tags\":[\"hv_created\"],\"zoom_together\":\"none\"}},{\"type\":\"object\",\"name\":\"HoverTool\",\"id\":\"1538fb11-8db1-4b14-a8a3-24bddc51f398\",\"attributes\":{\"tags\":[\"hv_created\"],\"renderers\":[{\"id\":\"f2c12c75-e77d-4405-ba90-50682b5cbe19\"}],\"tooltips\":[[\"period\",\"@{period}\"],[\"pct_retained\",\"@{pct_retained}\"]]}},{\"type\":\"object\",\"name\":\"SaveTool\",\"id\":\"a6f21cf8-6d58-462c-9552-1620ca890841\"},{\"type\":\"object\",\"name\":\"PanTool\",\"id\":\"761a2b02-883e-48ff-a568-3b7917012c18\"},{\"type\":\"object\",\"name\":\"BoxZoomTool\",\"id\":\"85ff8297-108c-4540-a631-b7385d12503a\",\"attributes\":{\"overlay\":{\"type\":\"object\",\"name\":\"BoxAnnotation\",\"id\":\"d9038c41-b561-4a42-a168-5bdfd7c7ffee\",\"attributes\":{\"syncable\":false,\"level\":\"overlay\",\"visible\":false,\"left_units\":\"canvas\",\"right_units\":\"canvas\",\"bottom_units\":\"canvas\",\"top_units\":\"canvas\",\"line_color\":\"black\",\"line_alpha\":1.0,\"line_width\":2,\"line_dash\":[4,4],\"fill_color\":\"lightgrey\",\"fill_alpha\":0.5}}}},{\"type\":\"object\",\"name\":\"ResetTool\",\"id\":\"f010bcef-0906-4f44-82f9-01c27c047aed\"}],\"active_drag\":{\"id\":\"761a2b02-883e-48ff-a568-3b7917012c18\"},\"active_scroll\":{\"id\":\"ad565be9-f6e7-498b-aa90-1515ddc29842\"}}},\"left\":[{\"type\":\"object\",\"name\":\"LinearAxis\",\"id\":\"a95bf83f-bf35-4d34-a84f-32749cabecf3\",\"attributes\":{\"ticker\":{\"type\":\"object\",\"name\":\"BasicTicker\",\"id\":\"22931a81-9991-4cd1-a242-c4b2b72c3b49\",\"attributes\":{\"mantissas\":[1,2,5]}},\"formatter\":{\"type\":\"object\",\"name\":\"BasicTickFormatter\",\"id\":\"114a18b3-905e-4f24-9809-6ebd3b378479\"},\"axis_label\":\"pct_retained\",\"major_label_policy\":{\"type\":\"object\",\"name\":\"AllLabels\",\"id\":\"b0f6f4bb-d2db-41df-9555-13c8f945d5e6\"}}}],\"below\":[{\"type\":\"object\",\"name\":\"LinearAxis\",\"id\":\"169d00d6-3430-4e3b-a3d2-418ad9797bf7\",\"attributes\":{\"ticker\":{\"type\":\"object\",\"name\":\"BasicTicker\",\"id\":\"2357a3be-68dd-4c10-9936-5f6a1f2931c9\",\"attributes\":{\"mantissas\":[1,2,5]}},\"formatter\":{\"type\":\"object\",\"name\":\"BasicTickFormatter\",\"id\":\"116a7715-fbf0-4dcf-8157-905b8d340f66\"},\"axis_label\":\"period\",\"major_label_policy\":{\"type\":\"object\",\"name\":\"AllLabels\",\"id\":\"66ec8513-f8e9-4c94-9e04-cb023db38a01\"}}}],\"center\":[{\"type\":\"object\",\"name\":\"Grid\",\"id\":\"90f81ace-05cb-4cae-a601-859bcdd1af76\",\"attributes\":{\"axis\":{\"id\":\"169d00d6-3430-4e3b-a3d2-418ad9797bf7\"},\"ticker\":{\"id\":\"2357a3be-68dd-4c10-9936-5f6a1f2931c9\"}}},{\"type\":\"object\",\"name\":\"Grid\",\"id\":\"ebdbb400-1a88-46c0-849a-0bad4bb483f2\",\"attributes\":{\"dimension\":1,\"axis\":{\"id\":\"a95bf83f-bf35-4d34-a84f-32749cabecf3\"},\"ticker\":{\"id\":\"22931a81-9991-4cd1-a242-c4b2b72c3b49\"}}}],\"min_border_top\":10,\"min_border_bottom\":10,\"min_border_left\":10,\"min_border_right\":10,\"output_backend\":\"webgl\"}},{\"type\":\"object\",\"name\":\"Spacer\",\"id\":\"18dd228d-89a2-436c-ba7f-2397cc93648f\",\"attributes\":{\"name\":\"HSpacer53404\",\"stylesheets\":[\"\\n:host(.pn-loading.pn-arc):before, .pn-loading.pn-arc:before {\\n  background-image: url(\\\"data:image/svg+xml;base64,PHN2ZyB4bWxucz0iaHR0cDovL3d3dy53My5vcmcvMjAwMC9zdmciIHN0eWxlPSJtYXJnaW46IGF1dG87IGJhY2tncm91bmQ6IG5vbmU7IGRpc3BsYXk6IGJsb2NrOyBzaGFwZS1yZW5kZXJpbmc6IGF1dG87IiB2aWV3Qm94PSIwIDAgMTAwIDEwMCIgcHJlc2VydmVBc3BlY3RSYXRpbz0ieE1pZFlNaWQiPiAgPGNpcmNsZSBjeD0iNTAiIGN5PSI1MCIgZmlsbD0ibm9uZSIgc3Ryb2tlPSIjYzNjM2MzIiBzdHJva2Utd2lkdGg9IjEwIiByPSIzNSIgc3Ryb2tlLWRhc2hhcnJheT0iMTY0LjkzMzYxNDMxMzQ2NDE1IDU2Ljk3Nzg3MTQzNzgyMTM4Ij4gICAgPGFuaW1hdGVUcmFuc2Zvcm0gYXR0cmlidXRlTmFtZT0idHJhbnNmb3JtIiB0eXBlPSJyb3RhdGUiIHJlcGVhdENvdW50PSJpbmRlZmluaXRlIiBkdXI9IjFzIiB2YWx1ZXM9IjAgNTAgNTA7MzYwIDUwIDUwIiBrZXlUaW1lcz0iMDsxIj48L2FuaW1hdGVUcmFuc2Zvcm0+ICA8L2NpcmNsZT48L3N2Zz4=\\\");\\n  background-size: auto calc(min(50%, 400px));\\n}\",{\"id\":\"5f5b736f-c325-4003-8eaf-1303e351202e\"},{\"id\":\"6e3682d9-2be8-4ed0-8ceb-56da8abf9191\"},{\"id\":\"61dfd155-f452-480e-b37e-c335d651345a\"}],\"margin\":0,\"sizing_mode\":\"stretch_width\",\"align\":\"start\"}}]}}],\"defs\":[{\"type\":\"model\",\"name\":\"ReactiveHTML1\"},{\"type\":\"model\",\"name\":\"FlexBox1\",\"properties\":[{\"name\":\"align_content\",\"kind\":\"Any\",\"default\":\"flex-start\"},{\"name\":\"align_items\",\"kind\":\"Any\",\"default\":\"flex-start\"},{\"name\":\"flex_direction\",\"kind\":\"Any\",\"default\":\"row\"},{\"name\":\"flex_wrap\",\"kind\":\"Any\",\"default\":\"wrap\"},{\"name\":\"justify_content\",\"kind\":\"Any\",\"default\":\"flex-start\"}]},{\"type\":\"model\",\"name\":\"FloatPanel1\",\"properties\":[{\"name\":\"config\",\"kind\":\"Any\",\"default\":{\"type\":\"map\"}},{\"name\":\"contained\",\"kind\":\"Any\",\"default\":true},{\"name\":\"position\",\"kind\":\"Any\",\"default\":\"right-top\"},{\"name\":\"offsetx\",\"kind\":\"Any\",\"default\":null},{\"name\":\"offsety\",\"kind\":\"Any\",\"default\":null},{\"name\":\"theme\",\"kind\":\"Any\",\"default\":\"primary\"},{\"name\":\"status\",\"kind\":\"Any\",\"default\":\"normalized\"}]},{\"type\":\"model\",\"name\":\"GridStack1\",\"properties\":[{\"name\":\"mode\",\"kind\":\"Any\",\"default\":\"warn\"},{\"name\":\"ncols\",\"kind\":\"Any\",\"default\":null},{\"name\":\"nrows\",\"kind\":\"Any\",\"default\":null},{\"name\":\"allow_resize\",\"kind\":\"Any\",\"default\":true},{\"name\":\"allow_drag\",\"kind\":\"Any\",\"default\":true},{\"name\":\"state\",\"kind\":\"Any\",\"default\":[]}]},{\"type\":\"model\",\"name\":\"drag1\",\"properties\":[{\"name\":\"slider_width\",\"kind\":\"Any\",\"default\":5},{\"name\":\"slider_color\",\"kind\":\"Any\",\"default\":\"black\"},{\"name\":\"value\",\"kind\":\"Any\",\"default\":50}]},{\"type\":\"model\",\"name\":\"click1\",\"properties\":[{\"name\":\"terminal_output\",\"kind\":\"Any\",\"default\":\"\"},{\"name\":\"debug_name\",\"kind\":\"Any\",\"default\":\"\"},{\"name\":\"clears\",\"kind\":\"Any\",\"default\":0}]},{\"type\":\"model\",\"name\":\"FastWrapper1\",\"properties\":[{\"name\":\"object\",\"kind\":\"Any\",\"default\":null},{\"name\":\"style\",\"kind\":\"Any\",\"default\":null}]},{\"type\":\"model\",\"name\":\"NotificationAreaBase1\",\"properties\":[{\"name\":\"js_events\",\"kind\":\"Any\",\"default\":{\"type\":\"map\"}},{\"name\":\"position\",\"kind\":\"Any\",\"default\":\"bottom-right\"},{\"name\":\"_clear\",\"kind\":\"Any\",\"default\":0}]},{\"type\":\"model\",\"name\":\"NotificationArea1\",\"properties\":[{\"name\":\"js_events\",\"kind\":\"Any\",\"default\":{\"type\":\"map\"}},{\"name\":\"notifications\",\"kind\":\"Any\",\"default\":[]},{\"name\":\"position\",\"kind\":\"Any\",\"default\":\"bottom-right\"},{\"name\":\"_clear\",\"kind\":\"Any\",\"default\":0},{\"name\":\"types\",\"kind\":\"Any\",\"default\":[{\"type\":\"map\",\"entries\":[[\"type\",\"warning\"],[\"background\",\"#ffc107\"],[\"icon\",{\"type\":\"map\",\"entries\":[[\"className\",\"fas fa-exclamation-triangle\"],[\"tagName\",\"i\"],[\"color\",\"white\"]]}]]},{\"type\":\"map\",\"entries\":[[\"type\",\"info\"],[\"background\",\"#007bff\"],[\"icon\",{\"type\":\"map\",\"entries\":[[\"className\",\"fas fa-info-circle\"],[\"tagName\",\"i\"],[\"color\",\"white\"]]}]]}]}]},{\"type\":\"model\",\"name\":\"Notification\",\"properties\":[{\"name\":\"background\",\"kind\":\"Any\",\"default\":null},{\"name\":\"duration\",\"kind\":\"Any\",\"default\":3000},{\"name\":\"icon\",\"kind\":\"Any\",\"default\":null},{\"name\":\"message\",\"kind\":\"Any\",\"default\":\"\"},{\"name\":\"notification_type\",\"kind\":\"Any\",\"default\":null},{\"name\":\"_destroyed\",\"kind\":\"Any\",\"default\":false}]},{\"type\":\"model\",\"name\":\"TemplateActions1\",\"properties\":[{\"name\":\"open_modal\",\"kind\":\"Any\",\"default\":0},{\"name\":\"close_modal\",\"kind\":\"Any\",\"default\":0}]},{\"type\":\"model\",\"name\":\"BootstrapTemplateActions1\",\"properties\":[{\"name\":\"open_modal\",\"kind\":\"Any\",\"default\":0},{\"name\":\"close_modal\",\"kind\":\"Any\",\"default\":0}]},{\"type\":\"model\",\"name\":\"MaterialTemplateActions1\",\"properties\":[{\"name\":\"open_modal\",\"kind\":\"Any\",\"default\":0},{\"name\":\"close_modal\",\"kind\":\"Any\",\"default\":0}]}]}};\n",
       "  var render_items = [{\"docid\":\"3236a082-8c06-461e-989f-3ff72344eb92\",\"roots\":{\"b4b9d271-f1f3-4e58-9aa0-89ac705ff62f\":\"aea332ee-8020-4318-8d21-8ae611f8608d\"},\"root_ids\":[\"b4b9d271-f1f3-4e58-9aa0-89ac705ff62f\"]}];\n",
       "  var docs = Object.values(docs_json)\n",
       "  if (!docs) {\n",
       "    return\n",
       "  }\n",
       "  const py_version = docs[0].version.replace('rc', '-rc.').replace('.dev', '-dev.')\n",
       "  const is_dev = py_version.indexOf(\"+\") !== -1 || py_version.indexOf(\"-\") !== -1\n",
       "  function embed_document(root) {\n",
       "    var Bokeh = get_bokeh(root)\n",
       "    Bokeh.embed.embed_items_notebook(docs_json, render_items);\n",
       "    for (const render_item of render_items) {\n",
       "      for (const root_id of render_item.root_ids) {\n",
       "\tconst id_el = document.getElementById(root_id)\n",
       "\tif (id_el.children.length && (id_el.children[0].className === 'bk-root')) {\n",
       "\t  const root_el = id_el.children[0]\n",
       "\t  root_el.id = root_el.id + '-rendered'\n",
       "\t}\n",
       "      }\n",
       "    }\n",
       "  }\n",
       "  function get_bokeh(root) {\n",
       "    if (root.Bokeh === undefined) {\n",
       "      return null\n",
       "    } else if (root.Bokeh.version !== py_version && !is_dev) {\n",
       "      if (root.Bokeh.versions === undefined || !root.Bokeh.versions.has(py_version)) {\n",
       "\treturn null\n",
       "      }\n",
       "      return root.Bokeh.versions.get(py_version);\n",
       "    } else if (root.Bokeh.version === py_version) {\n",
       "      return root.Bokeh\n",
       "    }\n",
       "    return null\n",
       "  }\n",
       "  function is_loaded(root) {\n",
       "    var Bokeh = get_bokeh(root)\n",
       "    return (Bokeh != null && Bokeh.Panel !== undefined)\n",
       "  }\n",
       "  if (is_loaded(root)) {\n",
       "    embed_document(root);\n",
       "  } else {\n",
       "    var attempts = 0;\n",
       "    var timer = setInterval(function(root) {\n",
       "      if (is_loaded(root)) {\n",
       "        clearInterval(timer);\n",
       "        embed_document(root);\n",
       "      } else if (document.readyState == \"complete\") {\n",
       "        attempts++;\n",
       "        if (attempts > 200) {\n",
       "          clearInterval(timer);\n",
       "\t  var Bokeh = get_bokeh(root)\n",
       "\t  if (Bokeh == null || Bokeh.Panel == null) {\n",
       "            console.warn(\"Panel: ERROR: Unable to run Panel code because Bokeh or Panel library is missing\");\n",
       "\t  } else {\n",
       "\t    console.warn(\"Panel: WARNING: Attempting to render but not all required libraries could be resolved.\")\n",
       "\t    embed_document(root)\n",
       "\t  }\n",
       "        }\n",
       "      }\n",
       "    }, 25, root)\n",
       "  }\n",
       "})(window);</script>"
      ],
      "text/plain": [
       ":Curve   [period]   (pct_retained)"
      ]
     },
     "execution_count": 368,
     "metadata": {
      "application/vnd.holoviews_exec.v0+json": {
       "id": "b4b9d271-f1f3-4e58-9aa0-89ac705ff62f"
      }
     },
     "output_type": "execute_result"
    }
   ],
   "source": [
    "plot = data.hvplot(kind='line',\n",
    "        x='period',\n",
    "        y='pct_retained',\n",
    "        color='orange',\n",
    "        grid=True,\n",
    "        title='Retention of legislators from the start of the first term',\n",
    "        shared_axes=False,\n",
    "        width=650, height=300)\n",
    "plot"
   ]
  },
  {
   "cell_type": "code",
   "execution_count": 369,
   "id": "4e1593bb-8409-4c13-8d4d-c4e6587bac11",
   "metadata": {
    "tags": []
   },
   "outputs": [
    {
     "name": "stdout",
     "output_type": "stream",
     "text": [
      "Connection to PostgreSQL DB successful\n"
     ]
    },
    {
     "data": {
      "text/plain": [
       "[datetime.date(1789, 12, 31), Decimal('12'), Decimal('31')]"
      ]
     },
     "execution_count": 369,
     "metadata": {},
     "output_type": "execute_result"
    }
   ],
   "source": [
    "# Next in the query we need a dimensional data table; in this example, \n",
    "# I create a table, after which it will be inserted into the main query.\n",
    "connection = create_connection(db_name, db_user, db_password, db_host, db_port)\n",
    "\n",
    "cursor = connection.cursor(cursor_factory=DictCursor)  \n",
    "# from psycopg2.extras import NamedTupleCursor | cursor_factory=NamedTupleCursor\n",
    "\n",
    "# Getting table values retail_sales\n",
    "cursor.execute(\"\"\"\n",
    "SELECT date,\n",
    "    EXTRACT(MONTH FROM date) AS month_name,\n",
    "    EXTRACT(DAY FROM date) AS day_of_month\n",
    "FROM\n",
    "    (SELECT distinct make_date(date_part('year', term_start)::int,12,31) AS date\n",
    "    FROM legislators_terms\n",
    "    ORDER BY 1) date_dim\n",
    ";\n",
    "\"\"\")\n",
    "size_chart = cursor.fetchall()\n",
    "cursor.close()  # Close the cursor\n",
    "connection.close()  # We close the connection\n",
    "size_chart[0]"
   ]
  },
  {
   "cell_type": "code",
   "execution_count": 370,
   "id": "3163210f-a66f-4459-b25b-3207e2c28714",
   "metadata": {
    "tags": []
   },
   "outputs": [
    {
     "data": {
      "text/plain": [
       "date            object\n",
       "month_name      object\n",
       "day_of_month    object\n",
       "dtype: object"
      ]
     },
     "execution_count": 370,
     "metadata": {},
     "output_type": "execute_result"
    }
   ],
   "source": [
    "size_chart = pd.DataFrame(size_chart, columns=['date', 'month_name', 'day_of_month'])\n",
    "size_chart.head()\n",
    "size_chart.dtypes"
   ]
  },
  {
   "cell_type": "code",
   "execution_count": 371,
   "id": "6b54a176-55ec-4985-978b-4ac259176425",
   "metadata": {
    "tags": []
   },
   "outputs": [
    {
     "name": "stdout",
     "output_type": "stream",
     "text": [
      "Connection to PostgreSQL DB successful\n"
     ]
    },
    {
     "data": {
      "text/plain": [
       "[0.0, 12518, 12518, Decimal('100.0000000000000000')]"
      ]
     },
     "execution_count": 371,
     "metadata": {},
     "output_type": "execute_result"
    }
   ],
   "source": [
    "connection = create_connection(db_name, db_user, db_password, db_host, db_port)\n",
    "\n",
    "cursor = connection.cursor(cursor_factory=DictCursor)  \n",
    "# from psycopg2.extras import NamedTupleCursor | cursor_factory=NamedTupleCursor\n",
    "\n",
    "# Getting table values retail_sales\n",
    "cursor.execute(\"\"\"\n",
    "SELECT period\n",
    ",first_value(cohort_retained) over (order by period) as cohort_size\n",
    ",cohort_retained\n",
    ",cohort_retained * 100.0 / \n",
    " first_value(cohort_retained) over (order by period) as pct_retained\n",
    "FROM\n",
    "(\n",
    "        SELECT coalesce(date_part('year',age(c.date,a.first_term)),0) as period\n",
    "        ,count(distinct a.id_bioguide) as cohort_retained\n",
    "        FROM\n",
    "        (\n",
    "                SELECT id_bioguide, min(term_start) as first_term\n",
    "                FROM legislators_terms \n",
    "                GROUP BY 1\n",
    "        ) a\n",
    "        JOIN legislators_terms b on a.id_bioguide = b.id_bioguide \n",
    "        LEFT JOIN (SELECT date,\n",
    "                            EXTRACT(MONTH FROM date) AS month_name,\n",
    "                            EXTRACT(DAY FROM date) AS day_of_month\n",
    "                    FROM\n",
    "                    (\n",
    "                        SELECT distinct make_date(date_part('year', term_start)::int,12,31) AS date\n",
    "                        FROM legislators_terms\n",
    "                        ORDER BY 1) date_dim) c on c.date between b.term_start and b.term_end \n",
    "            and c.month_name = 12 and c.day_of_month = 31\n",
    "        GROUP BY 1\n",
    ") aa\n",
    ";\n",
    "\"\"\")\n",
    "data_1= cursor.fetchall()\n",
    "cursor.close()  # Close the cursor\n",
    "connection.close()  # We close the connection\n",
    "data_1[0]"
   ]
  },
  {
   "cell_type": "code",
   "execution_count": 372,
   "id": "f7384712-86f2-4db7-a68f-215f38edf43d",
   "metadata": {
    "tags": []
   },
   "outputs": [
    {
     "data": {
      "text/html": [
       "<div>\n",
       "<style scoped>\n",
       "    .dataframe tbody tr th:only-of-type {\n",
       "        vertical-align: middle;\n",
       "    }\n",
       "\n",
       "    .dataframe tbody tr th {\n",
       "        vertical-align: top;\n",
       "    }\n",
       "\n",
       "    .dataframe thead th {\n",
       "        text-align: right;\n",
       "    }\n",
       "</style>\n",
       "<table border=\"1\" class=\"dataframe\">\n",
       "  <thead>\n",
       "    <tr style=\"text-align: right;\">\n",
       "      <th></th>\n",
       "      <th>period</th>\n",
       "      <th>cohort_size</th>\n",
       "      <th>cohort_retained</th>\n",
       "      <th>pct_retained</th>\n",
       "    </tr>\n",
       "  </thead>\n",
       "  <tbody>\n",
       "    <tr>\n",
       "      <th>0</th>\n",
       "      <td>0</td>\n",
       "      <td>12518</td>\n",
       "      <td>12518</td>\n",
       "      <td>100.000000</td>\n",
       "    </tr>\n",
       "    <tr>\n",
       "      <th>1</th>\n",
       "      <td>1</td>\n",
       "      <td>12518</td>\n",
       "      <td>3600</td>\n",
       "      <td>28.758588</td>\n",
       "    </tr>\n",
       "    <tr>\n",
       "      <th>2</th>\n",
       "      <td>2</td>\n",
       "      <td>12518</td>\n",
       "      <td>3619</td>\n",
       "      <td>28.910369</td>\n",
       "    </tr>\n",
       "    <tr>\n",
       "      <th>3</th>\n",
       "      <td>3</td>\n",
       "      <td>12518</td>\n",
       "      <td>1831</td>\n",
       "      <td>14.626937</td>\n",
       "    </tr>\n",
       "    <tr>\n",
       "      <th>4</th>\n",
       "      <td>4</td>\n",
       "      <td>12518</td>\n",
       "      <td>3210</td>\n",
       "      <td>25.643074</td>\n",
       "    </tr>\n",
       "  </tbody>\n",
       "</table>\n",
       "</div>"
      ],
      "text/plain": [
       "   period  cohort_size  cohort_retained  pct_retained\n",
       "0       0        12518            12518    100.000000\n",
       "1       1        12518             3600     28.758588\n",
       "2       2        12518             3619     28.910369\n",
       "3       3        12518             1831     14.626937\n",
       "4       4        12518             3210     25.643074"
      ]
     },
     "execution_count": 372,
     "metadata": {},
     "output_type": "execute_result"
    }
   ],
   "source": [
    "# Let's convert to DataFrame\n",
    "data_1 = pd.DataFrame(data_1, columns=['period', 'cohort_size', 'cohort_retained', 'pct_retained'])\n",
    "data.head()"
   ]
  },
  {
   "cell_type": "code",
   "execution_count": 373,
   "id": "a3879e5f-9041-4a6e-8e69-d2bf5b484a87",
   "metadata": {
    "tags": []
   },
   "outputs": [
    {
     "data": {
      "text/plain": [
       "period               int64\n",
       "cohort_size          int64\n",
       "cohort_retained      int64\n",
       "pct_retained       float64\n",
       "dtype: object"
      ]
     },
     "execution_count": 373,
     "metadata": {},
     "output_type": "execute_result"
    }
   ],
   "source": [
    "data_1['period'] = data_1['period'].astype('int')\n",
    "data_1['pct_retained'] = data_1['pct_retained'].astype('float')\n",
    "data_1.dtypes"
   ]
  },
  {
   "cell_type": "code",
   "execution_count": 374,
   "id": "ab6cbade-4b9a-4232-b697-3e498c719dd4",
   "metadata": {
    "tags": []
   },
   "outputs": [
    {
     "data": {},
     "metadata": {},
     "output_type": "display_data"
    },
    {
     "data": {
      "application/vnd.holoviews_exec.v0+json": "",
      "text/html": [
       "<div id='868b8e16-357e-4288-96a9-169abc31ee86'>\n",
       "  <div id=\"b279357f-f8b3-440d-a70f-095f5c95f240\" data-root-id=\"868b8e16-357e-4288-96a9-169abc31ee86\" style=\"display: contents;\"></div>\n",
       "</div>\n",
       "<script type=\"application/javascript\">(function(root) {\n",
       "  var docs_json = {\"ebf2ecc5-1054-4933-ae88-959ac3a58da7\":{\"version\":\"3.2.1\",\"title\":\"Bokeh Application\",\"roots\":[{\"type\":\"object\",\"name\":\"Row\",\"id\":\"868b8e16-357e-4288-96a9-169abc31ee86\",\"attributes\":{\"name\":\"Row53515\",\"tags\":[\"embedded\"],\"stylesheets\":[\"\\n:host(.pn-loading.pn-arc):before, .pn-loading.pn-arc:before {\\n  background-image: url(\\\"data:image/svg+xml;base64,PHN2ZyB4bWxucz0iaHR0cDovL3d3dy53My5vcmcvMjAwMC9zdmciIHN0eWxlPSJtYXJnaW46IGF1dG87IGJhY2tncm91bmQ6IG5vbmU7IGRpc3BsYXk6IGJsb2NrOyBzaGFwZS1yZW5kZXJpbmc6IGF1dG87IiB2aWV3Qm94PSIwIDAgMTAwIDEwMCIgcHJlc2VydmVBc3BlY3RSYXRpbz0ieE1pZFlNaWQiPiAgPGNpcmNsZSBjeD0iNTAiIGN5PSI1MCIgZmlsbD0ibm9uZSIgc3Ryb2tlPSIjYzNjM2MzIiBzdHJva2Utd2lkdGg9IjEwIiByPSIzNSIgc3Ryb2tlLWRhc2hhcnJheT0iMTY0LjkzMzYxNDMxMzQ2NDE1IDU2Ljk3Nzg3MTQzNzgyMTM4Ij4gICAgPGFuaW1hdGVUcmFuc2Zvcm0gYXR0cmlidXRlTmFtZT0idHJhbnNmb3JtIiB0eXBlPSJyb3RhdGUiIHJlcGVhdENvdW50PSJpbmRlZmluaXRlIiBkdXI9IjFzIiB2YWx1ZXM9IjAgNTAgNTA7MzYwIDUwIDUwIiBrZXlUaW1lcz0iMDsxIj48L2FuaW1hdGVUcmFuc2Zvcm0+ICA8L2NpcmNsZT48L3N2Zz4=\\\");\\n  background-size: auto calc(min(50%, 400px));\\n}\",{\"type\":\"object\",\"name\":\"ImportedStyleSheet\",\"id\":\"93571420-e4df-4956-b23d-73d24b7c797d\",\"attributes\":{\"url\":\"https://cdn.holoviz.org/panel/1.2.1/dist/css/loading.css\"}},{\"type\":\"object\",\"name\":\"ImportedStyleSheet\",\"id\":\"c1e508e1-32ca-4a9e-abc9-c883c1f296f7\",\"attributes\":{\"url\":\"https://cdn.holoviz.org/panel/1.2.1/dist/css/listpanel.css\"}},{\"type\":\"object\",\"name\":\"ImportedStyleSheet\",\"id\":\"afcedad9-1a82-4781-b300-50ea63c4b0f5\",\"attributes\":{\"url\":\"https://cdn.holoviz.org/panel/1.2.1/dist/bundled/theme/default.css\"}},{\"type\":\"object\",\"name\":\"ImportedStyleSheet\",\"id\":\"bf15527c-a54e-4a39-a81c-335df3180901\",\"attributes\":{\"url\":\"https://cdn.holoviz.org/panel/1.2.1/dist/bundled/theme/native.css\"}}],\"min_width\":650,\"margin\":0,\"sizing_mode\":\"stretch_width\",\"align\":\"start\",\"children\":[{\"type\":\"object\",\"name\":\"Spacer\",\"id\":\"0fa8b764-dfc8-4855-9462-0efb78461f08\",\"attributes\":{\"name\":\"HSpacer53526\",\"stylesheets\":[\"\\n:host(.pn-loading.pn-arc):before, .pn-loading.pn-arc:before {\\n  background-image: url(\\\"data:image/svg+xml;base64,PHN2ZyB4bWxucz0iaHR0cDovL3d3dy53My5vcmcvMjAwMC9zdmciIHN0eWxlPSJtYXJnaW46IGF1dG87IGJhY2tncm91bmQ6IG5vbmU7IGRpc3BsYXk6IGJsb2NrOyBzaGFwZS1yZW5kZXJpbmc6IGF1dG87IiB2aWV3Qm94PSIwIDAgMTAwIDEwMCIgcHJlc2VydmVBc3BlY3RSYXRpbz0ieE1pZFlNaWQiPiAgPGNpcmNsZSBjeD0iNTAiIGN5PSI1MCIgZmlsbD0ibm9uZSIgc3Ryb2tlPSIjYzNjM2MzIiBzdHJva2Utd2lkdGg9IjEwIiByPSIzNSIgc3Ryb2tlLWRhc2hhcnJheT0iMTY0LjkzMzYxNDMxMzQ2NDE1IDU2Ljk3Nzg3MTQzNzgyMTM4Ij4gICAgPGFuaW1hdGVUcmFuc2Zvcm0gYXR0cmlidXRlTmFtZT0idHJhbnNmb3JtIiB0eXBlPSJyb3RhdGUiIHJlcGVhdENvdW50PSJpbmRlZmluaXRlIiBkdXI9IjFzIiB2YWx1ZXM9IjAgNTAgNTA7MzYwIDUwIDUwIiBrZXlUaW1lcz0iMDsxIj48L2FuaW1hdGVUcmFuc2Zvcm0+ICA8L2NpcmNsZT48L3N2Zz4=\\\");\\n  background-size: auto calc(min(50%, 400px));\\n}\",{\"id\":\"93571420-e4df-4956-b23d-73d24b7c797d\"},{\"id\":\"afcedad9-1a82-4781-b300-50ea63c4b0f5\"},{\"id\":\"bf15527c-a54e-4a39-a81c-335df3180901\"}],\"margin\":0,\"sizing_mode\":\"stretch_width\",\"align\":\"start\"}},{\"type\":\"object\",\"name\":\"Figure\",\"id\":\"0dfed2d1-272c-4c31-8b3a-e858d954d04f\",\"attributes\":{\"width\":650,\"height\":300,\"margin\":[5,10],\"sizing_mode\":\"fixed\",\"align\":\"start\",\"x_range\":{\"type\":\"object\",\"name\":\"Range1d\",\"id\":\"bca2ec98-0d7d-4f31-b272-252ed3e8fc44\",\"attributes\":{\"tags\":[[[\"period\",\"period\",null]],[]],\"end\":59.0,\"reset_start\":0.0,\"reset_end\":59.0}},\"y_range\":{\"type\":\"object\",\"name\":\"Range1d\",\"id\":\"6df6621a-9b5e-4511-95da-4a1c156ee5dc\",\"attributes\":{\"tags\":[[[\"pct_retained\",\"pct_retained\",null]],{\"type\":\"map\",\"entries\":[[\"invert_yaxis\",false],[\"autorange\",false]]}],\"start\":-9.99121265377856,\"end\":109.99920115034351,\"reset_start\":-9.99121265377856,\"reset_end\":109.99920115034351}},\"x_scale\":{\"type\":\"object\",\"name\":\"LinearScale\",\"id\":\"d24c6b0e-406e-4b73-a1f5-92b2073f5625\"},\"y_scale\":{\"type\":\"object\",\"name\":\"LinearScale\",\"id\":\"17e35848-8bf1-4707-9ce5-89b62fd8916c\"},\"title\":{\"type\":\"object\",\"name\":\"Title\",\"id\":\"fe122899-96b9-42e2-8c7e-c281f6e4cdaf\",\"attributes\":{\"text\":\"Legislative retention adjusted for actual years in office\",\"text_color\":\"black\",\"text_font_size\":\"12pt\"}},\"renderers\":[{\"type\":\"object\",\"name\":\"GlyphRenderer\",\"id\":\"474fc0d7-710b-4d27-a195-ef97c946af45\",\"attributes\":{\"data_source\":{\"type\":\"object\",\"name\":\"ColumnDataSource\",\"id\":\"7d1a4133-a985-4da4-b781-4d52f1d8a620\",\"attributes\":{\"selected\":{\"type\":\"object\",\"name\":\"Selection\",\"id\":\"f39da4e9-db36-4965-9299-aa41e476099d\",\"attributes\":{\"indices\":[],\"line_indices\":[]}},\"selection_policy\":{\"type\":\"object\",\"name\":\"UnionRenderers\",\"id\":\"56a8e6ee-3be4-4079-8389-10d07fb972d3\"},\"data\":{\"type\":\"map\",\"entries\":[[\"period\",{\"type\":\"ndarray\",\"array\":{\"type\":\"bytes\",\"data\":\"AAAAAAEAAAACAAAAAwAAAAQAAAAFAAAABgAAAAcAAAAIAAAACQAAAAoAAAALAAAADAAAAA0AAAAOAAAADwAAABAAAAARAAAAEgAAABMAAAAUAAAAFQAAABYAAAAXAAAAGAAAABkAAAAaAAAAGwAAABwAAAAdAAAAHgAAAB8AAAAgAAAAIQAAACIAAAAjAAAAJAAAACUAAAAmAAAAJwAAACgAAAApAAAAKgAAACsAAAAsAAAALQAAAC4AAAAvAAAAMAAAADEAAAAyAAAAMwAAADQAAAA1AAAANgAAADcAAAA4AAAAOQAAADoAAAA7AAAA\"},\"shape\":[60],\"dtype\":\"int32\",\"order\":\"little\"}],[\"pct_retained\",{\"type\":\"ndarray\",\"array\":{\"type\":\"bytes\",\"data\":\"AAAAAAAAWUBc1GjPyxNYQHYP4rNmS1BAa0nP/PlgT0C5ZVOT2mBHQLF0+d/0r0ZAFOE7mDJpQUBBq4cJzSlBQC6vZ0MwDDxAh0P/JWWNO0D0Gp96Dmo3QN+4SDoV4zZAHwkbKeHFMkA56xNDCHIyQDUL2t8lli9A18W5NqL2LkCvXMLQsC8qQGP/9H6gpClAu3Q+k1D6JECC/8OYs4MkQJWFShblpSBAOP2rYaQ/IECASVljsfUbQA8c5mK6QRtAHDRiJVoMFkCG88pqv2gVQJyw1sW5NhJALUDluQW8EUA2Zo/6Jt0LQA5fZG53CAtAi+fRPMtNBkDzLDeZqjcFQCuDY8XCggFAlkLMCijfAEAqinqEAy75P268uyY/KPg/UhCLaOzk8T+WQswKKN/wP4OA3kB6oew/e5jQnGLX6j9a+JgMBK/jP3SpqzkKYuE/lUnjyWiK2D8ermUO4H7WP3SpqzkKYtE/udvs20Vc0D/ZeyRspITHP6cS6FJXc8Q/udvs20VcwD+DgN5AeqG8Px6uZQ7gfrY/Hq5lDuB+tj+VSePJaIqoP7nb7NtFXKA/lUnjyWiKmD+VSePJaIqYP5VJ48loipg/udvs20VckD+52+zbRVyAP7nb7NtFXIA/\"},\"shape\":[60],\"dtype\":\"float64\",\"order\":\"little\"}]]}}},\"view\":{\"type\":\"object\",\"name\":\"CDSView\",\"id\":\"8495aabf-6e2e-4627-b8a6-0aeef7e70d8a\",\"attributes\":{\"filter\":{\"type\":\"object\",\"name\":\"AllIndices\",\"id\":\"2302446c-cdc4-4a97-88e6-96f88b15a40f\"}}},\"glyph\":{\"type\":\"object\",\"name\":\"Line\",\"id\":\"0ce2bc80-f53f-4b49-b2e7-eaf419934d12\",\"attributes\":{\"tags\":[\"apply_ranges\"],\"x\":{\"type\":\"field\",\"field\":\"period\"},\"y\":{\"type\":\"field\",\"field\":\"pct_retained\"},\"line_color\":\"orange\",\"line_width\":2}},\"selection_glyph\":{\"type\":\"object\",\"name\":\"Line\",\"id\":\"bd7b49d4-da9f-468c-987d-ab765d8e8335\",\"attributes\":{\"tags\":[\"apply_ranges\"],\"x\":{\"type\":\"field\",\"field\":\"period\"},\"y\":{\"type\":\"field\",\"field\":\"pct_retained\"},\"line_color\":\"orange\",\"line_width\":2}},\"nonselection_glyph\":{\"type\":\"object\",\"name\":\"Line\",\"id\":\"cfa816bf-6fa0-49a1-9f54-c2475870a302\",\"attributes\":{\"tags\":[\"apply_ranges\"],\"x\":{\"type\":\"field\",\"field\":\"period\"},\"y\":{\"type\":\"field\",\"field\":\"pct_retained\"},\"line_color\":\"orange\",\"line_alpha\":0.1,\"line_width\":2}},\"muted_glyph\":{\"type\":\"object\",\"name\":\"Line\",\"id\":\"6fd4f3e9-2e03-4b23-9adb-d37a29e95260\",\"attributes\":{\"tags\":[\"apply_ranges\"],\"x\":{\"type\":\"field\",\"field\":\"period\"},\"y\":{\"type\":\"field\",\"field\":\"pct_retained\"},\"line_color\":\"orange\",\"line_alpha\":0.2,\"line_width\":2}}}}],\"toolbar\":{\"type\":\"object\",\"name\":\"Toolbar\",\"id\":\"e2eebbde-fc0e-43bb-be59-3f3b72f15510\",\"attributes\":{\"tools\":[{\"type\":\"object\",\"name\":\"WheelZoomTool\",\"id\":\"6294182c-4753-44d3-b72d-809a0e966bb4\",\"attributes\":{\"tags\":[\"hv_created\"],\"zoom_together\":\"none\"}},{\"type\":\"object\",\"name\":\"HoverTool\",\"id\":\"cbebd250-caa9-4fe4-8515-d7e23bbfde5e\",\"attributes\":{\"tags\":[\"hv_created\"],\"renderers\":[{\"id\":\"474fc0d7-710b-4d27-a195-ef97c946af45\"}],\"tooltips\":[[\"period\",\"@{period}\"],[\"pct_retained\",\"@{pct_retained}\"]]}},{\"type\":\"object\",\"name\":\"SaveTool\",\"id\":\"1856c598-77e1-4d5b-aca7-3d890e86762b\"},{\"type\":\"object\",\"name\":\"PanTool\",\"id\":\"5b38fd53-9435-4a96-bb67-bfcd76db14d9\"},{\"type\":\"object\",\"name\":\"BoxZoomTool\",\"id\":\"4b66e967-c2bd-4034-bcef-bb98a3ec6769\",\"attributes\":{\"overlay\":{\"type\":\"object\",\"name\":\"BoxAnnotation\",\"id\":\"06466d14-f3fe-4666-a817-a17a3566eeeb\",\"attributes\":{\"syncable\":false,\"level\":\"overlay\",\"visible\":false,\"left_units\":\"canvas\",\"right_units\":\"canvas\",\"bottom_units\":\"canvas\",\"top_units\":\"canvas\",\"line_color\":\"black\",\"line_alpha\":1.0,\"line_width\":2,\"line_dash\":[4,4],\"fill_color\":\"lightgrey\",\"fill_alpha\":0.5}}}},{\"type\":\"object\",\"name\":\"ResetTool\",\"id\":\"f131abba-969f-4a55-abe1-b2e87868c841\"}],\"active_drag\":{\"id\":\"5b38fd53-9435-4a96-bb67-bfcd76db14d9\"},\"active_scroll\":{\"id\":\"6294182c-4753-44d3-b72d-809a0e966bb4\"}}},\"left\":[{\"type\":\"object\",\"name\":\"LinearAxis\",\"id\":\"c92bf1a5-55b0-4ccc-9d32-e42f6ea01462\",\"attributes\":{\"ticker\":{\"type\":\"object\",\"name\":\"BasicTicker\",\"id\":\"2f2079f7-fbc8-4141-8351-2421d866c299\",\"attributes\":{\"mantissas\":[1,2,5]}},\"formatter\":{\"type\":\"object\",\"name\":\"BasicTickFormatter\",\"id\":\"b1f7cda7-16b1-47c7-9a48-16e15745b5a0\"},\"axis_label\":\"pct_retained\",\"major_label_policy\":{\"type\":\"object\",\"name\":\"AllLabels\",\"id\":\"ae88ff59-8f4b-4057-bbe0-ec7851d36918\"}}}],\"below\":[{\"type\":\"object\",\"name\":\"LinearAxis\",\"id\":\"c821fe04-e79a-4494-af6d-732ca922ba0b\",\"attributes\":{\"ticker\":{\"type\":\"object\",\"name\":\"BasicTicker\",\"id\":\"8ebf6936-c194-4885-979f-5eceb1522359\",\"attributes\":{\"mantissas\":[1,2,5]}},\"formatter\":{\"type\":\"object\",\"name\":\"BasicTickFormatter\",\"id\":\"2b68c87e-bbe1-4eea-a8ff-3aa8b8e41821\"},\"axis_label\":\"period\",\"major_label_policy\":{\"type\":\"object\",\"name\":\"AllLabels\",\"id\":\"51218494-e2a9-44a9-a58d-0ce8cb88fb0d\"}}}],\"center\":[{\"type\":\"object\",\"name\":\"Grid\",\"id\":\"82898d98-8df6-405a-becb-a45bdca20412\",\"attributes\":{\"axis\":{\"id\":\"c821fe04-e79a-4494-af6d-732ca922ba0b\"},\"ticker\":{\"id\":\"8ebf6936-c194-4885-979f-5eceb1522359\"}}},{\"type\":\"object\",\"name\":\"Grid\",\"id\":\"c7cbcf03-a753-4cc8-9f06-440cca9918e9\",\"attributes\":{\"dimension\":1,\"axis\":{\"id\":\"c92bf1a5-55b0-4ccc-9d32-e42f6ea01462\"},\"ticker\":{\"id\":\"2f2079f7-fbc8-4141-8351-2421d866c299\"}}}],\"min_border_top\":10,\"min_border_bottom\":10,\"min_border_left\":10,\"min_border_right\":10,\"output_backend\":\"webgl\"}},{\"type\":\"object\",\"name\":\"Spacer\",\"id\":\"a81ba34f-4785-4994-987e-80bacb896de2\",\"attributes\":{\"name\":\"HSpacer53529\",\"stylesheets\":[\"\\n:host(.pn-loading.pn-arc):before, .pn-loading.pn-arc:before {\\n  background-image: url(\\\"data:image/svg+xml;base64,PHN2ZyB4bWxucz0iaHR0cDovL3d3dy53My5vcmcvMjAwMC9zdmciIHN0eWxlPSJtYXJnaW46IGF1dG87IGJhY2tncm91bmQ6IG5vbmU7IGRpc3BsYXk6IGJsb2NrOyBzaGFwZS1yZW5kZXJpbmc6IGF1dG87IiB2aWV3Qm94PSIwIDAgMTAwIDEwMCIgcHJlc2VydmVBc3BlY3RSYXRpbz0ieE1pZFlNaWQiPiAgPGNpcmNsZSBjeD0iNTAiIGN5PSI1MCIgZmlsbD0ibm9uZSIgc3Ryb2tlPSIjYzNjM2MzIiBzdHJva2Utd2lkdGg9IjEwIiByPSIzNSIgc3Ryb2tlLWRhc2hhcnJheT0iMTY0LjkzMzYxNDMxMzQ2NDE1IDU2Ljk3Nzg3MTQzNzgyMTM4Ij4gICAgPGFuaW1hdGVUcmFuc2Zvcm0gYXR0cmlidXRlTmFtZT0idHJhbnNmb3JtIiB0eXBlPSJyb3RhdGUiIHJlcGVhdENvdW50PSJpbmRlZmluaXRlIiBkdXI9IjFzIiB2YWx1ZXM9IjAgNTAgNTA7MzYwIDUwIDUwIiBrZXlUaW1lcz0iMDsxIj48L2FuaW1hdGVUcmFuc2Zvcm0+ICA8L2NpcmNsZT48L3N2Zz4=\\\");\\n  background-size: auto calc(min(50%, 400px));\\n}\",{\"id\":\"93571420-e4df-4956-b23d-73d24b7c797d\"},{\"id\":\"afcedad9-1a82-4781-b300-50ea63c4b0f5\"},{\"id\":\"bf15527c-a54e-4a39-a81c-335df3180901\"}],\"margin\":0,\"sizing_mode\":\"stretch_width\",\"align\":\"start\"}}]}}],\"defs\":[{\"type\":\"model\",\"name\":\"ReactiveHTML1\"},{\"type\":\"model\",\"name\":\"FlexBox1\",\"properties\":[{\"name\":\"align_content\",\"kind\":\"Any\",\"default\":\"flex-start\"},{\"name\":\"align_items\",\"kind\":\"Any\",\"default\":\"flex-start\"},{\"name\":\"flex_direction\",\"kind\":\"Any\",\"default\":\"row\"},{\"name\":\"flex_wrap\",\"kind\":\"Any\",\"default\":\"wrap\"},{\"name\":\"justify_content\",\"kind\":\"Any\",\"default\":\"flex-start\"}]},{\"type\":\"model\",\"name\":\"FloatPanel1\",\"properties\":[{\"name\":\"config\",\"kind\":\"Any\",\"default\":{\"type\":\"map\"}},{\"name\":\"contained\",\"kind\":\"Any\",\"default\":true},{\"name\":\"position\",\"kind\":\"Any\",\"default\":\"right-top\"},{\"name\":\"offsetx\",\"kind\":\"Any\",\"default\":null},{\"name\":\"offsety\",\"kind\":\"Any\",\"default\":null},{\"name\":\"theme\",\"kind\":\"Any\",\"default\":\"primary\"},{\"name\":\"status\",\"kind\":\"Any\",\"default\":\"normalized\"}]},{\"type\":\"model\",\"name\":\"GridStack1\",\"properties\":[{\"name\":\"mode\",\"kind\":\"Any\",\"default\":\"warn\"},{\"name\":\"ncols\",\"kind\":\"Any\",\"default\":null},{\"name\":\"nrows\",\"kind\":\"Any\",\"default\":null},{\"name\":\"allow_resize\",\"kind\":\"Any\",\"default\":true},{\"name\":\"allow_drag\",\"kind\":\"Any\",\"default\":true},{\"name\":\"state\",\"kind\":\"Any\",\"default\":[]}]},{\"type\":\"model\",\"name\":\"drag1\",\"properties\":[{\"name\":\"slider_width\",\"kind\":\"Any\",\"default\":5},{\"name\":\"slider_color\",\"kind\":\"Any\",\"default\":\"black\"},{\"name\":\"value\",\"kind\":\"Any\",\"default\":50}]},{\"type\":\"model\",\"name\":\"click1\",\"properties\":[{\"name\":\"terminal_output\",\"kind\":\"Any\",\"default\":\"\"},{\"name\":\"debug_name\",\"kind\":\"Any\",\"default\":\"\"},{\"name\":\"clears\",\"kind\":\"Any\",\"default\":0}]},{\"type\":\"model\",\"name\":\"FastWrapper1\",\"properties\":[{\"name\":\"object\",\"kind\":\"Any\",\"default\":null},{\"name\":\"style\",\"kind\":\"Any\",\"default\":null}]},{\"type\":\"model\",\"name\":\"NotificationAreaBase1\",\"properties\":[{\"name\":\"js_events\",\"kind\":\"Any\",\"default\":{\"type\":\"map\"}},{\"name\":\"position\",\"kind\":\"Any\",\"default\":\"bottom-right\"},{\"name\":\"_clear\",\"kind\":\"Any\",\"default\":0}]},{\"type\":\"model\",\"name\":\"NotificationArea1\",\"properties\":[{\"name\":\"js_events\",\"kind\":\"Any\",\"default\":{\"type\":\"map\"}},{\"name\":\"notifications\",\"kind\":\"Any\",\"default\":[]},{\"name\":\"position\",\"kind\":\"Any\",\"default\":\"bottom-right\"},{\"name\":\"_clear\",\"kind\":\"Any\",\"default\":0},{\"name\":\"types\",\"kind\":\"Any\",\"default\":[{\"type\":\"map\",\"entries\":[[\"type\",\"warning\"],[\"background\",\"#ffc107\"],[\"icon\",{\"type\":\"map\",\"entries\":[[\"className\",\"fas fa-exclamation-triangle\"],[\"tagName\",\"i\"],[\"color\",\"white\"]]}]]},{\"type\":\"map\",\"entries\":[[\"type\",\"info\"],[\"background\",\"#007bff\"],[\"icon\",{\"type\":\"map\",\"entries\":[[\"className\",\"fas fa-info-circle\"],[\"tagName\",\"i\"],[\"color\",\"white\"]]}]]}]}]},{\"type\":\"model\",\"name\":\"Notification\",\"properties\":[{\"name\":\"background\",\"kind\":\"Any\",\"default\":null},{\"name\":\"duration\",\"kind\":\"Any\",\"default\":3000},{\"name\":\"icon\",\"kind\":\"Any\",\"default\":null},{\"name\":\"message\",\"kind\":\"Any\",\"default\":\"\"},{\"name\":\"notification_type\",\"kind\":\"Any\",\"default\":null},{\"name\":\"_destroyed\",\"kind\":\"Any\",\"default\":false}]},{\"type\":\"model\",\"name\":\"TemplateActions1\",\"properties\":[{\"name\":\"open_modal\",\"kind\":\"Any\",\"default\":0},{\"name\":\"close_modal\",\"kind\":\"Any\",\"default\":0}]},{\"type\":\"model\",\"name\":\"BootstrapTemplateActions1\",\"properties\":[{\"name\":\"open_modal\",\"kind\":\"Any\",\"default\":0},{\"name\":\"close_modal\",\"kind\":\"Any\",\"default\":0}]},{\"type\":\"model\",\"name\":\"MaterialTemplateActions1\",\"properties\":[{\"name\":\"open_modal\",\"kind\":\"Any\",\"default\":0},{\"name\":\"close_modal\",\"kind\":\"Any\",\"default\":0}]}]}};\n",
       "  var render_items = [{\"docid\":\"ebf2ecc5-1054-4933-ae88-959ac3a58da7\",\"roots\":{\"868b8e16-357e-4288-96a9-169abc31ee86\":\"b279357f-f8b3-440d-a70f-095f5c95f240\"},\"root_ids\":[\"868b8e16-357e-4288-96a9-169abc31ee86\"]}];\n",
       "  var docs = Object.values(docs_json)\n",
       "  if (!docs) {\n",
       "    return\n",
       "  }\n",
       "  const py_version = docs[0].version.replace('rc', '-rc.').replace('.dev', '-dev.')\n",
       "  const is_dev = py_version.indexOf(\"+\") !== -1 || py_version.indexOf(\"-\") !== -1\n",
       "  function embed_document(root) {\n",
       "    var Bokeh = get_bokeh(root)\n",
       "    Bokeh.embed.embed_items_notebook(docs_json, render_items);\n",
       "    for (const render_item of render_items) {\n",
       "      for (const root_id of render_item.root_ids) {\n",
       "\tconst id_el = document.getElementById(root_id)\n",
       "\tif (id_el.children.length && (id_el.children[0].className === 'bk-root')) {\n",
       "\t  const root_el = id_el.children[0]\n",
       "\t  root_el.id = root_el.id + '-rendered'\n",
       "\t}\n",
       "      }\n",
       "    }\n",
       "  }\n",
       "  function get_bokeh(root) {\n",
       "    if (root.Bokeh === undefined) {\n",
       "      return null\n",
       "    } else if (root.Bokeh.version !== py_version && !is_dev) {\n",
       "      if (root.Bokeh.versions === undefined || !root.Bokeh.versions.has(py_version)) {\n",
       "\treturn null\n",
       "      }\n",
       "      return root.Bokeh.versions.get(py_version);\n",
       "    } else if (root.Bokeh.version === py_version) {\n",
       "      return root.Bokeh\n",
       "    }\n",
       "    return null\n",
       "  }\n",
       "  function is_loaded(root) {\n",
       "    var Bokeh = get_bokeh(root)\n",
       "    return (Bokeh != null && Bokeh.Panel !== undefined)\n",
       "  }\n",
       "  if (is_loaded(root)) {\n",
       "    embed_document(root);\n",
       "  } else {\n",
       "    var attempts = 0;\n",
       "    var timer = setInterval(function(root) {\n",
       "      if (is_loaded(root)) {\n",
       "        clearInterval(timer);\n",
       "        embed_document(root);\n",
       "      } else if (document.readyState == \"complete\") {\n",
       "        attempts++;\n",
       "        if (attempts > 200) {\n",
       "          clearInterval(timer);\n",
       "\t  var Bokeh = get_bokeh(root)\n",
       "\t  if (Bokeh == null || Bokeh.Panel == null) {\n",
       "            console.warn(\"Panel: ERROR: Unable to run Panel code because Bokeh or Panel library is missing\");\n",
       "\t  } else {\n",
       "\t    console.warn(\"Panel: WARNING: Attempting to render but not all required libraries could be resolved.\")\n",
       "\t    embed_document(root)\n",
       "\t  }\n",
       "        }\n",
       "      }\n",
       "    }, 25, root)\n",
       "  }\n",
       "})(window);</script>"
      ],
      "text/plain": [
       ":Curve   [period]   (pct_retained)"
      ]
     },
     "execution_count": 374,
     "metadata": {
      "application/vnd.holoviews_exec.v0+json": {
       "id": "868b8e16-357e-4288-96a9-169abc31ee86"
      }
     },
     "output_type": "execute_result"
    }
   ],
   "source": [
    "plot_1 = data_1.hvplot(kind='line',\n",
    "        x='period',\n",
    "        y='pct_retained',\n",
    "        color='orange',\n",
    "        grid=True,\n",
    "        title='Legislative retention adjusted for actual years in office',\n",
    "        shared_axes=False,\n",
    "        width=650, height=300)\n",
    "plot_1"
   ]
  },
  {
   "cell_type": "markdown",
   "id": "fe645a2f-85d8-4875-9848-71b4e82f2da3",
   "metadata": {},
   "source": [
    "# Retention of legislators by century in which their first term began"
   ]
  },
  {
   "cell_type": "code",
   "execution_count": 375,
   "id": "54c8c6b6-373c-4542-a835-4cd279ab7012",
   "metadata": {
    "tags": []
   },
   "outputs": [
    {
     "name": "stdout",
     "output_type": "stream",
     "text": [
      "Connection to PostgreSQL DB successful\n"
     ]
    },
    {
     "data": {
      "text/plain": [
       "[18.0, 0.0, 368, 368, Decimal('100.0000000000000000')]"
      ]
     },
     "execution_count": 375,
     "metadata": {},
     "output_type": "execute_result"
    }
   ],
   "source": [
    "connection = create_connection(db_name, db_user, db_password, db_host, db_port)\n",
    "\n",
    "cursor = connection.cursor(cursor_factory=DictCursor)  \n",
    "# from psycopg2.extras import NamedTupleCursor | cursor_factory=NamedTupleCursor\n",
    "\n",
    "# Getting table values retail_sales\n",
    "cursor.execute(\"\"\"\n",
    "SELECT first_century, period\n",
    ",first_value(cohort_retained) over (partition by first_century order by period) as cohort_size\n",
    ",cohort_retained\n",
    ",cohort_retained * 100.0 / \n",
    " first_value(cohort_retained) over (partition by first_century order by period) as pct_retained\n",
    "FROM\n",
    "(\n",
    "        SELECT date_part('century',a.first_term) as first_century\n",
    "        ,coalesce(date_part('year',age(c.date,a.first_term)),0) as period\n",
    "        ,count(distinct a.id_bioguide) as cohort_retained\n",
    "        FROM\n",
    "        (\n",
    "                SELECT id_bioguide, min(term_start) as first_term\n",
    "                FROM legislators_terms \n",
    "                GROUP BY 1\n",
    "        ) a\n",
    "        JOIN legislators_terms b on a.id_bioguide = b.id_bioguide \n",
    "        LEFT JOIN (SELECT date,\n",
    "                            EXTRACT(MONTH FROM date) AS month_name,\n",
    "                            EXTRACT(DAY FROM date) AS day_of_month\n",
    "                    FROM\n",
    "                    (\n",
    "                        SELECT distinct make_date(date_part('year', term_start)::int,12,31) AS date\n",
    "                        FROM legislators_terms\n",
    "                        ORDER BY 1) date_dim) c on c.date between b.term_start and b.term_end \n",
    "        and c.month_name = 12 and c.day_of_month = 31\n",
    "        GROUP BY 1,2\n",
    ") aa\n",
    "ORDER BY 1,2\n",
    ";\n",
    "\"\"\")\n",
    "data_2= cursor.fetchall()\n",
    "cursor.close()  # Close the cursor\n",
    "connection.close()  # We close the connection\n",
    "data_2[0]"
   ]
  },
  {
   "cell_type": "code",
   "execution_count": 376,
   "id": "08f4f0c7-3c39-4280-b01c-55f9d26e50b7",
   "metadata": {
    "tags": []
   },
   "outputs": [
    {
     "data": {
      "text/html": [
       "<div>\n",
       "<style scoped>\n",
       "    .dataframe tbody tr th:only-of-type {\n",
       "        vertical-align: middle;\n",
       "    }\n",
       "\n",
       "    .dataframe tbody tr th {\n",
       "        vertical-align: top;\n",
       "    }\n",
       "\n",
       "    .dataframe thead th {\n",
       "        text-align: right;\n",
       "    }\n",
       "</style>\n",
       "<table border=\"1\" class=\"dataframe\">\n",
       "  <thead>\n",
       "    <tr style=\"text-align: right;\">\n",
       "      <th></th>\n",
       "      <th>first_century</th>\n",
       "      <th>period</th>\n",
       "      <th>cohort_size</th>\n",
       "      <th>cohort_retained</th>\n",
       "      <th>pct_retained</th>\n",
       "    </tr>\n",
       "  </thead>\n",
       "  <tbody>\n",
       "    <tr>\n",
       "      <th>0</th>\n",
       "      <td>18.0</td>\n",
       "      <td>0.0</td>\n",
       "      <td>368</td>\n",
       "      <td>368</td>\n",
       "      <td>100.0000000000000000</td>\n",
       "    </tr>\n",
       "    <tr>\n",
       "      <th>1</th>\n",
       "      <td>18.0</td>\n",
       "      <td>1.0</td>\n",
       "      <td>368</td>\n",
       "      <td>360</td>\n",
       "      <td>97.8260869565217391</td>\n",
       "    </tr>\n",
       "    <tr>\n",
       "      <th>2</th>\n",
       "      <td>18.0</td>\n",
       "      <td>2.0</td>\n",
       "      <td>368</td>\n",
       "      <td>242</td>\n",
       "      <td>65.7608695652173913</td>\n",
       "    </tr>\n",
       "    <tr>\n",
       "      <th>3</th>\n",
       "      <td>18.0</td>\n",
       "      <td>3.0</td>\n",
       "      <td>368</td>\n",
       "      <td>233</td>\n",
       "      <td>63.3152173913043478</td>\n",
       "    </tr>\n",
       "    <tr>\n",
       "      <th>4</th>\n",
       "      <td>18.0</td>\n",
       "      <td>4.0</td>\n",
       "      <td>368</td>\n",
       "      <td>149</td>\n",
       "      <td>40.4891304347826087</td>\n",
       "    </tr>\n",
       "  </tbody>\n",
       "</table>\n",
       "</div>"
      ],
      "text/plain": [
       "   first_century  period  cohort_size  cohort_retained          pct_retained\n",
       "0           18.0     0.0          368              368  100.0000000000000000\n",
       "1           18.0     1.0          368              360   97.8260869565217391\n",
       "2           18.0     2.0          368              242   65.7608695652173913\n",
       "3           18.0     3.0          368              233   63.3152173913043478\n",
       "4           18.0     4.0          368              149   40.4891304347826087"
      ]
     },
     "execution_count": 376,
     "metadata": {},
     "output_type": "execute_result"
    }
   ],
   "source": [
    "# Let's convert to DataFrame\n",
    "data_2 = pd.DataFrame(data_2, columns=['first_century','period', 'cohort_size', 'cohort_retained', 'pct_retained'])\n",
    "data_2.head()"
   ]
  },
  {
   "cell_type": "code",
   "execution_count": 377,
   "id": "ba828236-7621-4029-9d94-9e09302b2221",
   "metadata": {
    "tags": []
   },
   "outputs": [
    {
     "data": {
      "text/plain": [
       "first_century        int64\n",
       "period               int64\n",
       "cohort_size          int64\n",
       "cohort_retained      int64\n",
       "pct_retained       float64\n",
       "dtype: object"
      ]
     },
     "execution_count": 377,
     "metadata": {},
     "output_type": "execute_result"
    }
   ],
   "source": [
    "data_2['first_century'] = data_2['first_century'].astype('int')\n",
    "data_2['period'] = data_2['period'].astype('int')\n",
    "data_2['pct_retained'] = data_2['pct_retained'].astype('float')\n",
    "data_2.dtypes"
   ]
  },
  {
   "cell_type": "code",
   "execution_count": 378,
   "id": "2deb68ea-a020-45ae-b6db-cb5402808422",
   "metadata": {
    "tags": []
   },
   "outputs": [
    {
     "data": {},
     "metadata": {},
     "output_type": "display_data"
    },
    {
     "data": {
      "application/vnd.holoviews_exec.v0+json": "",
      "text/html": [
       "<div id='76741d27-57f2-4c84-99af-a9971788aa30'>\n",
       "  <div id=\"d638ce9f-5949-42a6-97ab-1e3360de4ef7\" data-root-id=\"76741d27-57f2-4c84-99af-a9971788aa30\" style=\"display: contents;\"></div>\n",
       "</div>\n",
       "<script type=\"application/javascript\">(function(root) {\n",
       "  var docs_json = {\"dfba3e51-570c-4c63-bc44-f1d440fd7e0f\":{\"version\":\"3.2.1\",\"title\":\"Bokeh Application\",\"roots\":[{\"type\":\"object\",\"name\":\"Row\",\"id\":\"76741d27-57f2-4c84-99af-a9971788aa30\",\"attributes\":{\"name\":\"Row53707\",\"tags\":[\"embedded\"],\"stylesheets\":[\"\\n:host(.pn-loading.pn-arc):before, .pn-loading.pn-arc:before {\\n  background-image: url(\\\"data:image/svg+xml;base64,PHN2ZyB4bWxucz0iaHR0cDovL3d3dy53My5vcmcvMjAwMC9zdmciIHN0eWxlPSJtYXJnaW46IGF1dG87IGJhY2tncm91bmQ6IG5vbmU7IGRpc3BsYXk6IGJsb2NrOyBzaGFwZS1yZW5kZXJpbmc6IGF1dG87IiB2aWV3Qm94PSIwIDAgMTAwIDEwMCIgcHJlc2VydmVBc3BlY3RSYXRpbz0ieE1pZFlNaWQiPiAgPGNpcmNsZSBjeD0iNTAiIGN5PSI1MCIgZmlsbD0ibm9uZSIgc3Ryb2tlPSIjYzNjM2MzIiBzdHJva2Utd2lkdGg9IjEwIiByPSIzNSIgc3Ryb2tlLWRhc2hhcnJheT0iMTY0LjkzMzYxNDMxMzQ2NDE1IDU2Ljk3Nzg3MTQzNzgyMTM4Ij4gICAgPGFuaW1hdGVUcmFuc2Zvcm0gYXR0cmlidXRlTmFtZT0idHJhbnNmb3JtIiB0eXBlPSJyb3RhdGUiIHJlcGVhdENvdW50PSJpbmRlZmluaXRlIiBkdXI9IjFzIiB2YWx1ZXM9IjAgNTAgNTA7MzYwIDUwIDUwIiBrZXlUaW1lcz0iMDsxIj48L2FuaW1hdGVUcmFuc2Zvcm0+ICA8L2NpcmNsZT48L3N2Zz4=\\\");\\n  background-size: auto calc(min(50%, 400px));\\n}\",{\"type\":\"object\",\"name\":\"ImportedStyleSheet\",\"id\":\"9900d72e-1dce-4d3b-be27-e67e2555b162\",\"attributes\":{\"url\":\"https://cdn.holoviz.org/panel/1.2.1/dist/css/loading.css\"}},{\"type\":\"object\",\"name\":\"ImportedStyleSheet\",\"id\":\"38b8b263-82b9-4402-bed4-0cfe34973e21\",\"attributes\":{\"url\":\"https://cdn.holoviz.org/panel/1.2.1/dist/css/listpanel.css\"}},{\"type\":\"object\",\"name\":\"ImportedStyleSheet\",\"id\":\"543f07c8-dfdf-45bf-a47d-9e06e8e20f22\",\"attributes\":{\"url\":\"https://cdn.holoviz.org/panel/1.2.1/dist/bundled/theme/default.css\"}},{\"type\":\"object\",\"name\":\"ImportedStyleSheet\",\"id\":\"d7e4f596-46ba-4073-8446-c1c43431713b\",\"attributes\":{\"url\":\"https://cdn.holoviz.org/panel/1.2.1/dist/bundled/theme/native.css\"}}],\"min_width\":650,\"margin\":0,\"sizing_mode\":\"stretch_width\",\"align\":\"start\",\"children\":[{\"type\":\"object\",\"name\":\"Spacer\",\"id\":\"2b375503-b512-447b-835f-79760928adf7\",\"attributes\":{\"name\":\"HSpacer53718\",\"stylesheets\":[\"\\n:host(.pn-loading.pn-arc):before, .pn-loading.pn-arc:before {\\n  background-image: url(\\\"data:image/svg+xml;base64,PHN2ZyB4bWxucz0iaHR0cDovL3d3dy53My5vcmcvMjAwMC9zdmciIHN0eWxlPSJtYXJnaW46IGF1dG87IGJhY2tncm91bmQ6IG5vbmU7IGRpc3BsYXk6IGJsb2NrOyBzaGFwZS1yZW5kZXJpbmc6IGF1dG87IiB2aWV3Qm94PSIwIDAgMTAwIDEwMCIgcHJlc2VydmVBc3BlY3RSYXRpbz0ieE1pZFlNaWQiPiAgPGNpcmNsZSBjeD0iNTAiIGN5PSI1MCIgZmlsbD0ibm9uZSIgc3Ryb2tlPSIjYzNjM2MzIiBzdHJva2Utd2lkdGg9IjEwIiByPSIzNSIgc3Ryb2tlLWRhc2hhcnJheT0iMTY0LjkzMzYxNDMxMzQ2NDE1IDU2Ljk3Nzg3MTQzNzgyMTM4Ij4gICAgPGFuaW1hdGVUcmFuc2Zvcm0gYXR0cmlidXRlTmFtZT0idHJhbnNmb3JtIiB0eXBlPSJyb3RhdGUiIHJlcGVhdENvdW50PSJpbmRlZmluaXRlIiBkdXI9IjFzIiB2YWx1ZXM9IjAgNTAgNTA7MzYwIDUwIDUwIiBrZXlUaW1lcz0iMDsxIj48L2FuaW1hdGVUcmFuc2Zvcm0+ICA8L2NpcmNsZT48L3N2Zz4=\\\");\\n  background-size: auto calc(min(50%, 400px));\\n}\",{\"id\":\"9900d72e-1dce-4d3b-be27-e67e2555b162\"},{\"id\":\"543f07c8-dfdf-45bf-a47d-9e06e8e20f22\"},{\"id\":\"d7e4f596-46ba-4073-8446-c1c43431713b\"}],\"margin\":0,\"sizing_mode\":\"stretch_width\",\"align\":\"start\"}},{\"type\":\"object\",\"name\":\"Figure\",\"id\":\"836d0e57-179e-49f9-bf1e-1c60b2561a4a\",\"attributes\":{\"width\":650,\"height\":300,\"margin\":[5,10],\"sizing_mode\":\"fixed\",\"align\":\"start\",\"x_range\":{\"type\":\"object\",\"name\":\"Range1d\",\"id\":\"e3a4152c-f3db-4f24-97ad-5cfda0bf2b29\",\"attributes\":{\"tags\":[[[\"period\",\"period\",null]],[]],\"end\":59.0,\"reset_start\":0.0,\"reset_end\":59.0}},\"y_range\":{\"type\":\"object\",\"name\":\"Range1d\",\"id\":\"ca3047e7-8f5a-4dd5-8480-953199eee21d\",\"attributes\":{\"tags\":[[[\"pct_retained\",\"pct_retained\",null]],{\"type\":\"map\",\"entries\":[[\"invert_yaxis\",false],[\"autorange\",false]]}],\"start\":-9.978393242977805,\"end\":109.99803574936162,\"reset_start\":-9.978393242977805,\"reset_end\":109.99803574936162}},\"x_scale\":{\"type\":\"object\",\"name\":\"LinearScale\",\"id\":\"17443035-7d3a-4a68-8bee-003c5d1173af\"},\"y_scale\":{\"type\":\"object\",\"name\":\"LinearScale\",\"id\":\"ea7bbf90-db53-4827-a134-3b1f43c7060c\"},\"title\":{\"type\":\"object\",\"name\":\"Title\",\"id\":\"88acc0ef-3462-48bf-b427-ebffe2f4a1be\",\"attributes\":{\"text\":\"Retention of legislators by century in which their first term began\",\"text_color\":\"black\",\"text_font_size\":\"12pt\"}},\"renderers\":[{\"type\":\"object\",\"name\":\"GlyphRenderer\",\"id\":\"ccbd67d8-9c7d-44fc-92f1-0ecbaa8b99f3\",\"attributes\":{\"name\":\"18\",\"data_source\":{\"type\":\"object\",\"name\":\"ColumnDataSource\",\"id\":\"09822bb2-c6c5-4207-9263-5ec637ea6855\",\"attributes\":{\"selected\":{\"type\":\"object\",\"name\":\"Selection\",\"id\":\"b7fd79e6-7d0d-4b90-a877-b959bddd445d\",\"attributes\":{\"indices\":[],\"line_indices\":[]}},\"selection_policy\":{\"type\":\"object\",\"name\":\"UnionRenderers\",\"id\":\"6427cfdf-4bea-4e92-8493-7c82a6003250\"},\"data\":{\"type\":\"map\",\"entries\":[[\"period\",{\"type\":\"ndarray\",\"array\":{\"type\":\"bytes\",\"data\":\"AAAAAAEAAAACAAAAAwAAAAQAAAAFAAAABgAAAAcAAAAIAAAACQAAAAoAAAALAAAADAAAAA0AAAAOAAAADwAAABAAAAARAAAAEgAAABMAAAAUAAAAFQAAABYAAAAXAAAAGAAAABkAAAAaAAAAGwAAABwAAAAdAAAAHgAAAB8AAAAgAAAAIQAAACIAAAAjAAAAJAAAACUAAAAmAAAAJwAAAA==\"},\"shape\":[40],\"dtype\":\"int32\",\"order\":\"little\"}],[\"pct_retained\",{\"type\":\"ndarray\",\"array\":{\"type\":\"bytes\",\"data\":\"AAAAAAAAWUBvetOb3nRYQFnIQhaycFBALWQhC1moT0BOb3rTmz5EQFnIQhaykENAetOb3vTmOkALWchCFnI7QCELWchC1jNAyEIWspAFM0AWspCFLGQxQE5vetObHjFAZCELWchCLEAhC1nIQhYqQE5vetObXidATm9605teJ0DqTW960xskQMhCFrKQBSNApze96U1vHkBkIQtZyEIcQHrTm970phRAOL3pTW96EkAhC1nIQhYKQGQhC1nIQgxA9aY3velNEECnN73pTW8OQFnIQhaykANAWchCFrKQA0Cc3vSmN70FQN/0pje96QdAWchCFrKQA0AWspCFLGQBQJze9KY3vfU/nN70pje99T+c3vSmN731P5ze9KY3vfU/IQtZyEIW6j8WspCFLGTRPxaykIUsZNE/FrKQhSxk0T8=\"},\"shape\":[40],\"dtype\":\"float64\",\"order\":\"little\"}],[\"first_century\",[18,18,18,18,18,18,18,18,18,18,18,18,18,18,18,18,18,18,18,18,18,18,18,18,18,18,18,18,18,18,18,18,18,18,18,18,18,18,18,18]]]}}},\"view\":{\"type\":\"object\",\"name\":\"CDSView\",\"id\":\"23004495-2a70-479f-bd0a-8953769d9b19\",\"attributes\":{\"filter\":{\"type\":\"object\",\"name\":\"AllIndices\",\"id\":\"7f24c824-cc42-4fee-9d96-ddcd4d118adf\"}}},\"glyph\":{\"type\":\"object\",\"name\":\"Line\",\"id\":\"01fa92c5-bc76-44bf-84a4-71a10d9b9460\",\"attributes\":{\"tags\":[\"apply_ranges\"],\"x\":{\"type\":\"field\",\"field\":\"period\"},\"y\":{\"type\":\"field\",\"field\":\"pct_retained\"},\"line_color\":\"#30a2da\",\"line_width\":2}},\"selection_glyph\":{\"type\":\"object\",\"name\":\"Line\",\"id\":\"62a0e98a-fac6-4ebf-aa51-9cd2836f5b8c\",\"attributes\":{\"tags\":[\"apply_ranges\"],\"x\":{\"type\":\"field\",\"field\":\"period\"},\"y\":{\"type\":\"field\",\"field\":\"pct_retained\"},\"line_color\":\"#30a2da\",\"line_width\":2}},\"nonselection_glyph\":{\"type\":\"object\",\"name\":\"Line\",\"id\":\"1a558e7a-5d88-41e8-9add-f4c779e4bc21\",\"attributes\":{\"tags\":[\"apply_ranges\"],\"x\":{\"type\":\"field\",\"field\":\"period\"},\"y\":{\"type\":\"field\",\"field\":\"pct_retained\"},\"line_color\":\"#30a2da\",\"line_alpha\":0.1,\"line_width\":2}},\"muted_glyph\":{\"type\":\"object\",\"name\":\"Line\",\"id\":\"10192ee3-5117-447c-a498-ff53ccea8c27\",\"attributes\":{\"tags\":[\"apply_ranges\"],\"x\":{\"type\":\"field\",\"field\":\"period\"},\"y\":{\"type\":\"field\",\"field\":\"pct_retained\"},\"line_color\":\"#30a2da\",\"line_alpha\":0.2,\"line_width\":2}}}},{\"type\":\"object\",\"name\":\"GlyphRenderer\",\"id\":\"6835f68c-76a8-4523-977e-5850b7612150\",\"attributes\":{\"name\":\"19\",\"data_source\":{\"type\":\"object\",\"name\":\"ColumnDataSource\",\"id\":\"eed31193-f6e3-4e7d-a29b-bc9fd1989458\",\"attributes\":{\"selected\":{\"type\":\"object\",\"name\":\"Selection\",\"id\":\"7af4caa1-1de3-4e3a-a17c-ae2cdacd2891\",\"attributes\":{\"indices\":[],\"line_indices\":[]}},\"selection_policy\":{\"type\":\"object\",\"name\":\"UnionRenderers\",\"id\":\"21893df7-fb5d-45f1-aaeb-4d7f8b248b06\"},\"data\":{\"type\":\"map\",\"entries\":[[\"period\",{\"type\":\"ndarray\",\"array\":{\"type\":\"bytes\",\"data\":\"AAAAAAEAAAACAAAAAwAAAAQAAAAFAAAABgAAAAcAAAAIAAAACQAAAAoAAAALAAAADAAAAA0AAAAOAAAADwAAABAAAAARAAAAEgAAABMAAAAUAAAAFQAAABYAAAAXAAAAGAAAABkAAAAaAAAAGwAAABwAAAAdAAAAHgAAAB8AAAAgAAAAIQAAACIAAAAjAAAAJAAAACUAAAAmAAAAJwAAACgAAAApAAAAKgAAACsAAAAsAAAALQAAAC4AAAAvAAAAMAAAADEAAAAyAAAAMwAAAA==\"},\"shape\":[52],\"dtype\":\"int32\",\"order\":\"little\"}],[\"pct_retained\",{\"type\":\"ndarray\",\"array\":{\"type\":\"bytes\",\"data\":\"AAAAAAAAWUADghNgjKZXQNc3BiXjsUtAe6wE9+a3SUDteVjtkFY+QG3RDcT4NTxAQ/zT4GyrMkDV8gsuaewxQNWFGWSzZitAIEK/undaKkDlAF7VWp8lQAZ7137dgiRAa1w6bNvLIEAwbG7Z7lEgQLQLoLowgxxA6qavOtRuG0A/2nJCJ04XQHjoeLNA2BVA73d7humKEkD2XWho1ccRQDLSJML1swxAPisIlVePC0BZUMUrkeQIQLktAVl24AdA4x6Ys4evA0BD/NPgbKsCQKZMBv/HRQFArjLz4LOCAECalU3Rxuz6P6lhJ5WeZvk/uS0BWXbg9z8o1xZKM1b1P4+aP1kEj/M/pkwG/8dF8T/LDvyyJHvuP4rJcw3vcuw/aRyf72he5z8o1xZKM1blP/ZdaGjVx+E/BipCLK1B4D+pYSeVnmbZP0dvytHiSdI/islzDe9yzD9KhOtnuWrKP0dvytHiScI/R2/K0eJJwj8JP2PCg2K4P4e0UncYUrQ/CT9jwoNiqD8GKkIsrUGgPwYqQiytQaA/BipCLK1BoD8=\"},\"shape\":[52],\"dtype\":\"float64\",\"order\":\"little\"}],[\"first_century\",[19,19,19,19,19,19,19,19,19,19,19,19,19,19,19,19,19,19,19,19,19,19,19,19,19,19,19,19,19,19,19,19,19,19,19,19,19,19,19,19,19,19,19,19,19,19,19,19,19,19,19,19]]]}}},\"view\":{\"type\":\"object\",\"name\":\"CDSView\",\"id\":\"612642b1-8937-4e0d-9d23-b429b526bf51\",\"attributes\":{\"filter\":{\"type\":\"object\",\"name\":\"AllIndices\",\"id\":\"3e21ed41-0c19-4f38-99cb-3861a3ab9545\"}}},\"glyph\":{\"type\":\"object\",\"name\":\"Line\",\"id\":\"a1ab3bd2-d008-47af-8013-80462cd59c06\",\"attributes\":{\"tags\":[\"apply_ranges\"],\"x\":{\"type\":\"field\",\"field\":\"period\"},\"y\":{\"type\":\"field\",\"field\":\"pct_retained\"},\"line_color\":\"#fc4f30\",\"line_width\":2}},\"selection_glyph\":{\"type\":\"object\",\"name\":\"Line\",\"id\":\"ebf68bcb-c014-4d48-9ba3-464bdf8ee60d\",\"attributes\":{\"tags\":[\"apply_ranges\"],\"x\":{\"type\":\"field\",\"field\":\"period\"},\"y\":{\"type\":\"field\",\"field\":\"pct_retained\"},\"line_color\":\"#fc4f30\",\"line_width\":2}},\"nonselection_glyph\":{\"type\":\"object\",\"name\":\"Line\",\"id\":\"d2604973-8835-4635-9f3a-3961a7e30292\",\"attributes\":{\"tags\":[\"apply_ranges\"],\"x\":{\"type\":\"field\",\"field\":\"period\"},\"y\":{\"type\":\"field\",\"field\":\"pct_retained\"},\"line_color\":\"#fc4f30\",\"line_alpha\":0.1,\"line_width\":2}},\"muted_glyph\":{\"type\":\"object\",\"name\":\"Line\",\"id\":\"e4f2f0f7-a436-46f1-9ad5-06a5513afcda\",\"attributes\":{\"tags\":[\"apply_ranges\"],\"x\":{\"type\":\"field\",\"field\":\"period\"},\"y\":{\"type\":\"field\",\"field\":\"pct_retained\"},\"line_color\":\"#fc4f30\",\"line_alpha\":0.2,\"line_width\":2}}}},{\"type\":\"object\",\"name\":\"GlyphRenderer\",\"id\":\"06a0d2d5-da8b-45c4-b3b5-76adfc475181\",\"attributes\":{\"name\":\"20\",\"data_source\":{\"type\":\"object\",\"name\":\"ColumnDataSource\",\"id\":\"9a08671a-4fd7-4dcf-820f-72bb2243fec8\",\"attributes\":{\"selected\":{\"type\":\"object\",\"name\":\"Selection\",\"id\":\"624d7164-b40b-4da9-b12d-7e0990dcb1ec\",\"attributes\":{\"indices\":[],\"line_indices\":[]}},\"selection_policy\":{\"type\":\"object\",\"name\":\"UnionRenderers\",\"id\":\"0aa9b96a-872e-4b27-a5ad-83d2f748e4e1\"},\"data\":{\"type\":\"map\",\"entries\":[[\"period\",{\"type\":\"ndarray\",\"array\":{\"type\":\"bytes\",\"data\":\"AAAAAAEAAAACAAAAAwAAAAQAAAAFAAAABgAAAAcAAAAIAAAACQAAAAoAAAALAAAADAAAAA0AAAAOAAAADwAAABAAAAARAAAAEgAAABMAAAAUAAAAFQAAABYAAAAXAAAAGAAAABkAAAAaAAAAGwAAABwAAAAdAAAAHgAAAB8AAAAgAAAAIQAAACIAAAAjAAAAJAAAACUAAAAmAAAAJwAAACgAAAApAAAAKgAAACsAAAAsAAAALQAAAC4AAAAvAAAAMAAAADEAAAAyAAAAMwAAADQAAAA1AAAANgAAADcAAAA4AAAAOQAAADoAAAA7AAAA\"},\"shape\":[60],\"dtype\":\"int32\",\"order\":\"little\"}],[\"pct_retained\",{\"type\":\"ndarray\",\"array\":{\"type\":\"bytes\",\"data\":\"AAAAAAAAWUCLcXofmo1YQDQkEHX48VJAMvagtczTUkAPJZUOCmhQQDez3KlaR1BA7MXgboHmSkA/p5ZEZNJKQGaEHYdL9kZADUeJMhHORkBJ/dGQQNRDQBnlPLdsmkNAoyBdbCdQQEAfJxK9cCpAQISY7TmA7jtAenfoG+eEO0DJ4rb5Hog3QBstte/rZDdAvOKBw/BEM0Bgd36viv4yQHy/YFRmTy9AxehZLJrCLkCx9Y6X/jMqQKMPY9ojnSlALCdH855tJEB3fq+K/v4jQCt2hpo1siBAI+w4XLJXIECZV6bcdCQZQDViVYqLgxhAvXk5owZUE0CywXylV9sSQLcCLm+/Kw5AXsWZGoUDDkDeoW+cE74EQHqsHkoqHQRAPp1jIXiZ/D/apxLPjvj7P9FsBDii4vc/CYJik8+g9j8j7DhcslfwP3/tzxOSbe8/QpfA7vxe5T8Wt833QHzjP3/tzxOSbd8/8BeMyuzp3D9Cl8Du/F7VP7LBfKVX29I/I+w4XLJX0D+3Ai5vvyvOPwmCYpPPoMY/CYJik8+gxj+3Ai5vvyu+P3qsHkoqHbQ/twIub78rrj+3Ai5vvyuuP7cCLm+/K64/eqweSiodpD96rB5KKh2UP3qsHkoqHZQ/\"},\"shape\":[60],\"dtype\":\"float64\",\"order\":\"little\"}],[\"first_century\",[20,20,20,20,20,20,20,20,20,20,20,20,20,20,20,20,20,20,20,20,20,20,20,20,20,20,20,20,20,20,20,20,20,20,20,20,20,20,20,20,20,20,20,20,20,20,20,20,20,20,20,20,20,20,20,20,20,20,20,20]]]}}},\"view\":{\"type\":\"object\",\"name\":\"CDSView\",\"id\":\"cedc557e-b6b4-4973-98b1-06a1f029b202\",\"attributes\":{\"filter\":{\"type\":\"object\",\"name\":\"AllIndices\",\"id\":\"8b2202da-6428-49bf-ad48-0cf0744550e6\"}}},\"glyph\":{\"type\":\"object\",\"name\":\"Line\",\"id\":\"777bfc21-7a5d-4428-aaf7-f1befb909783\",\"attributes\":{\"tags\":[\"apply_ranges\"],\"x\":{\"type\":\"field\",\"field\":\"period\"},\"y\":{\"type\":\"field\",\"field\":\"pct_retained\"},\"line_color\":\"#e5ae38\",\"line_width\":2}},\"selection_glyph\":{\"type\":\"object\",\"name\":\"Line\",\"id\":\"c4f6385f-97ca-45c0-9054-06a9a3b69c0a\",\"attributes\":{\"tags\":[\"apply_ranges\"],\"x\":{\"type\":\"field\",\"field\":\"period\"},\"y\":{\"type\":\"field\",\"field\":\"pct_retained\"},\"line_color\":\"#e5ae38\",\"line_width\":2}},\"nonselection_glyph\":{\"type\":\"object\",\"name\":\"Line\",\"id\":\"376cba2a-24cb-427e-b2be-4c1419933840\",\"attributes\":{\"tags\":[\"apply_ranges\"],\"x\":{\"type\":\"field\",\"field\":\"period\"},\"y\":{\"type\":\"field\",\"field\":\"pct_retained\"},\"line_color\":\"#e5ae38\",\"line_alpha\":0.1,\"line_width\":2}},\"muted_glyph\":{\"type\":\"object\",\"name\":\"Line\",\"id\":\"45f6572a-a314-4643-9959-740245d8d8d4\",\"attributes\":{\"tags\":[\"apply_ranges\"],\"x\":{\"type\":\"field\",\"field\":\"period\"},\"y\":{\"type\":\"field\",\"field\":\"pct_retained\"},\"line_color\":\"#e5ae38\",\"line_alpha\":0.2,\"line_width\":2}}}},{\"type\":\"object\",\"name\":\"GlyphRenderer\",\"id\":\"7455adad-a372-493b-81e5-5151dbd89fd3\",\"attributes\":{\"name\":\"21\",\"data_source\":{\"type\":\"object\",\"name\":\"ColumnDataSource\",\"id\":\"e37809ec-a0fc-4766-b058-da77a1d96557\",\"attributes\":{\"selected\":{\"type\":\"object\",\"name\":\"Selection\",\"id\":\"bd4bf265-77c1-4fe3-bb70-3431804db22c\",\"attributes\":{\"indices\":[],\"line_indices\":[]}},\"selection_policy\":{\"type\":\"object\",\"name\":\"UnionRenderers\",\"id\":\"8cdb5519-4100-46ac-be3f-2d598464d58c\"},\"data\":{\"type\":\"map\",\"entries\":[[\"period\",{\"type\":\"ndarray\",\"array\":{\"type\":\"bytes\",\"data\":\"AAAAAAEAAAACAAAAAwAAAAQAAAAFAAAABgAAAAcAAAAIAAAACQAAAAoAAAALAAAADAAAAA0AAAAOAAAADwAAABAAAAARAAAAEgAAABMAAAA=\"},\"shape\":[20],\"dtype\":\"int32\",\"order\":\"little\"}],[\"pct_retained\",{\"type\":\"ndarray\",\"array\":{\"type\":\"bytes\",\"data\":\"AAAAAAAAWUDlNZTXUD5YQAAAAAAAwFJA8xrKaygPUkDKayivobxNQF5DeQ3lNU1AKK+hvIayRkCvobyG8hpGQPMaymsoLz9A5TWU11DePUCU11BeQ/k1QNhQXkN5DTVAvYbyGsprLEBDeQ3lNZQqQEN5DeU1lCBADeU1lNdQIECU11BeQ3kTQL2G8hrKaxJANpTXUF5D+T+H8hrKayj3Pw==\"},\"shape\":[20],\"dtype\":\"float64\",\"order\":\"little\"}],[\"first_century\",[21,21,21,21,21,21,21,21,21,21,21,21,21,21,21,21,21,21,21,21]]]}}},\"view\":{\"type\":\"object\",\"name\":\"CDSView\",\"id\":\"06492a15-987c-4888-b1fb-7aceeee1824d\",\"attributes\":{\"filter\":{\"type\":\"object\",\"name\":\"AllIndices\",\"id\":\"5811623a-86dd-4518-a533-0a8aa0aa026c\"}}},\"glyph\":{\"type\":\"object\",\"name\":\"Line\",\"id\":\"aaef0840-750a-4852-a8df-52d738888fbe\",\"attributes\":{\"tags\":[\"apply_ranges\"],\"x\":{\"type\":\"field\",\"field\":\"period\"},\"y\":{\"type\":\"field\",\"field\":\"pct_retained\"},\"line_color\":\"#6d904f\",\"line_width\":2}},\"selection_glyph\":{\"type\":\"object\",\"name\":\"Line\",\"id\":\"9069de30-0bca-4da2-a5a5-cfd705e7e7a6\",\"attributes\":{\"tags\":[\"apply_ranges\"],\"x\":{\"type\":\"field\",\"field\":\"period\"},\"y\":{\"type\":\"field\",\"field\":\"pct_retained\"},\"line_color\":\"#6d904f\",\"line_width\":2}},\"nonselection_glyph\":{\"type\":\"object\",\"name\":\"Line\",\"id\":\"5c7a2466-9df7-4076-baca-da12df3dccb8\",\"attributes\":{\"tags\":[\"apply_ranges\"],\"x\":{\"type\":\"field\",\"field\":\"period\"},\"y\":{\"type\":\"field\",\"field\":\"pct_retained\"},\"line_color\":\"#6d904f\",\"line_alpha\":0.1,\"line_width\":2}},\"muted_glyph\":{\"type\":\"object\",\"name\":\"Line\",\"id\":\"f91a5f96-c016-439a-aba1-88caf135cf77\",\"attributes\":{\"tags\":[\"apply_ranges\"],\"x\":{\"type\":\"field\",\"field\":\"period\"},\"y\":{\"type\":\"field\",\"field\":\"pct_retained\"},\"line_color\":\"#6d904f\",\"line_alpha\":0.2,\"line_width\":2}}}}],\"toolbar\":{\"type\":\"object\",\"name\":\"Toolbar\",\"id\":\"cd3bc154-003c-46f3-bd91-da5ac68a2bbc\",\"attributes\":{\"tools\":[{\"type\":\"object\",\"name\":\"WheelZoomTool\",\"id\":\"6fd49945-76ae-4882-a95e-8da796c8baf5\",\"attributes\":{\"tags\":[\"hv_created\"],\"zoom_together\":\"none\"}},{\"type\":\"object\",\"name\":\"HoverTool\",\"id\":\"41cf777f-22a3-473a-9749-d0d0ccb53e8b\",\"attributes\":{\"tags\":[\"hv_created\"],\"renderers\":[{\"id\":\"ccbd67d8-9c7d-44fc-92f1-0ecbaa8b99f3\"},{\"id\":\"6835f68c-76a8-4523-977e-5850b7612150\"},{\"id\":\"06a0d2d5-da8b-45c4-b3b5-76adfc475181\"},{\"id\":\"7455adad-a372-493b-81e5-5151dbd89fd3\"}],\"tooltips\":[[\"first_century\",\"@{first_century}\"],[\"period\",\"@{period}\"],[\"pct_retained\",\"@{pct_retained}\"]]}},{\"type\":\"object\",\"name\":\"SaveTool\",\"id\":\"1bee6895-e4da-4b29-990f-7fc21b23e6ca\"},{\"type\":\"object\",\"name\":\"PanTool\",\"id\":\"43fad8a7-9387-4453-852c-23956410c975\"},{\"type\":\"object\",\"name\":\"BoxZoomTool\",\"id\":\"9a81ec32-2acf-4afd-b9a6-f9f92fcbcdb1\",\"attributes\":{\"overlay\":{\"type\":\"object\",\"name\":\"BoxAnnotation\",\"id\":\"c4c6bb29-dc3c-41d6-9338-d3639cf86059\",\"attributes\":{\"syncable\":false,\"level\":\"overlay\",\"visible\":false,\"left_units\":\"canvas\",\"right_units\":\"canvas\",\"bottom_units\":\"canvas\",\"top_units\":\"canvas\",\"line_color\":\"black\",\"line_alpha\":1.0,\"line_width\":2,\"line_dash\":[4,4],\"fill_color\":\"lightgrey\",\"fill_alpha\":0.5}}}},{\"type\":\"object\",\"name\":\"ResetTool\",\"id\":\"f7cdd668-425a-4122-93cf-743de1e493fd\"}],\"active_drag\":{\"id\":\"43fad8a7-9387-4453-852c-23956410c975\"},\"active_scroll\":{\"id\":\"6fd49945-76ae-4882-a95e-8da796c8baf5\"}}},\"left\":[{\"type\":\"object\",\"name\":\"LinearAxis\",\"id\":\"7da2dad0-68fd-4883-a7eb-cf756b69fc9f\",\"attributes\":{\"ticker\":{\"type\":\"object\",\"name\":\"BasicTicker\",\"id\":\"d5ab9ac7-a3b6-4b5b-b989-01913b0800d9\",\"attributes\":{\"mantissas\":[1,2,5]}},\"formatter\":{\"type\":\"object\",\"name\":\"BasicTickFormatter\",\"id\":\"38ed8399-7fdc-4ba7-8ea6-355f3684d12b\"},\"axis_label\":\"pct_retained\",\"major_label_policy\":{\"type\":\"object\",\"name\":\"AllLabels\",\"id\":\"82c895af-a223-471c-aa5a-6d1991bb8370\"}}}],\"above\":[{\"type\":\"object\",\"name\":\"Legend\",\"id\":\"308b7290-6858-44cc-99f9-210c9bf85b9a\",\"attributes\":{\"location\":[0,0],\"orientation\":\"horizontal\",\"title\":\"first_century\",\"click_policy\":\"mute\",\"items\":[{\"type\":\"object\",\"name\":\"LegendItem\",\"id\":\"573ad561-e8cc-4b65-83ea-7c455948a178\",\"attributes\":{\"label\":{\"type\":\"value\",\"value\":\"18\"},\"renderers\":[{\"id\":\"ccbd67d8-9c7d-44fc-92f1-0ecbaa8b99f3\"}]}},{\"type\":\"object\",\"name\":\"LegendItem\",\"id\":\"e1339eea-577f-4299-a39c-2b644d391c3e\",\"attributes\":{\"label\":{\"type\":\"value\",\"value\":\"19\"},\"renderers\":[{\"id\":\"6835f68c-76a8-4523-977e-5850b7612150\"}]}},{\"type\":\"object\",\"name\":\"LegendItem\",\"id\":\"8ec5643d-aa53-4f8e-821b-c07092322504\",\"attributes\":{\"label\":{\"type\":\"value\",\"value\":\"20\"},\"renderers\":[{\"id\":\"06a0d2d5-da8b-45c4-b3b5-76adfc475181\"}]}},{\"type\":\"object\",\"name\":\"LegendItem\",\"id\":\"2f1e8e6f-53dd-4604-bf4e-e2cfcae8a6bb\",\"attributes\":{\"label\":{\"type\":\"value\",\"value\":\"21\"},\"renderers\":[{\"id\":\"7455adad-a372-493b-81e5-5151dbd89fd3\"}]}}]}}],\"below\":[{\"type\":\"object\",\"name\":\"LinearAxis\",\"id\":\"d86132a0-5b91-43f2-b6d8-7e24a820e240\",\"attributes\":{\"ticker\":{\"type\":\"object\",\"name\":\"BasicTicker\",\"id\":\"ce22e220-b591-4c52-95d8-f04b5d219ab5\",\"attributes\":{\"mantissas\":[1,2,5]}},\"formatter\":{\"type\":\"object\",\"name\":\"BasicTickFormatter\",\"id\":\"3198e7ce-a2c2-49e0-a0b8-4dd624e743a6\"},\"axis_label\":\"period\",\"major_label_policy\":{\"type\":\"object\",\"name\":\"AllLabels\",\"id\":\"6758d7b1-f951-4867-9a9f-1ffc2b2e76aa\"}}}],\"center\":[{\"type\":\"object\",\"name\":\"Grid\",\"id\":\"39e51745-2f74-4800-bc6d-7ca77702e01f\",\"attributes\":{\"axis\":{\"id\":\"d86132a0-5b91-43f2-b6d8-7e24a820e240\"},\"ticker\":{\"id\":\"ce22e220-b591-4c52-95d8-f04b5d219ab5\"}}},{\"type\":\"object\",\"name\":\"Grid\",\"id\":\"be24cfe6-ce62-4a6f-9548-1df2c2d1cda8\",\"attributes\":{\"dimension\":1,\"axis\":{\"id\":\"7da2dad0-68fd-4883-a7eb-cf756b69fc9f\"},\"ticker\":{\"id\":\"d5ab9ac7-a3b6-4b5b-b989-01913b0800d9\"}}}],\"min_border_top\":10,\"min_border_bottom\":10,\"min_border_left\":10,\"min_border_right\":10,\"output_backend\":\"webgl\"}},{\"type\":\"object\",\"name\":\"Spacer\",\"id\":\"9ff13916-4f5d-400f-b426-382e1681628b\",\"attributes\":{\"name\":\"HSpacer53721\",\"stylesheets\":[\"\\n:host(.pn-loading.pn-arc):before, .pn-loading.pn-arc:before {\\n  background-image: url(\\\"data:image/svg+xml;base64,PHN2ZyB4bWxucz0iaHR0cDovL3d3dy53My5vcmcvMjAwMC9zdmciIHN0eWxlPSJtYXJnaW46IGF1dG87IGJhY2tncm91bmQ6IG5vbmU7IGRpc3BsYXk6IGJsb2NrOyBzaGFwZS1yZW5kZXJpbmc6IGF1dG87IiB2aWV3Qm94PSIwIDAgMTAwIDEwMCIgcHJlc2VydmVBc3BlY3RSYXRpbz0ieE1pZFlNaWQiPiAgPGNpcmNsZSBjeD0iNTAiIGN5PSI1MCIgZmlsbD0ibm9uZSIgc3Ryb2tlPSIjYzNjM2MzIiBzdHJva2Utd2lkdGg9IjEwIiByPSIzNSIgc3Ryb2tlLWRhc2hhcnJheT0iMTY0LjkzMzYxNDMxMzQ2NDE1IDU2Ljk3Nzg3MTQzNzgyMTM4Ij4gICAgPGFuaW1hdGVUcmFuc2Zvcm0gYXR0cmlidXRlTmFtZT0idHJhbnNmb3JtIiB0eXBlPSJyb3RhdGUiIHJlcGVhdENvdW50PSJpbmRlZmluaXRlIiBkdXI9IjFzIiB2YWx1ZXM9IjAgNTAgNTA7MzYwIDUwIDUwIiBrZXlUaW1lcz0iMDsxIj48L2FuaW1hdGVUcmFuc2Zvcm0+ICA8L2NpcmNsZT48L3N2Zz4=\\\");\\n  background-size: auto calc(min(50%, 400px));\\n}\",{\"id\":\"9900d72e-1dce-4d3b-be27-e67e2555b162\"},{\"id\":\"543f07c8-dfdf-45bf-a47d-9e06e8e20f22\"},{\"id\":\"d7e4f596-46ba-4073-8446-c1c43431713b\"}],\"margin\":0,\"sizing_mode\":\"stretch_width\",\"align\":\"start\"}}]}}],\"defs\":[{\"type\":\"model\",\"name\":\"ReactiveHTML1\"},{\"type\":\"model\",\"name\":\"FlexBox1\",\"properties\":[{\"name\":\"align_content\",\"kind\":\"Any\",\"default\":\"flex-start\"},{\"name\":\"align_items\",\"kind\":\"Any\",\"default\":\"flex-start\"},{\"name\":\"flex_direction\",\"kind\":\"Any\",\"default\":\"row\"},{\"name\":\"flex_wrap\",\"kind\":\"Any\",\"default\":\"wrap\"},{\"name\":\"justify_content\",\"kind\":\"Any\",\"default\":\"flex-start\"}]},{\"type\":\"model\",\"name\":\"FloatPanel1\",\"properties\":[{\"name\":\"config\",\"kind\":\"Any\",\"default\":{\"type\":\"map\"}},{\"name\":\"contained\",\"kind\":\"Any\",\"default\":true},{\"name\":\"position\",\"kind\":\"Any\",\"default\":\"right-top\"},{\"name\":\"offsetx\",\"kind\":\"Any\",\"default\":null},{\"name\":\"offsety\",\"kind\":\"Any\",\"default\":null},{\"name\":\"theme\",\"kind\":\"Any\",\"default\":\"primary\"},{\"name\":\"status\",\"kind\":\"Any\",\"default\":\"normalized\"}]},{\"type\":\"model\",\"name\":\"GridStack1\",\"properties\":[{\"name\":\"mode\",\"kind\":\"Any\",\"default\":\"warn\"},{\"name\":\"ncols\",\"kind\":\"Any\",\"default\":null},{\"name\":\"nrows\",\"kind\":\"Any\",\"default\":null},{\"name\":\"allow_resize\",\"kind\":\"Any\",\"default\":true},{\"name\":\"allow_drag\",\"kind\":\"Any\",\"default\":true},{\"name\":\"state\",\"kind\":\"Any\",\"default\":[]}]},{\"type\":\"model\",\"name\":\"drag1\",\"properties\":[{\"name\":\"slider_width\",\"kind\":\"Any\",\"default\":5},{\"name\":\"slider_color\",\"kind\":\"Any\",\"default\":\"black\"},{\"name\":\"value\",\"kind\":\"Any\",\"default\":50}]},{\"type\":\"model\",\"name\":\"click1\",\"properties\":[{\"name\":\"terminal_output\",\"kind\":\"Any\",\"default\":\"\"},{\"name\":\"debug_name\",\"kind\":\"Any\",\"default\":\"\"},{\"name\":\"clears\",\"kind\":\"Any\",\"default\":0}]},{\"type\":\"model\",\"name\":\"FastWrapper1\",\"properties\":[{\"name\":\"object\",\"kind\":\"Any\",\"default\":null},{\"name\":\"style\",\"kind\":\"Any\",\"default\":null}]},{\"type\":\"model\",\"name\":\"NotificationAreaBase1\",\"properties\":[{\"name\":\"js_events\",\"kind\":\"Any\",\"default\":{\"type\":\"map\"}},{\"name\":\"position\",\"kind\":\"Any\",\"default\":\"bottom-right\"},{\"name\":\"_clear\",\"kind\":\"Any\",\"default\":0}]},{\"type\":\"model\",\"name\":\"NotificationArea1\",\"properties\":[{\"name\":\"js_events\",\"kind\":\"Any\",\"default\":{\"type\":\"map\"}},{\"name\":\"notifications\",\"kind\":\"Any\",\"default\":[]},{\"name\":\"position\",\"kind\":\"Any\",\"default\":\"bottom-right\"},{\"name\":\"_clear\",\"kind\":\"Any\",\"default\":0},{\"name\":\"types\",\"kind\":\"Any\",\"default\":[{\"type\":\"map\",\"entries\":[[\"type\",\"warning\"],[\"background\",\"#ffc107\"],[\"icon\",{\"type\":\"map\",\"entries\":[[\"className\",\"fas fa-exclamation-triangle\"],[\"tagName\",\"i\"],[\"color\",\"white\"]]}]]},{\"type\":\"map\",\"entries\":[[\"type\",\"info\"],[\"background\",\"#007bff\"],[\"icon\",{\"type\":\"map\",\"entries\":[[\"className\",\"fas fa-info-circle\"],[\"tagName\",\"i\"],[\"color\",\"white\"]]}]]}]}]},{\"type\":\"model\",\"name\":\"Notification\",\"properties\":[{\"name\":\"background\",\"kind\":\"Any\",\"default\":null},{\"name\":\"duration\",\"kind\":\"Any\",\"default\":3000},{\"name\":\"icon\",\"kind\":\"Any\",\"default\":null},{\"name\":\"message\",\"kind\":\"Any\",\"default\":\"\"},{\"name\":\"notification_type\",\"kind\":\"Any\",\"default\":null},{\"name\":\"_destroyed\",\"kind\":\"Any\",\"default\":false}]},{\"type\":\"model\",\"name\":\"TemplateActions1\",\"properties\":[{\"name\":\"open_modal\",\"kind\":\"Any\",\"default\":0},{\"name\":\"close_modal\",\"kind\":\"Any\",\"default\":0}]},{\"type\":\"model\",\"name\":\"BootstrapTemplateActions1\",\"properties\":[{\"name\":\"open_modal\",\"kind\":\"Any\",\"default\":0},{\"name\":\"close_modal\",\"kind\":\"Any\",\"default\":0}]},{\"type\":\"model\",\"name\":\"MaterialTemplateActions1\",\"properties\":[{\"name\":\"open_modal\",\"kind\":\"Any\",\"default\":0},{\"name\":\"close_modal\",\"kind\":\"Any\",\"default\":0}]}]}};\n",
       "  var render_items = [{\"docid\":\"dfba3e51-570c-4c63-bc44-f1d440fd7e0f\",\"roots\":{\"76741d27-57f2-4c84-99af-a9971788aa30\":\"d638ce9f-5949-42a6-97ab-1e3360de4ef7\"},\"root_ids\":[\"76741d27-57f2-4c84-99af-a9971788aa30\"]}];\n",
       "  var docs = Object.values(docs_json)\n",
       "  if (!docs) {\n",
       "    return\n",
       "  }\n",
       "  const py_version = docs[0].version.replace('rc', '-rc.').replace('.dev', '-dev.')\n",
       "  const is_dev = py_version.indexOf(\"+\") !== -1 || py_version.indexOf(\"-\") !== -1\n",
       "  function embed_document(root) {\n",
       "    var Bokeh = get_bokeh(root)\n",
       "    Bokeh.embed.embed_items_notebook(docs_json, render_items);\n",
       "    for (const render_item of render_items) {\n",
       "      for (const root_id of render_item.root_ids) {\n",
       "\tconst id_el = document.getElementById(root_id)\n",
       "\tif (id_el.children.length && (id_el.children[0].className === 'bk-root')) {\n",
       "\t  const root_el = id_el.children[0]\n",
       "\t  root_el.id = root_el.id + '-rendered'\n",
       "\t}\n",
       "      }\n",
       "    }\n",
       "  }\n",
       "  function get_bokeh(root) {\n",
       "    if (root.Bokeh === undefined) {\n",
       "      return null\n",
       "    } else if (root.Bokeh.version !== py_version && !is_dev) {\n",
       "      if (root.Bokeh.versions === undefined || !root.Bokeh.versions.has(py_version)) {\n",
       "\treturn null\n",
       "      }\n",
       "      return root.Bokeh.versions.get(py_version);\n",
       "    } else if (root.Bokeh.version === py_version) {\n",
       "      return root.Bokeh\n",
       "    }\n",
       "    return null\n",
       "  }\n",
       "  function is_loaded(root) {\n",
       "    var Bokeh = get_bokeh(root)\n",
       "    return (Bokeh != null && Bokeh.Panel !== undefined)\n",
       "  }\n",
       "  if (is_loaded(root)) {\n",
       "    embed_document(root);\n",
       "  } else {\n",
       "    var attempts = 0;\n",
       "    var timer = setInterval(function(root) {\n",
       "      if (is_loaded(root)) {\n",
       "        clearInterval(timer);\n",
       "        embed_document(root);\n",
       "      } else if (document.readyState == \"complete\") {\n",
       "        attempts++;\n",
       "        if (attempts > 200) {\n",
       "          clearInterval(timer);\n",
       "\t  var Bokeh = get_bokeh(root)\n",
       "\t  if (Bokeh == null || Bokeh.Panel == null) {\n",
       "            console.warn(\"Panel: ERROR: Unable to run Panel code because Bokeh or Panel library is missing\");\n",
       "\t  } else {\n",
       "\t    console.warn(\"Panel: WARNING: Attempting to render but not all required libraries could be resolved.\")\n",
       "\t    embed_document(root)\n",
       "\t  }\n",
       "        }\n",
       "      }\n",
       "    }, 25, root)\n",
       "  }\n",
       "})(window);</script>"
      ],
      "text/plain": [
       ":NdOverlay   [first_century]\n",
       "   :Curve   [period]   (pct_retained)"
      ]
     },
     "execution_count": 378,
     "metadata": {
      "application/vnd.holoviews_exec.v0+json": {
       "id": "76741d27-57f2-4c84-99af-a9971788aa30"
      }
     },
     "output_type": "execute_result"
    }
   ],
   "source": [
    "plot_2 = data_2.hvplot(kind='line',\n",
    "        x='period',\n",
    "        y='pct_retained',\n",
    "        by='first_century',\n",
    "        grid=True,\n",
    "        title='Retention of legislators by century in which their first term began',\n",
    "        legend='top',\n",
    "        shared_axes=False,\n",
    "        width=650, height=300)\n",
    "\n",
    "plot_2"
   ]
  },
  {
   "cell_type": "markdown",
   "id": "57693a5e-859d-42f6-93ec-b25975b1dc02",
   "metadata": {},
   "source": [
    "# Legislator retention by first state: Top five states by total number of legislators"
   ]
  },
  {
   "cell_type": "code",
   "execution_count": 379,
   "id": "1711c218-cb4c-4358-a372-43134578a6f1",
   "metadata": {
    "tags": []
   },
   "outputs": [
    {
     "name": "stdout",
     "output_type": "stream",
     "text": [
      "Connection to PostgreSQL DB successful\n"
     ]
    },
    {
     "data": {
      "text/plain": [
       "['IL', 0.0, 507, 507, Decimal('100.0000000000000000')]"
      ]
     },
     "execution_count": 379,
     "metadata": {},
     "output_type": "execute_result"
    }
   ],
   "source": [
    "connection = create_connection(db_name, db_user, db_password, db_host, db_port)\n",
    "\n",
    "cursor = connection.cursor(cursor_factory=DictCursor)  \n",
    "# from psycopg2.extras import NamedTupleCursor | cursor_factory=NamedTupleCursor\n",
    "\n",
    "# Getting table values retail_sales\n",
    "cursor.execute(\"\"\"\n",
    "SELECT first_state, period\n",
    ",first_value(cohort_retained) over (partition by first_state order by period) as cohort_size\n",
    ",cohort_retained\n",
    ",cohort_retained * 100.0 / \n",
    " first_value(cohort_retained) over (partition by first_state order by period) as pct_retained\n",
    "FROM\n",
    "(\n",
    "        SELECT a.first_state\n",
    "        ,coalesce(date_part('year',age(c.date,a.first_term)),0) as period\n",
    "        ,count(distinct a.id_bioguide) as cohort_retained\n",
    "        FROM\n",
    "        (\n",
    "                SELECT distinct id_bioguide\n",
    "                ,min(term_start) over (partition by id_bioguide) as first_term\n",
    "                ,first_value(state) over (partition by id_bioguide order by term_start) as first_state\n",
    "                FROM legislators_terms \n",
    "        ) a\n",
    "        JOIN legislators_terms b on a.id_bioguide = b.id_bioguide \n",
    "        LEFT JOIN (SELECT date,\n",
    "                            EXTRACT(MONTH FROM date) AS month_name,\n",
    "                            EXTRACT(DAY FROM date) AS day_of_month\n",
    "                    FROM\n",
    "                    (\n",
    "                        SELECT distinct make_date(date_part('year', term_start)::int,12,31) AS date\n",
    "                        FROM legislators_terms\n",
    "                        ORDER BY 1) date_dim) c on c.date between b.term_start and b.term_end \n",
    "        and c.month_name = 12 and c.day_of_month = 31\n",
    "        GROUP BY 1,2\n",
    ") aa\n",
    "WHERE first_state IN ('IL','MA','NY','OH','PA')\n",
    "ORDER BY 1,2\n",
    ";\n",
    "\"\"\")\n",
    "data_3= cursor.fetchall()\n",
    "cursor.close()  # Close the cursor\n",
    "connection.close()  # We close the connection\n",
    "data_3[0]"
   ]
  },
  {
   "cell_type": "code",
   "execution_count": 380,
   "id": "ab461459-e276-4c40-aff7-e8643406ef44",
   "metadata": {
    "tags": []
   },
   "outputs": [
    {
     "data": {
      "text/html": [
       "<div>\n",
       "<style scoped>\n",
       "    .dataframe tbody tr th:only-of-type {\n",
       "        vertical-align: middle;\n",
       "    }\n",
       "\n",
       "    .dataframe tbody tr th {\n",
       "        vertical-align: top;\n",
       "    }\n",
       "\n",
       "    .dataframe thead th {\n",
       "        text-align: right;\n",
       "    }\n",
       "</style>\n",
       "<table border=\"1\" class=\"dataframe\">\n",
       "  <thead>\n",
       "    <tr style=\"text-align: right;\">\n",
       "      <th></th>\n",
       "      <th>first_state</th>\n",
       "      <th>period</th>\n",
       "      <th>cohort_size</th>\n",
       "      <th>cohort_retained</th>\n",
       "      <th>pct_retained</th>\n",
       "    </tr>\n",
       "  </thead>\n",
       "  <tbody>\n",
       "    <tr>\n",
       "      <th>0</th>\n",
       "      <td>IL</td>\n",
       "      <td>0.0</td>\n",
       "      <td>507</td>\n",
       "      <td>507</td>\n",
       "      <td>100.0000000000000000</td>\n",
       "    </tr>\n",
       "    <tr>\n",
       "      <th>1</th>\n",
       "      <td>IL</td>\n",
       "      <td>1.0</td>\n",
       "      <td>507</td>\n",
       "      <td>491</td>\n",
       "      <td>96.8441814595660750</td>\n",
       "    </tr>\n",
       "    <tr>\n",
       "      <th>2</th>\n",
       "      <td>IL</td>\n",
       "      <td>2.0</td>\n",
       "      <td>507</td>\n",
       "      <td>332</td>\n",
       "      <td>65.4832347140039448</td>\n",
       "    </tr>\n",
       "    <tr>\n",
       "      <th>3</th>\n",
       "      <td>IL</td>\n",
       "      <td>3.0</td>\n",
       "      <td>507</td>\n",
       "      <td>319</td>\n",
       "      <td>62.9191321499013807</td>\n",
       "    </tr>\n",
       "    <tr>\n",
       "      <th>4</th>\n",
       "      <td>IL</td>\n",
       "      <td>4.0</td>\n",
       "      <td>507</td>\n",
       "      <td>260</td>\n",
       "      <td>51.2820512820512821</td>\n",
       "    </tr>\n",
       "  </tbody>\n",
       "</table>\n",
       "</div>"
      ],
      "text/plain": [
       "  first_state  period  cohort_size  cohort_retained          pct_retained\n",
       "0          IL     0.0          507              507  100.0000000000000000\n",
       "1          IL     1.0          507              491   96.8441814595660750\n",
       "2          IL     2.0          507              332   65.4832347140039448\n",
       "3          IL     3.0          507              319   62.9191321499013807\n",
       "4          IL     4.0          507              260   51.2820512820512821"
      ]
     },
     "execution_count": 380,
     "metadata": {},
     "output_type": "execute_result"
    }
   ],
   "source": [
    "# Let's convert to DataFrame\n",
    "data_3 = pd.DataFrame(data_3, columns=['first_state','period', 'cohort_size', 'cohort_retained', 'pct_retained'])\n",
    "data_3.head()"
   ]
  },
  {
   "cell_type": "code",
   "execution_count": 381,
   "id": "9d7e0ae6-fee6-4f9e-ab4a-548f4816b54f",
   "metadata": {
    "tags": []
   },
   "outputs": [
    {
     "data": {
      "text/plain": [
       "first_state         object\n",
       "period               int64\n",
       "cohort_size          int64\n",
       "cohort_retained      int64\n",
       "pct_retained       float64\n",
       "dtype: object"
      ]
     },
     "execution_count": 381,
     "metadata": {},
     "output_type": "execute_result"
    }
   ],
   "source": [
    "data_3['period'] = data_3['period'].astype('int')\n",
    "data_3['pct_retained'] = data_3['pct_retained'].astype('float')\n",
    "data_3.dtypes"
   ]
  },
  {
   "cell_type": "code",
   "execution_count": 382,
   "id": "7cde641d-a40f-454b-af11-4efeb7c6a988",
   "metadata": {
    "tags": []
   },
   "outputs": [
    {
     "data": {},
     "metadata": {},
     "output_type": "display_data"
    },
    {
     "data": {
      "application/vnd.holoviews_exec.v0+json": "",
      "text/html": [
       "<div id='83cb484d-bf85-428c-a207-292e287a931a'>\n",
       "  <div id=\"a9658742-2cc5-4ee2-ace2-08c68989f402\" data-root-id=\"83cb484d-bf85-428c-a207-292e287a931a\" style=\"display: contents;\"></div>\n",
       "</div>\n",
       "<script type=\"application/javascript\">(function(root) {\n",
       "  var docs_json = {\"ee3d6ce2-4728-4f88-84c5-795ce57de764\":{\"version\":\"3.2.1\",\"title\":\"Bokeh Application\",\"roots\":[{\"type\":\"object\",\"name\":\"Row\",\"id\":\"83cb484d-bf85-428c-a207-292e287a931a\",\"attributes\":{\"name\":\"Row53959\",\"tags\":[\"embedded\"],\"stylesheets\":[\"\\n:host(.pn-loading.pn-arc):before, .pn-loading.pn-arc:before {\\n  background-image: url(\\\"data:image/svg+xml;base64,PHN2ZyB4bWxucz0iaHR0cDovL3d3dy53My5vcmcvMjAwMC9zdmciIHN0eWxlPSJtYXJnaW46IGF1dG87IGJhY2tncm91bmQ6IG5vbmU7IGRpc3BsYXk6IGJsb2NrOyBzaGFwZS1yZW5kZXJpbmc6IGF1dG87IiB2aWV3Qm94PSIwIDAgMTAwIDEwMCIgcHJlc2VydmVBc3BlY3RSYXRpbz0ieE1pZFlNaWQiPiAgPGNpcmNsZSBjeD0iNTAiIGN5PSI1MCIgZmlsbD0ibm9uZSIgc3Ryb2tlPSIjYzNjM2MzIiBzdHJva2Utd2lkdGg9IjEwIiByPSIzNSIgc3Ryb2tlLWRhc2hhcnJheT0iMTY0LjkzMzYxNDMxMzQ2NDE1IDU2Ljk3Nzg3MTQzNzgyMTM4Ij4gICAgPGFuaW1hdGVUcmFuc2Zvcm0gYXR0cmlidXRlTmFtZT0idHJhbnNmb3JtIiB0eXBlPSJyb3RhdGUiIHJlcGVhdENvdW50PSJpbmRlZmluaXRlIiBkdXI9IjFzIiB2YWx1ZXM9IjAgNTAgNTA7MzYwIDUwIDUwIiBrZXlUaW1lcz0iMDsxIj48L2FuaW1hdGVUcmFuc2Zvcm0+ICA8L2NpcmNsZT48L3N2Zz4=\\\");\\n  background-size: auto calc(min(50%, 400px));\\n}\",{\"type\":\"object\",\"name\":\"ImportedStyleSheet\",\"id\":\"563dc936-74a6-4ad4-8f23-3a40e4f00ad9\",\"attributes\":{\"url\":\"https://cdn.holoviz.org/panel/1.2.1/dist/css/loading.css\"}},{\"type\":\"object\",\"name\":\"ImportedStyleSheet\",\"id\":\"d6bbb039-7dab-450b-8385-43d6e6022b67\",\"attributes\":{\"url\":\"https://cdn.holoviz.org/panel/1.2.1/dist/css/listpanel.css\"}},{\"type\":\"object\",\"name\":\"ImportedStyleSheet\",\"id\":\"ab3ef287-19c2-48d4-bfe6-05faf18a7627\",\"attributes\":{\"url\":\"https://cdn.holoviz.org/panel/1.2.1/dist/bundled/theme/default.css\"}},{\"type\":\"object\",\"name\":\"ImportedStyleSheet\",\"id\":\"2ae57127-4c07-46d5-875f-2b87d6b79801\",\"attributes\":{\"url\":\"https://cdn.holoviz.org/panel/1.2.1/dist/bundled/theme/native.css\"}}],\"min_width\":650,\"margin\":0,\"sizing_mode\":\"stretch_width\",\"align\":\"start\",\"children\":[{\"type\":\"object\",\"name\":\"Spacer\",\"id\":\"b0dfa372-fcd6-4fb2-a537-15aca35c7a1f\",\"attributes\":{\"name\":\"HSpacer53970\",\"stylesheets\":[\"\\n:host(.pn-loading.pn-arc):before, .pn-loading.pn-arc:before {\\n  background-image: url(\\\"data:image/svg+xml;base64,PHN2ZyB4bWxucz0iaHR0cDovL3d3dy53My5vcmcvMjAwMC9zdmciIHN0eWxlPSJtYXJnaW46IGF1dG87IGJhY2tncm91bmQ6IG5vbmU7IGRpc3BsYXk6IGJsb2NrOyBzaGFwZS1yZW5kZXJpbmc6IGF1dG87IiB2aWV3Qm94PSIwIDAgMTAwIDEwMCIgcHJlc2VydmVBc3BlY3RSYXRpbz0ieE1pZFlNaWQiPiAgPGNpcmNsZSBjeD0iNTAiIGN5PSI1MCIgZmlsbD0ibm9uZSIgc3Ryb2tlPSIjYzNjM2MzIiBzdHJva2Utd2lkdGg9IjEwIiByPSIzNSIgc3Ryb2tlLWRhc2hhcnJheT0iMTY0LjkzMzYxNDMxMzQ2NDE1IDU2Ljk3Nzg3MTQzNzgyMTM4Ij4gICAgPGFuaW1hdGVUcmFuc2Zvcm0gYXR0cmlidXRlTmFtZT0idHJhbnNmb3JtIiB0eXBlPSJyb3RhdGUiIHJlcGVhdENvdW50PSJpbmRlZmluaXRlIiBkdXI9IjFzIiB2YWx1ZXM9IjAgNTAgNTA7MzYwIDUwIDUwIiBrZXlUaW1lcz0iMDsxIj48L2FuaW1hdGVUcmFuc2Zvcm0+ICA8L2NpcmNsZT48L3N2Zz4=\\\");\\n  background-size: auto calc(min(50%, 400px));\\n}\",{\"id\":\"563dc936-74a6-4ad4-8f23-3a40e4f00ad9\"},{\"id\":\"ab3ef287-19c2-48d4-bfe6-05faf18a7627\"},{\"id\":\"2ae57127-4c07-46d5-875f-2b87d6b79801\"}],\"margin\":0,\"sizing_mode\":\"stretch_width\",\"align\":\"start\"}},{\"type\":\"object\",\"name\":\"Figure\",\"id\":\"5867b687-cbb3-4c21-a01e-3b3fed964781\",\"attributes\":{\"width\":650,\"height\":300,\"margin\":[5,10],\"sizing_mode\":\"fixed\",\"align\":\"start\",\"x_range\":{\"type\":\"object\",\"name\":\"Range1d\",\"id\":\"fca6c6a3-08a1-4a24-9c16-7b63932f6201\",\"attributes\":{\"tags\":[[[\"period\",\"period\",null]],[]],\"end\":51.0,\"reset_start\":0.0,\"reset_end\":51.0}},\"y_range\":{\"type\":\"object\",\"name\":\"Range1d\",\"id\":\"86d3765d-a021-4fd3-9c28-df52bfe42bee\",\"attributes\":{\"tags\":[[[\"pct_retained\",\"pct_retained\",null]],{\"type\":\"map\",\"entries\":[[\"invert_yaxis\",false],[\"autorange\",false]]}],\"start\":-9.926224010731053,\"end\":109.99329309188464,\"reset_start\":-9.926224010731053,\"reset_end\":109.99329309188464}},\"x_scale\":{\"type\":\"object\",\"name\":\"LinearScale\",\"id\":\"037dd749-e2b0-45c4-895e-baaaa8c9afa6\"},\"y_scale\":{\"type\":\"object\",\"name\":\"LinearScale\",\"id\":\"5b549904-4df3-43cb-b694-d03dca48b106\"},\"title\":{\"type\":\"object\",\"name\":\"Title\",\"id\":\"bcae0b05-e45a-40d5-adba-52649da779d7\",\"attributes\":{\"text\":\"Top five states by total number of legislators\",\"text_color\":\"black\",\"text_font_size\":\"12pt\"}},\"renderers\":[{\"type\":\"object\",\"name\":\"GlyphRenderer\",\"id\":\"9702ea95-adaf-47ab-86ea-293fac85033e\",\"attributes\":{\"name\":\"IL\",\"data_source\":{\"type\":\"object\",\"name\":\"ColumnDataSource\",\"id\":\"d3781aaf-d100-4f94-8cc0-59b20f08d584\",\"attributes\":{\"selected\":{\"type\":\"object\",\"name\":\"Selection\",\"id\":\"d0d2463c-40e8-494d-a597-780efa740f9c\",\"attributes\":{\"indices\":[],\"line_indices\":[]}},\"selection_policy\":{\"type\":\"object\",\"name\":\"UnionRenderers\",\"id\":\"7dd85e21-6feb-4b35-8832-3a765ec64233\"},\"data\":{\"type\":\"map\",\"entries\":[[\"period\",{\"type\":\"ndarray\",\"array\":{\"type\":\"bytes\",\"data\":\"AAAAAAEAAAACAAAAAwAAAAQAAAAFAAAABgAAAAcAAAAIAAAACQAAAAoAAAALAAAADAAAAA0AAAAOAAAADwAAABAAAAARAAAAEgAAABMAAAAUAAAAFQAAABYAAAAXAAAAGAAAABkAAAAaAAAAGwAAABwAAAAdAAAAHgAAAB8AAAAgAAAAIQAAACIAAAAjAAAAJAAAACUAAAAmAAAAJwAAACgAAAApAAAAKgAAACsAAAAsAAAALQAAAC4AAAAvAAAAMAAAADEAAAA=\"},\"shape\":[50],\"dtype\":\"int32\",\"order\":\"little\"}],[\"pct_retained\",{\"type\":\"ndarray\",\"array\":{\"type\":\"bytes\",\"data\":\"AAAAAAAAWUB0LqwRBzZYQBY8S1HtXlBAqUNOH6Z1T0BCGqRBGqRJQOfCGnFg80hAJULnwhpxQkD0xxyl21dCQHFg8/r9yzxAq3fJgwFnPEBTVLsXo6c4QMeCZymq3TdAlzwYcMa1NEBvX1m9Sx40QJHTh2ldJTJAy+pd8mDAMUAV1e7F6CkvQMMacWDz+i1AKnf8ZCgQKEBkjtLtK6snQFe8seBZiiJAV7yx4FmKIkCzR7YVbywgQE/sxE7sxB5AwBnXIkFNFUA1SIM0SIMUQHkw4IxrkRBAeTDgjGuREEBkjtLtK6sHQGSO0u0rqwdAfDF6yh0/CUB8MXrKHT8JQEzrKhE6FwZATOsqEToXBkA1SIM0SIMEQDVIgzRIgwRAq3fJgwFn/D+rd8mDAWf8P0zrKhE6F/Y/TOsqEToX9j98MXrKHT/pP3wxesodP+k/270YPeWO7z98MXrKHT/pP3wxesodP+k/fDF6yh0/6T8dpdtXVu/iPx2l21dW7+I/fDF6yh0/2T98MXrKHT/ZPw==\"},\"shape\":[50],\"dtype\":\"float64\",\"order\":\"little\"}],[\"first_state\",[\"IL\",\"IL\",\"IL\",\"IL\",\"IL\",\"IL\",\"IL\",\"IL\",\"IL\",\"IL\",\"IL\",\"IL\",\"IL\",\"IL\",\"IL\",\"IL\",\"IL\",\"IL\",\"IL\",\"IL\",\"IL\",\"IL\",\"IL\",\"IL\",\"IL\",\"IL\",\"IL\",\"IL\",\"IL\",\"IL\",\"IL\",\"IL\",\"IL\",\"IL\",\"IL\",\"IL\",\"IL\",\"IL\",\"IL\",\"IL\",\"IL\",\"IL\",\"IL\",\"IL\",\"IL\",\"IL\",\"IL\",\"IL\",\"IL\",\"IL\"]]]}}},\"view\":{\"type\":\"object\",\"name\":\"CDSView\",\"id\":\"1b18d8fd-f120-4dad-b333-a3ae39c1f4a3\",\"attributes\":{\"filter\":{\"type\":\"object\",\"name\":\"AllIndices\",\"id\":\"2c080c9e-9284-4a48-a71a-131b4d32e4b8\"}}},\"glyph\":{\"type\":\"object\",\"name\":\"Line\",\"id\":\"8e978e32-f74a-4190-bbd4-66f24fe54b22\",\"attributes\":{\"tags\":[\"apply_ranges\"],\"x\":{\"type\":\"field\",\"field\":\"period\"},\"y\":{\"type\":\"field\",\"field\":\"pct_retained\"},\"line_color\":\"#30a2da\",\"line_width\":2}},\"selection_glyph\":{\"type\":\"object\",\"name\":\"Line\",\"id\":\"cc000c93-799c-4846-9fbe-e2360ed89e72\",\"attributes\":{\"tags\":[\"apply_ranges\"],\"x\":{\"type\":\"field\",\"field\":\"period\"},\"y\":{\"type\":\"field\",\"field\":\"pct_retained\"},\"line_color\":\"#30a2da\",\"line_width\":2}},\"nonselection_glyph\":{\"type\":\"object\",\"name\":\"Line\",\"id\":\"25b4d022-5bb0-4979-abad-8511f055fb56\",\"attributes\":{\"tags\":[\"apply_ranges\"],\"x\":{\"type\":\"field\",\"field\":\"period\"},\"y\":{\"type\":\"field\",\"field\":\"pct_retained\"},\"line_color\":\"#30a2da\",\"line_alpha\":0.1,\"line_width\":2}},\"muted_glyph\":{\"type\":\"object\",\"name\":\"Line\",\"id\":\"caba1b56-a1a7-4091-9543-4f8f4542df8c\",\"attributes\":{\"tags\":[\"apply_ranges\"],\"x\":{\"type\":\"field\",\"field\":\"period\"},\"y\":{\"type\":\"field\",\"field\":\"pct_retained\"},\"line_color\":\"#30a2da\",\"line_alpha\":0.2,\"line_width\":2}}}},{\"type\":\"object\",\"name\":\"GlyphRenderer\",\"id\":\"c704b48d-ee7c-4fff-8e14-9a7948c01df3\",\"attributes\":{\"name\":\"MA\",\"data_source\":{\"type\":\"object\",\"name\":\"ColumnDataSource\",\"id\":\"37ba35cc-621e-403b-964c-8fe6929d9cb2\",\"attributes\":{\"selected\":{\"type\":\"object\",\"name\":\"Selection\",\"id\":\"f2ef8e1d-360d-4ef5-a83f-84f6496cef66\",\"attributes\":{\"indices\":[],\"line_indices\":[]}},\"selection_policy\":{\"type\":\"object\",\"name\":\"UnionRenderers\",\"id\":\"f027d16c-a80d-4287-a116-8800133033ce\"},\"data\":{\"type\":\"map\",\"entries\":[[\"period\",{\"type\":\"ndarray\",\"array\":{\"type\":\"bytes\",\"data\":\"AAAAAAEAAAACAAAAAwAAAAQAAAAFAAAABgAAAAcAAAAIAAAACQAAAAoAAAALAAAADAAAAA0AAAAOAAAADwAAABAAAAARAAAAEgAAABMAAAAUAAAAFQAAABYAAAAXAAAAGAAAABkAAAAaAAAAGwAAABwAAAAdAAAAHgAAAB8AAAAgAAAAIQAAACIAAAAjAAAAJAAAACUAAAAmAAAAJwAAACgAAAApAAAAKgAAACsAAAAsAAAALQAAAC4AAAA=\"},\"shape\":[47],\"dtype\":\"int32\",\"order\":\"little\"}],[\"pct_retained\",{\"type\":\"ndarray\",\"array\":{\"type\":\"bytes\",\"data\":\"AAAAAAAAWUBtGTxI2RhYQDxI2Riv41FAihZ7UalhUUDWV7izSydIQOhq5anueUdASoBGMusrQkDB9i+3mYJCQOoREy32ojpARRgifyxpOkBnl07oauU1QMOdXTqhqzVALhBs/3KbMUDlHIqj3ycxQMbruECw/StAEN+anENxLEDoauWp7nknQDJexwWC7SdAeap73g04JUCd0NXKU90jQMH2L7eZgiJALhBs/3KbIUBZ0nz41uQcQFnSfPjW5BxAMwX1iIkWG0ChHjHRYi8aQHtRqWEVYRhAe1GpYRVhGEBSNsbruEAQQFI2xuu4QBBAf58EaCSzDkBZ0nz41uQMQOhq5anueQdA6Grlqe55B0DDnV06oasFQMOdXTqhqwVAWdJ8+Nbk/D8OOG0ZPEj5P3gDTlsGD/I/eANOWwYP8j94A05bBg/yP3gDTlsGD/I/WdJ8+Nbk7D9Z0nz41uTsP8OdXTqhq+U/w51dOqGr5T9Z0nz41uTMPw==\"},\"shape\":[47],\"dtype\":\"float64\",\"order\":\"little\"}],[\"first_state\",[\"MA\",\"MA\",\"MA\",\"MA\",\"MA\",\"MA\",\"MA\",\"MA\",\"MA\",\"MA\",\"MA\",\"MA\",\"MA\",\"MA\",\"MA\",\"MA\",\"MA\",\"MA\",\"MA\",\"MA\",\"MA\",\"MA\",\"MA\",\"MA\",\"MA\",\"MA\",\"MA\",\"MA\",\"MA\",\"MA\",\"MA\",\"MA\",\"MA\",\"MA\",\"MA\",\"MA\",\"MA\",\"MA\",\"MA\",\"MA\",\"MA\",\"MA\",\"MA\",\"MA\",\"MA\",\"MA\",\"MA\"]]]}}},\"view\":{\"type\":\"object\",\"name\":\"CDSView\",\"id\":\"8acd7fe2-7362-4113-aba9-989e25d75a63\",\"attributes\":{\"filter\":{\"type\":\"object\",\"name\":\"AllIndices\",\"id\":\"48efa1ff-18e7-4c0f-a0ab-ec03040893b6\"}}},\"glyph\":{\"type\":\"object\",\"name\":\"Line\",\"id\":\"3a999f53-6f1e-407e-b149-ffb515768aa2\",\"attributes\":{\"tags\":[\"apply_ranges\"],\"x\":{\"type\":\"field\",\"field\":\"period\"},\"y\":{\"type\":\"field\",\"field\":\"pct_retained\"},\"line_color\":\"#fc4f30\",\"line_width\":2}},\"selection_glyph\":{\"type\":\"object\",\"name\":\"Line\",\"id\":\"fee325f2-e5dd-4955-a43c-8f93a29efd29\",\"attributes\":{\"tags\":[\"apply_ranges\"],\"x\":{\"type\":\"field\",\"field\":\"period\"},\"y\":{\"type\":\"field\",\"field\":\"pct_retained\"},\"line_color\":\"#fc4f30\",\"line_width\":2}},\"nonselection_glyph\":{\"type\":\"object\",\"name\":\"Line\",\"id\":\"3ef7b95d-3b05-468e-a90c-25242d31fbd9\",\"attributes\":{\"tags\":[\"apply_ranges\"],\"x\":{\"type\":\"field\",\"field\":\"period\"},\"y\":{\"type\":\"field\",\"field\":\"pct_retained\"},\"line_color\":\"#fc4f30\",\"line_alpha\":0.1,\"line_width\":2}},\"muted_glyph\":{\"type\":\"object\",\"name\":\"Line\",\"id\":\"550d0206-a8f2-45a2-9711-9c2392433552\",\"attributes\":{\"tags\":[\"apply_ranges\"],\"x\":{\"type\":\"field\",\"field\":\"period\"},\"y\":{\"type\":\"field\",\"field\":\"pct_retained\"},\"line_color\":\"#fc4f30\",\"line_alpha\":0.2,\"line_width\":2}}}},{\"type\":\"object\",\"name\":\"GlyphRenderer\",\"id\":\"d0a64ca5-670c-4a68-804c-445142bd1469\",\"attributes\":{\"name\":\"NY\",\"data_source\":{\"type\":\"object\",\"name\":\"ColumnDataSource\",\"id\":\"5ce2367d-59ec-4c6d-8c73-1b29bbc60eae\",\"attributes\":{\"selected\":{\"type\":\"object\",\"name\":\"Selection\",\"id\":\"9191159e-8f35-43b3-aa6d-3594255a59a0\",\"attributes\":{\"indices\":[],\"line_indices\":[]}},\"selection_policy\":{\"type\":\"object\",\"name\":\"UnionRenderers\",\"id\":\"95d49112-8d30-49ef-a7c3-bc2e3f301ea9\"},\"data\":{\"type\":\"map\",\"entries\":[[\"period\",{\"type\":\"ndarray\",\"array\":{\"type\":\"bytes\",\"data\":\"AAAAAAEAAAACAAAAAwAAAAQAAAAFAAAABgAAAAcAAAAIAAAACQAAAAoAAAALAAAADAAAAA0AAAAOAAAADwAAABAAAAARAAAAEgAAABMAAAAUAAAAFQAAABYAAAAXAAAAGAAAABkAAAAaAAAAGwAAABwAAAAdAAAAHgAAAB8AAAAgAAAAIQAAACIAAAAjAAAAJAAAACUAAAAmAAAAJwAAACgAAAApAAAAKgAAACsAAAAsAAAALQAAAC4AAAAvAAAAMAAAADEAAAA=\"},\"shape\":[50],\"dtype\":\"int32\",\"order\":\"little\"}],[\"pct_retained\",{\"type\":\"ndarray\",\"array\":{\"type\":\"bytes\",\"data\":\"AAAAAAAAWUDuQYB3mFhYQNKeMUW/AkhAWheo/7U0R0AaU/QrAKU9QNsRCEupgj1APXRZzdzeNkDA8YALL5o2QHg9viTu9zBAmttb02vEMEAVWKWvWy4uQNYWuc4EDC5AFttsorqbJ0BaF6j/tTQnQLg6bsrnHiRA/HapJ+O3I0DbEQhLqYIdQNsRCEupgh1AMML3D/HsFEAwwvcP8ewUQNgcSLTC5hBA2BxItMLmEEDLIBvWux4PQNsRCEupgg1ABup/Lc03CUAG6n8tzTcJQDu4lQg62gNAO7iVCDraA0Bglb5uuRgAQMsgG9a7Hv8/K8eok0x29T82vUaMlWP0P+sC9b+W5us/6wL1v5bm6z8B7zCxKMHpPwHvMLEowek/K8eok0x25T9WnyB2cCvhP9YWuc4EDN4/1ha5zgQM3j8rx6iTTHbVPyvHqJNMdtU/Vp8gdnArwT9WnyB2cCvBP1afIHZwK8E/Vp8gdnArwT9WnyB2cCuxP1afIHZwK7E/Vp8gdnArsT9WnyB2cCuxPw==\"},\"shape\":[50],\"dtype\":\"float64\",\"order\":\"little\"}],[\"first_state\",[\"NY\",\"NY\",\"NY\",\"NY\",\"NY\",\"NY\",\"NY\",\"NY\",\"NY\",\"NY\",\"NY\",\"NY\",\"NY\",\"NY\",\"NY\",\"NY\",\"NY\",\"NY\",\"NY\",\"NY\",\"NY\",\"NY\",\"NY\",\"NY\",\"NY\",\"NY\",\"NY\",\"NY\",\"NY\",\"NY\",\"NY\",\"NY\",\"NY\",\"NY\",\"NY\",\"NY\",\"NY\",\"NY\",\"NY\",\"NY\",\"NY\",\"NY\",\"NY\",\"NY\",\"NY\",\"NY\",\"NY\",\"NY\",\"NY\",\"NY\"]]]}}},\"view\":{\"type\":\"object\",\"name\":\"CDSView\",\"id\":\"a9b7062c-aaa5-466a-a8c6-e51ee7f885f3\",\"attributes\":{\"filter\":{\"type\":\"object\",\"name\":\"AllIndices\",\"id\":\"fb1f81ed-00a3-4217-a5c9-9592df215b08\"}}},\"glyph\":{\"type\":\"object\",\"name\":\"Line\",\"id\":\"628635be-c002-4a56-bb53-ca6b4b5ec960\",\"attributes\":{\"tags\":[\"apply_ranges\"],\"x\":{\"type\":\"field\",\"field\":\"period\"},\"y\":{\"type\":\"field\",\"field\":\"pct_retained\"},\"line_color\":\"#e5ae38\",\"line_width\":2}},\"selection_glyph\":{\"type\":\"object\",\"name\":\"Line\",\"id\":\"5fa0bad3-2e4d-4e5a-bc86-802084957296\",\"attributes\":{\"tags\":[\"apply_ranges\"],\"x\":{\"type\":\"field\",\"field\":\"period\"},\"y\":{\"type\":\"field\",\"field\":\"pct_retained\"},\"line_color\":\"#e5ae38\",\"line_width\":2}},\"nonselection_glyph\":{\"type\":\"object\",\"name\":\"Line\",\"id\":\"5808d7ca-e690-4a69-a28c-6e6c4caedc49\",\"attributes\":{\"tags\":[\"apply_ranges\"],\"x\":{\"type\":\"field\",\"field\":\"period\"},\"y\":{\"type\":\"field\",\"field\":\"pct_retained\"},\"line_color\":\"#e5ae38\",\"line_alpha\":0.1,\"line_width\":2}},\"muted_glyph\":{\"type\":\"object\",\"name\":\"Line\",\"id\":\"e53b5cf3-aaf5-4652-b54a-f645efec0f30\",\"attributes\":{\"tags\":[\"apply_ranges\"],\"x\":{\"type\":\"field\",\"field\":\"period\"},\"y\":{\"type\":\"field\",\"field\":\"pct_retained\"},\"line_color\":\"#e5ae38\",\"line_alpha\":0.2,\"line_width\":2}}}},{\"type\":\"object\",\"name\":\"GlyphRenderer\",\"id\":\"63ea8bca-bfeb-4068-b561-dc45419f0f38\",\"attributes\":{\"name\":\"OH\",\"data_source\":{\"type\":\"object\",\"name\":\"ColumnDataSource\",\"id\":\"193f16de-c92d-4446-b647-0e41978876fa\",\"attributes\":{\"selected\":{\"type\":\"object\",\"name\":\"Selection\",\"id\":\"a6016844-ddac-4fd1-b4c7-c1dd8e767705\",\"attributes\":{\"indices\":[],\"line_indices\":[]}},\"selection_policy\":{\"type\":\"object\",\"name\":\"UnionRenderers\",\"id\":\"1169a16d-847a-4341-b098-83299d7f3e85\"},\"data\":{\"type\":\"map\",\"entries\":[[\"period\",{\"type\":\"ndarray\",\"array\":{\"type\":\"bytes\",\"data\":\"AAAAAAEAAAACAAAAAwAAAAQAAAAFAAAABgAAAAcAAAAIAAAACQAAAAoAAAALAAAADAAAAA0AAAAOAAAADwAAABAAAAARAAAAEgAAABMAAAAUAAAAFQAAABYAAAAXAAAAGAAAABkAAAAaAAAAGwAAABwAAAAdAAAAHgAAAB8AAAAgAAAAIQAAACIAAAAjAAAAJAAAACUAAAAmAAAAJwAAACgAAAApAAAAKgAAACsAAAAsAAAALQAAAC4AAAAvAAAAMgAAADMAAAA=\"},\"shape\":[50],\"dtype\":\"int32\",\"order\":\"little\"}],[\"pct_retained\",{\"type\":\"ndarray\",\"array\":{\"type\":\"bytes\",\"data\":\"AAAAAAAAWUClM06irCJYQFFWkaF/aU9APD2XCUlnTkDEwmj2tphDQMYc2zXVzUJAb4s5tmuqO0D88ahBpWA7QKlBpWAHwjVAe1vMsV1TNUDgQyyMZm8xQGyqmxegJTFAb4s5tmuqK0CgJffjUYMqQI7A4cpX6ydAGidRVpGhJ0AgjxpUCnYkQDhc+Wp94iNAP/F7iIXRHEAOV75an/gdQNG/tBE4XBlAAVpyPx41GEBKwQ6Ed3oWQHtbzLFdUxVA3Y9HDSoFE0D1XCYknXESQN28AC25Hw9A3bwALbkfD0Ay9C9tBA4HQDL0L20EDgdAVpGhf2kjAEAOV75an/j9Pw5Xvlqf+P0/0b+0EThc+T/1XCYknXHyP/VcJiSdcfI/VpGhf2kj8D9WkaF/aSPwP/VcJiSdceI/MvQvbQQO5z/1XCYknXHiP2+LObZrqts/9VwmJJ1x0j/1XCYknXHCP/VcJiSdccI/9VwmJJ1xwj/1XCYknXHCP/VcJiSdccI/9VwmJJ1xwj/1XCYknXHCPw==\"},\"shape\":[50],\"dtype\":\"float64\",\"order\":\"little\"}],[\"first_state\",[\"OH\",\"OH\",\"OH\",\"OH\",\"OH\",\"OH\",\"OH\",\"OH\",\"OH\",\"OH\",\"OH\",\"OH\",\"OH\",\"OH\",\"OH\",\"OH\",\"OH\",\"OH\",\"OH\",\"OH\",\"OH\",\"OH\",\"OH\",\"OH\",\"OH\",\"OH\",\"OH\",\"OH\",\"OH\",\"OH\",\"OH\",\"OH\",\"OH\",\"OH\",\"OH\",\"OH\",\"OH\",\"OH\",\"OH\",\"OH\",\"OH\",\"OH\",\"OH\",\"OH\",\"OH\",\"OH\",\"OH\",\"OH\",\"OH\",\"OH\"]]]}}},\"view\":{\"type\":\"object\",\"name\":\"CDSView\",\"id\":\"e83a1493-9730-48c6-8d1c-01deb78ea356\",\"attributes\":{\"filter\":{\"type\":\"object\",\"name\":\"AllIndices\",\"id\":\"53776c24-f2b4-4de5-aa55-052f25d7c8f4\"}}},\"glyph\":{\"type\":\"object\",\"name\":\"Line\",\"id\":\"d3ab3649-5d8e-4558-9bcf-c64ac35ea137\",\"attributes\":{\"tags\":[\"apply_ranges\"],\"x\":{\"type\":\"field\",\"field\":\"period\"},\"y\":{\"type\":\"field\",\"field\":\"pct_retained\"},\"line_color\":\"#6d904f\",\"line_width\":2}},\"selection_glyph\":{\"type\":\"object\",\"name\":\"Line\",\"id\":\"a4b53fc0-c0f7-4870-a4c8-79ee5ab03255\",\"attributes\":{\"tags\":[\"apply_ranges\"],\"x\":{\"type\":\"field\",\"field\":\"period\"},\"y\":{\"type\":\"field\",\"field\":\"pct_retained\"},\"line_color\":\"#6d904f\",\"line_width\":2}},\"nonselection_glyph\":{\"type\":\"object\",\"name\":\"Line\",\"id\":\"57e959de-8a15-43b0-ab00-b61ed41932d0\",\"attributes\":{\"tags\":[\"apply_ranges\"],\"x\":{\"type\":\"field\",\"field\":\"period\"},\"y\":{\"type\":\"field\",\"field\":\"pct_retained\"},\"line_color\":\"#6d904f\",\"line_alpha\":0.1,\"line_width\":2}},\"muted_glyph\":{\"type\":\"object\",\"name\":\"Line\",\"id\":\"755b990d-a4da-4b77-b3d2-ddf30ffbcc60\",\"attributes\":{\"tags\":[\"apply_ranges\"],\"x\":{\"type\":\"field\",\"field\":\"period\"},\"y\":{\"type\":\"field\",\"field\":\"pct_retained\"},\"line_color\":\"#6d904f\",\"line_alpha\":0.2,\"line_width\":2}}}},{\"type\":\"object\",\"name\":\"GlyphRenderer\",\"id\":\"653fca07-1d1b-48ce-aa55-baf25be6b5a9\",\"attributes\":{\"name\":\"PA\",\"data_source\":{\"type\":\"object\",\"name\":\"ColumnDataSource\",\"id\":\"5bd3f029-ac47-4498-8943-2c2c6172d417\",\"attributes\":{\"selected\":{\"type\":\"object\",\"name\":\"Selection\",\"id\":\"69c89269-7e12-4d7a-8171-37c23e109d57\",\"attributes\":{\"indices\":[],\"line_indices\":[]}},\"selection_policy\":{\"type\":\"object\",\"name\":\"UnionRenderers\",\"id\":\"abbe8082-b695-4ac0-90d4-6e7c8e8d8b57\"},\"data\":{\"type\":\"map\",\"entries\":[[\"period\",{\"type\":\"ndarray\",\"array\":{\"type\":\"bytes\",\"data\":\"AAAAAAEAAAACAAAAAwAAAAQAAAAFAAAABgAAAAcAAAAIAAAACQAAAAoAAAALAAAADAAAAA0AAAAOAAAADwAAABAAAAARAAAAEgAAABMAAAAUAAAAFQAAABYAAAAXAAAAGAAAABkAAAAaAAAAGwAAABwAAAAdAAAAHgAAAB8AAAAgAAAAIQAAACIAAAAjAAAAJAAAACoAAAArAAAALAAAAC0AAAAuAAAALwAAADAAAAAxAAAAMgAAADMAAAA=\"},\"shape\":[47],\"dtype\":\"int32\",\"order\":\"little\"}],[\"pct_retained\",{\"type\":\"ndarray\",\"array\":{\"type\":\"bytes\",\"data\":\"AAAAAAAAWUChL+gL+oJYQJU1ZU1ZU05AWVPWlDVlTUAGfUFf0BdCQGvKmrKmrEFAGPQFfUFfOEAAAAAAAAA4QL+gL+gL+jJAs6asKWvKMkCVNWVNWVMuQHFH3BF3xC1Ad8QdcUfcKUBT1pQ1ZU0pQKEv6Av6giZAfUFf0Bf0JUCnrClrypoiQGvKmrKmrCFAoS/oC/qCHkBxR9wRd8QdQAZ9QV/QFxRAv6Av6Av6EkBxR9wRd8QNQHFH3BF3xA1As6asKWvKCkDEHXFH3BEHQGVNWVPWlAVABn1BX9AXBEBxR9wRd8T9P3FH3BF3xP0/9AV9QV/Q9z+VNWVNWVP2P/QFfUFf0Oc/NmVNWVPW5D93xB1xR9zhP3fEHXFH3OE/9AV9QV/Qtz/0BX1BX9C3P/QFfUFf0Lc/9AV9QV/Qtz/0BX1BX9C3P/QFfUFf0Lc/9AV9QV/Qtz/0BX1BX9C3P/QFfUFf0Lc/9AV9QV/Qtz/0BX1BX9C3Pw==\"},\"shape\":[47],\"dtype\":\"float64\",\"order\":\"little\"}],[\"first_state\",[\"PA\",\"PA\",\"PA\",\"PA\",\"PA\",\"PA\",\"PA\",\"PA\",\"PA\",\"PA\",\"PA\",\"PA\",\"PA\",\"PA\",\"PA\",\"PA\",\"PA\",\"PA\",\"PA\",\"PA\",\"PA\",\"PA\",\"PA\",\"PA\",\"PA\",\"PA\",\"PA\",\"PA\",\"PA\",\"PA\",\"PA\",\"PA\",\"PA\",\"PA\",\"PA\",\"PA\",\"PA\",\"PA\",\"PA\",\"PA\",\"PA\",\"PA\",\"PA\",\"PA\",\"PA\",\"PA\",\"PA\"]]]}}},\"view\":{\"type\":\"object\",\"name\":\"CDSView\",\"id\":\"f75beb23-b5e4-46ed-ab87-385842f19ba2\",\"attributes\":{\"filter\":{\"type\":\"object\",\"name\":\"AllIndices\",\"id\":\"d864dbf2-1d46-446f-a3af-ccee3c32283e\"}}},\"glyph\":{\"type\":\"object\",\"name\":\"Line\",\"id\":\"0d7ae391-7c47-4bc7-8895-db090c833763\",\"attributes\":{\"tags\":[\"apply_ranges\"],\"x\":{\"type\":\"field\",\"field\":\"period\"},\"y\":{\"type\":\"field\",\"field\":\"pct_retained\"},\"line_color\":\"#8b8b8b\",\"line_width\":2}},\"selection_glyph\":{\"type\":\"object\",\"name\":\"Line\",\"id\":\"099b1f9a-b2c2-40e0-bbd1-876d0d1b9cbb\",\"attributes\":{\"tags\":[\"apply_ranges\"],\"x\":{\"type\":\"field\",\"field\":\"period\"},\"y\":{\"type\":\"field\",\"field\":\"pct_retained\"},\"line_color\":\"#8b8b8b\",\"line_width\":2}},\"nonselection_glyph\":{\"type\":\"object\",\"name\":\"Line\",\"id\":\"fac8071f-3985-4d61-a3fb-f16852bb7445\",\"attributes\":{\"tags\":[\"apply_ranges\"],\"x\":{\"type\":\"field\",\"field\":\"period\"},\"y\":{\"type\":\"field\",\"field\":\"pct_retained\"},\"line_color\":\"#8b8b8b\",\"line_alpha\":0.1,\"line_width\":2}},\"muted_glyph\":{\"type\":\"object\",\"name\":\"Line\",\"id\":\"4f1b9bdc-39fa-49c1-9f24-7c8a774bbf8c\",\"attributes\":{\"tags\":[\"apply_ranges\"],\"x\":{\"type\":\"field\",\"field\":\"period\"},\"y\":{\"type\":\"field\",\"field\":\"pct_retained\"},\"line_color\":\"#8b8b8b\",\"line_alpha\":0.2,\"line_width\":2}}}}],\"toolbar\":{\"type\":\"object\",\"name\":\"Toolbar\",\"id\":\"6243fd23-9b9e-43c6-a030-a28397eebc57\",\"attributes\":{\"tools\":[{\"type\":\"object\",\"name\":\"WheelZoomTool\",\"id\":\"ca12cead-5937-4564-8c28-a17f7a52cf5b\",\"attributes\":{\"tags\":[\"hv_created\"],\"zoom_together\":\"none\"}},{\"type\":\"object\",\"name\":\"HoverTool\",\"id\":\"e9f4640b-35ae-4b5a-97b8-a1facbf17ff8\",\"attributes\":{\"tags\":[\"hv_created\"],\"renderers\":[{\"id\":\"9702ea95-adaf-47ab-86ea-293fac85033e\"},{\"id\":\"c704b48d-ee7c-4fff-8e14-9a7948c01df3\"},{\"id\":\"d0a64ca5-670c-4a68-804c-445142bd1469\"},{\"id\":\"63ea8bca-bfeb-4068-b561-dc45419f0f38\"},{\"id\":\"653fca07-1d1b-48ce-aa55-baf25be6b5a9\"}],\"tooltips\":[[\"first_state\",\"@{first_state}\"],[\"period\",\"@{period}\"],[\"pct_retained\",\"@{pct_retained}\"]]}},{\"type\":\"object\",\"name\":\"SaveTool\",\"id\":\"39e48275-f06f-4cc0-a451-3618b08de0fb\"},{\"type\":\"object\",\"name\":\"PanTool\",\"id\":\"cdbedc80-8869-409a-85f1-6c8fe53a2d27\"},{\"type\":\"object\",\"name\":\"BoxZoomTool\",\"id\":\"b47b8987-96b4-4abd-b40a-34e44526d903\",\"attributes\":{\"overlay\":{\"type\":\"object\",\"name\":\"BoxAnnotation\",\"id\":\"498c6994-4b5d-46ca-ad5a-2d2baf53af0b\",\"attributes\":{\"syncable\":false,\"level\":\"overlay\",\"visible\":false,\"left_units\":\"canvas\",\"right_units\":\"canvas\",\"bottom_units\":\"canvas\",\"top_units\":\"canvas\",\"line_color\":\"black\",\"line_alpha\":1.0,\"line_width\":2,\"line_dash\":[4,4],\"fill_color\":\"lightgrey\",\"fill_alpha\":0.5}}}},{\"type\":\"object\",\"name\":\"ResetTool\",\"id\":\"3a9eed4d-f252-443f-8f0c-33149de4d6af\"}],\"active_drag\":{\"id\":\"cdbedc80-8869-409a-85f1-6c8fe53a2d27\"},\"active_scroll\":{\"id\":\"ca12cead-5937-4564-8c28-a17f7a52cf5b\"}}},\"left\":[{\"type\":\"object\",\"name\":\"LinearAxis\",\"id\":\"f7ef1d81-db67-4c5b-ae77-d9ca8f3cf56c\",\"attributes\":{\"ticker\":{\"type\":\"object\",\"name\":\"BasicTicker\",\"id\":\"c01564cc-3b37-45ba-9740-243f6b79c795\",\"attributes\":{\"mantissas\":[1,2,5]}},\"formatter\":{\"type\":\"object\",\"name\":\"BasicTickFormatter\",\"id\":\"b85f0fc3-63f8-4102-a344-61d80821af9e\"},\"axis_label\":\"pct_retained\",\"major_label_policy\":{\"type\":\"object\",\"name\":\"AllLabels\",\"id\":\"b7c4f671-a3da-417a-ade5-b6e221aa595b\"}}}],\"above\":[{\"type\":\"object\",\"name\":\"Legend\",\"id\":\"2a5022f6-355c-46a3-b8eb-27da71ea8c27\",\"attributes\":{\"location\":[0,0],\"orientation\":\"horizontal\",\"title\":\"first_state\",\"click_policy\":\"mute\",\"items\":[{\"type\":\"object\",\"name\":\"LegendItem\",\"id\":\"004e5c45-06e4-4545-b8ea-858f9cfcac84\",\"attributes\":{\"label\":{\"type\":\"value\",\"value\":\"IL\"},\"renderers\":[{\"id\":\"9702ea95-adaf-47ab-86ea-293fac85033e\"}]}},{\"type\":\"object\",\"name\":\"LegendItem\",\"id\":\"dcbc4f96-433a-4859-803e-3859445a522c\",\"attributes\":{\"label\":{\"type\":\"value\",\"value\":\"MA\"},\"renderers\":[{\"id\":\"c704b48d-ee7c-4fff-8e14-9a7948c01df3\"}]}},{\"type\":\"object\",\"name\":\"LegendItem\",\"id\":\"7e888844-2ce5-41bb-abf6-64d20a36da9e\",\"attributes\":{\"label\":{\"type\":\"value\",\"value\":\"NY\"},\"renderers\":[{\"id\":\"d0a64ca5-670c-4a68-804c-445142bd1469\"}]}},{\"type\":\"object\",\"name\":\"LegendItem\",\"id\":\"39bfc8c5-cab7-49cd-9c87-a23d8775b893\",\"attributes\":{\"label\":{\"type\":\"value\",\"value\":\"OH\"},\"renderers\":[{\"id\":\"63ea8bca-bfeb-4068-b561-dc45419f0f38\"}]}},{\"type\":\"object\",\"name\":\"LegendItem\",\"id\":\"a1815952-3f13-4dac-8c60-218cae383193\",\"attributes\":{\"label\":{\"type\":\"value\",\"value\":\"PA\"},\"renderers\":[{\"id\":\"653fca07-1d1b-48ce-aa55-baf25be6b5a9\"}]}}]}}],\"below\":[{\"type\":\"object\",\"name\":\"LinearAxis\",\"id\":\"d3be56b0-8b4a-49d7-97dd-31a0a7532f2a\",\"attributes\":{\"ticker\":{\"type\":\"object\",\"name\":\"BasicTicker\",\"id\":\"56664020-6179-4ad8-b59a-b9d26fbeb3ed\",\"attributes\":{\"mantissas\":[1,2,5]}},\"formatter\":{\"type\":\"object\",\"name\":\"BasicTickFormatter\",\"id\":\"83afd699-69bb-4cd4-97f4-9e683b21359f\"},\"axis_label\":\"period\",\"major_label_policy\":{\"type\":\"object\",\"name\":\"AllLabels\",\"id\":\"855eb3c1-8f78-48cb-a640-78ffca719f6d\"}}}],\"center\":[{\"type\":\"object\",\"name\":\"Grid\",\"id\":\"f612c8de-e5f2-45d4-b09a-bd9c32491f59\",\"attributes\":{\"axis\":{\"id\":\"d3be56b0-8b4a-49d7-97dd-31a0a7532f2a\"},\"ticker\":{\"id\":\"56664020-6179-4ad8-b59a-b9d26fbeb3ed\"}}},{\"type\":\"object\",\"name\":\"Grid\",\"id\":\"d792ebfb-c974-4adb-9e22-7dc6ef3d7553\",\"attributes\":{\"dimension\":1,\"axis\":{\"id\":\"f7ef1d81-db67-4c5b-ae77-d9ca8f3cf56c\"},\"ticker\":{\"id\":\"c01564cc-3b37-45ba-9740-243f6b79c795\"}}}],\"min_border_top\":10,\"min_border_bottom\":10,\"min_border_left\":10,\"min_border_right\":10,\"output_backend\":\"webgl\"}},{\"type\":\"object\",\"name\":\"Spacer\",\"id\":\"f50c87cb-8992-4266-b54b-96d55f68d71b\",\"attributes\":{\"name\":\"HSpacer53973\",\"stylesheets\":[\"\\n:host(.pn-loading.pn-arc):before, .pn-loading.pn-arc:before {\\n  background-image: url(\\\"data:image/svg+xml;base64,PHN2ZyB4bWxucz0iaHR0cDovL3d3dy53My5vcmcvMjAwMC9zdmciIHN0eWxlPSJtYXJnaW46IGF1dG87IGJhY2tncm91bmQ6IG5vbmU7IGRpc3BsYXk6IGJsb2NrOyBzaGFwZS1yZW5kZXJpbmc6IGF1dG87IiB2aWV3Qm94PSIwIDAgMTAwIDEwMCIgcHJlc2VydmVBc3BlY3RSYXRpbz0ieE1pZFlNaWQiPiAgPGNpcmNsZSBjeD0iNTAiIGN5PSI1MCIgZmlsbD0ibm9uZSIgc3Ryb2tlPSIjYzNjM2MzIiBzdHJva2Utd2lkdGg9IjEwIiByPSIzNSIgc3Ryb2tlLWRhc2hhcnJheT0iMTY0LjkzMzYxNDMxMzQ2NDE1IDU2Ljk3Nzg3MTQzNzgyMTM4Ij4gICAgPGFuaW1hdGVUcmFuc2Zvcm0gYXR0cmlidXRlTmFtZT0idHJhbnNmb3JtIiB0eXBlPSJyb3RhdGUiIHJlcGVhdENvdW50PSJpbmRlZmluaXRlIiBkdXI9IjFzIiB2YWx1ZXM9IjAgNTAgNTA7MzYwIDUwIDUwIiBrZXlUaW1lcz0iMDsxIj48L2FuaW1hdGVUcmFuc2Zvcm0+ICA8L2NpcmNsZT48L3N2Zz4=\\\");\\n  background-size: auto calc(min(50%, 400px));\\n}\",{\"id\":\"563dc936-74a6-4ad4-8f23-3a40e4f00ad9\"},{\"id\":\"ab3ef287-19c2-48d4-bfe6-05faf18a7627\"},{\"id\":\"2ae57127-4c07-46d5-875f-2b87d6b79801\"}],\"margin\":0,\"sizing_mode\":\"stretch_width\",\"align\":\"start\"}}]}}],\"defs\":[{\"type\":\"model\",\"name\":\"ReactiveHTML1\"},{\"type\":\"model\",\"name\":\"FlexBox1\",\"properties\":[{\"name\":\"align_content\",\"kind\":\"Any\",\"default\":\"flex-start\"},{\"name\":\"align_items\",\"kind\":\"Any\",\"default\":\"flex-start\"},{\"name\":\"flex_direction\",\"kind\":\"Any\",\"default\":\"row\"},{\"name\":\"flex_wrap\",\"kind\":\"Any\",\"default\":\"wrap\"},{\"name\":\"justify_content\",\"kind\":\"Any\",\"default\":\"flex-start\"}]},{\"type\":\"model\",\"name\":\"FloatPanel1\",\"properties\":[{\"name\":\"config\",\"kind\":\"Any\",\"default\":{\"type\":\"map\"}},{\"name\":\"contained\",\"kind\":\"Any\",\"default\":true},{\"name\":\"position\",\"kind\":\"Any\",\"default\":\"right-top\"},{\"name\":\"offsetx\",\"kind\":\"Any\",\"default\":null},{\"name\":\"offsety\",\"kind\":\"Any\",\"default\":null},{\"name\":\"theme\",\"kind\":\"Any\",\"default\":\"primary\"},{\"name\":\"status\",\"kind\":\"Any\",\"default\":\"normalized\"}]},{\"type\":\"model\",\"name\":\"GridStack1\",\"properties\":[{\"name\":\"mode\",\"kind\":\"Any\",\"default\":\"warn\"},{\"name\":\"ncols\",\"kind\":\"Any\",\"default\":null},{\"name\":\"nrows\",\"kind\":\"Any\",\"default\":null},{\"name\":\"allow_resize\",\"kind\":\"Any\",\"default\":true},{\"name\":\"allow_drag\",\"kind\":\"Any\",\"default\":true},{\"name\":\"state\",\"kind\":\"Any\",\"default\":[]}]},{\"type\":\"model\",\"name\":\"drag1\",\"properties\":[{\"name\":\"slider_width\",\"kind\":\"Any\",\"default\":5},{\"name\":\"slider_color\",\"kind\":\"Any\",\"default\":\"black\"},{\"name\":\"value\",\"kind\":\"Any\",\"default\":50}]},{\"type\":\"model\",\"name\":\"click1\",\"properties\":[{\"name\":\"terminal_output\",\"kind\":\"Any\",\"default\":\"\"},{\"name\":\"debug_name\",\"kind\":\"Any\",\"default\":\"\"},{\"name\":\"clears\",\"kind\":\"Any\",\"default\":0}]},{\"type\":\"model\",\"name\":\"FastWrapper1\",\"properties\":[{\"name\":\"object\",\"kind\":\"Any\",\"default\":null},{\"name\":\"style\",\"kind\":\"Any\",\"default\":null}]},{\"type\":\"model\",\"name\":\"NotificationAreaBase1\",\"properties\":[{\"name\":\"js_events\",\"kind\":\"Any\",\"default\":{\"type\":\"map\"}},{\"name\":\"position\",\"kind\":\"Any\",\"default\":\"bottom-right\"},{\"name\":\"_clear\",\"kind\":\"Any\",\"default\":0}]},{\"type\":\"model\",\"name\":\"NotificationArea1\",\"properties\":[{\"name\":\"js_events\",\"kind\":\"Any\",\"default\":{\"type\":\"map\"}},{\"name\":\"notifications\",\"kind\":\"Any\",\"default\":[]},{\"name\":\"position\",\"kind\":\"Any\",\"default\":\"bottom-right\"},{\"name\":\"_clear\",\"kind\":\"Any\",\"default\":0},{\"name\":\"types\",\"kind\":\"Any\",\"default\":[{\"type\":\"map\",\"entries\":[[\"type\",\"warning\"],[\"background\",\"#ffc107\"],[\"icon\",{\"type\":\"map\",\"entries\":[[\"className\",\"fas fa-exclamation-triangle\"],[\"tagName\",\"i\"],[\"color\",\"white\"]]}]]},{\"type\":\"map\",\"entries\":[[\"type\",\"info\"],[\"background\",\"#007bff\"],[\"icon\",{\"type\":\"map\",\"entries\":[[\"className\",\"fas fa-info-circle\"],[\"tagName\",\"i\"],[\"color\",\"white\"]]}]]}]}]},{\"type\":\"model\",\"name\":\"Notification\",\"properties\":[{\"name\":\"background\",\"kind\":\"Any\",\"default\":null},{\"name\":\"duration\",\"kind\":\"Any\",\"default\":3000},{\"name\":\"icon\",\"kind\":\"Any\",\"default\":null},{\"name\":\"message\",\"kind\":\"Any\",\"default\":\"\"},{\"name\":\"notification_type\",\"kind\":\"Any\",\"default\":null},{\"name\":\"_destroyed\",\"kind\":\"Any\",\"default\":false}]},{\"type\":\"model\",\"name\":\"TemplateActions1\",\"properties\":[{\"name\":\"open_modal\",\"kind\":\"Any\",\"default\":0},{\"name\":\"close_modal\",\"kind\":\"Any\",\"default\":0}]},{\"type\":\"model\",\"name\":\"BootstrapTemplateActions1\",\"properties\":[{\"name\":\"open_modal\",\"kind\":\"Any\",\"default\":0},{\"name\":\"close_modal\",\"kind\":\"Any\",\"default\":0}]},{\"type\":\"model\",\"name\":\"MaterialTemplateActions1\",\"properties\":[{\"name\":\"open_modal\",\"kind\":\"Any\",\"default\":0},{\"name\":\"close_modal\",\"kind\":\"Any\",\"default\":0}]}]}};\n",
       "  var render_items = [{\"docid\":\"ee3d6ce2-4728-4f88-84c5-795ce57de764\",\"roots\":{\"83cb484d-bf85-428c-a207-292e287a931a\":\"a9658742-2cc5-4ee2-ace2-08c68989f402\"},\"root_ids\":[\"83cb484d-bf85-428c-a207-292e287a931a\"]}];\n",
       "  var docs = Object.values(docs_json)\n",
       "  if (!docs) {\n",
       "    return\n",
       "  }\n",
       "  const py_version = docs[0].version.replace('rc', '-rc.').replace('.dev', '-dev.')\n",
       "  const is_dev = py_version.indexOf(\"+\") !== -1 || py_version.indexOf(\"-\") !== -1\n",
       "  function embed_document(root) {\n",
       "    var Bokeh = get_bokeh(root)\n",
       "    Bokeh.embed.embed_items_notebook(docs_json, render_items);\n",
       "    for (const render_item of render_items) {\n",
       "      for (const root_id of render_item.root_ids) {\n",
       "\tconst id_el = document.getElementById(root_id)\n",
       "\tif (id_el.children.length && (id_el.children[0].className === 'bk-root')) {\n",
       "\t  const root_el = id_el.children[0]\n",
       "\t  root_el.id = root_el.id + '-rendered'\n",
       "\t}\n",
       "      }\n",
       "    }\n",
       "  }\n",
       "  function get_bokeh(root) {\n",
       "    if (root.Bokeh === undefined) {\n",
       "      return null\n",
       "    } else if (root.Bokeh.version !== py_version && !is_dev) {\n",
       "      if (root.Bokeh.versions === undefined || !root.Bokeh.versions.has(py_version)) {\n",
       "\treturn null\n",
       "      }\n",
       "      return root.Bokeh.versions.get(py_version);\n",
       "    } else if (root.Bokeh.version === py_version) {\n",
       "      return root.Bokeh\n",
       "    }\n",
       "    return null\n",
       "  }\n",
       "  function is_loaded(root) {\n",
       "    var Bokeh = get_bokeh(root)\n",
       "    return (Bokeh != null && Bokeh.Panel !== undefined)\n",
       "  }\n",
       "  if (is_loaded(root)) {\n",
       "    embed_document(root);\n",
       "  } else {\n",
       "    var attempts = 0;\n",
       "    var timer = setInterval(function(root) {\n",
       "      if (is_loaded(root)) {\n",
       "        clearInterval(timer);\n",
       "        embed_document(root);\n",
       "      } else if (document.readyState == \"complete\") {\n",
       "        attempts++;\n",
       "        if (attempts > 200) {\n",
       "          clearInterval(timer);\n",
       "\t  var Bokeh = get_bokeh(root)\n",
       "\t  if (Bokeh == null || Bokeh.Panel == null) {\n",
       "            console.warn(\"Panel: ERROR: Unable to run Panel code because Bokeh or Panel library is missing\");\n",
       "\t  } else {\n",
       "\t    console.warn(\"Panel: WARNING: Attempting to render but not all required libraries could be resolved.\")\n",
       "\t    embed_document(root)\n",
       "\t  }\n",
       "        }\n",
       "      }\n",
       "    }, 25, root)\n",
       "  }\n",
       "})(window);</script>"
      ],
      "text/plain": [
       ":NdOverlay   [first_state]\n",
       "   :Curve   [period]   (pct_retained)"
      ]
     },
     "execution_count": 382,
     "metadata": {
      "application/vnd.holoviews_exec.v0+json": {
       "id": "83cb484d-bf85-428c-a207-292e287a931a"
      }
     },
     "output_type": "execute_result"
    }
   ],
   "source": [
    "plot_3 = data_3.hvplot(kind='line',\n",
    "        x='period',\n",
    "        y='pct_retained',\n",
    "        by='first_state',\n",
    "        grid=True,\n",
    "        title='Top five states by total number of legislators',\n",
    "        legend='top',\n",
    "        shared_axes=False,\n",
    "        width=650, height=300)\n",
    "\n",
    "plot_3"
   ]
  },
  {
   "cell_type": "markdown",
   "id": "5e8ba0bf-e5dd-41ad-84d5-4934412e72fc",
   "metadata": {},
   "source": [
    "# Keeping legislators on the floor"
   ]
  },
  {
   "cell_type": "code",
   "execution_count": 383,
   "id": "adf3c038-2ae3-495e-8a00-273ac577b9c1",
   "metadata": {
    "tags": []
   },
   "outputs": [
    {
     "name": "stdout",
     "output_type": "stream",
     "text": [
      "Connection to PostgreSQL DB successful\n"
     ]
    },
    {
     "data": {
      "text/plain": [
       "['F', 0.0, 200, 200, Decimal('100.0000000000000000')]"
      ]
     },
     "execution_count": 383,
     "metadata": {},
     "output_type": "execute_result"
    }
   ],
   "source": [
    "connection = create_connection(db_name, db_user, db_password, db_host, db_port)\n",
    "\n",
    "cursor = connection.cursor(cursor_factory=DictCursor)  \n",
    "# from psycopg2.extras import NamedTupleCursor | cursor_factory=NamedTupleCursor\n",
    "\n",
    "# Getting table values retail_sales\n",
    "cursor.execute(\"\"\"\n",
    "SELECT gender, period\n",
    ",first_value(cohort_retained) over (partition by gender order by period) as cohort_size\n",
    ",cohort_retained\n",
    ",cohort_retained * 100.0 / \n",
    " first_value(cohort_retained) over (partition by gender order by period) as pct_retained\n",
    "FROM\n",
    "(\n",
    "        SELECT d.gender\n",
    "        ,coalesce(date_part('year',age(c.date,a.first_term)),0) as period\n",
    "        ,count(distinct a.id_bioguide) as cohort_retained\n",
    "        FROM\n",
    "        (\n",
    "                SELECT id_bioguide, min(term_start) as first_term\n",
    "                FROM legislators_terms \n",
    "                GROUP BY 1\n",
    "        ) a\n",
    "        JOIN legislators_terms b on a.id_bioguide = b.id_bioguide \n",
    "        LEFT JOIN (SELECT date,\n",
    "                            EXTRACT(MONTH FROM date) AS month_name,\n",
    "                            EXTRACT(DAY FROM date) AS day_of_month\n",
    "                    FROM\n",
    "                    (\n",
    "                        SELECT distinct make_date(date_part('year', term_start)::int,12,31) AS date\n",
    "                        FROM legislators_terms\n",
    "                        ORDER BY 1) date_dim) c on c.date between b.term_start and b.term_end \n",
    "        and c.month_name = 12 and c.day_of_month = 31\n",
    "        JOIN legislators d on a.id_bioguide = d.id_bioguide\n",
    "        WHERE a.first_term between '1917-01-01' and '1999-12-31'\n",
    "        GROUP BY 1,2\n",
    ") aa\n",
    "ORDER BY 2,1\n",
    ";\n",
    "\"\"\")\n",
    "data_4= cursor.fetchall()\n",
    "cursor.close()  # Close the cursor\n",
    "connection.close()  # We close the connection\n",
    "data_4[0]"
   ]
  },
  {
   "cell_type": "code",
   "execution_count": 384,
   "id": "a401d3f2-095a-4139-a77a-590322c413a5",
   "metadata": {
    "tags": []
   },
   "outputs": [
    {
     "data": {
      "text/html": [
       "<div>\n",
       "<style scoped>\n",
       "    .dataframe tbody tr th:only-of-type {\n",
       "        vertical-align: middle;\n",
       "    }\n",
       "\n",
       "    .dataframe tbody tr th {\n",
       "        vertical-align: top;\n",
       "    }\n",
       "\n",
       "    .dataframe thead th {\n",
       "        text-align: right;\n",
       "    }\n",
       "</style>\n",
       "<table border=\"1\" class=\"dataframe\">\n",
       "  <thead>\n",
       "    <tr style=\"text-align: right;\">\n",
       "      <th></th>\n",
       "      <th>gender</th>\n",
       "      <th>period</th>\n",
       "      <th>cohort_size</th>\n",
       "      <th>cohort_retained</th>\n",
       "      <th>pct_retained</th>\n",
       "    </tr>\n",
       "  </thead>\n",
       "  <tbody>\n",
       "    <tr>\n",
       "      <th>0</th>\n",
       "      <td>F</td>\n",
       "      <td>0.0</td>\n",
       "      <td>200</td>\n",
       "      <td>200</td>\n",
       "      <td>100.0000000000000000</td>\n",
       "    </tr>\n",
       "    <tr>\n",
       "      <th>1</th>\n",
       "      <td>M</td>\n",
       "      <td>0.0</td>\n",
       "      <td>3833</td>\n",
       "      <td>3833</td>\n",
       "      <td>100.0000000000000000</td>\n",
       "    </tr>\n",
       "    <tr>\n",
       "      <th>2</th>\n",
       "      <td>F</td>\n",
       "      <td>1.0</td>\n",
       "      <td>200</td>\n",
       "      <td>187</td>\n",
       "      <td>93.5000000000000000</td>\n",
       "    </tr>\n",
       "    <tr>\n",
       "      <th>3</th>\n",
       "      <td>M</td>\n",
       "      <td>1.0</td>\n",
       "      <td>3833</td>\n",
       "      <td>3769</td>\n",
       "      <td>98.3302895903991651</td>\n",
       "    </tr>\n",
       "    <tr>\n",
       "      <th>4</th>\n",
       "      <td>F</td>\n",
       "      <td>2.0</td>\n",
       "      <td>200</td>\n",
       "      <td>149</td>\n",
       "      <td>74.5000000000000000</td>\n",
       "    </tr>\n",
       "  </tbody>\n",
       "</table>\n",
       "</div>"
      ],
      "text/plain": [
       "  gender  period  cohort_size  cohort_retained          pct_retained\n",
       "0      F     0.0          200              200  100.0000000000000000\n",
       "1      M     0.0         3833             3833  100.0000000000000000\n",
       "2      F     1.0          200              187   93.5000000000000000\n",
       "3      M     1.0         3833             3769   98.3302895903991651\n",
       "4      F     2.0          200              149   74.5000000000000000"
      ]
     },
     "execution_count": 384,
     "metadata": {},
     "output_type": "execute_result"
    }
   ],
   "source": [
    "# Let's convert to DataFrame\n",
    "data_4 = pd.DataFrame(data_4, columns=['gender','period', 'cohort_size', 'cohort_retained', 'pct_retained'])\n",
    "data_4.head()"
   ]
  },
  {
   "cell_type": "code",
   "execution_count": 385,
   "id": "6019ff9c-8e31-431c-abda-14364776e219",
   "metadata": {
    "tags": []
   },
   "outputs": [
    {
     "data": {
      "text/plain": [
       "gender              object\n",
       "period               int64\n",
       "cohort_size          int64\n",
       "cohort_retained      int64\n",
       "pct_retained       float64\n",
       "dtype: object"
      ]
     },
     "execution_count": 385,
     "metadata": {},
     "output_type": "execute_result"
    }
   ],
   "source": [
    "data_4['period'] = data_4['period'].astype('int')\n",
    "data_4['pct_retained'] = data_4['pct_retained'].astype('float')\n",
    "data_4.dtypes"
   ]
  },
  {
   "cell_type": "code",
   "execution_count": 386,
   "id": "c6fd2043-9a7a-4e5e-8f9b-ed6a312133d5",
   "metadata": {
    "tags": []
   },
   "outputs": [
    {
     "data": {},
     "metadata": {},
     "output_type": "display_data"
    },
    {
     "data": {
      "application/vnd.holoviews_exec.v0+json": "",
      "text/html": [
       "<div id='089dac71-ee27-460a-bde5-ca604946672a'>\n",
       "  <div id=\"ec2f2b11-1d14-45cd-8bbb-e2e2bf5a91db\" data-root-id=\"089dac71-ee27-460a-bde5-ca604946672a\" style=\"display: contents;\"></div>\n",
       "</div>\n",
       "<script type=\"application/javascript\">(function(root) {\n",
       "  var docs_json = {\"949cbeda-56d2-490c-90f7-6966c0f4a08c\":{\"version\":\"3.2.1\",\"title\":\"Bokeh Application\",\"roots\":[{\"type\":\"object\",\"name\":\"Row\",\"id\":\"089dac71-ee27-460a-bde5-ca604946672a\",\"attributes\":{\"name\":\"Row54164\",\"tags\":[\"embedded\"],\"stylesheets\":[\"\\n:host(.pn-loading.pn-arc):before, .pn-loading.pn-arc:before {\\n  background-image: url(\\\"data:image/svg+xml;base64,PHN2ZyB4bWxucz0iaHR0cDovL3d3dy53My5vcmcvMjAwMC9zdmciIHN0eWxlPSJtYXJnaW46IGF1dG87IGJhY2tncm91bmQ6IG5vbmU7IGRpc3BsYXk6IGJsb2NrOyBzaGFwZS1yZW5kZXJpbmc6IGF1dG87IiB2aWV3Qm94PSIwIDAgMTAwIDEwMCIgcHJlc2VydmVBc3BlY3RSYXRpbz0ieE1pZFlNaWQiPiAgPGNpcmNsZSBjeD0iNTAiIGN5PSI1MCIgZmlsbD0ibm9uZSIgc3Ryb2tlPSIjYzNjM2MzIiBzdHJva2Utd2lkdGg9IjEwIiByPSIzNSIgc3Ryb2tlLWRhc2hhcnJheT0iMTY0LjkzMzYxNDMxMzQ2NDE1IDU2Ljk3Nzg3MTQzNzgyMTM4Ij4gICAgPGFuaW1hdGVUcmFuc2Zvcm0gYXR0cmlidXRlTmFtZT0idHJhbnNmb3JtIiB0eXBlPSJyb3RhdGUiIHJlcGVhdENvdW50PSJpbmRlZmluaXRlIiBkdXI9IjFzIiB2YWx1ZXM9IjAgNTAgNTA7MzYwIDUwIDUwIiBrZXlUaW1lcz0iMDsxIj48L2FuaW1hdGVUcmFuc2Zvcm0+ICA8L2NpcmNsZT48L3N2Zz4=\\\");\\n  background-size: auto calc(min(50%, 400px));\\n}\",{\"type\":\"object\",\"name\":\"ImportedStyleSheet\",\"id\":\"ba5cb96b-4b7d-4a2f-a89a-0956fd9f73ad\",\"attributes\":{\"url\":\"https://cdn.holoviz.org/panel/1.2.1/dist/css/loading.css\"}},{\"type\":\"object\",\"name\":\"ImportedStyleSheet\",\"id\":\"2477d8bf-c0ff-4d6b-8d1b-6b59809b7bda\",\"attributes\":{\"url\":\"https://cdn.holoviz.org/panel/1.2.1/dist/css/listpanel.css\"}},{\"type\":\"object\",\"name\":\"ImportedStyleSheet\",\"id\":\"99e6cc91-87cf-4949-9264-5d1a416d8788\",\"attributes\":{\"url\":\"https://cdn.holoviz.org/panel/1.2.1/dist/bundled/theme/default.css\"}},{\"type\":\"object\",\"name\":\"ImportedStyleSheet\",\"id\":\"66fa2b61-f2f9-48e2-9643-c47f27bb5af2\",\"attributes\":{\"url\":\"https://cdn.holoviz.org/panel/1.2.1/dist/bundled/theme/native.css\"}}],\"min_width\":650,\"margin\":0,\"sizing_mode\":\"stretch_width\",\"align\":\"start\",\"children\":[{\"type\":\"object\",\"name\":\"Spacer\",\"id\":\"cb2fe17c-5131-4ccb-a5ae-a2a51217a334\",\"attributes\":{\"name\":\"HSpacer54175\",\"stylesheets\":[\"\\n:host(.pn-loading.pn-arc):before, .pn-loading.pn-arc:before {\\n  background-image: url(\\\"data:image/svg+xml;base64,PHN2ZyB4bWxucz0iaHR0cDovL3d3dy53My5vcmcvMjAwMC9zdmciIHN0eWxlPSJtYXJnaW46IGF1dG87IGJhY2tncm91bmQ6IG5vbmU7IGRpc3BsYXk6IGJsb2NrOyBzaGFwZS1yZW5kZXJpbmc6IGF1dG87IiB2aWV3Qm94PSIwIDAgMTAwIDEwMCIgcHJlc2VydmVBc3BlY3RSYXRpbz0ieE1pZFlNaWQiPiAgPGNpcmNsZSBjeD0iNTAiIGN5PSI1MCIgZmlsbD0ibm9uZSIgc3Ryb2tlPSIjYzNjM2MzIiBzdHJva2Utd2lkdGg9IjEwIiByPSIzNSIgc3Ryb2tlLWRhc2hhcnJheT0iMTY0LjkzMzYxNDMxMzQ2NDE1IDU2Ljk3Nzg3MTQzNzgyMTM4Ij4gICAgPGFuaW1hdGVUcmFuc2Zvcm0gYXR0cmlidXRlTmFtZT0idHJhbnNmb3JtIiB0eXBlPSJyb3RhdGUiIHJlcGVhdENvdW50PSJpbmRlZmluaXRlIiBkdXI9IjFzIiB2YWx1ZXM9IjAgNTAgNTA7MzYwIDUwIDUwIiBrZXlUaW1lcz0iMDsxIj48L2FuaW1hdGVUcmFuc2Zvcm0+ICA8L2NpcmNsZT48L3N2Zz4=\\\");\\n  background-size: auto calc(min(50%, 400px));\\n}\",{\"id\":\"ba5cb96b-4b7d-4a2f-a89a-0956fd9f73ad\"},{\"id\":\"99e6cc91-87cf-4949-9264-5d1a416d8788\"},{\"id\":\"66fa2b61-f2f9-48e2-9643-c47f27bb5af2\"}],\"margin\":0,\"sizing_mode\":\"stretch_width\",\"align\":\"start\"}},{\"type\":\"object\",\"name\":\"Figure\",\"id\":\"50f58e10-1c83-4d2d-9853-4847425adb76\",\"attributes\":{\"width\":650,\"height\":300,\"margin\":[5,10],\"sizing_mode\":\"fixed\",\"align\":\"start\",\"x_range\":{\"type\":\"object\",\"name\":\"Range1d\",\"id\":\"ae77f8a9-f027-41cf-8459-8fffaa9d2715\",\"attributes\":{\"tags\":[[[\"period\",\"period\",null]],[]],\"end\":59.0,\"reset_start\":0.0,\"reset_end\":59.0}},\"y_range\":{\"type\":\"object\",\"name\":\"Range1d\",\"id\":\"bb7bfffe-7464-4016-af5a-c9a64428d699\",\"attributes\":{\"tags\":[[[\"pct_retained\",\"pct_retained\",null]],{\"type\":\"map\",\"entries\":[[\"invert_yaxis\",false],[\"autorange\",false]]}],\"start\":-9.971301852334985,\"end\":109.99739107748499,\"reset_start\":-9.971301852334985,\"reset_end\":109.99739107748499}},\"x_scale\":{\"type\":\"object\",\"name\":\"LinearScale\",\"id\":\"5a84ba6b-6738-49df-bf58-8cacbcc4a130\"},\"y_scale\":{\"type\":\"object\",\"name\":\"LinearScale\",\"id\":\"3434745d-8fff-4d36-9e14-0f281ac7f240\"},\"title\":{\"type\":\"object\",\"name\":\"Title\",\"id\":\"9bfbd181-d380-40f9-9912-54d6e90f8b3a\",\"attributes\":{\"text\":\"Keeping legislators on the floor\",\"text_color\":\"black\",\"text_font_size\":\"12pt\"}},\"renderers\":[{\"type\":\"object\",\"name\":\"GlyphRenderer\",\"id\":\"8f242567-4fc7-4e04-af9d-5ecb6b24c928\",\"attributes\":{\"name\":\"F\",\"data_source\":{\"type\":\"object\",\"name\":\"ColumnDataSource\",\"id\":\"c32439b4-7585-4882-a385-9bdb4ac44271\",\"attributes\":{\"selected\":{\"type\":\"object\",\"name\":\"Selection\",\"id\":\"ff659120-2763-4dac-9a5f-ebc9ac16b651\",\"attributes\":{\"indices\":[],\"line_indices\":[]}},\"selection_policy\":{\"type\":\"object\",\"name\":\"UnionRenderers\",\"id\":\"10083b9f-8690-4659-bce8-b7fd3a2df20d\"},\"data\":{\"type\":\"map\",\"entries\":[[\"period\",{\"type\":\"ndarray\",\"array\":{\"type\":\"bytes\",\"data\":\"AAAAAAEAAAACAAAAAwAAAAQAAAAFAAAABgAAAAcAAAAIAAAACQAAAAoAAAALAAAADAAAAA0AAAAOAAAADwAAABAAAAARAAAAEgAAABMAAAAUAAAAFQAAABYAAAAXAAAAGAAAABkAAAAaAAAAGwAAABwAAAAdAAAAHgAAAB8AAAAgAAAAIQAAACIAAAAjAAAAJAAAACUAAAAmAAAAJwAAAA==\"},\"shape\":[40],\"dtype\":\"int32\",\"order\":\"little\"}],[\"pct_retained\",{\"type\":\"ndarray\",\"array\":{\"type\":\"bytes\",\"data\":\"AAAAAAAAWUAAAAAAAGBXQAAAAAAAoFJAAAAAAACgUkAAAAAAACBQQAAAAAAAIFBAAAAAAACAS0AAAAAAAABLQAAAAAAAQElAAAAAAAAASUAAAAAAAABGQAAAAAAAQEVAAAAAAABAQ0AAAAAAAEBDQAAAAAAAgEBAAAAAAABAQEAAAAAAAIA8QAAAAAAAgDxAAAAAAAAAOEAAAAAAAAA3QAAAAAAAgDNAAAAAAACAM0AAAAAAAIAxQAAAAAAAADFAAAAAAAAAKkAAAAAAAAArQAAAAAAAACdAAAAAAAAAJ0AAAAAAAAAgQAAAAAAAAB5AAAAAAAAAFEAAAAAAAAASQAAAAAAAABBAAAAAAAAAEEAAAAAAAAAAQAAAAAAAAABAAAAAAAAA+D8AAAAAAADwPwAAAAAAAOA/AAAAAAAA4D8=\"},\"shape\":[40],\"dtype\":\"float64\",\"order\":\"little\"}],[\"gender\",[\"F\",\"F\",\"F\",\"F\",\"F\",\"F\",\"F\",\"F\",\"F\",\"F\",\"F\",\"F\",\"F\",\"F\",\"F\",\"F\",\"F\",\"F\",\"F\",\"F\",\"F\",\"F\",\"F\",\"F\",\"F\",\"F\",\"F\",\"F\",\"F\",\"F\",\"F\",\"F\",\"F\",\"F\",\"F\",\"F\",\"F\",\"F\",\"F\",\"F\"]]]}}},\"view\":{\"type\":\"object\",\"name\":\"CDSView\",\"id\":\"57c43f85-5b13-4cac-aadd-18d4c5753532\",\"attributes\":{\"filter\":{\"type\":\"object\",\"name\":\"AllIndices\",\"id\":\"8b11e3d5-814b-467a-b187-45000995e9b8\"}}},\"glyph\":{\"type\":\"object\",\"name\":\"Line\",\"id\":\"22700232-daf1-40ec-a8d6-f88acff55d42\",\"attributes\":{\"tags\":[\"apply_ranges\"],\"x\":{\"type\":\"field\",\"field\":\"period\"},\"y\":{\"type\":\"field\",\"field\":\"pct_retained\"},\"line_color\":\"#30a2da\",\"line_width\":2}},\"selection_glyph\":{\"type\":\"object\",\"name\":\"Line\",\"id\":\"d97c0149-af7e-4458-b31a-6c206e5a87dc\",\"attributes\":{\"tags\":[\"apply_ranges\"],\"x\":{\"type\":\"field\",\"field\":\"period\"},\"y\":{\"type\":\"field\",\"field\":\"pct_retained\"},\"line_color\":\"#30a2da\",\"line_width\":2}},\"nonselection_glyph\":{\"type\":\"object\",\"name\":\"Line\",\"id\":\"f9c990d2-c8be-484e-9e42-74d506bbbc5a\",\"attributes\":{\"tags\":[\"apply_ranges\"],\"x\":{\"type\":\"field\",\"field\":\"period\"},\"y\":{\"type\":\"field\",\"field\":\"pct_retained\"},\"line_color\":\"#30a2da\",\"line_alpha\":0.1,\"line_width\":2}},\"muted_glyph\":{\"type\":\"object\",\"name\":\"Line\",\"id\":\"55e288ed-ca67-4d1f-9a86-10e20d97f441\",\"attributes\":{\"tags\":[\"apply_ranges\"],\"x\":{\"type\":\"field\",\"field\":\"period\"},\"y\":{\"type\":\"field\",\"field\":\"pct_retained\"},\"line_color\":\"#30a2da\",\"line_alpha\":0.2,\"line_width\":2}}}},{\"type\":\"object\",\"name\":\"GlyphRenderer\",\"id\":\"ff6f0bbf-cfd0-408f-8943-3b0d166cafde\",\"attributes\":{\"name\":\"M\",\"data_source\":{\"type\":\"object\",\"name\":\"ColumnDataSource\",\"id\":\"243dcdca-8eb2-47f6-8320-ee38a845a50a\",\"attributes\":{\"selected\":{\"type\":\"object\",\"name\":\"Selection\",\"id\":\"a2559e2f-a965-4aa1-9c15-7bf7d477504c\",\"attributes\":{\"indices\":[],\"line_indices\":[]}},\"selection_policy\":{\"type\":\"object\",\"name\":\"UnionRenderers\",\"id\":\"83b8fd87-5898-4c90-a03b-eb0a4dd16ac3\"},\"data\":{\"type\":\"map\",\"entries\":[[\"period\",{\"type\":\"ndarray\",\"array\":{\"type\":\"bytes\",\"data\":\"AAAAAAEAAAACAAAAAwAAAAQAAAAFAAAABgAAAAcAAAAIAAAACQAAAAoAAAALAAAADAAAAA0AAAAOAAAADwAAABAAAAARAAAAEgAAABMAAAAUAAAAFQAAABYAAAAXAAAAGAAAABkAAAAaAAAAGwAAABwAAAAdAAAAHgAAAB8AAAAgAAAAIQAAACIAAAAjAAAAJAAAACUAAAAmAAAAJwAAACgAAAApAAAAKgAAACsAAAAsAAAALQAAAC4AAAAvAAAAMAAAADEAAAAyAAAAMwAAADQAAAA1AAAANgAAADcAAAA4AAAAOQAAADoAAAA7AAAA\"},\"shape\":[60],\"dtype\":\"int32\",\"order\":\"little\"}],[\"pct_retained\",{\"type\":\"ndarray\",\"array\":{\"type\":\"bytes\",\"data\":\"AAAAAAAAWUBQPvN2I5VYQBrKHosFVVNAmgBvEkw1U0ArOC9l/R5RQKtuf+xD/1BAeAABuR7UTEA0ApdDbMNMQKhoKTRL6khA69MzuIq7SECxV5fWy7RFQL8qgMmveEVAkVsN+O62QUC5+oazgIFBQBw7oxTjeD5AGxXkMf35PUDtH7J9Vrk5QDCLvAGWijlARQGV0S4bNUAcPFwzt9E0QGiW1Fl3bTFAJQUL81EdMUBQh0bgcogtQF00cPBwzSxAs6MVnJeyJkArgYLOTBImQDRKMY7nXSJA8LhnJ8INIkAlUNCZScIbQApegO61PBtA2vYQkl1/FUCWZUcrOC8VQAkTu0e+lxBAneJ3JQd9EEBwXsr6PWAHQBHbsOiEigZAe768JpxO/z/L/K+dv+P+P4/oFjFp4fk/f6PwldOg+D+EiCQFC/PxPyQFC/NRHfE/Eduw6ISK5j9S1H3EEt/kP3VD/ml1suA/K4DJr3i53z9wXsr6PWDXP/NQZLJZCdQ/dUP+aXWy0D9seZaLBg7OP3Beyvo9YMc/cF7K+j1gxz91Q/5pdbLAP/NQZLJZCbQ/7mswQyK3qj/uazBDIreqP+5rMEMit6o/7mswQyK3mj/uazBDIreaP+5rMEMit5o/\"},\"shape\":[60],\"dtype\":\"float64\",\"order\":\"little\"}],[\"gender\",[\"M\",\"M\",\"M\",\"M\",\"M\",\"M\",\"M\",\"M\",\"M\",\"M\",\"M\",\"M\",\"M\",\"M\",\"M\",\"M\",\"M\",\"M\",\"M\",\"M\",\"M\",\"M\",\"M\",\"M\",\"M\",\"M\",\"M\",\"M\",\"M\",\"M\",\"M\",\"M\",\"M\",\"M\",\"M\",\"M\",\"M\",\"M\",\"M\",\"M\",\"M\",\"M\",\"M\",\"M\",\"M\",\"M\",\"M\",\"M\",\"M\",\"M\",\"M\",\"M\",\"M\",\"M\",\"M\",\"M\",\"M\",\"M\",\"M\",\"M\"]]]}}},\"view\":{\"type\":\"object\",\"name\":\"CDSView\",\"id\":\"082041e6-bda9-428c-b10e-e88ed110753f\",\"attributes\":{\"filter\":{\"type\":\"object\",\"name\":\"AllIndices\",\"id\":\"07c2fbfe-3ba4-4abe-ad66-b7fd6644aa72\"}}},\"glyph\":{\"type\":\"object\",\"name\":\"Line\",\"id\":\"f6636aa7-6b80-4c85-b034-1ee127b673d6\",\"attributes\":{\"tags\":[\"apply_ranges\"],\"x\":{\"type\":\"field\",\"field\":\"period\"},\"y\":{\"type\":\"field\",\"field\":\"pct_retained\"},\"line_color\":\"#fc4f30\",\"line_width\":2}},\"selection_glyph\":{\"type\":\"object\",\"name\":\"Line\",\"id\":\"985cca57-029b-411e-80e4-e00bca27bc4e\",\"attributes\":{\"tags\":[\"apply_ranges\"],\"x\":{\"type\":\"field\",\"field\":\"period\"},\"y\":{\"type\":\"field\",\"field\":\"pct_retained\"},\"line_color\":\"#fc4f30\",\"line_width\":2}},\"nonselection_glyph\":{\"type\":\"object\",\"name\":\"Line\",\"id\":\"62ceee60-f3bf-4732-ac07-e63852942b6a\",\"attributes\":{\"tags\":[\"apply_ranges\"],\"x\":{\"type\":\"field\",\"field\":\"period\"},\"y\":{\"type\":\"field\",\"field\":\"pct_retained\"},\"line_color\":\"#fc4f30\",\"line_alpha\":0.1,\"line_width\":2}},\"muted_glyph\":{\"type\":\"object\",\"name\":\"Line\",\"id\":\"f6213f68-2145-4b33-bcff-6b2c6b8829ae\",\"attributes\":{\"tags\":[\"apply_ranges\"],\"x\":{\"type\":\"field\",\"field\":\"period\"},\"y\":{\"type\":\"field\",\"field\":\"pct_retained\"},\"line_color\":\"#fc4f30\",\"line_alpha\":0.2,\"line_width\":2}}}}],\"toolbar\":{\"type\":\"object\",\"name\":\"Toolbar\",\"id\":\"d0bcc375-5519-4ea7-b905-246c02191793\",\"attributes\":{\"tools\":[{\"type\":\"object\",\"name\":\"WheelZoomTool\",\"id\":\"0fb58b54-f497-4aca-abaf-378a9b95f9c7\",\"attributes\":{\"tags\":[\"hv_created\"],\"zoom_together\":\"none\"}},{\"type\":\"object\",\"name\":\"HoverTool\",\"id\":\"a98633cf-29b2-4bf8-a110-5c3ceb4c1a8f\",\"attributes\":{\"tags\":[\"hv_created\"],\"renderers\":[{\"id\":\"8f242567-4fc7-4e04-af9d-5ecb6b24c928\"},{\"id\":\"ff6f0bbf-cfd0-408f-8943-3b0d166cafde\"}],\"tooltips\":[[\"gender\",\"@{gender}\"],[\"period\",\"@{period}\"],[\"pct_retained\",\"@{pct_retained}\"]]}},{\"type\":\"object\",\"name\":\"SaveTool\",\"id\":\"b0183dea-49f5-4a92-9a5c-4a0cd86a40bc\"},{\"type\":\"object\",\"name\":\"PanTool\",\"id\":\"0fca1f93-b86b-4b1f-b7de-fcfb13286da4\"},{\"type\":\"object\",\"name\":\"BoxZoomTool\",\"id\":\"2488a6b8-b4cb-49e7-b34b-1ada6bbe7248\",\"attributes\":{\"overlay\":{\"type\":\"object\",\"name\":\"BoxAnnotation\",\"id\":\"4f1e1223-3ded-420b-8327-c8c9e1e0e682\",\"attributes\":{\"syncable\":false,\"level\":\"overlay\",\"visible\":false,\"left_units\":\"canvas\",\"right_units\":\"canvas\",\"bottom_units\":\"canvas\",\"top_units\":\"canvas\",\"line_color\":\"black\",\"line_alpha\":1.0,\"line_width\":2,\"line_dash\":[4,4],\"fill_color\":\"lightgrey\",\"fill_alpha\":0.5}}}},{\"type\":\"object\",\"name\":\"ResetTool\",\"id\":\"5fd4d1f4-6fc4-4cb9-bcc2-38aa14a1ab4a\"}],\"active_drag\":{\"id\":\"0fca1f93-b86b-4b1f-b7de-fcfb13286da4\"},\"active_scroll\":{\"id\":\"0fb58b54-f497-4aca-abaf-378a9b95f9c7\"}}},\"left\":[{\"type\":\"object\",\"name\":\"LinearAxis\",\"id\":\"fc3716bd-6e90-48e4-8b3b-9c89baf3f9a8\",\"attributes\":{\"ticker\":{\"type\":\"object\",\"name\":\"BasicTicker\",\"id\":\"4d7eb2ec-565a-4884-8cd1-f1041aa478fc\",\"attributes\":{\"mantissas\":[1,2,5]}},\"formatter\":{\"type\":\"object\",\"name\":\"BasicTickFormatter\",\"id\":\"2ca78441-f977-4983-8623-c15d17e919d6\"},\"axis_label\":\"pct_retained\",\"major_label_policy\":{\"type\":\"object\",\"name\":\"AllLabels\",\"id\":\"a476a900-bc08-4b49-a0e3-51cc181788b8\"}}}],\"above\":[{\"type\":\"object\",\"name\":\"Legend\",\"id\":\"933e03e7-dcea-472b-b141-680c8c715953\",\"attributes\":{\"location\":[0,0],\"orientation\":\"horizontal\",\"title\":\"gender\",\"click_policy\":\"mute\",\"items\":[{\"type\":\"object\",\"name\":\"LegendItem\",\"id\":\"0651bb8a-1d93-4647-abe0-ab240dedc2c2\",\"attributes\":{\"label\":{\"type\":\"value\",\"value\":\"F\"},\"renderers\":[{\"id\":\"8f242567-4fc7-4e04-af9d-5ecb6b24c928\"}]}},{\"type\":\"object\",\"name\":\"LegendItem\",\"id\":\"c02b6b73-40ff-476e-8fd2-e3f09c9143dd\",\"attributes\":{\"label\":{\"type\":\"value\",\"value\":\"M\"},\"renderers\":[{\"id\":\"ff6f0bbf-cfd0-408f-8943-3b0d166cafde\"}]}}]}}],\"below\":[{\"type\":\"object\",\"name\":\"LinearAxis\",\"id\":\"f4f68960-4c3b-411e-ba99-0dc8177f85b0\",\"attributes\":{\"ticker\":{\"type\":\"object\",\"name\":\"BasicTicker\",\"id\":\"6841f8ef-b1ea-4f8c-88a6-ac1708c21b91\",\"attributes\":{\"mantissas\":[1,2,5]}},\"formatter\":{\"type\":\"object\",\"name\":\"BasicTickFormatter\",\"id\":\"3d1626c4-a708-42be-90f7-1dac20aeafc2\"},\"axis_label\":\"period\",\"major_label_policy\":{\"type\":\"object\",\"name\":\"AllLabels\",\"id\":\"de038253-601f-4243-bfb7-2ee8e9d9b153\"}}}],\"center\":[{\"type\":\"object\",\"name\":\"Grid\",\"id\":\"a8898dd5-8b6e-4c6d-99f0-d29dc75d9172\",\"attributes\":{\"axis\":{\"id\":\"f4f68960-4c3b-411e-ba99-0dc8177f85b0\"},\"ticker\":{\"id\":\"6841f8ef-b1ea-4f8c-88a6-ac1708c21b91\"}}},{\"type\":\"object\",\"name\":\"Grid\",\"id\":\"8421b99f-b239-4fad-9b54-fb3effeac494\",\"attributes\":{\"dimension\":1,\"axis\":{\"id\":\"fc3716bd-6e90-48e4-8b3b-9c89baf3f9a8\"},\"ticker\":{\"id\":\"4d7eb2ec-565a-4884-8cd1-f1041aa478fc\"}}}],\"min_border_top\":10,\"min_border_bottom\":10,\"min_border_left\":10,\"min_border_right\":10,\"output_backend\":\"webgl\"}},{\"type\":\"object\",\"name\":\"Spacer\",\"id\":\"f56f9ae0-acc1-4fe0-957a-4fc4239bcd5d\",\"attributes\":{\"name\":\"HSpacer54178\",\"stylesheets\":[\"\\n:host(.pn-loading.pn-arc):before, .pn-loading.pn-arc:before {\\n  background-image: url(\\\"data:image/svg+xml;base64,PHN2ZyB4bWxucz0iaHR0cDovL3d3dy53My5vcmcvMjAwMC9zdmciIHN0eWxlPSJtYXJnaW46IGF1dG87IGJhY2tncm91bmQ6IG5vbmU7IGRpc3BsYXk6IGJsb2NrOyBzaGFwZS1yZW5kZXJpbmc6IGF1dG87IiB2aWV3Qm94PSIwIDAgMTAwIDEwMCIgcHJlc2VydmVBc3BlY3RSYXRpbz0ieE1pZFlNaWQiPiAgPGNpcmNsZSBjeD0iNTAiIGN5PSI1MCIgZmlsbD0ibm9uZSIgc3Ryb2tlPSIjYzNjM2MzIiBzdHJva2Utd2lkdGg9IjEwIiByPSIzNSIgc3Ryb2tlLWRhc2hhcnJheT0iMTY0LjkzMzYxNDMxMzQ2NDE1IDU2Ljk3Nzg3MTQzNzgyMTM4Ij4gICAgPGFuaW1hdGVUcmFuc2Zvcm0gYXR0cmlidXRlTmFtZT0idHJhbnNmb3JtIiB0eXBlPSJyb3RhdGUiIHJlcGVhdENvdW50PSJpbmRlZmluaXRlIiBkdXI9IjFzIiB2YWx1ZXM9IjAgNTAgNTA7MzYwIDUwIDUwIiBrZXlUaW1lcz0iMDsxIj48L2FuaW1hdGVUcmFuc2Zvcm0+ICA8L2NpcmNsZT48L3N2Zz4=\\\");\\n  background-size: auto calc(min(50%, 400px));\\n}\",{\"id\":\"ba5cb96b-4b7d-4a2f-a89a-0956fd9f73ad\"},{\"id\":\"99e6cc91-87cf-4949-9264-5d1a416d8788\"},{\"id\":\"66fa2b61-f2f9-48e2-9643-c47f27bb5af2\"}],\"margin\":0,\"sizing_mode\":\"stretch_width\",\"align\":\"start\"}}]}}],\"defs\":[{\"type\":\"model\",\"name\":\"ReactiveHTML1\"},{\"type\":\"model\",\"name\":\"FlexBox1\",\"properties\":[{\"name\":\"align_content\",\"kind\":\"Any\",\"default\":\"flex-start\"},{\"name\":\"align_items\",\"kind\":\"Any\",\"default\":\"flex-start\"},{\"name\":\"flex_direction\",\"kind\":\"Any\",\"default\":\"row\"},{\"name\":\"flex_wrap\",\"kind\":\"Any\",\"default\":\"wrap\"},{\"name\":\"justify_content\",\"kind\":\"Any\",\"default\":\"flex-start\"}]},{\"type\":\"model\",\"name\":\"FloatPanel1\",\"properties\":[{\"name\":\"config\",\"kind\":\"Any\",\"default\":{\"type\":\"map\"}},{\"name\":\"contained\",\"kind\":\"Any\",\"default\":true},{\"name\":\"position\",\"kind\":\"Any\",\"default\":\"right-top\"},{\"name\":\"offsetx\",\"kind\":\"Any\",\"default\":null},{\"name\":\"offsety\",\"kind\":\"Any\",\"default\":null},{\"name\":\"theme\",\"kind\":\"Any\",\"default\":\"primary\"},{\"name\":\"status\",\"kind\":\"Any\",\"default\":\"normalized\"}]},{\"type\":\"model\",\"name\":\"GridStack1\",\"properties\":[{\"name\":\"mode\",\"kind\":\"Any\",\"default\":\"warn\"},{\"name\":\"ncols\",\"kind\":\"Any\",\"default\":null},{\"name\":\"nrows\",\"kind\":\"Any\",\"default\":null},{\"name\":\"allow_resize\",\"kind\":\"Any\",\"default\":true},{\"name\":\"allow_drag\",\"kind\":\"Any\",\"default\":true},{\"name\":\"state\",\"kind\":\"Any\",\"default\":[]}]},{\"type\":\"model\",\"name\":\"drag1\",\"properties\":[{\"name\":\"slider_width\",\"kind\":\"Any\",\"default\":5},{\"name\":\"slider_color\",\"kind\":\"Any\",\"default\":\"black\"},{\"name\":\"value\",\"kind\":\"Any\",\"default\":50}]},{\"type\":\"model\",\"name\":\"click1\",\"properties\":[{\"name\":\"terminal_output\",\"kind\":\"Any\",\"default\":\"\"},{\"name\":\"debug_name\",\"kind\":\"Any\",\"default\":\"\"},{\"name\":\"clears\",\"kind\":\"Any\",\"default\":0}]},{\"type\":\"model\",\"name\":\"FastWrapper1\",\"properties\":[{\"name\":\"object\",\"kind\":\"Any\",\"default\":null},{\"name\":\"style\",\"kind\":\"Any\",\"default\":null}]},{\"type\":\"model\",\"name\":\"NotificationAreaBase1\",\"properties\":[{\"name\":\"js_events\",\"kind\":\"Any\",\"default\":{\"type\":\"map\"}},{\"name\":\"position\",\"kind\":\"Any\",\"default\":\"bottom-right\"},{\"name\":\"_clear\",\"kind\":\"Any\",\"default\":0}]},{\"type\":\"model\",\"name\":\"NotificationArea1\",\"properties\":[{\"name\":\"js_events\",\"kind\":\"Any\",\"default\":{\"type\":\"map\"}},{\"name\":\"notifications\",\"kind\":\"Any\",\"default\":[]},{\"name\":\"position\",\"kind\":\"Any\",\"default\":\"bottom-right\"},{\"name\":\"_clear\",\"kind\":\"Any\",\"default\":0},{\"name\":\"types\",\"kind\":\"Any\",\"default\":[{\"type\":\"map\",\"entries\":[[\"type\",\"warning\"],[\"background\",\"#ffc107\"],[\"icon\",{\"type\":\"map\",\"entries\":[[\"className\",\"fas fa-exclamation-triangle\"],[\"tagName\",\"i\"],[\"color\",\"white\"]]}]]},{\"type\":\"map\",\"entries\":[[\"type\",\"info\"],[\"background\",\"#007bff\"],[\"icon\",{\"type\":\"map\",\"entries\":[[\"className\",\"fas fa-info-circle\"],[\"tagName\",\"i\"],[\"color\",\"white\"]]}]]}]}]},{\"type\":\"model\",\"name\":\"Notification\",\"properties\":[{\"name\":\"background\",\"kind\":\"Any\",\"default\":null},{\"name\":\"duration\",\"kind\":\"Any\",\"default\":3000},{\"name\":\"icon\",\"kind\":\"Any\",\"default\":null},{\"name\":\"message\",\"kind\":\"Any\",\"default\":\"\"},{\"name\":\"notification_type\",\"kind\":\"Any\",\"default\":null},{\"name\":\"_destroyed\",\"kind\":\"Any\",\"default\":false}]},{\"type\":\"model\",\"name\":\"TemplateActions1\",\"properties\":[{\"name\":\"open_modal\",\"kind\":\"Any\",\"default\":0},{\"name\":\"close_modal\",\"kind\":\"Any\",\"default\":0}]},{\"type\":\"model\",\"name\":\"BootstrapTemplateActions1\",\"properties\":[{\"name\":\"open_modal\",\"kind\":\"Any\",\"default\":0},{\"name\":\"close_modal\",\"kind\":\"Any\",\"default\":0}]},{\"type\":\"model\",\"name\":\"MaterialTemplateActions1\",\"properties\":[{\"name\":\"open_modal\",\"kind\":\"Any\",\"default\":0},{\"name\":\"close_modal\",\"kind\":\"Any\",\"default\":0}]}]}};\n",
       "  var render_items = [{\"docid\":\"949cbeda-56d2-490c-90f7-6966c0f4a08c\",\"roots\":{\"089dac71-ee27-460a-bde5-ca604946672a\":\"ec2f2b11-1d14-45cd-8bbb-e2e2bf5a91db\"},\"root_ids\":[\"089dac71-ee27-460a-bde5-ca604946672a\"]}];\n",
       "  var docs = Object.values(docs_json)\n",
       "  if (!docs) {\n",
       "    return\n",
       "  }\n",
       "  const py_version = docs[0].version.replace('rc', '-rc.').replace('.dev', '-dev.')\n",
       "  const is_dev = py_version.indexOf(\"+\") !== -1 || py_version.indexOf(\"-\") !== -1\n",
       "  function embed_document(root) {\n",
       "    var Bokeh = get_bokeh(root)\n",
       "    Bokeh.embed.embed_items_notebook(docs_json, render_items);\n",
       "    for (const render_item of render_items) {\n",
       "      for (const root_id of render_item.root_ids) {\n",
       "\tconst id_el = document.getElementById(root_id)\n",
       "\tif (id_el.children.length && (id_el.children[0].className === 'bk-root')) {\n",
       "\t  const root_el = id_el.children[0]\n",
       "\t  root_el.id = root_el.id + '-rendered'\n",
       "\t}\n",
       "      }\n",
       "    }\n",
       "  }\n",
       "  function get_bokeh(root) {\n",
       "    if (root.Bokeh === undefined) {\n",
       "      return null\n",
       "    } else if (root.Bokeh.version !== py_version && !is_dev) {\n",
       "      if (root.Bokeh.versions === undefined || !root.Bokeh.versions.has(py_version)) {\n",
       "\treturn null\n",
       "      }\n",
       "      return root.Bokeh.versions.get(py_version);\n",
       "    } else if (root.Bokeh.version === py_version) {\n",
       "      return root.Bokeh\n",
       "    }\n",
       "    return null\n",
       "  }\n",
       "  function is_loaded(root) {\n",
       "    var Bokeh = get_bokeh(root)\n",
       "    return (Bokeh != null && Bokeh.Panel !== undefined)\n",
       "  }\n",
       "  if (is_loaded(root)) {\n",
       "    embed_document(root);\n",
       "  } else {\n",
       "    var attempts = 0;\n",
       "    var timer = setInterval(function(root) {\n",
       "      if (is_loaded(root)) {\n",
       "        clearInterval(timer);\n",
       "        embed_document(root);\n",
       "      } else if (document.readyState == \"complete\") {\n",
       "        attempts++;\n",
       "        if (attempts > 200) {\n",
       "          clearInterval(timer);\n",
       "\t  var Bokeh = get_bokeh(root)\n",
       "\t  if (Bokeh == null || Bokeh.Panel == null) {\n",
       "            console.warn(\"Panel: ERROR: Unable to run Panel code because Bokeh or Panel library is missing\");\n",
       "\t  } else {\n",
       "\t    console.warn(\"Panel: WARNING: Attempting to render but not all required libraries could be resolved.\")\n",
       "\t    embed_document(root)\n",
       "\t  }\n",
       "        }\n",
       "      }\n",
       "    }, 25, root)\n",
       "  }\n",
       "})(window);</script>"
      ],
      "text/plain": [
       ":NdOverlay   [gender]\n",
       "   :Curve   [period]   (pct_retained)"
      ]
     },
     "execution_count": 386,
     "metadata": {
      "application/vnd.holoviews_exec.v0+json": {
       "id": "089dac71-ee27-460a-bde5-ca604946672a"
      }
     },
     "output_type": "execute_result"
    }
   ],
   "source": [
    "plot_4 = data_4.hvplot(kind='line',\n",
    "        x='period',\n",
    "        y='pct_retained',\n",
    "        by='gender',\n",
    "        grid=True,\n",
    "        title='Keeping legislators on the floor',\n",
    "        legend='top',\n",
    "        shared_axes=False,\n",
    "        width=650, height=300)\n",
    "\n",
    "plot_4"
   ]
  },
  {
   "cell_type": "markdown",
   "id": "a3a86528-e846-4a62-aa2b-ba8890b6d869",
   "metadata": {},
   "source": [
    "# Retention of legislators in office in 2000, term_type"
   ]
  },
  {
   "cell_type": "code",
   "execution_count": 387,
   "id": "9de30953-f500-477d-b0a4-44deba1ac1c4",
   "metadata": {
    "tags": []
   },
   "outputs": [
    {
     "name": "stdout",
     "output_type": "stream",
     "text": [
      "Connection to PostgreSQL DB successful\n"
     ]
    },
    {
     "data": {
      "text/plain": [
       "['rep', 0.0, 440, 440, Decimal('100.0000000000000000')]"
      ]
     },
     "execution_count": 387,
     "metadata": {},
     "output_type": "execute_result"
    }
   ],
   "source": [
    "connection = create_connection(db_name, db_user, db_password, db_host, db_port)\n",
    "\n",
    "cursor = connection.cursor(cursor_factory=DictCursor)  \n",
    "# from psycopg2.extras import NamedTupleCursor | cursor_factory=NamedTupleCursor\n",
    "\n",
    "# Getting table values retail_sales\n",
    "cursor.execute(\"\"\"\n",
    "SELECT term_type, period\n",
    ",first_value(cohort_retained) over (partition by term_type order by period) as cohort_size\n",
    ",cohort_retained\n",
    ",cohort_retained * 100.0 / \n",
    " first_value(cohort_retained) over (partition by term_type order by period) as pct_retained\n",
    "FROM\n",
    "(\n",
    "        SELECT a.term_type\n",
    "        ,coalesce(date_part('year',age(c.date,a.first_term)),0) as period\n",
    "        ,count(distinct a.id_bioguide) as cohort_retained\n",
    "        FROM\n",
    "        (\n",
    "                SELECT distinct id_bioguide, term_type, date('2000-01-01') as first_term\n",
    "                FROM legislators_terms \n",
    "                WHERE term_start <= '2000-12-31' and term_end >= '2000-01-01'\n",
    "                GROUP BY 1,2,3\n",
    "        ) a\n",
    "        JOIN legislators_terms b on a.id_bioguide = b.id_bioguide --and b.term_start >= a.first_term\n",
    "        LEFT JOIN (SELECT date,\n",
    "                            EXTRACT(YEAR FROM date) AS year,\n",
    "                            EXTRACT(MONTH FROM date) AS month_name,\n",
    "                            EXTRACT(DAY FROM date) AS day_of_month\n",
    "                    FROM\n",
    "                    (\n",
    "                        SELECT distinct make_date(date_part('year', term_start)::int,12,31) AS date\n",
    "                        FROM legislators_terms\n",
    "                        ORDER BY 1) date_dim) c on c.date between b.term_start and b.term_end \n",
    "        and c.month_name = 12 and c.day_of_month = 31 and c.year >= 2000\n",
    "        GROUP BY 1,2\n",
    ") aa\n",
    ";\n",
    "\"\"\")\n",
    "data_5 = cursor.fetchall()\n",
    "cursor.close()  # Close the cursor\n",
    "connection.close()  # We close the connection\n",
    "data_5[0]"
   ]
  },
  {
   "cell_type": "code",
   "execution_count": 388,
   "id": "bc0aa6de-3952-4b20-b899-0db83c34fcee",
   "metadata": {
    "tags": []
   },
   "outputs": [
    {
     "data": {
      "text/html": [
       "<div>\n",
       "<style scoped>\n",
       "    .dataframe tbody tr th:only-of-type {\n",
       "        vertical-align: middle;\n",
       "    }\n",
       "\n",
       "    .dataframe tbody tr th {\n",
       "        vertical-align: top;\n",
       "    }\n",
       "\n",
       "    .dataframe thead th {\n",
       "        text-align: right;\n",
       "    }\n",
       "</style>\n",
       "<table border=\"1\" class=\"dataframe\">\n",
       "  <thead>\n",
       "    <tr style=\"text-align: right;\">\n",
       "      <th></th>\n",
       "      <th>term_type</th>\n",
       "      <th>period</th>\n",
       "      <th>cohort_size</th>\n",
       "      <th>cohort_retained</th>\n",
       "      <th>pct_retained</th>\n",
       "    </tr>\n",
       "  </thead>\n",
       "  <tbody>\n",
       "    <tr>\n",
       "      <th>0</th>\n",
       "      <td>rep</td>\n",
       "      <td>0.0</td>\n",
       "      <td>440</td>\n",
       "      <td>440</td>\n",
       "      <td>100.0000000000000000</td>\n",
       "    </tr>\n",
       "    <tr>\n",
       "      <th>1</th>\n",
       "      <td>rep</td>\n",
       "      <td>1.0</td>\n",
       "      <td>440</td>\n",
       "      <td>392</td>\n",
       "      <td>89.0909090909090909</td>\n",
       "    </tr>\n",
       "    <tr>\n",
       "      <th>2</th>\n",
       "      <td>rep</td>\n",
       "      <td>2.0</td>\n",
       "      <td>440</td>\n",
       "      <td>389</td>\n",
       "      <td>88.4090909090909091</td>\n",
       "    </tr>\n",
       "    <tr>\n",
       "      <th>3</th>\n",
       "      <td>rep</td>\n",
       "      <td>3.0</td>\n",
       "      <td>440</td>\n",
       "      <td>340</td>\n",
       "      <td>77.2727272727272727</td>\n",
       "    </tr>\n",
       "    <tr>\n",
       "      <th>4</th>\n",
       "      <td>rep</td>\n",
       "      <td>4.0</td>\n",
       "      <td>440</td>\n",
       "      <td>338</td>\n",
       "      <td>76.8181818181818182</td>\n",
       "    </tr>\n",
       "  </tbody>\n",
       "</table>\n",
       "</div>"
      ],
      "text/plain": [
       "  term_type  period  cohort_size  cohort_retained          pct_retained\n",
       "0       rep     0.0          440              440  100.0000000000000000\n",
       "1       rep     1.0          440              392   89.0909090909090909\n",
       "2       rep     2.0          440              389   88.4090909090909091\n",
       "3       rep     3.0          440              340   77.2727272727272727\n",
       "4       rep     4.0          440              338   76.8181818181818182"
      ]
     },
     "execution_count": 388,
     "metadata": {},
     "output_type": "execute_result"
    }
   ],
   "source": [
    "# Let's convert to DataFrame\n",
    "data_5 = pd.DataFrame(data_5, columns=['term_type','period', 'cohort_size', 'cohort_retained', 'pct_retained'])\n",
    "data_5.head()"
   ]
  },
  {
   "cell_type": "code",
   "execution_count": 389,
   "id": "e853010b-b430-4c4c-8e05-526db02c654a",
   "metadata": {
    "tags": []
   },
   "outputs": [
    {
     "data": {
      "text/plain": [
       "term_type           object\n",
       "period               int64\n",
       "cohort_size          int64\n",
       "cohort_retained      int64\n",
       "pct_retained       float64\n",
       "dtype: object"
      ]
     },
     "execution_count": 389,
     "metadata": {},
     "output_type": "execute_result"
    }
   ],
   "source": [
    "data_5['period'] = data_5['period'].astype('int')\n",
    "data_5['pct_retained'] = data_5['pct_retained'].astype('float')\n",
    "data_5.dtypes"
   ]
  },
  {
   "cell_type": "code",
   "execution_count": 390,
   "id": "55d8dedc-2898-4ab9-bfa8-e165b31edc1b",
   "metadata": {
    "tags": []
   },
   "outputs": [
    {
     "data": {},
     "metadata": {},
     "output_type": "display_data"
    },
    {
     "data": {
      "application/vnd.holoviews_exec.v0+json": "",
      "text/html": [
       "<div id='4f4cf1c3-c012-4e65-b5d3-a64c0578a58a'>\n",
       "  <div id=\"e9cee2f4-fff5-4f34-bec6-0b0871c519bf\" data-root-id=\"4f4cf1c3-c012-4e65-b5d3-a64c0578a58a\" style=\"display: contents;\"></div>\n",
       "</div>\n",
       "<script type=\"application/javascript\">(function(root) {\n",
       "  var docs_json = {\"2e2a1522-8896-476c-9822-ff3fb358851d\":{\"version\":\"3.2.1\",\"title\":\"Bokeh Application\",\"roots\":[{\"type\":\"object\",\"name\":\"Row\",\"id\":\"4f4cf1c3-c012-4e65-b5d3-a64c0578a58a\",\"attributes\":{\"name\":\"Row54312\",\"tags\":[\"embedded\"],\"stylesheets\":[\"\\n:host(.pn-loading.pn-arc):before, .pn-loading.pn-arc:before {\\n  background-image: url(\\\"data:image/svg+xml;base64,PHN2ZyB4bWxucz0iaHR0cDovL3d3dy53My5vcmcvMjAwMC9zdmciIHN0eWxlPSJtYXJnaW46IGF1dG87IGJhY2tncm91bmQ6IG5vbmU7IGRpc3BsYXk6IGJsb2NrOyBzaGFwZS1yZW5kZXJpbmc6IGF1dG87IiB2aWV3Qm94PSIwIDAgMTAwIDEwMCIgcHJlc2VydmVBc3BlY3RSYXRpbz0ieE1pZFlNaWQiPiAgPGNpcmNsZSBjeD0iNTAiIGN5PSI1MCIgZmlsbD0ibm9uZSIgc3Ryb2tlPSIjYzNjM2MzIiBzdHJva2Utd2lkdGg9IjEwIiByPSIzNSIgc3Ryb2tlLWRhc2hhcnJheT0iMTY0LjkzMzYxNDMxMzQ2NDE1IDU2Ljk3Nzg3MTQzNzgyMTM4Ij4gICAgPGFuaW1hdGVUcmFuc2Zvcm0gYXR0cmlidXRlTmFtZT0idHJhbnNmb3JtIiB0eXBlPSJyb3RhdGUiIHJlcGVhdENvdW50PSJpbmRlZmluaXRlIiBkdXI9IjFzIiB2YWx1ZXM9IjAgNTAgNTA7MzYwIDUwIDUwIiBrZXlUaW1lcz0iMDsxIj48L2FuaW1hdGVUcmFuc2Zvcm0+ICA8L2NpcmNsZT48L3N2Zz4=\\\");\\n  background-size: auto calc(min(50%, 400px));\\n}\",{\"type\":\"object\",\"name\":\"ImportedStyleSheet\",\"id\":\"cffc38b8-3536-418b-8d67-f27a05ea1a41\",\"attributes\":{\"url\":\"https://cdn.holoviz.org/panel/1.2.1/dist/css/loading.css\"}},{\"type\":\"object\",\"name\":\"ImportedStyleSheet\",\"id\":\"a77c0a19-52b0-4738-8900-37d56697ab70\",\"attributes\":{\"url\":\"https://cdn.holoviz.org/panel/1.2.1/dist/css/listpanel.css\"}},{\"type\":\"object\",\"name\":\"ImportedStyleSheet\",\"id\":\"4a15f0aa-0dcd-4dda-b72d-fcd149a5a7e2\",\"attributes\":{\"url\":\"https://cdn.holoviz.org/panel/1.2.1/dist/bundled/theme/default.css\"}},{\"type\":\"object\",\"name\":\"ImportedStyleSheet\",\"id\":\"b14354d3-52d4-4566-ba22-76a05dc91342\",\"attributes\":{\"url\":\"https://cdn.holoviz.org/panel/1.2.1/dist/bundled/theme/native.css\"}}],\"min_width\":650,\"margin\":0,\"sizing_mode\":\"stretch_width\",\"align\":\"start\",\"children\":[{\"type\":\"object\",\"name\":\"Spacer\",\"id\":\"0593e7a6-4f57-4056-b824-9b2521f4521f\",\"attributes\":{\"name\":\"HSpacer54323\",\"stylesheets\":[\"\\n:host(.pn-loading.pn-arc):before, .pn-loading.pn-arc:before {\\n  background-image: url(\\\"data:image/svg+xml;base64,PHN2ZyB4bWxucz0iaHR0cDovL3d3dy53My5vcmcvMjAwMC9zdmciIHN0eWxlPSJtYXJnaW46IGF1dG87IGJhY2tncm91bmQ6IG5vbmU7IGRpc3BsYXk6IGJsb2NrOyBzaGFwZS1yZW5kZXJpbmc6IGF1dG87IiB2aWV3Qm94PSIwIDAgMTAwIDEwMCIgcHJlc2VydmVBc3BlY3RSYXRpbz0ieE1pZFlNaWQiPiAgPGNpcmNsZSBjeD0iNTAiIGN5PSI1MCIgZmlsbD0ibm9uZSIgc3Ryb2tlPSIjYzNjM2MzIiBzdHJva2Utd2lkdGg9IjEwIiByPSIzNSIgc3Ryb2tlLWRhc2hhcnJheT0iMTY0LjkzMzYxNDMxMzQ2NDE1IDU2Ljk3Nzg3MTQzNzgyMTM4Ij4gICAgPGFuaW1hdGVUcmFuc2Zvcm0gYXR0cmlidXRlTmFtZT0idHJhbnNmb3JtIiB0eXBlPSJyb3RhdGUiIHJlcGVhdENvdW50PSJpbmRlZmluaXRlIiBkdXI9IjFzIiB2YWx1ZXM9IjAgNTAgNTA7MzYwIDUwIDUwIiBrZXlUaW1lcz0iMDsxIj48L2FuaW1hdGVUcmFuc2Zvcm0+ICA8L2NpcmNsZT48L3N2Zz4=\\\");\\n  background-size: auto calc(min(50%, 400px));\\n}\",{\"id\":\"cffc38b8-3536-418b-8d67-f27a05ea1a41\"},{\"id\":\"4a15f0aa-0dcd-4dda-b72d-fcd149a5a7e2\"},{\"id\":\"b14354d3-52d4-4566-ba22-76a05dc91342\"}],\"margin\":0,\"sizing_mode\":\"stretch_width\",\"align\":\"start\"}},{\"type\":\"object\",\"name\":\"Figure\",\"id\":\"915f19f5-b4fe-449f-9419-c0d4d8345fce\",\"attributes\":{\"width\":650,\"height\":300,\"margin\":[5,10],\"sizing_mode\":\"fixed\",\"align\":\"start\",\"x_range\":{\"type\":\"object\",\"name\":\"FactorRange\",\"id\":\"9c094b37-67f6-43df-905d-0cccbcfb8cca\",\"attributes\":{\"tags\":[[[\"period\",\"period\",null],[\"term_type\",\"term_type\",null]],[]],\"factors\":[[\"0\",\"rep\"],[\"0\",\"sen\"],[\"1\",\"rep\"],[\"1\",\"sen\"],[\"2\",\"rep\"],[\"2\",\"sen\"],[\"3\",\"rep\"],[\"3\",\"sen\"],[\"4\",\"rep\"],[\"4\",\"sen\"],[\"5\",\"rep\"],[\"5\",\"sen\"],[\"6\",\"rep\"],[\"6\",\"sen\"],[\"7\",\"rep\"],[\"7\",\"sen\"],[\"8\",\"rep\"],[\"8\",\"sen\"],[\"9\",\"rep\"],[\"9\",\"sen\"],[\"10\",\"rep\"],[\"10\",\"sen\"],[\"11\",\"rep\"],[\"11\",\"sen\"],[\"12\",\"rep\"],[\"12\",\"sen\"],[\"13\",\"rep\"],[\"13\",\"sen\"],[\"14\",\"rep\"],[\"14\",\"sen\"],[\"15\",\"rep\"],[\"15\",\"sen\"],[\"16\",\"rep\"],[\"16\",\"sen\"],[\"17\",\"rep\"],[\"17\",\"sen\"],[\"18\",\"rep\"],[\"18\",\"sen\"],[\"19\",\"rep\"],[\"19\",\"sen\"],[\"20\",\"rep\"],[\"20\",\"sen\"]]}},\"y_range\":{\"type\":\"object\",\"name\":\"Range1d\",\"id\":\"0266715f-3fe3-4f53-bfba-8d50b2f4febc\",\"attributes\":{\"tags\":[[[\"pct_retained\",\"pct_retained\",null]],{\"type\":\"map\",\"entries\":[[\"invert_yaxis\",false],[\"autorange\",false]]}],\"end\":108.51485148514851,\"reset_start\":0.0,\"reset_end\":108.51485148514851}},\"x_scale\":{\"type\":\"object\",\"name\":\"CategoricalScale\",\"id\":\"8eda7614-0c45-4b14-8a59-3a4b5aa0ce87\"},\"y_scale\":{\"type\":\"object\",\"name\":\"LinearScale\",\"id\":\"b4977108-8f99-4d9a-a23a-87a81773f8bb\"},\"title\":{\"type\":\"object\",\"name\":\"Title\",\"id\":\"9ed06032-13b5-41dc-acb7-ce337bad24f2\",\"attributes\":{\"text\":\"Retention of legislators in office in 2000, term_type\",\"text_color\":\"black\",\"text_font_size\":\"12pt\"}},\"renderers\":[{\"type\":\"object\",\"name\":\"GlyphRenderer\",\"id\":\"9210da7e-1a79-474b-83d3-676a84997412\",\"attributes\":{\"data_source\":{\"type\":\"object\",\"name\":\"ColumnDataSource\",\"id\":\"75c69b2d-00d9-4047-95d0-f718665aae9d\",\"attributes\":{\"selected\":{\"type\":\"object\",\"name\":\"Selection\",\"id\":\"8c9f59e1-2c8a-4dd3-8760-4ac0ac080370\",\"attributes\":{\"indices\":[],\"line_indices\":[]}},\"selection_policy\":{\"type\":\"object\",\"name\":\"UnionRenderers\",\"id\":\"6481f4ca-2d49-4270-82ad-a285f6b02643\"},\"data\":{\"type\":\"map\",\"entries\":[[\"xoffsets\",[[\"0\",\"rep\"],[\"1\",\"rep\"],[\"2\",\"rep\"],[\"3\",\"rep\"],[\"4\",\"rep\"],[\"5\",\"rep\"],[\"6\",\"rep\"],[\"7\",\"rep\"],[\"8\",\"rep\"],[\"9\",\"rep\"],[\"10\",\"rep\"],[\"11\",\"rep\"],[\"12\",\"rep\"],[\"13\",\"rep\"],[\"14\",\"rep\"],[\"15\",\"rep\"],[\"16\",\"rep\"],[\"17\",\"rep\"],[\"18\",\"rep\"],[\"19\",\"rep\"],[\"20\",\"rep\"],[\"0\",\"sen\"],[\"1\",\"sen\"],[\"2\",\"sen\"],[\"3\",\"sen\"],[\"4\",\"sen\"],[\"5\",\"sen\"],[\"6\",\"sen\"],[\"7\",\"sen\"],[\"8\",\"sen\"],[\"9\",\"sen\"],[\"10\",\"sen\"],[\"11\",\"sen\"],[\"12\",\"sen\"],[\"13\",\"sen\"],[\"14\",\"sen\"],[\"15\",\"sen\"],[\"16\",\"sen\"],[\"17\",\"sen\"],[\"18\",\"sen\"],[\"19\",\"sen\"],[\"20\",\"sen\"]]],[\"pct_retained\",{\"type\":\"ndarray\",\"array\":{\"type\":\"bytes\",\"data\":\"AAAAAAAAWUBGF1100UVWQLrooosuGlZA0UUXXXRRU0B00UUXXTRTQAAAAAAAgFFAo4suuuhiUUAXXXTRRVdOQEYXXXTRxU1AF1100UVXSUBGF1100cVIQEYXXXTRBUVA0UUXXXSRREAXXXTRRZdAQF100UUXXUBAXXTRRRddOkDpoosuuug5QHTRRRdd9DZAuuiiiy66NkB00UUXXfQxQLrooosuujFAAAAAAAAAWUASBSadmgdWQFaGb0SBSVVA34gCk07NU0DfiAKTTs1TQKwM34gCk1FArAzfiAKTUUDzIHf9bLFOQPMgd/1ssU5Ajigw6dQ8SkC8frZYGb5JQN+IApNOzUNADd+IApNOQ0AFJp2aB7k7QGDSqXmQuzpAKTDp1DzINUApMOnUPMg1QJbhG1Fg0jFA8Y0oMOnUMEBPzYPc9bMtQE/Ng9z1sy1A\"},\"shape\":[42],\"dtype\":\"float64\",\"order\":\"little\"}],[\"period\",[\"0\",\"1\",\"2\",\"3\",\"4\",\"5\",\"6\",\"7\",\"8\",\"9\",\"10\",\"11\",\"12\",\"13\",\"14\",\"15\",\"16\",\"17\",\"18\",\"19\",\"20\",\"0\",\"1\",\"2\",\"3\",\"4\",\"5\",\"6\",\"7\",\"8\",\"9\",\"10\",\"11\",\"12\",\"13\",\"14\",\"15\",\"16\",\"17\",\"18\",\"19\",\"20\"]],[\"term_type\",[\"rep\",\"rep\",\"rep\",\"rep\",\"rep\",\"rep\",\"rep\",\"rep\",\"rep\",\"rep\",\"rep\",\"rep\",\"rep\",\"rep\",\"rep\",\"rep\",\"rep\",\"rep\",\"rep\",\"rep\",\"rep\",\"sen\",\"sen\",\"sen\",\"sen\",\"sen\",\"sen\",\"sen\",\"sen\",\"sen\",\"sen\",\"sen\",\"sen\",\"sen\",\"sen\",\"sen\",\"sen\",\"sen\",\"sen\",\"sen\",\"sen\",\"sen\"]]]}}},\"view\":{\"type\":\"object\",\"name\":\"CDSView\",\"id\":\"6cb9a984-50d3-4426-80f6-1571bfe56e55\",\"attributes\":{\"filter\":{\"type\":\"object\",\"name\":\"AllIndices\",\"id\":\"79a55ff6-da2e-4896-9807-002c224b353d\"}}},\"glyph\":{\"type\":\"object\",\"name\":\"VBar\",\"id\":\"a331e325-a55e-4b2f-b5f7-ef9eade46f9a\",\"attributes\":{\"tags\":[\"apply_ranges\"],\"x\":{\"type\":\"field\",\"field\":\"xoffsets\"},\"width\":{\"type\":\"value\",\"value\":0.8},\"top\":{\"type\":\"field\",\"field\":\"pct_retained\"},\"line_alpha\":{\"type\":\"value\",\"value\":0.7},\"fill_color\":{\"type\":\"field\",\"field\":\"term_type\",\"transform\":{\"type\":\"object\",\"name\":\"CategoricalColorMapper\",\"id\":\"2d9a043d-4ccf-4ed9-8e31-b0127783fdaf\",\"attributes\":{\"palette\":[\"#30a2da\",\"#fc4f30\"],\"factors\":[\"rep\",\"sen\"]}}},\"fill_alpha\":{\"type\":\"value\",\"value\":0.7},\"hatch_color\":{\"type\":\"field\",\"field\":\"term_type\",\"transform\":{\"id\":\"2d9a043d-4ccf-4ed9-8e31-b0127783fdaf\"}},\"hatch_alpha\":{\"type\":\"value\",\"value\":0.7}}},\"selection_glyph\":{\"type\":\"object\",\"name\":\"VBar\",\"id\":\"282a6a1d-b7e2-4599-8297-28596d6b59e0\",\"attributes\":{\"tags\":[\"apply_ranges\"],\"x\":{\"type\":\"field\",\"field\":\"xoffsets\"},\"width\":{\"type\":\"value\",\"value\":0.8},\"bottom\":{\"type\":\"value\",\"value\":0},\"top\":{\"type\":\"field\",\"field\":\"pct_retained\"},\"line_color\":{\"type\":\"value\",\"value\":\"black\"},\"line_alpha\":{\"type\":\"value\",\"value\":0.7},\"line_width\":{\"type\":\"value\",\"value\":1},\"line_join\":{\"type\":\"value\",\"value\":\"bevel\"},\"line_cap\":{\"type\":\"value\",\"value\":\"butt\"},\"line_dash\":{\"type\":\"value\",\"value\":[]},\"line_dash_offset\":{\"type\":\"value\",\"value\":0},\"fill_color\":{\"type\":\"field\",\"field\":\"term_type\",\"transform\":{\"id\":\"2d9a043d-4ccf-4ed9-8e31-b0127783fdaf\"}},\"fill_alpha\":{\"type\":\"value\",\"value\":0.7},\"hatch_color\":{\"type\":\"field\",\"field\":\"term_type\",\"transform\":{\"id\":\"2d9a043d-4ccf-4ed9-8e31-b0127783fdaf\"}},\"hatch_alpha\":{\"type\":\"value\",\"value\":0.7},\"hatch_scale\":{\"type\":\"value\",\"value\":12.0},\"hatch_pattern\":{\"type\":\"value\",\"value\":null},\"hatch_weight\":{\"type\":\"value\",\"value\":1.0}}},\"nonselection_glyph\":{\"type\":\"object\",\"name\":\"VBar\",\"id\":\"6cbf8ebf-4f87-49e8-a701-4b78017d3e87\",\"attributes\":{\"tags\":[\"apply_ranges\"],\"x\":{\"type\":\"field\",\"field\":\"xoffsets\"},\"width\":{\"type\":\"value\",\"value\":0.8},\"top\":{\"type\":\"field\",\"field\":\"pct_retained\"},\"line_alpha\":{\"type\":\"value\",\"value\":0.7},\"fill_color\":{\"type\":\"field\",\"field\":\"term_type\",\"transform\":{\"id\":\"2d9a043d-4ccf-4ed9-8e31-b0127783fdaf\"}},\"fill_alpha\":{\"type\":\"value\",\"value\":0.7},\"hatch_color\":{\"type\":\"field\",\"field\":\"term_type\",\"transform\":{\"id\":\"2d9a043d-4ccf-4ed9-8e31-b0127783fdaf\"}},\"hatch_alpha\":{\"type\":\"value\",\"value\":0.1}}},\"muted_glyph\":{\"type\":\"object\",\"name\":\"VBar\",\"id\":\"378e56bd-8ffb-42f2-aee5-7f5134ab1f50\",\"attributes\":{\"tags\":[\"apply_ranges\"],\"x\":{\"type\":\"field\",\"field\":\"xoffsets\"},\"width\":{\"type\":\"value\",\"value\":0.8},\"top\":{\"type\":\"field\",\"field\":\"pct_retained\"},\"line_alpha\":{\"type\":\"value\",\"value\":0.2},\"fill_color\":{\"type\":\"field\",\"field\":\"term_type\",\"transform\":{\"id\":\"2d9a043d-4ccf-4ed9-8e31-b0127783fdaf\"}},\"fill_alpha\":{\"type\":\"value\",\"value\":0.2},\"hatch_color\":{\"type\":\"field\",\"field\":\"term_type\",\"transform\":{\"id\":\"2d9a043d-4ccf-4ed9-8e31-b0127783fdaf\"}},\"hatch_alpha\":{\"type\":\"value\",\"value\":0.2}}}}}],\"toolbar\":{\"type\":\"object\",\"name\":\"Toolbar\",\"id\":\"cd8e76cb-7ae6-4c76-bbb8-6415bde2e71e\",\"attributes\":{\"tools\":[{\"type\":\"object\",\"name\":\"WheelZoomTool\",\"id\":\"ae76d889-071b-41c5-86a3-db9598b26628\",\"attributes\":{\"tags\":[\"hv_created\"],\"zoom_together\":\"none\"}},{\"type\":\"object\",\"name\":\"HoverTool\",\"id\":\"af2fc6c4-4616-49fc-8034-f5588f6a5549\",\"attributes\":{\"tags\":[\"hv_created\"],\"renderers\":[{\"id\":\"9210da7e-1a79-474b-83d3-676a84997412\"}],\"tooltips\":[[\"period\",\"@{period}\"],[\"term_type\",\"@{term_type}\"],[\"pct_retained\",\"@{pct_retained}\"]]}},{\"type\":\"object\",\"name\":\"SaveTool\",\"id\":\"ec6d9086-9aa6-4b7d-bf28-88c7a8406a7c\"},{\"type\":\"object\",\"name\":\"PanTool\",\"id\":\"c717c099-2ace-4695-a93f-986ac765abf6\"},{\"type\":\"object\",\"name\":\"BoxZoomTool\",\"id\":\"0d70fad8-eeec-4ab9-a954-e9ccb399dd50\",\"attributes\":{\"overlay\":{\"type\":\"object\",\"name\":\"BoxAnnotation\",\"id\":\"f90f4b65-5aa0-49de-8ff8-24474ec7a0e7\",\"attributes\":{\"syncable\":false,\"level\":\"overlay\",\"visible\":false,\"left_units\":\"canvas\",\"right_units\":\"canvas\",\"bottom_units\":\"canvas\",\"top_units\":\"canvas\",\"line_color\":\"black\",\"line_alpha\":1.0,\"line_width\":2,\"line_dash\":[4,4],\"fill_color\":\"lightgrey\",\"fill_alpha\":0.5}}}},{\"type\":\"object\",\"name\":\"ResetTool\",\"id\":\"738f66f6-ea10-4689-9690-4001e7ea7498\"}],\"active_drag\":{\"id\":\"c717c099-2ace-4695-a93f-986ac765abf6\"},\"active_scroll\":{\"id\":\"ae76d889-071b-41c5-86a3-db9598b26628\"}}},\"left\":[{\"type\":\"object\",\"name\":\"LinearAxis\",\"id\":\"4c870a50-a8a8-4f0e-ac1a-c4a0af10db61\",\"attributes\":{\"ticker\":{\"type\":\"object\",\"name\":\"BasicTicker\",\"id\":\"10d61a15-ba1c-453b-8798-b901d97f235c\",\"attributes\":{\"mantissas\":[1,2,5]}},\"formatter\":{\"type\":\"object\",\"name\":\"BasicTickFormatter\",\"id\":\"eea65ccc-9131-4367-9bca-1065af333292\"},\"axis_label\":\"pct_retained\",\"major_label_policy\":{\"type\":\"object\",\"name\":\"AllLabels\",\"id\":\"b8509990-7dc3-414c-8995-a348605fa231\"}}}],\"below\":[{\"type\":\"object\",\"name\":\"CategoricalAxis\",\"id\":\"73e5d813-d913-4c94-8f63-3733c2bd1463\",\"attributes\":{\"ticker\":{\"type\":\"object\",\"name\":\"CategoricalTicker\",\"id\":\"3fc2669b-c7cd-425c-8957-d0a89a45f980\"},\"formatter\":{\"type\":\"object\",\"name\":\"CategoricalTickFormatter\",\"id\":\"bf1377d9-3bd1-4c49-9b60-eba9e4e597b5\"},\"axis_label\":\"period, term_type\",\"major_label_orientation\":1.0471975511965976,\"major_label_policy\":{\"type\":\"object\",\"name\":\"AllLabels\",\"id\":\"2cc93304-9b41-47d4-810f-d7a85132529a\"}}}],\"center\":[{\"type\":\"object\",\"name\":\"Grid\",\"id\":\"e07b5a41-87e3-434d-bb83-4a8b70489c42\",\"attributes\":{\"axis\":{\"id\":\"73e5d813-d913-4c94-8f63-3733c2bd1463\"},\"ticker\":{\"id\":\"3fc2669b-c7cd-425c-8957-d0a89a45f980\"}}},{\"type\":\"object\",\"name\":\"Grid\",\"id\":\"e8362a7b-60dd-47da-b82b-e86ad34d8460\",\"attributes\":{\"dimension\":1,\"axis\":{\"id\":\"4c870a50-a8a8-4f0e-ac1a-c4a0af10db61\"},\"ticker\":{\"id\":\"10d61a15-ba1c-453b-8798-b901d97f235c\"}}}],\"min_border_top\":10,\"min_border_bottom\":10,\"min_border_left\":10,\"min_border_right\":10,\"output_backend\":\"webgl\"}},{\"type\":\"object\",\"name\":\"Spacer\",\"id\":\"57cf5ffc-77ac-41b3-8143-a3e187d0acd9\",\"attributes\":{\"name\":\"HSpacer54326\",\"stylesheets\":[\"\\n:host(.pn-loading.pn-arc):before, .pn-loading.pn-arc:before {\\n  background-image: url(\\\"data:image/svg+xml;base64,PHN2ZyB4bWxucz0iaHR0cDovL3d3dy53My5vcmcvMjAwMC9zdmciIHN0eWxlPSJtYXJnaW46IGF1dG87IGJhY2tncm91bmQ6IG5vbmU7IGRpc3BsYXk6IGJsb2NrOyBzaGFwZS1yZW5kZXJpbmc6IGF1dG87IiB2aWV3Qm94PSIwIDAgMTAwIDEwMCIgcHJlc2VydmVBc3BlY3RSYXRpbz0ieE1pZFlNaWQiPiAgPGNpcmNsZSBjeD0iNTAiIGN5PSI1MCIgZmlsbD0ibm9uZSIgc3Ryb2tlPSIjYzNjM2MzIiBzdHJva2Utd2lkdGg9IjEwIiByPSIzNSIgc3Ryb2tlLWRhc2hhcnJheT0iMTY0LjkzMzYxNDMxMzQ2NDE1IDU2Ljk3Nzg3MTQzNzgyMTM4Ij4gICAgPGFuaW1hdGVUcmFuc2Zvcm0gYXR0cmlidXRlTmFtZT0idHJhbnNmb3JtIiB0eXBlPSJyb3RhdGUiIHJlcGVhdENvdW50PSJpbmRlZmluaXRlIiBkdXI9IjFzIiB2YWx1ZXM9IjAgNTAgNTA7MzYwIDUwIDUwIiBrZXlUaW1lcz0iMDsxIj48L2FuaW1hdGVUcmFuc2Zvcm0+ICA8L2NpcmNsZT48L3N2Zz4=\\\");\\n  background-size: auto calc(min(50%, 400px));\\n}\",{\"id\":\"cffc38b8-3536-418b-8d67-f27a05ea1a41\"},{\"id\":\"4a15f0aa-0dcd-4dda-b72d-fcd149a5a7e2\"},{\"id\":\"b14354d3-52d4-4566-ba22-76a05dc91342\"}],\"margin\":0,\"sizing_mode\":\"stretch_width\",\"align\":\"start\"}}]}}],\"defs\":[{\"type\":\"model\",\"name\":\"ReactiveHTML1\"},{\"type\":\"model\",\"name\":\"FlexBox1\",\"properties\":[{\"name\":\"align_content\",\"kind\":\"Any\",\"default\":\"flex-start\"},{\"name\":\"align_items\",\"kind\":\"Any\",\"default\":\"flex-start\"},{\"name\":\"flex_direction\",\"kind\":\"Any\",\"default\":\"row\"},{\"name\":\"flex_wrap\",\"kind\":\"Any\",\"default\":\"wrap\"},{\"name\":\"justify_content\",\"kind\":\"Any\",\"default\":\"flex-start\"}]},{\"type\":\"model\",\"name\":\"FloatPanel1\",\"properties\":[{\"name\":\"config\",\"kind\":\"Any\",\"default\":{\"type\":\"map\"}},{\"name\":\"contained\",\"kind\":\"Any\",\"default\":true},{\"name\":\"position\",\"kind\":\"Any\",\"default\":\"right-top\"},{\"name\":\"offsetx\",\"kind\":\"Any\",\"default\":null},{\"name\":\"offsety\",\"kind\":\"Any\",\"default\":null},{\"name\":\"theme\",\"kind\":\"Any\",\"default\":\"primary\"},{\"name\":\"status\",\"kind\":\"Any\",\"default\":\"normalized\"}]},{\"type\":\"model\",\"name\":\"GridStack1\",\"properties\":[{\"name\":\"mode\",\"kind\":\"Any\",\"default\":\"warn\"},{\"name\":\"ncols\",\"kind\":\"Any\",\"default\":null},{\"name\":\"nrows\",\"kind\":\"Any\",\"default\":null},{\"name\":\"allow_resize\",\"kind\":\"Any\",\"default\":true},{\"name\":\"allow_drag\",\"kind\":\"Any\",\"default\":true},{\"name\":\"state\",\"kind\":\"Any\",\"default\":[]}]},{\"type\":\"model\",\"name\":\"drag1\",\"properties\":[{\"name\":\"slider_width\",\"kind\":\"Any\",\"default\":5},{\"name\":\"slider_color\",\"kind\":\"Any\",\"default\":\"black\"},{\"name\":\"value\",\"kind\":\"Any\",\"default\":50}]},{\"type\":\"model\",\"name\":\"click1\",\"properties\":[{\"name\":\"terminal_output\",\"kind\":\"Any\",\"default\":\"\"},{\"name\":\"debug_name\",\"kind\":\"Any\",\"default\":\"\"},{\"name\":\"clears\",\"kind\":\"Any\",\"default\":0}]},{\"type\":\"model\",\"name\":\"FastWrapper1\",\"properties\":[{\"name\":\"object\",\"kind\":\"Any\",\"default\":null},{\"name\":\"style\",\"kind\":\"Any\",\"default\":null}]},{\"type\":\"model\",\"name\":\"NotificationAreaBase1\",\"properties\":[{\"name\":\"js_events\",\"kind\":\"Any\",\"default\":{\"type\":\"map\"}},{\"name\":\"position\",\"kind\":\"Any\",\"default\":\"bottom-right\"},{\"name\":\"_clear\",\"kind\":\"Any\",\"default\":0}]},{\"type\":\"model\",\"name\":\"NotificationArea1\",\"properties\":[{\"name\":\"js_events\",\"kind\":\"Any\",\"default\":{\"type\":\"map\"}},{\"name\":\"notifications\",\"kind\":\"Any\",\"default\":[]},{\"name\":\"position\",\"kind\":\"Any\",\"default\":\"bottom-right\"},{\"name\":\"_clear\",\"kind\":\"Any\",\"default\":0},{\"name\":\"types\",\"kind\":\"Any\",\"default\":[{\"type\":\"map\",\"entries\":[[\"type\",\"warning\"],[\"background\",\"#ffc107\"],[\"icon\",{\"type\":\"map\",\"entries\":[[\"className\",\"fas fa-exclamation-triangle\"],[\"tagName\",\"i\"],[\"color\",\"white\"]]}]]},{\"type\":\"map\",\"entries\":[[\"type\",\"info\"],[\"background\",\"#007bff\"],[\"icon\",{\"type\":\"map\",\"entries\":[[\"className\",\"fas fa-info-circle\"],[\"tagName\",\"i\"],[\"color\",\"white\"]]}]]}]}]},{\"type\":\"model\",\"name\":\"Notification\",\"properties\":[{\"name\":\"background\",\"kind\":\"Any\",\"default\":null},{\"name\":\"duration\",\"kind\":\"Any\",\"default\":3000},{\"name\":\"icon\",\"kind\":\"Any\",\"default\":null},{\"name\":\"message\",\"kind\":\"Any\",\"default\":\"\"},{\"name\":\"notification_type\",\"kind\":\"Any\",\"default\":null},{\"name\":\"_destroyed\",\"kind\":\"Any\",\"default\":false}]},{\"type\":\"model\",\"name\":\"TemplateActions1\",\"properties\":[{\"name\":\"open_modal\",\"kind\":\"Any\",\"default\":0},{\"name\":\"close_modal\",\"kind\":\"Any\",\"default\":0}]},{\"type\":\"model\",\"name\":\"BootstrapTemplateActions1\",\"properties\":[{\"name\":\"open_modal\",\"kind\":\"Any\",\"default\":0},{\"name\":\"close_modal\",\"kind\":\"Any\",\"default\":0}]},{\"type\":\"model\",\"name\":\"MaterialTemplateActions1\",\"properties\":[{\"name\":\"open_modal\",\"kind\":\"Any\",\"default\":0},{\"name\":\"close_modal\",\"kind\":\"Any\",\"default\":0}]}]}};\n",
       "  var render_items = [{\"docid\":\"2e2a1522-8896-476c-9822-ff3fb358851d\",\"roots\":{\"4f4cf1c3-c012-4e65-b5d3-a64c0578a58a\":\"e9cee2f4-fff5-4f34-bec6-0b0871c519bf\"},\"root_ids\":[\"4f4cf1c3-c012-4e65-b5d3-a64c0578a58a\"]}];\n",
       "  var docs = Object.values(docs_json)\n",
       "  if (!docs) {\n",
       "    return\n",
       "  }\n",
       "  const py_version = docs[0].version.replace('rc', '-rc.').replace('.dev', '-dev.')\n",
       "  const is_dev = py_version.indexOf(\"+\") !== -1 || py_version.indexOf(\"-\") !== -1\n",
       "  function embed_document(root) {\n",
       "    var Bokeh = get_bokeh(root)\n",
       "    Bokeh.embed.embed_items_notebook(docs_json, render_items);\n",
       "    for (const render_item of render_items) {\n",
       "      for (const root_id of render_item.root_ids) {\n",
       "\tconst id_el = document.getElementById(root_id)\n",
       "\tif (id_el.children.length && (id_el.children[0].className === 'bk-root')) {\n",
       "\t  const root_el = id_el.children[0]\n",
       "\t  root_el.id = root_el.id + '-rendered'\n",
       "\t}\n",
       "      }\n",
       "    }\n",
       "  }\n",
       "  function get_bokeh(root) {\n",
       "    if (root.Bokeh === undefined) {\n",
       "      return null\n",
       "    } else if (root.Bokeh.version !== py_version && !is_dev) {\n",
       "      if (root.Bokeh.versions === undefined || !root.Bokeh.versions.has(py_version)) {\n",
       "\treturn null\n",
       "      }\n",
       "      return root.Bokeh.versions.get(py_version);\n",
       "    } else if (root.Bokeh.version === py_version) {\n",
       "      return root.Bokeh\n",
       "    }\n",
       "    return null\n",
       "  }\n",
       "  function is_loaded(root) {\n",
       "    var Bokeh = get_bokeh(root)\n",
       "    return (Bokeh != null && Bokeh.Panel !== undefined)\n",
       "  }\n",
       "  if (is_loaded(root)) {\n",
       "    embed_document(root);\n",
       "  } else {\n",
       "    var attempts = 0;\n",
       "    var timer = setInterval(function(root) {\n",
       "      if (is_loaded(root)) {\n",
       "        clearInterval(timer);\n",
       "        embed_document(root);\n",
       "      } else if (document.readyState == \"complete\") {\n",
       "        attempts++;\n",
       "        if (attempts > 200) {\n",
       "          clearInterval(timer);\n",
       "\t  var Bokeh = get_bokeh(root)\n",
       "\t  if (Bokeh == null || Bokeh.Panel == null) {\n",
       "            console.warn(\"Panel: ERROR: Unable to run Panel code because Bokeh or Panel library is missing\");\n",
       "\t  } else {\n",
       "\t    console.warn(\"Panel: WARNING: Attempting to render but not all required libraries could be resolved.\")\n",
       "\t    embed_document(root)\n",
       "\t  }\n",
       "        }\n",
       "      }\n",
       "    }, 25, root)\n",
       "  }\n",
       "})(window);</script>"
      ],
      "text/plain": [
       ":Bars   [period,term_type]   (pct_retained)"
      ]
     },
     "execution_count": 390,
     "metadata": {
      "application/vnd.holoviews_exec.v0+json": {
       "id": "4f4cf1c3-c012-4e65-b5d3-a64c0578a58a"
      }
     },
     "output_type": "execute_result"
    }
   ],
   "source": [
    "plot_5 = data_5.hvplot(kind='bar',\n",
    "         x='period',\n",
    "         y='pct_retained',\n",
    "         by='term_type',\n",
    "         alpha=0.7,\n",
    "         grid=True,\n",
    "         title='Retention of legislators in office in 2000, term_type',\n",
    "        shared_axes=False,\n",
    "        rot=60,\n",
    "        width=650, height=300)\n",
    "plot_5"
   ]
  },
  {
   "cell_type": "markdown",
   "id": "78d3f5b6-e57b-4e32-9cfa-e6e2406ea0b3",
   "metadata": {},
   "source": [
    "# Survival rate of legislators by century: who remained in office a certain number of terms or longer"
   ]
  },
  {
   "cell_type": "code",
   "execution_count": 391,
   "id": "3ec2f7dd-aded-4cdc-968f-cab1a8263d8f",
   "metadata": {
    "tags": []
   },
   "outputs": [
    {
     "name": "stdout",
     "output_type": "stream",
     "text": [
      "Connection to PostgreSQL DB successful\n"
     ]
    },
    {
     "data": {
      "text/plain": [
       "[18.0, 1, 368, 368, Decimal('100.0000000000000000')]"
      ]
     },
     "execution_count": 391,
     "metadata": {},
     "output_type": "execute_result"
    }
   ],
   "source": [
    "connection = create_connection(db_name, db_user, db_password, db_host, db_port)\n",
    "\n",
    "cursor = connection.cursor(cursor_factory=DictCursor)  \n",
    "# from psycopg2.extras import NamedTupleCursor | cursor_factory=NamedTupleCursor\n",
    "\n",
    "# Getting table values retail_sales\n",
    "cursor.execute(\"\"\"\n",
    "SELECT a.first_century\n",
    ",b.terms\n",
    ",count(distinct id_bioguide) as cohort\n",
    ",count(distinct case when a.total_terms >= b.terms then id_bioguide end) as cohort_survived\n",
    ",count(distinct case when a.total_terms >= b.terms then id_bioguide end) * 100.0 \n",
    " / count(distinct id_bioguide) as pct_survived\n",
    "FROM\n",
    "(\n",
    "        SELECT id_bioguide\n",
    "        ,date_part('century',min(term_start)) as first_century\n",
    "        ,count(term_start) as total_terms\n",
    "        FROM legislators_terms\n",
    "        GROUP BY 1\n",
    ") a\n",
    "JOIN\n",
    "(\n",
    "        SELECT generate_series as terms \n",
    "        FROM generate_series(1,20,1)\n",
    ") b on 1 = 1\n",
    "GROUP BY 1,2\n",
    ";\n",
    "\"\"\")\n",
    "data_6 = cursor.fetchall()\n",
    "cursor.close()  # Close the cursor\n",
    "connection.close()  # We close the connection\n",
    "data_6[0]"
   ]
  },
  {
   "cell_type": "code",
   "execution_count": 392,
   "id": "c7299a33-78d8-4a86-95f4-db73d120e42b",
   "metadata": {
    "tags": []
   },
   "outputs": [
    {
     "data": {
      "text/html": [
       "<div>\n",
       "<style scoped>\n",
       "    .dataframe tbody tr th:only-of-type {\n",
       "        vertical-align: middle;\n",
       "    }\n",
       "\n",
       "    .dataframe tbody tr th {\n",
       "        vertical-align: top;\n",
       "    }\n",
       "\n",
       "    .dataframe thead th {\n",
       "        text-align: right;\n",
       "    }\n",
       "</style>\n",
       "<table border=\"1\" class=\"dataframe\">\n",
       "  <thead>\n",
       "    <tr style=\"text-align: right;\">\n",
       "      <th></th>\n",
       "      <th>first_century</th>\n",
       "      <th>terms</th>\n",
       "      <th>cohort</th>\n",
       "      <th>cohort_survived</th>\n",
       "      <th>pct_survived</th>\n",
       "    </tr>\n",
       "  </thead>\n",
       "  <tbody>\n",
       "    <tr>\n",
       "      <th>0</th>\n",
       "      <td>18.0</td>\n",
       "      <td>1</td>\n",
       "      <td>368</td>\n",
       "      <td>368</td>\n",
       "      <td>100.0000000000000000</td>\n",
       "    </tr>\n",
       "    <tr>\n",
       "      <th>1</th>\n",
       "      <td>18.0</td>\n",
       "      <td>2</td>\n",
       "      <td>368</td>\n",
       "      <td>249</td>\n",
       "      <td>67.6630434782608696</td>\n",
       "    </tr>\n",
       "    <tr>\n",
       "      <th>2</th>\n",
       "      <td>18.0</td>\n",
       "      <td>3</td>\n",
       "      <td>368</td>\n",
       "      <td>153</td>\n",
       "      <td>41.5760869565217391</td>\n",
       "    </tr>\n",
       "    <tr>\n",
       "      <th>3</th>\n",
       "      <td>18.0</td>\n",
       "      <td>4</td>\n",
       "      <td>368</td>\n",
       "      <td>96</td>\n",
       "      <td>26.0869565217391304</td>\n",
       "    </tr>\n",
       "    <tr>\n",
       "      <th>4</th>\n",
       "      <td>18.0</td>\n",
       "      <td>5</td>\n",
       "      <td>368</td>\n",
       "      <td>63</td>\n",
       "      <td>17.1195652173913043</td>\n",
       "    </tr>\n",
       "  </tbody>\n",
       "</table>\n",
       "</div>"
      ],
      "text/plain": [
       "   first_century  terms  cohort  cohort_survived          pct_survived\n",
       "0           18.0      1     368              368  100.0000000000000000\n",
       "1           18.0      2     368              249   67.6630434782608696\n",
       "2           18.0      3     368              153   41.5760869565217391\n",
       "3           18.0      4     368               96   26.0869565217391304\n",
       "4           18.0      5     368               63   17.1195652173913043"
      ]
     },
     "execution_count": 392,
     "metadata": {},
     "output_type": "execute_result"
    }
   ],
   "source": [
    "# Let's convert to DataFrame\n",
    "data_6 = pd.DataFrame(data_6, columns=['first_century','terms', 'cohort', 'cohort_survived', 'pct_survived'])\n",
    "data_6.head()"
   ]
  },
  {
   "cell_type": "code",
   "execution_count": 393,
   "id": "d9936b72-98be-43b7-9854-926e614255aa",
   "metadata": {
    "tags": []
   },
   "outputs": [
    {
     "data": {
      "text/plain": [
       "first_century        int64\n",
       "terms                int64\n",
       "cohort               int64\n",
       "cohort_survived      int64\n",
       "pct_survived       float64\n",
       "dtype: object"
      ]
     },
     "execution_count": 393,
     "metadata": {},
     "output_type": "execute_result"
    }
   ],
   "source": [
    "data_6['first_century'] = data_6['first_century'].astype('int')\n",
    "data_6['terms'] = data_6['terms'].astype('int')\n",
    "data_6['pct_survived'] = data_6['pct_survived'].astype('float')\n",
    "data_6.dtypes"
   ]
  },
  {
   "cell_type": "code",
   "execution_count": 394,
   "id": "7f489b56-be75-4cdf-9838-1f01de8b4f3c",
   "metadata": {
    "tags": []
   },
   "outputs": [
    {
     "data": {},
     "metadata": {},
     "output_type": "display_data"
    },
    {
     "data": {
      "application/vnd.holoviews_exec.v0+json": "",
      "text/html": [
       "<div id='3559391f-cef5-4d98-8a52-84d063a85478'>\n",
       "  <div id=\"f58da930-c5c6-457f-b1a4-534b71570c89\" data-root-id=\"3559391f-cef5-4d98-8a52-84d063a85478\" style=\"display: contents;\"></div>\n",
       "</div>\n",
       "<script type=\"application/javascript\">(function(root) {\n",
       "  var docs_json = {\"174baf5b-8553-4f94-a603-d92ce21a4b11\":{\"version\":\"3.2.1\",\"title\":\"Bokeh Application\",\"roots\":[{\"type\":\"object\",\"name\":\"Row\",\"id\":\"3559391f-cef5-4d98-8a52-84d063a85478\",\"attributes\":{\"name\":\"Row54641\",\"tags\":[\"embedded\"],\"stylesheets\":[\"\\n:host(.pn-loading.pn-arc):before, .pn-loading.pn-arc:before {\\n  background-image: url(\\\"data:image/svg+xml;base64,PHN2ZyB4bWxucz0iaHR0cDovL3d3dy53My5vcmcvMjAwMC9zdmciIHN0eWxlPSJtYXJnaW46IGF1dG87IGJhY2tncm91bmQ6IG5vbmU7IGRpc3BsYXk6IGJsb2NrOyBzaGFwZS1yZW5kZXJpbmc6IGF1dG87IiB2aWV3Qm94PSIwIDAgMTAwIDEwMCIgcHJlc2VydmVBc3BlY3RSYXRpbz0ieE1pZFlNaWQiPiAgPGNpcmNsZSBjeD0iNTAiIGN5PSI1MCIgZmlsbD0ibm9uZSIgc3Ryb2tlPSIjYzNjM2MzIiBzdHJva2Utd2lkdGg9IjEwIiByPSIzNSIgc3Ryb2tlLWRhc2hhcnJheT0iMTY0LjkzMzYxNDMxMzQ2NDE1IDU2Ljk3Nzg3MTQzNzgyMTM4Ij4gICAgPGFuaW1hdGVUcmFuc2Zvcm0gYXR0cmlidXRlTmFtZT0idHJhbnNmb3JtIiB0eXBlPSJyb3RhdGUiIHJlcGVhdENvdW50PSJpbmRlZmluaXRlIiBkdXI9IjFzIiB2YWx1ZXM9IjAgNTAgNTA7MzYwIDUwIDUwIiBrZXlUaW1lcz0iMDsxIj48L2FuaW1hdGVUcmFuc2Zvcm0+ICA8L2NpcmNsZT48L3N2Zz4=\\\");\\n  background-size: auto calc(min(50%, 400px));\\n}\",{\"type\":\"object\",\"name\":\"ImportedStyleSheet\",\"id\":\"740a309b-244d-47fe-9365-79ccc1d18b31\",\"attributes\":{\"url\":\"https://cdn.holoviz.org/panel/1.2.1/dist/css/loading.css\"}},{\"type\":\"object\",\"name\":\"ImportedStyleSheet\",\"id\":\"4dcd5e2b-9dab-4dac-a6cf-6b93e8d29f69\",\"attributes\":{\"url\":\"https://cdn.holoviz.org/panel/1.2.1/dist/css/listpanel.css\"}},{\"type\":\"object\",\"name\":\"ImportedStyleSheet\",\"id\":\"d1baf53e-2981-4bba-acd1-80f97c829e63\",\"attributes\":{\"url\":\"https://cdn.holoviz.org/panel/1.2.1/dist/bundled/theme/default.css\"}},{\"type\":\"object\",\"name\":\"ImportedStyleSheet\",\"id\":\"01e447f2-84f9-41b3-9913-ffca98064e10\",\"attributes\":{\"url\":\"https://cdn.holoviz.org/panel/1.2.1/dist/bundled/theme/native.css\"}}],\"min_width\":650,\"margin\":0,\"sizing_mode\":\"stretch_width\",\"align\":\"start\",\"children\":[{\"type\":\"object\",\"name\":\"Spacer\",\"id\":\"e1292ec9-9df6-45d0-b96b-3ece66c75432\",\"attributes\":{\"name\":\"HSpacer54652\",\"stylesheets\":[\"\\n:host(.pn-loading.pn-arc):before, .pn-loading.pn-arc:before {\\n  background-image: url(\\\"data:image/svg+xml;base64,PHN2ZyB4bWxucz0iaHR0cDovL3d3dy53My5vcmcvMjAwMC9zdmciIHN0eWxlPSJtYXJnaW46IGF1dG87IGJhY2tncm91bmQ6IG5vbmU7IGRpc3BsYXk6IGJsb2NrOyBzaGFwZS1yZW5kZXJpbmc6IGF1dG87IiB2aWV3Qm94PSIwIDAgMTAwIDEwMCIgcHJlc2VydmVBc3BlY3RSYXRpbz0ieE1pZFlNaWQiPiAgPGNpcmNsZSBjeD0iNTAiIGN5PSI1MCIgZmlsbD0ibm9uZSIgc3Ryb2tlPSIjYzNjM2MzIiBzdHJva2Utd2lkdGg9IjEwIiByPSIzNSIgc3Ryb2tlLWRhc2hhcnJheT0iMTY0LjkzMzYxNDMxMzQ2NDE1IDU2Ljk3Nzg3MTQzNzgyMTM4Ij4gICAgPGFuaW1hdGVUcmFuc2Zvcm0gYXR0cmlidXRlTmFtZT0idHJhbnNmb3JtIiB0eXBlPSJyb3RhdGUiIHJlcGVhdENvdW50PSJpbmRlZmluaXRlIiBkdXI9IjFzIiB2YWx1ZXM9IjAgNTAgNTA7MzYwIDUwIDUwIiBrZXlUaW1lcz0iMDsxIj48L2FuaW1hdGVUcmFuc2Zvcm0+ICA8L2NpcmNsZT48L3N2Zz4=\\\");\\n  background-size: auto calc(min(50%, 400px));\\n}\",{\"id\":\"740a309b-244d-47fe-9365-79ccc1d18b31\"},{\"id\":\"d1baf53e-2981-4bba-acd1-80f97c829e63\"},{\"id\":\"01e447f2-84f9-41b3-9913-ffca98064e10\"}],\"margin\":0,\"sizing_mode\":\"stretch_width\",\"align\":\"start\"}},{\"type\":\"object\",\"name\":\"Figure\",\"id\":\"1f63e0d0-0aa0-4e3e-8621-fd132b97cc2a\",\"attributes\":{\"width\":650,\"height\":300,\"margin\":[5,10],\"sizing_mode\":\"fixed\",\"align\":\"start\",\"x_range\":{\"type\":\"object\",\"name\":\"Range1d\",\"id\":\"6fa400bb-42dd-4aac-9acf-aa0ff234d7d3\",\"attributes\":{\"tags\":[[[\"terms\",\"terms\",null]],[]],\"start\":1.0,\"end\":20.0,\"reset_start\":1.0,\"reset_end\":20.0}},\"y_range\":{\"type\":\"object\",\"name\":\"Range1d\",\"id\":\"318c7c64-92a6-4029-9090-fa4d74f52bd2\",\"attributes\":{\"tags\":[[[\"pct_survived\",\"pct_survived\",null]],{\"type\":\"map\",\"entries\":[[\"invert_yaxis\",false],[\"autorange\",false]]}],\"start\":-10.0,\"end\":110.0,\"reset_start\":-10.0,\"reset_end\":110.0}},\"x_scale\":{\"type\":\"object\",\"name\":\"LinearScale\",\"id\":\"48bcd39e-1e29-4dd0-84ec-5d805b6256c8\"},\"y_scale\":{\"type\":\"object\",\"name\":\"LinearScale\",\"id\":\"b50c2fdd-67c0-4084-99cb-7cde3726fc20\"},\"title\":{\"type\":\"object\",\"name\":\"Title\",\"id\":\"19fd9df3-3d53-4878-bd63-4953883ef7b8\",\"attributes\":{\"text\":\"Who remained in office a certain number of terms or longer\",\"text_color\":\"black\",\"text_font_size\":\"12pt\"}},\"renderers\":[{\"type\":\"object\",\"name\":\"GlyphRenderer\",\"id\":\"b8bfefcd-b3e5-42d4-b397-e23b0c5a1edd\",\"attributes\":{\"name\":\"18\",\"data_source\":{\"type\":\"object\",\"name\":\"ColumnDataSource\",\"id\":\"437d7d93-5417-446f-9b69-24d4225b95e0\",\"attributes\":{\"selected\":{\"type\":\"object\",\"name\":\"Selection\",\"id\":\"0d6a0b3c-2adf-417d-a770-5546bb1779ab\",\"attributes\":{\"indices\":[],\"line_indices\":[]}},\"selection_policy\":{\"type\":\"object\",\"name\":\"UnionRenderers\",\"id\":\"797c1254-707e-4f00-9113-5217e6c4db99\"},\"data\":{\"type\":\"map\",\"entries\":[[\"terms\",{\"type\":\"ndarray\",\"array\":{\"type\":\"bytes\",\"data\":\"AQAAAAIAAAADAAAABAAAAAUAAAAGAAAABwAAAAgAAAAJAAAACgAAAAsAAAAMAAAADQAAAA4AAAAPAAAAEAAAABEAAAASAAAAEwAAABQAAAA=\"},\"shape\":[20],\"dtype\":\"int32\",\"order\":\"little\"}],[\"pct_survived\",{\"type\":\"ndarray\",\"array\":{\"type\":\"bytes\",\"data\":\"AAAAAAAAWUA4velNb+pQQN/0pje9yURAIQtZyEIWOkBOb3rTmx4xQE5vetObXidApze96U1vHkC96U1vetMWQDi96U1vehJAWchCFrKQA0Cc3vSmN731PyELWchCFuo/FrKQhSxk4T8WspCFLGThPxaykIUsZOE/FrKQhSxk0T8AAAAAAAAAAAAAAAAAAAAAAAAAAAAAAAAAAAAAAAAAAA==\"},\"shape\":[20],\"dtype\":\"float64\",\"order\":\"little\"}],[\"first_century\",[18,18,18,18,18,18,18,18,18,18,18,18,18,18,18,18,18,18,18,18]]]}}},\"view\":{\"type\":\"object\",\"name\":\"CDSView\",\"id\":\"91fd2b93-6922-4e08-bdcf-44a3d60355ee\",\"attributes\":{\"filter\":{\"type\":\"object\",\"name\":\"AllIndices\",\"id\":\"87122121-ed95-4311-a214-c01ca40fbe2c\"}}},\"glyph\":{\"type\":\"object\",\"name\":\"Line\",\"id\":\"bdb65f1a-478c-4b05-ac6b-7aa8c7196b72\",\"attributes\":{\"tags\":[\"apply_ranges\"],\"x\":{\"type\":\"field\",\"field\":\"terms\"},\"y\":{\"type\":\"field\",\"field\":\"pct_survived\"},\"line_color\":\"#30a2da\",\"line_width\":2}},\"selection_glyph\":{\"type\":\"object\",\"name\":\"Line\",\"id\":\"31e8d57a-386c-4a0a-9493-5250de4725cb\",\"attributes\":{\"tags\":[\"apply_ranges\"],\"x\":{\"type\":\"field\",\"field\":\"terms\"},\"y\":{\"type\":\"field\",\"field\":\"pct_survived\"},\"line_color\":\"#30a2da\",\"line_width\":2}},\"nonselection_glyph\":{\"type\":\"object\",\"name\":\"Line\",\"id\":\"1712d319-60e4-470d-9af2-a5e7da887e95\",\"attributes\":{\"tags\":[\"apply_ranges\"],\"x\":{\"type\":\"field\",\"field\":\"terms\"},\"y\":{\"type\":\"field\",\"field\":\"pct_survived\"},\"line_color\":\"#30a2da\",\"line_alpha\":0.1,\"line_width\":2}},\"muted_glyph\":{\"type\":\"object\",\"name\":\"Line\",\"id\":\"d2500309-e274-425e-914c-38220993d086\",\"attributes\":{\"tags\":[\"apply_ranges\"],\"x\":{\"type\":\"field\",\"field\":\"terms\"},\"y\":{\"type\":\"field\",\"field\":\"pct_survived\"},\"line_color\":\"#30a2da\",\"line_alpha\":0.2,\"line_width\":2}}}},{\"type\":\"object\",\"name\":\"GlyphRenderer\",\"id\":\"2ea985c7-7eee-4107-b503-15aaa8fb3cde\",\"attributes\":{\"name\":\"19\",\"data_source\":{\"type\":\"object\",\"name\":\"ColumnDataSource\",\"id\":\"3870fb95-3f5b-440f-b883-adad7defab9a\",\"attributes\":{\"selected\":{\"type\":\"object\",\"name\":\"Selection\",\"id\":\"32dc5b1b-c794-4526-8ace-8c7029b7e06a\",\"attributes\":{\"indices\":[],\"line_indices\":[]}},\"selection_policy\":{\"type\":\"object\",\"name\":\"UnionRenderers\",\"id\":\"61d8e82d-ebc8-4015-94dc-5a6c0d3c1210\"},\"data\":{\"type\":\"map\",\"entries\":[[\"terms\",{\"type\":\"ndarray\",\"array\":{\"type\":\"bytes\",\"data\":\"AQAAAAIAAAADAAAABAAAAAUAAAAGAAAABwAAAAgAAAAJAAAACgAAAAsAAAAMAAAADQAAAA4AAAAPAAAAEAAAABEAAAASAAAAEwAAABQAAAA=\"},\"shape\":[20],\"dtype\":\"int32\",\"order\":\"little\"}],[\"pct_survived\",{\"type\":\"ndarray\",\"array\":{\"type\":\"bytes\",\"data\":\"AAAAAAAAWUBwdN0VEnlNQIyrOS/CYj5ANsEq7DfgMUBb4fX6M5MmQM+B8qOaGR5A3Dir0ZtyFEDeTcxncpMMQDC9AywfkwRAMtIkwvWz/D9WO6SVusPwPxgLPYZb3OY/6qavOtRu2z9Hb8rR4knSP0qE62e5aso/R2/K0eJJwj+KyXMN73K8PwYqQiytQaA/BipCLK1BoD8GKkIsrUGQPw==\"},\"shape\":[20],\"dtype\":\"float64\",\"order\":\"little\"}],[\"first_century\",[19,19,19,19,19,19,19,19,19,19,19,19,19,19,19,19,19,19,19,19]]]}}},\"view\":{\"type\":\"object\",\"name\":\"CDSView\",\"id\":\"91dd792b-a971-4863-a393-abeee87ad98e\",\"attributes\":{\"filter\":{\"type\":\"object\",\"name\":\"AllIndices\",\"id\":\"576f2dec-0e2d-4fa6-a049-86a627eab4e1\"}}},\"glyph\":{\"type\":\"object\",\"name\":\"Line\",\"id\":\"9838788e-02e0-44ba-8b1f-1448033f63ef\",\"attributes\":{\"tags\":[\"apply_ranges\"],\"x\":{\"type\":\"field\",\"field\":\"terms\"},\"y\":{\"type\":\"field\",\"field\":\"pct_survived\"},\"line_color\":\"#fc4f30\",\"line_width\":2}},\"selection_glyph\":{\"type\":\"object\",\"name\":\"Line\",\"id\":\"3b9dbbc3-be1b-4f15-90fc-5770797b0006\",\"attributes\":{\"tags\":[\"apply_ranges\"],\"x\":{\"type\":\"field\",\"field\":\"terms\"},\"y\":{\"type\":\"field\",\"field\":\"pct_survived\"},\"line_color\":\"#fc4f30\",\"line_width\":2}},\"nonselection_glyph\":{\"type\":\"object\",\"name\":\"Line\",\"id\":\"1bf51eb5-fb42-4316-a9f6-84d9bfb579df\",\"attributes\":{\"tags\":[\"apply_ranges\"],\"x\":{\"type\":\"field\",\"field\":\"terms\"},\"y\":{\"type\":\"field\",\"field\":\"pct_survived\"},\"line_color\":\"#fc4f30\",\"line_alpha\":0.1,\"line_width\":2}},\"muted_glyph\":{\"type\":\"object\",\"name\":\"Line\",\"id\":\"e0779f75-cc87-4402-9376-72e1192a3432\",\"attributes\":{\"tags\":[\"apply_ranges\"],\"x\":{\"type\":\"field\",\"field\":\"terms\"},\"y\":{\"type\":\"field\",\"field\":\"pct_survived\"},\"line_color\":\"#fc4f30\",\"line_alpha\":0.2,\"line_width\":2}}}},{\"type\":\"object\",\"name\":\"GlyphRenderer\",\"id\":\"c43272fa-2bcf-44ea-870a-1b3eefead1d3\",\"attributes\":{\"name\":\"20\",\"data_source\":{\"type\":\"object\",\"name\":\"ColumnDataSource\",\"id\":\"4347f18c-a46c-4552-8744-86367975a47b\",\"attributes\":{\"selected\":{\"type\":\"object\",\"name\":\"Selection\",\"id\":\"271fe3e1-eedd-4e79-9532-acb855207e6d\",\"attributes\":{\"indices\":[],\"line_indices\":[]}},\"selection_policy\":{\"type\":\"object\",\"name\":\"UnionRenderers\",\"id\":\"0f56ed30-a89c-4d9b-a582-7c0480a91dd8\"},\"data\":{\"type\":\"map\",\"entries\":[[\"terms\",{\"type\":\"ndarray\",\"array\":{\"type\":\"bytes\",\"data\":\"AQAAAAIAAAADAAAABAAAAAUAAAAGAAAABwAAAAgAAAAJAAAACgAAAAsAAAAMAAAADQAAAA4AAAAPAAAAEAAAABEAAAASAAAAEwAAABQAAAA=\"},\"shape\":[20],\"dtype\":\"int32\",\"order\":\"little\"}],[\"pct_survived\",{\"type\":\"ndarray\",\"array\":{\"type\":\"bytes\",\"data\":\"AAAAAAAAWUD1Cf7svfVSQEyny3qSFU9AzssZNaCaSUASfysVKSVFQONMjcIBP0FA3dWBjroWPEC5zht9GNM2QFQoCtLFdjJAUw3dHNaKLUBaNamphm4mQJKZRqxKcSFAGBlPqRPzGkDT6bKeZEUUQPrPSMibYg1AN98D8U3mBEAFiAXGStv9P96hb5wTvvQ/jCI7eANJ7D8JgmKTz6DmPw==\"},\"shape\":[20],\"dtype\":\"float64\",\"order\":\"little\"}],[\"first_century\",[20,20,20,20,20,20,20,20,20,20,20,20,20,20,20,20,20,20,20,20]]]}}},\"view\":{\"type\":\"object\",\"name\":\"CDSView\",\"id\":\"83e6c254-2f87-4259-aa07-7fcc59de2764\",\"attributes\":{\"filter\":{\"type\":\"object\",\"name\":\"AllIndices\",\"id\":\"06a7e565-582e-4b45-bce5-41fdef93cffe\"}}},\"glyph\":{\"type\":\"object\",\"name\":\"Line\",\"id\":\"9b78fd74-7322-492b-be1b-e5bce51d0543\",\"attributes\":{\"tags\":[\"apply_ranges\"],\"x\":{\"type\":\"field\",\"field\":\"terms\"},\"y\":{\"type\":\"field\",\"field\":\"pct_survived\"},\"line_color\":\"#e5ae38\",\"line_width\":2}},\"selection_glyph\":{\"type\":\"object\",\"name\":\"Line\",\"id\":\"c1133bb1-f63a-42d1-ac11-f51db747d330\",\"attributes\":{\"tags\":[\"apply_ranges\"],\"x\":{\"type\":\"field\",\"field\":\"terms\"},\"y\":{\"type\":\"field\",\"field\":\"pct_survived\"},\"line_color\":\"#e5ae38\",\"line_width\":2}},\"nonselection_glyph\":{\"type\":\"object\",\"name\":\"Line\",\"id\":\"824b3e59-d35d-4321-b5b7-279ede132e9d\",\"attributes\":{\"tags\":[\"apply_ranges\"],\"x\":{\"type\":\"field\",\"field\":\"terms\"},\"y\":{\"type\":\"field\",\"field\":\"pct_survived\"},\"line_color\":\"#e5ae38\",\"line_alpha\":0.1,\"line_width\":2}},\"muted_glyph\":{\"type\":\"object\",\"name\":\"Line\",\"id\":\"fb54a99f-2ad7-42aa-9829-36ee0cf093e9\",\"attributes\":{\"tags\":[\"apply_ranges\"],\"x\":{\"type\":\"field\",\"field\":\"terms\"},\"y\":{\"type\":\"field\",\"field\":\"pct_survived\"},\"line_color\":\"#e5ae38\",\"line_alpha\":0.2,\"line_width\":2}}}},{\"type\":\"object\",\"name\":\"GlyphRenderer\",\"id\":\"f4b70f65-bf3a-4d2c-a471-3800bb2b3e5e\",\"attributes\":{\"name\":\"21\",\"data_source\":{\"type\":\"object\",\"name\":\"ColumnDataSource\",\"id\":\"61f6f2d2-da63-4cb2-9253-c2685b7fc40c\",\"attributes\":{\"selected\":{\"type\":\"object\",\"name\":\"Selection\",\"id\":\"b5fe70e5-95dc-4e79-b7c3-dc5e573b4563\",\"attributes\":{\"indices\":[],\"line_indices\":[]}},\"selection_policy\":{\"type\":\"object\",\"name\":\"UnionRenderers\",\"id\":\"0b7f040f-27d5-44c3-8777-a365298bdf05\"},\"data\":{\"type\":\"map\",\"entries\":[[\"terms\",{\"type\":\"ndarray\",\"array\":{\"type\":\"bytes\",\"data\":\"AQAAAAIAAAADAAAABAAAAAUAAAAGAAAABwAAAAgAAAAJAAAACgAAAAsAAAAMAAAADQAAAA4AAAAPAAAAEAAAABEAAAASAAAAEwAAABQAAAA=\"},\"shape\":[20],\"dtype\":\"int32\",\"order\":\"little\"}],[\"pct_survived\",{\"type\":\"ndarray\",\"array\":{\"type\":\"bytes\",\"data\":\"AAAAAAAAWUCivIbyGkpSQL2G8hrKK0tAXkN5DeV1RECU11BeQ/k6QIfyGsprKDJANpTXUF5DKUBsKK+hvIYeQGwor6G8hg5AKa+hvIby8j8AAAAAAAAAAAAAAAAAAAAAAAAAAAAAAAAAAAAAAAAAAAAAAAAAAAAAAAAAAAAAAAAAAAAAAAAAAAAAAAAAAAAAAAAAAAAAAAAAAAAAAAAAAA==\"},\"shape\":[20],\"dtype\":\"float64\",\"order\":\"little\"}],[\"first_century\",[21,21,21,21,21,21,21,21,21,21,21,21,21,21,21,21,21,21,21,21]]]}}},\"view\":{\"type\":\"object\",\"name\":\"CDSView\",\"id\":\"2388e05b-d039-4b49-8a87-0b8881f9077d\",\"attributes\":{\"filter\":{\"type\":\"object\",\"name\":\"AllIndices\",\"id\":\"35de0baa-0e32-471e-988c-13c0f9097df5\"}}},\"glyph\":{\"type\":\"object\",\"name\":\"Line\",\"id\":\"b86b1fb0-e401-4fd3-9884-8aa757ee6632\",\"attributes\":{\"tags\":[\"apply_ranges\"],\"x\":{\"type\":\"field\",\"field\":\"terms\"},\"y\":{\"type\":\"field\",\"field\":\"pct_survived\"},\"line_color\":\"#6d904f\",\"line_width\":2}},\"selection_glyph\":{\"type\":\"object\",\"name\":\"Line\",\"id\":\"5a662c8a-ead0-4fe8-944e-5a325cfd778a\",\"attributes\":{\"tags\":[\"apply_ranges\"],\"x\":{\"type\":\"field\",\"field\":\"terms\"},\"y\":{\"type\":\"field\",\"field\":\"pct_survived\"},\"line_color\":\"#6d904f\",\"line_width\":2}},\"nonselection_glyph\":{\"type\":\"object\",\"name\":\"Line\",\"id\":\"3944746f-72b5-4752-a2d3-26f307ee3eb8\",\"attributes\":{\"tags\":[\"apply_ranges\"],\"x\":{\"type\":\"field\",\"field\":\"terms\"},\"y\":{\"type\":\"field\",\"field\":\"pct_survived\"},\"line_color\":\"#6d904f\",\"line_alpha\":0.1,\"line_width\":2}},\"muted_glyph\":{\"type\":\"object\",\"name\":\"Line\",\"id\":\"209ce30c-a713-4231-bc27-dbb485a70f1c\",\"attributes\":{\"tags\":[\"apply_ranges\"],\"x\":{\"type\":\"field\",\"field\":\"terms\"},\"y\":{\"type\":\"field\",\"field\":\"pct_survived\"},\"line_color\":\"#6d904f\",\"line_alpha\":0.2,\"line_width\":2}}}}],\"toolbar\":{\"type\":\"object\",\"name\":\"Toolbar\",\"id\":\"ea938a8d-35b9-433f-a8f1-73341318e8a4\",\"attributes\":{\"tools\":[{\"type\":\"object\",\"name\":\"WheelZoomTool\",\"id\":\"788099be-5307-4ced-b7ac-69eed357b556\",\"attributes\":{\"tags\":[\"hv_created\"],\"zoom_together\":\"none\"}},{\"type\":\"object\",\"name\":\"HoverTool\",\"id\":\"79017732-4696-4d16-9172-f739ee4219da\",\"attributes\":{\"tags\":[\"hv_created\"],\"renderers\":[{\"id\":\"b8bfefcd-b3e5-42d4-b397-e23b0c5a1edd\"},{\"id\":\"2ea985c7-7eee-4107-b503-15aaa8fb3cde\"},{\"id\":\"c43272fa-2bcf-44ea-870a-1b3eefead1d3\"},{\"id\":\"f4b70f65-bf3a-4d2c-a471-3800bb2b3e5e\"}],\"tooltips\":[[\"first_century\",\"@{first_century}\"],[\"terms\",\"@{terms}\"],[\"pct_survived\",\"@{pct_survived}\"]]}},{\"type\":\"object\",\"name\":\"SaveTool\",\"id\":\"77c84669-3704-4981-b181-6cb6eb9a8036\"},{\"type\":\"object\",\"name\":\"PanTool\",\"id\":\"c3861ddd-b110-4ffa-acea-f05b823de8a6\"},{\"type\":\"object\",\"name\":\"BoxZoomTool\",\"id\":\"66237bed-c848-43f9-8f2c-37063d1ca5a0\",\"attributes\":{\"overlay\":{\"type\":\"object\",\"name\":\"BoxAnnotation\",\"id\":\"56db9cb0-bff0-49ac-85fc-a28f6295fd9a\",\"attributes\":{\"syncable\":false,\"level\":\"overlay\",\"visible\":false,\"left_units\":\"canvas\",\"right_units\":\"canvas\",\"bottom_units\":\"canvas\",\"top_units\":\"canvas\",\"line_color\":\"black\",\"line_alpha\":1.0,\"line_width\":2,\"line_dash\":[4,4],\"fill_color\":\"lightgrey\",\"fill_alpha\":0.5}}}},{\"type\":\"object\",\"name\":\"ResetTool\",\"id\":\"f0eb0c46-3fab-4692-9389-09f92ea21c36\"}],\"active_drag\":{\"id\":\"c3861ddd-b110-4ffa-acea-f05b823de8a6\"},\"active_scroll\":{\"id\":\"788099be-5307-4ced-b7ac-69eed357b556\"}}},\"left\":[{\"type\":\"object\",\"name\":\"LinearAxis\",\"id\":\"5fedfd29-2134-4f2a-86d6-fb74965641aa\",\"attributes\":{\"ticker\":{\"type\":\"object\",\"name\":\"BasicTicker\",\"id\":\"a2b7b478-3603-430d-b97a-e22f636d12cb\",\"attributes\":{\"mantissas\":[1,2,5]}},\"formatter\":{\"type\":\"object\",\"name\":\"BasicTickFormatter\",\"id\":\"6737af00-2fb6-45e4-b61e-e0e29e785c8c\"},\"axis_label\":\"pct_survived\",\"major_label_policy\":{\"type\":\"object\",\"name\":\"AllLabels\",\"id\":\"05325a58-fc8c-4804-92f9-e02be8f59287\"}}}],\"above\":[{\"type\":\"object\",\"name\":\"Legend\",\"id\":\"7fefcb02-245d-41de-af3d-38c513589fae\",\"attributes\":{\"location\":[0,0],\"orientation\":\"horizontal\",\"title\":\"first_century\",\"click_policy\":\"mute\",\"items\":[{\"type\":\"object\",\"name\":\"LegendItem\",\"id\":\"3beab14a-7fb8-4ccb-adf9-a78baed511af\",\"attributes\":{\"label\":{\"type\":\"value\",\"value\":\"18\"},\"renderers\":[{\"id\":\"b8bfefcd-b3e5-42d4-b397-e23b0c5a1edd\"}]}},{\"type\":\"object\",\"name\":\"LegendItem\",\"id\":\"7194689f-31f0-4c54-93a2-46dae981b842\",\"attributes\":{\"label\":{\"type\":\"value\",\"value\":\"19\"},\"renderers\":[{\"id\":\"2ea985c7-7eee-4107-b503-15aaa8fb3cde\"}]}},{\"type\":\"object\",\"name\":\"LegendItem\",\"id\":\"8408027e-e8ef-40a9-953e-6a4fc02cd546\",\"attributes\":{\"label\":{\"type\":\"value\",\"value\":\"20\"},\"renderers\":[{\"id\":\"c43272fa-2bcf-44ea-870a-1b3eefead1d3\"}]}},{\"type\":\"object\",\"name\":\"LegendItem\",\"id\":\"935cd5cc-43d9-4f16-990e-b545843db5b6\",\"attributes\":{\"label\":{\"type\":\"value\",\"value\":\"21\"},\"renderers\":[{\"id\":\"f4b70f65-bf3a-4d2c-a471-3800bb2b3e5e\"}]}}]}}],\"below\":[{\"type\":\"object\",\"name\":\"LinearAxis\",\"id\":\"8b95fd88-cb97-4ec9-9c1f-b157f2ce2955\",\"attributes\":{\"ticker\":{\"type\":\"object\",\"name\":\"BasicTicker\",\"id\":\"56711688-5a2b-4426-b571-4879dce9e659\",\"attributes\":{\"mantissas\":[1,2,5]}},\"formatter\":{\"type\":\"object\",\"name\":\"BasicTickFormatter\",\"id\":\"d585555a-186f-4c76-a25c-3bf4755c5733\"},\"axis_label\":\"terms\",\"major_label_policy\":{\"type\":\"object\",\"name\":\"AllLabels\",\"id\":\"fd972c16-ad28-4af2-9e6f-c6b316cba790\"}}}],\"center\":[{\"type\":\"object\",\"name\":\"Grid\",\"id\":\"32b6c5ac-98dd-4483-8fe6-0627d19a913d\",\"attributes\":{\"axis\":{\"id\":\"8b95fd88-cb97-4ec9-9c1f-b157f2ce2955\"},\"ticker\":{\"id\":\"56711688-5a2b-4426-b571-4879dce9e659\"}}},{\"type\":\"object\",\"name\":\"Grid\",\"id\":\"9a99a59f-8a4e-4b51-97c0-18c3d5115594\",\"attributes\":{\"dimension\":1,\"axis\":{\"id\":\"5fedfd29-2134-4f2a-86d6-fb74965641aa\"},\"ticker\":{\"id\":\"a2b7b478-3603-430d-b97a-e22f636d12cb\"}}}],\"min_border_top\":10,\"min_border_bottom\":10,\"min_border_left\":10,\"min_border_right\":10,\"output_backend\":\"webgl\"}},{\"type\":\"object\",\"name\":\"Spacer\",\"id\":\"bdedcdd9-967d-4499-b4f9-5ecb89ee6e88\",\"attributes\":{\"name\":\"HSpacer54655\",\"stylesheets\":[\"\\n:host(.pn-loading.pn-arc):before, .pn-loading.pn-arc:before {\\n  background-image: url(\\\"data:image/svg+xml;base64,PHN2ZyB4bWxucz0iaHR0cDovL3d3dy53My5vcmcvMjAwMC9zdmciIHN0eWxlPSJtYXJnaW46IGF1dG87IGJhY2tncm91bmQ6IG5vbmU7IGRpc3BsYXk6IGJsb2NrOyBzaGFwZS1yZW5kZXJpbmc6IGF1dG87IiB2aWV3Qm94PSIwIDAgMTAwIDEwMCIgcHJlc2VydmVBc3BlY3RSYXRpbz0ieE1pZFlNaWQiPiAgPGNpcmNsZSBjeD0iNTAiIGN5PSI1MCIgZmlsbD0ibm9uZSIgc3Ryb2tlPSIjYzNjM2MzIiBzdHJva2Utd2lkdGg9IjEwIiByPSIzNSIgc3Ryb2tlLWRhc2hhcnJheT0iMTY0LjkzMzYxNDMxMzQ2NDE1IDU2Ljk3Nzg3MTQzNzgyMTM4Ij4gICAgPGFuaW1hdGVUcmFuc2Zvcm0gYXR0cmlidXRlTmFtZT0idHJhbnNmb3JtIiB0eXBlPSJyb3RhdGUiIHJlcGVhdENvdW50PSJpbmRlZmluaXRlIiBkdXI9IjFzIiB2YWx1ZXM9IjAgNTAgNTA7MzYwIDUwIDUwIiBrZXlUaW1lcz0iMDsxIj48L2FuaW1hdGVUcmFuc2Zvcm0+ICA8L2NpcmNsZT48L3N2Zz4=\\\");\\n  background-size: auto calc(min(50%, 400px));\\n}\",{\"id\":\"740a309b-244d-47fe-9365-79ccc1d18b31\"},{\"id\":\"d1baf53e-2981-4bba-acd1-80f97c829e63\"},{\"id\":\"01e447f2-84f9-41b3-9913-ffca98064e10\"}],\"margin\":0,\"sizing_mode\":\"stretch_width\",\"align\":\"start\"}}]}}],\"defs\":[{\"type\":\"model\",\"name\":\"ReactiveHTML1\"},{\"type\":\"model\",\"name\":\"FlexBox1\",\"properties\":[{\"name\":\"align_content\",\"kind\":\"Any\",\"default\":\"flex-start\"},{\"name\":\"align_items\",\"kind\":\"Any\",\"default\":\"flex-start\"},{\"name\":\"flex_direction\",\"kind\":\"Any\",\"default\":\"row\"},{\"name\":\"flex_wrap\",\"kind\":\"Any\",\"default\":\"wrap\"},{\"name\":\"justify_content\",\"kind\":\"Any\",\"default\":\"flex-start\"}]},{\"type\":\"model\",\"name\":\"FloatPanel1\",\"properties\":[{\"name\":\"config\",\"kind\":\"Any\",\"default\":{\"type\":\"map\"}},{\"name\":\"contained\",\"kind\":\"Any\",\"default\":true},{\"name\":\"position\",\"kind\":\"Any\",\"default\":\"right-top\"},{\"name\":\"offsetx\",\"kind\":\"Any\",\"default\":null},{\"name\":\"offsety\",\"kind\":\"Any\",\"default\":null},{\"name\":\"theme\",\"kind\":\"Any\",\"default\":\"primary\"},{\"name\":\"status\",\"kind\":\"Any\",\"default\":\"normalized\"}]},{\"type\":\"model\",\"name\":\"GridStack1\",\"properties\":[{\"name\":\"mode\",\"kind\":\"Any\",\"default\":\"warn\"},{\"name\":\"ncols\",\"kind\":\"Any\",\"default\":null},{\"name\":\"nrows\",\"kind\":\"Any\",\"default\":null},{\"name\":\"allow_resize\",\"kind\":\"Any\",\"default\":true},{\"name\":\"allow_drag\",\"kind\":\"Any\",\"default\":true},{\"name\":\"state\",\"kind\":\"Any\",\"default\":[]}]},{\"type\":\"model\",\"name\":\"drag1\",\"properties\":[{\"name\":\"slider_width\",\"kind\":\"Any\",\"default\":5},{\"name\":\"slider_color\",\"kind\":\"Any\",\"default\":\"black\"},{\"name\":\"value\",\"kind\":\"Any\",\"default\":50}]},{\"type\":\"model\",\"name\":\"click1\",\"properties\":[{\"name\":\"terminal_output\",\"kind\":\"Any\",\"default\":\"\"},{\"name\":\"debug_name\",\"kind\":\"Any\",\"default\":\"\"},{\"name\":\"clears\",\"kind\":\"Any\",\"default\":0}]},{\"type\":\"model\",\"name\":\"FastWrapper1\",\"properties\":[{\"name\":\"object\",\"kind\":\"Any\",\"default\":null},{\"name\":\"style\",\"kind\":\"Any\",\"default\":null}]},{\"type\":\"model\",\"name\":\"NotificationAreaBase1\",\"properties\":[{\"name\":\"js_events\",\"kind\":\"Any\",\"default\":{\"type\":\"map\"}},{\"name\":\"position\",\"kind\":\"Any\",\"default\":\"bottom-right\"},{\"name\":\"_clear\",\"kind\":\"Any\",\"default\":0}]},{\"type\":\"model\",\"name\":\"NotificationArea1\",\"properties\":[{\"name\":\"js_events\",\"kind\":\"Any\",\"default\":{\"type\":\"map\"}},{\"name\":\"notifications\",\"kind\":\"Any\",\"default\":[]},{\"name\":\"position\",\"kind\":\"Any\",\"default\":\"bottom-right\"},{\"name\":\"_clear\",\"kind\":\"Any\",\"default\":0},{\"name\":\"types\",\"kind\":\"Any\",\"default\":[{\"type\":\"map\",\"entries\":[[\"type\",\"warning\"],[\"background\",\"#ffc107\"],[\"icon\",{\"type\":\"map\",\"entries\":[[\"className\",\"fas fa-exclamation-triangle\"],[\"tagName\",\"i\"],[\"color\",\"white\"]]}]]},{\"type\":\"map\",\"entries\":[[\"type\",\"info\"],[\"background\",\"#007bff\"],[\"icon\",{\"type\":\"map\",\"entries\":[[\"className\",\"fas fa-info-circle\"],[\"tagName\",\"i\"],[\"color\",\"white\"]]}]]}]}]},{\"type\":\"model\",\"name\":\"Notification\",\"properties\":[{\"name\":\"background\",\"kind\":\"Any\",\"default\":null},{\"name\":\"duration\",\"kind\":\"Any\",\"default\":3000},{\"name\":\"icon\",\"kind\":\"Any\",\"default\":null},{\"name\":\"message\",\"kind\":\"Any\",\"default\":\"\"},{\"name\":\"notification_type\",\"kind\":\"Any\",\"default\":null},{\"name\":\"_destroyed\",\"kind\":\"Any\",\"default\":false}]},{\"type\":\"model\",\"name\":\"TemplateActions1\",\"properties\":[{\"name\":\"open_modal\",\"kind\":\"Any\",\"default\":0},{\"name\":\"close_modal\",\"kind\":\"Any\",\"default\":0}]},{\"type\":\"model\",\"name\":\"BootstrapTemplateActions1\",\"properties\":[{\"name\":\"open_modal\",\"kind\":\"Any\",\"default\":0},{\"name\":\"close_modal\",\"kind\":\"Any\",\"default\":0}]},{\"type\":\"model\",\"name\":\"MaterialTemplateActions1\",\"properties\":[{\"name\":\"open_modal\",\"kind\":\"Any\",\"default\":0},{\"name\":\"close_modal\",\"kind\":\"Any\",\"default\":0}]}]}};\n",
       "  var render_items = [{\"docid\":\"174baf5b-8553-4f94-a603-d92ce21a4b11\",\"roots\":{\"3559391f-cef5-4d98-8a52-84d063a85478\":\"f58da930-c5c6-457f-b1a4-534b71570c89\"},\"root_ids\":[\"3559391f-cef5-4d98-8a52-84d063a85478\"]}];\n",
       "  var docs = Object.values(docs_json)\n",
       "  if (!docs) {\n",
       "    return\n",
       "  }\n",
       "  const py_version = docs[0].version.replace('rc', '-rc.').replace('.dev', '-dev.')\n",
       "  const is_dev = py_version.indexOf(\"+\") !== -1 || py_version.indexOf(\"-\") !== -1\n",
       "  function embed_document(root) {\n",
       "    var Bokeh = get_bokeh(root)\n",
       "    Bokeh.embed.embed_items_notebook(docs_json, render_items);\n",
       "    for (const render_item of render_items) {\n",
       "      for (const root_id of render_item.root_ids) {\n",
       "\tconst id_el = document.getElementById(root_id)\n",
       "\tif (id_el.children.length && (id_el.children[0].className === 'bk-root')) {\n",
       "\t  const root_el = id_el.children[0]\n",
       "\t  root_el.id = root_el.id + '-rendered'\n",
       "\t}\n",
       "      }\n",
       "    }\n",
       "  }\n",
       "  function get_bokeh(root) {\n",
       "    if (root.Bokeh === undefined) {\n",
       "      return null\n",
       "    } else if (root.Bokeh.version !== py_version && !is_dev) {\n",
       "      if (root.Bokeh.versions === undefined || !root.Bokeh.versions.has(py_version)) {\n",
       "\treturn null\n",
       "      }\n",
       "      return root.Bokeh.versions.get(py_version);\n",
       "    } else if (root.Bokeh.version === py_version) {\n",
       "      return root.Bokeh\n",
       "    }\n",
       "    return null\n",
       "  }\n",
       "  function is_loaded(root) {\n",
       "    var Bokeh = get_bokeh(root)\n",
       "    return (Bokeh != null && Bokeh.Panel !== undefined)\n",
       "  }\n",
       "  if (is_loaded(root)) {\n",
       "    embed_document(root);\n",
       "  } else {\n",
       "    var attempts = 0;\n",
       "    var timer = setInterval(function(root) {\n",
       "      if (is_loaded(root)) {\n",
       "        clearInterval(timer);\n",
       "        embed_document(root);\n",
       "      } else if (document.readyState == \"complete\") {\n",
       "        attempts++;\n",
       "        if (attempts > 200) {\n",
       "          clearInterval(timer);\n",
       "\t  var Bokeh = get_bokeh(root)\n",
       "\t  if (Bokeh == null || Bokeh.Panel == null) {\n",
       "            console.warn(\"Panel: ERROR: Unable to run Panel code because Bokeh or Panel library is missing\");\n",
       "\t  } else {\n",
       "\t    console.warn(\"Panel: WARNING: Attempting to render but not all required libraries could be resolved.\")\n",
       "\t    embed_document(root)\n",
       "\t  }\n",
       "        }\n",
       "      }\n",
       "    }, 25, root)\n",
       "  }\n",
       "})(window);</script>"
      ],
      "text/plain": [
       ":NdOverlay   [first_century]\n",
       "   :Curve   [terms]   (pct_survived)"
      ]
     },
     "execution_count": 394,
     "metadata": {
      "application/vnd.holoviews_exec.v0+json": {
       "id": "3559391f-cef5-4d98-8a52-84d063a85478"
      }
     },
     "output_type": "execute_result"
    }
   ],
   "source": [
    "plot_6 = data_6.hvplot(kind='line',\n",
    "        x='terms',\n",
    "        y='pct_survived',\n",
    "        by='first_century',\n",
    "        grid=True,\n",
    "        title='Who remained in office a certain number of terms or longer',\n",
    "        legend='top',\n",
    "        shared_axes=False,\n",
    "        width=650, height=300)\n",
    "\n",
    "plot_6"
   ]
  },
  {
   "cell_type": "markdown",
   "id": "0198eae8-d4b5-4cb7-8fd1-4f9decce9443",
   "metadata": {},
   "source": [
    "# Percentage of representatives who became senators for each cohort defined by the first decade, for different time windows"
   ]
  },
  {
   "cell_type": "code",
   "execution_count": 395,
   "id": "9fec081f-e8a2-403a-998e-49f940bb1a00",
   "metadata": {
    "tags": []
   },
   "outputs": [
    {
     "name": "stdout",
     "output_type": "stream",
     "text": [
      "Connection to PostgreSQL DB successful\n"
     ]
    },
    {
     "data": {
      "text/plain": [
       "[18, Decimal('5.0167'), Decimal('9.6990'), Decimal('14.3813')]"
      ]
     },
     "execution_count": 395,
     "metadata": {},
     "output_type": "execute_result"
    }
   ],
   "source": [
    "connection = create_connection(db_name, db_user, db_password, db_host, db_port)\n",
    "\n",
    "cursor = connection.cursor(cursor_factory=DictCursor)  \n",
    "# from psycopg2.extras import NamedTupleCursor | cursor_factory=NamedTupleCursor\n",
    "\n",
    "# Getting table values retail_sales\n",
    "cursor.execute(\"\"\"\n",
    "SELECT aa.cohort_century::int as cohort_century\n",
    ",round(bb.rep_and_sen_5_yrs * 100.0 / aa.reps,4) as pct_5_yrs\n",
    ",round(bb.rep_and_sen_10_yrs * 100.0 / aa.reps,4) as pct_10_yrs\n",
    ",round(bb.rep_and_sen_15_yrs * 100.0 / aa.reps,4) as pct_15_yrs\n",
    "FROM\n",
    "(\n",
    "        SELECT date_part('century',a.first_term) as cohort_century\n",
    "        ,count(id_bioguide) as reps\n",
    "        FROM\n",
    "        (\n",
    "                SELECT id_bioguide, min(term_start) as first_term\n",
    "                FROM legislators_terms\n",
    "                WHERE term_type = 'rep'\n",
    "                GROUP BY 1\n",
    "        ) a\n",
    "        WHERE first_term <= '2009-12-31'\n",
    "        GROUP BY 1\n",
    ") aa\n",
    "LEFT JOIN\n",
    "(\n",
    "        SELECT date_part('century',b.first_term) as cohort_century\n",
    "        ,count(distinct case when age(c.term_start, b.first_term) <= interval '5 years' then b.id_bioguide end) as rep_and_sen_5_yrs\n",
    "        ,count(distinct case when age(c.term_start, b.first_term) <= interval '10 years' then b.id_bioguide end) as rep_and_sen_10_yrs\n",
    "        ,count(distinct case when age(c.term_start, b.first_term) <= interval '15 years' then b.id_bioguide end) as rep_and_sen_15_yrs\n",
    "        FROM\n",
    "        (\n",
    "                SELECT id_bioguide, min(term_start) as first_term\n",
    "                FROM legislators_terms\n",
    "                WHERE term_type = 'rep'\n",
    "                GROUP BY 1\n",
    "        ) b\n",
    "        JOIN legislators_terms c on b.id_bioguide = c.id_bioguide\n",
    "        and c.term_type = 'sen' and c.term_start > b.first_term\n",
    "        GROUP BY 1\n",
    ") bb on aa.cohort_century = bb.cohort_century\n",
    ";\n",
    "\"\"\")\n",
    "data_7 = cursor.fetchall()\n",
    "cursor.close()  # Close the cursor\n",
    "connection.close()  # We close the connection\n",
    "data_7[0]"
   ]
  },
  {
   "cell_type": "code",
   "execution_count": 396,
   "id": "46ec0ce1-7c84-4101-ab4f-bf48bcbe85b1",
   "metadata": {
    "tags": []
   },
   "outputs": [
    {
     "data": {
      "text/html": [
       "<div>\n",
       "<style scoped>\n",
       "    .dataframe tbody tr th:only-of-type {\n",
       "        vertical-align: middle;\n",
       "    }\n",
       "\n",
       "    .dataframe tbody tr th {\n",
       "        vertical-align: top;\n",
       "    }\n",
       "\n",
       "    .dataframe thead th {\n",
       "        text-align: right;\n",
       "    }\n",
       "</style>\n",
       "<table border=\"1\" class=\"dataframe\">\n",
       "  <thead>\n",
       "    <tr style=\"text-align: right;\">\n",
       "      <th></th>\n",
       "      <th>cohort_century</th>\n",
       "      <th>pct_5_yrs</th>\n",
       "      <th>pct_10_yrs</th>\n",
       "      <th>pct_15_yrs</th>\n",
       "    </tr>\n",
       "  </thead>\n",
       "  <tbody>\n",
       "    <tr>\n",
       "      <th>0</th>\n",
       "      <td>18</td>\n",
       "      <td>5.0167</td>\n",
       "      <td>9.6990</td>\n",
       "      <td>14.3813</td>\n",
       "    </tr>\n",
       "    <tr>\n",
       "      <th>1</th>\n",
       "      <td>19</td>\n",
       "      <td>0.8834</td>\n",
       "      <td>2.4424</td>\n",
       "      <td>4.0880</td>\n",
       "    </tr>\n",
       "    <tr>\n",
       "      <th>2</th>\n",
       "      <td>20</td>\n",
       "      <td>1.0042</td>\n",
       "      <td>3.4814</td>\n",
       "      <td>4.7757</td>\n",
       "    </tr>\n",
       "    <tr>\n",
       "      <th>3</th>\n",
       "      <td>21</td>\n",
       "      <td>4.0000</td>\n",
       "      <td>7.6364</td>\n",
       "      <td>8.7273</td>\n",
       "    </tr>\n",
       "  </tbody>\n",
       "</table>\n",
       "</div>"
      ],
      "text/plain": [
       "   cohort_century pct_5_yrs pct_10_yrs pct_15_yrs\n",
       "0              18    5.0167     9.6990    14.3813\n",
       "1              19    0.8834     2.4424     4.0880\n",
       "2              20    1.0042     3.4814     4.7757\n",
       "3              21    4.0000     7.6364     8.7273"
      ]
     },
     "execution_count": 396,
     "metadata": {},
     "output_type": "execute_result"
    }
   ],
   "source": [
    "# Let's convert to DataFrame\n",
    "data_7 = pd.DataFrame(data_7, columns=['cohort_century','pct_5_yrs', 'pct_10_yrs', 'pct_15_yrs'])\n",
    "data_7.head()"
   ]
  },
  {
   "cell_type": "code",
   "execution_count": 397,
   "id": "ccf3a4d6-084c-4849-b1c7-1993fa8e9abc",
   "metadata": {
    "tags": []
   },
   "outputs": [
    {
     "data": {
      "text/plain": [
       "cohort_century      int64\n",
       "pct_5_yrs         float64\n",
       "pct_10_yrs        float64\n",
       "pct_15_yrs        float64\n",
       "dtype: object"
      ]
     },
     "execution_count": 397,
     "metadata": {},
     "output_type": "execute_result"
    }
   ],
   "source": [
    "data_7['cohort_century'] = data_7['cohort_century'].astype('int')\n",
    "data_7['pct_5_yrs'] = data_7['pct_5_yrs'].astype('float')\n",
    "data_7['pct_10_yrs'] = data_7['pct_10_yrs'].astype('float')\n",
    "data_7['pct_15_yrs'] = data_7['pct_15_yrs'].astype('float')\n",
    "data_7.dtypes"
   ]
  },
  {
   "cell_type": "code",
   "execution_count": 398,
   "id": "5443a106-5165-4fbb-95fc-b8e4e7b0deab",
   "metadata": {
    "tags": []
   },
   "outputs": [
    {
     "data": {},
     "metadata": {},
     "output_type": "display_data"
    },
    {
     "data": {
      "application/vnd.holoviews_exec.v0+json": "",
      "text/html": [
       "<div id='6bc452e8-865d-4c61-ae7e-0eaf4f873955'>\n",
       "  <div id=\"c5e29727-44e5-4bf8-906d-63a20b4eb59c\" data-root-id=\"6bc452e8-865d-4c61-ae7e-0eaf4f873955\" style=\"display: contents;\"></div>\n",
       "</div>\n",
       "<script type=\"application/javascript\">(function(root) {\n",
       "  var docs_json = {\"b7aa9f24-65b9-4ac3-90ec-570943df2a2f\":{\"version\":\"3.2.1\",\"title\":\"Bokeh Application\",\"roots\":[{\"type\":\"object\",\"name\":\"Row\",\"id\":\"6bc452e8-865d-4c61-ae7e-0eaf4f873955\",\"attributes\":{\"name\":\"Row54769\",\"tags\":[\"embedded\"],\"stylesheets\":[\"\\n:host(.pn-loading.pn-arc):before, .pn-loading.pn-arc:before {\\n  background-image: url(\\\"data:image/svg+xml;base64,PHN2ZyB4bWxucz0iaHR0cDovL3d3dy53My5vcmcvMjAwMC9zdmciIHN0eWxlPSJtYXJnaW46IGF1dG87IGJhY2tncm91bmQ6IG5vbmU7IGRpc3BsYXk6IGJsb2NrOyBzaGFwZS1yZW5kZXJpbmc6IGF1dG87IiB2aWV3Qm94PSIwIDAgMTAwIDEwMCIgcHJlc2VydmVBc3BlY3RSYXRpbz0ieE1pZFlNaWQiPiAgPGNpcmNsZSBjeD0iNTAiIGN5PSI1MCIgZmlsbD0ibm9uZSIgc3Ryb2tlPSIjYzNjM2MzIiBzdHJva2Utd2lkdGg9IjEwIiByPSIzNSIgc3Ryb2tlLWRhc2hhcnJheT0iMTY0LjkzMzYxNDMxMzQ2NDE1IDU2Ljk3Nzg3MTQzNzgyMTM4Ij4gICAgPGFuaW1hdGVUcmFuc2Zvcm0gYXR0cmlidXRlTmFtZT0idHJhbnNmb3JtIiB0eXBlPSJyb3RhdGUiIHJlcGVhdENvdW50PSJpbmRlZmluaXRlIiBkdXI9IjFzIiB2YWx1ZXM9IjAgNTAgNTA7MzYwIDUwIDUwIiBrZXlUaW1lcz0iMDsxIj48L2FuaW1hdGVUcmFuc2Zvcm0+ICA8L2NpcmNsZT48L3N2Zz4=\\\");\\n  background-size: auto calc(min(50%, 400px));\\n}\",{\"type\":\"object\",\"name\":\"ImportedStyleSheet\",\"id\":\"afb5de54-347b-48d4-9a66-0a340ef417d7\",\"attributes\":{\"url\":\"https://cdn.holoviz.org/panel/1.2.1/dist/css/loading.css\"}},{\"type\":\"object\",\"name\":\"ImportedStyleSheet\",\"id\":\"c71ac480-4df1-4e34-92e4-badaea0d557a\",\"attributes\":{\"url\":\"https://cdn.holoviz.org/panel/1.2.1/dist/css/listpanel.css\"}},{\"type\":\"object\",\"name\":\"ImportedStyleSheet\",\"id\":\"eabeccb3-7918-49ba-9ae2-d0f064de273b\",\"attributes\":{\"url\":\"https://cdn.holoviz.org/panel/1.2.1/dist/bundled/theme/default.css\"}},{\"type\":\"object\",\"name\":\"ImportedStyleSheet\",\"id\":\"6bf1f62b-3690-46f0-a907-ae76e253e04a\",\"attributes\":{\"url\":\"https://cdn.holoviz.org/panel/1.2.1/dist/bundled/theme/native.css\"}}],\"margin\":0,\"sizing_mode\":\"stretch_width\",\"align\":\"start\",\"children\":[{\"type\":\"object\",\"name\":\"Spacer\",\"id\":\"eb43ae19-f983-49fa-8c40-b90bd6be415d\",\"attributes\":{\"name\":\"HSpacer54780\",\"stylesheets\":[\"\\n:host(.pn-loading.pn-arc):before, .pn-loading.pn-arc:before {\\n  background-image: url(\\\"data:image/svg+xml;base64,PHN2ZyB4bWxucz0iaHR0cDovL3d3dy53My5vcmcvMjAwMC9zdmciIHN0eWxlPSJtYXJnaW46IGF1dG87IGJhY2tncm91bmQ6IG5vbmU7IGRpc3BsYXk6IGJsb2NrOyBzaGFwZS1yZW5kZXJpbmc6IGF1dG87IiB2aWV3Qm94PSIwIDAgMTAwIDEwMCIgcHJlc2VydmVBc3BlY3RSYXRpbz0ieE1pZFlNaWQiPiAgPGNpcmNsZSBjeD0iNTAiIGN5PSI1MCIgZmlsbD0ibm9uZSIgc3Ryb2tlPSIjYzNjM2MzIiBzdHJva2Utd2lkdGg9IjEwIiByPSIzNSIgc3Ryb2tlLWRhc2hhcnJheT0iMTY0LjkzMzYxNDMxMzQ2NDE1IDU2Ljk3Nzg3MTQzNzgyMTM4Ij4gICAgPGFuaW1hdGVUcmFuc2Zvcm0gYXR0cmlidXRlTmFtZT0idHJhbnNmb3JtIiB0eXBlPSJyb3RhdGUiIHJlcGVhdENvdW50PSJpbmRlZmluaXRlIiBkdXI9IjFzIiB2YWx1ZXM9IjAgNTAgNTA7MzYwIDUwIDUwIiBrZXlUaW1lcz0iMDsxIj48L2FuaW1hdGVUcmFuc2Zvcm0+ICA8L2NpcmNsZT48L3N2Zz4=\\\");\\n  background-size: auto calc(min(50%, 400px));\\n}\",{\"id\":\"afb5de54-347b-48d4-9a66-0a340ef417d7\"},{\"id\":\"eabeccb3-7918-49ba-9ae2-d0f064de273b\"},{\"id\":\"6bf1f62b-3690-46f0-a907-ae76e253e04a\"}],\"margin\":0,\"sizing_mode\":\"stretch_width\",\"align\":\"start\"}},{\"type\":\"object\",\"name\":\"Column\",\"id\":\"5723b585-7d80-4b52-851b-643af666c446\",\"attributes\":{\"children\":[{\"type\":\"object\",\"name\":\"Div\",\"id\":\"da5ac495-470c-4519-8596-46e37568d104\",\"attributes\":{\"styles\":{\"type\":\"map\",\"entries\":[[\"white-space\",\"nowrap\"]]},\"width\":450,\"text\":\"<span style=\\\"color:black;font-family:Arial;font-style:bold;font-weight:bold;font-size:12pt\\\">Percentage of representatives who became senators</span>\"}},{\"type\":\"object\",\"name\":\"DataTable\",\"id\":\"05b8aaa6-e9f2-4439-bdc0-4e7d650c826e\",\"attributes\":{\"width\":650,\"height\":300,\"source\":{\"type\":\"object\",\"name\":\"ColumnDataSource\",\"id\":\"435fe37f-ea4c-4ab0-9c2d-e24c3dbdd299\",\"attributes\":{\"selected\":{\"type\":\"object\",\"name\":\"Selection\",\"id\":\"eb90b55a-0c93-4d1c-8939-b2c08dd88ddd\",\"attributes\":{\"indices\":[],\"line_indices\":[]}},\"selection_policy\":{\"type\":\"object\",\"name\":\"UnionRenderers\",\"id\":\"2df3df7d-95a3-4937-b3b0-421fe29f2131\"},\"data\":{\"type\":\"map\",\"entries\":[[\"cohort_century\",{\"type\":\"ndarray\",\"array\":{\"type\":\"bytes\",\"data\":\"EgAAABMAAAAUAAAAFQAAAA==\"},\"shape\":[4],\"dtype\":\"int32\",\"order\":\"little\"}],[\"pct_5_yrs\",{\"type\":\"ndarray\",\"array\":{\"type\":\"bytes\",\"data\":\"cF8HzhkRFEAwKqkT0ETsP4xK6gQ0EfA/AAAAAAAAEEA=\"},\"shape\":[4],\"dtype\":\"float64\",\"order\":\"little\"}],[\"pct_10_yrs\",{\"type\":\"ndarray\",\"array\":{\"type\":\"bytes\",\"data\":\"2c73U+NlI0DSAN4CCYoDQO5aQj7o2QtAlrIMcayLHkA=\"},\"shape\":[4],\"dtype\":\"float64\",\"order\":\"little\"}],[\"pct_15_yrs\",{\"type\":\"ndarray\",\"array\":{\"type\":\"bytes\",\"data\":\"+u3rwDnDLEAnMQisHFoQQF8HzhlRGhNA+MJkqmB0IUA=\"},\"shape\":[4],\"dtype\":\"float64\",\"order\":\"little\"}]]}}},\"view\":{\"type\":\"object\",\"name\":\"CDSView\",\"id\":\"4988f245-ed4b-4d59-a13c-38a5903ec818\",\"attributes\":{\"filter\":{\"type\":\"object\",\"name\":\"AllIndices\",\"id\":\"358f0533-6c8f-412d-9c1c-3c708fdcb2a3\"}}},\"columns\":[{\"type\":\"object\",\"name\":\"TableColumn\",\"id\":\"9515a722-769c-4cd7-b7b4-92be8513d27a\",\"attributes\":{\"field\":\"cohort_century\",\"title\":\"cohort_century\",\"formatter\":{\"type\":\"object\",\"name\":\"NumberFormatter\",\"id\":\"7f0e0bdd-0c7b-4b07-93d7-537ef124dc63\"},\"editor\":{\"type\":\"object\",\"name\":\"IntEditor\",\"id\":\"7a61ce43-3503-4287-8f43-89d04ed329d8\"}}},{\"type\":\"object\",\"name\":\"TableColumn\",\"id\":\"fe9e14fb-1e73-4738-8ec9-e909b92269d4\",\"attributes\":{\"field\":\"pct_5_yrs\",\"title\":\"pct_5_yrs\",\"formatter\":{\"type\":\"object\",\"name\":\"NumberFormatter\",\"id\":\"18f00aa7-e06b-4aa5-824e-522b16381c97\",\"attributes\":{\"format\":\"0,0.0[00000]\"}},\"editor\":{\"type\":\"object\",\"name\":\"NumberEditor\",\"id\":\"c6a95192-33ee-47bb-bd8e-516e5cdcae7a\"}}},{\"type\":\"object\",\"name\":\"TableColumn\",\"id\":\"986401c6-a27d-4d01-9376-24b18c4a5b21\",\"attributes\":{\"field\":\"pct_10_yrs\",\"title\":\"pct_10_yrs\",\"formatter\":{\"type\":\"object\",\"name\":\"NumberFormatter\",\"id\":\"918075ab-606c-4bed-8389-c2761602e608\",\"attributes\":{\"format\":\"0,0.0[00000]\"}},\"editor\":{\"type\":\"object\",\"name\":\"NumberEditor\",\"id\":\"2b47b32c-9549-4e87-b315-a76647aab75b\"}}},{\"type\":\"object\",\"name\":\"TableColumn\",\"id\":\"9f8128a1-b1a1-4b73-bd25-0910ba02ea9a\",\"attributes\":{\"field\":\"pct_15_yrs\",\"title\":\"pct_15_yrs\",\"formatter\":{\"type\":\"object\",\"name\":\"NumberFormatter\",\"id\":\"eca5a105-d9d8-4725-970e-ba366ab0fe88\",\"attributes\":{\"format\":\"0,0.0[00000]\"}},\"editor\":{\"type\":\"object\",\"name\":\"NumberEditor\",\"id\":\"0b7c1b63-39f6-47b6-ba59-6ebcf65e598d\"}}}],\"reorderable\":false}}]}},{\"type\":\"object\",\"name\":\"Spacer\",\"id\":\"a6e465d5-63a6-4e28-bcfa-5e4cfb194e3b\",\"attributes\":{\"name\":\"HSpacer54783\",\"stylesheets\":[\"\\n:host(.pn-loading.pn-arc):before, .pn-loading.pn-arc:before {\\n  background-image: url(\\\"data:image/svg+xml;base64,PHN2ZyB4bWxucz0iaHR0cDovL3d3dy53My5vcmcvMjAwMC9zdmciIHN0eWxlPSJtYXJnaW46IGF1dG87IGJhY2tncm91bmQ6IG5vbmU7IGRpc3BsYXk6IGJsb2NrOyBzaGFwZS1yZW5kZXJpbmc6IGF1dG87IiB2aWV3Qm94PSIwIDAgMTAwIDEwMCIgcHJlc2VydmVBc3BlY3RSYXRpbz0ieE1pZFlNaWQiPiAgPGNpcmNsZSBjeD0iNTAiIGN5PSI1MCIgZmlsbD0ibm9uZSIgc3Ryb2tlPSIjYzNjM2MzIiBzdHJva2Utd2lkdGg9IjEwIiByPSIzNSIgc3Ryb2tlLWRhc2hhcnJheT0iMTY0LjkzMzYxNDMxMzQ2NDE1IDU2Ljk3Nzg3MTQzNzgyMTM4Ij4gICAgPGFuaW1hdGVUcmFuc2Zvcm0gYXR0cmlidXRlTmFtZT0idHJhbnNmb3JtIiB0eXBlPSJyb3RhdGUiIHJlcGVhdENvdW50PSJpbmRlZmluaXRlIiBkdXI9IjFzIiB2YWx1ZXM9IjAgNTAgNTA7MzYwIDUwIDUwIiBrZXlUaW1lcz0iMDsxIj48L2FuaW1hdGVUcmFuc2Zvcm0+ICA8L2NpcmNsZT48L3N2Zz4=\\\");\\n  background-size: auto calc(min(50%, 400px));\\n}\",{\"id\":\"afb5de54-347b-48d4-9a66-0a340ef417d7\"},{\"id\":\"eabeccb3-7918-49ba-9ae2-d0f064de273b\"},{\"id\":\"6bf1f62b-3690-46f0-a907-ae76e253e04a\"}],\"margin\":0,\"sizing_mode\":\"stretch_width\",\"align\":\"start\"}}]}}],\"defs\":[{\"type\":\"model\",\"name\":\"ReactiveHTML1\"},{\"type\":\"model\",\"name\":\"FlexBox1\",\"properties\":[{\"name\":\"align_content\",\"kind\":\"Any\",\"default\":\"flex-start\"},{\"name\":\"align_items\",\"kind\":\"Any\",\"default\":\"flex-start\"},{\"name\":\"flex_direction\",\"kind\":\"Any\",\"default\":\"row\"},{\"name\":\"flex_wrap\",\"kind\":\"Any\",\"default\":\"wrap\"},{\"name\":\"justify_content\",\"kind\":\"Any\",\"default\":\"flex-start\"}]},{\"type\":\"model\",\"name\":\"FloatPanel1\",\"properties\":[{\"name\":\"config\",\"kind\":\"Any\",\"default\":{\"type\":\"map\"}},{\"name\":\"contained\",\"kind\":\"Any\",\"default\":true},{\"name\":\"position\",\"kind\":\"Any\",\"default\":\"right-top\"},{\"name\":\"offsetx\",\"kind\":\"Any\",\"default\":null},{\"name\":\"offsety\",\"kind\":\"Any\",\"default\":null},{\"name\":\"theme\",\"kind\":\"Any\",\"default\":\"primary\"},{\"name\":\"status\",\"kind\":\"Any\",\"default\":\"normalized\"}]},{\"type\":\"model\",\"name\":\"GridStack1\",\"properties\":[{\"name\":\"mode\",\"kind\":\"Any\",\"default\":\"warn\"},{\"name\":\"ncols\",\"kind\":\"Any\",\"default\":null},{\"name\":\"nrows\",\"kind\":\"Any\",\"default\":null},{\"name\":\"allow_resize\",\"kind\":\"Any\",\"default\":true},{\"name\":\"allow_drag\",\"kind\":\"Any\",\"default\":true},{\"name\":\"state\",\"kind\":\"Any\",\"default\":[]}]},{\"type\":\"model\",\"name\":\"drag1\",\"properties\":[{\"name\":\"slider_width\",\"kind\":\"Any\",\"default\":5},{\"name\":\"slider_color\",\"kind\":\"Any\",\"default\":\"black\"},{\"name\":\"value\",\"kind\":\"Any\",\"default\":50}]},{\"type\":\"model\",\"name\":\"click1\",\"properties\":[{\"name\":\"terminal_output\",\"kind\":\"Any\",\"default\":\"\"},{\"name\":\"debug_name\",\"kind\":\"Any\",\"default\":\"\"},{\"name\":\"clears\",\"kind\":\"Any\",\"default\":0}]},{\"type\":\"model\",\"name\":\"FastWrapper1\",\"properties\":[{\"name\":\"object\",\"kind\":\"Any\",\"default\":null},{\"name\":\"style\",\"kind\":\"Any\",\"default\":null}]},{\"type\":\"model\",\"name\":\"NotificationAreaBase1\",\"properties\":[{\"name\":\"js_events\",\"kind\":\"Any\",\"default\":{\"type\":\"map\"}},{\"name\":\"position\",\"kind\":\"Any\",\"default\":\"bottom-right\"},{\"name\":\"_clear\",\"kind\":\"Any\",\"default\":0}]},{\"type\":\"model\",\"name\":\"NotificationArea1\",\"properties\":[{\"name\":\"js_events\",\"kind\":\"Any\",\"default\":{\"type\":\"map\"}},{\"name\":\"notifications\",\"kind\":\"Any\",\"default\":[]},{\"name\":\"position\",\"kind\":\"Any\",\"default\":\"bottom-right\"},{\"name\":\"_clear\",\"kind\":\"Any\",\"default\":0},{\"name\":\"types\",\"kind\":\"Any\",\"default\":[{\"type\":\"map\",\"entries\":[[\"type\",\"warning\"],[\"background\",\"#ffc107\"],[\"icon\",{\"type\":\"map\",\"entries\":[[\"className\",\"fas fa-exclamation-triangle\"],[\"tagName\",\"i\"],[\"color\",\"white\"]]}]]},{\"type\":\"map\",\"entries\":[[\"type\",\"info\"],[\"background\",\"#007bff\"],[\"icon\",{\"type\":\"map\",\"entries\":[[\"className\",\"fas fa-info-circle\"],[\"tagName\",\"i\"],[\"color\",\"white\"]]}]]}]}]},{\"type\":\"model\",\"name\":\"Notification\",\"properties\":[{\"name\":\"background\",\"kind\":\"Any\",\"default\":null},{\"name\":\"duration\",\"kind\":\"Any\",\"default\":3000},{\"name\":\"icon\",\"kind\":\"Any\",\"default\":null},{\"name\":\"message\",\"kind\":\"Any\",\"default\":\"\"},{\"name\":\"notification_type\",\"kind\":\"Any\",\"default\":null},{\"name\":\"_destroyed\",\"kind\":\"Any\",\"default\":false}]},{\"type\":\"model\",\"name\":\"TemplateActions1\",\"properties\":[{\"name\":\"open_modal\",\"kind\":\"Any\",\"default\":0},{\"name\":\"close_modal\",\"kind\":\"Any\",\"default\":0}]},{\"type\":\"model\",\"name\":\"BootstrapTemplateActions1\",\"properties\":[{\"name\":\"open_modal\",\"kind\":\"Any\",\"default\":0},{\"name\":\"close_modal\",\"kind\":\"Any\",\"default\":0}]},{\"type\":\"model\",\"name\":\"MaterialTemplateActions1\",\"properties\":[{\"name\":\"open_modal\",\"kind\":\"Any\",\"default\":0},{\"name\":\"close_modal\",\"kind\":\"Any\",\"default\":0}]}]}};\n",
       "  var render_items = [{\"docid\":\"b7aa9f24-65b9-4ac3-90ec-570943df2a2f\",\"roots\":{\"6bc452e8-865d-4c61-ae7e-0eaf4f873955\":\"c5e29727-44e5-4bf8-906d-63a20b4eb59c\"},\"root_ids\":[\"6bc452e8-865d-4c61-ae7e-0eaf4f873955\"]}];\n",
       "  var docs = Object.values(docs_json)\n",
       "  if (!docs) {\n",
       "    return\n",
       "  }\n",
       "  const py_version = docs[0].version.replace('rc', '-rc.').replace('.dev', '-dev.')\n",
       "  const is_dev = py_version.indexOf(\"+\") !== -1 || py_version.indexOf(\"-\") !== -1\n",
       "  function embed_document(root) {\n",
       "    var Bokeh = get_bokeh(root)\n",
       "    Bokeh.embed.embed_items_notebook(docs_json, render_items);\n",
       "    for (const render_item of render_items) {\n",
       "      for (const root_id of render_item.root_ids) {\n",
       "\tconst id_el = document.getElementById(root_id)\n",
       "\tif (id_el.children.length && (id_el.children[0].className === 'bk-root')) {\n",
       "\t  const root_el = id_el.children[0]\n",
       "\t  root_el.id = root_el.id + '-rendered'\n",
       "\t}\n",
       "      }\n",
       "    }\n",
       "  }\n",
       "  function get_bokeh(root) {\n",
       "    if (root.Bokeh === undefined) {\n",
       "      return null\n",
       "    } else if (root.Bokeh.version !== py_version && !is_dev) {\n",
       "      if (root.Bokeh.versions === undefined || !root.Bokeh.versions.has(py_version)) {\n",
       "\treturn null\n",
       "      }\n",
       "      return root.Bokeh.versions.get(py_version);\n",
       "    } else if (root.Bokeh.version === py_version) {\n",
       "      return root.Bokeh\n",
       "    }\n",
       "    return null\n",
       "  }\n",
       "  function is_loaded(root) {\n",
       "    var Bokeh = get_bokeh(root)\n",
       "    return (Bokeh != null && Bokeh.Panel !== undefined)\n",
       "  }\n",
       "  if (is_loaded(root)) {\n",
       "    embed_document(root);\n",
       "  } else {\n",
       "    var attempts = 0;\n",
       "    var timer = setInterval(function(root) {\n",
       "      if (is_loaded(root)) {\n",
       "        clearInterval(timer);\n",
       "        embed_document(root);\n",
       "      } else if (document.readyState == \"complete\") {\n",
       "        attempts++;\n",
       "        if (attempts > 200) {\n",
       "          clearInterval(timer);\n",
       "\t  var Bokeh = get_bokeh(root)\n",
       "\t  if (Bokeh == null || Bokeh.Panel == null) {\n",
       "            console.warn(\"Panel: ERROR: Unable to run Panel code because Bokeh or Panel library is missing\");\n",
       "\t  } else {\n",
       "\t    console.warn(\"Panel: WARNING: Attempting to render but not all required libraries could be resolved.\")\n",
       "\t    embed_document(root)\n",
       "\t  }\n",
       "        }\n",
       "      }\n",
       "    }, 25, root)\n",
       "  }\n",
       "})(window);</script>"
      ],
      "text/plain": [
       ":Table   [cohort_century,pct_5_yrs,pct_10_yrs,pct_15_yrs]"
      ]
     },
     "execution_count": 398,
     "metadata": {
      "application/vnd.holoviews_exec.v0+json": {
       "id": "6bc452e8-865d-4c61-ae7e-0eaf4f873955"
      }
     },
     "output_type": "execute_result"
    }
   ],
   "source": [
    "plot_7 = data_7.hvplot(kind='table', \n",
    "                       title='Percentage of representatives who became senators', \n",
    "                      shared_axes=False,\n",
    "                      width=650, height=300)\n",
    "plot_7"
   ]
  },
  {
   "cell_type": "markdown",
   "id": "a906792e-0cc9-4ae7-91ba-d7638486cfef",
   "metadata": {},
   "source": [
    "# Percentage of legislators each year by first term centenary"
   ]
  },
  {
   "cell_type": "code",
   "execution_count": 399,
   "id": "f01c9f11-bfa7-4f10-bc7a-79b262812c46",
   "metadata": {
    "tags": []
   },
   "outputs": [
    {
     "name": "stdout",
     "output_type": "stream",
     "text": [
      "Connection to PostgreSQL DB successful\n"
     ]
    },
    {
     "data": {
      "text/plain": [
       "[datetime.date(1789, 12, 31),\n",
       " Decimal('100.0000000000000000'),\n",
       " Decimal('0'),\n",
       " Decimal('0'),\n",
       " Decimal('0')]"
      ]
     },
     "execution_count": 399,
     "metadata": {},
     "output_type": "execute_result"
    }
   ],
   "source": [
    "connection = create_connection(db_name, db_user, db_password, db_host, db_port)\n",
    "\n",
    "cursor = connection.cursor(cursor_factory=DictCursor)  \n",
    "# from psycopg2.extras import NamedTupleCursor | cursor_factory=NamedTupleCursor\n",
    "\n",
    "# Getting table values retail_sales\n",
    "cursor.execute(\"\"\"\n",
    "SELECT date\n",
    ",coalesce(sum(case when century = 18 then legislators end) * 100.0 / sum(legislators),0) as pct_18\n",
    ",coalesce(sum(case when century = 19 then legislators end) * 100.0 / sum(legislators),0) as pct_19\n",
    ",coalesce(sum(case when century = 20 then legislators end) * 100.0 / sum(legislators),0) as pct_20\n",
    ",coalesce(sum(case when century = 21 then legislators end) * 100.0 / sum(legislators),0) as pct_21\n",
    "FROM\n",
    "(\n",
    "        SELECT b.date\n",
    "        ,date_part('century',first_term)::int as century\n",
    "        ,count(distinct a.id_bioguide) as legislators\n",
    "        FROM legislators_terms a\n",
    "        JOIN (SELECT date,\n",
    "                            EXTRACT(YEAR FROM date) AS year,\n",
    "                            EXTRACT(MONTH FROM date) AS month_name,\n",
    "                            EXTRACT(DAY FROM date) AS day_of_month\n",
    "                    FROM\n",
    "                    (\n",
    "                        SELECT distinct make_date(date_part('year', term_start)::int,12,31) AS date\n",
    "                        FROM legislators_terms\n",
    "                        ORDER BY 1) date_dim) b on b.date between a.term_start and a.term_end \n",
    "        and b.month_name = 12 and b.day_of_month = 31 and b.year <= 2019\n",
    "        JOIN\n",
    "        (\n",
    "                SELECT id_bioguide, min(term_start) as first_term\n",
    "                FROM legislators_terms\n",
    "                GROUP BY 1\n",
    "        ) c on a.id_bioguide = c.id_bioguide        \n",
    "        GROUP BY 1,2\n",
    ") aa\n",
    "GROUP BY 1\n",
    "ORDER BY 1\n",
    ";\n",
    "\"\"\")\n",
    "data_8 = cursor.fetchall()\n",
    "cursor.close()  # Close the cursor\n",
    "connection.close()  # We close the connection\n",
    "data_8[0]"
   ]
  },
  {
   "cell_type": "code",
   "execution_count": 400,
   "id": "7990368e-1b22-45ae-b66b-670d14d4ff19",
   "metadata": {
    "tags": []
   },
   "outputs": [
    {
     "data": {
      "text/html": [
       "<div>\n",
       "<style scoped>\n",
       "    .dataframe tbody tr th:only-of-type {\n",
       "        vertical-align: middle;\n",
       "    }\n",
       "\n",
       "    .dataframe tbody tr th {\n",
       "        vertical-align: top;\n",
       "    }\n",
       "\n",
       "    .dataframe thead th {\n",
       "        text-align: right;\n",
       "    }\n",
       "</style>\n",
       "<table border=\"1\" class=\"dataframe\">\n",
       "  <thead>\n",
       "    <tr style=\"text-align: right;\">\n",
       "      <th></th>\n",
       "      <th>date</th>\n",
       "      <th>pct_18</th>\n",
       "      <th>pct_19</th>\n",
       "      <th>pct_20</th>\n",
       "      <th>pct_21</th>\n",
       "    </tr>\n",
       "  </thead>\n",
       "  <tbody>\n",
       "    <tr>\n",
       "      <th>0</th>\n",
       "      <td>1789-12-31</td>\n",
       "      <td>100.0000000000000000</td>\n",
       "      <td>0</td>\n",
       "      <td>0</td>\n",
       "      <td>0</td>\n",
       "    </tr>\n",
       "    <tr>\n",
       "      <th>1</th>\n",
       "      <td>1790-12-31</td>\n",
       "      <td>100.0000000000000000</td>\n",
       "      <td>0</td>\n",
       "      <td>0</td>\n",
       "      <td>0</td>\n",
       "    </tr>\n",
       "    <tr>\n",
       "      <th>2</th>\n",
       "      <td>1791-12-31</td>\n",
       "      <td>100.0000000000000000</td>\n",
       "      <td>0</td>\n",
       "      <td>0</td>\n",
       "      <td>0</td>\n",
       "    </tr>\n",
       "    <tr>\n",
       "      <th>3</th>\n",
       "      <td>1792-12-31</td>\n",
       "      <td>100.0000000000000000</td>\n",
       "      <td>0</td>\n",
       "      <td>0</td>\n",
       "      <td>0</td>\n",
       "    </tr>\n",
       "    <tr>\n",
       "      <th>4</th>\n",
       "      <td>1793-12-31</td>\n",
       "      <td>100.0000000000000000</td>\n",
       "      <td>0</td>\n",
       "      <td>0</td>\n",
       "      <td>0</td>\n",
       "    </tr>\n",
       "  </tbody>\n",
       "</table>\n",
       "</div>"
      ],
      "text/plain": [
       "         date                pct_18 pct_19 pct_20 pct_21\n",
       "0  1789-12-31  100.0000000000000000      0      0      0\n",
       "1  1790-12-31  100.0000000000000000      0      0      0\n",
       "2  1791-12-31  100.0000000000000000      0      0      0\n",
       "3  1792-12-31  100.0000000000000000      0      0      0\n",
       "4  1793-12-31  100.0000000000000000      0      0      0"
      ]
     },
     "execution_count": 400,
     "metadata": {},
     "output_type": "execute_result"
    }
   ],
   "source": [
    "# Let's convert to DataFrame\n",
    "data_8 = pd.DataFrame(data_8, columns=['date','pct_18', 'pct_19', 'pct_20', 'pct_21'])\n",
    "data_8.head()"
   ]
  },
  {
   "cell_type": "code",
   "execution_count": 401,
   "id": "19523cde-44d5-465d-9697-55fc4a66ed80",
   "metadata": {
    "tags": []
   },
   "outputs": [
    {
     "data": {
      "text/plain": [
       "date       object\n",
       "pct_18    float64\n",
       "pct_19    float64\n",
       "pct_20    float64\n",
       "pct_21    float64\n",
       "dtype: object"
      ]
     },
     "execution_count": 401,
     "metadata": {},
     "output_type": "execute_result"
    }
   ],
   "source": [
    "data_8['pct_18'] = data_8['pct_18'].astype('float')\n",
    "data_8['pct_19'] = data_8['pct_19'].astype('float')\n",
    "data_8['pct_20'] = data_8['pct_20'].astype('float')\n",
    "data_8['pct_21'] = data_8['pct_21'].astype('float')\n",
    "data_8.dtypes"
   ]
  },
  {
   "cell_type": "code",
   "execution_count": 402,
   "id": "dd4bae43-e3c9-4c9a-82f5-b9186ecff309",
   "metadata": {
    "tags": []
   },
   "outputs": [
    {
     "data": {},
     "metadata": {},
     "output_type": "display_data"
    },
    {
     "data": {
      "application/vnd.holoviews_exec.v0+json": "",
      "text/html": [
       "<div id='8602115a-4d6a-4774-9f98-871e6d9e3b7e'>\n",
       "  <div id=\"ab80a0d2-1b61-4867-9e67-bf596799251f\" data-root-id=\"8602115a-4d6a-4774-9f98-871e6d9e3b7e\" style=\"display: contents;\"></div>\n",
       "</div>\n",
       "<script type=\"application/javascript\">(function(root) {\n",
       "  var docs_json = {\"0ca59bdf-a133-4f4f-8374-2d41ec211fd4\":{\"version\":\"3.2.1\",\"title\":\"Bokeh Application\",\"roots\":[{\"type\":\"object\",\"name\":\"Row\",\"id\":\"8602115a-4d6a-4774-9f98-871e6d9e3b7e\",\"attributes\":{\"name\":\"Row55018\",\"tags\":[\"embedded\"],\"stylesheets\":[\"\\n:host(.pn-loading.pn-arc):before, .pn-loading.pn-arc:before {\\n  background-image: url(\\\"data:image/svg+xml;base64,PHN2ZyB4bWxucz0iaHR0cDovL3d3dy53My5vcmcvMjAwMC9zdmciIHN0eWxlPSJtYXJnaW46IGF1dG87IGJhY2tncm91bmQ6IG5vbmU7IGRpc3BsYXk6IGJsb2NrOyBzaGFwZS1yZW5kZXJpbmc6IGF1dG87IiB2aWV3Qm94PSIwIDAgMTAwIDEwMCIgcHJlc2VydmVBc3BlY3RSYXRpbz0ieE1pZFlNaWQiPiAgPGNpcmNsZSBjeD0iNTAiIGN5PSI1MCIgZmlsbD0ibm9uZSIgc3Ryb2tlPSIjYzNjM2MzIiBzdHJva2Utd2lkdGg9IjEwIiByPSIzNSIgc3Ryb2tlLWRhc2hhcnJheT0iMTY0LjkzMzYxNDMxMzQ2NDE1IDU2Ljk3Nzg3MTQzNzgyMTM4Ij4gICAgPGFuaW1hdGVUcmFuc2Zvcm0gYXR0cmlidXRlTmFtZT0idHJhbnNmb3JtIiB0eXBlPSJyb3RhdGUiIHJlcGVhdENvdW50PSJpbmRlZmluaXRlIiBkdXI9IjFzIiB2YWx1ZXM9IjAgNTAgNTA7MzYwIDUwIDUwIiBrZXlUaW1lcz0iMDsxIj48L2FuaW1hdGVUcmFuc2Zvcm0+ICA8L2NpcmNsZT48L3N2Zz4=\\\");\\n  background-size: auto calc(min(50%, 400px));\\n}\",{\"type\":\"object\",\"name\":\"ImportedStyleSheet\",\"id\":\"b8ab42bd-1b7a-4d49-b339-66d114940db7\",\"attributes\":{\"url\":\"https://cdn.holoviz.org/panel/1.2.1/dist/css/loading.css\"}},{\"type\":\"object\",\"name\":\"ImportedStyleSheet\",\"id\":\"fd59d3d5-7e73-4d9d-a948-d2ff3746106b\",\"attributes\":{\"url\":\"https://cdn.holoviz.org/panel/1.2.1/dist/css/listpanel.css\"}},{\"type\":\"object\",\"name\":\"ImportedStyleSheet\",\"id\":\"cfcaffcf-7e3e-4290-8cdc-aa42d5fe54ba\",\"attributes\":{\"url\":\"https://cdn.holoviz.org/panel/1.2.1/dist/bundled/theme/default.css\"}},{\"type\":\"object\",\"name\":\"ImportedStyleSheet\",\"id\":\"eecedbdf-0e7c-4b21-b3f4-e29d8f8800c2\",\"attributes\":{\"url\":\"https://cdn.holoviz.org/panel/1.2.1/dist/bundled/theme/native.css\"}}],\"min_width\":1200,\"margin\":0,\"sizing_mode\":\"stretch_width\",\"align\":\"start\",\"children\":[{\"type\":\"object\",\"name\":\"Spacer\",\"id\":\"c17e7e30-679e-4878-bead-a29b8b3b8068\",\"attributes\":{\"name\":\"HSpacer55029\",\"stylesheets\":[\"\\n:host(.pn-loading.pn-arc):before, .pn-loading.pn-arc:before {\\n  background-image: url(\\\"data:image/svg+xml;base64,PHN2ZyB4bWxucz0iaHR0cDovL3d3dy53My5vcmcvMjAwMC9zdmciIHN0eWxlPSJtYXJnaW46IGF1dG87IGJhY2tncm91bmQ6IG5vbmU7IGRpc3BsYXk6IGJsb2NrOyBzaGFwZS1yZW5kZXJpbmc6IGF1dG87IiB2aWV3Qm94PSIwIDAgMTAwIDEwMCIgcHJlc2VydmVBc3BlY3RSYXRpbz0ieE1pZFlNaWQiPiAgPGNpcmNsZSBjeD0iNTAiIGN5PSI1MCIgZmlsbD0ibm9uZSIgc3Ryb2tlPSIjYzNjM2MzIiBzdHJva2Utd2lkdGg9IjEwIiByPSIzNSIgc3Ryb2tlLWRhc2hhcnJheT0iMTY0LjkzMzYxNDMxMzQ2NDE1IDU2Ljk3Nzg3MTQzNzgyMTM4Ij4gICAgPGFuaW1hdGVUcmFuc2Zvcm0gYXR0cmlidXRlTmFtZT0idHJhbnNmb3JtIiB0eXBlPSJyb3RhdGUiIHJlcGVhdENvdW50PSJpbmRlZmluaXRlIiBkdXI9IjFzIiB2YWx1ZXM9IjAgNTAgNTA7MzYwIDUwIDUwIiBrZXlUaW1lcz0iMDsxIj48L2FuaW1hdGVUcmFuc2Zvcm0+ICA8L2NpcmNsZT48L3N2Zz4=\\\");\\n  background-size: auto calc(min(50%, 400px));\\n}\",{\"id\":\"b8ab42bd-1b7a-4d49-b339-66d114940db7\"},{\"id\":\"cfcaffcf-7e3e-4290-8cdc-aa42d5fe54ba\"},{\"id\":\"eecedbdf-0e7c-4b21-b3f4-e29d8f8800c2\"}],\"margin\":0,\"sizing_mode\":\"stretch_width\",\"align\":\"start\"}},{\"type\":\"object\",\"name\":\"Figure\",\"id\":\"d7d1a1b9-36d7-4f00-9953-5759bc46c106\",\"attributes\":{\"width\":1200,\"height\":325,\"margin\":[5,10],\"sizing_mode\":\"fixed\",\"align\":\"start\",\"x_range\":{\"type\":\"object\",\"name\":\"Range1d\",\"id\":\"d57e2146-1e30-432a-8b99-8079d1fa5b44\",\"attributes\":{\"tags\":[[[\"date\",\"date\",null]],[]],\"start\":-5680281600000.0,\"end\":1577750400000.0,\"reset_start\":-5680281600000.0,\"reset_end\":1577750400000.0}},\"y_range\":{\"type\":\"object\",\"name\":\"Range1d\",\"id\":\"621d13f1-cced-4cf1-a46c-57df88688711\",\"attributes\":{\"tags\":[[[\"value\",\"value\",null]],{\"type\":\"map\",\"entries\":[[\"invert_yaxis\",false],[\"autorange\",false]]}],\"end\":100,\"reset_start\":0,\"reset_end\":100}},\"x_scale\":{\"type\":\"object\",\"name\":\"LinearScale\",\"id\":\"d937b20a-539d-4c9c-a93e-c8e76c8f2ab4\"},\"y_scale\":{\"type\":\"object\",\"name\":\"LinearScale\",\"id\":\"283a8cba-1821-468a-8a03-db048fdccf26\"},\"title\":{\"type\":\"object\",\"name\":\"Title\",\"id\":\"4c0637cb-c6cc-44e2-ac7e-65b40788b664\",\"attributes\":{\"text\":\"Percentage of legislators each year by first term centenary\",\"text_color\":\"black\",\"text_font_size\":\"12pt\"}},\"renderers\":[{\"type\":\"object\",\"name\":\"GlyphRenderer\",\"id\":\"66068e74-13e9-423e-b368-089a5d1c28e0\",\"attributes\":{\"name\":\"pct_18\",\"data_source\":{\"type\":\"object\",\"name\":\"ColumnDataSource\",\"id\":\"6144674d-232d-4e95-8ea3-50b44e92349c\",\"attributes\":{\"selected\":{\"type\":\"object\",\"name\":\"Selection\",\"id\":\"b082c386-3e95-4040-a4df-5e557882ca8a\",\"attributes\":{\"indices\":[],\"line_indices\":[]}},\"selection_policy\":{\"type\":\"object\",\"name\":\"UnionRenderers\",\"id\":\"6541bd84-6d81-4838-afd1-47b79083ba56\"},\"data\":{\"type\":\"map\",\"entries\":[[\"x\",{\"type\":\"ndarray\",\"array\":{\"type\":\"bytes\",\"data\":\"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\"},\"shape\":[458],\"dtype\":\"float64\",\"order\":\"little\"}],[\"y\",{\"type\":\"ndarray\",\"array\":{\"type\":\"bytes\",\"data\":\"AAAAAAAAAAAAAAAAAAAAAAAAAAAAAAAAAAAAAAAAAAAAAAAAAAAAAAAAAAAAAAAAAAAAAAAAAAAAAAAAAAAAAAAAAAAAAAAAAAAAAAAAAAAAAAAAAAAAAAAAAAAAAAAAAAAAAAAAAAAAAAAAAAAAAAAAAAAAAAAAAAAAAAAAAAAAAAAAAAAAAAAAAAAAAAAAAAAAAAAAAAAAAAAAAAAAAAAAAAAAAAAAAAAAAAAAAAAAAAAAAAAAAAAAAAAAAAAAAAAAAAAAAAAAAAAAAAAAAAAAAAAAAAAAAAAAAAAAAAAAAAAAAAAAAAAAAAAAAAAAAAAAAAAAAAAAAAAAAAAAAAAAAAAAAAAAAAAAAAAAAAAAAAAAAAAAAAAAAAAAAAAAAAAAAAAAAAAAAAAAAAAAAAAAAAAAAAAAAAAAAAAAAAAAAAAAAAAAAAAAAAAAAAAAAAAAAAAAAAAAAAAAAAAAAAAAAAAAAAAAAAAAAAAAAAAAAAAAAAAAAAAAAAAAAAAAAAAAAAAAAAAAAAAAAAAAAAAAAAAAAAAAAAAAAAAAAAAAAAAAAAAAAAAAAAAAAAAAAAAAAAAAAAAAAAAAAAAAAAAAAAAAAAAAAAAAAAAAAAAAAAAAAAAAAAAAAAAAAAAAAAAAAAAAAAAAAAAAAAAAAAAAAAAAAAAAAAAAAAAAAAAAAAAAAAAAAAAAAAAAAAAAAAAAAAAAAAAAAAAAAAAAAAAAAAAAAAAAAAAAAAAAAAAAAAAAAAAAAAAAAAAAAAAAAAAAAAAAAAAAAAAAAAAAAAAAAAAAAAAAAAAAAAAAAAAAAAAAAAAAAAAAAAAAAAAAAAAAAAAAAAAAAAAAAAAAAAAAAAAAAAAAAAAAAAAAAAAAAAAAAAAAAAAAAAAAAAAAAAAAAAAAAAAAAAAAAAAAAAAAAAAAAAAAAAAAAAAAAAAAAAAAAAAAAAAAAAAAAAAAAAAAAAAAAAAAAAAAAAAAAAAAAAAAAAAAAAAAAAAAAAAAAAAAAAAAAAAAAAAAAAAAAAAAAAAAAAAAAAAAAAAAAAAAAAAAAAAAAAAAAAAAAAAAAAAAAAAAAAAAAAAAAAAAAAAAAAAAAAAAAAAAAAAAAAAAAAAAAAAAAAAAAAAAAAAAAAAAAAAAAAAAAAAAAAAAAAAAAAAAAAAAAAAAAAAAAAAAAAAAAAAAAAAAAAAAAAAAAAAAAAAAAAAAAAAAAAAAAAAAAAAAAAAAAAAAAAAAAAAAAAAAAAAAAAAAAAAAAAAAAAAAAAAAAAAAAAAAAAAAAAAAAAAAAAAAAAAAAAAAAAAAAAAAAAAAAAAAAAAAAAAAAAAAAAAAAAAAAAAAAAAAAAAAAAAAAAAAAAAAAAAAAAAAAAAAAAAAAAAAAAAAAAAAAAAAAAAAAAAAAAAAAAAAAAAAAAAAAAAAAAAAAAAAAAAAAAAAAAAAAAAAAAAAAAAAAAAAAAAAAAAAAAAAAAAAAAAAAAAAAAAAAAAAAAAAAAAAAAAAAAAAAAAAAAAAAAAAAAAAAAAAAAAAAAAAAAAAAAAAAAAAAAAAAAAAAAAAAAAAAAAAAAAAAAAAAAAAAAAAAAAAAAAAAAAAAAAAAAAAAAAAAAAAAAAAAAAAAAAAAAAAAAAAAAAAAAAAAAAAAAAAAAAAAAAAAAAAAAAAAAAAAAAAAAAAAAAAAAAAAAAAAAAAAAAAAAAAAAAAAAAAAAAAAAAAAAAAAAAAAAAAAAAAAAAAAAAAAAAAAAAAAAAAAAAAAAAAAAAAAAAAAAAAAAAAAAAAAAAAAAAAAAAAAAAAAAAAAAAAAAAAAAAAAAAAAAAAAAAAAAAAAAAAAAAAAAAAAAAAAAAAAAAAAAAAAAAAAAAAAAAAAAAAAAAAAAAAAAAAAAAAAAAAAAAAAAAAAAAAAAAAAAAAAAAAAAAAAAAAAAAAAAAAAAAAAAAAAAAAAAAAAAAAAAAAAAAAAAAAAAAAAAAAAAAAAAAAAAAAAAAAAAAAAAAAAAAAAAAAAAAAAAAAAAAAAAAAAAAAAAAAAAAAAAAAAAAAAAAAAAAAAAAAAAAAAAAAAAAAAAAAAAAAAAAAAAAAAAAAAAAAAAAAAAAAAAAAAAAAAAAAAAAAAAAAAAAAAAAAAAAAAAAAAAAAAAAAAAAAAAAAAAAAAAAAAAAAAAAAAAAAAAAAAAAAAAAAAAAAAAAAAAAAAAAAAAAAAAAAAAAAAAAAAAAAAAAAAAAAAAAAAAAAAAAAAAAAAAAAAAAAAAAAAAAAAAAAAAAAAAAAAAAAAAAAAAAAAAAAAAAAAAAAAAAAAAAAAAAAAAAAAAAAAAAAAAAAAAAAAAAAAAAAAAAAAAAAAAAAAAAAAAAAAAAAAAAAAAAAAAAAAAAAAAAAAAAAAAAAAAAAAAAAAAAAAAAAAAAAAAAAAAAAAAAAAAAAAAAAAAAAAAAAAAAAAAAAAAAAAAAAAAAAAAAAAAAAAAAAAAAAAAAAAAAAAAAAAAAAAAAAAAAAAAAAAAAAAAAAAAAAAAAAAAAAAAAAAAAAAAAAAAAAAAAAAAAAAAAAAAAAAAAAAAAAAAAAAAAAAAAAAAAAAAAAAAAAAAAAAAAAAAAAAAAAAAAAAAAAAAAAAAAAAAAAAAAAAAAAAAAAAAAAAAAAAAAAAAAAAAAAAAAAAAAAAAAAAAAAAAAAAAAAAAAAAAAAAAAAAAAAAAAAAAAAAAAAAAAAAAAAAAAAAAAAAAAAAAAAAAAAAAAAAAAAAAAAAAAAAAAAAAAAAAAAAAAAAAAAAAAAAAAAAAAAAAAAAAAAAAAAAAAAAAAAAAAAAAAAAAAAAAAAAAAAAAAAAAAAAAAAAAAAAAAAAAAAAAAAAAAAAAAAAAAAAAAAAAAAAAAAAAAAAAAAAAAAAAAAAAAAAAAAAAAAAAAAAAAAAAAAAAAAAAAAAAAAAAAAAAAAAAAAAAAAAAAAAAAAAAAAAAAAAAAAAAAAAAAAAAAAAAAAAAAAAAAAAAAAAAAAAAAAAAAAAAAAAAAAAAAAAAAAAAAAAAAAAAAAAAAAAAAAAAAAAAAAAAAAAAAAAAAAAAAAAAAAAAAAAAAAAAAAAAAAAAAAAAAAAAAAAAAAAAAAAAAAAAAAAAAAAAAAAAAAAAAAAAAAAAAAAAAAAAAAAAAAAAAAAAAAAAAAAAAAAAAAAAAAAAAAAAAAAAAAAAAAAAAAAAAAAAAAAAAAAAAAAAAAAAAAAAAAAAAAAAAAAAAAAAAAAAAAAAAAAAAAAAAAAAAAAAAAAAAAAAAAAAAAAAAAAAAAAAAAAAAAAAAAAAAAAAAAAAAAAAAAAAAAAAAAAAAAAAAAAAAAAAAAAAAAAAAAAAAAAAAAAAAAAAAAAAAAAAAAAAAAAAAAAAAAAAAAAAAAAAAAAAAAAAAAAAAAAAAAAAAAAAAAAAAAAAAAAAAAAAAAAAAAAAAAAAAAAAAAAAAAAAAAAAAAAAAAAAAAAAAAAAAAAAAAAAAAAAAAAAAAAAAAAAAAAAAAAAAAAAAAAAAAAAAAAAAAAAAAAAAAAAAAAAAAAAAAAAAAAAAAAAAAAAAAAAAAAAAAAAAAAAAAAAAAAAAAAAAAAAAAAAAAAAAAAAAAAAAAAAAAAAAAAAAAAAAAAAAAAAAAAAAAAAAAAAAAAAAAAAAAAAAAAAAAAAAAAAAAAAAAAAAAAAAAAAAAAAAAAAAAAAAAAAAAAAAAAAAAAAAAAAAAAAAAAAAAAAAAAAAAAAAAAAAAAAAAAAAAAAAAAAAAAAAAAAAAAAAAAAAAAAAAAAAAAAAAAAAAAAAAAAAAAAAAAAAAAAAAAAAAAAAAAAAAAAAAAAAAAAAAAAAAAAAAAAAAAAAAAAAAAAAAAAAAAAAAAAAAAAAAAAAAAAAAAAAAAAAAAAAAAAAAAAAAAAAAAAAAAAAAAAAAAAAAAAAAAAAAAAAAAAAAAAAAAAAAAAAAAAAAAAAAAAAAAAAAAAAAAAAAAAAAAAAAAAAAAAAAAAAAAAAAAAAAAAAAAAAAAAAAAAAAAAAAAAAAAAAAAAAAAAAAAAAAAAAAAAAAAAAAAAAAAAAAAAAAAAAAAAAAAAAAAAAAAAAAAAAAAAAAAAAAAAAAAAAAAAAAAAAAAAAAAAAAAAAAAAAAAAAAAAAAAAAAAAAAAAAAAAAAAAAAAAAAAAAAAAAAAAAAAAAAAAAAAAAAAAAAAAAAAAAAAAAAAAAAAAAAAAAAAAAAAAAAAAAAAAAAAAAAAAAAAAAAAAAAAAAAAAAAAAAAAAAAAAAAAAAAAAAAAAAAAAAAAAAAAAAAAAAAAAAAAAAAAAAAAAAAAAAAAAAAAAAAAAAAAAAAAAAAAAAAAAAAAAAAAAAAAAAAAAAAAAAAAAAAAAAAAAAAAAAAAAAAAAAAAAAAAAAAAAAAAAAAAAAAAAAAAAAKrMnNKpTUP5mK55rVYdQ/pNNvK80a5z8WspCFLGTxP5vBW8Rm8PY/pNNvK80a9z800UQTTTQBQC/ZAYZzNwRA/HapJ+O3A0C3bdu2bdsGQBwpGuKPWwdAiIeHh4eHB0AaYbmnEZYLQG1JW9KWtAVAd9Lw+qiNFEAzMzMzMzMTQO7qm+T9dRBA4ttB4ttBEkDgLDw/pochQBGQ81MJASFADcE62rxPJUDDxPuR03wlQF3XdV3XdTFAL7rooosuMkA+rgKCIdkyQGmQBmmQBjVAkWwRzVmDNkCrqqqqquo2QFVVVVVVpTxAC2JyBTG5PEDKFcTkCuJCQDi96U1vekJAtNpZ7ax2TkBa+QlxVn5PQAAAAAAAAFlAAAAAAAAAWUAAAAAAAABZQAAAAAAAAFlAAAAAAAAAWUAAAAAAAABZQAAAAAAAAFlAAAAAAAAAWUAAAAAAAABZQAAAAAAAAFlAAAAAAAAAWUAAAAAAAABZQA==\"},\"shape\":[458],\"dtype\":\"float64\",\"order\":\"little\"}]]}}},\"view\":{\"type\":\"object\",\"name\":\"CDSView\",\"id\":\"f0dd95d1-9578-47b7-91af-00028de7b158\",\"attributes\":{\"filter\":{\"type\":\"object\",\"name\":\"AllIndices\",\"id\":\"0cb45af3-5973-4bd8-b969-cf9df58f9849\"}}},\"glyph\":{\"type\":\"object\",\"name\":\"Patch\",\"id\":\"1e596cb6-d4e2-42f5-89e3-2c4517b004b3\",\"attributes\":{\"tags\":[\"apply_ranges\"],\"x\":{\"type\":\"field\",\"field\":\"x\"},\"y\":{\"type\":\"field\",\"field\":\"y\"},\"fill_color\":\"#30a2da\",\"hatch_color\":\"#30a2da\"}},\"selection_glyph\":{\"type\":\"object\",\"name\":\"Patch\",\"id\":\"eb671723-af56-458f-87a8-8c445b8eba5e\",\"attributes\":{\"tags\":[\"apply_ranges\"],\"x\":{\"type\":\"field\",\"field\":\"x\"},\"y\":{\"type\":\"field\",\"field\":\"y\"},\"fill_color\":\"#30a2da\",\"hatch_color\":\"#30a2da\"}},\"nonselection_glyph\":{\"type\":\"object\",\"name\":\"Patch\",\"id\":\"90eea3f9-faa9-4199-9d06-60c4c4455b22\",\"attributes\":{\"tags\":[\"apply_ranges\"],\"x\":{\"type\":\"field\",\"field\":\"x\"},\"y\":{\"type\":\"field\",\"field\":\"y\"},\"line_alpha\":1,\"fill_color\":\"#30a2da\",\"fill_alpha\":1,\"hatch_color\":\"#30a2da\",\"hatch_alpha\":0.1}},\"muted_glyph\":{\"type\":\"object\",\"name\":\"Patch\",\"id\":\"030786d5-d3f9-48b9-8d94-fa19d064e897\",\"attributes\":{\"tags\":[\"apply_ranges\"],\"x\":{\"type\":\"field\",\"field\":\"x\"},\"y\":{\"type\":\"field\",\"field\":\"y\"},\"line_alpha\":0.2,\"fill_color\":\"#30a2da\",\"fill_alpha\":0.2,\"hatch_color\":\"#30a2da\",\"hatch_alpha\":0.2}}}},{\"type\":\"object\",\"name\":\"GlyphRenderer\",\"id\":\"3c8f80ba-12d4-4f79-9f0a-f3accf37693e\",\"attributes\":{\"name\":\"pct_19\",\"data_source\":{\"type\":\"object\",\"name\":\"ColumnDataSource\",\"id\":\"c7c6ab20-9347-4e84-8d77-15ea941c7fc1\",\"attributes\":{\"selected\":{\"type\":\"object\",\"name\":\"Selection\",\"id\":\"15abc578-49fd-4b09-a488-fb7ada7cf7c0\",\"attributes\":{\"indices\":[],\"line_indices\":[]}},\"selection_policy\":{\"type\":\"object\",\"name\":\"UnionRenderers\",\"id\":\"2eac3a2f-5324-429a-bddc-e4d5953e4de7\"},\"data\":{\"type\":\"map\",\"entries\":[[\"x\",{\"type\":\"ndarray\",\"array\":{\"type\":\"bytes\",\"data\":\"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\"},\"shape\":[458],\"dtype\":\"float64\",\"order\":\"little\"}],[\"y\",{\"type\":\"ndarray\",\"array\":{\"type\":\"bytes\",\"data\":\"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\"},\"shape\":[458],\"dtype\":\"float64\",\"order\":\"little\"}]]}}},\"view\":{\"type\":\"object\",\"name\":\"CDSView\",\"id\":\"432f5a72-fd23-4cb4-afb0-8e96a1a9483c\",\"attributes\":{\"filter\":{\"type\":\"object\",\"name\":\"AllIndices\",\"id\":\"ececfcb3-c190-45d7-8995-836459e04057\"}}},\"glyph\":{\"type\":\"object\",\"name\":\"Patch\",\"id\":\"35beac56-c889-4b5c-bd93-6202bb318531\",\"attributes\":{\"tags\":[\"apply_ranges\"],\"x\":{\"type\":\"field\",\"field\":\"x\"},\"y\":{\"type\":\"field\",\"field\":\"y\"},\"fill_color\":\"#fc4f30\",\"hatch_color\":\"#fc4f30\"}},\"selection_glyph\":{\"type\":\"object\",\"name\":\"Patch\",\"id\":\"c40ae64c-fc31-4c7c-9562-e1ab15805698\",\"attributes\":{\"tags\":[\"apply_ranges\"],\"x\":{\"type\":\"field\",\"field\":\"x\"},\"y\":{\"type\":\"field\",\"field\":\"y\"},\"fill_color\":\"#fc4f30\",\"hatch_color\":\"#fc4f30\"}},\"nonselection_glyph\":{\"type\":\"object\",\"name\":\"Patch\",\"id\":\"0d27e246-8155-4704-919d-297eb6762755\",\"attributes\":{\"tags\":[\"apply_ranges\"],\"x\":{\"type\":\"field\",\"field\":\"x\"},\"y\":{\"type\":\"field\",\"field\":\"y\"},\"line_alpha\":1,\"fill_color\":\"#fc4f30\",\"fill_alpha\":1,\"hatch_color\":\"#fc4f30\",\"hatch_alpha\":0.1}},\"muted_glyph\":{\"type\":\"object\",\"name\":\"Patch\",\"id\":\"32c61a01-1710-4efd-b00e-d8b044ea95c8\",\"attributes\":{\"tags\":[\"apply_ranges\"],\"x\":{\"type\":\"field\",\"field\":\"x\"},\"y\":{\"type\":\"field\",\"field\":\"y\"},\"line_alpha\":0.2,\"fill_color\":\"#fc4f30\",\"fill_alpha\":0.2,\"hatch_color\":\"#fc4f30\",\"hatch_alpha\":0.2}}}},{\"type\":\"object\",\"name\":\"GlyphRenderer\",\"id\":\"1b7ab576-f876-468f-adbb-3ae610afde32\",\"attributes\":{\"name\":\"pct_20\",\"data_source\":{\"type\":\"object\",\"name\":\"ColumnDataSource\",\"id\":\"a958172e-5a1a-45c9-89f6-9c0b31f553ec\",\"attributes\":{\"selected\":{\"type\":\"object\",\"name\":\"Selection\",\"id\":\"16438398-4282-4872-867d-2f91a85b14a2\",\"attributes\":{\"indices\":[],\"line_indices\":[]}},\"selection_policy\":{\"type\":\"object\",\"name\":\"UnionRenderers\",\"id\":\"2648c543-4156-48cc-b909-80ab561e496b\"},\"data\":{\"type\":\"map\",\"entries\":[[\"x\",{\"type\":\"ndarray\",\"array\":{\"type\":\"bytes\",\"data\":\"AAAAqyyqlMIAAFDmzYyUwgAAoCFvb5TCAACAw/tRlMIAAND+nDSUwgAAIDo+F5TCAABwdd/5k8IAAFAXbNyTwgAAoFINv5PCAADwja6hk8IAAEDJT4STwgAAkATxZpPCAADgP5JJk8IAADB7MyyTwgAAgLbUDpPCAABgWGHxksIAALCTAtSSwgAAAM+jtpLCAABQCkWZksIAADCs0XuSwgAAgOdyXpLCAADQIhRBksIAACBetSOSwgAAAABCBpLCAABQO+PokcIAAKB2hMuRwgAA8LElrpHCAADQU7KQkcIAACCPU3ORwgAAcMr0VZHCAADABZY4kcIAAKCnIhuRwgAA8OLD/ZDCAABAHmXgkMIAAJBZBsOQwgAAcPuSpZDCAADANjSIkMIAABBy1WqQwgAAYK12TZDCAABATwMwkMIAAJCKpBKQwgAAwIuL6o/CAABgAs6vj8IAACBG53SPwgAAwLwpOo/CAABgM2z/jsIAAACqrsSOwgAAwO3HiY7CAABgZApPjsIAAADbTBSOwgAAoFGP2Y3CAABglaiejcIAAAAM62ONwgAAoIItKY3CAABA+W/ujMIAAAA9ibOMwgAAoLPLeIzCAABAKg4+jMIAAOCgUAOMwgAAoORpyIvCAABAW6yNi8IAAODR7lKLwgAAgEgxGIvCAABAjErdisIAAOACjaKKwgAAgHnPZ4rCAAAg8BEtisIAAOAzK/KJwgAAgKptt4nCAAAgIbB8icIAAMCX8kGJwgAAgNsLB4nCAAAgUk7MiMIAAMDIkJGIwgAAYD/TVojCAAAgg+wbiMIAAMD5LuGHwgAAYHBxpofCAAAA57Nrh8IAAMAqzTCHwgAAYKEP9obCAAAAGFK7hsIAAKCOlICGwgAAYNKtRYbCAAAASfAKhsIAAKC/MtCFwgAAQDZ1lYXCAAAAeo5ahcIAAKDw0B+FwgAA4N1VqoTCAACgIW9vhMIAAECYsTSEwgAA4A70+YPCAACAhTa/g8IAAEDJT4SDwgAA4D+SSYPCAACAttQOg8IAACAtF9SCwgAAgOdyXoLCAAAgXrUjgsIAAMDU9+iBwgAAgBgRroHCAAAgj1NzgcIAAMAFljiBwgAAYHzY/YDCAAAgwPHCgMIAAMA2NIiAwgAAYK12TYDCAAAAJLkSgMIAAEA1969/wgAAgCJ8On/CAADADwHFfsIAAAD9hU9+wgAAgIS42X3CAADAcT1kfcIAAABfwu58wgAAQExHeXzCAADA03kDfMIAAADB/o17wgAAQK6DGHvCAACAmwijesIAAAAjOy16wgAAQBDAt3nCAACA/URCecIAAMDqycx4wgAAQHL8VnjCAACAX4Hhd8IAAMBMBmx3wgAAADqL9nbCAACAwb2AdsIAAMCuQgt2wgAAAJzHlXXCAABAiUwgdcIAAMAQf6p0wgAAAP4DNXTCAABA64i/c8IAAIDYDUpzwgAAAGBA1HLCAABATcVecsIAAIA6SulxwgAAwCfPc3HCAABArwH+cMIAAICchohwwgAAwIkLE3DCAAAA7iA7b8IAAAD9hU9uwgAAgNePZG3CAAAAspl5bMIAAICMo45rwgAAgJsIo2rCAAAAdhK4acIAAIBQHM1owgAAACsm4mfCAAAAOov2ZsIAAIAUlQtmwgAAAO+eIGXCAACAyag1ZMIAAIDYDUpjwgAAALMXX2LCAACAjSF0YcIAAABoK4lgwgAAAO4gO1/CAAAAozRlXcIAAABYSI9bwgAAAA1cuVnCAAAAKybiV8IAAADgOQxWwgAAAJVNNlTCAAAASmFgUsIAAABoK4lQwgAAADp+Zk3CAAAApKW6ScIAAAAOzQ5GwgAAAEphYELCAAAAaBFpPcIAAAA8YBE2wgAAACBecy3CAAAAIF5zHcIAAAAAcJmUwQAAAEArSh1CAAAA+HdULUIAAACEEwc2QgAAALDEXj1CAAAA7jpbQkIAAACEEwdGQgAAAEh/tUlCAAAA3ldhTUIAAAA6mIZQQgAAAIWEXFJCAAAAZ7ozVEIAAACypglWQgAAAP2S31dCAAAASH+1WUIAAAAqtYxbQgAAAHWhYl1CAAAAwI04X0IAAIAFPYdgQgAAgPbXcmFCAAAAHM5dYkIAAIBBxEhjQgAAAGe6M2RCAAAAWFUfZUIAAIB9SwpmQgAAAKNB9WZCAACAyDfgZ0IAAIC50stoQgAAAN/ItmlCAACABL+hakIAAAAqtYxrQgAAABtQeGxCAACAQEZjbUIAAABmPE5uQgAAgIsyOW9CAABAvmYScEIAAADR4YdwQgAAwONc/XBCAACA9tdycUIAAABvpehxQgAAwIEgXnJCAACAlJvTckIAAECnFklzQgAAwB/kvnNCAACAMl80dEIAAEBF2ql0QgAAAFhVH3VCAACA0CKVdUIAAEDjnQp2QgAAAPYYgHZCAADACJT1dkIAAMAIlPV2QgAAAPYYgHZCAABA450KdkIAAIDQIpV1QgAAAFhVH3VCAABARdqpdEIAAIAyXzR0QgAAwB/kvnNCAABApxZJc0IAAICUm9NyQgAAwIEgXnJCAAAAb6XocUIAAID213JxQgAAwONc/XBCAAAA0eGHcEIAAEC+ZhJwQgAAgIsyOW9CAAAAZjxObkIAAIBARmNtQgAAABtQeGxCAAAAKrWMa0IAAIAEv6FqQgAAAN/ItmlCAACAudLLaEIAAIDIN+BnQgAAAKNB9WZCAACAfUsKZkIAAABYVR9lQgAAAGe6M2RCAACAQcRIY0IAAAAczl1iQgAAgPbXcmFCAACABT2HYEIAAADAjThfQgAAAHWhYl1CAAAAKrWMW0IAAABIf7VZQgAAAP2S31dCAAAAsqYJVkIAAABnujNUQgAAAIWEXFJCAAAAOpiGUEIAAADeV2FNQgAAAEh/tUlCAAAAhBMHRkIAAADuOltCQgAAALDEXj1CAAAAhBMHNkIAAAD4d1QtQgAAAEArSh1CAAAAAHCZlMEAAAAgXnMdwgAAACBecy3CAAAAPGARNsIAAABoEWk9wgAAAEphYELCAAAADs0ORsIAAACkpbpJwgAAADp+Zk3CAAAAaCuJUMIAAABKYWBSwgAAAJVNNlTCAAAA4DkMVsIAAAArJuJXwgAAAA1cuVnCAAAAWEiPW8IAAACjNGVdwgAAAO4gO1/CAAAAaCuJYMIAAICNIXRhwgAAALMXX2LCAACA2A1KY8IAAIDJqDVkwgAAAO+eIGXCAACAFJULZsIAAAA6i/ZmwgAAACsm4mfCAACAUBzNaMIAAAB2ErhpwgAAgJsIo2rCAACAjKOOa8IAAACymXlswgAAgNePZG3CAAAA/YVPbsIAAADuIDtvwgAAwIkLE3DCAACAnIaIcMIAAECvAf5wwgAAwCfPc3HCAACAOkrpccIAAEBNxV5ywgAAAGBA1HLCAACA2A1Kc8IAAEDriL9zwgAAAP4DNXTCAADAEH+qdMIAAECJTCB1wgAAAJzHlXXCAADArkILdsIAAIDBvYB2wgAAADqL9nbCAADATAZsd8IAAIBfgeF3wgAAQHL8VnjCAADA6snMeMIAAID9REJ5wgAAQBDAt3nCAAAAIzstesIAAICbCKN6wgAAQK6DGHvCAAAAwf6Ne8IAAMDTeQN8wgAAQExHeXzCAAAAX8LufMIAAMBxPWR9wgAAgIS42X3CAAAA/YVPfsIAAMAPAcV+wgAAgCJ8On/CAABANfevf8IAAAAkuRKAwgAAYK12TYDCAADANjSIgMIAACDA8cKAwgAAYHzY/YDCAADABZY4gcIAACCPU3OBwgAAgBgRroHCAADA1PfogcIAACBetSOCwgAAgOdyXoLCAAAgLRfUgsIAAIC21A6DwgAA4D+SSYPCAABAyU+Eg8IAAICFNr+DwgAA4A70+YPCAABAmLE0hMIAAKAhb2+EwgAA4N1VqoTCAACg8NAfhcIAAAB6jlqFwgAAQDZ1lYXCAACgvzLQhcIAAABJ8AqGwgAAYNKtRYbCAACgjpSAhsIAAAAYUruGwgAAYKEP9obCAADAKs0wh8IAAADns2uHwgAAYHBxpofCAADA+S7hh8IAACCD7BuIwgAAYD/TVojCAADAyJCRiMIAACBSTsyIwgAAgNsLB4nCAADAl/JBicIAACAhsHyJwgAAgKptt4nCAADgMyvyicIAACDwES2KwgAAgHnPZ4rCAADgAo2iisIAAECMSt2KwgAAgEgxGIvCAADg0e5Si8IAAEBbrI2LwgAAoORpyIvCAADgoFADjMIAAEAqDj6MwgAAoLPLeIzCAAAAPYmzjMIAAED5b+6MwgAAoIItKY3CAAAADOtjjcIAAGCVqJ6NwgAAoFGP2Y3CAAAA20wUjsIAAGBkCk+OwgAAwO3HiY7CAAAAqq7EjsIAAGAzbP+OwgAAwLwpOo/CAAAgRud0j8IAAGACzq+PwgAAwIuL6o/CAACQiqQSkMIAAEBPAzCQwgAAYK12TZDCAAAQctVqkMIAAMA2NIiQwgAAcPuSpZDCAACQWQbDkMIAAEAeZeCQwgAA8OLD/ZDCAACgpyIbkcIAAMAFljiRwgAAcMr0VZHCAAAgj1NzkcIAANBTspCRwgAA8LElrpHCAACgdoTLkcIAAFA74+iRwgAAAABCBpLCAAAgXrUjksIAANAiFEGSwgAAgOdyXpLCAAAwrNF7ksIAAFAKRZmSwgAAAM+jtpLCAACwkwLUksIAAGBYYfGSwgAAgLbUDpPCAAAwezMsk8IAAOA/kkmTwgAAkATxZpPCAABAyU+Ek8IAAPCNrqGTwgAAoFINv5PCAABQF2zck8IAAHB13/mTwgAAIDo+F5TCAADQ/pw0lMIAAIDD+1GUwgAAoCFvb5TCAABQ5s2MlMIAAACrLKqUwg==\"},\"shape\":[458],\"dtype\":\"float64\",\"order\":\"little\"}],[\"y\",{\"type\":\"ndarray\",\"array\":{\"type\":\"bytes\",\"data\":\"AAAAAAAAWUAAAAAAAABZQAAAAAAAAFlAAAAAAAAAWUAAAAAAAABZQAAAAAAAAFlAAAAAAAAAWUAAAAAAAABZQAAAAAAAAFlAAAAAAAAAWUAAAAAAAABZQAAAAAAAAFlAAAAAAAAAWUAAAAAAAABZQAAAAAAAAFlAAAAAAAAAWUAAAAAAAABZQAAAAAAAAFlAAAAAAAAAWUAAAAAAAABZQAAAAAAAAFlAAAAAAAAAWUAAAAAAAABZQAAAAAAAAFlAAAAAAAAAWUAAAAAAAABZQAAAAAAAAFlAAAAAAAAAWUAAAAAAAABZQAAAAAAAAFlAAAAAAAAAWUAAAAAAAABZQAAAAAAAAFlAAAAAAAAAWUAAAAAAAABZQAAAAAAAAFlAAAAAAAAAWUAAAAAAAABZQAAAAAAAAFlAAAAAAAAAWUAAAAAAAABZQAAAAAAAAFlAAAAAAAAAWUAAAAAAAABZQAAAAAAAAFlAAAAAAAAAWUAAAAAAAABZQAAAAAAAAFlAAAAAAAAAWUAAAAAAAABZQAAAAAAAAFlAAAAAAAAAWUAAAAAAAABZQAAAAAAAAFlAAAAAAAAAWUAAAAAAAABZQAAAAAAAAFlAAAAAAAAAWUAAAAAAAABZQAAAAAAAAFlAAAAAAAAAWUAAAAAAAABZQAAAAAAAAFlAAAAAAAAAWUAAAAAAAABZQAAAAAAAAFlAAAAAAAAAWUAAAAAAAABZQAAAAAAAAFlAAAAAAAAAWUAAAAAAAABZQAAAAAAAAFlAAAAAAAAAWUAAAAAAAABZQAAAAAAAAFlAAAAAAAAAWUAAAAAAAABZQAAAAAAAAFlAAAAAAAAAWUAAAAAAAABZQAAAAAAAAFlAAAAAAAAAWUAAAAAAAABZQAAAAAAAAFlAAAAAAAAAWUAAAAAAAABZQAAAAAAAAFlAAAAAAAAAWUAAAAAAAABZQAAAAAAAAFlAAAAAAAAAWUAAAAAAAABZQAAAAAAAAFlAAAAAAAAAWUAAAAAAAABZQAAAAAAAAFlAAAAAAAAAWUAAAAAAAABZQAAAAAAAAFlAAAAAAAAAWUAAAAAAAABZQAAAAAAAAFlAAAAAAAAAWUAAAAAAAABZQAAAAAAAAFlAAAAAAAAAWUAAAAAAAABZQAAAAAAAAFlAAAAAAAAAWUAAAAAAAABZQC4kimyeRVNApQHvBM0OU0AAAAAAACBMQAvdsath6UtAtBnfHymYR0DO+P5IwWRHQAuttAsflUNARoKaCtGGQ0DX9v0bP5w/QLk9vz8VBz9A9hPYT2A/NUDLNMs0yzQ1QAAAAAAAAC5AHG644YYbLkB/sgQ27ScrQDELyBeJUitAPvjggw8+KEDgV/SttHcnQAto3K3zCiBAPqg6hbn4H0Bhpq4U/0kbQIWeIurXCxtAp6wpa8qaEkCLtWnCXYQQQPwUlwzBOgpArss74EjRCECLnjwmlmYEQGnWuFggqQVAz3qQQJdXAkAC2h2NbBj/P/qzOR6iwvk/mIbInceT+T9LLjxOfyXXP0YXXXTRRdc/iIeHh4eH1z/D2WmZq1DXP8PZaZmrUNc/AnGh5iQQ1z/RFi6L/9DWP8A+sqg/vMY/AAAAAAAAAAAAAAAAAAAAAAAAAAAAAAAAAAAAAAAAAAAAAAAAAAAAAAAAAAAAAAAAAAAAAAAAAAAAAAAAAAAAAAAAAAAAAAAAAAAAAAAAAAAAAAAAAAAAAAAAAAAAAAAAAAAAAAAAAAAAAAAAAAAAAAAAAAAAAAAAAAAAAAAAAAAAAAAAAAAAAAAAAAAAAAAAAAAAAAAAAAAAAAAAAAAAAAAAAAAAAAAAAAAAAAAAAAAAAAAAAAAAAAAAAAAAAAAAAAAAAAAAAAAAAAAAAAAAAAAAAAAAAAAAAAAAAAAAAAAAAAAAAAAAAAAAAAAAAAAAAAAAAAAAAAAAAAAAAAAAAAAAAAAAAAAAAAAAAAAAAAAAAAAAAAAAAAAAAAAAAAAAAAAAAAAAAAAAAAAAAAAAAAAAAAAAAAAAAAAAAAAAAAAAAAAAAAAAAAAAAAAAAAAAAAAAAAAAAAAAAAAAAAAAAAAAAAAAAAAAAAAAAAAAAAAAAAAAAAAAAAAAAAAAAAAAAAAAAAAAAAAAAAAAAAAAAAAAAAAAAAAAAAAAAAAAAAAAAAAAAAAAAAAAAAAAAAAAAAAAAAAAAAAAAAAAAAAAAAAAAAAAAAAAAAAAAAAAAAAAAAAAAAAAAAAAAAAAAAAAAAAAAAAAAAAAAAAAAAAAAAAAAAAAAAAAAAAAAAAAAAAAAAAAAAAAAAAAAAAAAAAAAAAAAAAAAAAAAAAAAAAAAAAAAAAAAAAAAAAAAAAAAAAAAAAAAAAAAAAAAAAAAAAAAAAAAAAAAAAAAAAAAAAAAAAAAAAAAAAAAAAAAAAAAAAAAAAAAAAAAAAAAAAAAAAAAAAAAAAAAADypJZkNRAyQAYcnyNvojZAeUXTKl8MN0C+hPYS2ks6QKuqqqqqqjpA9feE03VzQECbu6+KVMpAQLss1aDzAEVAOY7jOI5jRUDaS2gvob1JQNRAo5NoP0pAlS+Gf+LaTkDx9gpRxmBPQJ0H2FHS71FAxiDh0gz/UUDRtMoXw79TQIU4Kz8hzlNA0CzypJZkVkC+hPYS2otWQAAAAAAAAFlAAAAAAAAAWUAAAAAAAABZQAAAAAAAAFlAAAAAAAAAWUAAAAAAAABZQAAAAAAAAFlAAAAAAAAAWUAAAAAAAABZQAAAAAAAAFlAAAAAAAAAWUAAAAAAAABZQAAAAAAAAFlAAAAAAAAAWUAAAAAAAABZQAAAAAAAAFlAAAAAAAAAWUAAAAAAAABZQAAAAAAAAFlAAAAAAAAAWUAAAAAAAABZQAAAAAAAAFlAAAAAAAAAWUAAAAAAAABZQAAAAAAAAFlAAAAAAAAAWUAAAAAAAABZQAAAAAAAAFlAAAAAAAAAWUAAAAAAAABZQAAAAAAAAFlAAAAAAAAAWUAAAAAAAABZQAAAAAAAAFlAAAAAAAAAWUAAAAAAAABZQAAAAAAAAFlAAAAAAAAAWUAAAAAAAABZQAAAAAAAAFlAAAAAAAAAWUAAAAAAAABZQAAAAAAAAFlAAAAAAAAAWUAAAAAAAABZQAAAAAAAAFlAAAAAAAAAWUAAAAAAAABZQAAAAAAAAFlAAAAAAAAAWUAAAAAAAABZQAAAAAAAAFlAAAAAAAAAWUAAAAAAAABZQAAAAAAAAFlAAAAAAAAAWUAAAAAAAABZQAAAAAAAAFlAAAAAAAAAWUAAAAAAAABZQAAAAAAAAFlAAAAAAAAAWUAAAAAAAABZQAAAAAAAAFlAAAAAAAAAWUAAAAAAAABZQAAAAAAAAFlAAAAAAAAAWUAAAAAAAABZQAAAAAAAAFlAAAAAAAAAWUAAAAAAAABZQAAAAAAAAFlAAAAAAAAAWUAAAAAAAABZQAAAAAAAAFlAAAAAAAAAWUAAAAAAAABZQAAAAAAAAFlAAAAAAAAAWUAAAAAAAABZQAAAAAAAAFlAAAAAAAAAWUAAAAAAAABZQAAAAAAAAFlAAAAAAAAAWUAAAAAAAABZQAAAAAAAAFlAAAAAAAAAWUAAAAAAAABZQAAAAAAAAFlAAAAAAAAAWUAAAAAAAABZQAAAAAAAAFlAAAAAAAAAWUAAAAAAAABZQAAAAAAAAFlAAAAAAAAAWUAAAAAAAABZQAAAAAAAAFlAAAAAAAAAWUAAAAAAAABZQAAAAAAAAFlAAAAAAAAAWUAAAAAAAABZQAAAAAAAAFlAAAAAAAAAWUAAAAAAAABZQAAAAAAAAFlAAAAAAAAAWUAAAAAAAABZQAAAAAAAAFlAAAAAAAAAWUAAAAAAAABZQAAAAAAAAFlAAAAAAAAAWUAAAAAAAABZQAAAAAAAAFlAAAAAAAAAWUAAAAAAAABZQAAAAAAAAFlAAAAAAAAAWUAAAAAAAABZQAAAAAAAAFlAAAAAAAAAWUAAAAAAAABZQAAAAAAAAFlAAAAAAAAAWUAAAAAAAABZQAAAAAAAAFlAAAAAAAAAWUAAAAAAAABZQAAAAAAAAFlAAAAAAAAAWUAAAAAAAABZQAAAAAAAAFlAAAAAAAAAWUAAAAAAAABZQAAAAAAAAFlAAAAAAAAAWUAAAAAAAABZQAAAAAAAAFlAAAAAAAAAWUAAAAAAAABZQAAAAAAAAFlAAAAAAAAAWUAAAAAAAABZQAAAAAAAAFlAAAAAAAAAWUAAAAAAAABZQAAAAAAAAFlAAAAAAAAAWUAAAAAAAABZQAAAAAAAAFlAAAAAAAAAWUAAAAAAAABZQAAAAAAAAFlAAAAAAAAAWUAAAAAAAABZQAAAAAAAAFlAAAAAAAAAWUAAAAAAAABZQAAAAAAAAFlAAAAAAAAAWUAAAAAAAABZQAAAAAAAAFlAAAAAAAAAWUAAAAAAAABZQAAAAAAAAFlAAAAAAAAAWUAAAAAAAABZQAAAAAAAAFlAAAAAAAAAWUAAAAAAAABZQAAAAAAAAFlAAAAAAAAAWUAAAAAAAABZQAAAAAAAAFlAAAAAAAAAWUAAAAAAAABZQAAAAAAAAFlAAAAAAAAAWUAAAAAAAABZQAAAAAAAAFlAAAAAAAAAWUAAAAAAAABZQAAAAAAAAFlAAAAAAAAAWUAAAAAAAABZQAAAAAAAAFlAAAAAAAAAWUAAAAAAAABZQAAAAAAAAFlAAAAAAAAAWUAAAAAAAABZQAAAAAAAAFlAAAAAAAAAWUAAAAAAAABZQAAAAAAAAFlAAAAAAAAAWUAAAAAAAABZQAAAAAAAAFlAAAAAAAAAWUAAAAAAAABZQAAAAAAAAFlAAAAAAAAAWUAAAAAAAABZQAAAAAAAAFlAAAAAAAAAWUAAAAAAAABZQA==\"},\"shape\":[458],\"dtype\":\"float64\",\"order\":\"little\"}]]}}},\"view\":{\"type\":\"object\",\"name\":\"CDSView\",\"id\":\"4ca5f425-037f-44c7-802d-952b0748f6b8\",\"attributes\":{\"filter\":{\"type\":\"object\",\"name\":\"AllIndices\",\"id\":\"38e47f9f-2168-4ad9-a5cf-eaf4bc02f45d\"}}},\"glyph\":{\"type\":\"object\",\"name\":\"Patch\",\"id\":\"a6ac397e-1cd4-4585-acef-3524206dd125\",\"attributes\":{\"tags\":[\"apply_ranges\"],\"x\":{\"type\":\"field\",\"field\":\"x\"},\"y\":{\"type\":\"field\",\"field\":\"y\"},\"fill_color\":\"#e5ae38\",\"hatch_color\":\"#e5ae38\"}},\"selection_glyph\":{\"type\":\"object\",\"name\":\"Patch\",\"id\":\"83d76087-8810-49d6-a142-69a5a78f825c\",\"attributes\":{\"tags\":[\"apply_ranges\"],\"x\":{\"type\":\"field\",\"field\":\"x\"},\"y\":{\"type\":\"field\",\"field\":\"y\"},\"fill_color\":\"#e5ae38\",\"hatch_color\":\"#e5ae38\"}},\"nonselection_glyph\":{\"type\":\"object\",\"name\":\"Patch\",\"id\":\"7a20bac2-bcda-4e4d-aa64-0e55fc840a4a\",\"attributes\":{\"tags\":[\"apply_ranges\"],\"x\":{\"type\":\"field\",\"field\":\"x\"},\"y\":{\"type\":\"field\",\"field\":\"y\"},\"line_alpha\":1,\"fill_color\":\"#e5ae38\",\"fill_alpha\":1,\"hatch_color\":\"#e5ae38\",\"hatch_alpha\":0.1}},\"muted_glyph\":{\"type\":\"object\",\"name\":\"Patch\",\"id\":\"87c4a472-dcb1-4e2a-8053-1b2c5373bfba\",\"attributes\":{\"tags\":[\"apply_ranges\"],\"x\":{\"type\":\"field\",\"field\":\"x\"},\"y\":{\"type\":\"field\",\"field\":\"y\"},\"line_alpha\":0.2,\"fill_color\":\"#e5ae38\",\"fill_alpha\":0.2,\"hatch_color\":\"#e5ae38\",\"hatch_alpha\":0.2}}}},{\"type\":\"object\",\"name\":\"GlyphRenderer\",\"id\":\"e6f2fa60-850e-49e9-bc28-52e014d92e42\",\"attributes\":{\"name\":\"pct_21\",\"data_source\":{\"type\":\"object\",\"name\":\"ColumnDataSource\",\"id\":\"b1b458fa-b212-4571-bfa3-91d07ca625d2\",\"attributes\":{\"selected\":{\"type\":\"object\",\"name\":\"Selection\",\"id\":\"c7a4f390-052f-46ee-8b4e-26cd9805f841\",\"attributes\":{\"indices\":[],\"line_indices\":[]}},\"selection_policy\":{\"type\":\"object\",\"name\":\"UnionRenderers\",\"id\":\"767989cb-318a-49dd-beee-23e9dc718f29\"},\"data\":{\"type\":\"map\",\"entries\":[[\"x\",{\"type\":\"ndarray\",\"array\":{\"type\":\"bytes\",\"data\":\"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\"},\"shape\":[458],\"dtype\":\"float64\",\"order\":\"little\"}],[\"y\",{\"type\":\"ndarray\",\"array\":{\"type\":\"bytes\",\"data\":\"AAAAAAAAWUAAAAAAAABZQAAAAAAAAFlAAAAAAAAAWUAAAAAAAABZQAAAAAAAAFlAAAAAAAAAWUAAAAAAAABZQAAAAAAAAFlAAAAAAAAAWUAAAAAAAABZQAAAAAAAAFlAAAAAAAAAWUAAAAAAAABZQAAAAAAAAFlAAAAAAAAAWUAAAAAAAABZQAAAAAAAAFlAAAAAAAAAWUAAAAAAAABZQAAAAAAAAFlAAAAAAAAAWUAAAAAAAABZQAAAAAAAAFlAAAAAAAAAWUAAAAAAAABZQAAAAAAAAFlAAAAAAAAAWUAAAAAAAABZQAAAAAAAAFlAAAAAAAAAWUAAAAAAAABZQAAAAAAAAFlAAAAAAAAAWUAAAAAAAABZQAAAAAAAAFlAAAAAAAAAWUAAAAAAAABZQAAAAAAAAFlAAAAAAAAAWUAAAAAAAABZQAAAAAAAAFlAAAAAAAAAWUAAAAAAAABZQAAAAAAAAFlAAAAAAAAAWUAAAAAAAABZQAAAAAAAAFlAAAAAAAAAWUAAAAAAAABZQAAAAAAAAFlAAAAAAAAAWUAAAAAAAABZQAAAAAAAAFlAAAAAAAAAWUAAAAAAAABZQAAAAAAAAFlAAAAAAAAAWUAAAAAAAABZQAAAAAAAAFlAAAAAAAAAWUAAAAAAAABZQAAAAAAAAFlAAAAAAAAAWUAAAAAAAABZQAAAAAAAAFlAAAAAAAAAWUAAAAAAAABZQAAAAAAAAFlAAAAAAAAAWUAAAAAAAABZQAAAAAAAAFlAAAAAAAAAWUAAAAAAAABZQAAAAAAAAFlAAAAAAAAAWUAAAAAAAABZQAAAAAAAAFlAAAAAAAAAWUAAAAAAAABZQAAAAAAAAFlAAAAAAAAAWUAAAAAAAABZQAAAAAAAAFlAAAAAAAAAWUAAAAAAAABZQAAAAAAAAFlAAAAAAAAAWUAAAAAAAABZQAAAAAAAAFlAAAAAAAAAWUAAAAAAAABZQAAAAAAAAFlAAAAAAAAAWUAAAAAAAABZQAAAAAAAAFlAAAAAAAAAWUAAAAAAAABZQAAAAAAAAFlAAAAAAAAAWUAAAAAAAABZQAAAAAAAAFlAAAAAAAAAWUAAAAAAAABZQAAAAAAAAFlAAAAAAAAAWUAAAAAAAABZQAAAAAAAAFlAAAAAAAAAWUAAAAAAAABZQAAAAAAAAFlAAAAAAAAAWUAAAAAAAABZQAAAAAAAAFlAAAAAAAAAWUAAAAAAAABZQAAAAAAAAFlAAAAAAAAAWUAAAAAAAABZQAAAAAAAAFlAAAAAAAAAWUAAAAAAAABZQAAAAAAAAFlAAAAAAAAAWUAAAAAAAABZQAAAAAAAAFlAAAAAAAAAWUAAAAAAAABZQAAAAAAAAFlAAAAAAAAAWUAAAAAAAABZQAAAAAAAAFlAAAAAAAAAWUAAAAAAAABZQAAAAAAAAFlAAAAAAAAAWUAAAAAAAABZQAAAAAAAAFlAAAAAAAAAWUAAAAAAAABZQAAAAAAAAFlAAAAAAAAAWUAAAAAAAABZQAAAAAAAAFlAAAAAAAAAWUAAAAAAAABZQAAAAAAAAFlAAAAAAAAAWUAAAAAAAABZQAAAAAAAAFlAAAAAAAAAWUAAAAAAAABZQAAAAAAAAFlAAAAAAAAAWUAAAAAAAABZQAAAAAAAAFlAAAAAAAAAWUAAAAAAAABZQAAAAAAAAFlAAAAAAAAAWUAAAAAAAABZQAAAAAAAAFlAAAAAAAAAWUAAAAAAAABZQAAAAAAAAFlAAAAAAAAAWUAAAAAAAABZQAAAAAAAAFlAAAAAAAAAWUAAAAAAAABZQAAAAAAAAFlAAAAAAAAAWUAAAAAAAABZQAAAAAAAAFlAAAAAAAAAWUAAAAAAAABZQAAAAAAAAFlAAAAAAAAAWUAAAAAAAABZQAAAAAAAAFlAAAAAAAAAWUAAAAAAAABZQAAAAAAAAFlAAAAAAAAAWUAAAAAAAABZQAAAAAAAAFlAAAAAAAAAWUAAAAAAAABZQAAAAAAAAFlAAAAAAAAAWUAAAAAAAABZQAAAAAAAAFlAAAAAAAAAWUAAAAAAAABZQAAAAAAAAFlAAAAAAAAAWUAAAAAAAABZQAAAAAAAAFlAAAAAAAAAWUAAAAAAAABZQAAAAAAAAFlAAAAAAAAAWUAAAAAAAABZQAAAAAAAAFlAAAAAAAAAWUAAAAAAAABZQAAAAAAAAFlAAAAAAAAAWUAAAAAAAABZQAAAAAAAAFlAvoT2EtqLVkDQLPKklmRWQIU4Kz8hzlNA0bTKF8O/U0DGIOHSDP9RQJ0H2FHS71FA8fYKUcZgT0CVL4Z/4tpOQNRAo5NoP0pA2ktoL6G9SUA5juM4jmNFQLss1aDzAEVAm7uvilTKQED194TTdXNAQKuqqqqqqjpAvoT2EtpLOkB5RdMqXww3QAYcnyNvojZA8qSWZDUQMkAAAAAAAABZQAAAAAAAAFlAAAAAAAAAWUAAAAAAAABZQAAAAAAAAFlAAAAAAAAAWUAAAAAAAABZQAAAAAAAAFlAAAAAAAAAWUAAAAAAAABZQAAAAAAAAFlAAAAAAAAAWUAAAAAAAABZQAAAAAAAAFlAAAAAAAAAWUAAAAAAAABZQAAAAAAAAFlAAAAAAAAAWUAAAAAAAABZQAAAAAAAAFlAAAAAAAAAWUAAAAAAAABZQAAAAAAAAFlAAAAAAAAAWUAAAAAAAABZQAAAAAAAAFlAAAAAAAAAWUAAAAAAAABZQAAAAAAAAFlAAAAAAAAAWUAAAAAAAABZQAAAAAAAAFlAAAAAAAAAWUAAAAAAAABZQAAAAAAAAFlAAAAAAAAAWUAAAAAAAABZQAAAAAAAAFlAAAAAAAAAWUAAAAAAAABZQAAAAAAAAFlAAAAAAAAAWUAAAAAAAABZQAAAAAAAAFlAAAAAAAAAWUAAAAAAAABZQAAAAAAAAFlAAAAAAAAAWUAAAAAAAABZQAAAAAAAAFlAAAAAAAAAWUAAAAAAAABZQAAAAAAAAFlAAAAAAAAAWUAAAAAAAABZQAAAAAAAAFlAAAAAAAAAWUAAAAAAAABZQAAAAAAAAFlAAAAAAAAAWUAAAAAAAABZQAAAAAAAAFlAAAAAAAAAWUAAAAAAAABZQAAAAAAAAFlAAAAAAAAAWUAAAAAAAABZQAAAAAAAAFlAAAAAAAAAWUAAAAAAAABZQAAAAAAAAFlAAAAAAAAAWUAAAAAAAABZQAAAAAAAAFlAAAAAAAAAWUAAAAAAAABZQAAAAAAAAFlAAAAAAAAAWUAAAAAAAABZQAAAAAAAAFlAAAAAAAAAWUAAAAAAAABZQAAAAAAAAFlAAAAAAAAAWUAAAAAAAABZQAAAAAAAAFlAAAAAAAAAWUAAAAAAAABZQAAAAAAAAFlAAAAAAAAAWUAAAAAAAABZQAAAAAAAAFlAAAAAAAAAWUAAAAAAAABZQAAAAAAAAFlAAAAAAAAAWUAAAAAAAABZQAAAAAAAAFlAAAAAAAAAWUAAAAAAAABZQAAAAAAAAFlAAAAAAAAAWUAAAAAAAABZQAAAAAAAAFlAAAAAAAAAWUAAAAAAAABZQAAAAAAAAFlAAAAAAAAAWUAAAAAAAABZQAAAAAAAAFlAAAAAAAAAWUAAAAAAAABZQAAAAAAAAFlAAAAAAAAAWUAAAAAAAABZQAAAAAAAAFlAAAAAAAAAWUAAAAAAAABZQAAAAAAAAFlAAAAAAAAAWUAAAAAAAABZQAAAAAAAAFlAAAAAAAAAWUAAAAAAAABZQAAAAAAAAFlAAAAAAAAAWUAAAAAAAABZQAAAAAAAAFlAAAAAAAAAWUAAAAAAAABZQAAAAAAAAFlAAAAAAAAAWUAAAAAAAABZQAAAAAAAAFlAAAAAAAAAWUAAAAAAAABZQAAAAAAAAFlAAAAAAAAAWUAAAAAAAABZQAAAAAAAAFlAAAAAAAAAWUAAAAAAAABZQAAAAAAAAFlAAAAAAAAAWUAAAAAAAABZQAAAAAAAAFlAAAAAAAAAWUAAAAAAAABZQAAAAAAAAFlAAAAAAAAAWUAAAAAAAABZQAAAAAAAAFlAAAAAAAAAWUAAAAAAAABZQAAAAAAAAFlAAAAAAAAAWUAAAAAAAABZQAAAAAAAAFlAAAAAAAAAWUAAAAAAAABZQAAAAAAAAFlAAAAAAAAAWUAAAAAAAABZQAAAAAAAAFlAAAAAAAAAWUAAAAAAAABZQAAAAAAAAFlAAAAAAAAAWUAAAAAAAABZQAAAAAAAAFlAAAAAAAAAWUAAAAAAAABZQAAAAAAAAFlAAAAAAAAAWUAAAAAAAABZQAAAAAAAAFlAAAAAAAAAWUAAAAAAAABZQAAAAAAAAFlAAAAAAAAAWUAAAAAAAABZQAAAAAAAAFlAAAAAAAAAWUAAAAAAAABZQAAAAAAAAFlAAAAAAAAAWUAAAAAAAABZQAAAAAAAAFlAAAAAAAAAWUAAAAAAAABZQAAAAAAAAFlAAAAAAAAAWUAAAAAAAABZQAAAAAAAAFlAAAAAAAAAWUAAAAAAAABZQAAAAAAAAFlAAAAAAAAAWUAAAAAAAABZQAAAAAAAAFlAAAAAAAAAWUAAAAAAAABZQAAAAAAAAFlAAAAAAAAAWUAAAAAAAABZQAAAAAAAAFlAAAAAAAAAWUAAAAAAAABZQAAAAAAAAFlAAAAAAAAAWUAAAAAAAABZQAAAAAAAAFlAAAAAAAAAWUAAAAAAAABZQAAAAAAAAFlAAAAAAAAAWUAAAAAAAABZQAAAAAAAAFlAAAAAAAAAWUAAAAAAAABZQAAAAAAAAFlAAAAAAAAAWUAAAAAAAABZQAAAAAAAAFlAAAAAAAAAWUAAAAAAAABZQAAAAAAAAFlAAAAAAAAAWUAAAAAAAABZQA==\"},\"shape\":[458],\"dtype\":\"float64\",\"order\":\"little\"}]]}}},\"view\":{\"type\":\"object\",\"name\":\"CDSView\",\"id\":\"92ad113c-f7c4-4df8-b665-aa9e38e2bc89\",\"attributes\":{\"filter\":{\"type\":\"object\",\"name\":\"AllIndices\",\"id\":\"427cb65a-1646-4843-91cd-80d72096363a\"}}},\"glyph\":{\"type\":\"object\",\"name\":\"Patch\",\"id\":\"4c09a278-c4e2-4e6c-8500-7d654d8a1121\",\"attributes\":{\"tags\":[\"apply_ranges\"],\"x\":{\"type\":\"field\",\"field\":\"x\"},\"y\":{\"type\":\"field\",\"field\":\"y\"},\"fill_color\":\"#6d904f\",\"hatch_color\":\"#6d904f\"}},\"selection_glyph\":{\"type\":\"object\",\"name\":\"Patch\",\"id\":\"9073a7f3-5da5-48ec-96d2-dd003ba69961\",\"attributes\":{\"tags\":[\"apply_ranges\"],\"x\":{\"type\":\"field\",\"field\":\"x\"},\"y\":{\"type\":\"field\",\"field\":\"y\"},\"fill_color\":\"#6d904f\",\"hatch_color\":\"#6d904f\"}},\"nonselection_glyph\":{\"type\":\"object\",\"name\":\"Patch\",\"id\":\"00e50b72-42a2-49ef-91ef-fddbfac983f7\",\"attributes\":{\"tags\":[\"apply_ranges\"],\"x\":{\"type\":\"field\",\"field\":\"x\"},\"y\":{\"type\":\"field\",\"field\":\"y\"},\"line_alpha\":1,\"fill_color\":\"#6d904f\",\"fill_alpha\":1,\"hatch_color\":\"#6d904f\",\"hatch_alpha\":0.1}},\"muted_glyph\":{\"type\":\"object\",\"name\":\"Patch\",\"id\":\"a258f6ab-9609-4308-8323-641493bb3b46\",\"attributes\":{\"tags\":[\"apply_ranges\"],\"x\":{\"type\":\"field\",\"field\":\"x\"},\"y\":{\"type\":\"field\",\"field\":\"y\"},\"line_alpha\":0.2,\"fill_color\":\"#6d904f\",\"fill_alpha\":0.2,\"hatch_color\":\"#6d904f\",\"hatch_alpha\":0.2}}}}],\"toolbar\":{\"type\":\"object\",\"name\":\"Toolbar\",\"id\":\"aa6c312e-5ede-4bba-9ca0-3ff452c07f28\",\"attributes\":{\"tools\":[{\"type\":\"object\",\"name\":\"WheelZoomTool\",\"id\":\"6c1f9e11-5d70-4adc-8c42-28a591204601\",\"attributes\":{\"tags\":[\"hv_created\"],\"zoom_together\":\"none\"}},{\"type\":\"object\",\"name\":\"HoverTool\",\"id\":\"8fee153e-a50f-41dc-9183-2c15e35e8b57\",\"attributes\":{\"tags\":[\"hv_created\"],\"renderers\":[{\"id\":\"66068e74-13e9-423e-b368-089a5d1c28e0\"},{\"id\":\"3c8f80ba-12d4-4f79-9f0a-f3accf37693e\"},{\"id\":\"1b7ab576-f876-468f-adbb-3ae610afde32\"},{\"id\":\"e6f2fa60-850e-49e9-bc28-52e014d92e42\"}],\"tooltips\":[[\"Variable\",\"@{Variable}\"],[\"date\",\"@{date}\"],[\"value\",\"@{value}\"],[\"Baseline\",\"@{Baseline}\"]],\"formatters\":{\"type\":\"map\",\"entries\":[[\"@{x}\",\"datetime\"]]}}},{\"type\":\"object\",\"name\":\"SaveTool\",\"id\":\"af0e21a9-d1d8-4bd2-8757-ae5cfff25257\"},{\"type\":\"object\",\"name\":\"PanTool\",\"id\":\"6288ef43-32ed-44ff-a1c2-ef11c31fa050\"},{\"type\":\"object\",\"name\":\"BoxZoomTool\",\"id\":\"d911027e-ec5d-4884-b939-bfcc0456fffb\",\"attributes\":{\"overlay\":{\"type\":\"object\",\"name\":\"BoxAnnotation\",\"id\":\"48a43168-e5dd-4b58-b176-15841a88224b\",\"attributes\":{\"syncable\":false,\"level\":\"overlay\",\"visible\":false,\"left_units\":\"canvas\",\"right_units\":\"canvas\",\"bottom_units\":\"canvas\",\"top_units\":\"canvas\",\"line_color\":\"black\",\"line_alpha\":1.0,\"line_width\":2,\"line_dash\":[4,4],\"fill_color\":\"lightgrey\",\"fill_alpha\":0.5}}}},{\"type\":\"object\",\"name\":\"ResetTool\",\"id\":\"a051746f-95cf-4bb0-8455-dded8f83eb5b\"}],\"active_drag\":{\"id\":\"6288ef43-32ed-44ff-a1c2-ef11c31fa050\"},\"active_scroll\":{\"id\":\"6c1f9e11-5d70-4adc-8c42-28a591204601\"}}},\"left\":[{\"type\":\"object\",\"name\":\"LinearAxis\",\"id\":\"6a42be2f-030b-4331-80aa-b807fe019f0f\",\"attributes\":{\"ticker\":{\"type\":\"object\",\"name\":\"BasicTicker\",\"id\":\"c6c799cb-e10d-4db2-8992-f22860725ed7\",\"attributes\":{\"mantissas\":[1,2,5]}},\"formatter\":{\"type\":\"object\",\"name\":\"BasicTickFormatter\",\"id\":\"b8a200da-437c-4cce-9e1e-8de4464d678a\"},\"axis_label\":\"\",\"major_label_policy\":{\"type\":\"object\",\"name\":\"AllLabels\",\"id\":\"c41e9f79-656c-4b13-b302-22d07cd70412\"}}}],\"above\":[{\"type\":\"object\",\"name\":\"Legend\",\"id\":\"195cb201-3003-4379-8740-9e69ba4f1d17\",\"attributes\":{\"location\":[0,0],\"orientation\":\"horizontal\",\"title\":\"Variable\",\"click_policy\":\"mute\",\"items\":[{\"type\":\"object\",\"name\":\"LegendItem\",\"id\":\"cf34a8a3-5cb8-4971-8360-fa7f3b9f9d27\",\"attributes\":{\"label\":{\"type\":\"value\",\"value\":\"pct_18\"},\"renderers\":[{\"id\":\"66068e74-13e9-423e-b368-089a5d1c28e0\"}]}},{\"type\":\"object\",\"name\":\"LegendItem\",\"id\":\"5b73fa31-97bb-43cf-89aa-d21b5a6479e7\",\"attributes\":{\"label\":{\"type\":\"value\",\"value\":\"pct_19\"},\"renderers\":[{\"id\":\"3c8f80ba-12d4-4f79-9f0a-f3accf37693e\"}]}},{\"type\":\"object\",\"name\":\"LegendItem\",\"id\":\"0cd4646a-f23a-4ae1-a168-dff0c29495fa\",\"attributes\":{\"label\":{\"type\":\"value\",\"value\":\"pct_20\"},\"renderers\":[{\"id\":\"1b7ab576-f876-468f-adbb-3ae610afde32\"}]}},{\"type\":\"object\",\"name\":\"LegendItem\",\"id\":\"6a05bb46-4bd8-4f83-a428-92e3893ea6cf\",\"attributes\":{\"label\":{\"type\":\"value\",\"value\":\"pct_21\"},\"renderers\":[{\"id\":\"e6f2fa60-850e-49e9-bc28-52e014d92e42\"}]}}]}}],\"below\":[{\"type\":\"object\",\"name\":\"DatetimeAxis\",\"id\":\"f424674b-726a-4c02-b896-2334b3da8464\",\"attributes\":{\"ticker\":{\"type\":\"object\",\"name\":\"DatetimeTicker\",\"id\":\"f9936c75-c547-47bb-aa7d-d5c58a568a9e\",\"attributes\":{\"num_minor_ticks\":5,\"tickers\":[{\"type\":\"object\",\"name\":\"AdaptiveTicker\",\"id\":\"d6458a32-0989-4695-9c52-693168e3602f\",\"attributes\":{\"num_minor_ticks\":0,\"mantissas\":[1,2,5],\"max_interval\":500.0}},{\"type\":\"object\",\"name\":\"AdaptiveTicker\",\"id\":\"17acee79-4320-4498-a09a-80eabe43eb1c\",\"attributes\":{\"num_minor_ticks\":0,\"base\":60,\"mantissas\":[1,2,5,10,15,20,30],\"min_interval\":1000.0,\"max_interval\":1800000.0}},{\"type\":\"object\",\"name\":\"AdaptiveTicker\",\"id\":\"09c2b984-a1ce-4f45-a246-293f3f55cf66\",\"attributes\":{\"num_minor_ticks\":0,\"base\":24,\"mantissas\":[1,2,4,6,8,12],\"min_interval\":3600000.0,\"max_interval\":43200000.0}},{\"type\":\"object\",\"name\":\"DaysTicker\",\"id\":\"a0375432-9fc3-41b0-ac58-22dc1aef21ff\",\"attributes\":{\"days\":[1,2,3,4,5,6,7,8,9,10,11,12,13,14,15,16,17,18,19,20,21,22,23,24,25,26,27,28,29,30,31]}},{\"type\":\"object\",\"name\":\"DaysTicker\",\"id\":\"82b3b87d-2239-486b-9876-829bede6e7f3\",\"attributes\":{\"days\":[1,4,7,10,13,16,19,22,25,28]}},{\"type\":\"object\",\"name\":\"DaysTicker\",\"id\":\"623b1add-53ca-4d99-b454-9a7d43c9364e\",\"attributes\":{\"days\":[1,8,15,22]}},{\"type\":\"object\",\"name\":\"DaysTicker\",\"id\":\"db3425af-00be-40ca-903e-d6c9235265c6\",\"attributes\":{\"days\":[1,15]}},{\"type\":\"object\",\"name\":\"MonthsTicker\",\"id\":\"c5357925-d2f3-4ad8-9799-837ee5102d57\",\"attributes\":{\"months\":[0,1,2,3,4,5,6,7,8,9,10,11]}},{\"type\":\"object\",\"name\":\"MonthsTicker\",\"id\":\"20294c3b-b409-490f-b40f-a3ec061817cc\",\"attributes\":{\"months\":[0,2,4,6,8,10]}},{\"type\":\"object\",\"name\":\"MonthsTicker\",\"id\":\"7b562c55-5a8a-4271-a714-28dc7b18bd2f\",\"attributes\":{\"months\":[0,4,8]}},{\"type\":\"object\",\"name\":\"MonthsTicker\",\"id\":\"407b4ce5-40d8-4adf-a2d7-b690872102b0\",\"attributes\":{\"months\":[0,6]}},{\"type\":\"object\",\"name\":\"YearsTicker\",\"id\":\"04e415bb-04d1-444c-943e-2ff1efc5ba2e\"}]}},\"formatter\":{\"type\":\"object\",\"name\":\"DatetimeTickFormatter\",\"id\":\"83a77e17-03f0-4d69-9fd9-0c941929b835\"},\"axis_label\":\"date\",\"major_label_policy\":{\"type\":\"object\",\"name\":\"AllLabels\",\"id\":\"9d6e48a6-706b-49d9-90f1-99f9d9d5f30c\"}}}],\"center\":[{\"type\":\"object\",\"name\":\"Grid\",\"id\":\"8aa42642-b44b-4e4f-bd1f-08f1b69b3c71\",\"attributes\":{\"axis\":{\"id\":\"f424674b-726a-4c02-b896-2334b3da8464\"},\"grid_line_color\":null}},{\"type\":\"object\",\"name\":\"Grid\",\"id\":\"b0a77b09-281a-4ef2-9efa-9dcbc4e0c78e\",\"attributes\":{\"dimension\":1,\"axis\":{\"id\":\"6a42be2f-030b-4331-80aa-b807fe019f0f\"},\"grid_line_color\":null}}],\"min_border_top\":10,\"min_border_bottom\":10,\"min_border_left\":10,\"min_border_right\":10,\"output_backend\":\"webgl\"}},{\"type\":\"object\",\"name\":\"Spacer\",\"id\":\"0f5bf01a-fe8c-420f-90a3-358da65fa2f9\",\"attributes\":{\"name\":\"HSpacer55032\",\"stylesheets\":[\"\\n:host(.pn-loading.pn-arc):before, .pn-loading.pn-arc:before {\\n  background-image: url(\\\"data:image/svg+xml;base64,PHN2ZyB4bWxucz0iaHR0cDovL3d3dy53My5vcmcvMjAwMC9zdmciIHN0eWxlPSJtYXJnaW46IGF1dG87IGJhY2tncm91bmQ6IG5vbmU7IGRpc3BsYXk6IGJsb2NrOyBzaGFwZS1yZW5kZXJpbmc6IGF1dG87IiB2aWV3Qm94PSIwIDAgMTAwIDEwMCIgcHJlc2VydmVBc3BlY3RSYXRpbz0ieE1pZFlNaWQiPiAgPGNpcmNsZSBjeD0iNTAiIGN5PSI1MCIgZmlsbD0ibm9uZSIgc3Ryb2tlPSIjYzNjM2MzIiBzdHJva2Utd2lkdGg9IjEwIiByPSIzNSIgc3Ryb2tlLWRhc2hhcnJheT0iMTY0LjkzMzYxNDMxMzQ2NDE1IDU2Ljk3Nzg3MTQzNzgyMTM4Ij4gICAgPGFuaW1hdGVUcmFuc2Zvcm0gYXR0cmlidXRlTmFtZT0idHJhbnNmb3JtIiB0eXBlPSJyb3RhdGUiIHJlcGVhdENvdW50PSJpbmRlZmluaXRlIiBkdXI9IjFzIiB2YWx1ZXM9IjAgNTAgNTA7MzYwIDUwIDUwIiBrZXlUaW1lcz0iMDsxIj48L2FuaW1hdGVUcmFuc2Zvcm0+ICA8L2NpcmNsZT48L3N2Zz4=\\\");\\n  background-size: auto calc(min(50%, 400px));\\n}\",{\"id\":\"b8ab42bd-1b7a-4d49-b339-66d114940db7\"},{\"id\":\"cfcaffcf-7e3e-4290-8cdc-aa42d5fe54ba\"},{\"id\":\"eecedbdf-0e7c-4b21-b3f4-e29d8f8800c2\"}],\"margin\":0,\"sizing_mode\":\"stretch_width\",\"align\":\"start\"}}]}}],\"defs\":[{\"type\":\"model\",\"name\":\"ReactiveHTML1\"},{\"type\":\"model\",\"name\":\"FlexBox1\",\"properties\":[{\"name\":\"align_content\",\"kind\":\"Any\",\"default\":\"flex-start\"},{\"name\":\"align_items\",\"kind\":\"Any\",\"default\":\"flex-start\"},{\"name\":\"flex_direction\",\"kind\":\"Any\",\"default\":\"row\"},{\"name\":\"flex_wrap\",\"kind\":\"Any\",\"default\":\"wrap\"},{\"name\":\"justify_content\",\"kind\":\"Any\",\"default\":\"flex-start\"}]},{\"type\":\"model\",\"name\":\"FloatPanel1\",\"properties\":[{\"name\":\"config\",\"kind\":\"Any\",\"default\":{\"type\":\"map\"}},{\"name\":\"contained\",\"kind\":\"Any\",\"default\":true},{\"name\":\"position\",\"kind\":\"Any\",\"default\":\"right-top\"},{\"name\":\"offsetx\",\"kind\":\"Any\",\"default\":null},{\"name\":\"offsety\",\"kind\":\"Any\",\"default\":null},{\"name\":\"theme\",\"kind\":\"Any\",\"default\":\"primary\"},{\"name\":\"status\",\"kind\":\"Any\",\"default\":\"normalized\"}]},{\"type\":\"model\",\"name\":\"GridStack1\",\"properties\":[{\"name\":\"mode\",\"kind\":\"Any\",\"default\":\"warn\"},{\"name\":\"ncols\",\"kind\":\"Any\",\"default\":null},{\"name\":\"nrows\",\"kind\":\"Any\",\"default\":null},{\"name\":\"allow_resize\",\"kind\":\"Any\",\"default\":true},{\"name\":\"allow_drag\",\"kind\":\"Any\",\"default\":true},{\"name\":\"state\",\"kind\":\"Any\",\"default\":[]}]},{\"type\":\"model\",\"name\":\"drag1\",\"properties\":[{\"name\":\"slider_width\",\"kind\":\"Any\",\"default\":5},{\"name\":\"slider_color\",\"kind\":\"Any\",\"default\":\"black\"},{\"name\":\"value\",\"kind\":\"Any\",\"default\":50}]},{\"type\":\"model\",\"name\":\"click1\",\"properties\":[{\"name\":\"terminal_output\",\"kind\":\"Any\",\"default\":\"\"},{\"name\":\"debug_name\",\"kind\":\"Any\",\"default\":\"\"},{\"name\":\"clears\",\"kind\":\"Any\",\"default\":0}]},{\"type\":\"model\",\"name\":\"FastWrapper1\",\"properties\":[{\"name\":\"object\",\"kind\":\"Any\",\"default\":null},{\"name\":\"style\",\"kind\":\"Any\",\"default\":null}]},{\"type\":\"model\",\"name\":\"NotificationAreaBase1\",\"properties\":[{\"name\":\"js_events\",\"kind\":\"Any\",\"default\":{\"type\":\"map\"}},{\"name\":\"position\",\"kind\":\"Any\",\"default\":\"bottom-right\"},{\"name\":\"_clear\",\"kind\":\"Any\",\"default\":0}]},{\"type\":\"model\",\"name\":\"NotificationArea1\",\"properties\":[{\"name\":\"js_events\",\"kind\":\"Any\",\"default\":{\"type\":\"map\"}},{\"name\":\"notifications\",\"kind\":\"Any\",\"default\":[]},{\"name\":\"position\",\"kind\":\"Any\",\"default\":\"bottom-right\"},{\"name\":\"_clear\",\"kind\":\"Any\",\"default\":0},{\"name\":\"types\",\"kind\":\"Any\",\"default\":[{\"type\":\"map\",\"entries\":[[\"type\",\"warning\"],[\"background\",\"#ffc107\"],[\"icon\",{\"type\":\"map\",\"entries\":[[\"className\",\"fas fa-exclamation-triangle\"],[\"tagName\",\"i\"],[\"color\",\"white\"]]}]]},{\"type\":\"map\",\"entries\":[[\"type\",\"info\"],[\"background\",\"#007bff\"],[\"icon\",{\"type\":\"map\",\"entries\":[[\"className\",\"fas fa-info-circle\"],[\"tagName\",\"i\"],[\"color\",\"white\"]]}]]}]}]},{\"type\":\"model\",\"name\":\"Notification\",\"properties\":[{\"name\":\"background\",\"kind\":\"Any\",\"default\":null},{\"name\":\"duration\",\"kind\":\"Any\",\"default\":3000},{\"name\":\"icon\",\"kind\":\"Any\",\"default\":null},{\"name\":\"message\",\"kind\":\"Any\",\"default\":\"\"},{\"name\":\"notification_type\",\"kind\":\"Any\",\"default\":null},{\"name\":\"_destroyed\",\"kind\":\"Any\",\"default\":false}]},{\"type\":\"model\",\"name\":\"TemplateActions1\",\"properties\":[{\"name\":\"open_modal\",\"kind\":\"Any\",\"default\":0},{\"name\":\"close_modal\",\"kind\":\"Any\",\"default\":0}]},{\"type\":\"model\",\"name\":\"BootstrapTemplateActions1\",\"properties\":[{\"name\":\"open_modal\",\"kind\":\"Any\",\"default\":0},{\"name\":\"close_modal\",\"kind\":\"Any\",\"default\":0}]},{\"type\":\"model\",\"name\":\"MaterialTemplateActions1\",\"properties\":[{\"name\":\"open_modal\",\"kind\":\"Any\",\"default\":0},{\"name\":\"close_modal\",\"kind\":\"Any\",\"default\":0}]}]}};\n",
       "  var render_items = [{\"docid\":\"0ca59bdf-a133-4f4f-8374-2d41ec211fd4\",\"roots\":{\"8602115a-4d6a-4774-9f98-871e6d9e3b7e\":\"ab80a0d2-1b61-4867-9e67-bf596799251f\"},\"root_ids\":[\"8602115a-4d6a-4774-9f98-871e6d9e3b7e\"]}];\n",
       "  var docs = Object.values(docs_json)\n",
       "  if (!docs) {\n",
       "    return\n",
       "  }\n",
       "  const py_version = docs[0].version.replace('rc', '-rc.').replace('.dev', '-dev.')\n",
       "  const is_dev = py_version.indexOf(\"+\") !== -1 || py_version.indexOf(\"-\") !== -1\n",
       "  function embed_document(root) {\n",
       "    var Bokeh = get_bokeh(root)\n",
       "    Bokeh.embed.embed_items_notebook(docs_json, render_items);\n",
       "    for (const render_item of render_items) {\n",
       "      for (const root_id of render_item.root_ids) {\n",
       "\tconst id_el = document.getElementById(root_id)\n",
       "\tif (id_el.children.length && (id_el.children[0].className === 'bk-root')) {\n",
       "\t  const root_el = id_el.children[0]\n",
       "\t  root_el.id = root_el.id + '-rendered'\n",
       "\t}\n",
       "      }\n",
       "    }\n",
       "  }\n",
       "  function get_bokeh(root) {\n",
       "    if (root.Bokeh === undefined) {\n",
       "      return null\n",
       "    } else if (root.Bokeh.version !== py_version && !is_dev) {\n",
       "      if (root.Bokeh.versions === undefined || !root.Bokeh.versions.has(py_version)) {\n",
       "\treturn null\n",
       "      }\n",
       "      return root.Bokeh.versions.get(py_version);\n",
       "    } else if (root.Bokeh.version === py_version) {\n",
       "      return root.Bokeh\n",
       "    }\n",
       "    return null\n",
       "  }\n",
       "  function is_loaded(root) {\n",
       "    var Bokeh = get_bokeh(root)\n",
       "    return (Bokeh != null && Bokeh.Panel !== undefined)\n",
       "  }\n",
       "  if (is_loaded(root)) {\n",
       "    embed_document(root);\n",
       "  } else {\n",
       "    var attempts = 0;\n",
       "    var timer = setInterval(function(root) {\n",
       "      if (is_loaded(root)) {\n",
       "        clearInterval(timer);\n",
       "        embed_document(root);\n",
       "      } else if (document.readyState == \"complete\") {\n",
       "        attempts++;\n",
       "        if (attempts > 200) {\n",
       "          clearInterval(timer);\n",
       "\t  var Bokeh = get_bokeh(root)\n",
       "\t  if (Bokeh == null || Bokeh.Panel == null) {\n",
       "            console.warn(\"Panel: ERROR: Unable to run Panel code because Bokeh or Panel library is missing\");\n",
       "\t  } else {\n",
       "\t    console.warn(\"Panel: WARNING: Attempting to render but not all required libraries could be resolved.\")\n",
       "\t    embed_document(root)\n",
       "\t  }\n",
       "        }\n",
       "      }\n",
       "    }, 25, root)\n",
       "  }\n",
       "})(window);</script>"
      ],
      "text/plain": [
       ":NdOverlay   [Variable]\n",
       "   :Area   [date]   (value,Baseline)"
      ]
     },
     "execution_count": 402,
     "metadata": {
      "application/vnd.holoviews_exec.v0+json": {
       "id": "8602115a-4d6a-4774-9f98-871e6d9e3b7e"
      }
     },
     "output_type": "execute_result"
    }
   ],
   "source": [
    "plot_8 = data_8.hvplot.area(x='date', \n",
    "                            y=['pct_18', 'pct_19', 'pct_20', 'pct_21'], \n",
    "                            label='Percentage of legislators each year by first term centenary', \n",
    "                            ylim=(0, 100), \n",
    "                            legend='top', \n",
    "                            shared_axes=False, \n",
    "                            width=1200, height=325)\n",
    "plot_8"
   ]
  },
  {
   "cell_type": "markdown",
   "id": "2b4f1756-7a87-4aa0-a494-0df8a27da977",
   "metadata": {},
   "source": [
    "# Percentage of legislators by length of time in office"
   ]
  },
  {
   "cell_type": "code",
   "execution_count": 403,
   "id": "52a0cc62-7d1c-4c7f-858d-d939a406718f",
   "metadata": {
    "tags": []
   },
   "outputs": [
    {
     "name": "stdout",
     "output_type": "stream",
     "text": [
      "Connection to PostgreSQL DB successful\n"
     ]
    },
    {
     "data": {
      "text/plain": [
       "[datetime.date(1789, 12, 31), '1 to 4', Decimal('100.0000000000000000')]"
      ]
     },
     "execution_count": 403,
     "metadata": {},
     "output_type": "execute_result"
    }
   ],
   "source": [
    "connection = create_connection(db_name, db_user, db_password, db_host, db_port)\n",
    "\n",
    "cursor = connection.cursor(cursor_factory=DictCursor)  \n",
    "# from psycopg2.extras import NamedTupleCursor | cursor_factory=NamedTupleCursor\n",
    "\n",
    "# Getting table values retail_sales\n",
    "cursor.execute(\"\"\"\n",
    "SELECT date, tenure\n",
    ",legislators * 100.0 / sum(legislators) over (partition by date) as pct_legislators \n",
    "FROM\n",
    "(\n",
    "        SELECT date\n",
    "        ,case when cume_years <= 4 then '1 to 4'\n",
    "              when cume_years <= 10 then '5 to 10'\n",
    "              when cume_years <= 20 then '11 to 20'\n",
    "              else '21+' end as tenure\n",
    "        ,count(distinct id_bioguide) as legislators\n",
    "        FROM\n",
    "        (\n",
    "                SELECT id_bioguide, date\n",
    "                ,count(date) over (partition by id_bioguide order by date rows between unbounded preceding and current row) as cume_years\n",
    "                FROM\n",
    "                (\n",
    "                        SELECT distinct a.id_bioguide, b.date\n",
    "                        FROM legislators_terms a\n",
    "                        JOIN (SELECT date,\n",
    "                                    EXTRACT(YEAR FROM date) AS year,\n",
    "                                    EXTRACT(MONTH FROM date) AS month_name,\n",
    "                                    EXTRACT(DAY FROM date) AS day_of_month\n",
    "                                FROM\n",
    "                                (\n",
    "                                    SELECT distinct make_date(date_part('year', term_start)::int,12,31) AS date\n",
    "                                    FROM legislators_terms\n",
    "                                    ORDER BY 1) date_dim) b on b.date between a.term_start and a.term_end \n",
    "                                    and b.month_name = 12 and b.day_of_month = 31 and b.year <= 2019\n",
    "                        GROUP BY 1,2\n",
    "                ) a\n",
    "        ) aa\n",
    "        GROUP BY 1,2\n",
    ") aaa\n",
    ";\n",
    "\"\"\")\n",
    "data_9 = cursor.fetchall()\n",
    "cursor.close()  # Close the cursor\n",
    "connection.close()  # We close the connection\n",
    "data_9[0]"
   ]
  },
  {
   "cell_type": "code",
   "execution_count": 404,
   "id": "7da99dd8-eebf-414d-8ce4-ec146ed8c6a1",
   "metadata": {
    "tags": []
   },
   "outputs": [
    {
     "data": {
      "text/html": [
       "<div>\n",
       "<style scoped>\n",
       "    .dataframe tbody tr th:only-of-type {\n",
       "        vertical-align: middle;\n",
       "    }\n",
       "\n",
       "    .dataframe tbody tr th {\n",
       "        vertical-align: top;\n",
       "    }\n",
       "\n",
       "    .dataframe thead th {\n",
       "        text-align: right;\n",
       "    }\n",
       "</style>\n",
       "<table border=\"1\" class=\"dataframe\">\n",
       "  <thead>\n",
       "    <tr style=\"text-align: right;\">\n",
       "      <th></th>\n",
       "      <th>date</th>\n",
       "      <th>tenure</th>\n",
       "      <th>pct_legislators</th>\n",
       "    </tr>\n",
       "  </thead>\n",
       "  <tbody>\n",
       "    <tr>\n",
       "      <th>0</th>\n",
       "      <td>1789-12-31</td>\n",
       "      <td>1 to 4</td>\n",
       "      <td>100.0000000000000000</td>\n",
       "    </tr>\n",
       "    <tr>\n",
       "      <th>1</th>\n",
       "      <td>1790-12-31</td>\n",
       "      <td>1 to 4</td>\n",
       "      <td>100.0000000000000000</td>\n",
       "    </tr>\n",
       "    <tr>\n",
       "      <th>2</th>\n",
       "      <td>1791-12-31</td>\n",
       "      <td>1 to 4</td>\n",
       "      <td>100.0000000000000000</td>\n",
       "    </tr>\n",
       "    <tr>\n",
       "      <th>3</th>\n",
       "      <td>1792-12-31</td>\n",
       "      <td>1 to 4</td>\n",
       "      <td>100.0000000000000000</td>\n",
       "    </tr>\n",
       "    <tr>\n",
       "      <th>4</th>\n",
       "      <td>1793-12-31</td>\n",
       "      <td>1 to 4</td>\n",
       "      <td>73.7588652482269504</td>\n",
       "    </tr>\n",
       "  </tbody>\n",
       "</table>\n",
       "</div>"
      ],
      "text/plain": [
       "         date  tenure       pct_legislators\n",
       "0  1789-12-31  1 to 4  100.0000000000000000\n",
       "1  1790-12-31  1 to 4  100.0000000000000000\n",
       "2  1791-12-31  1 to 4  100.0000000000000000\n",
       "3  1792-12-31  1 to 4  100.0000000000000000\n",
       "4  1793-12-31  1 to 4   73.7588652482269504"
      ]
     },
     "execution_count": 404,
     "metadata": {},
     "output_type": "execute_result"
    }
   ],
   "source": [
    "# Let's convert to DataFrame\n",
    "data_9 = pd.DataFrame(data_9, columns=['date','tenure', 'pct_legislators'])\n",
    "data_9.head()"
   ]
  },
  {
   "cell_type": "code",
   "execution_count": 405,
   "id": "1548fdbc-10fe-4195-9dfc-86595a3ec0d1",
   "metadata": {
    "tags": []
   },
   "outputs": [
    {
     "data": {
      "text/plain": [
       "date                object\n",
       "tenure              object\n",
       "pct_legislators    float64\n",
       "dtype: object"
      ]
     },
     "execution_count": 405,
     "metadata": {},
     "output_type": "execute_result"
    }
   ],
   "source": [
    "data_9['pct_legislators'] = data_9['pct_legislators'].astype('float')\n",
    "data_9.dtypes"
   ]
  },
  {
   "cell_type": "code",
   "execution_count": 406,
   "id": "aa5a3e9f-d023-43b0-ad43-5b1d6d7881db",
   "metadata": {
    "tags": []
   },
   "outputs": [
    {
     "data": {},
     "metadata": {},
     "output_type": "display_data"
    },
    {
     "data": {
      "application/vnd.holoviews_exec.v0+json": "",
      "text/html": [
       "<div id='1ca404c6-defc-4b8e-b5bd-2512e7bc7aa5'>\n",
       "  <div id=\"d98b95c0-8a24-452b-90b3-2c1ea11fa31d\" data-root-id=\"1ca404c6-defc-4b8e-b5bd-2512e7bc7aa5\" style=\"display: contents;\"></div>\n",
       "</div>\n",
       "<script type=\"application/javascript\">(function(root) {\n",
       "  var docs_json = {\"5b761c85-403e-426f-98ff-7e037a481dbf\":{\"version\":\"3.2.1\",\"title\":\"Bokeh Application\",\"roots\":[{\"type\":\"object\",\"name\":\"Row\",\"id\":\"1ca404c6-defc-4b8e-b5bd-2512e7bc7aa5\",\"attributes\":{\"name\":\"Row55299\",\"tags\":[\"embedded\"],\"stylesheets\":[\"\\n:host(.pn-loading.pn-arc):before, .pn-loading.pn-arc:before {\\n  background-image: url(\\\"data:image/svg+xml;base64,PHN2ZyB4bWxucz0iaHR0cDovL3d3dy53My5vcmcvMjAwMC9zdmciIHN0eWxlPSJtYXJnaW46IGF1dG87IGJhY2tncm91bmQ6IG5vbmU7IGRpc3BsYXk6IGJsb2NrOyBzaGFwZS1yZW5kZXJpbmc6IGF1dG87IiB2aWV3Qm94PSIwIDAgMTAwIDEwMCIgcHJlc2VydmVBc3BlY3RSYXRpbz0ieE1pZFlNaWQiPiAgPGNpcmNsZSBjeD0iNTAiIGN5PSI1MCIgZmlsbD0ibm9uZSIgc3Ryb2tlPSIjYzNjM2MzIiBzdHJva2Utd2lkdGg9IjEwIiByPSIzNSIgc3Ryb2tlLWRhc2hhcnJheT0iMTY0LjkzMzYxNDMxMzQ2NDE1IDU2Ljk3Nzg3MTQzNzgyMTM4Ij4gICAgPGFuaW1hdGVUcmFuc2Zvcm0gYXR0cmlidXRlTmFtZT0idHJhbnNmb3JtIiB0eXBlPSJyb3RhdGUiIHJlcGVhdENvdW50PSJpbmRlZmluaXRlIiBkdXI9IjFzIiB2YWx1ZXM9IjAgNTAgNTA7MzYwIDUwIDUwIiBrZXlUaW1lcz0iMDsxIj48L2FuaW1hdGVUcmFuc2Zvcm0+ICA8L2NpcmNsZT48L3N2Zz4=\\\");\\n  background-size: auto calc(min(50%, 400px));\\n}\",{\"type\":\"object\",\"name\":\"ImportedStyleSheet\",\"id\":\"b4a9a02e-af4f-4da5-b223-bf7ab85d33fd\",\"attributes\":{\"url\":\"https://cdn.holoviz.org/panel/1.2.1/dist/css/loading.css\"}},{\"type\":\"object\",\"name\":\"ImportedStyleSheet\",\"id\":\"a8a88145-c2bd-420a-9a42-04703062a927\",\"attributes\":{\"url\":\"https://cdn.holoviz.org/panel/1.2.1/dist/css/listpanel.css\"}},{\"type\":\"object\",\"name\":\"ImportedStyleSheet\",\"id\":\"65c37220-bd0c-46d4-aaf0-4ac47d759a3b\",\"attributes\":{\"url\":\"https://cdn.holoviz.org/panel/1.2.1/dist/bundled/theme/default.css\"}},{\"type\":\"object\",\"name\":\"ImportedStyleSheet\",\"id\":\"c8e68f27-4827-4bb3-a859-c2c6fd9230c0\",\"attributes\":{\"url\":\"https://cdn.holoviz.org/panel/1.2.1/dist/bundled/theme/native.css\"}}],\"min_width\":1200,\"margin\":0,\"sizing_mode\":\"stretch_width\",\"align\":\"start\",\"children\":[{\"type\":\"object\",\"name\":\"Spacer\",\"id\":\"7af859d9-3aa1-447a-b060-fafad40bd397\",\"attributes\":{\"name\":\"HSpacer55310\",\"stylesheets\":[\"\\n:host(.pn-loading.pn-arc):before, .pn-loading.pn-arc:before {\\n  background-image: url(\\\"data:image/svg+xml;base64,PHN2ZyB4bWxucz0iaHR0cDovL3d3dy53My5vcmcvMjAwMC9zdmciIHN0eWxlPSJtYXJnaW46IGF1dG87IGJhY2tncm91bmQ6IG5vbmU7IGRpc3BsYXk6IGJsb2NrOyBzaGFwZS1yZW5kZXJpbmc6IGF1dG87IiB2aWV3Qm94PSIwIDAgMTAwIDEwMCIgcHJlc2VydmVBc3BlY3RSYXRpbz0ieE1pZFlNaWQiPiAgPGNpcmNsZSBjeD0iNTAiIGN5PSI1MCIgZmlsbD0ibm9uZSIgc3Ryb2tlPSIjYzNjM2MzIiBzdHJva2Utd2lkdGg9IjEwIiByPSIzNSIgc3Ryb2tlLWRhc2hhcnJheT0iMTY0LjkzMzYxNDMxMzQ2NDE1IDU2Ljk3Nzg3MTQzNzgyMTM4Ij4gICAgPGFuaW1hdGVUcmFuc2Zvcm0gYXR0cmlidXRlTmFtZT0idHJhbnNmb3JtIiB0eXBlPSJyb3RhdGUiIHJlcGVhdENvdW50PSJpbmRlZmluaXRlIiBkdXI9IjFzIiB2YWx1ZXM9IjAgNTAgNTA7MzYwIDUwIDUwIiBrZXlUaW1lcz0iMDsxIj48L2FuaW1hdGVUcmFuc2Zvcm0+ICA8L2NpcmNsZT48L3N2Zz4=\\\");\\n  background-size: auto calc(min(50%, 400px));\\n}\",{\"id\":\"b4a9a02e-af4f-4da5-b223-bf7ab85d33fd\"},{\"id\":\"65c37220-bd0c-46d4-aaf0-4ac47d759a3b\"},{\"id\":\"c8e68f27-4827-4bb3-a859-c2c6fd9230c0\"}],\"margin\":0,\"sizing_mode\":\"stretch_width\",\"align\":\"start\"}},{\"type\":\"object\",\"name\":\"Figure\",\"id\":\"09ba449f-1f97-4871-8c28-47cade187441\",\"attributes\":{\"width\":1200,\"height\":325,\"margin\":[5,10],\"sizing_mode\":\"fixed\",\"align\":\"start\",\"x_range\":{\"type\":\"object\",\"name\":\"Range1d\",\"id\":\"1f6fb8ff-d0b2-4f1c-9ac8-a060ee172508\",\"attributes\":{\"tags\":[[[\"date\",\"date\",null]],[]],\"start\":-5680281600000.0,\"end\":1577750400000.0,\"reset_start\":-5680281600000.0,\"reset_end\":1577750400000.0}},\"y_range\":{\"type\":\"object\",\"name\":\"Range1d\",\"id\":\"63e77244-8152-4d58-a6f2-ad887a74930d\",\"attributes\":{\"tags\":[[[\"pct_legislators\",\"pct_legislators\",null]],{\"type\":\"map\",\"entries\":[[\"invert_yaxis\",false],[\"autorange\",false]]}],\"end\":100,\"reset_start\":0,\"reset_end\":100}},\"x_scale\":{\"type\":\"object\",\"name\":\"LinearScale\",\"id\":\"4131cd00-2de1-4fa2-bd36-285daa1239c8\"},\"y_scale\":{\"type\":\"object\",\"name\":\"LinearScale\",\"id\":\"78e909b9-876e-4c42-820f-e13403e20052\"},\"title\":{\"type\":\"object\",\"name\":\"Title\",\"id\":\"6aeb4ae0-05aa-403c-aee0-32f1d40b211b\",\"attributes\":{\"text\":\"Percentage of legislators by length of time in office\",\"text_color\":\"black\",\"text_font_size\":\"12pt\"}},\"renderers\":[{\"type\":\"object\",\"name\":\"GlyphRenderer\",\"id\":\"c54b7ef9-49b0-45b2-9e6f-6f824786bd14\",\"attributes\":{\"name\":\"1 to 4\",\"data_source\":{\"type\":\"object\",\"name\":\"ColumnDataSource\",\"id\":\"d3a9a4b2-add5-488f-bf23-df420af33268\",\"attributes\":{\"selected\":{\"type\":\"object\",\"name\":\"Selection\",\"id\":\"7b14e97d-1235-48c5-a9e0-ee290aac545f\",\"attributes\":{\"indices\":[],\"line_indices\":[]}},\"selection_policy\":{\"type\":\"object\",\"name\":\"UnionRenderers\",\"id\":\"75d216d8-9a8b-4b95-9c0f-3b3d3c15a29b\"},\"data\":{\"type\":\"map\",\"entries\":[[\"x\",{\"type\":\"ndarray\",\"array\":{\"type\":\"bytes\",\"data\":\"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\"},\"shape\":[458],\"dtype\":\"float64\",\"order\":\"little\"}],[\"y\",{\"type\":\"ndarray\",\"array\":{\"type\":\"bytes\",\"data\":\"AAAAAAAAAAAAAAAAAAAAAAAAAAAAAAAAAAAAAAAAAAAAAAAAAAAAAAAAAAAAAAAAAAAAAAAAAAAAAAAAAAAAAAAAAAAAAAAAAAAAAAAAAAAAAAAAAAAAAAAAAAAAAAAAAAAAAAAAAAAAAAAAAAAAAAAAAAAAAAAAAAAAAAAAAAAAAAAAAAAAAAAAAAAAAAAAAAAAAAAAAAAAAAAAAAAAAAAAAAAAAAAAAAAAAAAAAAAAAAAAAAAAAAAAAAAAAAAAAAAAAAAAAAAAAAAAAAAAAAAAAAAAAAAAAAAAAAAAAAAAAAAAAAAAAAAAAAAAAAAAAAAAAAAAAAAAAAAAAAAAAAAAAAAAAAAAAAAAAAAAAAAAAAAAAAAAAAAAAAAAAAAAAAAAAAAAAAAAAAAAAAAAAAAAAAAAAAAAAAAAAAAAAAAAAAAAAAAAAAAAAAAAAAAAAAAAAAAAAAAAAAAAAAAAAAAAAAAAAAAAAAAAAAAAAAAAAAAAAAAAAAAAAAAAAAAAAAAAAAAAAAAAAAAAAAAAAAAAAAAAAAAAAAAAAAAAAAAAAAAAAAAAAAAAAAAAAAAAAAAAAAAAAAAAAAAAAAAAAAAAAAAAAAAAAAAAAAAAAAAAAAAAAAAAAAAAAAAAAAAAAAAAAAAAAAAAAAAAAAAAAAAAAAAAAAAAAAAAAAAAAAAAAAAAAAAAAAAAAAAAAAAAAAAAAAAAAAAAAAAAAAAAAAAAAAAAAAAAAAAAAAAAAAAAAAAAAAAAAAAAAAAAAAAAAAAAAAAAAAAAAAAAAAAAAAAAAAAAAAAAAAAAAAAAAAAAAAAAAAAAAAAAAAAAAAAAAAAAAAAAAAAAAAAAAAAAAAAAAAAAAAAAAAAAAAAAAAAAAAAAAAAAAAAAAAAAAAAAAAAAAAAAAAAAAAAAAAAAAAAAAAAAAAAAAAAAAAAAAAAAAAAAAAAAAAAAAAAAAAAAAAAAAAAAAAAAAAAAAAAAAAAAAAAAAAAAAAAAAAAAAAAAAAAAAAAAAAAAAAAAAAAAAAAAAAAAAAAAAAAAAAAAAAAAAAAAAAAAAAAAAAAAAAAAAAAAAAAAAAAAAAAAAAAAAAAAAAAAAAAAAAAAAAAAAAAAAAAAAAAAAAAAAAAAAAAAAAAAAAAAAAAAAAAAAAAAAAAAAAAAAAAAAAAAAAAAAAAAAAAAAAAAAAAAAAAAAAAAAAAAAAAAAAAAAAAAAAAAAAAAAAAAAAAAAAAAAAAAAAAAAAAAAAAAAAAAAAAAAAAAAAAAAAAAAAAAAAAAAAAAAAAAAAAAAAAAAAAAAAAAAAAAAAAAAAAAAAAAAAAAAAAAAAAAAAAAAAAAAAAAAAAAAAAAAAAAAAAAAAAAAAAAAAAAAAAAAAAAAAAAAAAAAAAAAAAAAAAAAAAAAAAAAAAAAAAAAAAAAAAAAAAAAAAAAAAAAAAAAAAAAAAAAAAAAAAAAAAAAAAAAAAAAAAAAAAAAAAAAAAAAAAAAAAAAAAAAAAAAAAAAAAAAAAAAAAAAAAAAAAAAAAAAAAAAAAAAAAAAAAAAAAAAAAAAAAAAAAAAAAAAAAAAAAAAAAAAAAAAAAAAAAAAAAAAAAAAAAAAAAAAAAAAAAAAAAAAAAAAAAAAAAAAAAAAAAAAAAAAAAAAAAAAAAAAAAAAAAAAAAAAAAAAAAAAAAAAAAAAAAAAAAAAAAAAAAAAAAAAAAAAAAAAAAAAAAAAAAAAAAAAAAAAAAAAAAAAAAAAAAAAAAAAAAAAAAAAAAAAAAAAAAAAAAAAAAAAAAAAAAAAAAAAAAAAAAAAAAAAAAAAAAAAAAAAAAAAAAAAAAAAAAAAAAAAAAAAAAAAAAAAAAAAAAAAAAAAAAAAAAAAAAAAAAAAAAAAAAAAAAAAAAAAAAAAAAAAAAAAAAAAAAAAAAAAAAAAAAAAAAAAAAAAAAAAAAAAAAAAAAAAAAAAAAAAAAAAAAAAAAAAAAAAAAAAAAAAAAAAAAAAAAAAAAAAAAAAAAAAAAAAAAAAAAAAAAAAAAAAAAAAAAAAAAAAAAAAAAAAAAAAAAAAAAAAAAAAAAAAAAAAAAAAAAAAAAAAAAAAAAAAAAAAAAAAAAAAAAAAAAAAAAAAAAAAAAAAAAAAAAAAAAAAAAAAAAAAAAAAAAAAAAAAAAAAAAAAAAAAAAAAAAAAAAAAAAAAAAAAAAAAAAAAAAAAAAAAAAAAAAAAAAAAAAAAAAAAAAAAAAAAAAAAAAAAAAAAAAAAAAAAAAAAAAAAAAAAAAAAAAAAAAAAAAAAAAAAAAAAAAAAAAAAAAAAAAAAAAAAAAAAAAAAAAAAAAAAAAAAAAAAAAAAAAAAAAAAAAAAAAAAAAAAAAAAAAAAAAAAAAAAAAAAAAAAAAAAAAAAAAAAAAAAAAAAAAAAAAAAAAAAAAAAAAAAAAAAAAAAAAAAAAAAAAAAAAAAAAAAAAAAACq/B6XO/s9QJWyGCRcmjlA7CjpdwqJOEBoL6G9hPY7QExoL6G9hDxAVlL6e8LpQEC5IbvCkhFBQNw9+9iMHD5AE9pLaC+hPUChvYT2Eto6QBODp7YWEDpATHAyN17RNEBlNRCORkw0QNmMHOqyVDNApFIWg4RLM0C7LNWg8wA1QFW3WtP59jRA6a/nKpaNM0AJ7SW0l9AzQDmO4ziO4zdAHMdxHMdxOEAJ7SW0l9A9QJEIE5zMjT1AAO33QomNQkBMIPTayXVCQECETGHXJEBApqWlpaUVQEC8mk0MntoyQB3ddTr89zJAL6G9hPYSM0Ad3XU6/PcyQA7/7s16ojJAUscDRMgUMkDi4eHh4aE4QNPS0tLScjhApqWlpaUlPkC1tLS0tFQ+QOhk+iphbEBAOpm+ShibQEA27SdLYNM+QAAAAAAAQD9A8fDw8PAAQUCHcAiHcAhBQDJyhFd3i0BAIXNu3ENFQEDpiI7oiI46QB7gAR7gATpAAAAAAADgNUA7IxVzqzM2QC+66KKLLjhAty7vgCNFOECX9Y3kASw7QI7jOI7jODtAhEM4hEM4PkBP7MRO7MQ+QMpjYmlG9TpA5NblHXCkOkCdBOJCzUk8QBphuacRljtAAAAAAAAAPEAxC8gXiVI7QFpaWlpa2jNA8MJB9PguNEBVvJpNDJ46QBn+iWsLxDpAUhBZ7QeDP0AVzRNqAWM+QIwuuuiiiz5Av+0s4OtYPkDVTd3UTd1CQOZndqGtj0NAo4suuuiiQUAszahe0ZNBQEr8jBI/Y0JACZ5BFYWwQUD6aDUJUfxBQKBPNPfaz0FAgrl2YK4dQkBF6HOiXEVCQGVb7TIwEkRA91PImd/2Q0AevTK239FDQHAjpCCy2kNARfxnTdI5SEAeHh4eHs5HQKOLLrrookdAYZcRSmCwR0DZVrsMjAQ+QI+4I+6IOz5A3Peq+YQXPEC5yjmAPFY7QLVMOTr9tjpAr+jJY2JpOkD1VcLYLChCQK7vphL4fEJATALH61sYRUCme67tV8BEQC+suwKFnkVAmE7Jskd0RUCpRPNz+81DQPdTyJnf9kNAKJKOJl6qRED3U8iZ3/ZDQEK3a+WEZ0ZAGqmYW52RRkAtCXo9S4JLQEmSJEmSxEtAJNwj3CPcRkDqLKazmM5GQD6/PxUHrUJAJ+xQZzN9QkDrKhE6F9ZCQB14jHT94kJAtdAduxqWRUAOAm59NuNFQDR1fu0hl0ZAfO+99977RkBodjhjqSlGQGh2OGOpKUZAMJhY60lIS0BBTK4gJldLQKa9B253WE5AN9xwww03TkDUTz/99NNPQD8vDdTnJVBAFsTkCmJyS0Bno76zUd9LQP1ehvxehk1AWc8xWc8xUUByHMdxHMdKQFnJSlayklBA2B5yWTFQTEA+Ero2LqROQD4SujYupE5AxYzd5ZMpTkAYqKvREb5OQKpZfwa/iUtArLb+9sDGUUBw3lZMHBFQQMVO7MRObFNAwqYARzs9UUB5VLHhqpNSQGUKmA9kl1JAsOKElDzLUEC9biZdqRxRQHkgN40HclBA4uHh4eEhUUBpvYBtTldRQFF31gx1Z1FAx3Ecx3EcUEDkRMv1u49PQK0nyjbaV1FAr6G8hvIaUUAAAAAAAMZRQAAAAAAA+FFAPK3utLpTUkDm6aPVJERRQFo4A0LJHVBAAAAAAABoUEADVLL1bnxQQCQT6J26llBA5Y865Y+6UUDljzrlj7pRQGTPQFQ6MlJAEARBEARBUkC+9957771RQCKoF1zdJlJAp9TcgmDaUECttdZaay1RQKuqqqqqqlBAJ1qu332cUEBVVVVVVdVSQFFg0ql5kFJA1g2myGf9UUBO6r48tiJSQAAAAAAAQE9A27Zt27ZtT0BG3YZNILhQQHSlAfL2zFBAkTzZ76NZUUDGtyXvqhVRQNHCGRBKblBAr3q6/CN0UEDHYrjgCaxPQI/ICcLd2E9ASGqZcnT6S0CJn1HiZxRMQPXTTz/99EtA70nwDKooTEBlPqQ7mQ9LQFwskNQy5UpA8tulnozfTECSJEmSJElNQEeKhvjj1k5AxMPDw8ODTkA+jbDc0whPQL+gL+gL+k9AHLTmTMSWUUBmZmZmZmZSQAgoPmdquVJAkPh2kPh2UkBPqe5irSJQQH3x4YrWF1BA8z7FJUMwUECS03ytnh1QQAzDMAzDMEpA8GM1e5LvSUC+Dks4qr9LQBQ7sRM7sUtA0Zw1KJ72SkAAAAAAAFhLQFVVVVVVbU1AMbmCmFxBTUBBTK4gJhdQQPWmN73pTVBAjjRHmiPNTUCMLrroootNQOzT9en6dE9AHEyRz7rBT0B0zjnnnHNQQMprKK+hnFBAVVVVVVXVUEDd0wjLPY1QQEmSJEmSZFJAKs2LP5FwUkAAAAAAAABZQAAAAAAAAFlAAAAAAAAAWUAAAAAAAABZQA==\"},\"shape\":[458],\"dtype\":\"float64\",\"order\":\"little\"}]]}}},\"view\":{\"type\":\"object\",\"name\":\"CDSView\",\"id\":\"197e81d8-290b-4c43-8d24-a83d5fb00097\",\"attributes\":{\"filter\":{\"type\":\"object\",\"name\":\"AllIndices\",\"id\":\"80306317-572b-43f3-b154-8bb74d1f1fe5\"}}},\"glyph\":{\"type\":\"object\",\"name\":\"Patch\",\"id\":\"01c16074-4861-4a95-9f19-79f3d3cf3524\",\"attributes\":{\"tags\":[\"apply_ranges\"],\"x\":{\"type\":\"field\",\"field\":\"x\"},\"y\":{\"type\":\"field\",\"field\":\"y\"},\"fill_color\":\"#30a2da\",\"hatch_color\":\"#30a2da\"}},\"selection_glyph\":{\"type\":\"object\",\"name\":\"Patch\",\"id\":\"acd1a1e0-4baf-48da-8d0f-cd2c7a948fe2\",\"attributes\":{\"tags\":[\"apply_ranges\"],\"x\":{\"type\":\"field\",\"field\":\"x\"},\"y\":{\"type\":\"field\",\"field\":\"y\"},\"fill_color\":\"#30a2da\",\"hatch_color\":\"#30a2da\"}},\"nonselection_glyph\":{\"type\":\"object\",\"name\":\"Patch\",\"id\":\"c00a8e7d-3c25-4e40-a5b9-8f42aadbf47b\",\"attributes\":{\"tags\":[\"apply_ranges\"],\"x\":{\"type\":\"field\",\"field\":\"x\"},\"y\":{\"type\":\"field\",\"field\":\"y\"},\"line_alpha\":1,\"fill_color\":\"#30a2da\",\"fill_alpha\":1,\"hatch_color\":\"#30a2da\",\"hatch_alpha\":0.1}},\"muted_glyph\":{\"type\":\"object\",\"name\":\"Patch\",\"id\":\"b6a0c79f-12e9-4835-9ae3-40fbda41096d\",\"attributes\":{\"tags\":[\"apply_ranges\"],\"x\":{\"type\":\"field\",\"field\":\"x\"},\"y\":{\"type\":\"field\",\"field\":\"y\"},\"line_alpha\":0.2,\"fill_color\":\"#30a2da\",\"fill_alpha\":0.2,\"hatch_color\":\"#30a2da\",\"hatch_alpha\":0.2}}}},{\"type\":\"object\",\"name\":\"GlyphRenderer\",\"id\":\"cec5a86c-bc6e-453a-bdfb-07d2892633d5\",\"attributes\":{\"name\":\"11 to 20\",\"data_source\":{\"type\":\"object\",\"name\":\"ColumnDataSource\",\"id\":\"e900f68a-035e-47e8-8d97-d3081b990106\",\"attributes\":{\"selected\":{\"type\":\"object\",\"name\":\"Selection\",\"id\":\"f47f63ce-522b-42ad-a0c1-42795e10a51e\",\"attributes\":{\"indices\":[],\"line_indices\":[]}},\"selection_policy\":{\"type\":\"object\",\"name\":\"UnionRenderers\",\"id\":\"cb7b084a-e500-45ee-ba3b-4f1dbfeaabae\"},\"data\":{\"type\":\"map\",\"entries\":[[\"x\",{\"type\":\"ndarray\",\"array\":{\"type\":\"bytes\",\"data\":\"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\"},\"shape\":[458],\"dtype\":\"float64\",\"order\":\"little\"}],[\"y\",{\"type\":\"ndarray\",\"array\":{\"type\":\"bytes\",\"data\":\"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\"},\"shape\":[458],\"dtype\":\"float64\",\"order\":\"little\"}]]}}},\"view\":{\"type\":\"object\",\"name\":\"CDSView\",\"id\":\"1b7abaf1-6b9f-43bb-994d-dc694ed793ef\",\"attributes\":{\"filter\":{\"type\":\"object\",\"name\":\"AllIndices\",\"id\":\"eeb12f15-778b-4007-aedf-a0de0084f173\"}}},\"glyph\":{\"type\":\"object\",\"name\":\"Patch\",\"id\":\"1531248c-c405-4b5a-9fd1-714046b8b1f0\",\"attributes\":{\"tags\":[\"apply_ranges\"],\"x\":{\"type\":\"field\",\"field\":\"x\"},\"y\":{\"type\":\"field\",\"field\":\"y\"},\"fill_color\":\"#fc4f30\",\"hatch_color\":\"#fc4f30\"}},\"selection_glyph\":{\"type\":\"object\",\"name\":\"Patch\",\"id\":\"f1ad5ad1-d623-459b-a034-9130705cc585\",\"attributes\":{\"tags\":[\"apply_ranges\"],\"x\":{\"type\":\"field\",\"field\":\"x\"},\"y\":{\"type\":\"field\",\"field\":\"y\"},\"fill_color\":\"#fc4f30\",\"hatch_color\":\"#fc4f30\"}},\"nonselection_glyph\":{\"type\":\"object\",\"name\":\"Patch\",\"id\":\"0b7d5e82-5d3b-4f3e-b764-0039ee354b79\",\"attributes\":{\"tags\":[\"apply_ranges\"],\"x\":{\"type\":\"field\",\"field\":\"x\"},\"y\":{\"type\":\"field\",\"field\":\"y\"},\"line_alpha\":1,\"fill_color\":\"#fc4f30\",\"fill_alpha\":1,\"hatch_color\":\"#fc4f30\",\"hatch_alpha\":0.1}},\"muted_glyph\":{\"type\":\"object\",\"name\":\"Patch\",\"id\":\"d61b18bb-f18e-453a-8f65-8d3845e5280e\",\"attributes\":{\"tags\":[\"apply_ranges\"],\"x\":{\"type\":\"field\",\"field\":\"x\"},\"y\":{\"type\":\"field\",\"field\":\"y\"},\"line_alpha\":0.2,\"fill_color\":\"#fc4f30\",\"fill_alpha\":0.2,\"hatch_color\":\"#fc4f30\",\"hatch_alpha\":0.2}}}},{\"type\":\"object\",\"name\":\"GlyphRenderer\",\"id\":\"e88b2c58-6dee-49a0-8c11-d1b024c8815e\",\"attributes\":{\"name\":\"21+\",\"data_source\":{\"type\":\"object\",\"name\":\"ColumnDataSource\",\"id\":\"dcb20410-10a2-445d-aa09-8ceb7e197270\",\"attributes\":{\"selected\":{\"type\":\"object\",\"name\":\"Selection\",\"id\":\"37a4e2cb-927f-40ec-b523-069e34a1cf86\",\"attributes\":{\"indices\":[],\"line_indices\":[]}},\"selection_policy\":{\"type\":\"object\",\"name\":\"UnionRenderers\",\"id\":\"93f1a5d5-d277-49da-88e8-f5f73cc8a652\"},\"data\":{\"type\":\"map\",\"entries\":[[\"x\",{\"type\":\"ndarray\",\"array\":{\"type\":\"bytes\",\"data\":\"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\"},\"shape\":[458],\"dtype\":\"float64\",\"order\":\"little\"}],[\"y\",{\"type\":\"ndarray\",\"array\":{\"type\":\"bytes\",\"data\":\"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\"},\"shape\":[458],\"dtype\":\"float64\",\"order\":\"little\"}]]}}},\"view\":{\"type\":\"object\",\"name\":\"CDSView\",\"id\":\"3945802a-97b0-4034-87f0-bfc1870e0ed0\",\"attributes\":{\"filter\":{\"type\":\"object\",\"name\":\"AllIndices\",\"id\":\"7339b839-72b0-4b84-9bc0-a83afae47af3\"}}},\"glyph\":{\"type\":\"object\",\"name\":\"Patch\",\"id\":\"4f472b47-56b9-4ef5-b0b5-da84daf6881d\",\"attributes\":{\"tags\":[\"apply_ranges\"],\"x\":{\"type\":\"field\",\"field\":\"x\"},\"y\":{\"type\":\"field\",\"field\":\"y\"},\"fill_color\":\"#e5ae38\",\"hatch_color\":\"#e5ae38\"}},\"selection_glyph\":{\"type\":\"object\",\"name\":\"Patch\",\"id\":\"4a11d3ff-9ef0-4968-8563-8dad2d5e7a1f\",\"attributes\":{\"tags\":[\"apply_ranges\"],\"x\":{\"type\":\"field\",\"field\":\"x\"},\"y\":{\"type\":\"field\",\"field\":\"y\"},\"fill_color\":\"#e5ae38\",\"hatch_color\":\"#e5ae38\"}},\"nonselection_glyph\":{\"type\":\"object\",\"name\":\"Patch\",\"id\":\"a3becddb-6ca1-4d4a-b556-45e4a3d98f27\",\"attributes\":{\"tags\":[\"apply_ranges\"],\"x\":{\"type\":\"field\",\"field\":\"x\"},\"y\":{\"type\":\"field\",\"field\":\"y\"},\"line_alpha\":1,\"fill_color\":\"#e5ae38\",\"fill_alpha\":1,\"hatch_color\":\"#e5ae38\",\"hatch_alpha\":0.1}},\"muted_glyph\":{\"type\":\"object\",\"name\":\"Patch\",\"id\":\"8e6c1823-8a56-44ce-b65b-ff531d905879\",\"attributes\":{\"tags\":[\"apply_ranges\"],\"x\":{\"type\":\"field\",\"field\":\"x\"},\"y\":{\"type\":\"field\",\"field\":\"y\"},\"line_alpha\":0.2,\"fill_color\":\"#e5ae38\",\"fill_alpha\":0.2,\"hatch_color\":\"#e5ae38\",\"hatch_alpha\":0.2}}}},{\"type\":\"object\",\"name\":\"GlyphRenderer\",\"id\":\"4d115534-d7fd-4bd3-b88c-3a71a055d1af\",\"attributes\":{\"name\":\"5 to 10\",\"data_source\":{\"type\":\"object\",\"name\":\"ColumnDataSource\",\"id\":\"0ec03540-7d1c-4a9c-a6f7-038d487b516d\",\"attributes\":{\"selected\":{\"type\":\"object\",\"name\":\"Selection\",\"id\":\"de9299c8-38cf-470d-8750-044e3494dd1e\",\"attributes\":{\"indices\":[],\"line_indices\":[]}},\"selection_policy\":{\"type\":\"object\",\"name\":\"UnionRenderers\",\"id\":\"d57b0ca0-f3c3-40e1-9cd4-2d8c3311fe44\"},\"data\":{\"type\":\"map\",\"entries\":[[\"x\",{\"type\":\"ndarray\",\"array\":{\"type\":\"bytes\",\"data\":\"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\"},\"shape\":[458],\"dtype\":\"float64\",\"order\":\"little\"}],[\"y\",{\"type\":\"ndarray\",\"array\":{\"type\":\"bytes\",\"data\":\"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\"},\"shape\":[458],\"dtype\":\"float64\",\"order\":\"little\"}]]}}},\"view\":{\"type\":\"object\",\"name\":\"CDSView\",\"id\":\"4cac7eeb-680f-4d8c-8e58-c1f49d57826e\",\"attributes\":{\"filter\":{\"type\":\"object\",\"name\":\"AllIndices\",\"id\":\"3793dae9-0a46-4170-bc13-0b3a2faf2328\"}}},\"glyph\":{\"type\":\"object\",\"name\":\"Patch\",\"id\":\"a8c472e5-58b4-4a50-ac32-185046c4ce17\",\"attributes\":{\"tags\":[\"apply_ranges\"],\"x\":{\"type\":\"field\",\"field\":\"x\"},\"y\":{\"type\":\"field\",\"field\":\"y\"},\"fill_color\":\"#6d904f\",\"hatch_color\":\"#6d904f\"}},\"selection_glyph\":{\"type\":\"object\",\"name\":\"Patch\",\"id\":\"5039efb6-84f0-4981-a1b4-3bf50efb0e7a\",\"attributes\":{\"tags\":[\"apply_ranges\"],\"x\":{\"type\":\"field\",\"field\":\"x\"},\"y\":{\"type\":\"field\",\"field\":\"y\"},\"fill_color\":\"#6d904f\",\"hatch_color\":\"#6d904f\"}},\"nonselection_glyph\":{\"type\":\"object\",\"name\":\"Patch\",\"id\":\"de2ab98c-af10-4c90-8a1f-7d7320569572\",\"attributes\":{\"tags\":[\"apply_ranges\"],\"x\":{\"type\":\"field\",\"field\":\"x\"},\"y\":{\"type\":\"field\",\"field\":\"y\"},\"line_alpha\":1,\"fill_color\":\"#6d904f\",\"fill_alpha\":1,\"hatch_color\":\"#6d904f\",\"hatch_alpha\":0.1}},\"muted_glyph\":{\"type\":\"object\",\"name\":\"Patch\",\"id\":\"89b03422-ed6f-4140-b0e7-35a26f80ed68\",\"attributes\":{\"tags\":[\"apply_ranges\"],\"x\":{\"type\":\"field\",\"field\":\"x\"},\"y\":{\"type\":\"field\",\"field\":\"y\"},\"line_alpha\":0.2,\"fill_color\":\"#6d904f\",\"fill_alpha\":0.2,\"hatch_color\":\"#6d904f\",\"hatch_alpha\":0.2}}}}],\"toolbar\":{\"type\":\"object\",\"name\":\"Toolbar\",\"id\":\"0669d8bd-cd22-4a22-b1f8-8a0d6c2cc223\",\"attributes\":{\"tools\":[{\"type\":\"object\",\"name\":\"WheelZoomTool\",\"id\":\"3c8ca72b-1b7f-4cb2-abe9-80529bd7fd0b\",\"attributes\":{\"tags\":[\"hv_created\"],\"zoom_together\":\"none\"}},{\"type\":\"object\",\"name\":\"HoverTool\",\"id\":\"e2131caf-1f86-4b4c-b26a-f324664afe58\",\"attributes\":{\"tags\":[\"hv_created\"],\"renderers\":[{\"id\":\"c54b7ef9-49b0-45b2-9e6f-6f824786bd14\"},{\"id\":\"cec5a86c-bc6e-453a-bdfb-07d2892633d5\"},{\"id\":\"e88b2c58-6dee-49a0-8c11-d1b024c8815e\"},{\"id\":\"4d115534-d7fd-4bd3-b88c-3a71a055d1af\"}],\"tooltips\":[[\"tenure\",\"@{tenure}\"],[\"date\",\"@{date}\"],[\"pct_legislators\",\"@{pct_legislators}\"],[\"Baseline\",\"@{Baseline}\"]],\"formatters\":{\"type\":\"map\",\"entries\":[[\"@{x}\",\"datetime\"]]}}},{\"type\":\"object\",\"name\":\"SaveTool\",\"id\":\"3983dbe5-0102-4958-8a77-85c5f554ee15\"},{\"type\":\"object\",\"name\":\"PanTool\",\"id\":\"9c13ec91-6ea5-4ad9-9bf4-894a49450bda\"},{\"type\":\"object\",\"name\":\"BoxZoomTool\",\"id\":\"177fa100-d0eb-4805-b488-056d4200ee68\",\"attributes\":{\"overlay\":{\"type\":\"object\",\"name\":\"BoxAnnotation\",\"id\":\"ad2655f3-02b6-4668-9c02-4fce4b8ce65b\",\"attributes\":{\"syncable\":false,\"level\":\"overlay\",\"visible\":false,\"left_units\":\"canvas\",\"right_units\":\"canvas\",\"bottom_units\":\"canvas\",\"top_units\":\"canvas\",\"line_color\":\"black\",\"line_alpha\":1.0,\"line_width\":2,\"line_dash\":[4,4],\"fill_color\":\"lightgrey\",\"fill_alpha\":0.5}}}},{\"type\":\"object\",\"name\":\"ResetTool\",\"id\":\"9fb39166-0011-4004-adec-73e6f4bc793f\"}],\"active_drag\":{\"id\":\"9c13ec91-6ea5-4ad9-9bf4-894a49450bda\"},\"active_scroll\":{\"id\":\"3c8ca72b-1b7f-4cb2-abe9-80529bd7fd0b\"}}},\"left\":[{\"type\":\"object\",\"name\":\"LinearAxis\",\"id\":\"51d3861a-5b74-48f8-a48e-0f8720bde81d\",\"attributes\":{\"ticker\":{\"type\":\"object\",\"name\":\"BasicTicker\",\"id\":\"e687a98e-4426-4f67-951e-6f0f46a1300b\",\"attributes\":{\"mantissas\":[1,2,5]}},\"formatter\":{\"type\":\"object\",\"name\":\"BasicTickFormatter\",\"id\":\"3f6cefce-3b87-47ce-bb5b-10a71c5fc1aa\"},\"axis_label\":\"pct_legislators\",\"major_label_policy\":{\"type\":\"object\",\"name\":\"AllLabels\",\"id\":\"66c99806-b734-4e71-946c-eb105a989792\"}}}],\"above\":[{\"type\":\"object\",\"name\":\"Legend\",\"id\":\"1228e5e6-3998-49cb-a712-60159f59014b\",\"attributes\":{\"location\":[0,0],\"orientation\":\"horizontal\",\"title\":\"tenure\",\"click_policy\":\"mute\",\"items\":[{\"type\":\"object\",\"name\":\"LegendItem\",\"id\":\"5ff9e145-9a5c-4094-afea-a77df7743d86\",\"attributes\":{\"label\":{\"type\":\"value\",\"value\":\"1 to 4\"},\"renderers\":[{\"id\":\"c54b7ef9-49b0-45b2-9e6f-6f824786bd14\"}]}},{\"type\":\"object\",\"name\":\"LegendItem\",\"id\":\"be3f8175-6545-49f5-9753-c50c0cbc5b57\",\"attributes\":{\"label\":{\"type\":\"value\",\"value\":\"11 to 20\"},\"renderers\":[{\"id\":\"cec5a86c-bc6e-453a-bdfb-07d2892633d5\"}]}},{\"type\":\"object\",\"name\":\"LegendItem\",\"id\":\"45a9008d-ee39-4936-b928-5e43b8175bf8\",\"attributes\":{\"label\":{\"type\":\"value\",\"value\":\"21+\"},\"renderers\":[{\"id\":\"e88b2c58-6dee-49a0-8c11-d1b024c8815e\"}]}},{\"type\":\"object\",\"name\":\"LegendItem\",\"id\":\"3426bf64-c1f4-45b2-a171-c6af0a819ea2\",\"attributes\":{\"label\":{\"type\":\"value\",\"value\":\"5 to 10\"},\"renderers\":[{\"id\":\"4d115534-d7fd-4bd3-b88c-3a71a055d1af\"}]}}]}}],\"below\":[{\"type\":\"object\",\"name\":\"DatetimeAxis\",\"id\":\"533900c6-2e2a-4f43-b748-ca8b5377abe9\",\"attributes\":{\"ticker\":{\"type\":\"object\",\"name\":\"DatetimeTicker\",\"id\":\"30c449e2-7425-4cfe-87c3-ad4391041d4d\",\"attributes\":{\"num_minor_ticks\":5,\"tickers\":[{\"type\":\"object\",\"name\":\"AdaptiveTicker\",\"id\":\"ce1218b3-bca5-4928-aa1c-dc826cdd36db\",\"attributes\":{\"num_minor_ticks\":0,\"mantissas\":[1,2,5],\"max_interval\":500.0}},{\"type\":\"object\",\"name\":\"AdaptiveTicker\",\"id\":\"63469a23-f3eb-43c9-8ba9-420efb353099\",\"attributes\":{\"num_minor_ticks\":0,\"base\":60,\"mantissas\":[1,2,5,10,15,20,30],\"min_interval\":1000.0,\"max_interval\":1800000.0}},{\"type\":\"object\",\"name\":\"AdaptiveTicker\",\"id\":\"24bd9844-43a1-49f0-8735-7a9c8a7f84f1\",\"attributes\":{\"num_minor_ticks\":0,\"base\":24,\"mantissas\":[1,2,4,6,8,12],\"min_interval\":3600000.0,\"max_interval\":43200000.0}},{\"type\":\"object\",\"name\":\"DaysTicker\",\"id\":\"3bae11bf-85f7-4f44-b047-dec43adaad3b\",\"attributes\":{\"days\":[1,2,3,4,5,6,7,8,9,10,11,12,13,14,15,16,17,18,19,20,21,22,23,24,25,26,27,28,29,30,31]}},{\"type\":\"object\",\"name\":\"DaysTicker\",\"id\":\"9112edf1-5acc-4c5d-900d-049f87c23be6\",\"attributes\":{\"days\":[1,4,7,10,13,16,19,22,25,28]}},{\"type\":\"object\",\"name\":\"DaysTicker\",\"id\":\"75163bd4-8bb4-4bc3-82f1-6812703e8752\",\"attributes\":{\"days\":[1,8,15,22]}},{\"type\":\"object\",\"name\":\"DaysTicker\",\"id\":\"48d88483-2e17-4ab7-bc70-cf8d5b515661\",\"attributes\":{\"days\":[1,15]}},{\"type\":\"object\",\"name\":\"MonthsTicker\",\"id\":\"1c2b92a5-923b-431e-ae8a-d152e1590fc8\",\"attributes\":{\"months\":[0,1,2,3,4,5,6,7,8,9,10,11]}},{\"type\":\"object\",\"name\":\"MonthsTicker\",\"id\":\"5c3dc500-a6e0-4e25-bffc-58886e98a8b3\",\"attributes\":{\"months\":[0,2,4,6,8,10]}},{\"type\":\"object\",\"name\":\"MonthsTicker\",\"id\":\"0fae62e5-e038-4fc9-92a1-e4584b8cd96d\",\"attributes\":{\"months\":[0,4,8]}},{\"type\":\"object\",\"name\":\"MonthsTicker\",\"id\":\"31ccba03-bcae-49fd-b31c-a9b1eacf456e\",\"attributes\":{\"months\":[0,6]}},{\"type\":\"object\",\"name\":\"YearsTicker\",\"id\":\"2463c488-bed9-4c0b-ad0e-ee7d1136c18e\"}]}},\"formatter\":{\"type\":\"object\",\"name\":\"DatetimeTickFormatter\",\"id\":\"dfbe1ee7-c7bc-4654-9c07-ed5db1218668\"},\"axis_label\":\"date\",\"major_label_policy\":{\"type\":\"object\",\"name\":\"AllLabels\",\"id\":\"830c22f4-f18b-4b1f-978b-08289ef696c6\"}}}],\"center\":[{\"type\":\"object\",\"name\":\"Grid\",\"id\":\"8ee17be4-2bfa-4548-b40f-b3a010a1e87b\",\"attributes\":{\"axis\":{\"id\":\"533900c6-2e2a-4f43-b748-ca8b5377abe9\"},\"grid_line_color\":null}},{\"type\":\"object\",\"name\":\"Grid\",\"id\":\"16b3ad47-d93f-49ed-b64d-005414847ea5\",\"attributes\":{\"dimension\":1,\"axis\":{\"id\":\"51d3861a-5b74-48f8-a48e-0f8720bde81d\"},\"grid_line_color\":null}}],\"min_border_top\":10,\"min_border_bottom\":10,\"min_border_left\":10,\"min_border_right\":10,\"output_backend\":\"webgl\"}},{\"type\":\"object\",\"name\":\"Spacer\",\"id\":\"b7ca1188-ffcc-478b-9b83-bc4fa1784ecf\",\"attributes\":{\"name\":\"HSpacer55313\",\"stylesheets\":[\"\\n:host(.pn-loading.pn-arc):before, .pn-loading.pn-arc:before {\\n  background-image: url(\\\"data:image/svg+xml;base64,PHN2ZyB4bWxucz0iaHR0cDovL3d3dy53My5vcmcvMjAwMC9zdmciIHN0eWxlPSJtYXJnaW46IGF1dG87IGJhY2tncm91bmQ6IG5vbmU7IGRpc3BsYXk6IGJsb2NrOyBzaGFwZS1yZW5kZXJpbmc6IGF1dG87IiB2aWV3Qm94PSIwIDAgMTAwIDEwMCIgcHJlc2VydmVBc3BlY3RSYXRpbz0ieE1pZFlNaWQiPiAgPGNpcmNsZSBjeD0iNTAiIGN5PSI1MCIgZmlsbD0ibm9uZSIgc3Ryb2tlPSIjYzNjM2MzIiBzdHJva2Utd2lkdGg9IjEwIiByPSIzNSIgc3Ryb2tlLWRhc2hhcnJheT0iMTY0LjkzMzYxNDMxMzQ2NDE1IDU2Ljk3Nzg3MTQzNzgyMTM4Ij4gICAgPGFuaW1hdGVUcmFuc2Zvcm0gYXR0cmlidXRlTmFtZT0idHJhbnNmb3JtIiB0eXBlPSJyb3RhdGUiIHJlcGVhdENvdW50PSJpbmRlZmluaXRlIiBkdXI9IjFzIiB2YWx1ZXM9IjAgNTAgNTA7MzYwIDUwIDUwIiBrZXlUaW1lcz0iMDsxIj48L2FuaW1hdGVUcmFuc2Zvcm0+ICA8L2NpcmNsZT48L3N2Zz4=\\\");\\n  background-size: auto calc(min(50%, 400px));\\n}\",{\"id\":\"b4a9a02e-af4f-4da5-b223-bf7ab85d33fd\"},{\"id\":\"65c37220-bd0c-46d4-aaf0-4ac47d759a3b\"},{\"id\":\"c8e68f27-4827-4bb3-a859-c2c6fd9230c0\"}],\"margin\":0,\"sizing_mode\":\"stretch_width\",\"align\":\"start\"}}]}}],\"defs\":[{\"type\":\"model\",\"name\":\"ReactiveHTML1\"},{\"type\":\"model\",\"name\":\"FlexBox1\",\"properties\":[{\"name\":\"align_content\",\"kind\":\"Any\",\"default\":\"flex-start\"},{\"name\":\"align_items\",\"kind\":\"Any\",\"default\":\"flex-start\"},{\"name\":\"flex_direction\",\"kind\":\"Any\",\"default\":\"row\"},{\"name\":\"flex_wrap\",\"kind\":\"Any\",\"default\":\"wrap\"},{\"name\":\"justify_content\",\"kind\":\"Any\",\"default\":\"flex-start\"}]},{\"type\":\"model\",\"name\":\"FloatPanel1\",\"properties\":[{\"name\":\"config\",\"kind\":\"Any\",\"default\":{\"type\":\"map\"}},{\"name\":\"contained\",\"kind\":\"Any\",\"default\":true},{\"name\":\"position\",\"kind\":\"Any\",\"default\":\"right-top\"},{\"name\":\"offsetx\",\"kind\":\"Any\",\"default\":null},{\"name\":\"offsety\",\"kind\":\"Any\",\"default\":null},{\"name\":\"theme\",\"kind\":\"Any\",\"default\":\"primary\"},{\"name\":\"status\",\"kind\":\"Any\",\"default\":\"normalized\"}]},{\"type\":\"model\",\"name\":\"GridStack1\",\"properties\":[{\"name\":\"mode\",\"kind\":\"Any\",\"default\":\"warn\"},{\"name\":\"ncols\",\"kind\":\"Any\",\"default\":null},{\"name\":\"nrows\",\"kind\":\"Any\",\"default\":null},{\"name\":\"allow_resize\",\"kind\":\"Any\",\"default\":true},{\"name\":\"allow_drag\",\"kind\":\"Any\",\"default\":true},{\"name\":\"state\",\"kind\":\"Any\",\"default\":[]}]},{\"type\":\"model\",\"name\":\"drag1\",\"properties\":[{\"name\":\"slider_width\",\"kind\":\"Any\",\"default\":5},{\"name\":\"slider_color\",\"kind\":\"Any\",\"default\":\"black\"},{\"name\":\"value\",\"kind\":\"Any\",\"default\":50}]},{\"type\":\"model\",\"name\":\"click1\",\"properties\":[{\"name\":\"terminal_output\",\"kind\":\"Any\",\"default\":\"\"},{\"name\":\"debug_name\",\"kind\":\"Any\",\"default\":\"\"},{\"name\":\"clears\",\"kind\":\"Any\",\"default\":0}]},{\"type\":\"model\",\"name\":\"FastWrapper1\",\"properties\":[{\"name\":\"object\",\"kind\":\"Any\",\"default\":null},{\"name\":\"style\",\"kind\":\"Any\",\"default\":null}]},{\"type\":\"model\",\"name\":\"NotificationAreaBase1\",\"properties\":[{\"name\":\"js_events\",\"kind\":\"Any\",\"default\":{\"type\":\"map\"}},{\"name\":\"position\",\"kind\":\"Any\",\"default\":\"bottom-right\"},{\"name\":\"_clear\",\"kind\":\"Any\",\"default\":0}]},{\"type\":\"model\",\"name\":\"NotificationArea1\",\"properties\":[{\"name\":\"js_events\",\"kind\":\"Any\",\"default\":{\"type\":\"map\"}},{\"name\":\"notifications\",\"kind\":\"Any\",\"default\":[]},{\"name\":\"position\",\"kind\":\"Any\",\"default\":\"bottom-right\"},{\"name\":\"_clear\",\"kind\":\"Any\",\"default\":0},{\"name\":\"types\",\"kind\":\"Any\",\"default\":[{\"type\":\"map\",\"entries\":[[\"type\",\"warning\"],[\"background\",\"#ffc107\"],[\"icon\",{\"type\":\"map\",\"entries\":[[\"className\",\"fas fa-exclamation-triangle\"],[\"tagName\",\"i\"],[\"color\",\"white\"]]}]]},{\"type\":\"map\",\"entries\":[[\"type\",\"info\"],[\"background\",\"#007bff\"],[\"icon\",{\"type\":\"map\",\"entries\":[[\"className\",\"fas fa-info-circle\"],[\"tagName\",\"i\"],[\"color\",\"white\"]]}]]}]}]},{\"type\":\"model\",\"name\":\"Notification\",\"properties\":[{\"name\":\"background\",\"kind\":\"Any\",\"default\":null},{\"name\":\"duration\",\"kind\":\"Any\",\"default\":3000},{\"name\":\"icon\",\"kind\":\"Any\",\"default\":null},{\"name\":\"message\",\"kind\":\"Any\",\"default\":\"\"},{\"name\":\"notification_type\",\"kind\":\"Any\",\"default\":null},{\"name\":\"_destroyed\",\"kind\":\"Any\",\"default\":false}]},{\"type\":\"model\",\"name\":\"TemplateActions1\",\"properties\":[{\"name\":\"open_modal\",\"kind\":\"Any\",\"default\":0},{\"name\":\"close_modal\",\"kind\":\"Any\",\"default\":0}]},{\"type\":\"model\",\"name\":\"BootstrapTemplateActions1\",\"properties\":[{\"name\":\"open_modal\",\"kind\":\"Any\",\"default\":0},{\"name\":\"close_modal\",\"kind\":\"Any\",\"default\":0}]},{\"type\":\"model\",\"name\":\"MaterialTemplateActions1\",\"properties\":[{\"name\":\"open_modal\",\"kind\":\"Any\",\"default\":0},{\"name\":\"close_modal\",\"kind\":\"Any\",\"default\":0}]}]}};\n",
       "  var render_items = [{\"docid\":\"5b761c85-403e-426f-98ff-7e037a481dbf\",\"roots\":{\"1ca404c6-defc-4b8e-b5bd-2512e7bc7aa5\":\"d98b95c0-8a24-452b-90b3-2c1ea11fa31d\"},\"root_ids\":[\"1ca404c6-defc-4b8e-b5bd-2512e7bc7aa5\"]}];\n",
       "  var docs = Object.values(docs_json)\n",
       "  if (!docs) {\n",
       "    return\n",
       "  }\n",
       "  const py_version = docs[0].version.replace('rc', '-rc.').replace('.dev', '-dev.')\n",
       "  const is_dev = py_version.indexOf(\"+\") !== -1 || py_version.indexOf(\"-\") !== -1\n",
       "  function embed_document(root) {\n",
       "    var Bokeh = get_bokeh(root)\n",
       "    Bokeh.embed.embed_items_notebook(docs_json, render_items);\n",
       "    for (const render_item of render_items) {\n",
       "      for (const root_id of render_item.root_ids) {\n",
       "\tconst id_el = document.getElementById(root_id)\n",
       "\tif (id_el.children.length && (id_el.children[0].className === 'bk-root')) {\n",
       "\t  const root_el = id_el.children[0]\n",
       "\t  root_el.id = root_el.id + '-rendered'\n",
       "\t}\n",
       "      }\n",
       "    }\n",
       "  }\n",
       "  function get_bokeh(root) {\n",
       "    if (root.Bokeh === undefined) {\n",
       "      return null\n",
       "    } else if (root.Bokeh.version !== py_version && !is_dev) {\n",
       "      if (root.Bokeh.versions === undefined || !root.Bokeh.versions.has(py_version)) {\n",
       "\treturn null\n",
       "      }\n",
       "      return root.Bokeh.versions.get(py_version);\n",
       "    } else if (root.Bokeh.version === py_version) {\n",
       "      return root.Bokeh\n",
       "    }\n",
       "    return null\n",
       "  }\n",
       "  function is_loaded(root) {\n",
       "    var Bokeh = get_bokeh(root)\n",
       "    return (Bokeh != null && Bokeh.Panel !== undefined)\n",
       "  }\n",
       "  if (is_loaded(root)) {\n",
       "    embed_document(root);\n",
       "  } else {\n",
       "    var attempts = 0;\n",
       "    var timer = setInterval(function(root) {\n",
       "      if (is_loaded(root)) {\n",
       "        clearInterval(timer);\n",
       "        embed_document(root);\n",
       "      } else if (document.readyState == \"complete\") {\n",
       "        attempts++;\n",
       "        if (attempts > 200) {\n",
       "          clearInterval(timer);\n",
       "\t  var Bokeh = get_bokeh(root)\n",
       "\t  if (Bokeh == null || Bokeh.Panel == null) {\n",
       "            console.warn(\"Panel: ERROR: Unable to run Panel code because Bokeh or Panel library is missing\");\n",
       "\t  } else {\n",
       "\t    console.warn(\"Panel: WARNING: Attempting to render but not all required libraries could be resolved.\")\n",
       "\t    embed_document(root)\n",
       "\t  }\n",
       "        }\n",
       "      }\n",
       "    }, 25, root)\n",
       "  }\n",
       "})(window);</script>"
      ],
      "text/plain": [
       ":NdOverlay   [tenure]\n",
       "   :Area   [date]   (pct_legislators,Baseline)"
      ]
     },
     "execution_count": 406,
     "metadata": {
      "application/vnd.holoviews_exec.v0+json": {
       "id": "1ca404c6-defc-4b8e-b5bd-2512e7bc7aa5"
      }
     },
     "output_type": "execute_result"
    }
   ],
   "source": [
    "plot_9 = data_9.hvplot.area(x='date', \n",
    "                            y='pct_legislators', by='tenure',\n",
    "                            label='Percentage of legislators by length of time in office', \n",
    "                            ylim=(0, 100), \n",
    "                            legend='top', \n",
    "                            shared_axes=False, \n",
    "                            width=1200, height=325)\n",
    "plot_9"
   ]
  },
  {
   "cell_type": "code",
   "execution_count": 407,
   "id": "924d3ab2-bc0c-4d46-b8c0-bb9473753018",
   "metadata": {
    "tags": []
   },
   "outputs": [
    {
     "data": {},
     "metadata": {},
     "output_type": "display_data"
    },
    {
     "data": {
      "application/vnd.holoviews_exec.v0+json": "",
      "text/html": [
       "<div id='72b89f56-6634-41a5-b3bc-1421fdb11191'>\n",
       "  <div id=\"ded84f04-82a8-4e90-a096-4271e08f0bf8\" data-root-id=\"72b89f56-6634-41a5-b3bc-1421fdb11191\" style=\"display: contents;\"></div>\n",
       "</div>\n",
       "<script type=\"application/javascript\">(function(root) {\n",
       "  var docs_json = {\"b366d3a4-4911-4e3f-9bb2-ff09aaf774cf\":{\"version\":\"3.2.1\",\"title\":\"Bokeh Application\",\"roots\":[{\"type\":\"object\",\"name\":\"Row\",\"id\":\"72b89f56-6634-41a5-b3bc-1421fdb11191\",\"attributes\":{\"name\":\"Row55408\",\"tags\":[\"embedded\"],\"stylesheets\":[\"\\n:host(.pn-loading.pn-arc):before, .pn-loading.pn-arc:before {\\n  background-image: url(\\\"data:image/svg+xml;base64,PHN2ZyB4bWxucz0iaHR0cDovL3d3dy53My5vcmcvMjAwMC9zdmciIHN0eWxlPSJtYXJnaW46IGF1dG87IGJhY2tncm91bmQ6IG5vbmU7IGRpc3BsYXk6IGJsb2NrOyBzaGFwZS1yZW5kZXJpbmc6IGF1dG87IiB2aWV3Qm94PSIwIDAgMTAwIDEwMCIgcHJlc2VydmVBc3BlY3RSYXRpbz0ieE1pZFlNaWQiPiAgPGNpcmNsZSBjeD0iNTAiIGN5PSI1MCIgZmlsbD0ibm9uZSIgc3Ryb2tlPSIjYzNjM2MzIiBzdHJva2Utd2lkdGg9IjEwIiByPSIzNSIgc3Ryb2tlLWRhc2hhcnJheT0iMTY0LjkzMzYxNDMxMzQ2NDE1IDU2Ljk3Nzg3MTQzNzgyMTM4Ij4gICAgPGFuaW1hdGVUcmFuc2Zvcm0gYXR0cmlidXRlTmFtZT0idHJhbnNmb3JtIiB0eXBlPSJyb3RhdGUiIHJlcGVhdENvdW50PSJpbmRlZmluaXRlIiBkdXI9IjFzIiB2YWx1ZXM9IjAgNTAgNTA7MzYwIDUwIDUwIiBrZXlUaW1lcz0iMDsxIj48L2FuaW1hdGVUcmFuc2Zvcm0+ICA8L2NpcmNsZT48L3N2Zz4=\\\");\\n  background-size: auto calc(min(50%, 400px));\\n}\",{\"type\":\"object\",\"name\":\"ImportedStyleSheet\",\"id\":\"b12517ff-f9bc-44a0-8be3-fe5eadff6c69\",\"attributes\":{\"url\":\"https://cdn.holoviz.org/panel/1.2.1/dist/css/loading.css\"}},{\"type\":\"object\",\"name\":\"ImportedStyleSheet\",\"id\":\"eb7b714a-15e2-479f-99de-022dcdc3946a\",\"attributes\":{\"url\":\"https://cdn.holoviz.org/panel/1.2.1/dist/css/listpanel.css\"}},{\"type\":\"object\",\"name\":\"ImportedStyleSheet\",\"id\":\"04179ea0-9c11-4928-bfaf-1a8c3eb07b47\",\"attributes\":{\"url\":\"https://cdn.holoviz.org/panel/1.2.1/dist/bundled/theme/default.css\"}},{\"type\":\"object\",\"name\":\"ImportedStyleSheet\",\"id\":\"71d658b9-67df-49b3-b388-d0d2084c36f0\",\"attributes\":{\"url\":\"https://cdn.holoviz.org/panel/1.2.1/dist/bundled/theme/native.css\"}}],\"margin\":0,\"sizing_mode\":\"stretch_width\",\"align\":\"start\",\"children\":[{\"type\":\"object\",\"name\":\"Spacer\",\"id\":\"54d6dcca-48dd-4ded-a463-702b6347641b\",\"attributes\":{\"name\":\"HSpacer55418\",\"stylesheets\":[\"\\n:host(.pn-loading.pn-arc):before, .pn-loading.pn-arc:before {\\n  background-image: url(\\\"data:image/svg+xml;base64,PHN2ZyB4bWxucz0iaHR0cDovL3d3dy53My5vcmcvMjAwMC9zdmciIHN0eWxlPSJtYXJnaW46IGF1dG87IGJhY2tncm91bmQ6IG5vbmU7IGRpc3BsYXk6IGJsb2NrOyBzaGFwZS1yZW5kZXJpbmc6IGF1dG87IiB2aWV3Qm94PSIwIDAgMTAwIDEwMCIgcHJlc2VydmVBc3BlY3RSYXRpbz0ieE1pZFlNaWQiPiAgPGNpcmNsZSBjeD0iNTAiIGN5PSI1MCIgZmlsbD0ibm9uZSIgc3Ryb2tlPSIjYzNjM2MzIiBzdHJva2Utd2lkdGg9IjEwIiByPSIzNSIgc3Ryb2tlLWRhc2hhcnJheT0iMTY0LjkzMzYxNDMxMzQ2NDE1IDU2Ljk3Nzg3MTQzNzgyMTM4Ij4gICAgPGFuaW1hdGVUcmFuc2Zvcm0gYXR0cmlidXRlTmFtZT0idHJhbnNmb3JtIiB0eXBlPSJyb3RhdGUiIHJlcGVhdENvdW50PSJpbmRlZmluaXRlIiBkdXI9IjFzIiB2YWx1ZXM9IjAgNTAgNTA7MzYwIDUwIDUwIiBrZXlUaW1lcz0iMDsxIj48L2FuaW1hdGVUcmFuc2Zvcm0+ICA8L2NpcmNsZT48L3N2Zz4=\\\");\\n  background-size: auto calc(min(50%, 400px));\\n}\",{\"id\":\"b12517ff-f9bc-44a0-8be3-fe5eadff6c69\"},{\"id\":\"04179ea0-9c11-4928-bfaf-1a8c3eb07b47\"},{\"id\":\"71d658b9-67df-49b3-b388-d0d2084c36f0\"}],\"margin\":0,\"sizing_mode\":\"stretch_width\",\"align\":\"start\"}},{\"type\":\"object\",\"name\":\"GridPlot\",\"id\":\"583fbb5a-5b3b-4b63-9c38-525aaaab9f3c\",\"attributes\":{\"rows\":null,\"cols\":null,\"toolbar\":{\"type\":\"object\",\"name\":\"Toolbar\",\"id\":\"69af751b-b976-46af-9c8c-f9d1c7e0f601\",\"attributes\":{\"tools\":[{\"type\":\"object\",\"name\":\"ToolProxy\",\"id\":\"3c2122ac-791a-42c2-ac7e-6d2a004c2e6b\",\"attributes\":{\"tools\":[{\"type\":\"object\",\"name\":\"WheelZoomTool\",\"id\":\"66d7b6ce-363f-4816-87b3-936eea6e0c04\",\"attributes\":{\"tags\":[\"hv_created\"],\"zoom_together\":\"none\"}},{\"type\":\"object\",\"name\":\"WheelZoomTool\",\"id\":\"20072588-76a4-4138-be46-a90dfd697fed\",\"attributes\":{\"tags\":[\"hv_created\"],\"zoom_together\":\"none\"}},{\"type\":\"object\",\"name\":\"WheelZoomTool\",\"id\":\"1463c192-6d6d-4efe-9f4f-fe82937199a2\",\"attributes\":{\"tags\":[\"hv_created\"],\"zoom_together\":\"none\"}},{\"type\":\"object\",\"name\":\"WheelZoomTool\",\"id\":\"f9f01943-6d46-4aed-974c-1d517cb53e30\",\"attributes\":{\"tags\":[\"hv_created\"],\"zoom_together\":\"none\"}}]}},{\"type\":\"object\",\"name\":\"ToolProxy\",\"id\":\"13287f15-4bfc-4f5e-891b-e69c68be9bbf\",\"attributes\":{\"tools\":[{\"type\":\"object\",\"name\":\"HoverTool\",\"id\":\"ea8b3558-d49a-4e92-99e8-4a778173bf41\",\"attributes\":{\"tags\":[\"hv_created\"],\"renderers\":[{\"type\":\"object\",\"name\":\"GlyphRenderer\",\"id\":\"fa1c2a55-7af2-4f78-ab06-2deb81ed9c4a\",\"attributes\":{\"data_source\":{\"type\":\"object\",\"name\":\"ColumnDataSource\",\"id\":\"e2bf2d14-6319-45f6-92c0-63b7b46d7531\",\"attributes\":{\"selected\":{\"type\":\"object\",\"name\":\"Selection\",\"id\":\"d2444356-bbfa-4410-ade6-88291f8e43c5\",\"attributes\":{\"indices\":[],\"line_indices\":[]}},\"selection_policy\":{\"type\":\"object\",\"name\":\"UnionRenderers\",\"id\":\"634824ae-83d7-4183-b79f-7d43c30daade\"},\"data\":{\"type\":\"map\",\"entries\":[[\"period\",{\"type\":\"ndarray\",\"array\":{\"type\":\"bytes\",\"data\":\"AAAAAAEAAAACAAAAAwAAAAQAAAAFAAAABgAAAAcAAAAIAAAACQAAAAoAAAALAAAADAAAAA0AAAAOAAAADwAAABAAAAARAAAAEgAAABMAAAAUAAAAFQAAABYAAAAXAAAAGAAAABkAAAAaAAAAGwAAABwAAAAdAAAAHgAAAB8AAAAgAAAAIQAAACIAAAAjAAAAJAAAACUAAAAmAAAAJwAAACgAAAApAAAAKgAAACsAAAAsAAAALQAAAC4AAAAvAAAAMAAAADEAAAAyAAAAMwAAADQAAAA1AAAANgAAADgAAAA5AAAA\"},\"shape\":[57],\"dtype\":\"int32\",\"order\":\"little\"}],[\"pct_retained\",{\"type\":\"ndarray\",\"array\":{\"type\":\"bytes\",\"data\":\"AAAAAAAAWUA6WpbMMsI8QMSsgPIN6TxA4cX+6f1ALUBj//R+oKQ5QDZmj/om3StAYDW92nQNM0DRkxbIjLolQNH14qHOrClAlMjIIaJsIED43b9f+VUmQPStUUFxVR1ARNnA18fuIkCi4nk0z3IbQNZEn47b2BZA7j9Hht/9C0ChJfg/jDkbQHYjryKQ1BFAUJaHf2ZyEUAkHHDJcdYHQJk96pt0bwlAUhCLaOzkAUBKqZdsmzgIQDbldFJgvwNAqQ0G5KMD/T/Lpia1wYD8P41h1SVRwPY/i2js5JFr7j+34gObhgf4PwnqQvSkBfI/NmaP+ibd6z/7FEU9wgHnP8mrCCR18OM/2II7K+Uv3z+WQswKKN/gP/obXPwCrd4/yasIJHXw0z9AR4bf/fvVPwzlYIXxlco/tekaWseyzz+DgN5AeqG8PzB3apfOZ8I/udvs20VcwD+VSePJaIq4P4OA3kB6oaw/g4DeQHqhvD+VSePJaIqYP5VJ48loiqg/pxLoUldzpD+VSePJaIqYP7nb7NtFXKA/pxLoUldzpD+52+zbRVyAP7nb7NtFXIA/udvs20VckD+52+zbRVyAP7nb7NtFXIA/\"},\"shape\":[57],\"dtype\":\"float64\",\"order\":\"little\"}]]}}},\"view\":{\"type\":\"object\",\"name\":\"CDSView\",\"id\":\"264d3de8-6463-41c3-8c64-b1958c679d05\",\"attributes\":{\"filter\":{\"type\":\"object\",\"name\":\"AllIndices\",\"id\":\"2af730bf-7c62-4d53-a7ab-ca9636382069\"}}},\"glyph\":{\"type\":\"object\",\"name\":\"Line\",\"id\":\"f252d8b5-c8bf-4068-8433-bd41ccf233bd\",\"attributes\":{\"tags\":[\"apply_ranges\"],\"x\":{\"type\":\"field\",\"field\":\"period\"},\"y\":{\"type\":\"field\",\"field\":\"pct_retained\"},\"line_color\":\"orange\",\"line_width\":2}},\"selection_glyph\":{\"type\":\"object\",\"name\":\"Line\",\"id\":\"8a724e7a-9164-490d-9621-e01d8dd4801f\",\"attributes\":{\"tags\":[\"apply_ranges\"],\"x\":{\"type\":\"field\",\"field\":\"period\"},\"y\":{\"type\":\"field\",\"field\":\"pct_retained\"},\"line_color\":\"orange\",\"line_width\":2}},\"nonselection_glyph\":{\"type\":\"object\",\"name\":\"Line\",\"id\":\"4b1fc52c-8de3-4da2-b7aa-fbfd48f4781d\",\"attributes\":{\"tags\":[\"apply_ranges\"],\"x\":{\"type\":\"field\",\"field\":\"period\"},\"y\":{\"type\":\"field\",\"field\":\"pct_retained\"},\"line_color\":\"orange\",\"line_alpha\":0.1,\"line_width\":2}},\"muted_glyph\":{\"type\":\"object\",\"name\":\"Line\",\"id\":\"5271e8b3-baa5-48e2-8f23-487840b38803\",\"attributes\":{\"tags\":[\"apply_ranges\"],\"x\":{\"type\":\"field\",\"field\":\"period\"},\"y\":{\"type\":\"field\",\"field\":\"pct_retained\"},\"line_color\":\"orange\",\"line_alpha\":0.2,\"line_width\":2}}}}],\"tooltips\":[[\"period\",\"@{period}\"],[\"pct_retained\",\"@{pct_retained}\"]]}},{\"type\":\"object\",\"name\":\"HoverTool\",\"id\":\"74bdd2e1-0dd5-498b-ba43-ff2e822349e7\",\"attributes\":{\"tags\":[\"hv_created\"],\"renderers\":[{\"type\":\"object\",\"name\":\"GlyphRenderer\",\"id\":\"b82d551e-ab8e-4ee5-a135-cc2eb1e24c95\",\"attributes\":{\"data_source\":{\"type\":\"object\",\"name\":\"ColumnDataSource\",\"id\":\"9bea5e86-e685-45d0-b203-854cf1fa4546\",\"attributes\":{\"selected\":{\"type\":\"object\",\"name\":\"Selection\",\"id\":\"6afa3d56-a1b8-4142-9a9b-47088609c9a4\",\"attributes\":{\"indices\":[],\"line_indices\":[]}},\"selection_policy\":{\"type\":\"object\",\"name\":\"UnionRenderers\",\"id\":\"d2d58347-4bf1-4e9e-aeb2-96f75854cae4\"},\"data\":{\"type\":\"map\",\"entries\":[[\"period\",{\"type\":\"ndarray\",\"array\":{\"type\":\"bytes\",\"data\":\"AAAAAAEAAAACAAAAAwAAAAQAAAAFAAAABgAAAAcAAAAIAAAACQAAAAoAAAALAAAADAAAAA0AAAAOAAAADwAAABAAAAARAAAAEgAAABMAAAAUAAAAFQAAABYAAAAXAAAAGAAAABkAAAAaAAAAGwAAABwAAAAdAAAAHgAAAB8AAAAgAAAAIQAAACIAAAAjAAAAJAAAACUAAAAmAAAAJwAAACgAAAApAAAAKgAAACsAAAAsAAAALQAAAC4AAAAvAAAAMAAAADEAAAAyAAAAMwAAADQAAAA1AAAANgAAADcAAAA4AAAAOQAAADoAAAA7AAAA\"},\"shape\":[60],\"dtype\":\"int32\",\"order\":\"little\"}],[\"pct_retained\",{\"type\":\"ndarray\",\"array\":{\"type\":\"bytes\",\"data\":\"AAAAAAAAWUBc1GjPyxNYQHYP4rNmS1BAa0nP/PlgT0C5ZVOT2mBHQLF0+d/0r0ZAFOE7mDJpQUBBq4cJzSlBQC6vZ0MwDDxAh0P/JWWNO0D0Gp96Dmo3QN+4SDoV4zZAHwkbKeHFMkA56xNDCHIyQDUL2t8lli9A18W5NqL2LkCvXMLQsC8qQGP/9H6gpClAu3Q+k1D6JECC/8OYs4MkQJWFShblpSBAOP2rYaQ/IECASVljsfUbQA8c5mK6QRtAHDRiJVoMFkCG88pqv2gVQJyw1sW5NhJALUDluQW8EUA2Zo/6Jt0LQA5fZG53CAtAi+fRPMtNBkDzLDeZqjcFQCuDY8XCggFAlkLMCijfAEAqinqEAy75P268uyY/KPg/UhCLaOzk8T+WQswKKN/wP4OA3kB6oew/e5jQnGLX6j9a+JgMBK/jP3SpqzkKYuE/lUnjyWiK2D8ermUO4H7WP3SpqzkKYtE/udvs20Vc0D/ZeyRspITHP6cS6FJXc8Q/udvs20VcwD+DgN5AeqG8Px6uZQ7gfrY/Hq5lDuB+tj+VSePJaIqoP7nb7NtFXKA/lUnjyWiKmD+VSePJaIqYP5VJ48loipg/udvs20VckD+52+zbRVyAP7nb7NtFXIA/\"},\"shape\":[60],\"dtype\":\"float64\",\"order\":\"little\"}]]}}},\"view\":{\"type\":\"object\",\"name\":\"CDSView\",\"id\":\"7c745e35-8d15-4751-9b88-4581ec5c3d84\",\"attributes\":{\"filter\":{\"type\":\"object\",\"name\":\"AllIndices\",\"id\":\"50d8add8-8f46-4aa3-afce-28606afcd57b\"}}},\"glyph\":{\"type\":\"object\",\"name\":\"Line\",\"id\":\"95b753ba-1de9-4e35-a46f-4a739045642a\",\"attributes\":{\"tags\":[\"apply_ranges\"],\"x\":{\"type\":\"field\",\"field\":\"period\"},\"y\":{\"type\":\"field\",\"field\":\"pct_retained\"},\"line_color\":\"orange\",\"line_width\":2}},\"selection_glyph\":{\"type\":\"object\",\"name\":\"Line\",\"id\":\"83b3077d-e493-4428-85bc-7ee4d3b12eb0\",\"attributes\":{\"tags\":[\"apply_ranges\"],\"x\":{\"type\":\"field\",\"field\":\"period\"},\"y\":{\"type\":\"field\",\"field\":\"pct_retained\"},\"line_color\":\"orange\",\"line_width\":2}},\"nonselection_glyph\":{\"type\":\"object\",\"name\":\"Line\",\"id\":\"fd29a4af-8996-4fd5-a036-4b998d9bce63\",\"attributes\":{\"tags\":[\"apply_ranges\"],\"x\":{\"type\":\"field\",\"field\":\"period\"},\"y\":{\"type\":\"field\",\"field\":\"pct_retained\"},\"line_color\":\"orange\",\"line_alpha\":0.1,\"line_width\":2}},\"muted_glyph\":{\"type\":\"object\",\"name\":\"Line\",\"id\":\"1ed487bb-3cb1-4023-9077-79b45b7b3965\",\"attributes\":{\"tags\":[\"apply_ranges\"],\"x\":{\"type\":\"field\",\"field\":\"period\"},\"y\":{\"type\":\"field\",\"field\":\"pct_retained\"},\"line_color\":\"orange\",\"line_alpha\":0.2,\"line_width\":2}}}}],\"tooltips\":[[\"period\",\"@{period}\"],[\"pct_retained\",\"@{pct_retained}\"]]}},{\"type\":\"object\",\"name\":\"HoverTool\",\"id\":\"469d542e-53fe-4360-8f61-0beeaf759cd3\",\"attributes\":{\"tags\":[\"hv_created\"],\"renderers\":[{\"type\":\"object\",\"name\":\"GlyphRenderer\",\"id\":\"60441b63-7141-45b2-9507-244a2558e21b\",\"attributes\":{\"name\":\"18\",\"data_source\":{\"type\":\"object\",\"name\":\"ColumnDataSource\",\"id\":\"4dea0fe3-dbd4-44f8-97cd-54dbdc228ef5\",\"attributes\":{\"selected\":{\"type\":\"object\",\"name\":\"Selection\",\"id\":\"538934dd-140a-4b9f-8b18-44c7a8ea5040\",\"attributes\":{\"indices\":[],\"line_indices\":[]}},\"selection_policy\":{\"type\":\"object\",\"name\":\"UnionRenderers\",\"id\":\"4b83cf3e-e93e-40e2-a241-8c4d6b2118f5\"},\"data\":{\"type\":\"map\",\"entries\":[[\"period\",{\"type\":\"ndarray\",\"array\":{\"type\":\"bytes\",\"data\":\"AAAAAAEAAAACAAAAAwAAAAQAAAAFAAAABgAAAAcAAAAIAAAACQAAAAoAAAALAAAADAAAAA0AAAAOAAAADwAAABAAAAARAAAAEgAAABMAAAAUAAAAFQAAABYAAAAXAAAAGAAAABkAAAAaAAAAGwAAABwAAAAdAAAAHgAAAB8AAAAgAAAAIQAAACIAAAAjAAAAJAAAACUAAAAmAAAAJwAAAA==\"},\"shape\":[40],\"dtype\":\"int32\",\"order\":\"little\"}],[\"pct_retained\",{\"type\":\"ndarray\",\"array\":{\"type\":\"bytes\",\"data\":\"AAAAAAAAWUBvetOb3nRYQFnIQhaycFBALWQhC1moT0BOb3rTmz5EQFnIQhaykENAetOb3vTmOkALWchCFnI7QCELWchC1jNAyEIWspAFM0AWspCFLGQxQE5vetObHjFAZCELWchCLEAhC1nIQhYqQE5vetObXidATm9605teJ0DqTW960xskQMhCFrKQBSNApze96U1vHkBkIQtZyEIcQHrTm970phRAOL3pTW96EkAhC1nIQhYKQGQhC1nIQgxA9aY3velNEECnN73pTW8OQFnIQhaykANAWchCFrKQA0Cc3vSmN70FQN/0pje96QdAWchCFrKQA0AWspCFLGQBQJze9KY3vfU/nN70pje99T+c3vSmN731P5ze9KY3vfU/IQtZyEIW6j8WspCFLGTRPxaykIUsZNE/FrKQhSxk0T8=\"},\"shape\":[40],\"dtype\":\"float64\",\"order\":\"little\"}],[\"first_century\",[18,18,18,18,18,18,18,18,18,18,18,18,18,18,18,18,18,18,18,18,18,18,18,18,18,18,18,18,18,18,18,18,18,18,18,18,18,18,18,18]]]}}},\"view\":{\"type\":\"object\",\"name\":\"CDSView\",\"id\":\"56bc1c27-7f91-41b3-baf5-c2116ab3ab71\",\"attributes\":{\"filter\":{\"type\":\"object\",\"name\":\"AllIndices\",\"id\":\"c95b0918-fe3e-40ae-810c-09e12839493f\"}}},\"glyph\":{\"type\":\"object\",\"name\":\"Line\",\"id\":\"8a004f9d-53ae-45aa-bf99-656872d340d6\",\"attributes\":{\"tags\":[\"apply_ranges\"],\"x\":{\"type\":\"field\",\"field\":\"period\"},\"y\":{\"type\":\"field\",\"field\":\"pct_retained\"},\"line_color\":\"#30a2da\",\"line_width\":2}},\"selection_glyph\":{\"type\":\"object\",\"name\":\"Line\",\"id\":\"f6f19a75-e60b-4c29-8498-2e306373bff9\",\"attributes\":{\"tags\":[\"apply_ranges\"],\"x\":{\"type\":\"field\",\"field\":\"period\"},\"y\":{\"type\":\"field\",\"field\":\"pct_retained\"},\"line_color\":\"#30a2da\",\"line_width\":2}},\"nonselection_glyph\":{\"type\":\"object\",\"name\":\"Line\",\"id\":\"02ed529f-0aeb-469d-a6cf-857dc397bbdd\",\"attributes\":{\"tags\":[\"apply_ranges\"],\"x\":{\"type\":\"field\",\"field\":\"period\"},\"y\":{\"type\":\"field\",\"field\":\"pct_retained\"},\"line_color\":\"#30a2da\",\"line_alpha\":0.1,\"line_width\":2}},\"muted_glyph\":{\"type\":\"object\",\"name\":\"Line\",\"id\":\"a26af072-09ed-4f75-b90f-95f3927bb460\",\"attributes\":{\"tags\":[\"apply_ranges\"],\"x\":{\"type\":\"field\",\"field\":\"period\"},\"y\":{\"type\":\"field\",\"field\":\"pct_retained\"},\"line_color\":\"#30a2da\",\"line_alpha\":0.2,\"line_width\":2}}}},{\"type\":\"object\",\"name\":\"GlyphRenderer\",\"id\":\"d46b2066-3410-4303-b897-ffb1ea06c1b9\",\"attributes\":{\"name\":\"19\",\"data_source\":{\"type\":\"object\",\"name\":\"ColumnDataSource\",\"id\":\"8212dceb-b0d5-4a60-a1b5-565bba8f8544\",\"attributes\":{\"selected\":{\"type\":\"object\",\"name\":\"Selection\",\"id\":\"09318186-9ceb-4ba1-b652-6d3dee9a060b\",\"attributes\":{\"indices\":[],\"line_indices\":[]}},\"selection_policy\":{\"type\":\"object\",\"name\":\"UnionRenderers\",\"id\":\"e9bf445c-221f-4411-88cd-c0542005a8ab\"},\"data\":{\"type\":\"map\",\"entries\":[[\"period\",{\"type\":\"ndarray\",\"array\":{\"type\":\"bytes\",\"data\":\"AAAAAAEAAAACAAAAAwAAAAQAAAAFAAAABgAAAAcAAAAIAAAACQAAAAoAAAALAAAADAAAAA0AAAAOAAAADwAAABAAAAARAAAAEgAAABMAAAAUAAAAFQAAABYAAAAXAAAAGAAAABkAAAAaAAAAGwAAABwAAAAdAAAAHgAAAB8AAAAgAAAAIQAAACIAAAAjAAAAJAAAACUAAAAmAAAAJwAAACgAAAApAAAAKgAAACsAAAAsAAAALQAAAC4AAAAvAAAAMAAAADEAAAAyAAAAMwAAAA==\"},\"shape\":[52],\"dtype\":\"int32\",\"order\":\"little\"}],[\"pct_retained\",{\"type\":\"ndarray\",\"array\":{\"type\":\"bytes\",\"data\":\"AAAAAAAAWUADghNgjKZXQNc3BiXjsUtAe6wE9+a3SUDteVjtkFY+QG3RDcT4NTxAQ/zT4GyrMkDV8gsuaewxQNWFGWSzZitAIEK/undaKkDlAF7VWp8lQAZ7137dgiRAa1w6bNvLIEAwbG7Z7lEgQLQLoLowgxxA6qavOtRuG0A/2nJCJ04XQHjoeLNA2BVA73d7humKEkD2XWho1ccRQDLSJML1swxAPisIlVePC0BZUMUrkeQIQLktAVl24AdA4x6Ys4evA0BD/NPgbKsCQKZMBv/HRQFArjLz4LOCAECalU3Rxuz6P6lhJ5WeZvk/uS0BWXbg9z8o1xZKM1b1P4+aP1kEj/M/pkwG/8dF8T/LDvyyJHvuP4rJcw3vcuw/aRyf72he5z8o1xZKM1blP/ZdaGjVx+E/BipCLK1B4D+pYSeVnmbZP0dvytHiSdI/islzDe9yzD9KhOtnuWrKP0dvytHiScI/R2/K0eJJwj8JP2PCg2K4P4e0UncYUrQ/CT9jwoNiqD8GKkIsrUGgPwYqQiytQaA/BipCLK1BoD8=\"},\"shape\":[52],\"dtype\":\"float64\",\"order\":\"little\"}],[\"first_century\",[19,19,19,19,19,19,19,19,19,19,19,19,19,19,19,19,19,19,19,19,19,19,19,19,19,19,19,19,19,19,19,19,19,19,19,19,19,19,19,19,19,19,19,19,19,19,19,19,19,19,19,19]]]}}},\"view\":{\"type\":\"object\",\"name\":\"CDSView\",\"id\":\"4943d6f6-31cf-4c0a-9eb1-1611d3e16af4\",\"attributes\":{\"filter\":{\"type\":\"object\",\"name\":\"AllIndices\",\"id\":\"ee9298c9-b2a4-405c-a65c-7b012fb91878\"}}},\"glyph\":{\"type\":\"object\",\"name\":\"Line\",\"id\":\"8a3e562c-81fd-46f3-a22d-f37873336789\",\"attributes\":{\"tags\":[\"apply_ranges\"],\"x\":{\"type\":\"field\",\"field\":\"period\"},\"y\":{\"type\":\"field\",\"field\":\"pct_retained\"},\"line_color\":\"#fc4f30\",\"line_width\":2}},\"selection_glyph\":{\"type\":\"object\",\"name\":\"Line\",\"id\":\"803452e5-3c23-488d-877a-f44498d1e491\",\"attributes\":{\"tags\":[\"apply_ranges\"],\"x\":{\"type\":\"field\",\"field\":\"period\"},\"y\":{\"type\":\"field\",\"field\":\"pct_retained\"},\"line_color\":\"#fc4f30\",\"line_width\":2}},\"nonselection_glyph\":{\"type\":\"object\",\"name\":\"Line\",\"id\":\"5255dd18-bd4a-49c5-be6c-e68ab0a9141b\",\"attributes\":{\"tags\":[\"apply_ranges\"],\"x\":{\"type\":\"field\",\"field\":\"period\"},\"y\":{\"type\":\"field\",\"field\":\"pct_retained\"},\"line_color\":\"#fc4f30\",\"line_alpha\":0.1,\"line_width\":2}},\"muted_glyph\":{\"type\":\"object\",\"name\":\"Line\",\"id\":\"2a8a93e3-f736-4c15-a07c-26eba528af70\",\"attributes\":{\"tags\":[\"apply_ranges\"],\"x\":{\"type\":\"field\",\"field\":\"period\"},\"y\":{\"type\":\"field\",\"field\":\"pct_retained\"},\"line_color\":\"#fc4f30\",\"line_alpha\":0.2,\"line_width\":2}}}},{\"type\":\"object\",\"name\":\"GlyphRenderer\",\"id\":\"2861ffb7-f29b-47a3-baa3-62ee528daff2\",\"attributes\":{\"name\":\"20\",\"data_source\":{\"type\":\"object\",\"name\":\"ColumnDataSource\",\"id\":\"fda72bd2-1301-4c3f-bfc2-43e19465845a\",\"attributes\":{\"selected\":{\"type\":\"object\",\"name\":\"Selection\",\"id\":\"4472a304-003f-4e05-925e-32af3d2c54e5\",\"attributes\":{\"indices\":[],\"line_indices\":[]}},\"selection_policy\":{\"type\":\"object\",\"name\":\"UnionRenderers\",\"id\":\"5319bd7c-2237-4de9-b0ab-208e5736471b\"},\"data\":{\"type\":\"map\",\"entries\":[[\"period\",{\"type\":\"ndarray\",\"array\":{\"type\":\"bytes\",\"data\":\"AAAAAAEAAAACAAAAAwAAAAQAAAAFAAAABgAAAAcAAAAIAAAACQAAAAoAAAALAAAADAAAAA0AAAAOAAAADwAAABAAAAARAAAAEgAAABMAAAAUAAAAFQAAABYAAAAXAAAAGAAAABkAAAAaAAAAGwAAABwAAAAdAAAAHgAAAB8AAAAgAAAAIQAAACIAAAAjAAAAJAAAACUAAAAmAAAAJwAAACgAAAApAAAAKgAAACsAAAAsAAAALQAAAC4AAAAvAAAAMAAAADEAAAAyAAAAMwAAADQAAAA1AAAANgAAADcAAAA4AAAAOQAAADoAAAA7AAAA\"},\"shape\":[60],\"dtype\":\"int32\",\"order\":\"little\"}],[\"pct_retained\",{\"type\":\"ndarray\",\"array\":{\"type\":\"bytes\",\"data\":\"AAAAAAAAWUCLcXofmo1YQDQkEHX48VJAMvagtczTUkAPJZUOCmhQQDez3KlaR1BA7MXgboHmSkA/p5ZEZNJKQGaEHYdL9kZADUeJMhHORkBJ/dGQQNRDQBnlPLdsmkNAoyBdbCdQQEAfJxK9cCpAQISY7TmA7jtAenfoG+eEO0DJ4rb5Hog3QBstte/rZDdAvOKBw/BEM0Bgd36viv4yQHy/YFRmTy9AxehZLJrCLkCx9Y6X/jMqQKMPY9ojnSlALCdH855tJEB3fq+K/v4jQCt2hpo1siBAI+w4XLJXIECZV6bcdCQZQDViVYqLgxhAvXk5owZUE0CywXylV9sSQLcCLm+/Kw5AXsWZGoUDDkDeoW+cE74EQHqsHkoqHQRAPp1jIXiZ/D/apxLPjvj7P9FsBDii4vc/CYJik8+g9j8j7DhcslfwP3/tzxOSbe8/QpfA7vxe5T8Wt833QHzjP3/tzxOSbd8/8BeMyuzp3D9Cl8Du/F7VP7LBfKVX29I/I+w4XLJX0D+3Ai5vvyvOPwmCYpPPoMY/CYJik8+gxj+3Ai5vvyu+P3qsHkoqHbQ/twIub78rrj+3Ai5vvyuuP7cCLm+/K64/eqweSiodpD96rB5KKh2UP3qsHkoqHZQ/\"},\"shape\":[60],\"dtype\":\"float64\",\"order\":\"little\"}],[\"first_century\",[20,20,20,20,20,20,20,20,20,20,20,20,20,20,20,20,20,20,20,20,20,20,20,20,20,20,20,20,20,20,20,20,20,20,20,20,20,20,20,20,20,20,20,20,20,20,20,20,20,20,20,20,20,20,20,20,20,20,20,20]]]}}},\"view\":{\"type\":\"object\",\"name\":\"CDSView\",\"id\":\"1f70e2b0-57fc-4491-bd64-08a97ee65973\",\"attributes\":{\"filter\":{\"type\":\"object\",\"name\":\"AllIndices\",\"id\":\"5f8d4f3e-948c-45bb-abb9-6cdb04e39f43\"}}},\"glyph\":{\"type\":\"object\",\"name\":\"Line\",\"id\":\"8f05b8c6-2e66-4d9f-8cbe-a21dd5a05efb\",\"attributes\":{\"tags\":[\"apply_ranges\"],\"x\":{\"type\":\"field\",\"field\":\"period\"},\"y\":{\"type\":\"field\",\"field\":\"pct_retained\"},\"line_color\":\"#e5ae38\",\"line_width\":2}},\"selection_glyph\":{\"type\":\"object\",\"name\":\"Line\",\"id\":\"8ed98188-5399-4525-81a0-be6562783db9\",\"attributes\":{\"tags\":[\"apply_ranges\"],\"x\":{\"type\":\"field\",\"field\":\"period\"},\"y\":{\"type\":\"field\",\"field\":\"pct_retained\"},\"line_color\":\"#e5ae38\",\"line_width\":2}},\"nonselection_glyph\":{\"type\":\"object\",\"name\":\"Line\",\"id\":\"d754b394-8f60-49da-9ab6-fe2fd4516a26\",\"attributes\":{\"tags\":[\"apply_ranges\"],\"x\":{\"type\":\"field\",\"field\":\"period\"},\"y\":{\"type\":\"field\",\"field\":\"pct_retained\"},\"line_color\":\"#e5ae38\",\"line_alpha\":0.1,\"line_width\":2}},\"muted_glyph\":{\"type\":\"object\",\"name\":\"Line\",\"id\":\"4b6ec514-3dc5-43fe-ba27-3c231579958d\",\"attributes\":{\"tags\":[\"apply_ranges\"],\"x\":{\"type\":\"field\",\"field\":\"period\"},\"y\":{\"type\":\"field\",\"field\":\"pct_retained\"},\"line_color\":\"#e5ae38\",\"line_alpha\":0.2,\"line_width\":2}}}},{\"type\":\"object\",\"name\":\"GlyphRenderer\",\"id\":\"c7709643-a17e-4d26-af11-3bd17e37b183\",\"attributes\":{\"name\":\"21\",\"data_source\":{\"type\":\"object\",\"name\":\"ColumnDataSource\",\"id\":\"928686df-4509-426c-95df-0d9bc80582d6\",\"attributes\":{\"selected\":{\"type\":\"object\",\"name\":\"Selection\",\"id\":\"052c3e77-c13f-4845-84bd-3f228d5edd59\",\"attributes\":{\"indices\":[],\"line_indices\":[]}},\"selection_policy\":{\"type\":\"object\",\"name\":\"UnionRenderers\",\"id\":\"4bc3ea93-753b-4947-824a-a5efab7ec5e5\"},\"data\":{\"type\":\"map\",\"entries\":[[\"period\",{\"type\":\"ndarray\",\"array\":{\"type\":\"bytes\",\"data\":\"AAAAAAEAAAACAAAAAwAAAAQAAAAFAAAABgAAAAcAAAAIAAAACQAAAAoAAAALAAAADAAAAA0AAAAOAAAADwAAABAAAAARAAAAEgAAABMAAAA=\"},\"shape\":[20],\"dtype\":\"int32\",\"order\":\"little\"}],[\"pct_retained\",{\"type\":\"ndarray\",\"array\":{\"type\":\"bytes\",\"data\":\"AAAAAAAAWUDlNZTXUD5YQAAAAAAAwFJA8xrKaygPUkDKayivobxNQF5DeQ3lNU1AKK+hvIayRkCvobyG8hpGQPMaymsoLz9A5TWU11DePUCU11BeQ/k1QNhQXkN5DTVAvYbyGsprLEBDeQ3lNZQqQEN5DeU1lCBADeU1lNdQIECU11BeQ3kTQL2G8hrKaxJANpTXUF5D+T+H8hrKayj3Pw==\"},\"shape\":[20],\"dtype\":\"float64\",\"order\":\"little\"}],[\"first_century\",[21,21,21,21,21,21,21,21,21,21,21,21,21,21,21,21,21,21,21,21]]]}}},\"view\":{\"type\":\"object\",\"name\":\"CDSView\",\"id\":\"06fea93c-ce0d-4106-89b7-ca8f5822ae31\",\"attributes\":{\"filter\":{\"type\":\"object\",\"name\":\"AllIndices\",\"id\":\"8e33d78d-f4af-402e-836f-41846a3bd21d\"}}},\"glyph\":{\"type\":\"object\",\"name\":\"Line\",\"id\":\"3b819a01-df7b-46f8-a540-41241a7884e4\",\"attributes\":{\"tags\":[\"apply_ranges\"],\"x\":{\"type\":\"field\",\"field\":\"period\"},\"y\":{\"type\":\"field\",\"field\":\"pct_retained\"},\"line_color\":\"#6d904f\",\"line_width\":2}},\"selection_glyph\":{\"type\":\"object\",\"name\":\"Line\",\"id\":\"95a90a45-e2fe-46a6-a70f-00bb54d0a649\",\"attributes\":{\"tags\":[\"apply_ranges\"],\"x\":{\"type\":\"field\",\"field\":\"period\"},\"y\":{\"type\":\"field\",\"field\":\"pct_retained\"},\"line_color\":\"#6d904f\",\"line_width\":2}},\"nonselection_glyph\":{\"type\":\"object\",\"name\":\"Line\",\"id\":\"8167d798-85e7-4b9c-9129-2d2498e19636\",\"attributes\":{\"tags\":[\"apply_ranges\"],\"x\":{\"type\":\"field\",\"field\":\"period\"},\"y\":{\"type\":\"field\",\"field\":\"pct_retained\"},\"line_color\":\"#6d904f\",\"line_alpha\":0.1,\"line_width\":2}},\"muted_glyph\":{\"type\":\"object\",\"name\":\"Line\",\"id\":\"a6eac329-0060-43a9-88d0-eecafa66b4de\",\"attributes\":{\"tags\":[\"apply_ranges\"],\"x\":{\"type\":\"field\",\"field\":\"period\"},\"y\":{\"type\":\"field\",\"field\":\"pct_retained\"},\"line_color\":\"#6d904f\",\"line_alpha\":0.2,\"line_width\":2}}}}],\"tooltips\":[[\"first_century\",\"@{first_century}\"],[\"period\",\"@{period}\"],[\"pct_retained\",\"@{pct_retained}\"]]}},{\"type\":\"object\",\"name\":\"HoverTool\",\"id\":\"0c373b63-72ff-4b70-b99a-af17bf7e22f7\",\"attributes\":{\"tags\":[\"hv_created\"],\"renderers\":[{\"type\":\"object\",\"name\":\"GlyphRenderer\",\"id\":\"bf8b70b7-2238-4392-ac8e-dcc3af7fa4b5\",\"attributes\":{\"name\":\"IL\",\"data_source\":{\"type\":\"object\",\"name\":\"ColumnDataSource\",\"id\":\"d170a785-b46a-4cad-9d76-2233be450250\",\"attributes\":{\"selected\":{\"type\":\"object\",\"name\":\"Selection\",\"id\":\"7bb55dd7-f8e9-4c9e-845a-b3a64c855321\",\"attributes\":{\"indices\":[],\"line_indices\":[]}},\"selection_policy\":{\"type\":\"object\",\"name\":\"UnionRenderers\",\"id\":\"a231a18f-46f9-405f-8266-0c095f522055\"},\"data\":{\"type\":\"map\",\"entries\":[[\"period\",{\"type\":\"ndarray\",\"array\":{\"type\":\"bytes\",\"data\":\"AAAAAAEAAAACAAAAAwAAAAQAAAAFAAAABgAAAAcAAAAIAAAACQAAAAoAAAALAAAADAAAAA0AAAAOAAAADwAAABAAAAARAAAAEgAAABMAAAAUAAAAFQAAABYAAAAXAAAAGAAAABkAAAAaAAAAGwAAABwAAAAdAAAAHgAAAB8AAAAgAAAAIQAAACIAAAAjAAAAJAAAACUAAAAmAAAAJwAAACgAAAApAAAAKgAAACsAAAAsAAAALQAAAC4AAAAvAAAAMAAAADEAAAA=\"},\"shape\":[50],\"dtype\":\"int32\",\"order\":\"little\"}],[\"pct_retained\",{\"type\":\"ndarray\",\"array\":{\"type\":\"bytes\",\"data\":\"AAAAAAAAWUB0LqwRBzZYQBY8S1HtXlBAqUNOH6Z1T0BCGqRBGqRJQOfCGnFg80hAJULnwhpxQkD0xxyl21dCQHFg8/r9yzxAq3fJgwFnPEBTVLsXo6c4QMeCZymq3TdAlzwYcMa1NEBvX1m9Sx40QJHTh2ldJTJAy+pd8mDAMUAV1e7F6CkvQMMacWDz+i1AKnf8ZCgQKEBkjtLtK6snQFe8seBZiiJAV7yx4FmKIkCzR7YVbywgQE/sxE7sxB5AwBnXIkFNFUA1SIM0SIMUQHkw4IxrkRBAeTDgjGuREEBkjtLtK6sHQGSO0u0rqwdAfDF6yh0/CUB8MXrKHT8JQEzrKhE6FwZATOsqEToXBkA1SIM0SIMEQDVIgzRIgwRAq3fJgwFn/D+rd8mDAWf8P0zrKhE6F/Y/TOsqEToX9j98MXrKHT/pP3wxesodP+k/270YPeWO7z98MXrKHT/pP3wxesodP+k/fDF6yh0/6T8dpdtXVu/iPx2l21dW7+I/fDF6yh0/2T98MXrKHT/ZPw==\"},\"shape\":[50],\"dtype\":\"float64\",\"order\":\"little\"}],[\"first_state\",[\"IL\",\"IL\",\"IL\",\"IL\",\"IL\",\"IL\",\"IL\",\"IL\",\"IL\",\"IL\",\"IL\",\"IL\",\"IL\",\"IL\",\"IL\",\"IL\",\"IL\",\"IL\",\"IL\",\"IL\",\"IL\",\"IL\",\"IL\",\"IL\",\"IL\",\"IL\",\"IL\",\"IL\",\"IL\",\"IL\",\"IL\",\"IL\",\"IL\",\"IL\",\"IL\",\"IL\",\"IL\",\"IL\",\"IL\",\"IL\",\"IL\",\"IL\",\"IL\",\"IL\",\"IL\",\"IL\",\"IL\",\"IL\",\"IL\",\"IL\"]]]}}},\"view\":{\"type\":\"object\",\"name\":\"CDSView\",\"id\":\"4181ff46-903b-4777-82f6-c17b93d37b31\",\"attributes\":{\"filter\":{\"type\":\"object\",\"name\":\"AllIndices\",\"id\":\"3d43fa6c-575a-4a5c-8bf7-ce2481923845\"}}},\"glyph\":{\"type\":\"object\",\"name\":\"Line\",\"id\":\"6f97d50c-85d9-4caf-a124-a83fd62e9cc4\",\"attributes\":{\"tags\":[\"apply_ranges\"],\"x\":{\"type\":\"field\",\"field\":\"period\"},\"y\":{\"type\":\"field\",\"field\":\"pct_retained\"},\"line_color\":\"#30a2da\",\"line_width\":2}},\"selection_glyph\":{\"type\":\"object\",\"name\":\"Line\",\"id\":\"03847805-4c63-48e8-b35f-4f5cae64dc82\",\"attributes\":{\"tags\":[\"apply_ranges\"],\"x\":{\"type\":\"field\",\"field\":\"period\"},\"y\":{\"type\":\"field\",\"field\":\"pct_retained\"},\"line_color\":\"#30a2da\",\"line_width\":2}},\"nonselection_glyph\":{\"type\":\"object\",\"name\":\"Line\",\"id\":\"1eba1ba2-e2f4-486f-af48-fd3dcfb80a9a\",\"attributes\":{\"tags\":[\"apply_ranges\"],\"x\":{\"type\":\"field\",\"field\":\"period\"},\"y\":{\"type\":\"field\",\"field\":\"pct_retained\"},\"line_color\":\"#30a2da\",\"line_alpha\":0.1,\"line_width\":2}},\"muted_glyph\":{\"type\":\"object\",\"name\":\"Line\",\"id\":\"dfd25221-e3d0-451d-a0b1-fbe2842b1a0a\",\"attributes\":{\"tags\":[\"apply_ranges\"],\"x\":{\"type\":\"field\",\"field\":\"period\"},\"y\":{\"type\":\"field\",\"field\":\"pct_retained\"},\"line_color\":\"#30a2da\",\"line_alpha\":0.2,\"line_width\":2}}}},{\"type\":\"object\",\"name\":\"GlyphRenderer\",\"id\":\"2547bd78-ba9c-4068-8ed7-92b07dc78019\",\"attributes\":{\"name\":\"MA\",\"data_source\":{\"type\":\"object\",\"name\":\"ColumnDataSource\",\"id\":\"7e6251f6-6bfb-42c6-8e38-ec69e4a00d10\",\"attributes\":{\"selected\":{\"type\":\"object\",\"name\":\"Selection\",\"id\":\"14436354-15e2-471e-8afd-7e99fb574410\",\"attributes\":{\"indices\":[],\"line_indices\":[]}},\"selection_policy\":{\"type\":\"object\",\"name\":\"UnionRenderers\",\"id\":\"44bd91af-a3e3-43e3-9acb-ecd5d55719c5\"},\"data\":{\"type\":\"map\",\"entries\":[[\"period\",{\"type\":\"ndarray\",\"array\":{\"type\":\"bytes\",\"data\":\"AAAAAAEAAAACAAAAAwAAAAQAAAAFAAAABgAAAAcAAAAIAAAACQAAAAoAAAALAAAADAAAAA0AAAAOAAAADwAAABAAAAARAAAAEgAAABMAAAAUAAAAFQAAABYAAAAXAAAAGAAAABkAAAAaAAAAGwAAABwAAAAdAAAAHgAAAB8AAAAgAAAAIQAAACIAAAAjAAAAJAAAACUAAAAmAAAAJwAAACgAAAApAAAAKgAAACsAAAAsAAAALQAAAC4AAAA=\"},\"shape\":[47],\"dtype\":\"int32\",\"order\":\"little\"}],[\"pct_retained\",{\"type\":\"ndarray\",\"array\":{\"type\":\"bytes\",\"data\":\"AAAAAAAAWUBtGTxI2RhYQDxI2Riv41FAihZ7UalhUUDWV7izSydIQOhq5anueUdASoBGMusrQkDB9i+3mYJCQOoREy32ojpARRgifyxpOkBnl07oauU1QMOdXTqhqzVALhBs/3KbMUDlHIqj3ycxQMbruECw/StAEN+anENxLEDoauWp7nknQDJexwWC7SdAeap73g04JUCd0NXKU90jQMH2L7eZgiJALhBs/3KbIUBZ0nz41uQcQFnSfPjW5BxAMwX1iIkWG0ChHjHRYi8aQHtRqWEVYRhAe1GpYRVhGEBSNsbruEAQQFI2xuu4QBBAf58EaCSzDkBZ0nz41uQMQOhq5anueQdA6Grlqe55B0DDnV06oasFQMOdXTqhqwVAWdJ8+Nbk/D8OOG0ZPEj5P3gDTlsGD/I/eANOWwYP8j94A05bBg/yP3gDTlsGD/I/WdJ8+Nbk7D9Z0nz41uTsP8OdXTqhq+U/w51dOqGr5T9Z0nz41uTMPw==\"},\"shape\":[47],\"dtype\":\"float64\",\"order\":\"little\"}],[\"first_state\",[\"MA\",\"MA\",\"MA\",\"MA\",\"MA\",\"MA\",\"MA\",\"MA\",\"MA\",\"MA\",\"MA\",\"MA\",\"MA\",\"MA\",\"MA\",\"MA\",\"MA\",\"MA\",\"MA\",\"MA\",\"MA\",\"MA\",\"MA\",\"MA\",\"MA\",\"MA\",\"MA\",\"MA\",\"MA\",\"MA\",\"MA\",\"MA\",\"MA\",\"MA\",\"MA\",\"MA\",\"MA\",\"MA\",\"MA\",\"MA\",\"MA\",\"MA\",\"MA\",\"MA\",\"MA\",\"MA\",\"MA\"]]]}}},\"view\":{\"type\":\"object\",\"name\":\"CDSView\",\"id\":\"32e0f246-dfef-4274-b739-b2508fd9f297\",\"attributes\":{\"filter\":{\"type\":\"object\",\"name\":\"AllIndices\",\"id\":\"15f89388-b146-4d96-b4ef-91a8e2443e1a\"}}},\"glyph\":{\"type\":\"object\",\"name\":\"Line\",\"id\":\"b8235eea-faaf-4f52-9f17-81c14addac3d\",\"attributes\":{\"tags\":[\"apply_ranges\"],\"x\":{\"type\":\"field\",\"field\":\"period\"},\"y\":{\"type\":\"field\",\"field\":\"pct_retained\"},\"line_color\":\"#fc4f30\",\"line_width\":2}},\"selection_glyph\":{\"type\":\"object\",\"name\":\"Line\",\"id\":\"37635408-2bde-47f4-bd4d-230be2703d37\",\"attributes\":{\"tags\":[\"apply_ranges\"],\"x\":{\"type\":\"field\",\"field\":\"period\"},\"y\":{\"type\":\"field\",\"field\":\"pct_retained\"},\"line_color\":\"#fc4f30\",\"line_width\":2}},\"nonselection_glyph\":{\"type\":\"object\",\"name\":\"Line\",\"id\":\"67f5e43e-afc5-46e2-ba57-e762f16fac8a\",\"attributes\":{\"tags\":[\"apply_ranges\"],\"x\":{\"type\":\"field\",\"field\":\"period\"},\"y\":{\"type\":\"field\",\"field\":\"pct_retained\"},\"line_color\":\"#fc4f30\",\"line_alpha\":0.1,\"line_width\":2}},\"muted_glyph\":{\"type\":\"object\",\"name\":\"Line\",\"id\":\"73d09662-b61b-43e4-a028-352ff6c219e1\",\"attributes\":{\"tags\":[\"apply_ranges\"],\"x\":{\"type\":\"field\",\"field\":\"period\"},\"y\":{\"type\":\"field\",\"field\":\"pct_retained\"},\"line_color\":\"#fc4f30\",\"line_alpha\":0.2,\"line_width\":2}}}},{\"type\":\"object\",\"name\":\"GlyphRenderer\",\"id\":\"e03ff32a-7125-43f6-b2c3-3398673690ca\",\"attributes\":{\"name\":\"NY\",\"data_source\":{\"type\":\"object\",\"name\":\"ColumnDataSource\",\"id\":\"bea3e049-8f87-4f58-9b13-41ce06e07401\",\"attributes\":{\"selected\":{\"type\":\"object\",\"name\":\"Selection\",\"id\":\"7f199f2c-bae4-40f6-ab5b-26f3977cdc1f\",\"attributes\":{\"indices\":[],\"line_indices\":[]}},\"selection_policy\":{\"type\":\"object\",\"name\":\"UnionRenderers\",\"id\":\"4605e84f-7c04-4221-9be3-356068a485e3\"},\"data\":{\"type\":\"map\",\"entries\":[[\"period\",{\"type\":\"ndarray\",\"array\":{\"type\":\"bytes\",\"data\":\"AAAAAAEAAAACAAAAAwAAAAQAAAAFAAAABgAAAAcAAAAIAAAACQAAAAoAAAALAAAADAAAAA0AAAAOAAAADwAAABAAAAARAAAAEgAAABMAAAAUAAAAFQAAABYAAAAXAAAAGAAAABkAAAAaAAAAGwAAABwAAAAdAAAAHgAAAB8AAAAgAAAAIQAAACIAAAAjAAAAJAAAACUAAAAmAAAAJwAAACgAAAApAAAAKgAAACsAAAAsAAAALQAAAC4AAAAvAAAAMAAAADEAAAA=\"},\"shape\":[50],\"dtype\":\"int32\",\"order\":\"little\"}],[\"pct_retained\",{\"type\":\"ndarray\",\"array\":{\"type\":\"bytes\",\"data\":\"AAAAAAAAWUDuQYB3mFhYQNKeMUW/AkhAWheo/7U0R0AaU/QrAKU9QNsRCEupgj1APXRZzdzeNkDA8YALL5o2QHg9viTu9zBAmttb02vEMEAVWKWvWy4uQNYWuc4EDC5AFttsorqbJ0BaF6j/tTQnQLg6bsrnHiRA/HapJ+O3I0DbEQhLqYIdQNsRCEupgh1AMML3D/HsFEAwwvcP8ewUQNgcSLTC5hBA2BxItMLmEEDLIBvWux4PQNsRCEupgg1ABup/Lc03CUAG6n8tzTcJQDu4lQg62gNAO7iVCDraA0Bglb5uuRgAQMsgG9a7Hv8/K8eok0x29T82vUaMlWP0P+sC9b+W5us/6wL1v5bm6z8B7zCxKMHpPwHvMLEowek/K8eok0x25T9WnyB2cCvhP9YWuc4EDN4/1ha5zgQM3j8rx6iTTHbVPyvHqJNMdtU/Vp8gdnArwT9WnyB2cCvBP1afIHZwK8E/Vp8gdnArwT9WnyB2cCuxP1afIHZwK7E/Vp8gdnArsT9WnyB2cCuxPw==\"},\"shape\":[50],\"dtype\":\"float64\",\"order\":\"little\"}],[\"first_state\",[\"NY\",\"NY\",\"NY\",\"NY\",\"NY\",\"NY\",\"NY\",\"NY\",\"NY\",\"NY\",\"NY\",\"NY\",\"NY\",\"NY\",\"NY\",\"NY\",\"NY\",\"NY\",\"NY\",\"NY\",\"NY\",\"NY\",\"NY\",\"NY\",\"NY\",\"NY\",\"NY\",\"NY\",\"NY\",\"NY\",\"NY\",\"NY\",\"NY\",\"NY\",\"NY\",\"NY\",\"NY\",\"NY\",\"NY\",\"NY\",\"NY\",\"NY\",\"NY\",\"NY\",\"NY\",\"NY\",\"NY\",\"NY\",\"NY\",\"NY\"]]]}}},\"view\":{\"type\":\"object\",\"name\":\"CDSView\",\"id\":\"ff8ac45e-ef58-4564-90b9-fa537d434bf6\",\"attributes\":{\"filter\":{\"type\":\"object\",\"name\":\"AllIndices\",\"id\":\"f6c2b4bf-f5bd-4cef-b140-134fa0b166b1\"}}},\"glyph\":{\"type\":\"object\",\"name\":\"Line\",\"id\":\"40847702-93ae-4cf7-92d0-87c3f6fc4a95\",\"attributes\":{\"tags\":[\"apply_ranges\"],\"x\":{\"type\":\"field\",\"field\":\"period\"},\"y\":{\"type\":\"field\",\"field\":\"pct_retained\"},\"line_color\":\"#e5ae38\",\"line_width\":2}},\"selection_glyph\":{\"type\":\"object\",\"name\":\"Line\",\"id\":\"c0a2d455-f0c4-43c4-bdd2-127ab3bc7bf8\",\"attributes\":{\"tags\":[\"apply_ranges\"],\"x\":{\"type\":\"field\",\"field\":\"period\"},\"y\":{\"type\":\"field\",\"field\":\"pct_retained\"},\"line_color\":\"#e5ae38\",\"line_width\":2}},\"nonselection_glyph\":{\"type\":\"object\",\"name\":\"Line\",\"id\":\"c2f02aaa-8972-4141-8c6e-56fd2ec7a6c4\",\"attributes\":{\"tags\":[\"apply_ranges\"],\"x\":{\"type\":\"field\",\"field\":\"period\"},\"y\":{\"type\":\"field\",\"field\":\"pct_retained\"},\"line_color\":\"#e5ae38\",\"line_alpha\":0.1,\"line_width\":2}},\"muted_glyph\":{\"type\":\"object\",\"name\":\"Line\",\"id\":\"b2843d2a-41c2-42cf-a68b-5805cd589729\",\"attributes\":{\"tags\":[\"apply_ranges\"],\"x\":{\"type\":\"field\",\"field\":\"period\"},\"y\":{\"type\":\"field\",\"field\":\"pct_retained\"},\"line_color\":\"#e5ae38\",\"line_alpha\":0.2,\"line_width\":2}}}},{\"type\":\"object\",\"name\":\"GlyphRenderer\",\"id\":\"1f22f7e3-474e-4160-a2dd-a05e7f2b791b\",\"attributes\":{\"name\":\"OH\",\"data_source\":{\"type\":\"object\",\"name\":\"ColumnDataSource\",\"id\":\"bb85eb29-ee94-4d1b-8be8-c255499df7f4\",\"attributes\":{\"selected\":{\"type\":\"object\",\"name\":\"Selection\",\"id\":\"819e045b-14f9-42e9-b23e-9eacffce2f4f\",\"attributes\":{\"indices\":[],\"line_indices\":[]}},\"selection_policy\":{\"type\":\"object\",\"name\":\"UnionRenderers\",\"id\":\"f9ff3b07-e2da-4bb4-8a88-1192693ec3d0\"},\"data\":{\"type\":\"map\",\"entries\":[[\"period\",{\"type\":\"ndarray\",\"array\":{\"type\":\"bytes\",\"data\":\"AAAAAAEAAAACAAAAAwAAAAQAAAAFAAAABgAAAAcAAAAIAAAACQAAAAoAAAALAAAADAAAAA0AAAAOAAAADwAAABAAAAARAAAAEgAAABMAAAAUAAAAFQAAABYAAAAXAAAAGAAAABkAAAAaAAAAGwAAABwAAAAdAAAAHgAAAB8AAAAgAAAAIQAAACIAAAAjAAAAJAAAACUAAAAmAAAAJwAAACgAAAApAAAAKgAAACsAAAAsAAAALQAAAC4AAAAvAAAAMgAAADMAAAA=\"},\"shape\":[50],\"dtype\":\"int32\",\"order\":\"little\"}],[\"pct_retained\",{\"type\":\"ndarray\",\"array\":{\"type\":\"bytes\",\"data\":\"AAAAAAAAWUClM06irCJYQFFWkaF/aU9APD2XCUlnTkDEwmj2tphDQMYc2zXVzUJAb4s5tmuqO0D88ahBpWA7QKlBpWAHwjVAe1vMsV1TNUDgQyyMZm8xQGyqmxegJTFAb4s5tmuqK0CgJffjUYMqQI7A4cpX6ydAGidRVpGhJ0AgjxpUCnYkQDhc+Wp94iNAP/F7iIXRHEAOV75an/gdQNG/tBE4XBlAAVpyPx41GEBKwQ6Ed3oWQHtbzLFdUxVA3Y9HDSoFE0D1XCYknXESQN28AC25Hw9A3bwALbkfD0Ay9C9tBA4HQDL0L20EDgdAVpGhf2kjAEAOV75an/j9Pw5Xvlqf+P0/0b+0EThc+T/1XCYknXHyP/VcJiSdcfI/VpGhf2kj8D9WkaF/aSPwP/VcJiSdceI/MvQvbQQO5z/1XCYknXHiP2+LObZrqts/9VwmJJ1x0j/1XCYknXHCP/VcJiSdccI/9VwmJJ1xwj/1XCYknXHCP/VcJiSdccI/9VwmJJ1xwj/1XCYknXHCPw==\"},\"shape\":[50],\"dtype\":\"float64\",\"order\":\"little\"}],[\"first_state\",[\"OH\",\"OH\",\"OH\",\"OH\",\"OH\",\"OH\",\"OH\",\"OH\",\"OH\",\"OH\",\"OH\",\"OH\",\"OH\",\"OH\",\"OH\",\"OH\",\"OH\",\"OH\",\"OH\",\"OH\",\"OH\",\"OH\",\"OH\",\"OH\",\"OH\",\"OH\",\"OH\",\"OH\",\"OH\",\"OH\",\"OH\",\"OH\",\"OH\",\"OH\",\"OH\",\"OH\",\"OH\",\"OH\",\"OH\",\"OH\",\"OH\",\"OH\",\"OH\",\"OH\",\"OH\",\"OH\",\"OH\",\"OH\",\"OH\",\"OH\"]]]}}},\"view\":{\"type\":\"object\",\"name\":\"CDSView\",\"id\":\"8f6ae168-9b33-4469-84cf-a47b49c127fb\",\"attributes\":{\"filter\":{\"type\":\"object\",\"name\":\"AllIndices\",\"id\":\"6e578496-c622-4854-8b71-bdb8a5f25454\"}}},\"glyph\":{\"type\":\"object\",\"name\":\"Line\",\"id\":\"33d2c5c4-b493-494d-8343-1c1416fc4aa1\",\"attributes\":{\"tags\":[\"apply_ranges\"],\"x\":{\"type\":\"field\",\"field\":\"period\"},\"y\":{\"type\":\"field\",\"field\":\"pct_retained\"},\"line_color\":\"#6d904f\",\"line_width\":2}},\"selection_glyph\":{\"type\":\"object\",\"name\":\"Line\",\"id\":\"3da1e5b0-0fa2-4c79-bf23-d8764791d893\",\"attributes\":{\"tags\":[\"apply_ranges\"],\"x\":{\"type\":\"field\",\"field\":\"period\"},\"y\":{\"type\":\"field\",\"field\":\"pct_retained\"},\"line_color\":\"#6d904f\",\"line_width\":2}},\"nonselection_glyph\":{\"type\":\"object\",\"name\":\"Line\",\"id\":\"baa094f9-b486-4ac4-99ba-c946156e7949\",\"attributes\":{\"tags\":[\"apply_ranges\"],\"x\":{\"type\":\"field\",\"field\":\"period\"},\"y\":{\"type\":\"field\",\"field\":\"pct_retained\"},\"line_color\":\"#6d904f\",\"line_alpha\":0.1,\"line_width\":2}},\"muted_glyph\":{\"type\":\"object\",\"name\":\"Line\",\"id\":\"a5f0d4ca-7241-4594-8eb3-4ad1a1834d1f\",\"attributes\":{\"tags\":[\"apply_ranges\"],\"x\":{\"type\":\"field\",\"field\":\"period\"},\"y\":{\"type\":\"field\",\"field\":\"pct_retained\"},\"line_color\":\"#6d904f\",\"line_alpha\":0.2,\"line_width\":2}}}},{\"type\":\"object\",\"name\":\"GlyphRenderer\",\"id\":\"048a29ab-3d87-4be0-a160-981fefc8f192\",\"attributes\":{\"name\":\"PA\",\"data_source\":{\"type\":\"object\",\"name\":\"ColumnDataSource\",\"id\":\"ecb7129c-6303-4f08-8255-149a990d8d5f\",\"attributes\":{\"selected\":{\"type\":\"object\",\"name\":\"Selection\",\"id\":\"7e2e5234-71bd-4eae-9b77-26efa3a7f190\",\"attributes\":{\"indices\":[],\"line_indices\":[]}},\"selection_policy\":{\"type\":\"object\",\"name\":\"UnionRenderers\",\"id\":\"b81c280e-0846-406d-80d0-1f9c5095bb51\"},\"data\":{\"type\":\"map\",\"entries\":[[\"period\",{\"type\":\"ndarray\",\"array\":{\"type\":\"bytes\",\"data\":\"AAAAAAEAAAACAAAAAwAAAAQAAAAFAAAABgAAAAcAAAAIAAAACQAAAAoAAAALAAAADAAAAA0AAAAOAAAADwAAABAAAAARAAAAEgAAABMAAAAUAAAAFQAAABYAAAAXAAAAGAAAABkAAAAaAAAAGwAAABwAAAAdAAAAHgAAAB8AAAAgAAAAIQAAACIAAAAjAAAAJAAAACoAAAArAAAALAAAAC0AAAAuAAAALwAAADAAAAAxAAAAMgAAADMAAAA=\"},\"shape\":[47],\"dtype\":\"int32\",\"order\":\"little\"}],[\"pct_retained\",{\"type\":\"ndarray\",\"array\":{\"type\":\"bytes\",\"data\":\"AAAAAAAAWUChL+gL+oJYQJU1ZU1ZU05AWVPWlDVlTUAGfUFf0BdCQGvKmrKmrEFAGPQFfUFfOEAAAAAAAAA4QL+gL+gL+jJAs6asKWvKMkCVNWVNWVMuQHFH3BF3xC1Ad8QdcUfcKUBT1pQ1ZU0pQKEv6Av6giZAfUFf0Bf0JUCnrClrypoiQGvKmrKmrCFAoS/oC/qCHkBxR9wRd8QdQAZ9QV/QFxRAv6Av6Av6EkBxR9wRd8QNQHFH3BF3xA1As6asKWvKCkDEHXFH3BEHQGVNWVPWlAVABn1BX9AXBEBxR9wRd8T9P3FH3BF3xP0/9AV9QV/Q9z+VNWVNWVP2P/QFfUFf0Oc/NmVNWVPW5D93xB1xR9zhP3fEHXFH3OE/9AV9QV/Qtz/0BX1BX9C3P/QFfUFf0Lc/9AV9QV/Qtz/0BX1BX9C3P/QFfUFf0Lc/9AV9QV/Qtz/0BX1BX9C3P/QFfUFf0Lc/9AV9QV/Qtz/0BX1BX9C3Pw==\"},\"shape\":[47],\"dtype\":\"float64\",\"order\":\"little\"}],[\"first_state\",[\"PA\",\"PA\",\"PA\",\"PA\",\"PA\",\"PA\",\"PA\",\"PA\",\"PA\",\"PA\",\"PA\",\"PA\",\"PA\",\"PA\",\"PA\",\"PA\",\"PA\",\"PA\",\"PA\",\"PA\",\"PA\",\"PA\",\"PA\",\"PA\",\"PA\",\"PA\",\"PA\",\"PA\",\"PA\",\"PA\",\"PA\",\"PA\",\"PA\",\"PA\",\"PA\",\"PA\",\"PA\",\"PA\",\"PA\",\"PA\",\"PA\",\"PA\",\"PA\",\"PA\",\"PA\",\"PA\",\"PA\"]]]}}},\"view\":{\"type\":\"object\",\"name\":\"CDSView\",\"id\":\"55b24327-95d4-449d-bef3-d7481c2d3c89\",\"attributes\":{\"filter\":{\"type\":\"object\",\"name\":\"AllIndices\",\"id\":\"db82cc3e-6db3-41bc-99ea-1679a7909267\"}}},\"glyph\":{\"type\":\"object\",\"name\":\"Line\",\"id\":\"db21502e-70c9-4121-bc96-49db18e2caa3\",\"attributes\":{\"tags\":[\"apply_ranges\"],\"x\":{\"type\":\"field\",\"field\":\"period\"},\"y\":{\"type\":\"field\",\"field\":\"pct_retained\"},\"line_color\":\"#8b8b8b\",\"line_width\":2}},\"selection_glyph\":{\"type\":\"object\",\"name\":\"Line\",\"id\":\"65b8a7a6-001b-478d-8c26-2b0dbfa53d85\",\"attributes\":{\"tags\":[\"apply_ranges\"],\"x\":{\"type\":\"field\",\"field\":\"period\"},\"y\":{\"type\":\"field\",\"field\":\"pct_retained\"},\"line_color\":\"#8b8b8b\",\"line_width\":2}},\"nonselection_glyph\":{\"type\":\"object\",\"name\":\"Line\",\"id\":\"e6309a0d-12f2-449f-a87d-7cdb2f60e252\",\"attributes\":{\"tags\":[\"apply_ranges\"],\"x\":{\"type\":\"field\",\"field\":\"period\"},\"y\":{\"type\":\"field\",\"field\":\"pct_retained\"},\"line_color\":\"#8b8b8b\",\"line_alpha\":0.1,\"line_width\":2}},\"muted_glyph\":{\"type\":\"object\",\"name\":\"Line\",\"id\":\"e33b1dfb-c0af-4399-870a-bf3da049a5d9\",\"attributes\":{\"tags\":[\"apply_ranges\"],\"x\":{\"type\":\"field\",\"field\":\"period\"},\"y\":{\"type\":\"field\",\"field\":\"pct_retained\"},\"line_color\":\"#8b8b8b\",\"line_alpha\":0.2,\"line_width\":2}}}}],\"tooltips\":[[\"first_state\",\"@{first_state}\"],[\"period\",\"@{period}\"],[\"pct_retained\",\"@{pct_retained}\"]]}}]}},{\"type\":\"object\",\"name\":\"SaveTool\",\"id\":\"fb5cafb7-3383-4335-acf3-71bcb6b0fc35\"},{\"type\":\"object\",\"name\":\"ToolProxy\",\"id\":\"d16e217a-10fd-47b5-a4f8-05af2973b0f6\",\"attributes\":{\"tools\":[{\"type\":\"object\",\"name\":\"PanTool\",\"id\":\"d5091a2f-4501-40b5-af4b-7343d9789887\"},{\"type\":\"object\",\"name\":\"PanTool\",\"id\":\"25ffeb46-8368-4203-aafa-c27363659cd8\"},{\"type\":\"object\",\"name\":\"PanTool\",\"id\":\"5ebae90d-6452-4707-80cd-6cf410bc1527\"},{\"type\":\"object\",\"name\":\"PanTool\",\"id\":\"c2657ae0-eb80-41f0-b7c3-70b0e3243976\"}]}},{\"type\":\"object\",\"name\":\"ToolProxy\",\"id\":\"6b6a0c36-1dd6-408a-981f-4e9ca33ec69f\",\"attributes\":{\"tools\":[{\"type\":\"object\",\"name\":\"BoxZoomTool\",\"id\":\"e73972cc-50b5-471b-976c-089fbaa48761\",\"attributes\":{\"overlay\":{\"type\":\"object\",\"name\":\"BoxAnnotation\",\"id\":\"af863f83-cf7f-42e6-bf15-4cab478add6c\",\"attributes\":{\"syncable\":false,\"level\":\"overlay\",\"visible\":false,\"left_units\":\"canvas\",\"right_units\":\"canvas\",\"bottom_units\":\"canvas\",\"top_units\":\"canvas\",\"line_color\":\"black\",\"line_alpha\":1.0,\"line_width\":2,\"line_dash\":[4,4],\"fill_color\":\"lightgrey\",\"fill_alpha\":0.5}}}},{\"type\":\"object\",\"name\":\"BoxZoomTool\",\"id\":\"5b2c6d81-9348-4e87-9ab3-a95587823cdd\",\"attributes\":{\"overlay\":{\"type\":\"object\",\"name\":\"BoxAnnotation\",\"id\":\"d82a133c-fa53-4f16-8124-5319550fd84c\",\"attributes\":{\"syncable\":false,\"level\":\"overlay\",\"visible\":false,\"left_units\":\"canvas\",\"right_units\":\"canvas\",\"bottom_units\":\"canvas\",\"top_units\":\"canvas\",\"line_color\":\"black\",\"line_alpha\":1.0,\"line_width\":2,\"line_dash\":[4,4],\"fill_color\":\"lightgrey\",\"fill_alpha\":0.5}}}},{\"type\":\"object\",\"name\":\"BoxZoomTool\",\"id\":\"4ec6c976-6baf-4eb7-8468-98d7e11b6576\",\"attributes\":{\"overlay\":{\"type\":\"object\",\"name\":\"BoxAnnotation\",\"id\":\"2a2ed28f-9753-4ea4-a355-2a76d2bb879b\",\"attributes\":{\"syncable\":false,\"level\":\"overlay\",\"visible\":false,\"left_units\":\"canvas\",\"right_units\":\"canvas\",\"bottom_units\":\"canvas\",\"top_units\":\"canvas\",\"line_color\":\"black\",\"line_alpha\":1.0,\"line_width\":2,\"line_dash\":[4,4],\"fill_color\":\"lightgrey\",\"fill_alpha\":0.5}}}},{\"type\":\"object\",\"name\":\"BoxZoomTool\",\"id\":\"fae15761-14fe-42e3-81a7-4627bd6cacf3\",\"attributes\":{\"overlay\":{\"type\":\"object\",\"name\":\"BoxAnnotation\",\"id\":\"0bbbaaa7-efdb-42fc-8e68-1e296aa90c05\",\"attributes\":{\"syncable\":false,\"level\":\"overlay\",\"visible\":false,\"left_units\":\"canvas\",\"right_units\":\"canvas\",\"bottom_units\":\"canvas\",\"top_units\":\"canvas\",\"line_color\":\"black\",\"line_alpha\":1.0,\"line_width\":2,\"line_dash\":[4,4],\"fill_color\":\"lightgrey\",\"fill_alpha\":0.5}}}}]}},{\"type\":\"object\",\"name\":\"ToolProxy\",\"id\":\"36255984-b27f-413c-a316-92f819d1c4b6\",\"attributes\":{\"tools\":[{\"type\":\"object\",\"name\":\"ResetTool\",\"id\":\"12c8052c-1ad4-4767-9649-28b51ce0bf34\"},{\"type\":\"object\",\"name\":\"ResetTool\",\"id\":\"ddf0a1cf-5d5b-4e4a-b019-d9a3e630f284\"},{\"type\":\"object\",\"name\":\"ResetTool\",\"id\":\"8be4f56a-e1c0-4e66-9161-037394ed4595\"},{\"type\":\"object\",\"name\":\"ResetTool\",\"id\":\"069c6479-1edf-4c66-9335-8843a7b99fc0\"}]}}]}},\"children\":[[{\"type\":\"object\",\"name\":\"Figure\",\"id\":\"c3021a39-7ff3-40d4-9571-67ffbf7be7f3\",\"attributes\":{\"width\":650,\"height\":300,\"sizing_mode\":\"fixed\",\"align\":\"start\",\"x_range\":{\"type\":\"object\",\"name\":\"Range1d\",\"id\":\"c66e3397-05a0-4dbd-8044-df9a2561676d\",\"attributes\":{\"tags\":[[[\"period\",\"period\",null]],[]],\"end\":57.0,\"reset_start\":0.0,\"reset_end\":57.0}},\"y_range\":{\"type\":\"object\",\"name\":\"Range1d\",\"id\":\"fb68f371-2756-46d0-b1ed-39f4b7b10509\",\"attributes\":{\"tags\":[[[\"pct_retained\",\"pct_retained\",null]],{\"type\":\"map\",\"entries\":[[\"invert_yaxis\",false],[\"autorange\",false]]}],\"start\":-9.99121265377856,\"end\":109.99920115034351,\"reset_start\":-9.99121265377856,\"reset_end\":109.99920115034351}},\"x_scale\":{\"type\":\"object\",\"name\":\"LinearScale\",\"id\":\"aa512181-aa2e-4eb2-902a-c5de45f4ed54\"},\"y_scale\":{\"type\":\"object\",\"name\":\"LinearScale\",\"id\":\"167cee33-a703-409f-9b8b-9ccca94dffb2\"},\"title\":{\"type\":\"object\",\"name\":\"Title\",\"id\":\"ad6d356a-c464-4e90-b3b0-79e8f0e99adf\",\"attributes\":{\"text\":\"Retention of legislators from the start of the first term\",\"text_color\":\"black\",\"text_font_size\":\"12pt\"}},\"renderers\":[{\"id\":\"fa1c2a55-7af2-4f78-ab06-2deb81ed9c4a\"}],\"toolbar\":{\"type\":\"object\",\"name\":\"Toolbar\",\"id\":\"e3aa84ce-0e67-4dc7-b870-199845914f0f\",\"attributes\":{\"tools\":[{\"id\":\"66d7b6ce-363f-4816-87b3-936eea6e0c04\"},{\"id\":\"ea8b3558-d49a-4e92-99e8-4a778173bf41\"},{\"type\":\"object\",\"name\":\"SaveTool\",\"id\":\"1a0b18e2-aa60-47f1-a994-5765c18e9f43\"},{\"id\":\"d5091a2f-4501-40b5-af4b-7343d9789887\"},{\"id\":\"e73972cc-50b5-471b-976c-089fbaa48761\"},{\"id\":\"12c8052c-1ad4-4767-9649-28b51ce0bf34\"}],\"active_drag\":{\"id\":\"d5091a2f-4501-40b5-af4b-7343d9789887\"},\"active_scroll\":{\"id\":\"66d7b6ce-363f-4816-87b3-936eea6e0c04\"}}},\"toolbar_location\":null,\"left\":[{\"type\":\"object\",\"name\":\"LinearAxis\",\"id\":\"2c1db51f-5929-497b-ac82-fd0a8f2cc6c3\",\"attributes\":{\"ticker\":{\"type\":\"object\",\"name\":\"BasicTicker\",\"id\":\"237449be-ccf6-43ff-a9dd-4809cf22d215\",\"attributes\":{\"mantissas\":[1,2,5]}},\"formatter\":{\"type\":\"object\",\"name\":\"BasicTickFormatter\",\"id\":\"4dd7da75-2c55-4e29-875e-8bda1f91078a\"},\"axis_label\":\"pct_retained\",\"major_label_policy\":{\"type\":\"object\",\"name\":\"AllLabels\",\"id\":\"1a277d88-68af-413a-aaef-97d2bb07e5c4\"}}}],\"below\":[{\"type\":\"object\",\"name\":\"LinearAxis\",\"id\":\"90171ab6-3e98-4d8d-95cb-d11e19f705ee\",\"attributes\":{\"ticker\":{\"type\":\"object\",\"name\":\"BasicTicker\",\"id\":\"8f33b10b-fdfd-4bc7-b871-4d4023a267d0\",\"attributes\":{\"mantissas\":[1,2,5]}},\"formatter\":{\"type\":\"object\",\"name\":\"BasicTickFormatter\",\"id\":\"3de6a237-bc65-44f0-b266-5ddf01c32276\"},\"axis_label\":\"period\",\"major_label_policy\":{\"type\":\"object\",\"name\":\"AllLabels\",\"id\":\"40d0f717-67b3-474a-b2f6-b91f8560b563\"}}}],\"center\":[{\"type\":\"object\",\"name\":\"Grid\",\"id\":\"8e5db579-093c-4c1f-93f6-8fd47906b2ae\",\"attributes\":{\"axis\":{\"id\":\"90171ab6-3e98-4d8d-95cb-d11e19f705ee\"},\"ticker\":{\"id\":\"8f33b10b-fdfd-4bc7-b871-4d4023a267d0\"}}},{\"type\":\"object\",\"name\":\"Grid\",\"id\":\"afead930-b6c1-4a04-957f-9519fd7650af\",\"attributes\":{\"dimension\":1,\"axis\":{\"id\":\"2c1db51f-5929-497b-ac82-fd0a8f2cc6c3\"},\"ticker\":{\"id\":\"237449be-ccf6-43ff-a9dd-4809cf22d215\"}}}],\"min_border_top\":10,\"min_border_bottom\":10,\"min_border_left\":10,\"min_border_right\":10,\"output_backend\":\"webgl\"}},0,0],[{\"type\":\"object\",\"name\":\"Figure\",\"id\":\"0c99b299-2d70-40c0-aba3-cbf13daef6e4\",\"attributes\":{\"width\":650,\"height\":300,\"sizing_mode\":\"fixed\",\"align\":\"start\",\"x_range\":{\"type\":\"object\",\"name\":\"Range1d\",\"id\":\"635d7114-1d8a-451a-9ab4-10cce64892c0\",\"attributes\":{\"tags\":[[[\"period\",\"period\",null]],[]],\"end\":59.0,\"reset_start\":0.0,\"reset_end\":59.0}},\"y_range\":{\"type\":\"object\",\"name\":\"Range1d\",\"id\":\"fe659768-5517-4fb3-b901-89a414dee270\",\"attributes\":{\"tags\":[[[\"pct_retained\",\"pct_retained\",null]],{\"type\":\"map\",\"entries\":[[\"invert_yaxis\",false],[\"autorange\",false]]}],\"start\":-9.99121265377856,\"end\":109.99920115034351,\"reset_start\":-9.99121265377856,\"reset_end\":109.99920115034351}},\"x_scale\":{\"type\":\"object\",\"name\":\"LinearScale\",\"id\":\"0d5d34e3-baf5-45ef-8b60-20eb7fbf501a\"},\"y_scale\":{\"type\":\"object\",\"name\":\"LinearScale\",\"id\":\"364d4ed1-1983-4c53-bacb-f0fbce118f38\"},\"title\":{\"type\":\"object\",\"name\":\"Title\",\"id\":\"b81e0b21-7c29-4bcc-8f78-90a54e548098\",\"attributes\":{\"text\":\"Legislative retention adjusted for actual years in office\",\"text_color\":\"black\",\"text_font_size\":\"12pt\"}},\"renderers\":[{\"id\":\"b82d551e-ab8e-4ee5-a135-cc2eb1e24c95\"}],\"toolbar\":{\"type\":\"object\",\"name\":\"Toolbar\",\"id\":\"3a28547a-bf17-4502-a801-b30b8331766e\",\"attributes\":{\"tools\":[{\"id\":\"20072588-76a4-4138-be46-a90dfd697fed\"},{\"id\":\"74bdd2e1-0dd5-498b-ba43-ff2e822349e7\"},{\"type\":\"object\",\"name\":\"SaveTool\",\"id\":\"38f37ea8-17ad-413c-8f72-34ed83f0a66d\"},{\"id\":\"25ffeb46-8368-4203-aafa-c27363659cd8\"},{\"id\":\"5b2c6d81-9348-4e87-9ab3-a95587823cdd\"},{\"id\":\"ddf0a1cf-5d5b-4e4a-b019-d9a3e630f284\"}],\"active_drag\":{\"id\":\"25ffeb46-8368-4203-aafa-c27363659cd8\"},\"active_scroll\":{\"id\":\"20072588-76a4-4138-be46-a90dfd697fed\"}}},\"toolbar_location\":null,\"left\":[{\"type\":\"object\",\"name\":\"LinearAxis\",\"id\":\"a5bc0286-588f-4bb9-9f02-fb7ca8da9ab0\",\"attributes\":{\"ticker\":{\"type\":\"object\",\"name\":\"BasicTicker\",\"id\":\"a719848f-0abb-40e9-9389-97e50448371c\",\"attributes\":{\"mantissas\":[1,2,5]}},\"formatter\":{\"type\":\"object\",\"name\":\"BasicTickFormatter\",\"id\":\"d5eaa7f7-2041-4dad-b1ed-690440aab588\"},\"axis_label\":\"pct_retained\",\"major_label_policy\":{\"type\":\"object\",\"name\":\"AllLabels\",\"id\":\"10cc6ed8-fbaf-410a-be7b-652086820168\"}}}],\"below\":[{\"type\":\"object\",\"name\":\"LinearAxis\",\"id\":\"f71b4f44-4400-416d-9695-d17b4f607398\",\"attributes\":{\"ticker\":{\"type\":\"object\",\"name\":\"BasicTicker\",\"id\":\"e7d6c472-613c-475d-9392-b093d8082215\",\"attributes\":{\"mantissas\":[1,2,5]}},\"formatter\":{\"type\":\"object\",\"name\":\"BasicTickFormatter\",\"id\":\"d87cc0e3-df50-49fe-834c-df0c5eb6284e\"},\"axis_label\":\"period\",\"major_label_policy\":{\"type\":\"object\",\"name\":\"AllLabels\",\"id\":\"a9671ac8-e9ad-485b-9db9-8f858455cd84\"}}}],\"center\":[{\"type\":\"object\",\"name\":\"Grid\",\"id\":\"8b8f6016-485c-49ad-b817-5e166df5cf15\",\"attributes\":{\"axis\":{\"id\":\"f71b4f44-4400-416d-9695-d17b4f607398\"},\"ticker\":{\"id\":\"e7d6c472-613c-475d-9392-b093d8082215\"}}},{\"type\":\"object\",\"name\":\"Grid\",\"id\":\"0f290fdd-71a6-4c49-bda3-108253897a7e\",\"attributes\":{\"dimension\":1,\"axis\":{\"id\":\"a5bc0286-588f-4bb9-9f02-fb7ca8da9ab0\"},\"ticker\":{\"id\":\"a719848f-0abb-40e9-9389-97e50448371c\"}}}],\"min_border_top\":10,\"min_border_bottom\":10,\"min_border_left\":10,\"min_border_right\":10,\"output_backend\":\"webgl\"}},0,1],[{\"type\":\"object\",\"name\":\"Figure\",\"id\":\"24847f79-9f69-4e56-8809-ee248672f9b7\",\"attributes\":{\"width\":650,\"height\":300,\"sizing_mode\":\"fixed\",\"align\":\"start\",\"x_range\":{\"type\":\"object\",\"name\":\"Range1d\",\"id\":\"bd22ba85-d4cc-4063-8893-10f3d5ef1916\",\"attributes\":{\"tags\":[[[\"period\",\"period\",null]],[]],\"end\":59.0,\"reset_start\":0.0,\"reset_end\":59.0}},\"y_range\":{\"type\":\"object\",\"name\":\"Range1d\",\"id\":\"9c882017-0344-44c9-9ee3-acd43893f5a9\",\"attributes\":{\"tags\":[[[\"pct_retained\",\"pct_retained\",null]],{\"type\":\"map\",\"entries\":[[\"invert_yaxis\",false],[\"autorange\",false]]}],\"start\":-9.978393242977805,\"end\":109.99803574936162,\"reset_start\":-9.978393242977805,\"reset_end\":109.99803574936162}},\"x_scale\":{\"type\":\"object\",\"name\":\"LinearScale\",\"id\":\"899c29f7-5c15-4865-878e-b5a520e40790\"},\"y_scale\":{\"type\":\"object\",\"name\":\"LinearScale\",\"id\":\"8615f9fd-eec1-4e67-b190-eea92ac198bc\"},\"title\":{\"type\":\"object\",\"name\":\"Title\",\"id\":\"b861dc6c-67a6-4a65-8d1b-42034fb66948\",\"attributes\":{\"text\":\"Retention of legislators by century in which their first term began\",\"text_color\":\"black\",\"text_font_size\":\"12pt\"}},\"renderers\":[{\"id\":\"60441b63-7141-45b2-9507-244a2558e21b\"},{\"id\":\"d46b2066-3410-4303-b897-ffb1ea06c1b9\"},{\"id\":\"2861ffb7-f29b-47a3-baa3-62ee528daff2\"},{\"id\":\"c7709643-a17e-4d26-af11-3bd17e37b183\"}],\"toolbar\":{\"type\":\"object\",\"name\":\"Toolbar\",\"id\":\"8fbb600a-ec88-4433-97c4-89d843cf869d\",\"attributes\":{\"tools\":[{\"id\":\"1463c192-6d6d-4efe-9f4f-fe82937199a2\"},{\"id\":\"469d542e-53fe-4360-8f61-0beeaf759cd3\"},{\"type\":\"object\",\"name\":\"SaveTool\",\"id\":\"14ff1904-1716-4ce3-85a2-61d32af11fdd\"},{\"id\":\"5ebae90d-6452-4707-80cd-6cf410bc1527\"},{\"id\":\"4ec6c976-6baf-4eb7-8468-98d7e11b6576\"},{\"id\":\"8be4f56a-e1c0-4e66-9161-037394ed4595\"}],\"active_drag\":{\"id\":\"5ebae90d-6452-4707-80cd-6cf410bc1527\"},\"active_scroll\":{\"id\":\"1463c192-6d6d-4efe-9f4f-fe82937199a2\"}}},\"toolbar_location\":null,\"left\":[{\"type\":\"object\",\"name\":\"LinearAxis\",\"id\":\"afceb137-ada1-468e-b838-60cf8e95a4b5\",\"attributes\":{\"ticker\":{\"type\":\"object\",\"name\":\"BasicTicker\",\"id\":\"1ca97664-8a5f-482a-81a7-d40bf731330f\",\"attributes\":{\"mantissas\":[1,2,5]}},\"formatter\":{\"type\":\"object\",\"name\":\"BasicTickFormatter\",\"id\":\"71491207-ce05-40f2-a23b-f6ac06c040f9\"},\"axis_label\":\"pct_retained\",\"major_label_policy\":{\"type\":\"object\",\"name\":\"AllLabels\",\"id\":\"e9866e46-3ccd-4dce-a4e0-fb0e52a3a881\"}}}],\"above\":[{\"type\":\"object\",\"name\":\"Legend\",\"id\":\"5685c708-c7b3-4c28-8eee-9adc503dab2e\",\"attributes\":{\"location\":[0,0],\"orientation\":\"horizontal\",\"title\":\"first_century\",\"click_policy\":\"mute\",\"items\":[{\"type\":\"object\",\"name\":\"LegendItem\",\"id\":\"5ce69f15-fe62-45d0-b66a-3457ef95cd70\",\"attributes\":{\"label\":{\"type\":\"value\",\"value\":\"18\"},\"renderers\":[{\"id\":\"60441b63-7141-45b2-9507-244a2558e21b\"}]}},{\"type\":\"object\",\"name\":\"LegendItem\",\"id\":\"c47e0dd8-3c40-485a-8c0f-47936eaf37c6\",\"attributes\":{\"label\":{\"type\":\"value\",\"value\":\"19\"},\"renderers\":[{\"id\":\"d46b2066-3410-4303-b897-ffb1ea06c1b9\"}]}},{\"type\":\"object\",\"name\":\"LegendItem\",\"id\":\"baa9e48a-9b46-4d55-bc3a-a868c0fd33c9\",\"attributes\":{\"label\":{\"type\":\"value\",\"value\":\"20\"},\"renderers\":[{\"id\":\"2861ffb7-f29b-47a3-baa3-62ee528daff2\"}]}},{\"type\":\"object\",\"name\":\"LegendItem\",\"id\":\"aaa78259-c37f-463c-93b7-c75b2c5aa720\",\"attributes\":{\"label\":{\"type\":\"value\",\"value\":\"21\"},\"renderers\":[{\"id\":\"c7709643-a17e-4d26-af11-3bd17e37b183\"}]}}]}}],\"below\":[{\"type\":\"object\",\"name\":\"LinearAxis\",\"id\":\"f6a7073c-efad-428d-8e12-7d20daff0e75\",\"attributes\":{\"ticker\":{\"type\":\"object\",\"name\":\"BasicTicker\",\"id\":\"66a148ab-cec6-49a1-a244-3b9ee5de89f3\",\"attributes\":{\"mantissas\":[1,2,5]}},\"formatter\":{\"type\":\"object\",\"name\":\"BasicTickFormatter\",\"id\":\"9434856a-b126-42e1-81f8-a1aa956b545e\"},\"axis_label\":\"period\",\"major_label_policy\":{\"type\":\"object\",\"name\":\"AllLabels\",\"id\":\"42ea6757-fe9c-4550-96c7-ba2fec41e07d\"}}}],\"center\":[{\"type\":\"object\",\"name\":\"Grid\",\"id\":\"72576e1b-1233-4273-8277-7cce1212f566\",\"attributes\":{\"axis\":{\"id\":\"f6a7073c-efad-428d-8e12-7d20daff0e75\"},\"ticker\":{\"id\":\"66a148ab-cec6-49a1-a244-3b9ee5de89f3\"}}},{\"type\":\"object\",\"name\":\"Grid\",\"id\":\"f1f59fbd-1a7c-4cda-aafc-8d0f5df21625\",\"attributes\":{\"dimension\":1,\"axis\":{\"id\":\"afceb137-ada1-468e-b838-60cf8e95a4b5\"},\"ticker\":{\"id\":\"1ca97664-8a5f-482a-81a7-d40bf731330f\"}}}],\"min_border_top\":10,\"min_border_bottom\":10,\"min_border_left\":10,\"min_border_right\":10,\"output_backend\":\"webgl\"}},1,0],[{\"type\":\"object\",\"name\":\"Figure\",\"id\":\"935c232e-080b-4b15-9f7f-af2b252ce457\",\"attributes\":{\"width\":650,\"height\":300,\"sizing_mode\":\"fixed\",\"align\":\"start\",\"x_range\":{\"type\":\"object\",\"name\":\"Range1d\",\"id\":\"d212cd35-1b61-4d2d-83f5-baf78549d29a\",\"attributes\":{\"tags\":[[[\"period\",\"period\",null]],[]],\"end\":51.0,\"reset_start\":0.0,\"reset_end\":51.0}},\"y_range\":{\"type\":\"object\",\"name\":\"Range1d\",\"id\":\"779cd96c-3ead-42af-a51b-549ff1da1cff\",\"attributes\":{\"tags\":[[[\"pct_retained\",\"pct_retained\",null]],{\"type\":\"map\",\"entries\":[[\"invert_yaxis\",false],[\"autorange\",false]]}],\"start\":-9.926224010731053,\"end\":109.99329309188464,\"reset_start\":-9.926224010731053,\"reset_end\":109.99329309188464}},\"x_scale\":{\"type\":\"object\",\"name\":\"LinearScale\",\"id\":\"f0837885-e37d-4dd2-ae04-c6b29bcab8f7\"},\"y_scale\":{\"type\":\"object\",\"name\":\"LinearScale\",\"id\":\"6952a0d6-2a78-4624-aaf2-30f6156eeee1\"},\"title\":{\"type\":\"object\",\"name\":\"Title\",\"id\":\"10ed7fcf-bdf0-471a-97fc-3e9997c28809\",\"attributes\":{\"text\":\"Top five states by total number of legislators\",\"text_color\":\"black\",\"text_font_size\":\"12pt\"}},\"renderers\":[{\"id\":\"bf8b70b7-2238-4392-ac8e-dcc3af7fa4b5\"},{\"id\":\"2547bd78-ba9c-4068-8ed7-92b07dc78019\"},{\"id\":\"e03ff32a-7125-43f6-b2c3-3398673690ca\"},{\"id\":\"1f22f7e3-474e-4160-a2dd-a05e7f2b791b\"},{\"id\":\"048a29ab-3d87-4be0-a160-981fefc8f192\"}],\"toolbar\":{\"type\":\"object\",\"name\":\"Toolbar\",\"id\":\"9745ceb9-d7e0-40b8-94ab-acb28a2fd304\",\"attributes\":{\"tools\":[{\"id\":\"f9f01943-6d46-4aed-974c-1d517cb53e30\"},{\"id\":\"0c373b63-72ff-4b70-b99a-af17bf7e22f7\"},{\"type\":\"object\",\"name\":\"SaveTool\",\"id\":\"abe460cc-2288-444d-9a3f-b16122a6ac49\"},{\"id\":\"c2657ae0-eb80-41f0-b7c3-70b0e3243976\"},{\"id\":\"fae15761-14fe-42e3-81a7-4627bd6cacf3\"},{\"id\":\"069c6479-1edf-4c66-9335-8843a7b99fc0\"}],\"active_drag\":{\"id\":\"c2657ae0-eb80-41f0-b7c3-70b0e3243976\"},\"active_scroll\":{\"id\":\"f9f01943-6d46-4aed-974c-1d517cb53e30\"}}},\"toolbar_location\":null,\"left\":[{\"type\":\"object\",\"name\":\"LinearAxis\",\"id\":\"b27d5311-dde2-4950-8b59-613b85fd4c5b\",\"attributes\":{\"ticker\":{\"type\":\"object\",\"name\":\"BasicTicker\",\"id\":\"5c20c13a-e0e4-46bb-ab02-29dd1b9ce922\",\"attributes\":{\"mantissas\":[1,2,5]}},\"formatter\":{\"type\":\"object\",\"name\":\"BasicTickFormatter\",\"id\":\"24ebdb78-05de-4521-abc8-e5ea80b7dfc2\"},\"axis_label\":\"pct_retained\",\"major_label_policy\":{\"type\":\"object\",\"name\":\"AllLabels\",\"id\":\"d36ea303-6dab-4b0d-a895-468771370fbd\"}}}],\"above\":[{\"type\":\"object\",\"name\":\"Legend\",\"id\":\"213a74a5-1493-4a5c-8bd9-3f4856503db0\",\"attributes\":{\"location\":[0,0],\"orientation\":\"horizontal\",\"title\":\"first_state\",\"click_policy\":\"mute\",\"items\":[{\"type\":\"object\",\"name\":\"LegendItem\",\"id\":\"cd55a166-dc95-4811-8b16-8a71a27df3c4\",\"attributes\":{\"label\":{\"type\":\"value\",\"value\":\"IL\"},\"renderers\":[{\"id\":\"bf8b70b7-2238-4392-ac8e-dcc3af7fa4b5\"}]}},{\"type\":\"object\",\"name\":\"LegendItem\",\"id\":\"10567285-0cca-43fd-b583-ee8dead52e1f\",\"attributes\":{\"label\":{\"type\":\"value\",\"value\":\"MA\"},\"renderers\":[{\"id\":\"2547bd78-ba9c-4068-8ed7-92b07dc78019\"}]}},{\"type\":\"object\",\"name\":\"LegendItem\",\"id\":\"cca92a80-fa93-48d1-b3d0-6b8e553abe93\",\"attributes\":{\"label\":{\"type\":\"value\",\"value\":\"NY\"},\"renderers\":[{\"id\":\"e03ff32a-7125-43f6-b2c3-3398673690ca\"}]}},{\"type\":\"object\",\"name\":\"LegendItem\",\"id\":\"97698472-54ac-4b47-990e-d9d5a33c94c3\",\"attributes\":{\"label\":{\"type\":\"value\",\"value\":\"OH\"},\"renderers\":[{\"id\":\"1f22f7e3-474e-4160-a2dd-a05e7f2b791b\"}]}},{\"type\":\"object\",\"name\":\"LegendItem\",\"id\":\"99ce704c-9519-4234-b626-81e97166edb1\",\"attributes\":{\"label\":{\"type\":\"value\",\"value\":\"PA\"},\"renderers\":[{\"id\":\"048a29ab-3d87-4be0-a160-981fefc8f192\"}]}}]}}],\"below\":[{\"type\":\"object\",\"name\":\"LinearAxis\",\"id\":\"1dd2ec8f-16cc-431a-99af-c71fd6157d06\",\"attributes\":{\"ticker\":{\"type\":\"object\",\"name\":\"BasicTicker\",\"id\":\"452c41be-4301-4052-84f5-4bd325717b51\",\"attributes\":{\"mantissas\":[1,2,5]}},\"formatter\":{\"type\":\"object\",\"name\":\"BasicTickFormatter\",\"id\":\"86593aab-12d4-496c-9937-494dae4b35fa\"},\"axis_label\":\"period\",\"major_label_policy\":{\"type\":\"object\",\"name\":\"AllLabels\",\"id\":\"bcc29308-1aee-4118-a1e5-dc48587a9404\"}}}],\"center\":[{\"type\":\"object\",\"name\":\"Grid\",\"id\":\"02559151-794c-4368-87a0-3f5f3b555314\",\"attributes\":{\"axis\":{\"id\":\"1dd2ec8f-16cc-431a-99af-c71fd6157d06\"},\"ticker\":{\"id\":\"452c41be-4301-4052-84f5-4bd325717b51\"}}},{\"type\":\"object\",\"name\":\"Grid\",\"id\":\"0b5517ec-c15c-4f2a-b648-d40de486e002\",\"attributes\":{\"dimension\":1,\"axis\":{\"id\":\"b27d5311-dde2-4950-8b59-613b85fd4c5b\"},\"ticker\":{\"id\":\"5c20c13a-e0e4-46bb-ab02-29dd1b9ce922\"}}}],\"min_border_top\":10,\"min_border_bottom\":10,\"min_border_left\":10,\"min_border_right\":10,\"output_backend\":\"webgl\"}},1,1]]}},{\"type\":\"object\",\"name\":\"Spacer\",\"id\":\"7130331a-58a0-4c52-8b34-0cde9e963aad\",\"attributes\":{\"name\":\"HSpacer55421\",\"stylesheets\":[\"\\n:host(.pn-loading.pn-arc):before, .pn-loading.pn-arc:before {\\n  background-image: url(\\\"data:image/svg+xml;base64,PHN2ZyB4bWxucz0iaHR0cDovL3d3dy53My5vcmcvMjAwMC9zdmciIHN0eWxlPSJtYXJnaW46IGF1dG87IGJhY2tncm91bmQ6IG5vbmU7IGRpc3BsYXk6IGJsb2NrOyBzaGFwZS1yZW5kZXJpbmc6IGF1dG87IiB2aWV3Qm94PSIwIDAgMTAwIDEwMCIgcHJlc2VydmVBc3BlY3RSYXRpbz0ieE1pZFlNaWQiPiAgPGNpcmNsZSBjeD0iNTAiIGN5PSI1MCIgZmlsbD0ibm9uZSIgc3Ryb2tlPSIjYzNjM2MzIiBzdHJva2Utd2lkdGg9IjEwIiByPSIzNSIgc3Ryb2tlLWRhc2hhcnJheT0iMTY0LjkzMzYxNDMxMzQ2NDE1IDU2Ljk3Nzg3MTQzNzgyMTM4Ij4gICAgPGFuaW1hdGVUcmFuc2Zvcm0gYXR0cmlidXRlTmFtZT0idHJhbnNmb3JtIiB0eXBlPSJyb3RhdGUiIHJlcGVhdENvdW50PSJpbmRlZmluaXRlIiBkdXI9IjFzIiB2YWx1ZXM9IjAgNTAgNTA7MzYwIDUwIDUwIiBrZXlUaW1lcz0iMDsxIj48L2FuaW1hdGVUcmFuc2Zvcm0+ICA8L2NpcmNsZT48L3N2Zz4=\\\");\\n  background-size: auto calc(min(50%, 400px));\\n}\",{\"id\":\"b12517ff-f9bc-44a0-8be3-fe5eadff6c69\"},{\"id\":\"04179ea0-9c11-4928-bfaf-1a8c3eb07b47\"},{\"id\":\"71d658b9-67df-49b3-b388-d0d2084c36f0\"}],\"margin\":0,\"sizing_mode\":\"stretch_width\",\"align\":\"start\"}}]}}],\"defs\":[{\"type\":\"model\",\"name\":\"ReactiveHTML1\"},{\"type\":\"model\",\"name\":\"FlexBox1\",\"properties\":[{\"name\":\"align_content\",\"kind\":\"Any\",\"default\":\"flex-start\"},{\"name\":\"align_items\",\"kind\":\"Any\",\"default\":\"flex-start\"},{\"name\":\"flex_direction\",\"kind\":\"Any\",\"default\":\"row\"},{\"name\":\"flex_wrap\",\"kind\":\"Any\",\"default\":\"wrap\"},{\"name\":\"justify_content\",\"kind\":\"Any\",\"default\":\"flex-start\"}]},{\"type\":\"model\",\"name\":\"FloatPanel1\",\"properties\":[{\"name\":\"config\",\"kind\":\"Any\",\"default\":{\"type\":\"map\"}},{\"name\":\"contained\",\"kind\":\"Any\",\"default\":true},{\"name\":\"position\",\"kind\":\"Any\",\"default\":\"right-top\"},{\"name\":\"offsetx\",\"kind\":\"Any\",\"default\":null},{\"name\":\"offsety\",\"kind\":\"Any\",\"default\":null},{\"name\":\"theme\",\"kind\":\"Any\",\"default\":\"primary\"},{\"name\":\"status\",\"kind\":\"Any\",\"default\":\"normalized\"}]},{\"type\":\"model\",\"name\":\"GridStack1\",\"properties\":[{\"name\":\"mode\",\"kind\":\"Any\",\"default\":\"warn\"},{\"name\":\"ncols\",\"kind\":\"Any\",\"default\":null},{\"name\":\"nrows\",\"kind\":\"Any\",\"default\":null},{\"name\":\"allow_resize\",\"kind\":\"Any\",\"default\":true},{\"name\":\"allow_drag\",\"kind\":\"Any\",\"default\":true},{\"name\":\"state\",\"kind\":\"Any\",\"default\":[]}]},{\"type\":\"model\",\"name\":\"drag1\",\"properties\":[{\"name\":\"slider_width\",\"kind\":\"Any\",\"default\":5},{\"name\":\"slider_color\",\"kind\":\"Any\",\"default\":\"black\"},{\"name\":\"value\",\"kind\":\"Any\",\"default\":50}]},{\"type\":\"model\",\"name\":\"click1\",\"properties\":[{\"name\":\"terminal_output\",\"kind\":\"Any\",\"default\":\"\"},{\"name\":\"debug_name\",\"kind\":\"Any\",\"default\":\"\"},{\"name\":\"clears\",\"kind\":\"Any\",\"default\":0}]},{\"type\":\"model\",\"name\":\"FastWrapper1\",\"properties\":[{\"name\":\"object\",\"kind\":\"Any\",\"default\":null},{\"name\":\"style\",\"kind\":\"Any\",\"default\":null}]},{\"type\":\"model\",\"name\":\"NotificationAreaBase1\",\"properties\":[{\"name\":\"js_events\",\"kind\":\"Any\",\"default\":{\"type\":\"map\"}},{\"name\":\"position\",\"kind\":\"Any\",\"default\":\"bottom-right\"},{\"name\":\"_clear\",\"kind\":\"Any\",\"default\":0}]},{\"type\":\"model\",\"name\":\"NotificationArea1\",\"properties\":[{\"name\":\"js_events\",\"kind\":\"Any\",\"default\":{\"type\":\"map\"}},{\"name\":\"notifications\",\"kind\":\"Any\",\"default\":[]},{\"name\":\"position\",\"kind\":\"Any\",\"default\":\"bottom-right\"},{\"name\":\"_clear\",\"kind\":\"Any\",\"default\":0},{\"name\":\"types\",\"kind\":\"Any\",\"default\":[{\"type\":\"map\",\"entries\":[[\"type\",\"warning\"],[\"background\",\"#ffc107\"],[\"icon\",{\"type\":\"map\",\"entries\":[[\"className\",\"fas fa-exclamation-triangle\"],[\"tagName\",\"i\"],[\"color\",\"white\"]]}]]},{\"type\":\"map\",\"entries\":[[\"type\",\"info\"],[\"background\",\"#007bff\"],[\"icon\",{\"type\":\"map\",\"entries\":[[\"className\",\"fas fa-info-circle\"],[\"tagName\",\"i\"],[\"color\",\"white\"]]}]]}]}]},{\"type\":\"model\",\"name\":\"Notification\",\"properties\":[{\"name\":\"background\",\"kind\":\"Any\",\"default\":null},{\"name\":\"duration\",\"kind\":\"Any\",\"default\":3000},{\"name\":\"icon\",\"kind\":\"Any\",\"default\":null},{\"name\":\"message\",\"kind\":\"Any\",\"default\":\"\"},{\"name\":\"notification_type\",\"kind\":\"Any\",\"default\":null},{\"name\":\"_destroyed\",\"kind\":\"Any\",\"default\":false}]},{\"type\":\"model\",\"name\":\"TemplateActions1\",\"properties\":[{\"name\":\"open_modal\",\"kind\":\"Any\",\"default\":0},{\"name\":\"close_modal\",\"kind\":\"Any\",\"default\":0}]},{\"type\":\"model\",\"name\":\"BootstrapTemplateActions1\",\"properties\":[{\"name\":\"open_modal\",\"kind\":\"Any\",\"default\":0},{\"name\":\"close_modal\",\"kind\":\"Any\",\"default\":0}]},{\"type\":\"model\",\"name\":\"MaterialTemplateActions1\",\"properties\":[{\"name\":\"open_modal\",\"kind\":\"Any\",\"default\":0},{\"name\":\"close_modal\",\"kind\":\"Any\",\"default\":0}]}]}};\n",
       "  var render_items = [{\"docid\":\"b366d3a4-4911-4e3f-9bb2-ff09aaf774cf\",\"roots\":{\"72b89f56-6634-41a5-b3bc-1421fdb11191\":\"ded84f04-82a8-4e90-a096-4271e08f0bf8\"},\"root_ids\":[\"72b89f56-6634-41a5-b3bc-1421fdb11191\"]}];\n",
       "  var docs = Object.values(docs_json)\n",
       "  if (!docs) {\n",
       "    return\n",
       "  }\n",
       "  const py_version = docs[0].version.replace('rc', '-rc.').replace('.dev', '-dev.')\n",
       "  const is_dev = py_version.indexOf(\"+\") !== -1 || py_version.indexOf(\"-\") !== -1\n",
       "  function embed_document(root) {\n",
       "    var Bokeh = get_bokeh(root)\n",
       "    Bokeh.embed.embed_items_notebook(docs_json, render_items);\n",
       "    for (const render_item of render_items) {\n",
       "      for (const root_id of render_item.root_ids) {\n",
       "\tconst id_el = document.getElementById(root_id)\n",
       "\tif (id_el.children.length && (id_el.children[0].className === 'bk-root')) {\n",
       "\t  const root_el = id_el.children[0]\n",
       "\t  root_el.id = root_el.id + '-rendered'\n",
       "\t}\n",
       "      }\n",
       "    }\n",
       "  }\n",
       "  function get_bokeh(root) {\n",
       "    if (root.Bokeh === undefined) {\n",
       "      return null\n",
       "    } else if (root.Bokeh.version !== py_version && !is_dev) {\n",
       "      if (root.Bokeh.versions === undefined || !root.Bokeh.versions.has(py_version)) {\n",
       "\treturn null\n",
       "      }\n",
       "      return root.Bokeh.versions.get(py_version);\n",
       "    } else if (root.Bokeh.version === py_version) {\n",
       "      return root.Bokeh\n",
       "    }\n",
       "    return null\n",
       "  }\n",
       "  function is_loaded(root) {\n",
       "    var Bokeh = get_bokeh(root)\n",
       "    return (Bokeh != null && Bokeh.Panel !== undefined)\n",
       "  }\n",
       "  if (is_loaded(root)) {\n",
       "    embed_document(root);\n",
       "  } else {\n",
       "    var attempts = 0;\n",
       "    var timer = setInterval(function(root) {\n",
       "      if (is_loaded(root)) {\n",
       "        clearInterval(timer);\n",
       "        embed_document(root);\n",
       "      } else if (document.readyState == \"complete\") {\n",
       "        attempts++;\n",
       "        if (attempts > 200) {\n",
       "          clearInterval(timer);\n",
       "\t  var Bokeh = get_bokeh(root)\n",
       "\t  if (Bokeh == null || Bokeh.Panel == null) {\n",
       "            console.warn(\"Panel: ERROR: Unable to run Panel code because Bokeh or Panel library is missing\");\n",
       "\t  } else {\n",
       "\t    console.warn(\"Panel: WARNING: Attempting to render but not all required libraries could be resolved.\")\n",
       "\t    embed_document(root)\n",
       "\t  }\n",
       "        }\n",
       "      }\n",
       "    }, 25, root)\n",
       "  }\n",
       "})(window);</script>"
      ],
      "text/plain": [
       ":Layout\n",
       "   .Curve.I      :Curve   [period]   (pct_retained)\n",
       "   .Curve.II     :Curve   [period]   (pct_retained)\n",
       "   .NdOverlay.I  :NdOverlay   [first_century]\n",
       "      :Curve   [period]   (pct_retained)\n",
       "   .NdOverlay.II :NdOverlay   [first_state]\n",
       "      :Curve   [period]   (pct_retained)"
      ]
     },
     "execution_count": 407,
     "metadata": {
      "application/vnd.holoviews_exec.v0+json": {
       "id": "72b89f56-6634-41a5-b3bc-1421fdb11191"
      }
     },
     "output_type": "execute_result"
    }
   ],
   "source": [
    "slaid_1 = (plot + plot_1 + plot_2 + plot_3).cols(2)\n",
    "slaid_1"
   ]
  },
  {
   "cell_type": "code",
   "execution_count": 408,
   "id": "6a157761-6acb-4c7c-aec9-cf7697386afb",
   "metadata": {
    "tags": []
   },
   "outputs": [
    {
     "data": {},
     "metadata": {},
     "output_type": "display_data"
    },
    {
     "data": {
      "application/vnd.holoviews_exec.v0+json": "",
      "text/html": [
       "<div id='e059a06b-5990-4373-8535-f6c7ef6a813c'>\n",
       "  <div id=\"b51a8f0a-123c-46b1-bebe-ccf5bc5b1845\" data-root-id=\"e059a06b-5990-4373-8535-f6c7ef6a813c\" style=\"display: contents;\"></div>\n",
       "</div>\n",
       "<script type=\"application/javascript\">(function(root) {\n",
       "  var docs_json = {\"972caa99-53e0-459d-a631-0a16fcbee2c4\":{\"version\":\"3.2.1\",\"title\":\"Bokeh Application\",\"roots\":[{\"type\":\"object\",\"name\":\"Row\",\"id\":\"e059a06b-5990-4373-8535-f6c7ef6a813c\",\"attributes\":{\"name\":\"Row55678\",\"tags\":[\"embedded\"],\"stylesheets\":[\"\\n:host(.pn-loading.pn-arc):before, .pn-loading.pn-arc:before {\\n  background-image: url(\\\"data:image/svg+xml;base64,PHN2ZyB4bWxucz0iaHR0cDovL3d3dy53My5vcmcvMjAwMC9zdmciIHN0eWxlPSJtYXJnaW46IGF1dG87IGJhY2tncm91bmQ6IG5vbmU7IGRpc3BsYXk6IGJsb2NrOyBzaGFwZS1yZW5kZXJpbmc6IGF1dG87IiB2aWV3Qm94PSIwIDAgMTAwIDEwMCIgcHJlc2VydmVBc3BlY3RSYXRpbz0ieE1pZFlNaWQiPiAgPGNpcmNsZSBjeD0iNTAiIGN5PSI1MCIgZmlsbD0ibm9uZSIgc3Ryb2tlPSIjYzNjM2MzIiBzdHJva2Utd2lkdGg9IjEwIiByPSIzNSIgc3Ryb2tlLWRhc2hhcnJheT0iMTY0LjkzMzYxNDMxMzQ2NDE1IDU2Ljk3Nzg3MTQzNzgyMTM4Ij4gICAgPGFuaW1hdGVUcmFuc2Zvcm0gYXR0cmlidXRlTmFtZT0idHJhbnNmb3JtIiB0eXBlPSJyb3RhdGUiIHJlcGVhdENvdW50PSJpbmRlZmluaXRlIiBkdXI9IjFzIiB2YWx1ZXM9IjAgNTAgNTA7MzYwIDUwIDUwIiBrZXlUaW1lcz0iMDsxIj48L2FuaW1hdGVUcmFuc2Zvcm0+ICA8L2NpcmNsZT48L3N2Zz4=\\\");\\n  background-size: auto calc(min(50%, 400px));\\n}\",{\"type\":\"object\",\"name\":\"ImportedStyleSheet\",\"id\":\"cef21a91-a54f-473c-96bb-a64d69ce894a\",\"attributes\":{\"url\":\"https://cdn.holoviz.org/panel/1.2.1/dist/css/loading.css\"}},{\"type\":\"object\",\"name\":\"ImportedStyleSheet\",\"id\":\"f7db3d38-82b3-44a1-a82e-d700284770a7\",\"attributes\":{\"url\":\"https://cdn.holoviz.org/panel/1.2.1/dist/css/listpanel.css\"}},{\"type\":\"object\",\"name\":\"ImportedStyleSheet\",\"id\":\"86f1e4a6-b490-4e5e-837a-120bedda43fb\",\"attributes\":{\"url\":\"https://cdn.holoviz.org/panel/1.2.1/dist/bundled/theme/default.css\"}},{\"type\":\"object\",\"name\":\"ImportedStyleSheet\",\"id\":\"e05a106c-10ec-4bed-b73d-abcf7f3d6ca8\",\"attributes\":{\"url\":\"https://cdn.holoviz.org/panel/1.2.1/dist/bundled/theme/native.css\"}}],\"margin\":0,\"sizing_mode\":\"stretch_width\",\"align\":\"start\",\"children\":[{\"type\":\"object\",\"name\":\"Spacer\",\"id\":\"1942a881-7fc8-41fb-941a-53ae75391774\",\"attributes\":{\"name\":\"HSpacer55687\",\"stylesheets\":[\"\\n:host(.pn-loading.pn-arc):before, .pn-loading.pn-arc:before {\\n  background-image: url(\\\"data:image/svg+xml;base64,PHN2ZyB4bWxucz0iaHR0cDovL3d3dy53My5vcmcvMjAwMC9zdmciIHN0eWxlPSJtYXJnaW46IGF1dG87IGJhY2tncm91bmQ6IG5vbmU7IGRpc3BsYXk6IGJsb2NrOyBzaGFwZS1yZW5kZXJpbmc6IGF1dG87IiB2aWV3Qm94PSIwIDAgMTAwIDEwMCIgcHJlc2VydmVBc3BlY3RSYXRpbz0ieE1pZFlNaWQiPiAgPGNpcmNsZSBjeD0iNTAiIGN5PSI1MCIgZmlsbD0ibm9uZSIgc3Ryb2tlPSIjYzNjM2MzIiBzdHJva2Utd2lkdGg9IjEwIiByPSIzNSIgc3Ryb2tlLWRhc2hhcnJheT0iMTY0LjkzMzYxNDMxMzQ2NDE1IDU2Ljk3Nzg3MTQzNzgyMTM4Ij4gICAgPGFuaW1hdGVUcmFuc2Zvcm0gYXR0cmlidXRlTmFtZT0idHJhbnNmb3JtIiB0eXBlPSJyb3RhdGUiIHJlcGVhdENvdW50PSJpbmRlZmluaXRlIiBkdXI9IjFzIiB2YWx1ZXM9IjAgNTAgNTA7MzYwIDUwIDUwIiBrZXlUaW1lcz0iMDsxIj48L2FuaW1hdGVUcmFuc2Zvcm0+ICA8L2NpcmNsZT48L3N2Zz4=\\\");\\n  background-size: auto calc(min(50%, 400px));\\n}\",{\"id\":\"cef21a91-a54f-473c-96bb-a64d69ce894a\"},{\"id\":\"86f1e4a6-b490-4e5e-837a-120bedda43fb\"},{\"id\":\"e05a106c-10ec-4bed-b73d-abcf7f3d6ca8\"}],\"margin\":0,\"sizing_mode\":\"stretch_width\",\"align\":\"start\"}},{\"type\":\"object\",\"name\":\"GridPlot\",\"id\":\"f2e826d8-3cf4-43a0-aba4-6204e6b1f855\",\"attributes\":{\"rows\":null,\"cols\":null,\"toolbar\":{\"type\":\"object\",\"name\":\"Toolbar\",\"id\":\"e76df712-bfb4-48f2-a5d8-8ca0349ceec0\",\"attributes\":{\"tools\":[{\"type\":\"object\",\"name\":\"ToolProxy\",\"id\":\"f11fc949-712b-4b18-b057-c010c2a19fd2\",\"attributes\":{\"tools\":[{\"type\":\"object\",\"name\":\"WheelZoomTool\",\"id\":\"0f04f9d4-12c6-48ce-9fe3-eb1b1168e6e8\",\"attributes\":{\"tags\":[\"hv_created\"],\"zoom_together\":\"none\"}},{\"type\":\"object\",\"name\":\"WheelZoomTool\",\"id\":\"b86010e0-e6d0-445c-b599-d11d62ec83dd\",\"attributes\":{\"tags\":[\"hv_created\"],\"zoom_together\":\"none\"}},{\"type\":\"object\",\"name\":\"WheelZoomTool\",\"id\":\"cbbc0078-5d82-41ed-bf6d-e015e10e38da\",\"attributes\":{\"tags\":[\"hv_created\"],\"zoom_together\":\"none\"}}]}},{\"type\":\"object\",\"name\":\"ToolProxy\",\"id\":\"70e47298-55b5-480b-aef3-baf67e944a41\",\"attributes\":{\"tools\":[{\"type\":\"object\",\"name\":\"HoverTool\",\"id\":\"8fbfcf26-550a-4684-b373-3936339d3163\",\"attributes\":{\"tags\":[\"hv_created\"],\"renderers\":[{\"type\":\"object\",\"name\":\"GlyphRenderer\",\"id\":\"47281b02-a289-42be-9624-43cfc330c7ee\",\"attributes\":{\"data_source\":{\"type\":\"object\",\"name\":\"ColumnDataSource\",\"id\":\"30935e08-e997-4e4c-a0cf-32c07ebb28d7\",\"attributes\":{\"selected\":{\"type\":\"object\",\"name\":\"Selection\",\"id\":\"2430f80f-6f4c-46e7-a990-4e9a05108d79\",\"attributes\":{\"indices\":[],\"line_indices\":[]}},\"selection_policy\":{\"type\":\"object\",\"name\":\"UnionRenderers\",\"id\":\"cc38209d-cd33-4a65-8622-c4301b97529d\"},\"data\":{\"type\":\"map\",\"entries\":[[\"xoffsets\",[[\"0\",\"rep\"],[\"1\",\"rep\"],[\"2\",\"rep\"],[\"3\",\"rep\"],[\"4\",\"rep\"],[\"5\",\"rep\"],[\"6\",\"rep\"],[\"7\",\"rep\"],[\"8\",\"rep\"],[\"9\",\"rep\"],[\"10\",\"rep\"],[\"11\",\"rep\"],[\"12\",\"rep\"],[\"13\",\"rep\"],[\"14\",\"rep\"],[\"15\",\"rep\"],[\"16\",\"rep\"],[\"17\",\"rep\"],[\"18\",\"rep\"],[\"19\",\"rep\"],[\"20\",\"rep\"],[\"0\",\"sen\"],[\"1\",\"sen\"],[\"2\",\"sen\"],[\"3\",\"sen\"],[\"4\",\"sen\"],[\"5\",\"sen\"],[\"6\",\"sen\"],[\"7\",\"sen\"],[\"8\",\"sen\"],[\"9\",\"sen\"],[\"10\",\"sen\"],[\"11\",\"sen\"],[\"12\",\"sen\"],[\"13\",\"sen\"],[\"14\",\"sen\"],[\"15\",\"sen\"],[\"16\",\"sen\"],[\"17\",\"sen\"],[\"18\",\"sen\"],[\"19\",\"sen\"],[\"20\",\"sen\"]]],[\"pct_retained\",{\"type\":\"ndarray\",\"array\":{\"type\":\"bytes\",\"data\":\"AAAAAAAAWUBGF1100UVWQLrooosuGlZA0UUXXXRRU0B00UUXXTRTQAAAAAAAgFFAo4suuuhiUUAXXXTRRVdOQEYXXXTRxU1AF1100UVXSUBGF1100cVIQEYXXXTRBUVA0UUXXXSRREAXXXTRRZdAQF100UUXXUBAXXTRRRddOkDpoosuuug5QHTRRRdd9DZAuuiiiy66NkB00UUXXfQxQLrooosuujFAAAAAAAAAWUASBSadmgdWQFaGb0SBSVVA34gCk07NU0DfiAKTTs1TQKwM34gCk1FArAzfiAKTUUDzIHf9bLFOQPMgd/1ssU5Ajigw6dQ8SkC8frZYGb5JQN+IApNOzUNADd+IApNOQ0AFJp2aB7k7QGDSqXmQuzpAKTDp1DzINUApMOnUPMg1QJbhG1Fg0jFA8Y0oMOnUMEBPzYPc9bMtQE/Ng9z1sy1A\"},\"shape\":[42],\"dtype\":\"float64\",\"order\":\"little\"}],[\"period\",[\"0\",\"1\",\"2\",\"3\",\"4\",\"5\",\"6\",\"7\",\"8\",\"9\",\"10\",\"11\",\"12\",\"13\",\"14\",\"15\",\"16\",\"17\",\"18\",\"19\",\"20\",\"0\",\"1\",\"2\",\"3\",\"4\",\"5\",\"6\",\"7\",\"8\",\"9\",\"10\",\"11\",\"12\",\"13\",\"14\",\"15\",\"16\",\"17\",\"18\",\"19\",\"20\"]],[\"term_type\",[\"rep\",\"rep\",\"rep\",\"rep\",\"rep\",\"rep\",\"rep\",\"rep\",\"rep\",\"rep\",\"rep\",\"rep\",\"rep\",\"rep\",\"rep\",\"rep\",\"rep\",\"rep\",\"rep\",\"rep\",\"rep\",\"sen\",\"sen\",\"sen\",\"sen\",\"sen\",\"sen\",\"sen\",\"sen\",\"sen\",\"sen\",\"sen\",\"sen\",\"sen\",\"sen\",\"sen\",\"sen\",\"sen\",\"sen\",\"sen\",\"sen\",\"sen\"]]]}}},\"view\":{\"type\":\"object\",\"name\":\"CDSView\",\"id\":\"c8c9c706-d01c-43b8-ba78-8e5af67ee8a2\",\"attributes\":{\"filter\":{\"type\":\"object\",\"name\":\"AllIndices\",\"id\":\"7609cebe-f7e4-4b27-8ba7-3a84e346e81c\"}}},\"glyph\":{\"type\":\"object\",\"name\":\"VBar\",\"id\":\"80b8cba7-af16-4199-a4c9-ec9d38b92028\",\"attributes\":{\"tags\":[\"apply_ranges\"],\"x\":{\"type\":\"field\",\"field\":\"xoffsets\"},\"width\":{\"type\":\"value\",\"value\":0.8},\"top\":{\"type\":\"field\",\"field\":\"pct_retained\"},\"line_alpha\":{\"type\":\"value\",\"value\":0.7},\"fill_color\":{\"type\":\"field\",\"field\":\"term_type\",\"transform\":{\"type\":\"object\",\"name\":\"CategoricalColorMapper\",\"id\":\"08617616-2bad-4861-89c9-ef043a1b2165\",\"attributes\":{\"palette\":[\"#30a2da\",\"#fc4f30\"],\"factors\":[\"rep\",\"sen\"]}}},\"fill_alpha\":{\"type\":\"value\",\"value\":0.7},\"hatch_color\":{\"type\":\"field\",\"field\":\"term_type\",\"transform\":{\"id\":\"08617616-2bad-4861-89c9-ef043a1b2165\"}},\"hatch_alpha\":{\"type\":\"value\",\"value\":0.7}}},\"selection_glyph\":{\"type\":\"object\",\"name\":\"VBar\",\"id\":\"09a6063b-508b-4f1b-a9a6-366640123a3f\",\"attributes\":{\"tags\":[\"apply_ranges\"],\"x\":{\"type\":\"field\",\"field\":\"xoffsets\"},\"width\":{\"type\":\"value\",\"value\":0.8},\"bottom\":{\"type\":\"value\",\"value\":0},\"top\":{\"type\":\"field\",\"field\":\"pct_retained\"},\"line_color\":{\"type\":\"value\",\"value\":\"black\"},\"line_alpha\":{\"type\":\"value\",\"value\":0.7},\"line_width\":{\"type\":\"value\",\"value\":1},\"line_join\":{\"type\":\"value\",\"value\":\"bevel\"},\"line_cap\":{\"type\":\"value\",\"value\":\"butt\"},\"line_dash\":{\"type\":\"value\",\"value\":[]},\"line_dash_offset\":{\"type\":\"value\",\"value\":0},\"fill_color\":{\"type\":\"field\",\"field\":\"term_type\",\"transform\":{\"id\":\"08617616-2bad-4861-89c9-ef043a1b2165\"}},\"fill_alpha\":{\"type\":\"value\",\"value\":0.7},\"hatch_color\":{\"type\":\"field\",\"field\":\"term_type\",\"transform\":{\"id\":\"08617616-2bad-4861-89c9-ef043a1b2165\"}},\"hatch_alpha\":{\"type\":\"value\",\"value\":0.7},\"hatch_scale\":{\"type\":\"value\",\"value\":12.0},\"hatch_pattern\":{\"type\":\"value\",\"value\":null},\"hatch_weight\":{\"type\":\"value\",\"value\":1.0}}},\"nonselection_glyph\":{\"type\":\"object\",\"name\":\"VBar\",\"id\":\"dabce1b4-ea52-49be-a76f-73ca6a284696\",\"attributes\":{\"tags\":[\"apply_ranges\"],\"x\":{\"type\":\"field\",\"field\":\"xoffsets\"},\"width\":{\"type\":\"value\",\"value\":0.8},\"top\":{\"type\":\"field\",\"field\":\"pct_retained\"},\"line_alpha\":{\"type\":\"value\",\"value\":0.7},\"fill_color\":{\"type\":\"field\",\"field\":\"term_type\",\"transform\":{\"id\":\"08617616-2bad-4861-89c9-ef043a1b2165\"}},\"fill_alpha\":{\"type\":\"value\",\"value\":0.7},\"hatch_color\":{\"type\":\"field\",\"field\":\"term_type\",\"transform\":{\"id\":\"08617616-2bad-4861-89c9-ef043a1b2165\"}},\"hatch_alpha\":{\"type\":\"value\",\"value\":0.1}}},\"muted_glyph\":{\"type\":\"object\",\"name\":\"VBar\",\"id\":\"e7d931b5-af68-48ed-a56d-4d88a7491960\",\"attributes\":{\"tags\":[\"apply_ranges\"],\"x\":{\"type\":\"field\",\"field\":\"xoffsets\"},\"width\":{\"type\":\"value\",\"value\":0.8},\"top\":{\"type\":\"field\",\"field\":\"pct_retained\"},\"line_alpha\":{\"type\":\"value\",\"value\":0.2},\"fill_color\":{\"type\":\"field\",\"field\":\"term_type\",\"transform\":{\"id\":\"08617616-2bad-4861-89c9-ef043a1b2165\"}},\"fill_alpha\":{\"type\":\"value\",\"value\":0.2},\"hatch_color\":{\"type\":\"field\",\"field\":\"term_type\",\"transform\":{\"id\":\"08617616-2bad-4861-89c9-ef043a1b2165\"}},\"hatch_alpha\":{\"type\":\"value\",\"value\":0.2}}}}}],\"tooltips\":[[\"period\",\"@{period}\"],[\"term_type\",\"@{term_type}\"],[\"pct_retained\",\"@{pct_retained}\"]]}},{\"type\":\"object\",\"name\":\"HoverTool\",\"id\":\"e36664da-aea0-49e3-b150-c075352ff631\",\"attributes\":{\"tags\":[\"hv_created\"],\"renderers\":[{\"type\":\"object\",\"name\":\"GlyphRenderer\",\"id\":\"e92a2392-2007-4bf5-8f07-ac150291fdd5\",\"attributes\":{\"name\":\"F\",\"data_source\":{\"type\":\"object\",\"name\":\"ColumnDataSource\",\"id\":\"8adbc67c-e639-49bd-87c3-ae9014804a69\",\"attributes\":{\"selected\":{\"type\":\"object\",\"name\":\"Selection\",\"id\":\"74225d25-cba2-4468-844b-2ba1411c9909\",\"attributes\":{\"indices\":[],\"line_indices\":[]}},\"selection_policy\":{\"type\":\"object\",\"name\":\"UnionRenderers\",\"id\":\"01e82506-5cba-4a39-8ab8-59c02a90c62f\"},\"data\":{\"type\":\"map\",\"entries\":[[\"period\",{\"type\":\"ndarray\",\"array\":{\"type\":\"bytes\",\"data\":\"AAAAAAEAAAACAAAAAwAAAAQAAAAFAAAABgAAAAcAAAAIAAAACQAAAAoAAAALAAAADAAAAA0AAAAOAAAADwAAABAAAAARAAAAEgAAABMAAAAUAAAAFQAAABYAAAAXAAAAGAAAABkAAAAaAAAAGwAAABwAAAAdAAAAHgAAAB8AAAAgAAAAIQAAACIAAAAjAAAAJAAAACUAAAAmAAAAJwAAAA==\"},\"shape\":[40],\"dtype\":\"int32\",\"order\":\"little\"}],[\"pct_retained\",{\"type\":\"ndarray\",\"array\":{\"type\":\"bytes\",\"data\":\"AAAAAAAAWUAAAAAAAGBXQAAAAAAAoFJAAAAAAACgUkAAAAAAACBQQAAAAAAAIFBAAAAAAACAS0AAAAAAAABLQAAAAAAAQElAAAAAAAAASUAAAAAAAABGQAAAAAAAQEVAAAAAAABAQ0AAAAAAAEBDQAAAAAAAgEBAAAAAAABAQEAAAAAAAIA8QAAAAAAAgDxAAAAAAAAAOEAAAAAAAAA3QAAAAAAAgDNAAAAAAACAM0AAAAAAAIAxQAAAAAAAADFAAAAAAAAAKkAAAAAAAAArQAAAAAAAACdAAAAAAAAAJ0AAAAAAAAAgQAAAAAAAAB5AAAAAAAAAFEAAAAAAAAASQAAAAAAAABBAAAAAAAAAEEAAAAAAAAAAQAAAAAAAAABAAAAAAAAA+D8AAAAAAADwPwAAAAAAAOA/AAAAAAAA4D8=\"},\"shape\":[40],\"dtype\":\"float64\",\"order\":\"little\"}],[\"gender\",[\"F\",\"F\",\"F\",\"F\",\"F\",\"F\",\"F\",\"F\",\"F\",\"F\",\"F\",\"F\",\"F\",\"F\",\"F\",\"F\",\"F\",\"F\",\"F\",\"F\",\"F\",\"F\",\"F\",\"F\",\"F\",\"F\",\"F\",\"F\",\"F\",\"F\",\"F\",\"F\",\"F\",\"F\",\"F\",\"F\",\"F\",\"F\",\"F\",\"F\"]]]}}},\"view\":{\"type\":\"object\",\"name\":\"CDSView\",\"id\":\"6ac4d0e5-7653-4b19-9aa2-e11248312806\",\"attributes\":{\"filter\":{\"type\":\"object\",\"name\":\"AllIndices\",\"id\":\"01f5aee8-2451-4c52-9e20-3b144a69c50f\"}}},\"glyph\":{\"type\":\"object\",\"name\":\"Line\",\"id\":\"552e5bae-c1db-4458-9e2d-f91ed237ab82\",\"attributes\":{\"tags\":[\"apply_ranges\"],\"x\":{\"type\":\"field\",\"field\":\"period\"},\"y\":{\"type\":\"field\",\"field\":\"pct_retained\"},\"line_color\":\"#30a2da\",\"line_width\":2}},\"selection_glyph\":{\"type\":\"object\",\"name\":\"Line\",\"id\":\"280a8583-6bba-484d-a923-2d049f26f728\",\"attributes\":{\"tags\":[\"apply_ranges\"],\"x\":{\"type\":\"field\",\"field\":\"period\"},\"y\":{\"type\":\"field\",\"field\":\"pct_retained\"},\"line_color\":\"#30a2da\",\"line_width\":2}},\"nonselection_glyph\":{\"type\":\"object\",\"name\":\"Line\",\"id\":\"ab26ca83-0846-450f-a7c1-d1b0a8ba8744\",\"attributes\":{\"tags\":[\"apply_ranges\"],\"x\":{\"type\":\"field\",\"field\":\"period\"},\"y\":{\"type\":\"field\",\"field\":\"pct_retained\"},\"line_color\":\"#30a2da\",\"line_alpha\":0.1,\"line_width\":2}},\"muted_glyph\":{\"type\":\"object\",\"name\":\"Line\",\"id\":\"0461091c-71c5-4752-96f2-cb945eed36fc\",\"attributes\":{\"tags\":[\"apply_ranges\"],\"x\":{\"type\":\"field\",\"field\":\"period\"},\"y\":{\"type\":\"field\",\"field\":\"pct_retained\"},\"line_color\":\"#30a2da\",\"line_alpha\":0.2,\"line_width\":2}}}},{\"type\":\"object\",\"name\":\"GlyphRenderer\",\"id\":\"620de20b-42d8-48d1-b1f4-edca74cb366b\",\"attributes\":{\"name\":\"M\",\"data_source\":{\"type\":\"object\",\"name\":\"ColumnDataSource\",\"id\":\"94cf4c6d-3f2f-4498-a3de-f4b98de7c702\",\"attributes\":{\"selected\":{\"type\":\"object\",\"name\":\"Selection\",\"id\":\"b7f6256a-27e9-4bdd-bd7e-625faceb8e2b\",\"attributes\":{\"indices\":[],\"line_indices\":[]}},\"selection_policy\":{\"type\":\"object\",\"name\":\"UnionRenderers\",\"id\":\"6a3d7c3b-07d6-423d-8783-e9e3c6fa856f\"},\"data\":{\"type\":\"map\",\"entries\":[[\"period\",{\"type\":\"ndarray\",\"array\":{\"type\":\"bytes\",\"data\":\"AAAAAAEAAAACAAAAAwAAAAQAAAAFAAAABgAAAAcAAAAIAAAACQAAAAoAAAALAAAADAAAAA0AAAAOAAAADwAAABAAAAARAAAAEgAAABMAAAAUAAAAFQAAABYAAAAXAAAAGAAAABkAAAAaAAAAGwAAABwAAAAdAAAAHgAAAB8AAAAgAAAAIQAAACIAAAAjAAAAJAAAACUAAAAmAAAAJwAAACgAAAApAAAAKgAAACsAAAAsAAAALQAAAC4AAAAvAAAAMAAAADEAAAAyAAAAMwAAADQAAAA1AAAANgAAADcAAAA4AAAAOQAAADoAAAA7AAAA\"},\"shape\":[60],\"dtype\":\"int32\",\"order\":\"little\"}],[\"pct_retained\",{\"type\":\"ndarray\",\"array\":{\"type\":\"bytes\",\"data\":\"AAAAAAAAWUBQPvN2I5VYQBrKHosFVVNAmgBvEkw1U0ArOC9l/R5RQKtuf+xD/1BAeAABuR7UTEA0ApdDbMNMQKhoKTRL6khA69MzuIq7SECxV5fWy7RFQL8qgMmveEVAkVsN+O62QUC5+oazgIFBQBw7oxTjeD5AGxXkMf35PUDtH7J9Vrk5QDCLvAGWijlARQGV0S4bNUAcPFwzt9E0QGiW1Fl3bTFAJQUL81EdMUBQh0bgcogtQF00cPBwzSxAs6MVnJeyJkArgYLOTBImQDRKMY7nXSJA8LhnJ8INIkAlUNCZScIbQApegO61PBtA2vYQkl1/FUCWZUcrOC8VQAkTu0e+lxBAneJ3JQd9EEBwXsr6PWAHQBHbsOiEigZAe768JpxO/z/L/K+dv+P+P4/oFjFp4fk/f6PwldOg+D+EiCQFC/PxPyQFC/NRHfE/Eduw6ISK5j9S1H3EEt/kP3VD/ml1suA/K4DJr3i53z9wXsr6PWDXP/NQZLJZCdQ/dUP+aXWy0D9seZaLBg7OP3Beyvo9YMc/cF7K+j1gxz91Q/5pdbLAP/NQZLJZCbQ/7mswQyK3qj/uazBDIreqP+5rMEMit6o/7mswQyK3mj/uazBDIreaP+5rMEMit5o/\"},\"shape\":[60],\"dtype\":\"float64\",\"order\":\"little\"}],[\"gender\",[\"M\",\"M\",\"M\",\"M\",\"M\",\"M\",\"M\",\"M\",\"M\",\"M\",\"M\",\"M\",\"M\",\"M\",\"M\",\"M\",\"M\",\"M\",\"M\",\"M\",\"M\",\"M\",\"M\",\"M\",\"M\",\"M\",\"M\",\"M\",\"M\",\"M\",\"M\",\"M\",\"M\",\"M\",\"M\",\"M\",\"M\",\"M\",\"M\",\"M\",\"M\",\"M\",\"M\",\"M\",\"M\",\"M\",\"M\",\"M\",\"M\",\"M\",\"M\",\"M\",\"M\",\"M\",\"M\",\"M\",\"M\",\"M\",\"M\",\"M\"]]]}}},\"view\":{\"type\":\"object\",\"name\":\"CDSView\",\"id\":\"92f538cd-90c6-4f6c-b233-570b953b6175\",\"attributes\":{\"filter\":{\"type\":\"object\",\"name\":\"AllIndices\",\"id\":\"d50ef76c-fdab-42cb-8f41-170da488880f\"}}},\"glyph\":{\"type\":\"object\",\"name\":\"Line\",\"id\":\"db9f74f1-00fd-4d42-adee-c8a80c12ce9f\",\"attributes\":{\"tags\":[\"apply_ranges\"],\"x\":{\"type\":\"field\",\"field\":\"period\"},\"y\":{\"type\":\"field\",\"field\":\"pct_retained\"},\"line_color\":\"#fc4f30\",\"line_width\":2}},\"selection_glyph\":{\"type\":\"object\",\"name\":\"Line\",\"id\":\"df759ef6-3966-49fe-b7c8-cb1b05c679fa\",\"attributes\":{\"tags\":[\"apply_ranges\"],\"x\":{\"type\":\"field\",\"field\":\"period\"},\"y\":{\"type\":\"field\",\"field\":\"pct_retained\"},\"line_color\":\"#fc4f30\",\"line_width\":2}},\"nonselection_glyph\":{\"type\":\"object\",\"name\":\"Line\",\"id\":\"8564521c-0305-4dac-be5a-4c51efdf1b8a\",\"attributes\":{\"tags\":[\"apply_ranges\"],\"x\":{\"type\":\"field\",\"field\":\"period\"},\"y\":{\"type\":\"field\",\"field\":\"pct_retained\"},\"line_color\":\"#fc4f30\",\"line_alpha\":0.1,\"line_width\":2}},\"muted_glyph\":{\"type\":\"object\",\"name\":\"Line\",\"id\":\"a5133527-5124-44be-a17b-81fa909a21e1\",\"attributes\":{\"tags\":[\"apply_ranges\"],\"x\":{\"type\":\"field\",\"field\":\"period\"},\"y\":{\"type\":\"field\",\"field\":\"pct_retained\"},\"line_color\":\"#fc4f30\",\"line_alpha\":0.2,\"line_width\":2}}}}],\"tooltips\":[[\"gender\",\"@{gender}\"],[\"period\",\"@{period}\"],[\"pct_retained\",\"@{pct_retained}\"]]}},{\"type\":\"object\",\"name\":\"HoverTool\",\"id\":\"9d795d52-a79d-4615-8c18-59f7a47c7df6\",\"attributes\":{\"tags\":[\"hv_created\"],\"renderers\":[{\"type\":\"object\",\"name\":\"GlyphRenderer\",\"id\":\"ca1517ce-bc5a-4c2f-bbbf-1067ff7336aa\",\"attributes\":{\"name\":\"18\",\"data_source\":{\"type\":\"object\",\"name\":\"ColumnDataSource\",\"id\":\"d9a7310e-62b3-4946-a6bb-35ebb35421fb\",\"attributes\":{\"selected\":{\"type\":\"object\",\"name\":\"Selection\",\"id\":\"4c5f6ade-47ad-48c4-8a1d-876a2b9dcb75\",\"attributes\":{\"indices\":[],\"line_indices\":[]}},\"selection_policy\":{\"type\":\"object\",\"name\":\"UnionRenderers\",\"id\":\"d8212108-fc1a-4dc2-b7b9-7aebc5539ed5\"},\"data\":{\"type\":\"map\",\"entries\":[[\"terms\",{\"type\":\"ndarray\",\"array\":{\"type\":\"bytes\",\"data\":\"AQAAAAIAAAADAAAABAAAAAUAAAAGAAAABwAAAAgAAAAJAAAACgAAAAsAAAAMAAAADQAAAA4AAAAPAAAAEAAAABEAAAASAAAAEwAAABQAAAA=\"},\"shape\":[20],\"dtype\":\"int32\",\"order\":\"little\"}],[\"pct_survived\",{\"type\":\"ndarray\",\"array\":{\"type\":\"bytes\",\"data\":\"AAAAAAAAWUA4velNb+pQQN/0pje9yURAIQtZyEIWOkBOb3rTmx4xQE5vetObXidApze96U1vHkC96U1vetMWQDi96U1vehJAWchCFrKQA0Cc3vSmN731PyELWchCFuo/FrKQhSxk4T8WspCFLGThPxaykIUsZOE/FrKQhSxk0T8AAAAAAAAAAAAAAAAAAAAAAAAAAAAAAAAAAAAAAAAAAA==\"},\"shape\":[20],\"dtype\":\"float64\",\"order\":\"little\"}],[\"first_century\",[18,18,18,18,18,18,18,18,18,18,18,18,18,18,18,18,18,18,18,18]]]}}},\"view\":{\"type\":\"object\",\"name\":\"CDSView\",\"id\":\"40926ee3-2c37-4d2a-9560-a939132aedb3\",\"attributes\":{\"filter\":{\"type\":\"object\",\"name\":\"AllIndices\",\"id\":\"eb68353c-f206-4976-9378-91d66a17abae\"}}},\"glyph\":{\"type\":\"object\",\"name\":\"Line\",\"id\":\"6e49f768-26fd-4ce1-86cf-da04ad5b64f8\",\"attributes\":{\"tags\":[\"apply_ranges\"],\"x\":{\"type\":\"field\",\"field\":\"terms\"},\"y\":{\"type\":\"field\",\"field\":\"pct_survived\"},\"line_color\":\"#30a2da\",\"line_width\":2}},\"selection_glyph\":{\"type\":\"object\",\"name\":\"Line\",\"id\":\"0cfe452f-0831-402a-b78a-aa2661ecddcb\",\"attributes\":{\"tags\":[\"apply_ranges\"],\"x\":{\"type\":\"field\",\"field\":\"terms\"},\"y\":{\"type\":\"field\",\"field\":\"pct_survived\"},\"line_color\":\"#30a2da\",\"line_width\":2}},\"nonselection_glyph\":{\"type\":\"object\",\"name\":\"Line\",\"id\":\"15ec85e2-bcae-46e4-ba95-e362672542e0\",\"attributes\":{\"tags\":[\"apply_ranges\"],\"x\":{\"type\":\"field\",\"field\":\"terms\"},\"y\":{\"type\":\"field\",\"field\":\"pct_survived\"},\"line_color\":\"#30a2da\",\"line_alpha\":0.1,\"line_width\":2}},\"muted_glyph\":{\"type\":\"object\",\"name\":\"Line\",\"id\":\"5ef0e0b6-1318-413c-ae59-e3df31f70318\",\"attributes\":{\"tags\":[\"apply_ranges\"],\"x\":{\"type\":\"field\",\"field\":\"terms\"},\"y\":{\"type\":\"field\",\"field\":\"pct_survived\"},\"line_color\":\"#30a2da\",\"line_alpha\":0.2,\"line_width\":2}}}},{\"type\":\"object\",\"name\":\"GlyphRenderer\",\"id\":\"18e63f81-7aa2-4b51-a0db-b68e1d862a72\",\"attributes\":{\"name\":\"19\",\"data_source\":{\"type\":\"object\",\"name\":\"ColumnDataSource\",\"id\":\"efccda8b-4354-4c74-b441-c47b48abca8c\",\"attributes\":{\"selected\":{\"type\":\"object\",\"name\":\"Selection\",\"id\":\"088305be-8b2a-4187-9071-88c89ccde965\",\"attributes\":{\"indices\":[],\"line_indices\":[]}},\"selection_policy\":{\"type\":\"object\",\"name\":\"UnionRenderers\",\"id\":\"ceda960e-9b6b-4b58-8cb2-b4debc161f63\"},\"data\":{\"type\":\"map\",\"entries\":[[\"terms\",{\"type\":\"ndarray\",\"array\":{\"type\":\"bytes\",\"data\":\"AQAAAAIAAAADAAAABAAAAAUAAAAGAAAABwAAAAgAAAAJAAAACgAAAAsAAAAMAAAADQAAAA4AAAAPAAAAEAAAABEAAAASAAAAEwAAABQAAAA=\"},\"shape\":[20],\"dtype\":\"int32\",\"order\":\"little\"}],[\"pct_survived\",{\"type\":\"ndarray\",\"array\":{\"type\":\"bytes\",\"data\":\"AAAAAAAAWUBwdN0VEnlNQIyrOS/CYj5ANsEq7DfgMUBb4fX6M5MmQM+B8qOaGR5A3Dir0ZtyFEDeTcxncpMMQDC9AywfkwRAMtIkwvWz/D9WO6SVusPwPxgLPYZb3OY/6qavOtRu2z9Hb8rR4knSP0qE62e5aso/R2/K0eJJwj+KyXMN73K8PwYqQiytQaA/BipCLK1BoD8GKkIsrUGQPw==\"},\"shape\":[20],\"dtype\":\"float64\",\"order\":\"little\"}],[\"first_century\",[19,19,19,19,19,19,19,19,19,19,19,19,19,19,19,19,19,19,19,19]]]}}},\"view\":{\"type\":\"object\",\"name\":\"CDSView\",\"id\":\"d4e3b65b-e927-4cd2-9ab5-6892d6fead9a\",\"attributes\":{\"filter\":{\"type\":\"object\",\"name\":\"AllIndices\",\"id\":\"556e2e8d-e86d-44ab-a9f7-4b07f0612b87\"}}},\"glyph\":{\"type\":\"object\",\"name\":\"Line\",\"id\":\"abde42f9-6df5-46a1-9761-3ea913fb2b9f\",\"attributes\":{\"tags\":[\"apply_ranges\"],\"x\":{\"type\":\"field\",\"field\":\"terms\"},\"y\":{\"type\":\"field\",\"field\":\"pct_survived\"},\"line_color\":\"#fc4f30\",\"line_width\":2}},\"selection_glyph\":{\"type\":\"object\",\"name\":\"Line\",\"id\":\"d56c32d4-7698-40ff-b73c-18670e6f5f5b\",\"attributes\":{\"tags\":[\"apply_ranges\"],\"x\":{\"type\":\"field\",\"field\":\"terms\"},\"y\":{\"type\":\"field\",\"field\":\"pct_survived\"},\"line_color\":\"#fc4f30\",\"line_width\":2}},\"nonselection_glyph\":{\"type\":\"object\",\"name\":\"Line\",\"id\":\"a8db2991-8bbe-4a81-a5b6-8eecbaefbb48\",\"attributes\":{\"tags\":[\"apply_ranges\"],\"x\":{\"type\":\"field\",\"field\":\"terms\"},\"y\":{\"type\":\"field\",\"field\":\"pct_survived\"},\"line_color\":\"#fc4f30\",\"line_alpha\":0.1,\"line_width\":2}},\"muted_glyph\":{\"type\":\"object\",\"name\":\"Line\",\"id\":\"bed469d3-1c2b-4160-b196-75ccec4cbafc\",\"attributes\":{\"tags\":[\"apply_ranges\"],\"x\":{\"type\":\"field\",\"field\":\"terms\"},\"y\":{\"type\":\"field\",\"field\":\"pct_survived\"},\"line_color\":\"#fc4f30\",\"line_alpha\":0.2,\"line_width\":2}}}},{\"type\":\"object\",\"name\":\"GlyphRenderer\",\"id\":\"7ffeabeb-ca00-4ba1-97c2-05501de43fac\",\"attributes\":{\"name\":\"20\",\"data_source\":{\"type\":\"object\",\"name\":\"ColumnDataSource\",\"id\":\"2eed0909-e396-4482-aeb1-d66a094a4b01\",\"attributes\":{\"selected\":{\"type\":\"object\",\"name\":\"Selection\",\"id\":\"2ae50813-9f39-47eb-8782-55e21ca53b32\",\"attributes\":{\"indices\":[],\"line_indices\":[]}},\"selection_policy\":{\"type\":\"object\",\"name\":\"UnionRenderers\",\"id\":\"f8efa2df-33cf-4b0e-ad51-4439b2c34084\"},\"data\":{\"type\":\"map\",\"entries\":[[\"terms\",{\"type\":\"ndarray\",\"array\":{\"type\":\"bytes\",\"data\":\"AQAAAAIAAAADAAAABAAAAAUAAAAGAAAABwAAAAgAAAAJAAAACgAAAAsAAAAMAAAADQAAAA4AAAAPAAAAEAAAABEAAAASAAAAEwAAABQAAAA=\"},\"shape\":[20],\"dtype\":\"int32\",\"order\":\"little\"}],[\"pct_survived\",{\"type\":\"ndarray\",\"array\":{\"type\":\"bytes\",\"data\":\"AAAAAAAAWUD1Cf7svfVSQEyny3qSFU9AzssZNaCaSUASfysVKSVFQONMjcIBP0FA3dWBjroWPEC5zht9GNM2QFQoCtLFdjJAUw3dHNaKLUBaNamphm4mQJKZRqxKcSFAGBlPqRPzGkDT6bKeZEUUQPrPSMibYg1AN98D8U3mBEAFiAXGStv9P96hb5wTvvQ/jCI7eANJ7D8JgmKTz6DmPw==\"},\"shape\":[20],\"dtype\":\"float64\",\"order\":\"little\"}],[\"first_century\",[20,20,20,20,20,20,20,20,20,20,20,20,20,20,20,20,20,20,20,20]]]}}},\"view\":{\"type\":\"object\",\"name\":\"CDSView\",\"id\":\"274bcff0-7b43-483f-8e71-5e8e811a9f95\",\"attributes\":{\"filter\":{\"type\":\"object\",\"name\":\"AllIndices\",\"id\":\"2ac8cf0b-35cb-4989-bca0-ea768f2cfcac\"}}},\"glyph\":{\"type\":\"object\",\"name\":\"Line\",\"id\":\"b6a2164c-b600-4633-aab8-662aeda7f1f5\",\"attributes\":{\"tags\":[\"apply_ranges\"],\"x\":{\"type\":\"field\",\"field\":\"terms\"},\"y\":{\"type\":\"field\",\"field\":\"pct_survived\"},\"line_color\":\"#e5ae38\",\"line_width\":2}},\"selection_glyph\":{\"type\":\"object\",\"name\":\"Line\",\"id\":\"ee07974a-3363-4405-8863-04c871d818e9\",\"attributes\":{\"tags\":[\"apply_ranges\"],\"x\":{\"type\":\"field\",\"field\":\"terms\"},\"y\":{\"type\":\"field\",\"field\":\"pct_survived\"},\"line_color\":\"#e5ae38\",\"line_width\":2}},\"nonselection_glyph\":{\"type\":\"object\",\"name\":\"Line\",\"id\":\"7507c18a-5d8b-4da5-bb56-7a83de796ebf\",\"attributes\":{\"tags\":[\"apply_ranges\"],\"x\":{\"type\":\"field\",\"field\":\"terms\"},\"y\":{\"type\":\"field\",\"field\":\"pct_survived\"},\"line_color\":\"#e5ae38\",\"line_alpha\":0.1,\"line_width\":2}},\"muted_glyph\":{\"type\":\"object\",\"name\":\"Line\",\"id\":\"60cb7547-c3f8-42b5-bbdf-22fd7e8c9413\",\"attributes\":{\"tags\":[\"apply_ranges\"],\"x\":{\"type\":\"field\",\"field\":\"terms\"},\"y\":{\"type\":\"field\",\"field\":\"pct_survived\"},\"line_color\":\"#e5ae38\",\"line_alpha\":0.2,\"line_width\":2}}}},{\"type\":\"object\",\"name\":\"GlyphRenderer\",\"id\":\"41bd708f-61a7-4376-b2cd-f3983f58d8bb\",\"attributes\":{\"name\":\"21\",\"data_source\":{\"type\":\"object\",\"name\":\"ColumnDataSource\",\"id\":\"f2d08f1d-9a23-4ebe-8167-23b20d6ceedf\",\"attributes\":{\"selected\":{\"type\":\"object\",\"name\":\"Selection\",\"id\":\"593de75f-3c01-42d6-bebf-df53d17c4d8c\",\"attributes\":{\"indices\":[],\"line_indices\":[]}},\"selection_policy\":{\"type\":\"object\",\"name\":\"UnionRenderers\",\"id\":\"8d4f16f5-47c8-4d24-96a3-03ce3be1dc26\"},\"data\":{\"type\":\"map\",\"entries\":[[\"terms\",{\"type\":\"ndarray\",\"array\":{\"type\":\"bytes\",\"data\":\"AQAAAAIAAAADAAAABAAAAAUAAAAGAAAABwAAAAgAAAAJAAAACgAAAAsAAAAMAAAADQAAAA4AAAAPAAAAEAAAABEAAAASAAAAEwAAABQAAAA=\"},\"shape\":[20],\"dtype\":\"int32\",\"order\":\"little\"}],[\"pct_survived\",{\"type\":\"ndarray\",\"array\":{\"type\":\"bytes\",\"data\":\"AAAAAAAAWUCivIbyGkpSQL2G8hrKK0tAXkN5DeV1RECU11BeQ/k6QIfyGsprKDJANpTXUF5DKUBsKK+hvIYeQGwor6G8hg5AKa+hvIby8j8AAAAAAAAAAAAAAAAAAAAAAAAAAAAAAAAAAAAAAAAAAAAAAAAAAAAAAAAAAAAAAAAAAAAAAAAAAAAAAAAAAAAAAAAAAAAAAAAAAAAAAAAAAA==\"},\"shape\":[20],\"dtype\":\"float64\",\"order\":\"little\"}],[\"first_century\",[21,21,21,21,21,21,21,21,21,21,21,21,21,21,21,21,21,21,21,21]]]}}},\"view\":{\"type\":\"object\",\"name\":\"CDSView\",\"id\":\"14224548-320a-4592-a29b-36820f523099\",\"attributes\":{\"filter\":{\"type\":\"object\",\"name\":\"AllIndices\",\"id\":\"a03d711f-f044-44f8-9346-16f47216a02f\"}}},\"glyph\":{\"type\":\"object\",\"name\":\"Line\",\"id\":\"34be504b-f785-4011-8b69-8e27330450e7\",\"attributes\":{\"tags\":[\"apply_ranges\"],\"x\":{\"type\":\"field\",\"field\":\"terms\"},\"y\":{\"type\":\"field\",\"field\":\"pct_survived\"},\"line_color\":\"#6d904f\",\"line_width\":2}},\"selection_glyph\":{\"type\":\"object\",\"name\":\"Line\",\"id\":\"fcedf4cd-7ec9-4bf4-b346-aa01989aead7\",\"attributes\":{\"tags\":[\"apply_ranges\"],\"x\":{\"type\":\"field\",\"field\":\"terms\"},\"y\":{\"type\":\"field\",\"field\":\"pct_survived\"},\"line_color\":\"#6d904f\",\"line_width\":2}},\"nonselection_glyph\":{\"type\":\"object\",\"name\":\"Line\",\"id\":\"5e703928-8829-49fc-8efb-abcba55d0679\",\"attributes\":{\"tags\":[\"apply_ranges\"],\"x\":{\"type\":\"field\",\"field\":\"terms\"},\"y\":{\"type\":\"field\",\"field\":\"pct_survived\"},\"line_color\":\"#6d904f\",\"line_alpha\":0.1,\"line_width\":2}},\"muted_glyph\":{\"type\":\"object\",\"name\":\"Line\",\"id\":\"b0c60338-ca15-43a9-a70a-1b5a48799672\",\"attributes\":{\"tags\":[\"apply_ranges\"],\"x\":{\"type\":\"field\",\"field\":\"terms\"},\"y\":{\"type\":\"field\",\"field\":\"pct_survived\"},\"line_color\":\"#6d904f\",\"line_alpha\":0.2,\"line_width\":2}}}}],\"tooltips\":[[\"first_century\",\"@{first_century}\"],[\"terms\",\"@{terms}\"],[\"pct_survived\",\"@{pct_survived}\"]]}}]}},{\"type\":\"object\",\"name\":\"SaveTool\",\"id\":\"4f4d304b-ddf8-4d36-b667-f6a4769b6d99\"},{\"type\":\"object\",\"name\":\"ToolProxy\",\"id\":\"39958db7-bfdf-446f-8c7f-cf0ee4553554\",\"attributes\":{\"tools\":[{\"type\":\"object\",\"name\":\"PanTool\",\"id\":\"ce1a0f89-1238-4c79-9ccb-692d8ed13780\"},{\"type\":\"object\",\"name\":\"PanTool\",\"id\":\"6fa8c43f-50d9-4bfb-ac1a-872d560219bd\"},{\"type\":\"object\",\"name\":\"PanTool\",\"id\":\"cfe9ecae-28d1-4378-841c-3dcf4abb03e5\"}]}},{\"type\":\"object\",\"name\":\"ToolProxy\",\"id\":\"3d351e32-9d14-4502-85e8-6a0605d9035c\",\"attributes\":{\"tools\":[{\"type\":\"object\",\"name\":\"BoxZoomTool\",\"id\":\"040eac84-f1c4-496c-9c4f-9ed16c2e1d28\",\"attributes\":{\"overlay\":{\"type\":\"object\",\"name\":\"BoxAnnotation\",\"id\":\"21812934-ae10-434d-8777-7ba2ed0c6428\",\"attributes\":{\"syncable\":false,\"level\":\"overlay\",\"visible\":false,\"left_units\":\"canvas\",\"right_units\":\"canvas\",\"bottom_units\":\"canvas\",\"top_units\":\"canvas\",\"line_color\":\"black\",\"line_alpha\":1.0,\"line_width\":2,\"line_dash\":[4,4],\"fill_color\":\"lightgrey\",\"fill_alpha\":0.5}}}},{\"type\":\"object\",\"name\":\"BoxZoomTool\",\"id\":\"299aba74-6feb-4c57-ae80-b21f30c0f7d3\",\"attributes\":{\"overlay\":{\"type\":\"object\",\"name\":\"BoxAnnotation\",\"id\":\"009d7065-32e5-4387-8d31-1c068e7a4a71\",\"attributes\":{\"syncable\":false,\"level\":\"overlay\",\"visible\":false,\"left_units\":\"canvas\",\"right_units\":\"canvas\",\"bottom_units\":\"canvas\",\"top_units\":\"canvas\",\"line_color\":\"black\",\"line_alpha\":1.0,\"line_width\":2,\"line_dash\":[4,4],\"fill_color\":\"lightgrey\",\"fill_alpha\":0.5}}}},{\"type\":\"object\",\"name\":\"BoxZoomTool\",\"id\":\"cdd8bd47-c872-4a05-8cb3-b8bfae53b978\",\"attributes\":{\"overlay\":{\"type\":\"object\",\"name\":\"BoxAnnotation\",\"id\":\"c1189489-be22-4904-a6d3-be6e30a64658\",\"attributes\":{\"syncable\":false,\"level\":\"overlay\",\"visible\":false,\"left_units\":\"canvas\",\"right_units\":\"canvas\",\"bottom_units\":\"canvas\",\"top_units\":\"canvas\",\"line_color\":\"black\",\"line_alpha\":1.0,\"line_width\":2,\"line_dash\":[4,4],\"fill_color\":\"lightgrey\",\"fill_alpha\":0.5}}}}]}},{\"type\":\"object\",\"name\":\"ToolProxy\",\"id\":\"ae732905-c419-4ea2-9179-8c306d7500d3\",\"attributes\":{\"tools\":[{\"type\":\"object\",\"name\":\"ResetTool\",\"id\":\"245150e2-e1fc-4804-aff6-70b0c28576ed\"},{\"type\":\"object\",\"name\":\"ResetTool\",\"id\":\"009b7cf8-7387-4398-a7fb-43fd0ac015e2\"},{\"type\":\"object\",\"name\":\"ResetTool\",\"id\":\"aab7cad0-c576-4496-a0c0-29f9b0c230b9\"}]}}]}},\"children\":[[{\"type\":\"object\",\"name\":\"Column\",\"id\":\"2c8b742b-2b24-451f-8b2b-687552aff65c\",\"attributes\":{\"children\":[{\"type\":\"object\",\"name\":\"Div\",\"id\":\"e922aedf-e52b-4477-9c06-a4d6d2822322\",\"attributes\":{\"styles\":{\"type\":\"map\",\"entries\":[[\"white-space\",\"nowrap\"]]},\"width\":450,\"text\":\"<span style=\\\"color:black;font-family:Arial;font-style:bold;font-weight:bold;font-size:12pt\\\">Percentage of representatives who became senators</span>\"}},{\"type\":\"object\",\"name\":\"DataTable\",\"id\":\"2a5ff97b-685b-4d8b-9d32-45f49621ebfc\",\"attributes\":{\"width\":650,\"height\":300,\"source\":{\"type\":\"object\",\"name\":\"ColumnDataSource\",\"id\":\"0fce617e-a8dd-44f3-be88-68327fdc229d\",\"attributes\":{\"selected\":{\"type\":\"object\",\"name\":\"Selection\",\"id\":\"cc0169dc-0eba-41c3-8a72-c0c159b3bf3a\",\"attributes\":{\"indices\":[],\"line_indices\":[]}},\"selection_policy\":{\"type\":\"object\",\"name\":\"UnionRenderers\",\"id\":\"9c15ebd7-71e1-4388-aa2f-2748ea726f7d\"},\"data\":{\"type\":\"map\",\"entries\":[[\"cohort_century\",{\"type\":\"ndarray\",\"array\":{\"type\":\"bytes\",\"data\":\"EgAAABMAAAAUAAAAFQAAAA==\"},\"shape\":[4],\"dtype\":\"int32\",\"order\":\"little\"}],[\"pct_5_yrs\",{\"type\":\"ndarray\",\"array\":{\"type\":\"bytes\",\"data\":\"cF8HzhkRFEAwKqkT0ETsP4xK6gQ0EfA/AAAAAAAAEEA=\"},\"shape\":[4],\"dtype\":\"float64\",\"order\":\"little\"}],[\"pct_10_yrs\",{\"type\":\"ndarray\",\"array\":{\"type\":\"bytes\",\"data\":\"2c73U+NlI0DSAN4CCYoDQO5aQj7o2QtAlrIMcayLHkA=\"},\"shape\":[4],\"dtype\":\"float64\",\"order\":\"little\"}],[\"pct_15_yrs\",{\"type\":\"ndarray\",\"array\":{\"type\":\"bytes\",\"data\":\"+u3rwDnDLEAnMQisHFoQQF8HzhlRGhNA+MJkqmB0IUA=\"},\"shape\":[4],\"dtype\":\"float64\",\"order\":\"little\"}]]}}},\"view\":{\"type\":\"object\",\"name\":\"CDSView\",\"id\":\"6b9805ee-fba2-4a13-837d-8d0e73516a1e\",\"attributes\":{\"filter\":{\"type\":\"object\",\"name\":\"AllIndices\",\"id\":\"a1d5b440-738d-4b14-8cb3-95fde29a9dbf\"}}},\"columns\":[{\"type\":\"object\",\"name\":\"TableColumn\",\"id\":\"453caec4-9322-4edc-9004-38ebf2e9f6cb\",\"attributes\":{\"field\":\"cohort_century\",\"title\":\"cohort_century\",\"formatter\":{\"type\":\"object\",\"name\":\"NumberFormatter\",\"id\":\"4f9b2e3c-710c-45a4-a08a-b4dace08ff92\"},\"editor\":{\"type\":\"object\",\"name\":\"IntEditor\",\"id\":\"aded4183-ab8f-4bc6-9b71-1dd8b948a756\"}}},{\"type\":\"object\",\"name\":\"TableColumn\",\"id\":\"e6ad848c-9e61-4288-9b1b-77f07031f169\",\"attributes\":{\"field\":\"pct_5_yrs\",\"title\":\"pct_5_yrs\",\"formatter\":{\"type\":\"object\",\"name\":\"NumberFormatter\",\"id\":\"02c16db3-82ec-478d-8881-ef07d5904a77\",\"attributes\":{\"format\":\"0,0.0[00000]\"}},\"editor\":{\"type\":\"object\",\"name\":\"NumberEditor\",\"id\":\"383e4351-9252-4d3e-81d9-6c3090a68c64\"}}},{\"type\":\"object\",\"name\":\"TableColumn\",\"id\":\"80fea3e9-ba81-49f3-b8e6-034aeadb708f\",\"attributes\":{\"field\":\"pct_10_yrs\",\"title\":\"pct_10_yrs\",\"formatter\":{\"type\":\"object\",\"name\":\"NumberFormatter\",\"id\":\"6ceb0d9a-0080-4b7b-8923-617b38f51fbf\",\"attributes\":{\"format\":\"0,0.0[00000]\"}},\"editor\":{\"type\":\"object\",\"name\":\"NumberEditor\",\"id\":\"9bbcab1e-8470-4cc4-8e6e-92c795defd9d\"}}},{\"type\":\"object\",\"name\":\"TableColumn\",\"id\":\"cf7b00cf-58e7-4c27-9721-64ac19f131b4\",\"attributes\":{\"field\":\"pct_15_yrs\",\"title\":\"pct_15_yrs\",\"formatter\":{\"type\":\"object\",\"name\":\"NumberFormatter\",\"id\":\"435ca762-683d-4dd3-922a-f074c3b212df\",\"attributes\":{\"format\":\"0,0.0[00000]\"}},\"editor\":{\"type\":\"object\",\"name\":\"NumberEditor\",\"id\":\"041fff6e-3efe-41f1-a4a4-f7eaba4ff243\"}}}],\"reorderable\":false}}]}},0,0],[{\"type\":\"object\",\"name\":\"Figure\",\"id\":\"5ef84680-2ff8-4ea1-bc19-a6baf1468568\",\"attributes\":{\"width\":650,\"height\":300,\"sizing_mode\":\"fixed\",\"align\":\"start\",\"x_range\":{\"type\":\"object\",\"name\":\"FactorRange\",\"id\":\"8a120fae-c67d-4129-b7d9-1dec403fa0f0\",\"attributes\":{\"tags\":[[[\"period\",\"period\",null],[\"term_type\",\"term_type\",null]],[]],\"factors\":[[\"0\",\"rep\"],[\"0\",\"sen\"],[\"1\",\"rep\"],[\"1\",\"sen\"],[\"2\",\"rep\"],[\"2\",\"sen\"],[\"3\",\"rep\"],[\"3\",\"sen\"],[\"4\",\"rep\"],[\"4\",\"sen\"],[\"5\",\"rep\"],[\"5\",\"sen\"],[\"6\",\"rep\"],[\"6\",\"sen\"],[\"7\",\"rep\"],[\"7\",\"sen\"],[\"8\",\"rep\"],[\"8\",\"sen\"],[\"9\",\"rep\"],[\"9\",\"sen\"],[\"10\",\"rep\"],[\"10\",\"sen\"],[\"11\",\"rep\"],[\"11\",\"sen\"],[\"12\",\"rep\"],[\"12\",\"sen\"],[\"13\",\"rep\"],[\"13\",\"sen\"],[\"14\",\"rep\"],[\"14\",\"sen\"],[\"15\",\"rep\"],[\"15\",\"sen\"],[\"16\",\"rep\"],[\"16\",\"sen\"],[\"17\",\"rep\"],[\"17\",\"sen\"],[\"18\",\"rep\"],[\"18\",\"sen\"],[\"19\",\"rep\"],[\"19\",\"sen\"],[\"20\",\"rep\"],[\"20\",\"sen\"]]}},\"y_range\":{\"type\":\"object\",\"name\":\"Range1d\",\"id\":\"0cc3d034-1a08-4fbd-847e-ee7e84a70f2c\",\"attributes\":{\"tags\":[[[\"pct_retained\",\"pct_retained\",null]],{\"type\":\"map\",\"entries\":[[\"invert_yaxis\",false],[\"autorange\",false]]}],\"end\":108.51485148514851,\"reset_start\":0.0,\"reset_end\":108.51485148514851}},\"x_scale\":{\"type\":\"object\",\"name\":\"CategoricalScale\",\"id\":\"1bc93694-f788-4ba3-84d0-5cf83e8a3ce9\"},\"y_scale\":{\"type\":\"object\",\"name\":\"LinearScale\",\"id\":\"8db7418c-b2d2-4ad5-9433-6bb4fdaa0a20\"},\"title\":{\"type\":\"object\",\"name\":\"Title\",\"id\":\"0cd75744-ffd3-4b60-9321-f7e177c65305\",\"attributes\":{\"text\":\"Retention of legislators in office in 2000, term_type\",\"text_color\":\"black\",\"text_font_size\":\"12pt\"}},\"renderers\":[{\"id\":\"47281b02-a289-42be-9624-43cfc330c7ee\"}],\"toolbar\":{\"type\":\"object\",\"name\":\"Toolbar\",\"id\":\"2aba141a-68bf-4389-babf-b7ed60bcc28d\",\"attributes\":{\"tools\":[{\"id\":\"0f04f9d4-12c6-48ce-9fe3-eb1b1168e6e8\"},{\"id\":\"8fbfcf26-550a-4684-b373-3936339d3163\"},{\"type\":\"object\",\"name\":\"SaveTool\",\"id\":\"1a2003fc-77e9-45d5-b6e3-8a4ea6e6996d\"},{\"id\":\"ce1a0f89-1238-4c79-9ccb-692d8ed13780\"},{\"id\":\"040eac84-f1c4-496c-9c4f-9ed16c2e1d28\"},{\"id\":\"245150e2-e1fc-4804-aff6-70b0c28576ed\"}],\"active_drag\":{\"id\":\"ce1a0f89-1238-4c79-9ccb-692d8ed13780\"},\"active_scroll\":{\"id\":\"0f04f9d4-12c6-48ce-9fe3-eb1b1168e6e8\"}}},\"toolbar_location\":null,\"left\":[{\"type\":\"object\",\"name\":\"LinearAxis\",\"id\":\"1241f7df-af69-4865-bcc4-f3f934914c62\",\"attributes\":{\"ticker\":{\"type\":\"object\",\"name\":\"BasicTicker\",\"id\":\"ee17805b-8334-43af-9630-9b6d0984e4ea\",\"attributes\":{\"mantissas\":[1,2,5]}},\"formatter\":{\"type\":\"object\",\"name\":\"BasicTickFormatter\",\"id\":\"92f8254b-3a1d-4ab1-a84b-a23a7d37b616\"},\"axis_label\":\"pct_retained\",\"major_label_policy\":{\"type\":\"object\",\"name\":\"AllLabels\",\"id\":\"2c73c9b2-a24b-4044-8690-2ee6f619eb50\"}}}],\"below\":[{\"type\":\"object\",\"name\":\"CategoricalAxis\",\"id\":\"230c39a6-4867-476c-b811-f22be60dd6ef\",\"attributes\":{\"ticker\":{\"type\":\"object\",\"name\":\"CategoricalTicker\",\"id\":\"b75f9aea-3349-444f-8198-5fc706bd3996\"},\"formatter\":{\"type\":\"object\",\"name\":\"CategoricalTickFormatter\",\"id\":\"f9e871e6-bb91-4a45-8deb-6b65a906a985\"},\"axis_label\":\"period, term_type\",\"major_label_orientation\":1.0471975511965976,\"major_label_policy\":{\"type\":\"object\",\"name\":\"AllLabels\",\"id\":\"5b8bfc87-1bf9-46ab-854c-10aed29474f9\"}}}],\"center\":[{\"type\":\"object\",\"name\":\"Grid\",\"id\":\"0041471e-76f7-4a5a-935e-7894aef77b09\",\"attributes\":{\"axis\":{\"id\":\"230c39a6-4867-476c-b811-f22be60dd6ef\"},\"ticker\":{\"id\":\"b75f9aea-3349-444f-8198-5fc706bd3996\"}}},{\"type\":\"object\",\"name\":\"Grid\",\"id\":\"ef545870-0c8c-4364-8c1d-27a248d184a7\",\"attributes\":{\"dimension\":1,\"axis\":{\"id\":\"1241f7df-af69-4865-bcc4-f3f934914c62\"},\"ticker\":{\"id\":\"ee17805b-8334-43af-9630-9b6d0984e4ea\"}}}],\"min_border_top\":10,\"min_border_bottom\":10,\"min_border_left\":10,\"min_border_right\":10,\"output_backend\":\"webgl\"}},0,1],[{\"type\":\"object\",\"name\":\"Figure\",\"id\":\"8488da00-dd10-45d6-a11c-587f27f94270\",\"attributes\":{\"width\":650,\"height\":300,\"sizing_mode\":\"fixed\",\"align\":\"start\",\"x_range\":{\"type\":\"object\",\"name\":\"Range1d\",\"id\":\"45c43511-8d23-4f17-bac8-363e579f42cc\",\"attributes\":{\"tags\":[[[\"period\",\"period\",null]],[]],\"end\":59.0,\"reset_start\":0.0,\"reset_end\":59.0}},\"y_range\":{\"type\":\"object\",\"name\":\"Range1d\",\"id\":\"26e76a83-2fe3-4bba-be05-5f2db705e0b5\",\"attributes\":{\"tags\":[[[\"pct_retained\",\"pct_retained\",null]],{\"type\":\"map\",\"entries\":[[\"invert_yaxis\",false],[\"autorange\",false]]}],\"start\":-9.971301852334985,\"end\":109.99739107748499,\"reset_start\":-9.971301852334985,\"reset_end\":109.99739107748499}},\"x_scale\":{\"type\":\"object\",\"name\":\"LinearScale\",\"id\":\"8347153e-7f03-493f-a2c2-b1da6ff4c6da\"},\"y_scale\":{\"type\":\"object\",\"name\":\"LinearScale\",\"id\":\"2155ee16-0be4-45aa-8642-a4db95688708\"},\"title\":{\"type\":\"object\",\"name\":\"Title\",\"id\":\"b845d983-cb35-45a4-b3bf-c0697be9cf59\",\"attributes\":{\"text\":\"Keeping legislators on the floor\",\"text_color\":\"black\",\"text_font_size\":\"12pt\"}},\"renderers\":[{\"id\":\"e92a2392-2007-4bf5-8f07-ac150291fdd5\"},{\"id\":\"620de20b-42d8-48d1-b1f4-edca74cb366b\"}],\"toolbar\":{\"type\":\"object\",\"name\":\"Toolbar\",\"id\":\"12997604-975b-4dfc-b90d-d58820709c55\",\"attributes\":{\"tools\":[{\"id\":\"b86010e0-e6d0-445c-b599-d11d62ec83dd\"},{\"id\":\"e36664da-aea0-49e3-b150-c075352ff631\"},{\"type\":\"object\",\"name\":\"SaveTool\",\"id\":\"824659cb-9021-49cd-93fa-f58d7d882cc1\"},{\"id\":\"6fa8c43f-50d9-4bfb-ac1a-872d560219bd\"},{\"id\":\"299aba74-6feb-4c57-ae80-b21f30c0f7d3\"},{\"id\":\"009b7cf8-7387-4398-a7fb-43fd0ac015e2\"}],\"active_drag\":{\"id\":\"6fa8c43f-50d9-4bfb-ac1a-872d560219bd\"},\"active_scroll\":{\"id\":\"b86010e0-e6d0-445c-b599-d11d62ec83dd\"}}},\"toolbar_location\":null,\"left\":[{\"type\":\"object\",\"name\":\"LinearAxis\",\"id\":\"d966c096-ee57-40f6-88f5-e24c4a1c27a0\",\"attributes\":{\"ticker\":{\"type\":\"object\",\"name\":\"BasicTicker\",\"id\":\"60d0b813-0621-4bfc-a37c-ba59434f5de2\",\"attributes\":{\"mantissas\":[1,2,5]}},\"formatter\":{\"type\":\"object\",\"name\":\"BasicTickFormatter\",\"id\":\"a34fd619-0860-479c-86a5-a55ed3fdad1a\"},\"axis_label\":\"pct_retained\",\"major_label_policy\":{\"type\":\"object\",\"name\":\"AllLabels\",\"id\":\"c4982672-2b5e-46a8-b09c-808032e5066c\"}}}],\"above\":[{\"type\":\"object\",\"name\":\"Legend\",\"id\":\"d0b55bdb-45ab-4ab7-92db-61ec1b140bbb\",\"attributes\":{\"location\":[0,0],\"orientation\":\"horizontal\",\"title\":\"gender\",\"click_policy\":\"mute\",\"items\":[{\"type\":\"object\",\"name\":\"LegendItem\",\"id\":\"d990e005-aeb2-4546-b401-72e494392ffa\",\"attributes\":{\"label\":{\"type\":\"value\",\"value\":\"F\"},\"renderers\":[{\"id\":\"e92a2392-2007-4bf5-8f07-ac150291fdd5\"}]}},{\"type\":\"object\",\"name\":\"LegendItem\",\"id\":\"990dec12-7566-4a7f-a53f-ee5c98200721\",\"attributes\":{\"label\":{\"type\":\"value\",\"value\":\"M\"},\"renderers\":[{\"id\":\"620de20b-42d8-48d1-b1f4-edca74cb366b\"}]}}]}}],\"below\":[{\"type\":\"object\",\"name\":\"LinearAxis\",\"id\":\"a5954f26-c560-41f1-9cb1-b33c107f2007\",\"attributes\":{\"ticker\":{\"type\":\"object\",\"name\":\"BasicTicker\",\"id\":\"227d9120-70ee-4cef-aa96-983d44491a43\",\"attributes\":{\"mantissas\":[1,2,5]}},\"formatter\":{\"type\":\"object\",\"name\":\"BasicTickFormatter\",\"id\":\"38207765-777d-45e8-a9a9-7df83aba934b\"},\"axis_label\":\"period\",\"major_label_policy\":{\"type\":\"object\",\"name\":\"AllLabels\",\"id\":\"55f0c632-bb26-4a03-a832-bbb2298793f4\"}}}],\"center\":[{\"type\":\"object\",\"name\":\"Grid\",\"id\":\"12cf0e50-3653-4912-b169-12454305db0b\",\"attributes\":{\"axis\":{\"id\":\"a5954f26-c560-41f1-9cb1-b33c107f2007\"},\"ticker\":{\"id\":\"227d9120-70ee-4cef-aa96-983d44491a43\"}}},{\"type\":\"object\",\"name\":\"Grid\",\"id\":\"9916d307-81da-4c89-a2fb-00f70debfffa\",\"attributes\":{\"dimension\":1,\"axis\":{\"id\":\"d966c096-ee57-40f6-88f5-e24c4a1c27a0\"},\"ticker\":{\"id\":\"60d0b813-0621-4bfc-a37c-ba59434f5de2\"}}}],\"min_border_top\":10,\"min_border_bottom\":10,\"min_border_left\":10,\"min_border_right\":10,\"output_backend\":\"webgl\"}},1,0],[{\"type\":\"object\",\"name\":\"Figure\",\"id\":\"c217010d-5ec1-45be-b042-c859d64357c1\",\"attributes\":{\"width\":650,\"height\":300,\"sizing_mode\":\"fixed\",\"align\":\"start\",\"x_range\":{\"type\":\"object\",\"name\":\"Range1d\",\"id\":\"a73bcff2-638b-4767-b952-c8be40be6480\",\"attributes\":{\"tags\":[[[\"terms\",\"terms\",null]],[]],\"start\":1.0,\"end\":20.0,\"reset_start\":1.0,\"reset_end\":20.0}},\"y_range\":{\"type\":\"object\",\"name\":\"Range1d\",\"id\":\"eced12e6-e1ae-4f43-9de4-ef78497eb653\",\"attributes\":{\"tags\":[[[\"pct_survived\",\"pct_survived\",null]],{\"type\":\"map\",\"entries\":[[\"invert_yaxis\",false],[\"autorange\",false]]}],\"start\":-10.0,\"end\":110.0,\"reset_start\":-10.0,\"reset_end\":110.0}},\"x_scale\":{\"type\":\"object\",\"name\":\"LinearScale\",\"id\":\"12feba22-841d-49b3-974c-c03904fd3f3f\"},\"y_scale\":{\"type\":\"object\",\"name\":\"LinearScale\",\"id\":\"e35b27e6-a520-47ac-bc19-db623b2b053e\"},\"title\":{\"type\":\"object\",\"name\":\"Title\",\"id\":\"fe24ea31-1539-40e3-93a4-30b795d07852\",\"attributes\":{\"text\":\"Who remained in office a certain number of terms or longer\",\"text_color\":\"black\",\"text_font_size\":\"12pt\"}},\"renderers\":[{\"id\":\"ca1517ce-bc5a-4c2f-bbbf-1067ff7336aa\"},{\"id\":\"18e63f81-7aa2-4b51-a0db-b68e1d862a72\"},{\"id\":\"7ffeabeb-ca00-4ba1-97c2-05501de43fac\"},{\"id\":\"41bd708f-61a7-4376-b2cd-f3983f58d8bb\"}],\"toolbar\":{\"type\":\"object\",\"name\":\"Toolbar\",\"id\":\"bfa96e4f-d853-407c-a290-cf567b158547\",\"attributes\":{\"tools\":[{\"id\":\"cbbc0078-5d82-41ed-bf6d-e015e10e38da\"},{\"id\":\"9d795d52-a79d-4615-8c18-59f7a47c7df6\"},{\"type\":\"object\",\"name\":\"SaveTool\",\"id\":\"e1b5f4ae-fb39-463a-b99e-e1697cc681bb\"},{\"id\":\"cfe9ecae-28d1-4378-841c-3dcf4abb03e5\"},{\"id\":\"cdd8bd47-c872-4a05-8cb3-b8bfae53b978\"},{\"id\":\"aab7cad0-c576-4496-a0c0-29f9b0c230b9\"}],\"active_drag\":{\"id\":\"cfe9ecae-28d1-4378-841c-3dcf4abb03e5\"},\"active_scroll\":{\"id\":\"cbbc0078-5d82-41ed-bf6d-e015e10e38da\"}}},\"toolbar_location\":null,\"left\":[{\"type\":\"object\",\"name\":\"LinearAxis\",\"id\":\"e71db0ba-e5ce-4637-a6e9-135a9d6b2d89\",\"attributes\":{\"ticker\":{\"type\":\"object\",\"name\":\"BasicTicker\",\"id\":\"2b708954-14f7-40f3-972c-43920a01a543\",\"attributes\":{\"mantissas\":[1,2,5]}},\"formatter\":{\"type\":\"object\",\"name\":\"BasicTickFormatter\",\"id\":\"301a9257-cb9a-4a09-9c29-bc4f969e4ba7\"},\"axis_label\":\"pct_survived\",\"major_label_policy\":{\"type\":\"object\",\"name\":\"AllLabels\",\"id\":\"551211f9-e735-4762-83ae-5a4214887e57\"}}}],\"above\":[{\"type\":\"object\",\"name\":\"Legend\",\"id\":\"8cc8bce3-06d0-4b0b-ac49-bd3610747ef1\",\"attributes\":{\"location\":[0,0],\"orientation\":\"horizontal\",\"title\":\"first_century\",\"click_policy\":\"mute\",\"items\":[{\"type\":\"object\",\"name\":\"LegendItem\",\"id\":\"17cd60b7-1813-41bd-9d08-0f1b25abec6a\",\"attributes\":{\"label\":{\"type\":\"value\",\"value\":\"18\"},\"renderers\":[{\"id\":\"ca1517ce-bc5a-4c2f-bbbf-1067ff7336aa\"}]}},{\"type\":\"object\",\"name\":\"LegendItem\",\"id\":\"36a59a1c-d70a-45da-8e05-a2b80c17d19e\",\"attributes\":{\"label\":{\"type\":\"value\",\"value\":\"19\"},\"renderers\":[{\"id\":\"18e63f81-7aa2-4b51-a0db-b68e1d862a72\"}]}},{\"type\":\"object\",\"name\":\"LegendItem\",\"id\":\"5cf279d8-1c4e-4617-a362-b1212aa5b7cf\",\"attributes\":{\"label\":{\"type\":\"value\",\"value\":\"20\"},\"renderers\":[{\"id\":\"7ffeabeb-ca00-4ba1-97c2-05501de43fac\"}]}},{\"type\":\"object\",\"name\":\"LegendItem\",\"id\":\"4c7847a0-3bbb-4512-ac5b-f5fe4dd416f9\",\"attributes\":{\"label\":{\"type\":\"value\",\"value\":\"21\"},\"renderers\":[{\"id\":\"41bd708f-61a7-4376-b2cd-f3983f58d8bb\"}]}}]}}],\"below\":[{\"type\":\"object\",\"name\":\"LinearAxis\",\"id\":\"27da3d9c-84a7-490f-aafa-702862bfa7c7\",\"attributes\":{\"ticker\":{\"type\":\"object\",\"name\":\"BasicTicker\",\"id\":\"f92de552-db65-472b-98f5-e1e433145dfd\",\"attributes\":{\"mantissas\":[1,2,5]}},\"formatter\":{\"type\":\"object\",\"name\":\"BasicTickFormatter\",\"id\":\"9cb725db-5ff8-4119-a7ce-17d25a96bbbe\"},\"axis_label\":\"terms\",\"major_label_policy\":{\"type\":\"object\",\"name\":\"AllLabels\",\"id\":\"09529aa9-682d-4e5b-940c-8310612875dd\"}}}],\"center\":[{\"type\":\"object\",\"name\":\"Grid\",\"id\":\"333aee5c-77bb-4cc9-9882-ffd5a89ff06d\",\"attributes\":{\"axis\":{\"id\":\"27da3d9c-84a7-490f-aafa-702862bfa7c7\"},\"ticker\":{\"id\":\"f92de552-db65-472b-98f5-e1e433145dfd\"}}},{\"type\":\"object\",\"name\":\"Grid\",\"id\":\"2e397317-7363-412e-94b3-2c0e01cf18c4\",\"attributes\":{\"dimension\":1,\"axis\":{\"id\":\"e71db0ba-e5ce-4637-a6e9-135a9d6b2d89\"},\"ticker\":{\"id\":\"2b708954-14f7-40f3-972c-43920a01a543\"}}}],\"min_border_top\":10,\"min_border_bottom\":10,\"min_border_left\":10,\"min_border_right\":10,\"output_backend\":\"webgl\"}},1,1]]}},{\"type\":\"object\",\"name\":\"Spacer\",\"id\":\"ce0131fa-45de-49c5-b46f-03385d64023e\",\"attributes\":{\"name\":\"HSpacer55690\",\"stylesheets\":[\"\\n:host(.pn-loading.pn-arc):before, .pn-loading.pn-arc:before {\\n  background-image: url(\\\"data:image/svg+xml;base64,PHN2ZyB4bWxucz0iaHR0cDovL3d3dy53My5vcmcvMjAwMC9zdmciIHN0eWxlPSJtYXJnaW46IGF1dG87IGJhY2tncm91bmQ6IG5vbmU7IGRpc3BsYXk6IGJsb2NrOyBzaGFwZS1yZW5kZXJpbmc6IGF1dG87IiB2aWV3Qm94PSIwIDAgMTAwIDEwMCIgcHJlc2VydmVBc3BlY3RSYXRpbz0ieE1pZFlNaWQiPiAgPGNpcmNsZSBjeD0iNTAiIGN5PSI1MCIgZmlsbD0ibm9uZSIgc3Ryb2tlPSIjYzNjM2MzIiBzdHJva2Utd2lkdGg9IjEwIiByPSIzNSIgc3Ryb2tlLWRhc2hhcnJheT0iMTY0LjkzMzYxNDMxMzQ2NDE1IDU2Ljk3Nzg3MTQzNzgyMTM4Ij4gICAgPGFuaW1hdGVUcmFuc2Zvcm0gYXR0cmlidXRlTmFtZT0idHJhbnNmb3JtIiB0eXBlPSJyb3RhdGUiIHJlcGVhdENvdW50PSJpbmRlZmluaXRlIiBkdXI9IjFzIiB2YWx1ZXM9IjAgNTAgNTA7MzYwIDUwIDUwIiBrZXlUaW1lcz0iMDsxIj48L2FuaW1hdGVUcmFuc2Zvcm0+ICA8L2NpcmNsZT48L3N2Zz4=\\\");\\n  background-size: auto calc(min(50%, 400px));\\n}\",{\"id\":\"cef21a91-a54f-473c-96bb-a64d69ce894a\"},{\"id\":\"86f1e4a6-b490-4e5e-837a-120bedda43fb\"},{\"id\":\"e05a106c-10ec-4bed-b73d-abcf7f3d6ca8\"}],\"margin\":0,\"sizing_mode\":\"stretch_width\",\"align\":\"start\"}}]}}],\"defs\":[{\"type\":\"model\",\"name\":\"ReactiveHTML1\"},{\"type\":\"model\",\"name\":\"FlexBox1\",\"properties\":[{\"name\":\"align_content\",\"kind\":\"Any\",\"default\":\"flex-start\"},{\"name\":\"align_items\",\"kind\":\"Any\",\"default\":\"flex-start\"},{\"name\":\"flex_direction\",\"kind\":\"Any\",\"default\":\"row\"},{\"name\":\"flex_wrap\",\"kind\":\"Any\",\"default\":\"wrap\"},{\"name\":\"justify_content\",\"kind\":\"Any\",\"default\":\"flex-start\"}]},{\"type\":\"model\",\"name\":\"FloatPanel1\",\"properties\":[{\"name\":\"config\",\"kind\":\"Any\",\"default\":{\"type\":\"map\"}},{\"name\":\"contained\",\"kind\":\"Any\",\"default\":true},{\"name\":\"position\",\"kind\":\"Any\",\"default\":\"right-top\"},{\"name\":\"offsetx\",\"kind\":\"Any\",\"default\":null},{\"name\":\"offsety\",\"kind\":\"Any\",\"default\":null},{\"name\":\"theme\",\"kind\":\"Any\",\"default\":\"primary\"},{\"name\":\"status\",\"kind\":\"Any\",\"default\":\"normalized\"}]},{\"type\":\"model\",\"name\":\"GridStack1\",\"properties\":[{\"name\":\"mode\",\"kind\":\"Any\",\"default\":\"warn\"},{\"name\":\"ncols\",\"kind\":\"Any\",\"default\":null},{\"name\":\"nrows\",\"kind\":\"Any\",\"default\":null},{\"name\":\"allow_resize\",\"kind\":\"Any\",\"default\":true},{\"name\":\"allow_drag\",\"kind\":\"Any\",\"default\":true},{\"name\":\"state\",\"kind\":\"Any\",\"default\":[]}]},{\"type\":\"model\",\"name\":\"drag1\",\"properties\":[{\"name\":\"slider_width\",\"kind\":\"Any\",\"default\":5},{\"name\":\"slider_color\",\"kind\":\"Any\",\"default\":\"black\"},{\"name\":\"value\",\"kind\":\"Any\",\"default\":50}]},{\"type\":\"model\",\"name\":\"click1\",\"properties\":[{\"name\":\"terminal_output\",\"kind\":\"Any\",\"default\":\"\"},{\"name\":\"debug_name\",\"kind\":\"Any\",\"default\":\"\"},{\"name\":\"clears\",\"kind\":\"Any\",\"default\":0}]},{\"type\":\"model\",\"name\":\"FastWrapper1\",\"properties\":[{\"name\":\"object\",\"kind\":\"Any\",\"default\":null},{\"name\":\"style\",\"kind\":\"Any\",\"default\":null}]},{\"type\":\"model\",\"name\":\"NotificationAreaBase1\",\"properties\":[{\"name\":\"js_events\",\"kind\":\"Any\",\"default\":{\"type\":\"map\"}},{\"name\":\"position\",\"kind\":\"Any\",\"default\":\"bottom-right\"},{\"name\":\"_clear\",\"kind\":\"Any\",\"default\":0}]},{\"type\":\"model\",\"name\":\"NotificationArea1\",\"properties\":[{\"name\":\"js_events\",\"kind\":\"Any\",\"default\":{\"type\":\"map\"}},{\"name\":\"notifications\",\"kind\":\"Any\",\"default\":[]},{\"name\":\"position\",\"kind\":\"Any\",\"default\":\"bottom-right\"},{\"name\":\"_clear\",\"kind\":\"Any\",\"default\":0},{\"name\":\"types\",\"kind\":\"Any\",\"default\":[{\"type\":\"map\",\"entries\":[[\"type\",\"warning\"],[\"background\",\"#ffc107\"],[\"icon\",{\"type\":\"map\",\"entries\":[[\"className\",\"fas fa-exclamation-triangle\"],[\"tagName\",\"i\"],[\"color\",\"white\"]]}]]},{\"type\":\"map\",\"entries\":[[\"type\",\"info\"],[\"background\",\"#007bff\"],[\"icon\",{\"type\":\"map\",\"entries\":[[\"className\",\"fas fa-info-circle\"],[\"tagName\",\"i\"],[\"color\",\"white\"]]}]]}]}]},{\"type\":\"model\",\"name\":\"Notification\",\"properties\":[{\"name\":\"background\",\"kind\":\"Any\",\"default\":null},{\"name\":\"duration\",\"kind\":\"Any\",\"default\":3000},{\"name\":\"icon\",\"kind\":\"Any\",\"default\":null},{\"name\":\"message\",\"kind\":\"Any\",\"default\":\"\"},{\"name\":\"notification_type\",\"kind\":\"Any\",\"default\":null},{\"name\":\"_destroyed\",\"kind\":\"Any\",\"default\":false}]},{\"type\":\"model\",\"name\":\"TemplateActions1\",\"properties\":[{\"name\":\"open_modal\",\"kind\":\"Any\",\"default\":0},{\"name\":\"close_modal\",\"kind\":\"Any\",\"default\":0}]},{\"type\":\"model\",\"name\":\"BootstrapTemplateActions1\",\"properties\":[{\"name\":\"open_modal\",\"kind\":\"Any\",\"default\":0},{\"name\":\"close_modal\",\"kind\":\"Any\",\"default\":0}]},{\"type\":\"model\",\"name\":\"MaterialTemplateActions1\",\"properties\":[{\"name\":\"open_modal\",\"kind\":\"Any\",\"default\":0},{\"name\":\"close_modal\",\"kind\":\"Any\",\"default\":0}]}]}};\n",
       "  var render_items = [{\"docid\":\"972caa99-53e0-459d-a631-0a16fcbee2c4\",\"roots\":{\"e059a06b-5990-4373-8535-f6c7ef6a813c\":\"b51a8f0a-123c-46b1-bebe-ccf5bc5b1845\"},\"root_ids\":[\"e059a06b-5990-4373-8535-f6c7ef6a813c\"]}];\n",
       "  var docs = Object.values(docs_json)\n",
       "  if (!docs) {\n",
       "    return\n",
       "  }\n",
       "  const py_version = docs[0].version.replace('rc', '-rc.').replace('.dev', '-dev.')\n",
       "  const is_dev = py_version.indexOf(\"+\") !== -1 || py_version.indexOf(\"-\") !== -1\n",
       "  function embed_document(root) {\n",
       "    var Bokeh = get_bokeh(root)\n",
       "    Bokeh.embed.embed_items_notebook(docs_json, render_items);\n",
       "    for (const render_item of render_items) {\n",
       "      for (const root_id of render_item.root_ids) {\n",
       "\tconst id_el = document.getElementById(root_id)\n",
       "\tif (id_el.children.length && (id_el.children[0].className === 'bk-root')) {\n",
       "\t  const root_el = id_el.children[0]\n",
       "\t  root_el.id = root_el.id + '-rendered'\n",
       "\t}\n",
       "      }\n",
       "    }\n",
       "  }\n",
       "  function get_bokeh(root) {\n",
       "    if (root.Bokeh === undefined) {\n",
       "      return null\n",
       "    } else if (root.Bokeh.version !== py_version && !is_dev) {\n",
       "      if (root.Bokeh.versions === undefined || !root.Bokeh.versions.has(py_version)) {\n",
       "\treturn null\n",
       "      }\n",
       "      return root.Bokeh.versions.get(py_version);\n",
       "    } else if (root.Bokeh.version === py_version) {\n",
       "      return root.Bokeh\n",
       "    }\n",
       "    return null\n",
       "  }\n",
       "  function is_loaded(root) {\n",
       "    var Bokeh = get_bokeh(root)\n",
       "    return (Bokeh != null && Bokeh.Panel !== undefined)\n",
       "  }\n",
       "  if (is_loaded(root)) {\n",
       "    embed_document(root);\n",
       "  } else {\n",
       "    var attempts = 0;\n",
       "    var timer = setInterval(function(root) {\n",
       "      if (is_loaded(root)) {\n",
       "        clearInterval(timer);\n",
       "        embed_document(root);\n",
       "      } else if (document.readyState == \"complete\") {\n",
       "        attempts++;\n",
       "        if (attempts > 200) {\n",
       "          clearInterval(timer);\n",
       "\t  var Bokeh = get_bokeh(root)\n",
       "\t  if (Bokeh == null || Bokeh.Panel == null) {\n",
       "            console.warn(\"Panel: ERROR: Unable to run Panel code because Bokeh or Panel library is missing\");\n",
       "\t  } else {\n",
       "\t    console.warn(\"Panel: WARNING: Attempting to render but not all required libraries could be resolved.\")\n",
       "\t    embed_document(root)\n",
       "\t  }\n",
       "        }\n",
       "      }\n",
       "    }, 25, root)\n",
       "  }\n",
       "})(window);</script>"
      ],
      "text/plain": [
       ":Layout\n",
       "   .Table.I      :Table   [cohort_century,pct_5_yrs,pct_10_yrs,pct_15_yrs]\n",
       "   .Bars.I       :Bars   [period,term_type]   (pct_retained)\n",
       "   .NdOverlay.I  :NdOverlay   [gender]\n",
       "      :Curve   [period]   (pct_retained)\n",
       "   .NdOverlay.II :NdOverlay   [first_century]\n",
       "      :Curve   [terms]   (pct_survived)"
      ]
     },
     "execution_count": 408,
     "metadata": {
      "application/vnd.holoviews_exec.v0+json": {
       "id": "e059a06b-5990-4373-8535-f6c7ef6a813c"
      }
     },
     "output_type": "execute_result"
    }
   ],
   "source": [
    "slaid_2 = (plot_7 + plot_5 + plot_4 + plot_6).cols(2)\n",
    "slaid_2"
   ]
  },
  {
   "cell_type": "code",
   "execution_count": 409,
   "id": "d21b78f7-8bb1-41b6-bb80-7f9574ab3265",
   "metadata": {
    "tags": []
   },
   "outputs": [
    {
     "data": {},
     "metadata": {},
     "output_type": "display_data"
    },
    {
     "data": {
      "application/vnd.holoviews_exec.v0+json": "",
      "text/html": [
       "<div id='14fa064f-90e7-4c89-8c33-1cbe738ca33b'>\n",
       "  <div id=\"cc3cbb76-5496-4a34-aca3-778f780e8c7b\" data-root-id=\"14fa064f-90e7-4c89-8c33-1cbe738ca33b\" style=\"display: contents;\"></div>\n",
       "</div>\n",
       "<script type=\"application/javascript\">(function(root) {\n",
       "  var docs_json = {\"e505e2fe-0342-4098-b8fb-e17541110cf1\":{\"version\":\"3.2.1\",\"title\":\"Bokeh Application\",\"roots\":[{\"type\":\"object\",\"name\":\"Row\",\"id\":\"14fa064f-90e7-4c89-8c33-1cbe738ca33b\",\"attributes\":{\"name\":\"Row56034\",\"tags\":[\"embedded\"],\"stylesheets\":[\"\\n:host(.pn-loading.pn-arc):before, .pn-loading.pn-arc:before {\\n  background-image: url(\\\"data:image/svg+xml;base64,PHN2ZyB4bWxucz0iaHR0cDovL3d3dy53My5vcmcvMjAwMC9zdmciIHN0eWxlPSJtYXJnaW46IGF1dG87IGJhY2tncm91bmQ6IG5vbmU7IGRpc3BsYXk6IGJsb2NrOyBzaGFwZS1yZW5kZXJpbmc6IGF1dG87IiB2aWV3Qm94PSIwIDAgMTAwIDEwMCIgcHJlc2VydmVBc3BlY3RSYXRpbz0ieE1pZFlNaWQiPiAgPGNpcmNsZSBjeD0iNTAiIGN5PSI1MCIgZmlsbD0ibm9uZSIgc3Ryb2tlPSIjYzNjM2MzIiBzdHJva2Utd2lkdGg9IjEwIiByPSIzNSIgc3Ryb2tlLWRhc2hhcnJheT0iMTY0LjkzMzYxNDMxMzQ2NDE1IDU2Ljk3Nzg3MTQzNzgyMTM4Ij4gICAgPGFuaW1hdGVUcmFuc2Zvcm0gYXR0cmlidXRlTmFtZT0idHJhbnNmb3JtIiB0eXBlPSJyb3RhdGUiIHJlcGVhdENvdW50PSJpbmRlZmluaXRlIiBkdXI9IjFzIiB2YWx1ZXM9IjAgNTAgNTA7MzYwIDUwIDUwIiBrZXlUaW1lcz0iMDsxIj48L2FuaW1hdGVUcmFuc2Zvcm0+ICA8L2NpcmNsZT48L3N2Zz4=\\\");\\n  background-size: auto calc(min(50%, 400px));\\n}\",{\"type\":\"object\",\"name\":\"ImportedStyleSheet\",\"id\":\"4d35b0a3-934a-4342-9e86-a43033dacf1f\",\"attributes\":{\"url\":\"https://cdn.holoviz.org/panel/1.2.1/dist/css/loading.css\"}},{\"type\":\"object\",\"name\":\"ImportedStyleSheet\",\"id\":\"d3da4557-6842-4468-b9ea-a0bf7f139977\",\"attributes\":{\"url\":\"https://cdn.holoviz.org/panel/1.2.1/dist/css/listpanel.css\"}},{\"type\":\"object\",\"name\":\"ImportedStyleSheet\",\"id\":\"a2c60594-7b59-4f3b-89f7-a5cc905211ba\",\"attributes\":{\"url\":\"https://cdn.holoviz.org/panel/1.2.1/dist/bundled/theme/default.css\"}},{\"type\":\"object\",\"name\":\"ImportedStyleSheet\",\"id\":\"ee11bcf2-c420-4600-af40-6c4fccfd8cab\",\"attributes\":{\"url\":\"https://cdn.holoviz.org/panel/1.2.1/dist/bundled/theme/native.css\"}}],\"margin\":0,\"sizing_mode\":\"stretch_width\",\"align\":\"start\",\"children\":[{\"type\":\"object\",\"name\":\"Spacer\",\"id\":\"bf6a3af8-29a2-4f62-8a88-ce10be434abf\",\"attributes\":{\"name\":\"HSpacer56043\",\"stylesheets\":[\"\\n:host(.pn-loading.pn-arc):before, .pn-loading.pn-arc:before {\\n  background-image: url(\\\"data:image/svg+xml;base64,PHN2ZyB4bWxucz0iaHR0cDovL3d3dy53My5vcmcvMjAwMC9zdmciIHN0eWxlPSJtYXJnaW46IGF1dG87IGJhY2tncm91bmQ6IG5vbmU7IGRpc3BsYXk6IGJsb2NrOyBzaGFwZS1yZW5kZXJpbmc6IGF1dG87IiB2aWV3Qm94PSIwIDAgMTAwIDEwMCIgcHJlc2VydmVBc3BlY3RSYXRpbz0ieE1pZFlNaWQiPiAgPGNpcmNsZSBjeD0iNTAiIGN5PSI1MCIgZmlsbD0ibm9uZSIgc3Ryb2tlPSIjYzNjM2MzIiBzdHJva2Utd2lkdGg9IjEwIiByPSIzNSIgc3Ryb2tlLWRhc2hhcnJheT0iMTY0LjkzMzYxNDMxMzQ2NDE1IDU2Ljk3Nzg3MTQzNzgyMTM4Ij4gICAgPGFuaW1hdGVUcmFuc2Zvcm0gYXR0cmlidXRlTmFtZT0idHJhbnNmb3JtIiB0eXBlPSJyb3RhdGUiIHJlcGVhdENvdW50PSJpbmRlZmluaXRlIiBkdXI9IjFzIiB2YWx1ZXM9IjAgNTAgNTA7MzYwIDUwIDUwIiBrZXlUaW1lcz0iMDsxIj48L2FuaW1hdGVUcmFuc2Zvcm0+ICA8L2NpcmNsZT48L3N2Zz4=\\\");\\n  background-size: auto calc(min(50%, 400px));\\n}\",{\"id\":\"4d35b0a3-934a-4342-9e86-a43033dacf1f\"},{\"id\":\"a2c60594-7b59-4f3b-89f7-a5cc905211ba\"},{\"id\":\"ee11bcf2-c420-4600-af40-6c4fccfd8cab\"}],\"margin\":0,\"sizing_mode\":\"stretch_width\",\"align\":\"start\"}},{\"type\":\"object\",\"name\":\"GridPlot\",\"id\":\"05bb7a5c-b6f2-4353-bf4b-ace4d33213fb\",\"attributes\":{\"rows\":null,\"cols\":null,\"toolbar\":{\"type\":\"object\",\"name\":\"Toolbar\",\"id\":\"77de305c-1ae4-4eb3-836c-65146de6ad53\",\"attributes\":{\"tools\":[{\"type\":\"object\",\"name\":\"ToolProxy\",\"id\":\"00329a66-1c5f-4fc3-8dbf-bb1cf4cfddb4\",\"attributes\":{\"tools\":[{\"type\":\"object\",\"name\":\"WheelZoomTool\",\"id\":\"adba10fa-d3c5-47c0-b8a1-da4e84fa0360\",\"attributes\":{\"tags\":[\"hv_created\"],\"zoom_together\":\"none\"}},{\"type\":\"object\",\"name\":\"WheelZoomTool\",\"id\":\"dd356033-9e9d-4067-bf08-b96826ebce62\",\"attributes\":{\"tags\":[\"hv_created\"],\"zoom_together\":\"none\"}}]}},{\"type\":\"object\",\"name\":\"ToolProxy\",\"id\":\"8da8a442-f366-4c38-bd5f-094b9a7f632a\",\"attributes\":{\"tools\":[{\"type\":\"object\",\"name\":\"HoverTool\",\"id\":\"1455d4b9-cee7-4b99-8e76-711b3d1b1c17\",\"attributes\":{\"tags\":[\"hv_created\"],\"renderers\":[{\"type\":\"object\",\"name\":\"GlyphRenderer\",\"id\":\"63097372-3795-4b81-a930-c076fd6af029\",\"attributes\":{\"name\":\"pct_18\",\"data_source\":{\"type\":\"object\",\"name\":\"ColumnDataSource\",\"id\":\"930997b2-cb5e-4ce0-a411-57beadde4ab5\",\"attributes\":{\"selected\":{\"type\":\"object\",\"name\":\"Selection\",\"id\":\"e3176aee-2aab-4dd8-9bba-1bf0e70f59f6\",\"attributes\":{\"indices\":[],\"line_indices\":[]}},\"selection_policy\":{\"type\":\"object\",\"name\":\"UnionRenderers\",\"id\":\"8f898ea4-302a-4c08-b530-be3144ba62c5\"},\"data\":{\"type\":\"map\",\"entries\":[[\"x\",{\"type\":\"ndarray\",\"array\":{\"type\":\"bytes\",\"data\":\"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\"},\"shape\":[458],\"dtype\":\"float64\",\"order\":\"little\"}],[\"y\",{\"type\":\"ndarray\",\"array\":{\"type\":\"bytes\",\"data\":\"AAAAAAAAAAAAAAAAAAAAAAAAAAAAAAAAAAAAAAAAAAAAAAAAAAAAAAAAAAAAAAAAAAAAAAAAAAAAAAAAAAAAAAAAAAAAAAAAAAAAAAAAAAAAAAAAAAAAAAAAAAAAAAAAAAAAAAAAAAAAAAAAAAAAAAAAAAAAAAAAAAAAAAAAAAAAAAAAAAAAAAAAAAAAAAAAAAAAAAAAAAAAAAAAAAAAAAAAAAAAAAAAAAAAAAAAAAAAAAAAAAAAAAAAAAAAAAAAAAAAAAAAAAAAAAAAAAAAAAAAAAAAAAAAAAAAAAAAAAAAAAAAAAAAAAAAAAAAAAAAAAAAAAAAAAAAAAAAAAAAAAAAAAAAAAAAAAAAAAAAAAAAAAAAAAAAAAAAAAAAAAAAAAAAAAAAAAAAAAAAAAAAAAAAAAAAAAAAAAAAAAAAAAAAAAAAAAAAAAAAAAAAAAAAAAAAAAAAAAAAAAAAAAAAAAAAAAAAAAAAAAAAAAAAAAAAAAAAAAAAAAAAAAAAAAAAAAAAAAAAAAAAAAAAAAAAAAAAAAAAAAAAAAAAAAAAAAAAAAAAAAAAAAAAAAAAAAAAAAAAAAAAAAAAAAAAAAAAAAAAAAAAAAAAAAAAAAAAAAAAAAAAAAAAAAAAAAAAAAAAAAAAAAAAAAAAAAAAAAAAAAAAAAAAAAAAAAAAAAAAAAAAAAAAAAAAAAAAAAAAAAAAAAAAAAAAAAAAAAAAAAAAAAAAAAAAAAAAAAAAAAAAAAAAAAAAAAAAAAAAAAAAAAAAAAAAAAAAAAAAAAAAAAAAAAAAAAAAAAAAAAAAAAAAAAAAAAAAAAAAAAAAAAAAAAAAAAAAAAAAAAAAAAAAAAAAAAAAAAAAAAAAAAAAAAAAAAAAAAAAAAAAAAAAAAAAAAAAAAAAAAAAAAAAAAAAAAAAAAAAAAAAAAAAAAAAAAAAAAAAAAAAAAAAAAAAAAAAAAAAAAAAAAAAAAAAAAAAAAAAAAAAAAAAAAAAAAAAAAAAAAAAAAAAAAAAAAAAAAAAAAAAAAAAAAAAAAAAAAAAAAAAAAAAAAAAAAAAAAAAAAAAAAAAAAAAAAAAAAAAAAAAAAAAAAAAAAAAAAAAAAAAAAAAAAAAAAAAAAAAAAAAAAAAAAAAAAAAAAAAAAAAAAAAAAAAAAAAAAAAAAAAAAAAAAAAAAAAAAAAAAAAAAAAAAAAAAAAAAAAAAAAAAAAAAAAAAAAAAAAAAAAAAAAAAAAAAAAAAAAAAAAAAAAAAAAAAAAAAAAAAAAAAAAAAAAAAAAAAAAAAAAAAAAAAAAAAAAAAAAAAAAAAAAAAAAAAAAAAAAAAAAAAAAAAAAAAAAAAAAAAAAAAAAAAAAAAAAAAAAAAAAAAAAAAAAAAAAAAAAAAAAAAAAAAAAAAAAAAAAAAAAAAAAAAAAAAAAAAAAAAAAAAAAAAAAAAAAAAAAAAAAAAAAAAAAAAAAAAAAAAAAAAAAAAAAAAAAAAAAAAAAAAAAAAAAAAAAAAAAAAAAAAAAAAAAAAAAAAAAAAAAAAAAAAAAAAAAAAAAAAAAAAAAAAAAAAAAAAAAAAAAAAAAAAAAAAAAAAAAAAAAAAAAAAAAAAAAAAAAAAAAAAAAAAAAAAAAAAAAAAAAAAAAAAAAAAAAAAAAAAAAAAAAAAAAAAAAAAAAAAAAAAAAAAAAAAAAAAAAAAAAAAAAAAAAAAAAAAAAAAAAAAAAAAAAAAAAAAAAAAAAAAAAAAAAAAAAAAAAAAAAAAAAAAAAAAAAAAAAAAAAAAAAAAAAAAAAAAAAAAAAAAAAAAAAAAAAAAAAAAAAAAAAAAAAAAAAAAAAAAAAAAAAAAAAAAAAAAAAAAAAAAAAAAAAAAAAAAAAAAAAAAAAAAAAAAAAAAAAAAAAAAAAAAAAAAAAAAAAAAAAAAAAAAAAAAAAAAAAAAAAAAAAAAAAAAAAAAAAAAAAAAAAAAAAAAAAAAAAAAAAAAAAAAAAAAAAAAAAAAAAAAAAAAAAAAAAAAAAAAAAAAAAAAAAAAAAAAAAAAAAAAAAAAAAAAAAAAAAAAAAAAAAAAAAAAAAAAAAAAAAAAAAAAAAAAAAAAAAAAAAAAAAAAAAAAAAAAAAAAAAAAAAAAAAAAAAAAAAAAAAAAAAAAAAAAAAAAAAAAAAAAAAAAAAAAAAAAAAAAAAAAAAAAAAAAAAAAAAAAAAAAAAAAAAAAAAAAAAAAAAAAAAAAAAAAAAAAAAAAAAAAAAAAAAAAAAAAAAAAAAAAAAAAAAAAAAAAAAAAAAAAAAAAAAAAAAAAAAAAAAAAAAAAAAAAAAAAAAAAAAAAAAAAAAAAAAAAAAAAAAAAAAAAAAAAAAAAAAAAAAAAAAAAAAAAAAAAAAAAAAAAAAAAAAAAAAAAAAAAAAAAAAAAAAAAAAAAAAAAAAAAAAAAAAAAAAAAAAAAAAAAAAAAAAAAAAAAAAAAAAAAAAAAAAAAAAAAAAAAAAAAAAAAAAAAAAAAAAAAAAAAAAAAAAAAAAAAAAAAAAAAAAAAAAAAAAAAAAAAAAAAAAAAAAAAAAAAAAAAAAAAAAAAAAAAAAAAAAAAAAAAAAAAAAAAAAAAAAAAAAAAAAAAAAAAAAAAAAAAAAAAAAAAAAAAAAAAAAAAAAAAAAAAAAAAAAAAAAAAAAAAAAAAAAAAAAAAAAAAAAAAAAAAAAAAAAAAAAAAAAAAAAAAAAAAAAAAAAAAAAAAAAAAAAAAAAAAAAAAAAAAAAAAAAAAAAAAAAAAAAAAAAAAAAAAAAAAAAAAAAAAAAAAAAAAAAAAAAAAAAAAAAAAAAAAAAAAAAAAAAAAAAAAAAAAAAAAAAAAAAAAAAAAAAAAAAAAAAAAAAAAAAAAAAAAAAAAAAAAAAAAAAAAAAAAAAAAAAAAAAAAAAAAAAAAAAAAAAAAAAAAAAAAAAAAAAAAAAAAAAAAAAAAAAAAAAAAAAAAAAAAAAAAAAAAAAAAAAAAAAAAAAAAAAAAAAAAAAAAAAAAAAAAAAAAAAAAAAAAAAAAAAAAAAAAAAAAAAAAAAAAAAAAAAAAAAAAAAAAAAAAAAAAAAAAAAAAAAAAAAAAAAAAAAAAAAAAAAAAAAAAAAAAAAAAAAAAAAAAAAAAAAAAAAAAAAAAAAAAAAAAAAAAAAAAAAAAAAAAAAAAAAAAAAAAAAAAAAAAAAAAAAAAAAAAAAAAAAAAAAAAAAAAAAAAAAAAAAAAAAAAAAAAAAAAAAAAAAAAAAAAAAAAAAAAAAAAAAAAAAAAAAAAAAAAAAAAAAAAAAAAAAAAAAAAAAAAAAAAAAAAAAAAAAAAAAAAAAAAAAAAAAAAAAAAAAAAAAAAAAAAAAAAAAAAAAAAAAAAAAAAAAAAAAAAAAAAAAAAAAAAAAAAAAAAAAAAAAAAAAAAAAAAAAAAAAAAAAAAAAAAAAAAAAAAAAAAAAAAAAAAAAAAAAAAAAAAAAAAAAAAAAAAAAAAAAAAAAAAAAAAAAAAAAAAAAAAAAAAAAAAAAAAAAAAAAAAAAAAAAAAAAAAAAAAAAAAAAAAAAAAAAAAAAAAAAAAAAAAAAAAAAAAAAAAAAAAAAAAAAAAAAAAAAAAAAAAAAAAAAAAAAAAAAAAAAAAAAAAAAAAAAAAAAAAAAAAAAAAAAAAAAAAAAAAAAAAAAAAAAAAAAAAAAAAAAAAAAAAAAAAAAAAAAAAAAAAAAAAAAAAAAAAAAAAAAAAAAAAAAAAAAAAAAAAAAAAAAAAAAAAAAAAAAAAAAAAAAAAAAAAAAAAAAAAAAAAAAAAAAAAAAAAAAAAAAAAAAAAAAAAAAAAAAAAAAAAAAAAAAAAAAAAAAAAAAAAAAAAAAAAAAAAAAAAAAAAAAAAAAAAAAAAAAAAAAAAAAAAAAAAAAAAAAAAAAAAAAAAAAAAAAAAAAAAAAAAAAAAAAAAAAAAAAAAAAAAAAAAAAAAAAAAAAAAAAAAAAAAAAAAAAAAAAAAAAAAAAAAAAAAAAAAAAAAAAAAAAAAAAAAAAAAAAAAAAAAAAAAAAAAAAAAAAAAAAAAAAAAAAAAAAAAAAAAAAAAAAAAAAAAAAAAAAAAAAAAAAAAAAAAAAAAAAAAAAAAAAAAAAAAAAAAAAAAAAAAAAAAAAAAAAAAAAAAAAAAAAAAAAAAAAAAAAAAAAAAAAAAAAAAAAAAAAAAAAAAAAAAAAAAAAAAAAAAAAAAAAAAAAAAAAAAAAAAAAAAAAAAAAAAAAAAAAAAAAAAAAAAAAAAAAAAAAAAAAAAAAAAAAAAAAAAAAAAAAAAAAAAAAAAAAAAAAAAAAAAAAAAAAAAAAAAAAAAAAAAAAAAAAAAAAAAAAAAAAAAAAAAAAAAAAAAAAAAAAAAAAAAAAAAAAAAAAAAAAAAAAAAAAAAAAAAAAAAAAAAAAAAAAAAAAAAAAAAAKrMnNKpTUP5mK55rVYdQ/pNNvK80a5z8WspCFLGTxP5vBW8Rm8PY/pNNvK80a9z800UQTTTQBQC/ZAYZzNwRA/HapJ+O3A0C3bdu2bdsGQBwpGuKPWwdAiIeHh4eHB0AaYbmnEZYLQG1JW9KWtAVAd9Lw+qiNFEAzMzMzMzMTQO7qm+T9dRBA4ttB4ttBEkDgLDw/pochQBGQ81MJASFADcE62rxPJUDDxPuR03wlQF3XdV3XdTFAL7rooosuMkA+rgKCIdkyQGmQBmmQBjVAkWwRzVmDNkCrqqqqquo2QFVVVVVVpTxAC2JyBTG5PEDKFcTkCuJCQDi96U1vekJAtNpZ7ax2TkBa+QlxVn5PQAAAAAAAAFlAAAAAAAAAWUAAAAAAAABZQAAAAAAAAFlAAAAAAAAAWUAAAAAAAABZQAAAAAAAAFlAAAAAAAAAWUAAAAAAAABZQAAAAAAAAFlAAAAAAAAAWUAAAAAAAABZQA==\"},\"shape\":[458],\"dtype\":\"float64\",\"order\":\"little\"}]]}}},\"view\":{\"type\":\"object\",\"name\":\"CDSView\",\"id\":\"5bbb5e29-d413-410c-9034-df30c0ffe82b\",\"attributes\":{\"filter\":{\"type\":\"object\",\"name\":\"AllIndices\",\"id\":\"d1c5c897-9207-405a-a323-a02e398be900\"}}},\"glyph\":{\"type\":\"object\",\"name\":\"Patch\",\"id\":\"d097fba4-4404-4aab-8e44-f5ca198caad3\",\"attributes\":{\"tags\":[\"apply_ranges\"],\"x\":{\"type\":\"field\",\"field\":\"x\"},\"y\":{\"type\":\"field\",\"field\":\"y\"},\"fill_color\":\"#30a2da\",\"hatch_color\":\"#30a2da\"}},\"selection_glyph\":{\"type\":\"object\",\"name\":\"Patch\",\"id\":\"7c6c766e-76ba-4704-bc89-6b50c00faa3b\",\"attributes\":{\"tags\":[\"apply_ranges\"],\"x\":{\"type\":\"field\",\"field\":\"x\"},\"y\":{\"type\":\"field\",\"field\":\"y\"},\"fill_color\":\"#30a2da\",\"hatch_color\":\"#30a2da\"}},\"nonselection_glyph\":{\"type\":\"object\",\"name\":\"Patch\",\"id\":\"a1ffa6b4-93fd-4653-9ce6-6a3d203c13c7\",\"attributes\":{\"tags\":[\"apply_ranges\"],\"x\":{\"type\":\"field\",\"field\":\"x\"},\"y\":{\"type\":\"field\",\"field\":\"y\"},\"line_alpha\":1,\"fill_color\":\"#30a2da\",\"fill_alpha\":1,\"hatch_color\":\"#30a2da\",\"hatch_alpha\":0.1}},\"muted_glyph\":{\"type\":\"object\",\"name\":\"Patch\",\"id\":\"90046536-0df0-4053-9b17-303bc2f58895\",\"attributes\":{\"tags\":[\"apply_ranges\"],\"x\":{\"type\":\"field\",\"field\":\"x\"},\"y\":{\"type\":\"field\",\"field\":\"y\"},\"line_alpha\":0.2,\"fill_color\":\"#30a2da\",\"fill_alpha\":0.2,\"hatch_color\":\"#30a2da\",\"hatch_alpha\":0.2}}}},{\"type\":\"object\",\"name\":\"GlyphRenderer\",\"id\":\"6e99b646-fdd9-49dc-ab4d-e8fa9892258a\",\"attributes\":{\"name\":\"pct_19\",\"data_source\":{\"type\":\"object\",\"name\":\"ColumnDataSource\",\"id\":\"5d45ab61-6760-40df-aab2-d42530cb6a00\",\"attributes\":{\"selected\":{\"type\":\"object\",\"name\":\"Selection\",\"id\":\"0ebf76b9-c95f-4246-b05a-91146b3247e0\",\"attributes\":{\"indices\":[],\"line_indices\":[]}},\"selection_policy\":{\"type\":\"object\",\"name\":\"UnionRenderers\",\"id\":\"d1f1971c-6254-4f88-9694-f18406799505\"},\"data\":{\"type\":\"map\",\"entries\":[[\"x\",{\"type\":\"ndarray\",\"array\":{\"type\":\"bytes\",\"data\":\"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\"},\"shape\":[458],\"dtype\":\"float64\",\"order\":\"little\"}],[\"y\",{\"type\":\"ndarray\",\"array\":{\"type\":\"bytes\",\"data\":\"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\"},\"shape\":[458],\"dtype\":\"float64\",\"order\":\"little\"}]]}}},\"view\":{\"type\":\"object\",\"name\":\"CDSView\",\"id\":\"7942881f-b9f2-47cd-b514-6b9d82f975b8\",\"attributes\":{\"filter\":{\"type\":\"object\",\"name\":\"AllIndices\",\"id\":\"dc87f34f-7e02-49a6-9b23-7cbf60f69430\"}}},\"glyph\":{\"type\":\"object\",\"name\":\"Patch\",\"id\":\"6b1fcf73-39d1-463a-8df1-fe920a90c89b\",\"attributes\":{\"tags\":[\"apply_ranges\"],\"x\":{\"type\":\"field\",\"field\":\"x\"},\"y\":{\"type\":\"field\",\"field\":\"y\"},\"fill_color\":\"#fc4f30\",\"hatch_color\":\"#fc4f30\"}},\"selection_glyph\":{\"type\":\"object\",\"name\":\"Patch\",\"id\":\"3e2c4b65-fc76-474d-8092-f3782b7c704d\",\"attributes\":{\"tags\":[\"apply_ranges\"],\"x\":{\"type\":\"field\",\"field\":\"x\"},\"y\":{\"type\":\"field\",\"field\":\"y\"},\"fill_color\":\"#fc4f30\",\"hatch_color\":\"#fc4f30\"}},\"nonselection_glyph\":{\"type\":\"object\",\"name\":\"Patch\",\"id\":\"39aa9ecb-6fe0-49e9-a954-2437427f3954\",\"attributes\":{\"tags\":[\"apply_ranges\"],\"x\":{\"type\":\"field\",\"field\":\"x\"},\"y\":{\"type\":\"field\",\"field\":\"y\"},\"line_alpha\":1,\"fill_color\":\"#fc4f30\",\"fill_alpha\":1,\"hatch_color\":\"#fc4f30\",\"hatch_alpha\":0.1}},\"muted_glyph\":{\"type\":\"object\",\"name\":\"Patch\",\"id\":\"5d6ef794-c3d6-4227-9334-0968f6c6c6cf\",\"attributes\":{\"tags\":[\"apply_ranges\"],\"x\":{\"type\":\"field\",\"field\":\"x\"},\"y\":{\"type\":\"field\",\"field\":\"y\"},\"line_alpha\":0.2,\"fill_color\":\"#fc4f30\",\"fill_alpha\":0.2,\"hatch_color\":\"#fc4f30\",\"hatch_alpha\":0.2}}}},{\"type\":\"object\",\"name\":\"GlyphRenderer\",\"id\":\"930521aa-7896-41ab-b6a0-3da8d89afb16\",\"attributes\":{\"name\":\"pct_20\",\"data_source\":{\"type\":\"object\",\"name\":\"ColumnDataSource\",\"id\":\"ddc4fb45-58da-4eeb-866a-8f367ff9aba5\",\"attributes\":{\"selected\":{\"type\":\"object\",\"name\":\"Selection\",\"id\":\"48e49a17-abb9-4c84-aa48-ab196b6dc8ff\",\"attributes\":{\"indices\":[],\"line_indices\":[]}},\"selection_policy\":{\"type\":\"object\",\"name\":\"UnionRenderers\",\"id\":\"8b903b24-3589-419a-b870-2ddca9c90b3c\"},\"data\":{\"type\":\"map\",\"entries\":[[\"x\",{\"type\":\"ndarray\",\"array\":{\"type\":\"bytes\",\"data\":\"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\"},\"shape\":[458],\"dtype\":\"float64\",\"order\":\"little\"}],[\"y\",{\"type\":\"ndarray\",\"array\":{\"type\":\"bytes\",\"data\":\"AAAAAAAAWUAAAAAAAABZQAAAAAAAAFlAAAAAAAAAWUAAAAAAAABZQAAAAAAAAFlAAAAAAAAAWUAAAAAAAABZQAAAAAAAAFlAAAAAAAAAWUAAAAAAAABZQAAAAAAAAFlAAAAAAAAAWUAAAAAAAABZQAAAAAAAAFlAAAAAAAAAWUAAAAAAAABZQAAAAAAAAFlAAAAAAAAAWUAAAAAAAABZQAAAAAAAAFlAAAAAAAAAWUAAAAAAAABZQAAAAAAAAFlAAAAAAAAAWUAAAAAAAABZQAAAAAAAAFlAAAAAAAAAWUAAAAAAAABZQAAAAAAAAFlAAAAAAAAAWUAAAAAAAABZQAAAAAAAAFlAAAAAAAAAWUAAAAAAAABZQAAAAAAAAFlAAAAAAAAAWUAAAAAAAABZQAAAAAAAAFlAAAAAAAAAWUAAAAAAAABZQAAAAAAAAFlAAAAAAAAAWUAAAAAAAABZQAAAAAAAAFlAAAAAAAAAWUAAAAAAAABZQAAAAAAAAFlAAAAAAAAAWUAAAAAAAABZQAAAAAAAAFlAAAAAAAAAWUAAAAAAAABZQAAAAAAAAFlAAAAAAAAAWUAAAAAAAABZQAAAAAAAAFlAAAAAAAAAWUAAAAAAAABZQAAAAAAAAFlAAAAAAAAAWUAAAAAAAABZQAAAAAAAAFlAAAAAAAAAWUAAAAAAAABZQAAAAAAAAFlAAAAAAAAAWUAAAAAAAABZQAAAAAAAAFlAAAAAAAAAWUAAAAAAAABZQAAAAAAAAFlAAAAAAAAAWUAAAAAAAABZQAAAAAAAAFlAAAAAAAAAWUAAAAAAAABZQAAAAAAAAFlAAAAAAAAAWUAAAAAAAABZQAAAAAAAAFlAAAAAAAAAWUAAAAAAAABZQAAAAAAAAFlAAAAAAAAAWUAAAAAAAABZQAAAAAAAAFlAAAAAAAAAWUAAAAAAAABZQAAAAAAAAFlAAAAAAAAAWUAAAAAAAABZQAAAAAAAAFlAAAAAAAAAWUAAAAAAAABZQAAAAAAAAFlAAAAAAAAAWUAAAAAAAABZQAAAAAAAAFlAAAAAAAAAWUAAAAAAAABZQAAAAAAAAFlAAAAAAAAAWUAAAAAAAABZQAAAAAAAAFlAAAAAAAAAWUAAAAAAAABZQAAAAAAAAFlAAAAAAAAAWUAAAAAAAABZQC4kimyeRVNApQHvBM0OU0AAAAAAACBMQAvdsath6UtAtBnfHymYR0DO+P5IwWRHQAuttAsflUNARoKaCtGGQ0DX9v0bP5w/QLk9vz8VBz9A9hPYT2A/NUDLNMs0yzQ1QAAAAAAAAC5AHG644YYbLkB/sgQ27ScrQDELyBeJUitAPvjggw8+KEDgV/SttHcnQAto3K3zCiBAPqg6hbn4H0Bhpq4U/0kbQIWeIurXCxtAp6wpa8qaEkCLtWnCXYQQQPwUlwzBOgpArss74EjRCECLnjwmlmYEQGnWuFggqQVAz3qQQJdXAkAC2h2NbBj/P/qzOR6iwvk/mIbInceT+T9LLjxOfyXXP0YXXXTRRdc/iIeHh4eH1z/D2WmZq1DXP8PZaZmrUNc/AnGh5iQQ1z/RFi6L/9DWP8A+sqg/vMY/AAAAAAAAAAAAAAAAAAAAAAAAAAAAAAAAAAAAAAAAAAAAAAAAAAAAAAAAAAAAAAAAAAAAAAAAAAAAAAAAAAAAAAAAAAAAAAAAAAAAAAAAAAAAAAAAAAAAAAAAAAAAAAAAAAAAAAAAAAAAAAAAAAAAAAAAAAAAAAAAAAAAAAAAAAAAAAAAAAAAAAAAAAAAAAAAAAAAAAAAAAAAAAAAAAAAAAAAAAAAAAAAAAAAAAAAAAAAAAAAAAAAAAAAAAAAAAAAAAAAAAAAAAAAAAAAAAAAAAAAAAAAAAAAAAAAAAAAAAAAAAAAAAAAAAAAAAAAAAAAAAAAAAAAAAAAAAAAAAAAAAAAAAAAAAAAAAAAAAAAAAAAAAAAAAAAAAAAAAAAAAAAAAAAAAAAAAAAAAAAAAAAAAAAAAAAAAAAAAAAAAAAAAAAAAAAAAAAAAAAAAAAAAAAAAAAAAAAAAAAAAAAAAAAAAAAAAAAAAAAAAAAAAAAAAAAAAAAAAAAAAAAAAAAAAAAAAAAAAAAAAAAAAAAAAAAAAAAAAAAAAAAAAAAAAAAAAAAAAAAAAAAAAAAAAAAAAAAAAAAAAAAAAAAAAAAAAAAAAAAAAAAAAAAAAAAAAAAAAAAAAAAAAAAAAAAAAAAAAAAAAAAAAAAAAAAAAAAAAAAAAAAAAAAAAAAAAAAAAAAAAAAAAAAAAAAAAAAAAAAAAAAAAAAAAAAAAAAAAAAAAAAAAAAAAAAAAAAAAAAAAAAAAAAAAAAAAAAAAAAAAAAAAAAAAAAAAAAAAAAAAAAAAAAAAAAAAAAAAAAAAAAAAAAAAAAAAAAAAAAAAAAAAAAAAAAAAAAAAAAAADypJZkNRAyQAYcnyNvojZAeUXTKl8MN0C+hPYS2ks6QKuqqqqqqjpA9feE03VzQECbu6+KVMpAQLss1aDzAEVAOY7jOI5jRUDaS2gvob1JQNRAo5NoP0pAlS+Gf+LaTkDx9gpRxmBPQJ0H2FHS71FAxiDh0gz/UUDRtMoXw79TQIU4Kz8hzlNA0CzypJZkVkC+hPYS2otWQAAAAAAAAFlAAAAAAAAAWUAAAAAAAABZQAAAAAAAAFlAAAAAAAAAWUAAAAAAAABZQAAAAAAAAFlAAAAAAAAAWUAAAAAAAABZQAAAAAAAAFlAAAAAAAAAWUAAAAAAAABZQAAAAAAAAFlAAAAAAAAAWUAAAAAAAABZQAAAAAAAAFlAAAAAAAAAWUAAAAAAAABZQAAAAAAAAFlAAAAAAAAAWUAAAAAAAABZQAAAAAAAAFlAAAAAAAAAWUAAAAAAAABZQAAAAAAAAFlAAAAAAAAAWUAAAAAAAABZQAAAAAAAAFlAAAAAAAAAWUAAAAAAAABZQAAAAAAAAFlAAAAAAAAAWUAAAAAAAABZQAAAAAAAAFlAAAAAAAAAWUAAAAAAAABZQAAAAAAAAFlAAAAAAAAAWUAAAAAAAABZQAAAAAAAAFlAAAAAAAAAWUAAAAAAAABZQAAAAAAAAFlAAAAAAAAAWUAAAAAAAABZQAAAAAAAAFlAAAAAAAAAWUAAAAAAAABZQAAAAAAAAFlAAAAAAAAAWUAAAAAAAABZQAAAAAAAAFlAAAAAAAAAWUAAAAAAAABZQAAAAAAAAFlAAAAAAAAAWUAAAAAAAABZQAAAAAAAAFlAAAAAAAAAWUAAAAAAAABZQAAAAAAAAFlAAAAAAAAAWUAAAAAAAABZQAAAAAAAAFlAAAAAAAAAWUAAAAAAAABZQAAAAAAAAFlAAAAAAAAAWUAAAAAAAABZQAAAAAAAAFlAAAAAAAAAWUAAAAAAAABZQAAAAAAAAFlAAAAAAAAAWUAAAAAAAABZQAAAAAAAAFlAAAAAAAAAWUAAAAAAAABZQAAAAAAAAFlAAAAAAAAAWUAAAAAAAABZQAAAAAAAAFlAAAAAAAAAWUAAAAAAAABZQAAAAAAAAFlAAAAAAAAAWUAAAAAAAABZQAAAAAAAAFlAAAAAAAAAWUAAAAAAAABZQAAAAAAAAFlAAAAAAAAAWUAAAAAAAABZQAAAAAAAAFlAAAAAAAAAWUAAAAAAAABZQAAAAAAAAFlAAAAAAAAAWUAAAAAAAABZQAAAAAAAAFlAAAAAAAAAWUAAAAAAAABZQAAAAAAAAFlAAAAAAAAAWUAAAAAAAABZQAAAAAAAAFlAAAAAAAAAWUAAAAAAAABZQAAAAAAAAFlAAAAAAAAAWUAAAAAAAABZQAAAAAAAAFlAAAAAAAAAWUAAAAAAAABZQAAAAAAAAFlAAAAAAAAAWUAAAAAAAABZQAAAAAAAAFlAAAAAAAAAWUAAAAAAAABZQAAAAAAAAFlAAAAAAAAAWUAAAAAAAABZQAAAAAAAAFlAAAAAAAAAWUAAAAAAAABZQAAAAAAAAFlAAAAAAAAAWUAAAAAAAABZQAAAAAAAAFlAAAAAAAAAWUAAAAAAAABZQAAAAAAAAFlAAAAAAAAAWUAAAAAAAABZQAAAAAAAAFlAAAAAAAAAWUAAAAAAAABZQAAAAAAAAFlAAAAAAAAAWUAAAAAAAABZQAAAAAAAAFlAAAAAAAAAWUAAAAAAAABZQAAAAAAAAFlAAAAAAAAAWUAAAAAAAABZQAAAAAAAAFlAAAAAAAAAWUAAAAAAAABZQAAAAAAAAFlAAAAAAAAAWUAAAAAAAABZQAAAAAAAAFlAAAAAAAAAWUAAAAAAAABZQAAAAAAAAFlAAAAAAAAAWUAAAAAAAABZQAAAAAAAAFlAAAAAAAAAWUAAAAAAAABZQAAAAAAAAFlAAAAAAAAAWUAAAAAAAABZQAAAAAAAAFlAAAAAAAAAWUAAAAAAAABZQAAAAAAAAFlAAAAAAAAAWUAAAAAAAABZQAAAAAAAAFlAAAAAAAAAWUAAAAAAAABZQAAAAAAAAFlAAAAAAAAAWUAAAAAAAABZQAAAAAAAAFlAAAAAAAAAWUAAAAAAAABZQAAAAAAAAFlAAAAAAAAAWUAAAAAAAABZQAAAAAAAAFlAAAAAAAAAWUAAAAAAAABZQAAAAAAAAFlAAAAAAAAAWUAAAAAAAABZQAAAAAAAAFlAAAAAAAAAWUAAAAAAAABZQAAAAAAAAFlAAAAAAAAAWUAAAAAAAABZQAAAAAAAAFlAAAAAAAAAWUAAAAAAAABZQAAAAAAAAFlAAAAAAAAAWUAAAAAAAABZQAAAAAAAAFlAAAAAAAAAWUAAAAAAAABZQAAAAAAAAFlAAAAAAAAAWUAAAAAAAABZQAAAAAAAAFlAAAAAAAAAWUAAAAAAAABZQA==\"},\"shape\":[458],\"dtype\":\"float64\",\"order\":\"little\"}]]}}},\"view\":{\"type\":\"object\",\"name\":\"CDSView\",\"id\":\"99a43cda-ff7a-4e8a-a0f9-c0277e27a9fb\",\"attributes\":{\"filter\":{\"type\":\"object\",\"name\":\"AllIndices\",\"id\":\"92b381c7-8d3a-4411-a72e-1d2fdc52a5c8\"}}},\"glyph\":{\"type\":\"object\",\"name\":\"Patch\",\"id\":\"c0e3f2dd-3307-48ba-8ef6-7abf559a5dcf\",\"attributes\":{\"tags\":[\"apply_ranges\"],\"x\":{\"type\":\"field\",\"field\":\"x\"},\"y\":{\"type\":\"field\",\"field\":\"y\"},\"fill_color\":\"#e5ae38\",\"hatch_color\":\"#e5ae38\"}},\"selection_glyph\":{\"type\":\"object\",\"name\":\"Patch\",\"id\":\"87de78f7-28c8-48be-9840-225944cfabec\",\"attributes\":{\"tags\":[\"apply_ranges\"],\"x\":{\"type\":\"field\",\"field\":\"x\"},\"y\":{\"type\":\"field\",\"field\":\"y\"},\"fill_color\":\"#e5ae38\",\"hatch_color\":\"#e5ae38\"}},\"nonselection_glyph\":{\"type\":\"object\",\"name\":\"Patch\",\"id\":\"a47ac981-4f37-41c0-bb8e-be71b8f8167f\",\"attributes\":{\"tags\":[\"apply_ranges\"],\"x\":{\"type\":\"field\",\"field\":\"x\"},\"y\":{\"type\":\"field\",\"field\":\"y\"},\"line_alpha\":1,\"fill_color\":\"#e5ae38\",\"fill_alpha\":1,\"hatch_color\":\"#e5ae38\",\"hatch_alpha\":0.1}},\"muted_glyph\":{\"type\":\"object\",\"name\":\"Patch\",\"id\":\"56b2dd57-4cb9-4fb4-9729-0ead0db194ab\",\"attributes\":{\"tags\":[\"apply_ranges\"],\"x\":{\"type\":\"field\",\"field\":\"x\"},\"y\":{\"type\":\"field\",\"field\":\"y\"},\"line_alpha\":0.2,\"fill_color\":\"#e5ae38\",\"fill_alpha\":0.2,\"hatch_color\":\"#e5ae38\",\"hatch_alpha\":0.2}}}},{\"type\":\"object\",\"name\":\"GlyphRenderer\",\"id\":\"f81af669-c484-4c0f-9ebf-2e5edb213a0a\",\"attributes\":{\"name\":\"pct_21\",\"data_source\":{\"type\":\"object\",\"name\":\"ColumnDataSource\",\"id\":\"53bf1060-9f4a-400f-8682-a76dec5d75bb\",\"attributes\":{\"selected\":{\"type\":\"object\",\"name\":\"Selection\",\"id\":\"2820f4af-9739-428d-882b-8cefb21583dd\",\"attributes\":{\"indices\":[],\"line_indices\":[]}},\"selection_policy\":{\"type\":\"object\",\"name\":\"UnionRenderers\",\"id\":\"893fc80e-d9ec-4f7d-9317-e63b66328269\"},\"data\":{\"type\":\"map\",\"entries\":[[\"x\",{\"type\":\"ndarray\",\"array\":{\"type\":\"bytes\",\"data\":\"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\"},\"shape\":[458],\"dtype\":\"float64\",\"order\":\"little\"}],[\"y\",{\"type\":\"ndarray\",\"array\":{\"type\":\"bytes\",\"data\":\"AAAAAAAAWUAAAAAAAABZQAAAAAAAAFlAAAAAAAAAWUAAAAAAAABZQAAAAAAAAFlAAAAAAAAAWUAAAAAAAABZQAAAAAAAAFlAAAAAAAAAWUAAAAAAAABZQAAAAAAAAFlAAAAAAAAAWUAAAAAAAABZQAAAAAAAAFlAAAAAAAAAWUAAAAAAAABZQAAAAAAAAFlAAAAAAAAAWUAAAAAAAABZQAAAAAAAAFlAAAAAAAAAWUAAAAAAAABZQAAAAAAAAFlAAAAAAAAAWUAAAAAAAABZQAAAAAAAAFlAAAAAAAAAWUAAAAAAAABZQAAAAAAAAFlAAAAAAAAAWUAAAAAAAABZQAAAAAAAAFlAAAAAAAAAWUAAAAAAAABZQAAAAAAAAFlAAAAAAAAAWUAAAAAAAABZQAAAAAAAAFlAAAAAAAAAWUAAAAAAAABZQAAAAAAAAFlAAAAAAAAAWUAAAAAAAABZQAAAAAAAAFlAAAAAAAAAWUAAAAAAAABZQAAAAAAAAFlAAAAAAAAAWUAAAAAAAABZQAAAAAAAAFlAAAAAAAAAWUAAAAAAAABZQAAAAAAAAFlAAAAAAAAAWUAAAAAAAABZQAAAAAAAAFlAAAAAAAAAWUAAAAAAAABZQAAAAAAAAFlAAAAAAAAAWUAAAAAAAABZQAAAAAAAAFlAAAAAAAAAWUAAAAAAAABZQAAAAAAAAFlAAAAAAAAAWUAAAAAAAABZQAAAAAAAAFlAAAAAAAAAWUAAAAAAAABZQAAAAAAAAFlAAAAAAAAAWUAAAAAAAABZQAAAAAAAAFlAAAAAAAAAWUAAAAAAAABZQAAAAAAAAFlAAAAAAAAAWUAAAAAAAABZQAAAAAAAAFlAAAAAAAAAWUAAAAAAAABZQAAAAAAAAFlAAAAAAAAAWUAAAAAAAABZQAAAAAAAAFlAAAAAAAAAWUAAAAAAAABZQAAAAAAAAFlAAAAAAAAAWUAAAAAAAABZQAAAAAAAAFlAAAAAAAAAWUAAAAAAAABZQAAAAAAAAFlAAAAAAAAAWUAAAAAAAABZQAAAAAAAAFlAAAAAAAAAWUAAAAAAAABZQAAAAAAAAFlAAAAAAAAAWUAAAAAAAABZQAAAAAAAAFlAAAAAAAAAWUAAAAAAAABZQAAAAAAAAFlAAAAAAAAAWUAAAAAAAABZQAAAAAAAAFlAAAAAAAAAWUAAAAAAAABZQAAAAAAAAFlAAAAAAAAAWUAAAAAAAABZQAAAAAAAAFlAAAAAAAAAWUAAAAAAAABZQAAAAAAAAFlAAAAAAAAAWUAAAAAAAABZQAAAAAAAAFlAAAAAAAAAWUAAAAAAAABZQAAAAAAAAFlAAAAAAAAAWUAAAAAAAABZQAAAAAAAAFlAAAAAAAAAWUAAAAAAAABZQAAAAAAAAFlAAAAAAAAAWUAAAAAAAABZQAAAAAAAAFlAAAAAAAAAWUAAAAAAAABZQAAAAAAAAFlAAAAAAAAAWUAAAAAAAABZQAAAAAAAAFlAAAAAAAAAWUAAAAAAAABZQAAAAAAAAFlAAAAAAAAAWUAAAAAAAABZQAAAAAAAAFlAAAAAAAAAWUAAAAAAAABZQAAAAAAAAFlAAAAAAAAAWUAAAAAAAABZQAAAAAAAAFlAAAAAAAAAWUAAAAAAAABZQAAAAAAAAFlAAAAAAAAAWUAAAAAAAABZQAAAAAAAAFlAAAAAAAAAWUAAAAAAAABZQAAAAAAAAFlAAAAAAAAAWUAAAAAAAABZQAAAAAAAAFlAAAAAAAAAWUAAAAAAAABZQAAAAAAAAFlAAAAAAAAAWUAAAAAAAABZQAAAAAAAAFlAAAAAAAAAWUAAAAAAAABZQAAAAAAAAFlAAAAAAAAAWUAAAAAAAABZQAAAAAAAAFlAAAAAAAAAWUAAAAAAAABZQAAAAAAAAFlAAAAAAAAAWUAAAAAAAABZQAAAAAAAAFlAAAAAAAAAWUAAAAAAAABZQAAAAAAAAFlAAAAAAAAAWUAAAAAAAABZQAAAAAAAAFlAAAAAAAAAWUAAAAAAAABZQAAAAAAAAFlAAAAAAAAAWUAAAAAAAABZQAAAAAAAAFlAAAAAAAAAWUAAAAAAAABZQAAAAAAAAFlAAAAAAAAAWUAAAAAAAABZQAAAAAAAAFlAAAAAAAAAWUAAAAAAAABZQAAAAAAAAFlAAAAAAAAAWUAAAAAAAABZQAAAAAAAAFlAAAAAAAAAWUAAAAAAAABZQAAAAAAAAFlAvoT2EtqLVkDQLPKklmRWQIU4Kz8hzlNA0bTKF8O/U0DGIOHSDP9RQJ0H2FHS71FA8fYKUcZgT0CVL4Z/4tpOQNRAo5NoP0pA2ktoL6G9SUA5juM4jmNFQLss1aDzAEVAm7uvilTKQED194TTdXNAQKuqqqqqqjpAvoT2EtpLOkB5RdMqXww3QAYcnyNvojZA8qSWZDUQMkAAAAAAAABZQAAAAAAAAFlAAAAAAAAAWUAAAAAAAABZQAAAAAAAAFlAAAAAAAAAWUAAAAAAAABZQAAAAAAAAFlAAAAAAAAAWUAAAAAAAABZQAAAAAAAAFlAAAAAAAAAWUAAAAAAAABZQAAAAAAAAFlAAAAAAAAAWUAAAAAAAABZQAAAAAAAAFlAAAAAAAAAWUAAAAAAAABZQAAAAAAAAFlAAAAAAAAAWUAAAAAAAABZQAAAAAAAAFlAAAAAAAAAWUAAAAAAAABZQAAAAAAAAFlAAAAAAAAAWUAAAAAAAABZQAAAAAAAAFlAAAAAAAAAWUAAAAAAAABZQAAAAAAAAFlAAAAAAAAAWUAAAAAAAABZQAAAAAAAAFlAAAAAAAAAWUAAAAAAAABZQAAAAAAAAFlAAAAAAAAAWUAAAAAAAABZQAAAAAAAAFlAAAAAAAAAWUAAAAAAAABZQAAAAAAAAFlAAAAAAAAAWUAAAAAAAABZQAAAAAAAAFlAAAAAAAAAWUAAAAAAAABZQAAAAAAAAFlAAAAAAAAAWUAAAAAAAABZQAAAAAAAAFlAAAAAAAAAWUAAAAAAAABZQAAAAAAAAFlAAAAAAAAAWUAAAAAAAABZQAAAAAAAAFlAAAAAAAAAWUAAAAAAAABZQAAAAAAAAFlAAAAAAAAAWUAAAAAAAABZQAAAAAAAAFlAAAAAAAAAWUAAAAAAAABZQAAAAAAAAFlAAAAAAAAAWUAAAAAAAABZQAAAAAAAAFlAAAAAAAAAWUAAAAAAAABZQAAAAAAAAFlAAAAAAAAAWUAAAAAAAABZQAAAAAAAAFlAAAAAAAAAWUAAAAAAAABZQAAAAAAAAFlAAAAAAAAAWUAAAAAAAABZQAAAAAAAAFlAAAAAAAAAWUAAAAAAAABZQAAAAAAAAFlAAAAAAAAAWUAAAAAAAABZQAAAAAAAAFlAAAAAAAAAWUAAAAAAAABZQAAAAAAAAFlAAAAAAAAAWUAAAAAAAABZQAAAAAAAAFlAAAAAAAAAWUAAAAAAAABZQAAAAAAAAFlAAAAAAAAAWUAAAAAAAABZQAAAAAAAAFlAAAAAAAAAWUAAAAAAAABZQAAAAAAAAFlAAAAAAAAAWUAAAAAAAABZQAAAAAAAAFlAAAAAAAAAWUAAAAAAAABZQAAAAAAAAFlAAAAAAAAAWUAAAAAAAABZQAAAAAAAAFlAAAAAAAAAWUAAAAAAAABZQAAAAAAAAFlAAAAAAAAAWUAAAAAAAABZQAAAAAAAAFlAAAAAAAAAWUAAAAAAAABZQAAAAAAAAFlAAAAAAAAAWUAAAAAAAABZQAAAAAAAAFlAAAAAAAAAWUAAAAAAAABZQAAAAAAAAFlAAAAAAAAAWUAAAAAAAABZQAAAAAAAAFlAAAAAAAAAWUAAAAAAAABZQAAAAAAAAFlAAAAAAAAAWUAAAAAAAABZQAAAAAAAAFlAAAAAAAAAWUAAAAAAAABZQAAAAAAAAFlAAAAAAAAAWUAAAAAAAABZQAAAAAAAAFlAAAAAAAAAWUAAAAAAAABZQAAAAAAAAFlAAAAAAAAAWUAAAAAAAABZQAAAAAAAAFlAAAAAAAAAWUAAAAAAAABZQAAAAAAAAFlAAAAAAAAAWUAAAAAAAABZQAAAAAAAAFlAAAAAAAAAWUAAAAAAAABZQAAAAAAAAFlAAAAAAAAAWUAAAAAAAABZQAAAAAAAAFlAAAAAAAAAWUAAAAAAAABZQAAAAAAAAFlAAAAAAAAAWUAAAAAAAABZQAAAAAAAAFlAAAAAAAAAWUAAAAAAAABZQAAAAAAAAFlAAAAAAAAAWUAAAAAAAABZQAAAAAAAAFlAAAAAAAAAWUAAAAAAAABZQAAAAAAAAFlAAAAAAAAAWUAAAAAAAABZQAAAAAAAAFlAAAAAAAAAWUAAAAAAAABZQAAAAAAAAFlAAAAAAAAAWUAAAAAAAABZQAAAAAAAAFlAAAAAAAAAWUAAAAAAAABZQAAAAAAAAFlAAAAAAAAAWUAAAAAAAABZQAAAAAAAAFlAAAAAAAAAWUAAAAAAAABZQAAAAAAAAFlAAAAAAAAAWUAAAAAAAABZQAAAAAAAAFlAAAAAAAAAWUAAAAAAAABZQAAAAAAAAFlAAAAAAAAAWUAAAAAAAABZQAAAAAAAAFlAAAAAAAAAWUAAAAAAAABZQAAAAAAAAFlAAAAAAAAAWUAAAAAAAABZQAAAAAAAAFlAAAAAAAAAWUAAAAAAAABZQAAAAAAAAFlAAAAAAAAAWUAAAAAAAABZQAAAAAAAAFlAAAAAAAAAWUAAAAAAAABZQAAAAAAAAFlAAAAAAAAAWUAAAAAAAABZQAAAAAAAAFlAAAAAAAAAWUAAAAAAAABZQAAAAAAAAFlAAAAAAAAAWUAAAAAAAABZQAAAAAAAAFlAAAAAAAAAWUAAAAAAAABZQA==\"},\"shape\":[458],\"dtype\":\"float64\",\"order\":\"little\"}]]}}},\"view\":{\"type\":\"object\",\"name\":\"CDSView\",\"id\":\"48d13f28-657a-4fc3-b8cf-de2a19a45c28\",\"attributes\":{\"filter\":{\"type\":\"object\",\"name\":\"AllIndices\",\"id\":\"1cd1f030-9c78-44ff-80ba-d5592c0fc827\"}}},\"glyph\":{\"type\":\"object\",\"name\":\"Patch\",\"id\":\"e7a7d4cd-79bd-46ae-a333-ee091030cea1\",\"attributes\":{\"tags\":[\"apply_ranges\"],\"x\":{\"type\":\"field\",\"field\":\"x\"},\"y\":{\"type\":\"field\",\"field\":\"y\"},\"fill_color\":\"#6d904f\",\"hatch_color\":\"#6d904f\"}},\"selection_glyph\":{\"type\":\"object\",\"name\":\"Patch\",\"id\":\"2968d58f-54af-47f1-adc7-38c1efa156a9\",\"attributes\":{\"tags\":[\"apply_ranges\"],\"x\":{\"type\":\"field\",\"field\":\"x\"},\"y\":{\"type\":\"field\",\"field\":\"y\"},\"fill_color\":\"#6d904f\",\"hatch_color\":\"#6d904f\"}},\"nonselection_glyph\":{\"type\":\"object\",\"name\":\"Patch\",\"id\":\"0d20d052-8a28-4e8f-989a-ba9cb0bc2392\",\"attributes\":{\"tags\":[\"apply_ranges\"],\"x\":{\"type\":\"field\",\"field\":\"x\"},\"y\":{\"type\":\"field\",\"field\":\"y\"},\"line_alpha\":1,\"fill_color\":\"#6d904f\",\"fill_alpha\":1,\"hatch_color\":\"#6d904f\",\"hatch_alpha\":0.1}},\"muted_glyph\":{\"type\":\"object\",\"name\":\"Patch\",\"id\":\"aa1c7534-986b-4f81-9a37-4e5fe7acc372\",\"attributes\":{\"tags\":[\"apply_ranges\"],\"x\":{\"type\":\"field\",\"field\":\"x\"},\"y\":{\"type\":\"field\",\"field\":\"y\"},\"line_alpha\":0.2,\"fill_color\":\"#6d904f\",\"fill_alpha\":0.2,\"hatch_color\":\"#6d904f\",\"hatch_alpha\":0.2}}}}],\"tooltips\":[[\"Variable\",\"@{Variable}\"],[\"date\",\"@{date}\"],[\"value\",\"@{value}\"],[\"Baseline\",\"@{Baseline}\"]],\"formatters\":{\"type\":\"map\",\"entries\":[[\"@{x}\",\"datetime\"]]}}},{\"type\":\"object\",\"name\":\"HoverTool\",\"id\":\"19fcae22-8654-4383-9ae8-7840e21901d7\",\"attributes\":{\"tags\":[\"hv_created\"],\"renderers\":[{\"type\":\"object\",\"name\":\"GlyphRenderer\",\"id\":\"61b7328d-2c6e-4749-a2ce-7e2395e31237\",\"attributes\":{\"name\":\"1 to 4\",\"data_source\":{\"type\":\"object\",\"name\":\"ColumnDataSource\",\"id\":\"05e79fc1-1aec-4047-815f-0fdd80468f85\",\"attributes\":{\"selected\":{\"type\":\"object\",\"name\":\"Selection\",\"id\":\"04fb7d49-40fa-4a3a-8c12-e356207da5c7\",\"attributes\":{\"indices\":[],\"line_indices\":[]}},\"selection_policy\":{\"type\":\"object\",\"name\":\"UnionRenderers\",\"id\":\"07671c8b-e3ed-454c-8fc6-ffac777321bd\"},\"data\":{\"type\":\"map\",\"entries\":[[\"x\",{\"type\":\"ndarray\",\"array\":{\"type\":\"bytes\",\"data\":\"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\"},\"shape\":[458],\"dtype\":\"float64\",\"order\":\"little\"}],[\"y\",{\"type\":\"ndarray\",\"array\":{\"type\":\"bytes\",\"data\":\"AAAAAAAAAAAAAAAAAAAAAAAAAAAAAAAAAAAAAAAAAAAAAAAAAAAAAAAAAAAAAAAAAAAAAAAAAAAAAAAAAAAAAAAAAAAAAAAAAAAAAAAAAAAAAAAAAAAAAAAAAAAAAAAAAAAAAAAAAAAAAAAAAAAAAAAAAAAAAAAAAAAAAAAAAAAAAAAAAAAAAAAAAAAAAAAAAAAAAAAAAAAAAAAAAAAAAAAAAAAAAAAAAAAAAAAAAAAAAAAAAAAAAAAAAAAAAAAAAAAAAAAAAAAAAAAAAAAAAAAAAAAAAAAAAAAAAAAAAAAAAAAAAAAAAAAAAAAAAAAAAAAAAAAAAAAAAAAAAAAAAAAAAAAAAAAAAAAAAAAAAAAAAAAAAAAAAAAAAAAAAAAAAAAAAAAAAAAAAAAAAAAAAAAAAAAAAAAAAAAAAAAAAAAAAAAAAAAAAAAAAAAAAAAAAAAAAAAAAAAAAAAAAAAAAAAAAAAAAAAAAAAAAAAAAAAAAAAAAAAAAAAAAAAAAAAAAAAAAAAAAAAAAAAAAAAAAAAAAAAAAAAAAAAAAAAAAAAAAAAAAAAAAAAAAAAAAAAAAAAAAAAAAAAAAAAAAAAAAAAAAAAAAAAAAAAAAAAAAAAAAAAAAAAAAAAAAAAAAAAAAAAAAAAAAAAAAAAAAAAAAAAAAAAAAAAAAAAAAAAAAAAAAAAAAAAAAAAAAAAAAAAAAAAAAAAAAAAAAAAAAAAAAAAAAAAAAAAAAAAAAAAAAAAAAAAAAAAAAAAAAAAAAAAAAAAAAAAAAAAAAAAAAAAAAAAAAAAAAAAAAAAAAAAAAAAAAAAAAAAAAAAAAAAAAAAAAAAAAAAAAAAAAAAAAAAAAAAAAAAAAAAAAAAAAAAAAAAAAAAAAAAAAAAAAAAAAAAAAAAAAAAAAAAAAAAAAAAAAAAAAAAAAAAAAAAAAAAAAAAAAAAAAAAAAAAAAAAAAAAAAAAAAAAAAAAAAAAAAAAAAAAAAAAAAAAAAAAAAAAAAAAAAAAAAAAAAAAAAAAAAAAAAAAAAAAAAAAAAAAAAAAAAAAAAAAAAAAAAAAAAAAAAAAAAAAAAAAAAAAAAAAAAAAAAAAAAAAAAAAAAAAAAAAAAAAAAAAAAAAAAAAAAAAAAAAAAAAAAAAAAAAAAAAAAAAAAAAAAAAAAAAAAAAAAAAAAAAAAAAAAAAAAAAAAAAAAAAAAAAAAAAAAAAAAAAAAAAAAAAAAAAAAAAAAAAAAAAAAAAAAAAAAAAAAAAAAAAAAAAAAAAAAAAAAAAAAAAAAAAAAAAAAAAAAAAAAAAAAAAAAAAAAAAAAAAAAAAAAAAAAAAAAAAAAAAAAAAAAAAAAAAAAAAAAAAAAAAAAAAAAAAAAAAAAAAAAAAAAAAAAAAAAAAAAAAAAAAAAAAAAAAAAAAAAAAAAAAAAAAAAAAAAAAAAAAAAAAAAAAAAAAAAAAAAAAAAAAAAAAAAAAAAAAAAAAAAAAAAAAAAAAAAAAAAAAAAAAAAAAAAAAAAAAAAAAAAAAAAAAAAAAAAAAAAAAAAAAAAAAAAAAAAAAAAAAAAAAAAAAAAAAAAAAAAAAAAAAAAAAAAAAAAAAAAAAAAAAAAAAAAAAAAAAAAAAAAAAAAAAAAAAAAAAAAAAAAAAAAAAAAAAAAAAAAAAAAAAAAAAAAAAAAAAAAAAAAAAAAAAAAAAAAAAAAAAAAAAAAAAAAAAAAAAAAAAAAAAAAAAAAAAAAAAAAAAAAAAAAAAAAAAAAAAAAAAAAAAAAAAAAAAAAAAAAAAAAAAAAAAAAAAAAAAAAAAAAAAAAAAAAAAAAAAAAAAAAAAAAAAAAAAAAAAAAAAAAAAAAAAAAAAAAAAAAAAAAAAAAAAAAAAAAAAAAAAAAAAAAAAAAAAAAAAAAAAAAAAAAAAAAAAAAAAAAAAAAAAAAAAAAAAAAAAAAAAAAAAAAAAAAAAAAAAAAAAAAAAAAAAAAAAAAAAAAAAAAAAAAAAAAAAAAAAAAAAAAAAAAAAAAAAAAAAAAAAAAAAAAAAAAAAAAAAAAAAAAAAAAAAAAAAAAAAAAAAAAAAAAAAAAAAAAAAAAAAAAAAAAAAAAAAAAAAAAAAAAAAAAAAAAAAAAAAAAAAAAAAAAAAAAAAAAAAAAAAAAAAAAAAAAAAAAAAAAAAAAAAAAAAAAAAAAAAAAAAAAAAAAAAAAAAAAAAAAAAAAAAAAAAAAAAAAAAAAAAAAAAAAAAAAAAAAAAAAAAAAAAAAAAAAAAAAAAAAAAAAAAAAAAAAAAAAAAAAAAAAAAAAAAAAAAAAAAAAAAAAAAAAAAAAAAAAAAAAAAAAAAAAAAAAAAAAAAAAAAAAAAAAAAAAAAAAAAAAAAAAAAAAAAAAAAAAAAAAAAAAAAAAAAAAAAAAAAAAAAAAAAAAAAAAAAAAAAAAAAAAAAAAAAAAAAAAAAAAAAAAAAAAAAAAACq/B6XO/s9QJWyGCRcmjlA7CjpdwqJOEBoL6G9hPY7QExoL6G9hDxAVlL6e8LpQEC5IbvCkhFBQNw9+9iMHD5AE9pLaC+hPUChvYT2Eto6QBODp7YWEDpATHAyN17RNEBlNRCORkw0QNmMHOqyVDNApFIWg4RLM0C7LNWg8wA1QFW3WtP59jRA6a/nKpaNM0AJ7SW0l9AzQDmO4ziO4zdAHMdxHMdxOEAJ7SW0l9A9QJEIE5zMjT1AAO33QomNQkBMIPTayXVCQECETGHXJEBApqWlpaUVQEC8mk0MntoyQB3ddTr89zJAL6G9hPYSM0Ad3XU6/PcyQA7/7s16ojJAUscDRMgUMkDi4eHh4aE4QNPS0tLScjhApqWlpaUlPkC1tLS0tFQ+QOhk+iphbEBAOpm+ShibQEA27SdLYNM+QAAAAAAAQD9A8fDw8PAAQUCHcAiHcAhBQDJyhFd3i0BAIXNu3ENFQEDpiI7oiI46QB7gAR7gATpAAAAAAADgNUA7IxVzqzM2QC+66KKLLjhAty7vgCNFOECX9Y3kASw7QI7jOI7jODtAhEM4hEM4PkBP7MRO7MQ+QMpjYmlG9TpA5NblHXCkOkCdBOJCzUk8QBphuacRljtAAAAAAAAAPEAxC8gXiVI7QFpaWlpa2jNA8MJB9PguNEBVvJpNDJ46QBn+iWsLxDpAUhBZ7QeDP0AVzRNqAWM+QIwuuuiiiz5Av+0s4OtYPkDVTd3UTd1CQOZndqGtj0NAo4suuuiiQUAszahe0ZNBQEr8jBI/Y0JACZ5BFYWwQUD6aDUJUfxBQKBPNPfaz0FAgrl2YK4dQkBF6HOiXEVCQGVb7TIwEkRA91PImd/2Q0AevTK239FDQHAjpCCy2kNARfxnTdI5SEAeHh4eHs5HQKOLLrrookdAYZcRSmCwR0DZVrsMjAQ+QI+4I+6IOz5A3Peq+YQXPEC5yjmAPFY7QLVMOTr9tjpAr+jJY2JpOkD1VcLYLChCQK7vphL4fEJATALH61sYRUCme67tV8BEQC+suwKFnkVAmE7Jskd0RUCpRPNz+81DQPdTyJnf9kNAKJKOJl6qRED3U8iZ3/ZDQEK3a+WEZ0ZAGqmYW52RRkAtCXo9S4JLQEmSJEmSxEtAJNwj3CPcRkDqLKazmM5GQD6/PxUHrUJAJ+xQZzN9QkDrKhE6F9ZCQB14jHT94kJAtdAduxqWRUAOAm59NuNFQDR1fu0hl0ZAfO+99977RkBodjhjqSlGQGh2OGOpKUZAMJhY60lIS0BBTK4gJldLQKa9B253WE5AN9xwww03TkDUTz/99NNPQD8vDdTnJVBAFsTkCmJyS0Bno76zUd9LQP1ehvxehk1AWc8xWc8xUUByHMdxHMdKQFnJSlayklBA2B5yWTFQTEA+Ero2LqROQD4SujYupE5AxYzd5ZMpTkAYqKvREb5OQKpZfwa/iUtArLb+9sDGUUBw3lZMHBFQQMVO7MRObFNAwqYARzs9UUB5VLHhqpNSQGUKmA9kl1JAsOKElDzLUEC9biZdqRxRQHkgN40HclBA4uHh4eEhUUBpvYBtTldRQFF31gx1Z1FAx3Ecx3EcUEDkRMv1u49PQK0nyjbaV1FAr6G8hvIaUUAAAAAAAMZRQAAAAAAA+FFAPK3utLpTUkDm6aPVJERRQFo4A0LJHVBAAAAAAABoUEADVLL1bnxQQCQT6J26llBA5Y865Y+6UUDljzrlj7pRQGTPQFQ6MlJAEARBEARBUkC+9957771RQCKoF1zdJlJAp9TcgmDaUECttdZaay1RQKuqqqqqqlBAJ1qu332cUEBVVVVVVdVSQFFg0ql5kFJA1g2myGf9UUBO6r48tiJSQAAAAAAAQE9A27Zt27ZtT0BG3YZNILhQQHSlAfL2zFBAkTzZ76NZUUDGtyXvqhVRQNHCGRBKblBAr3q6/CN0UEDHYrjgCaxPQI/ICcLd2E9ASGqZcnT6S0CJn1HiZxRMQPXTTz/99EtA70nwDKooTEBlPqQ7mQ9LQFwskNQy5UpA8tulnozfTECSJEmSJElNQEeKhvjj1k5AxMPDw8ODTkA+jbDc0whPQL+gL+gL+k9AHLTmTMSWUUBmZmZmZmZSQAgoPmdquVJAkPh2kPh2UkBPqe5irSJQQH3x4YrWF1BA8z7FJUMwUECS03ytnh1QQAzDMAzDMEpA8GM1e5LvSUC+Dks4qr9LQBQ7sRM7sUtA0Zw1KJ72SkAAAAAAAFhLQFVVVVVVbU1AMbmCmFxBTUBBTK4gJhdQQPWmN73pTVBAjjRHmiPNTUCMLrroootNQOzT9en6dE9AHEyRz7rBT0B0zjnnnHNQQMprKK+hnFBAVVVVVVXVUEDd0wjLPY1QQEmSJEmSZFJAKs2LP5FwUkAAAAAAAABZQAAAAAAAAFlAAAAAAAAAWUAAAAAAAABZQA==\"},\"shape\":[458],\"dtype\":\"float64\",\"order\":\"little\"}]]}}},\"view\":{\"type\":\"object\",\"name\":\"CDSView\",\"id\":\"bc6c72ce-1466-4471-80c6-31a8d90b0ea5\",\"attributes\":{\"filter\":{\"type\":\"object\",\"name\":\"AllIndices\",\"id\":\"78cbe0dc-370a-4717-8c29-2bf5a10df73a\"}}},\"glyph\":{\"type\":\"object\",\"name\":\"Patch\",\"id\":\"bf78491f-006a-428f-a629-5479efe1c80b\",\"attributes\":{\"tags\":[\"apply_ranges\"],\"x\":{\"type\":\"field\",\"field\":\"x\"},\"y\":{\"type\":\"field\",\"field\":\"y\"},\"fill_color\":\"#30a2da\",\"hatch_color\":\"#30a2da\"}},\"selection_glyph\":{\"type\":\"object\",\"name\":\"Patch\",\"id\":\"0829c64f-d447-4bbd-aec4-b821a900d6a1\",\"attributes\":{\"tags\":[\"apply_ranges\"],\"x\":{\"type\":\"field\",\"field\":\"x\"},\"y\":{\"type\":\"field\",\"field\":\"y\"},\"fill_color\":\"#30a2da\",\"hatch_color\":\"#30a2da\"}},\"nonselection_glyph\":{\"type\":\"object\",\"name\":\"Patch\",\"id\":\"256d9df8-f781-43f3-8ebf-068a78e36a16\",\"attributes\":{\"tags\":[\"apply_ranges\"],\"x\":{\"type\":\"field\",\"field\":\"x\"},\"y\":{\"type\":\"field\",\"field\":\"y\"},\"line_alpha\":1,\"fill_color\":\"#30a2da\",\"fill_alpha\":1,\"hatch_color\":\"#30a2da\",\"hatch_alpha\":0.1}},\"muted_glyph\":{\"type\":\"object\",\"name\":\"Patch\",\"id\":\"e559fdd9-ac3e-4aed-94f5-8ca9e5300e8b\",\"attributes\":{\"tags\":[\"apply_ranges\"],\"x\":{\"type\":\"field\",\"field\":\"x\"},\"y\":{\"type\":\"field\",\"field\":\"y\"},\"line_alpha\":0.2,\"fill_color\":\"#30a2da\",\"fill_alpha\":0.2,\"hatch_color\":\"#30a2da\",\"hatch_alpha\":0.2}}}},{\"type\":\"object\",\"name\":\"GlyphRenderer\",\"id\":\"9e297e5e-a2bd-4a67-b75b-37b6f2a3e7c6\",\"attributes\":{\"name\":\"11 to 20\",\"data_source\":{\"type\":\"object\",\"name\":\"ColumnDataSource\",\"id\":\"abcbc377-37b5-4cf1-b0e3-674c98970b31\",\"attributes\":{\"selected\":{\"type\":\"object\",\"name\":\"Selection\",\"id\":\"69727b33-5c9a-46c9-a737-3b542e6dddc4\",\"attributes\":{\"indices\":[],\"line_indices\":[]}},\"selection_policy\":{\"type\":\"object\",\"name\":\"UnionRenderers\",\"id\":\"846fc5fb-1887-4ec7-b6fd-17b6b3e4d607\"},\"data\":{\"type\":\"map\",\"entries\":[[\"x\",{\"type\":\"ndarray\",\"array\":{\"type\":\"bytes\",\"data\":\"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\"},\"shape\":[458],\"dtype\":\"float64\",\"order\":\"little\"}],[\"y\",{\"type\":\"ndarray\",\"array\":{\"type\":\"bytes\",\"data\":\"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\"},\"shape\":[458],\"dtype\":\"float64\",\"order\":\"little\"}]]}}},\"view\":{\"type\":\"object\",\"name\":\"CDSView\",\"id\":\"9137c143-c495-47d6-945a-3a7d82433c26\",\"attributes\":{\"filter\":{\"type\":\"object\",\"name\":\"AllIndices\",\"id\":\"19033b2b-8c54-475e-b0a0-1a0897ac8646\"}}},\"glyph\":{\"type\":\"object\",\"name\":\"Patch\",\"id\":\"88aa1f06-e942-49bb-9843-78e6a0f28608\",\"attributes\":{\"tags\":[\"apply_ranges\"],\"x\":{\"type\":\"field\",\"field\":\"x\"},\"y\":{\"type\":\"field\",\"field\":\"y\"},\"fill_color\":\"#fc4f30\",\"hatch_color\":\"#fc4f30\"}},\"selection_glyph\":{\"type\":\"object\",\"name\":\"Patch\",\"id\":\"8ad1baea-5f33-46d4-8f25-755755148e88\",\"attributes\":{\"tags\":[\"apply_ranges\"],\"x\":{\"type\":\"field\",\"field\":\"x\"},\"y\":{\"type\":\"field\",\"field\":\"y\"},\"fill_color\":\"#fc4f30\",\"hatch_color\":\"#fc4f30\"}},\"nonselection_glyph\":{\"type\":\"object\",\"name\":\"Patch\",\"id\":\"22fc2004-5032-416a-a372-2b5fe4e64a85\",\"attributes\":{\"tags\":[\"apply_ranges\"],\"x\":{\"type\":\"field\",\"field\":\"x\"},\"y\":{\"type\":\"field\",\"field\":\"y\"},\"line_alpha\":1,\"fill_color\":\"#fc4f30\",\"fill_alpha\":1,\"hatch_color\":\"#fc4f30\",\"hatch_alpha\":0.1}},\"muted_glyph\":{\"type\":\"object\",\"name\":\"Patch\",\"id\":\"bf4b7707-3e80-4b44-bade-d1793abf337c\",\"attributes\":{\"tags\":[\"apply_ranges\"],\"x\":{\"type\":\"field\",\"field\":\"x\"},\"y\":{\"type\":\"field\",\"field\":\"y\"},\"line_alpha\":0.2,\"fill_color\":\"#fc4f30\",\"fill_alpha\":0.2,\"hatch_color\":\"#fc4f30\",\"hatch_alpha\":0.2}}}},{\"type\":\"object\",\"name\":\"GlyphRenderer\",\"id\":\"a8cb9c3b-53ce-4a6a-9c61-8f9870e6579b\",\"attributes\":{\"name\":\"21+\",\"data_source\":{\"type\":\"object\",\"name\":\"ColumnDataSource\",\"id\":\"be8f9c6b-b261-4fbc-8e67-6a4d2e10bb3b\",\"attributes\":{\"selected\":{\"type\":\"object\",\"name\":\"Selection\",\"id\":\"ba4fce1f-fe1f-4fb9-88d0-3d9d179a4c1a\",\"attributes\":{\"indices\":[],\"line_indices\":[]}},\"selection_policy\":{\"type\":\"object\",\"name\":\"UnionRenderers\",\"id\":\"8bb8548b-986c-4351-b5ff-24311235f734\"},\"data\":{\"type\":\"map\",\"entries\":[[\"x\",{\"type\":\"ndarray\",\"array\":{\"type\":\"bytes\",\"data\":\"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\"},\"shape\":[458],\"dtype\":\"float64\",\"order\":\"little\"}],[\"y\",{\"type\":\"ndarray\",\"array\":{\"type\":\"bytes\",\"data\":\"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\"},\"shape\":[458],\"dtype\":\"float64\",\"order\":\"little\"}]]}}},\"view\":{\"type\":\"object\",\"name\":\"CDSView\",\"id\":\"acafd68c-afd2-49b5-aae4-3fb762af14c5\",\"attributes\":{\"filter\":{\"type\":\"object\",\"name\":\"AllIndices\",\"id\":\"d4f346ca-6fa2-4190-87a5-794b637924aa\"}}},\"glyph\":{\"type\":\"object\",\"name\":\"Patch\",\"id\":\"c90ea831-5c02-4ff4-9348-2e52e5dcca1a\",\"attributes\":{\"tags\":[\"apply_ranges\"],\"x\":{\"type\":\"field\",\"field\":\"x\"},\"y\":{\"type\":\"field\",\"field\":\"y\"},\"fill_color\":\"#e5ae38\",\"hatch_color\":\"#e5ae38\"}},\"selection_glyph\":{\"type\":\"object\",\"name\":\"Patch\",\"id\":\"55722156-ce9a-4786-8b85-f7f80b20a9b2\",\"attributes\":{\"tags\":[\"apply_ranges\"],\"x\":{\"type\":\"field\",\"field\":\"x\"},\"y\":{\"type\":\"field\",\"field\":\"y\"},\"fill_color\":\"#e5ae38\",\"hatch_color\":\"#e5ae38\"}},\"nonselection_glyph\":{\"type\":\"object\",\"name\":\"Patch\",\"id\":\"e7ca4b01-c12a-4b41-be2a-66f0a38d5a27\",\"attributes\":{\"tags\":[\"apply_ranges\"],\"x\":{\"type\":\"field\",\"field\":\"x\"},\"y\":{\"type\":\"field\",\"field\":\"y\"},\"line_alpha\":1,\"fill_color\":\"#e5ae38\",\"fill_alpha\":1,\"hatch_color\":\"#e5ae38\",\"hatch_alpha\":0.1}},\"muted_glyph\":{\"type\":\"object\",\"name\":\"Patch\",\"id\":\"740b75cc-686e-4a75-b554-a0175af5a24c\",\"attributes\":{\"tags\":[\"apply_ranges\"],\"x\":{\"type\":\"field\",\"field\":\"x\"},\"y\":{\"type\":\"field\",\"field\":\"y\"},\"line_alpha\":0.2,\"fill_color\":\"#e5ae38\",\"fill_alpha\":0.2,\"hatch_color\":\"#e5ae38\",\"hatch_alpha\":0.2}}}},{\"type\":\"object\",\"name\":\"GlyphRenderer\",\"id\":\"03716958-ebe7-499e-a59f-958e8351aeec\",\"attributes\":{\"name\":\"5 to 10\",\"data_source\":{\"type\":\"object\",\"name\":\"ColumnDataSource\",\"id\":\"2bc88e44-a3d7-490e-a612-b06c6abfc5a1\",\"attributes\":{\"selected\":{\"type\":\"object\",\"name\":\"Selection\",\"id\":\"18325bda-4f8f-45c9-9ee1-5067e59ea42d\",\"attributes\":{\"indices\":[],\"line_indices\":[]}},\"selection_policy\":{\"type\":\"object\",\"name\":\"UnionRenderers\",\"id\":\"8aaf2fd8-0e88-47b9-8673-3771537b7032\"},\"data\":{\"type\":\"map\",\"entries\":[[\"x\",{\"type\":\"ndarray\",\"array\":{\"type\":\"bytes\",\"data\":\"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\"},\"shape\":[458],\"dtype\":\"float64\",\"order\":\"little\"}],[\"y\",{\"type\":\"ndarray\",\"array\":{\"type\":\"bytes\",\"data\":\"AAAAAAAAWUAAAAAAAABZQAAAAAAAAFlAAAAAAAAAWUAqzYs/kXBSQEmSJEmSZFJA3dMIyz2NUEBVVVVVVdVQQMprKK+hnFBAdM4555xzUEBhinzWDWZRQFOJqcRUYlFAYe+YGtg7UECS5khzpDlQQAtZyEIWElJAEJMriMkVUkCejfrORn1QQAAAAAAAzFBAVVVVVVXtUEDF0x5XAcFQQBQ7sRM7sVFAskU0Zw2KUUDIavYk38dRQNWfUn9K/VFAf+Q0X6vnUkA/xSVDsA5TQO42zRbmblNAufHJjhxsU0BeF4peF4pUQGal0SMqyFRAAAAAAAAAVEBPxUFrzkRTQMKesCfsiVFAsdzTCMs9UUDi4eHh4dFQQAgcKRriD1FAAAAAAADgUEDZHEi0wuZQQKIQtg/zVVBAZpdddtllUEAU/zxG5CVRQHJ1gKxcHVFAKfEzSvxMUUCPTr+tNGtRQDqMMhXPtVJAlY1M9dq6UkB5zDal5hZTQMZb2eeQGlNAgeFZcIxvU0DrIY6QUbdTQPF9Ucu/IVNAn8I77s0VU0DLsizLsixSQAAAAAAAIFJAcVL35bEVVEBFPusGUwRUQMm/czkE9VRAq6qqqqrqVEC8jxMt1+9SQOGKNeCKtVJACCGEEEIIU0CAhE6gHMVSQPazxcrwjVNAMsYYY4wxU0AAAAAAAABUQIhKR/YMBFRA24Uw24WwU0DaLoTZLgRUQOKlMAP8xFJAkq134wu7UkAAAAAAAJhSQDqkJhhvZVJAy/auA7qxU0BPqzut7jRUQAAAAAAAPVNAAAAAAAALU0DCnwl/JvxSQOHOi9TxAFNAoorx9GCGUUD8vu/7vu9RQBJT5hUxZVNA6wVsc7pKU0AQDw8PD49TQJ0QLtEJ4VJAHXtrwzR3U0ATC7fvEDZTQDP4TfR0blRA1cmjig1XVEADYygyW9RSQFy+5Vu+5VRA5O7RDa/+UUDugY3eFZlTQH8Gv4meTlBAR/gCdTU6UUBWQQ6YALFRQGsQQTHDk1FA2JmHzZZoUkAo4Y2mzq9QQAAAAAAAAFRAx3Ecx3GcUUDNGwjNG4hUQD9SjT5SjVJAriAmVxATUUDUdzbqO5tRQO82nvDdxlJAW2uttdZaU0AQQgghhBBSQB+JePrV81JAriAmVxATUUANcVB05mhRQGrAO0Gzw01ABCgNeCdoTkDnnHPOOQdQQDwtdMeuhk9AxInK00J3UECkYDIHATdQQGSk6xd3GlBAs0e2FW8sUEBkpOsXdxpQQPWmN73pTVBAzmQ2k9lMUUCWaZZplmlRQJIkSZIkSVNAmQ/pTuZDU0BvdUYq5lZRQIxEqbGHWVFAZiAJrDdmUEAedCd4nLlQQHaN6l4wdk9AxXpGB1BwT0Dv2MhX5WFQQOMfZTnpgFBAlyrNwJWXUEAU/0k7249QQGqZq1AXNlBAL++AI0UDUEB0YcPZaZlNQNAm/nmMyE1Ar3IOII/VT0D6caZYurZPQHfEHXFH3FBAkko0P7ffUEDf1eImzO9TQF500UUX3VNAHh4eHh4eU0CPiaUZ1StTQAoiq/1gcFBAEBdqTgJxUEBmIAmsN2ZQQFjP6AAKblBAdo3qXjB2T0ASP6PEzyhPQNKq98EVaVBA7zqgG/N0UEB2gOHcDW1QQFnIQhaycFBALHrymFiaT0CMLrroootPQMLBNnlfPFJALt/yLd/yUUCZc+MeKiJQQC666KKLLlBA7bYESj3CUEA46HatnPBQQJjgZG68olBAJaW/J5yuUED1+C4cRI9QQEtLS0tLi1BAZa5CXdhwUUAXXXTRRZdRQLriKBhUPVJAVVVVVVVVUkCZvkoYm4VSQJukc2igiFJAghZogRZoUkDXeq3Xei1SQAntJbSXUFFAZ96yvpE8UUBuXd4BR0pRQEYXXXTRRVFAw0H0+C4cUUA8PDw8PCRRQIRDOIRDuFFAt23btm3bUUDFaUqrRgNTQJgUHGyT91JACqVQCqVQUkCXlpaWlj5SQOLh4eHh0VBA5LtwED2+UEBYCWOzoBpQQEP8cevyDlBAl5aWlpaGT0ClpaWlpbVPQB4eHh4enk9APDw8PDz8T0BBlX7mNLhOQCr9zGlw505AktVl2Cv9UEDaS2gvof1QQAVKPcIc3VFAOShn3rK+UUCXlpaWls5TQIAImcKuyVNA0Wsn12G2U0B3hSUjgqpTQOQVTat8MVFACe0ltJdQUUDHcRzHcRxQQB3HcRzH8U9A9hLaS2gvTkD667mKZeNNQHyhxEbxTFFAG3QeYEdJUUACoddOrsNRQGapBp0H2FFAZ5EntSSrUkCpBp0H2NFSQE+i/QgRjFNAmNBeQnuJU0CY0F5Ce4lTQGP4J64tkFNA/jgYN2RXU0DtR4hgxBVTQFZVVVVVFVFAXkJ7Ce3lUEDXFoj1dk9QQNg7pgb2jlBAEWUM1hf+UEAAAAAAAABZQAAAAAAAAFlAAAAAAAAAWUD///////9YQAEAAAAAAFlAAAAAAAAAWUAAAAAAAABZQAAAAAAAAFlAAAAAAAAAWUAAAAAAAABZQAAAAAAAAFlAAAAAAAAAWUAAAAAAAABZQAAAAAAAAFlAAAAAAAAAWUAAAAAAAABZQAAAAAAAAFlAAAAAAAAAWUAAAAAAAABZQAAAAAAAAFlAAAAAAAAAWUAAAAAAAABZQAAAAAAAAFlAAQAAAAAAWUAAAAAAAABZQAAAAAAAAFlAAAAAAAAAWUAAAAAAAABZQAAAAAAAAFlAAAAAAAAAWUAAAAAAAABZQAAAAAAAAFlAAAAAAAAAWUAAAAAAAABZQAAAAAAAAFlAAAAAAAAAWUAAAAAAAABZQAAAAAAAAFlAAAAAAAAAWUAAAAAAAABZQAAAAAAAAFlAAAAAAAAAWUAAAAAAAABZQAAAAAAAAFlAAAAAAAAAWUAAAAAAAABZQAAAAAAAAFlAAAAAAAAAWUAAAAAAAABZQAAAAAAAAFlAAAAAAAAAWUAAAAAAAABZQAAAAAAAAFlA////////WEAAAAAAAABZQAAAAAAAAFlAAAAAAAAAWUAAAAAAAABZQP///////1hAAAAAAAAAWUD///////9YQAAAAAAAAFlAAAAAAAAAWUAAAAAAAABZQAAAAAAAAFlAAAAAAAAAWUAAAAAAAABZQAAAAAAAAFlAAAAAAAAAWUAAAAAAAABZQAEAAAAAAFlAAAAAAAAAWUAAAAAAAABZQAAAAAAAAFlAAAAAAAAAWUAAAAAAAABZQAAAAAAAAFlAAAAAAAAAWUAAAAAAAABZQAAAAAAAAFlAAAAAAAAAWUAAAAAAAABZQAAAAAAAAFlAAAAAAAAAWUAAAAAAAABZQAEAAAAAAFlAAAAAAAAAWUAAAAAAAABZQAAAAAAAAFlAAAAAAAAAWUAAAAAAAABZQAAAAAAAAFlAAAAAAAAAWUAAAAAAAABZQAAAAAAAAFlAAAAAAAAAWUAAAAAAAABZQAAAAAAAAFlAAAAAAAAAWUAAAAAAAABZQAAAAAAAAFlAAAAAAAAAWUAAAAAAAABZQAAAAAAAAFlAAAAAAAAAWUAAAAAAAABZQAAAAAAAAFlAAAAAAAAAWUAAAAAAAABZQAAAAAAAAFlAAAAAAAAAWUAAAAAAAABZQAAAAAAAAFlAAAAAAAAAWUAAAAAAAABZQAAAAAAAAFlAAAAAAAAAWUAAAAAAAABZQAAAAAAAAFlAAAAAAAAAWUAAAAAAAABZQAAAAAAAAFlAAAAAAAAAWUAAAAAAAABZQAAAAAAAAFlAAAAAAAAAWUAAAAAAAABZQAAAAAAAAFlAAAAAAAAAWUAAAAAAAABZQAAAAAAAAFlAAAAAAAAAWUAAAAAAAABZQAAAAAAAAFlAAAAAAAAAWUAAAAAAAABZQAAAAAAAAFlAAAAAAAAAWUAAAAAAAABZQAAAAAAAAFlAAAAAAAAAWUAAAAAAAABZQP///////1hAAAAAAAAAWUAAAAAAAABZQAAAAAAAAFlAAQAAAAAAWUAAAAAAAABZQAEAAAAAAFlAAAAAAAAAWUAAAAAAAABZQAAAAAAAAFlAAAAAAAAAWUAAAAAAAABZQAAAAAAAAFlAAAAAAAAAWUAAAAAAAABZQAAAAAAAAFlAAAAAAAAAWUAAAAAAAABZQAAAAAAAAFlAAAAAAAAAWUAAAAAAAABZQAAAAAAAAFlAAAAAAAAAWUAAAAAAAABZQAAAAAAAAFlAAAAAAAAAWUAAAAAAAABZQAEAAAAAAFlAAAAAAAAAWUAAAAAAAABZQP///////1hAAAAAAAAAWUAAAAAAAABZQAAAAAAAAFlAAAAAAAAAWUD///////9YQAAAAAAAAFlAAAAAAAAAWUAAAAAAAABZQAAAAAAAAFlAAAAAAAAAWUAAAAAAAABZQP///////1hAAQAAAAAAWUAAAAAAAABZQP///////1hAAAAAAAAAWUAAAAAAAABZQAAAAAAAAFlAAAAAAAAAWUAAAAAAAABZQAAAAAAAAFlAAAAAAAAAWUAAAAAAAABZQAAAAAAAAFlA////////WEAAAAAAAABZQAAAAAAAAFlAAAAAAAAAWUAAAAAAAABZQAAAAAAAAFlAAAAAAAAAWUAAAAAAAABZQAAAAAAAAFlAAAAAAAAAWUAAAAAAAABZQAAAAAAAAFlAAAAAAAAAWUAAAAAAAABZQAAAAAAAAFlAAAAAAAAAWUAAAAAAAABZQAAAAAAAAFlAAAAAAAAAWUAAAAAAAABZQAAAAAAAAFlAAAAAAAAAWUAAAAAAAABZQAAAAAAAAFlAAAAAAAAAWUAAAAAAAABZQAAAAAAAAFlAAAAAAAAAWUAAAAAAAABZQAAAAAAAAFlAAAAAAAAAWUAAAAAAAABZQA==\"},\"shape\":[458],\"dtype\":\"float64\",\"order\":\"little\"}]]}}},\"view\":{\"type\":\"object\",\"name\":\"CDSView\",\"id\":\"e59ed17d-87b1-41e8-b3ef-5b3267a5a845\",\"attributes\":{\"filter\":{\"type\":\"object\",\"name\":\"AllIndices\",\"id\":\"c1cae8a2-e0c3-45d1-bb3c-f13402bdf1bb\"}}},\"glyph\":{\"type\":\"object\",\"name\":\"Patch\",\"id\":\"abac6e72-9a66-4805-8e68-3dce9455a20f\",\"attributes\":{\"tags\":[\"apply_ranges\"],\"x\":{\"type\":\"field\",\"field\":\"x\"},\"y\":{\"type\":\"field\",\"field\":\"y\"},\"fill_color\":\"#6d904f\",\"hatch_color\":\"#6d904f\"}},\"selection_glyph\":{\"type\":\"object\",\"name\":\"Patch\",\"id\":\"0eb5c0f0-de1f-4814-90f9-62e427e66609\",\"attributes\":{\"tags\":[\"apply_ranges\"],\"x\":{\"type\":\"field\",\"field\":\"x\"},\"y\":{\"type\":\"field\",\"field\":\"y\"},\"fill_color\":\"#6d904f\",\"hatch_color\":\"#6d904f\"}},\"nonselection_glyph\":{\"type\":\"object\",\"name\":\"Patch\",\"id\":\"63eda38e-4d9e-40f0-ad7b-a5f384d70f60\",\"attributes\":{\"tags\":[\"apply_ranges\"],\"x\":{\"type\":\"field\",\"field\":\"x\"},\"y\":{\"type\":\"field\",\"field\":\"y\"},\"line_alpha\":1,\"fill_color\":\"#6d904f\",\"fill_alpha\":1,\"hatch_color\":\"#6d904f\",\"hatch_alpha\":0.1}},\"muted_glyph\":{\"type\":\"object\",\"name\":\"Patch\",\"id\":\"69e8d253-208f-42fc-931d-139659948343\",\"attributes\":{\"tags\":[\"apply_ranges\"],\"x\":{\"type\":\"field\",\"field\":\"x\"},\"y\":{\"type\":\"field\",\"field\":\"y\"},\"line_alpha\":0.2,\"fill_color\":\"#6d904f\",\"fill_alpha\":0.2,\"hatch_color\":\"#6d904f\",\"hatch_alpha\":0.2}}}}],\"tooltips\":[[\"tenure\",\"@{tenure}\"],[\"date\",\"@{date}\"],[\"pct_legislators\",\"@{pct_legislators}\"],[\"Baseline\",\"@{Baseline}\"]],\"formatters\":{\"type\":\"map\",\"entries\":[[\"@{x}\",\"datetime\"]]}}}]}},{\"type\":\"object\",\"name\":\"SaveTool\",\"id\":\"2f09a376-bd50-49f9-bbf9-4de932e59745\"},{\"type\":\"object\",\"name\":\"ToolProxy\",\"id\":\"20eaf6fa-2a08-4c64-a071-b5b36ee11a97\",\"attributes\":{\"tools\":[{\"type\":\"object\",\"name\":\"PanTool\",\"id\":\"0fbc7546-8732-4f70-9e6b-eb6ebaf7ac5c\"},{\"type\":\"object\",\"name\":\"PanTool\",\"id\":\"b3be1fd8-5470-4b91-b23b-d44ab113f435\"}]}},{\"type\":\"object\",\"name\":\"ToolProxy\",\"id\":\"0a01897e-8c0b-4df3-acc2-78937bdcf6e2\",\"attributes\":{\"tools\":[{\"type\":\"object\",\"name\":\"BoxZoomTool\",\"id\":\"ec9e7268-80e0-4a4a-a66a-2b9a98e4423e\",\"attributes\":{\"overlay\":{\"type\":\"object\",\"name\":\"BoxAnnotation\",\"id\":\"a611e8e5-aa34-4476-b33c-72e019101d1b\",\"attributes\":{\"syncable\":false,\"level\":\"overlay\",\"visible\":false,\"left_units\":\"canvas\",\"right_units\":\"canvas\",\"bottom_units\":\"canvas\",\"top_units\":\"canvas\",\"line_color\":\"black\",\"line_alpha\":1.0,\"line_width\":2,\"line_dash\":[4,4],\"fill_color\":\"lightgrey\",\"fill_alpha\":0.5}}}},{\"type\":\"object\",\"name\":\"BoxZoomTool\",\"id\":\"185bce93-e789-4845-8034-48597e71a758\",\"attributes\":{\"overlay\":{\"type\":\"object\",\"name\":\"BoxAnnotation\",\"id\":\"0f075d08-488e-4c05-8cad-a6e00cd32505\",\"attributes\":{\"syncable\":false,\"level\":\"overlay\",\"visible\":false,\"left_units\":\"canvas\",\"right_units\":\"canvas\",\"bottom_units\":\"canvas\",\"top_units\":\"canvas\",\"line_color\":\"black\",\"line_alpha\":1.0,\"line_width\":2,\"line_dash\":[4,4],\"fill_color\":\"lightgrey\",\"fill_alpha\":0.5}}}}]}},{\"type\":\"object\",\"name\":\"ToolProxy\",\"id\":\"e90ea4c4-503a-4b5e-93ae-0bb8ad63c904\",\"attributes\":{\"tools\":[{\"type\":\"object\",\"name\":\"ResetTool\",\"id\":\"3b0ec1dc-783d-4c8f-9818-83cf7f992d9b\"},{\"type\":\"object\",\"name\":\"ResetTool\",\"id\":\"36bb0336-dbb8-473b-a0d1-ab13fe6930cf\"}]}}]}},\"children\":[[{\"type\":\"object\",\"name\":\"Figure\",\"id\":\"fa92b10b-18bd-4488-b5e1-092544f2cfa3\",\"attributes\":{\"width\":1200,\"height\":325,\"sizing_mode\":\"fixed\",\"align\":\"start\",\"x_range\":{\"type\":\"object\",\"name\":\"Range1d\",\"id\":\"0ab9ea22-123c-4aa5-9c20-450532d87e18\",\"attributes\":{\"tags\":[[[\"date\",\"date\",null]],[]],\"start\":-5680281600000.0,\"end\":1577750400000.0,\"reset_start\":-5680281600000.0,\"reset_end\":1577750400000.0}},\"y_range\":{\"type\":\"object\",\"name\":\"Range1d\",\"id\":\"4433f5ec-66ba-4161-95a6-9f52031a82e7\",\"attributes\":{\"tags\":[[[\"value\",\"value\",null]],{\"type\":\"map\",\"entries\":[[\"invert_yaxis\",false],[\"autorange\",false]]}],\"end\":100,\"reset_start\":0,\"reset_end\":100}},\"x_scale\":{\"type\":\"object\",\"name\":\"LinearScale\",\"id\":\"4c1c7f60-e7e7-4bdc-8927-e072169d0e23\"},\"y_scale\":{\"type\":\"object\",\"name\":\"LinearScale\",\"id\":\"9f7286c2-c573-4dc5-8024-f7ed34b49c37\"},\"title\":{\"type\":\"object\",\"name\":\"Title\",\"id\":\"f34402cc-f926-40f2-8a5b-a953eb6eac2b\",\"attributes\":{\"text\":\"Percentage of legislators each year by first term centenary\",\"text_color\":\"black\",\"text_font_size\":\"12pt\"}},\"renderers\":[{\"id\":\"63097372-3795-4b81-a930-c076fd6af029\"},{\"id\":\"6e99b646-fdd9-49dc-ab4d-e8fa9892258a\"},{\"id\":\"930521aa-7896-41ab-b6a0-3da8d89afb16\"},{\"id\":\"f81af669-c484-4c0f-9ebf-2e5edb213a0a\"}],\"toolbar\":{\"type\":\"object\",\"name\":\"Toolbar\",\"id\":\"32a32539-deac-4f1d-9b01-b12c2738d3cb\",\"attributes\":{\"tools\":[{\"id\":\"adba10fa-d3c5-47c0-b8a1-da4e84fa0360\"},{\"id\":\"1455d4b9-cee7-4b99-8e76-711b3d1b1c17\"},{\"type\":\"object\",\"name\":\"SaveTool\",\"id\":\"b5aa92c1-7e62-4f47-8b04-49ff1e6ec930\"},{\"id\":\"0fbc7546-8732-4f70-9e6b-eb6ebaf7ac5c\"},{\"id\":\"ec9e7268-80e0-4a4a-a66a-2b9a98e4423e\"},{\"id\":\"3b0ec1dc-783d-4c8f-9818-83cf7f992d9b\"}],\"active_drag\":{\"id\":\"0fbc7546-8732-4f70-9e6b-eb6ebaf7ac5c\"},\"active_scroll\":{\"id\":\"adba10fa-d3c5-47c0-b8a1-da4e84fa0360\"}}},\"toolbar_location\":null,\"left\":[{\"type\":\"object\",\"name\":\"LinearAxis\",\"id\":\"0b23c06f-eeaa-477a-a77e-32f41194cff0\",\"attributes\":{\"ticker\":{\"type\":\"object\",\"name\":\"BasicTicker\",\"id\":\"cc0c160e-089f-4dd7-9092-1a48caf66599\",\"attributes\":{\"mantissas\":[1,2,5]}},\"formatter\":{\"type\":\"object\",\"name\":\"BasicTickFormatter\",\"id\":\"1db048ed-8ad2-41b6-a38e-d947fbfa28fa\"},\"axis_label\":\"\",\"major_label_policy\":{\"type\":\"object\",\"name\":\"AllLabels\",\"id\":\"61fa8b59-47d2-4652-b5e7-29b2c24383cd\"}}}],\"above\":[{\"type\":\"object\",\"name\":\"Legend\",\"id\":\"102b1892-4b86-4388-abcf-31f01bf6460a\",\"attributes\":{\"location\":[0,0],\"orientation\":\"horizontal\",\"title\":\"Variable\",\"click_policy\":\"mute\",\"items\":[{\"type\":\"object\",\"name\":\"LegendItem\",\"id\":\"27022c2b-95c8-45f2-b207-8a9579dc224e\",\"attributes\":{\"label\":{\"type\":\"value\",\"value\":\"pct_18\"},\"renderers\":[{\"id\":\"63097372-3795-4b81-a930-c076fd6af029\"}]}},{\"type\":\"object\",\"name\":\"LegendItem\",\"id\":\"033f6006-44cc-49f3-8a7b-9620ed27e0e2\",\"attributes\":{\"label\":{\"type\":\"value\",\"value\":\"pct_19\"},\"renderers\":[{\"id\":\"6e99b646-fdd9-49dc-ab4d-e8fa9892258a\"}]}},{\"type\":\"object\",\"name\":\"LegendItem\",\"id\":\"63e1cb27-ae9f-467a-9e03-49cf22eb00b6\",\"attributes\":{\"label\":{\"type\":\"value\",\"value\":\"pct_20\"},\"renderers\":[{\"id\":\"930521aa-7896-41ab-b6a0-3da8d89afb16\"}]}},{\"type\":\"object\",\"name\":\"LegendItem\",\"id\":\"d9d59130-5eef-4938-bdf9-0c8b2269bb98\",\"attributes\":{\"label\":{\"type\":\"value\",\"value\":\"pct_21\"},\"renderers\":[{\"id\":\"f81af669-c484-4c0f-9ebf-2e5edb213a0a\"}]}}]}}],\"below\":[{\"type\":\"object\",\"name\":\"DatetimeAxis\",\"id\":\"4bcc9380-e02a-468a-aa9d-2630335330ed\",\"attributes\":{\"ticker\":{\"type\":\"object\",\"name\":\"DatetimeTicker\",\"id\":\"c347c72a-6ad2-48b9-bcae-b2607da84eed\",\"attributes\":{\"num_minor_ticks\":5,\"tickers\":[{\"type\":\"object\",\"name\":\"AdaptiveTicker\",\"id\":\"d5f66b48-18bd-4037-98cc-c6580246ae34\",\"attributes\":{\"num_minor_ticks\":0,\"mantissas\":[1,2,5],\"max_interval\":500.0}},{\"type\":\"object\",\"name\":\"AdaptiveTicker\",\"id\":\"3ebad5c1-c4f1-4a92-90f2-602ad8321199\",\"attributes\":{\"num_minor_ticks\":0,\"base\":60,\"mantissas\":[1,2,5,10,15,20,30],\"min_interval\":1000.0,\"max_interval\":1800000.0}},{\"type\":\"object\",\"name\":\"AdaptiveTicker\",\"id\":\"045bc226-f080-4466-86de-44cd9f623b32\",\"attributes\":{\"num_minor_ticks\":0,\"base\":24,\"mantissas\":[1,2,4,6,8,12],\"min_interval\":3600000.0,\"max_interval\":43200000.0}},{\"type\":\"object\",\"name\":\"DaysTicker\",\"id\":\"135d022f-52df-4537-91c5-b6d5f140287f\",\"attributes\":{\"days\":[1,2,3,4,5,6,7,8,9,10,11,12,13,14,15,16,17,18,19,20,21,22,23,24,25,26,27,28,29,30,31]}},{\"type\":\"object\",\"name\":\"DaysTicker\",\"id\":\"c2d26289-7600-4961-ab17-4932de57e8b1\",\"attributes\":{\"days\":[1,4,7,10,13,16,19,22,25,28]}},{\"type\":\"object\",\"name\":\"DaysTicker\",\"id\":\"91e76fb7-7316-4f56-817d-b4cb2c925a6f\",\"attributes\":{\"days\":[1,8,15,22]}},{\"type\":\"object\",\"name\":\"DaysTicker\",\"id\":\"ecd7258c-72d7-498a-ae24-75e092f27df7\",\"attributes\":{\"days\":[1,15]}},{\"type\":\"object\",\"name\":\"MonthsTicker\",\"id\":\"aad83307-3cb1-4d60-9d3f-1f43074eb8ab\",\"attributes\":{\"months\":[0,1,2,3,4,5,6,7,8,9,10,11]}},{\"type\":\"object\",\"name\":\"MonthsTicker\",\"id\":\"c7b99743-459c-4718-b302-30fe490f4591\",\"attributes\":{\"months\":[0,2,4,6,8,10]}},{\"type\":\"object\",\"name\":\"MonthsTicker\",\"id\":\"f1fb4a4f-3357-4380-b3ee-5708cdaa69b6\",\"attributes\":{\"months\":[0,4,8]}},{\"type\":\"object\",\"name\":\"MonthsTicker\",\"id\":\"ddd68319-0095-4dac-87a0-136f2f2030b4\",\"attributes\":{\"months\":[0,6]}},{\"type\":\"object\",\"name\":\"YearsTicker\",\"id\":\"d2026708-157c-4f78-bbe2-13a252c99c1b\"}]}},\"formatter\":{\"type\":\"object\",\"name\":\"DatetimeTickFormatter\",\"id\":\"e65145e0-1c77-44a1-88dd-d1baab3d0dca\"},\"axis_label\":\"date\",\"major_label_policy\":{\"type\":\"object\",\"name\":\"AllLabels\",\"id\":\"772adcd3-f8b2-4f6b-92df-f681d30585f5\"}}}],\"center\":[{\"type\":\"object\",\"name\":\"Grid\",\"id\":\"2c10b50f-96dc-4f43-b3e9-ff414eaed68e\",\"attributes\":{\"axis\":{\"id\":\"4bcc9380-e02a-468a-aa9d-2630335330ed\"},\"grid_line_color\":null}},{\"type\":\"object\",\"name\":\"Grid\",\"id\":\"6c776897-0b30-4533-976e-d78a6c21230a\",\"attributes\":{\"dimension\":1,\"axis\":{\"id\":\"0b23c06f-eeaa-477a-a77e-32f41194cff0\"},\"grid_line_color\":null}}],\"min_border_top\":10,\"min_border_bottom\":10,\"min_border_left\":10,\"min_border_right\":10,\"output_backend\":\"webgl\"}},0,0],[{\"type\":\"object\",\"name\":\"Figure\",\"id\":\"2efe7465-a775-4a03-9dc2-cb78a64eacb3\",\"attributes\":{\"width\":1200,\"height\":325,\"sizing_mode\":\"fixed\",\"align\":\"start\",\"x_range\":{\"type\":\"object\",\"name\":\"Range1d\",\"id\":\"f9c45cfb-2694-4304-b0e2-0aa08c804c37\",\"attributes\":{\"tags\":[[[\"date\",\"date\",null]],[]],\"start\":-5680281600000.0,\"end\":1577750400000.0,\"reset_start\":-5680281600000.0,\"reset_end\":1577750400000.0}},\"y_range\":{\"type\":\"object\",\"name\":\"Range1d\",\"id\":\"98c0e4c5-5f9d-4121-a0fa-08229e047e5b\",\"attributes\":{\"tags\":[[[\"pct_legislators\",\"pct_legislators\",null]],{\"type\":\"map\",\"entries\":[[\"invert_yaxis\",false],[\"autorange\",false]]}],\"end\":100,\"reset_start\":0,\"reset_end\":100}},\"x_scale\":{\"type\":\"object\",\"name\":\"LinearScale\",\"id\":\"b59747e1-73d9-4535-b816-98fbdaccac10\"},\"y_scale\":{\"type\":\"object\",\"name\":\"LinearScale\",\"id\":\"9c2db14f-9fa2-41f6-9116-88cd9e11639f\"},\"title\":{\"type\":\"object\",\"name\":\"Title\",\"id\":\"1853aeec-2fe7-475c-a027-f705f29cfb2e\",\"attributes\":{\"text\":\"Percentage of legislators by length of time in office\",\"text_color\":\"black\",\"text_font_size\":\"12pt\"}},\"renderers\":[{\"id\":\"61b7328d-2c6e-4749-a2ce-7e2395e31237\"},{\"id\":\"9e297e5e-a2bd-4a67-b75b-37b6f2a3e7c6\"},{\"id\":\"a8cb9c3b-53ce-4a6a-9c61-8f9870e6579b\"},{\"id\":\"03716958-ebe7-499e-a59f-958e8351aeec\"}],\"toolbar\":{\"type\":\"object\",\"name\":\"Toolbar\",\"id\":\"7b881b25-3430-49f4-b283-9ec46af06561\",\"attributes\":{\"tools\":[{\"id\":\"dd356033-9e9d-4067-bf08-b96826ebce62\"},{\"id\":\"19fcae22-8654-4383-9ae8-7840e21901d7\"},{\"type\":\"object\",\"name\":\"SaveTool\",\"id\":\"f7035a45-9d65-4d74-bf19-03021da4d39b\"},{\"id\":\"b3be1fd8-5470-4b91-b23b-d44ab113f435\"},{\"id\":\"185bce93-e789-4845-8034-48597e71a758\"},{\"id\":\"36bb0336-dbb8-473b-a0d1-ab13fe6930cf\"}],\"active_drag\":{\"id\":\"b3be1fd8-5470-4b91-b23b-d44ab113f435\"},\"active_scroll\":{\"id\":\"dd356033-9e9d-4067-bf08-b96826ebce62\"}}},\"toolbar_location\":null,\"left\":[{\"type\":\"object\",\"name\":\"LinearAxis\",\"id\":\"5eb7c1a6-28c3-47b3-9488-a2d37e542eb9\",\"attributes\":{\"ticker\":{\"type\":\"object\",\"name\":\"BasicTicker\",\"id\":\"26ee32d6-f666-4d86-afc3-31a835f245a0\",\"attributes\":{\"mantissas\":[1,2,5]}},\"formatter\":{\"type\":\"object\",\"name\":\"BasicTickFormatter\",\"id\":\"51fa206d-db3b-4bb8-8031-b9ca5292844f\"},\"axis_label\":\"pct_legislators\",\"major_label_policy\":{\"type\":\"object\",\"name\":\"AllLabels\",\"id\":\"77b40b78-8b4d-4a70-90c1-bc3d173b102d\"}}}],\"above\":[{\"type\":\"object\",\"name\":\"Legend\",\"id\":\"492642af-9152-4c16-99c2-233f4c094a06\",\"attributes\":{\"location\":[0,0],\"orientation\":\"horizontal\",\"title\":\"tenure\",\"click_policy\":\"mute\",\"items\":[{\"type\":\"object\",\"name\":\"LegendItem\",\"id\":\"cd490fe2-ac0e-41ee-9b56-1958f88728eb\",\"attributes\":{\"label\":{\"type\":\"value\",\"value\":\"1 to 4\"},\"renderers\":[{\"id\":\"61b7328d-2c6e-4749-a2ce-7e2395e31237\"}]}},{\"type\":\"object\",\"name\":\"LegendItem\",\"id\":\"4e37f339-feb9-4da8-97b6-5b6b3b1dabb9\",\"attributes\":{\"label\":{\"type\":\"value\",\"value\":\"11 to 20\"},\"renderers\":[{\"id\":\"9e297e5e-a2bd-4a67-b75b-37b6f2a3e7c6\"}]}},{\"type\":\"object\",\"name\":\"LegendItem\",\"id\":\"ed866aba-7a20-49fd-ad17-7805717ce615\",\"attributes\":{\"label\":{\"type\":\"value\",\"value\":\"21+\"},\"renderers\":[{\"id\":\"a8cb9c3b-53ce-4a6a-9c61-8f9870e6579b\"}]}},{\"type\":\"object\",\"name\":\"LegendItem\",\"id\":\"0d364b55-ab0b-42d7-a4db-99a9073891fa\",\"attributes\":{\"label\":{\"type\":\"value\",\"value\":\"5 to 10\"},\"renderers\":[{\"id\":\"03716958-ebe7-499e-a59f-958e8351aeec\"}]}}]}}],\"below\":[{\"type\":\"object\",\"name\":\"DatetimeAxis\",\"id\":\"3470d783-4c77-47a4-8393-dc2e9fd58022\",\"attributes\":{\"ticker\":{\"type\":\"object\",\"name\":\"DatetimeTicker\",\"id\":\"94c7784f-4413-4dcf-8522-4894b94a8994\",\"attributes\":{\"num_minor_ticks\":5,\"tickers\":[{\"type\":\"object\",\"name\":\"AdaptiveTicker\",\"id\":\"51457bbb-43f1-46ab-b7e7-75d73c6979a7\",\"attributes\":{\"num_minor_ticks\":0,\"mantissas\":[1,2,5],\"max_interval\":500.0}},{\"type\":\"object\",\"name\":\"AdaptiveTicker\",\"id\":\"2cee787e-de53-4432-8a44-5ecdf48ea91f\",\"attributes\":{\"num_minor_ticks\":0,\"base\":60,\"mantissas\":[1,2,5,10,15,20,30],\"min_interval\":1000.0,\"max_interval\":1800000.0}},{\"type\":\"object\",\"name\":\"AdaptiveTicker\",\"id\":\"5976b699-0da8-4808-8eaf-c17339ee47ae\",\"attributes\":{\"num_minor_ticks\":0,\"base\":24,\"mantissas\":[1,2,4,6,8,12],\"min_interval\":3600000.0,\"max_interval\":43200000.0}},{\"type\":\"object\",\"name\":\"DaysTicker\",\"id\":\"6a5cd8df-b8ee-4bf6-9df9-bacd02bc73eb\",\"attributes\":{\"days\":[1,2,3,4,5,6,7,8,9,10,11,12,13,14,15,16,17,18,19,20,21,22,23,24,25,26,27,28,29,30,31]}},{\"type\":\"object\",\"name\":\"DaysTicker\",\"id\":\"8ff3fa51-74de-4647-b89c-7a2eebf4fb62\",\"attributes\":{\"days\":[1,4,7,10,13,16,19,22,25,28]}},{\"type\":\"object\",\"name\":\"DaysTicker\",\"id\":\"de04bf00-2f00-43b4-b331-cabe695038fd\",\"attributes\":{\"days\":[1,8,15,22]}},{\"type\":\"object\",\"name\":\"DaysTicker\",\"id\":\"312c14b6-ead8-4ff5-938a-fe1f2d65db61\",\"attributes\":{\"days\":[1,15]}},{\"type\":\"object\",\"name\":\"MonthsTicker\",\"id\":\"5fb1ba5f-8cf6-48b2-984c-cbb376594956\",\"attributes\":{\"months\":[0,1,2,3,4,5,6,7,8,9,10,11]}},{\"type\":\"object\",\"name\":\"MonthsTicker\",\"id\":\"080a8fcb-ddec-4e3c-9fe3-bfc445d7498e\",\"attributes\":{\"months\":[0,2,4,6,8,10]}},{\"type\":\"object\",\"name\":\"MonthsTicker\",\"id\":\"228b9bd6-8975-424f-b663-d0167079c931\",\"attributes\":{\"months\":[0,4,8]}},{\"type\":\"object\",\"name\":\"MonthsTicker\",\"id\":\"152af0e8-fbaf-446b-b53b-161ee1d34c8d\",\"attributes\":{\"months\":[0,6]}},{\"type\":\"object\",\"name\":\"YearsTicker\",\"id\":\"673f3c49-715d-4b9c-b162-b941884334bb\"}]}},\"formatter\":{\"type\":\"object\",\"name\":\"DatetimeTickFormatter\",\"id\":\"4b1586af-93f0-40cf-8eeb-9b4f7eafcb3d\"},\"axis_label\":\"date\",\"major_label_policy\":{\"type\":\"object\",\"name\":\"AllLabels\",\"id\":\"23578649-7c5e-492b-a5d9-8ed0425908dd\"}}}],\"center\":[{\"type\":\"object\",\"name\":\"Grid\",\"id\":\"a9540e53-5d4e-43ae-92ba-c1cf164bc8f5\",\"attributes\":{\"axis\":{\"id\":\"3470d783-4c77-47a4-8393-dc2e9fd58022\"},\"grid_line_color\":null}},{\"type\":\"object\",\"name\":\"Grid\",\"id\":\"b89b3352-643c-4693-8691-13ec01543417\",\"attributes\":{\"dimension\":1,\"axis\":{\"id\":\"5eb7c1a6-28c3-47b3-9488-a2d37e542eb9\"},\"grid_line_color\":null}}],\"min_border_top\":10,\"min_border_bottom\":10,\"min_border_left\":10,\"min_border_right\":10,\"output_backend\":\"webgl\"}},1,0]]}},{\"type\":\"object\",\"name\":\"Spacer\",\"id\":\"fe970f36-f312-4481-95fd-5f4c2efe1eb6\",\"attributes\":{\"name\":\"HSpacer56046\",\"stylesheets\":[\"\\n:host(.pn-loading.pn-arc):before, .pn-loading.pn-arc:before {\\n  background-image: url(\\\"data:image/svg+xml;base64,PHN2ZyB4bWxucz0iaHR0cDovL3d3dy53My5vcmcvMjAwMC9zdmciIHN0eWxlPSJtYXJnaW46IGF1dG87IGJhY2tncm91bmQ6IG5vbmU7IGRpc3BsYXk6IGJsb2NrOyBzaGFwZS1yZW5kZXJpbmc6IGF1dG87IiB2aWV3Qm94PSIwIDAgMTAwIDEwMCIgcHJlc2VydmVBc3BlY3RSYXRpbz0ieE1pZFlNaWQiPiAgPGNpcmNsZSBjeD0iNTAiIGN5PSI1MCIgZmlsbD0ibm9uZSIgc3Ryb2tlPSIjYzNjM2MzIiBzdHJva2Utd2lkdGg9IjEwIiByPSIzNSIgc3Ryb2tlLWRhc2hhcnJheT0iMTY0LjkzMzYxNDMxMzQ2NDE1IDU2Ljk3Nzg3MTQzNzgyMTM4Ij4gICAgPGFuaW1hdGVUcmFuc2Zvcm0gYXR0cmlidXRlTmFtZT0idHJhbnNmb3JtIiB0eXBlPSJyb3RhdGUiIHJlcGVhdENvdW50PSJpbmRlZmluaXRlIiBkdXI9IjFzIiB2YWx1ZXM9IjAgNTAgNTA7MzYwIDUwIDUwIiBrZXlUaW1lcz0iMDsxIj48L2FuaW1hdGVUcmFuc2Zvcm0+ICA8L2NpcmNsZT48L3N2Zz4=\\\");\\n  background-size: auto calc(min(50%, 400px));\\n}\",{\"id\":\"4d35b0a3-934a-4342-9e86-a43033dacf1f\"},{\"id\":\"a2c60594-7b59-4f3b-89f7-a5cc905211ba\"},{\"id\":\"ee11bcf2-c420-4600-af40-6c4fccfd8cab\"}],\"margin\":0,\"sizing_mode\":\"stretch_width\",\"align\":\"start\"}}]}}],\"defs\":[{\"type\":\"model\",\"name\":\"ReactiveHTML1\"},{\"type\":\"model\",\"name\":\"FlexBox1\",\"properties\":[{\"name\":\"align_content\",\"kind\":\"Any\",\"default\":\"flex-start\"},{\"name\":\"align_items\",\"kind\":\"Any\",\"default\":\"flex-start\"},{\"name\":\"flex_direction\",\"kind\":\"Any\",\"default\":\"row\"},{\"name\":\"flex_wrap\",\"kind\":\"Any\",\"default\":\"wrap\"},{\"name\":\"justify_content\",\"kind\":\"Any\",\"default\":\"flex-start\"}]},{\"type\":\"model\",\"name\":\"FloatPanel1\",\"properties\":[{\"name\":\"config\",\"kind\":\"Any\",\"default\":{\"type\":\"map\"}},{\"name\":\"contained\",\"kind\":\"Any\",\"default\":true},{\"name\":\"position\",\"kind\":\"Any\",\"default\":\"right-top\"},{\"name\":\"offsetx\",\"kind\":\"Any\",\"default\":null},{\"name\":\"offsety\",\"kind\":\"Any\",\"default\":null},{\"name\":\"theme\",\"kind\":\"Any\",\"default\":\"primary\"},{\"name\":\"status\",\"kind\":\"Any\",\"default\":\"normalized\"}]},{\"type\":\"model\",\"name\":\"GridStack1\",\"properties\":[{\"name\":\"mode\",\"kind\":\"Any\",\"default\":\"warn\"},{\"name\":\"ncols\",\"kind\":\"Any\",\"default\":null},{\"name\":\"nrows\",\"kind\":\"Any\",\"default\":null},{\"name\":\"allow_resize\",\"kind\":\"Any\",\"default\":true},{\"name\":\"allow_drag\",\"kind\":\"Any\",\"default\":true},{\"name\":\"state\",\"kind\":\"Any\",\"default\":[]}]},{\"type\":\"model\",\"name\":\"drag1\",\"properties\":[{\"name\":\"slider_width\",\"kind\":\"Any\",\"default\":5},{\"name\":\"slider_color\",\"kind\":\"Any\",\"default\":\"black\"},{\"name\":\"value\",\"kind\":\"Any\",\"default\":50}]},{\"type\":\"model\",\"name\":\"click1\",\"properties\":[{\"name\":\"terminal_output\",\"kind\":\"Any\",\"default\":\"\"},{\"name\":\"debug_name\",\"kind\":\"Any\",\"default\":\"\"},{\"name\":\"clears\",\"kind\":\"Any\",\"default\":0}]},{\"type\":\"model\",\"name\":\"FastWrapper1\",\"properties\":[{\"name\":\"object\",\"kind\":\"Any\",\"default\":null},{\"name\":\"style\",\"kind\":\"Any\",\"default\":null}]},{\"type\":\"model\",\"name\":\"NotificationAreaBase1\",\"properties\":[{\"name\":\"js_events\",\"kind\":\"Any\",\"default\":{\"type\":\"map\"}},{\"name\":\"position\",\"kind\":\"Any\",\"default\":\"bottom-right\"},{\"name\":\"_clear\",\"kind\":\"Any\",\"default\":0}]},{\"type\":\"model\",\"name\":\"NotificationArea1\",\"properties\":[{\"name\":\"js_events\",\"kind\":\"Any\",\"default\":{\"type\":\"map\"}},{\"name\":\"notifications\",\"kind\":\"Any\",\"default\":[]},{\"name\":\"position\",\"kind\":\"Any\",\"default\":\"bottom-right\"},{\"name\":\"_clear\",\"kind\":\"Any\",\"default\":0},{\"name\":\"types\",\"kind\":\"Any\",\"default\":[{\"type\":\"map\",\"entries\":[[\"type\",\"warning\"],[\"background\",\"#ffc107\"],[\"icon\",{\"type\":\"map\",\"entries\":[[\"className\",\"fas fa-exclamation-triangle\"],[\"tagName\",\"i\"],[\"color\",\"white\"]]}]]},{\"type\":\"map\",\"entries\":[[\"type\",\"info\"],[\"background\",\"#007bff\"],[\"icon\",{\"type\":\"map\",\"entries\":[[\"className\",\"fas fa-info-circle\"],[\"tagName\",\"i\"],[\"color\",\"white\"]]}]]}]}]},{\"type\":\"model\",\"name\":\"Notification\",\"properties\":[{\"name\":\"background\",\"kind\":\"Any\",\"default\":null},{\"name\":\"duration\",\"kind\":\"Any\",\"default\":3000},{\"name\":\"icon\",\"kind\":\"Any\",\"default\":null},{\"name\":\"message\",\"kind\":\"Any\",\"default\":\"\"},{\"name\":\"notification_type\",\"kind\":\"Any\",\"default\":null},{\"name\":\"_destroyed\",\"kind\":\"Any\",\"default\":false}]},{\"type\":\"model\",\"name\":\"TemplateActions1\",\"properties\":[{\"name\":\"open_modal\",\"kind\":\"Any\",\"default\":0},{\"name\":\"close_modal\",\"kind\":\"Any\",\"default\":0}]},{\"type\":\"model\",\"name\":\"BootstrapTemplateActions1\",\"properties\":[{\"name\":\"open_modal\",\"kind\":\"Any\",\"default\":0},{\"name\":\"close_modal\",\"kind\":\"Any\",\"default\":0}]},{\"type\":\"model\",\"name\":\"MaterialTemplateActions1\",\"properties\":[{\"name\":\"open_modal\",\"kind\":\"Any\",\"default\":0},{\"name\":\"close_modal\",\"kind\":\"Any\",\"default\":0}]}]}};\n",
       "  var render_items = [{\"docid\":\"e505e2fe-0342-4098-b8fb-e17541110cf1\",\"roots\":{\"14fa064f-90e7-4c89-8c33-1cbe738ca33b\":\"cc3cbb76-5496-4a34-aca3-778f780e8c7b\"},\"root_ids\":[\"14fa064f-90e7-4c89-8c33-1cbe738ca33b\"]}];\n",
       "  var docs = Object.values(docs_json)\n",
       "  if (!docs) {\n",
       "    return\n",
       "  }\n",
       "  const py_version = docs[0].version.replace('rc', '-rc.').replace('.dev', '-dev.')\n",
       "  const is_dev = py_version.indexOf(\"+\") !== -1 || py_version.indexOf(\"-\") !== -1\n",
       "  function embed_document(root) {\n",
       "    var Bokeh = get_bokeh(root)\n",
       "    Bokeh.embed.embed_items_notebook(docs_json, render_items);\n",
       "    for (const render_item of render_items) {\n",
       "      for (const root_id of render_item.root_ids) {\n",
       "\tconst id_el = document.getElementById(root_id)\n",
       "\tif (id_el.children.length && (id_el.children[0].className === 'bk-root')) {\n",
       "\t  const root_el = id_el.children[0]\n",
       "\t  root_el.id = root_el.id + '-rendered'\n",
       "\t}\n",
       "      }\n",
       "    }\n",
       "  }\n",
       "  function get_bokeh(root) {\n",
       "    if (root.Bokeh === undefined) {\n",
       "      return null\n",
       "    } else if (root.Bokeh.version !== py_version && !is_dev) {\n",
       "      if (root.Bokeh.versions === undefined || !root.Bokeh.versions.has(py_version)) {\n",
       "\treturn null\n",
       "      }\n",
       "      return root.Bokeh.versions.get(py_version);\n",
       "    } else if (root.Bokeh.version === py_version) {\n",
       "      return root.Bokeh\n",
       "    }\n",
       "    return null\n",
       "  }\n",
       "  function is_loaded(root) {\n",
       "    var Bokeh = get_bokeh(root)\n",
       "    return (Bokeh != null && Bokeh.Panel !== undefined)\n",
       "  }\n",
       "  if (is_loaded(root)) {\n",
       "    embed_document(root);\n",
       "  } else {\n",
       "    var attempts = 0;\n",
       "    var timer = setInterval(function(root) {\n",
       "      if (is_loaded(root)) {\n",
       "        clearInterval(timer);\n",
       "        embed_document(root);\n",
       "      } else if (document.readyState == \"complete\") {\n",
       "        attempts++;\n",
       "        if (attempts > 200) {\n",
       "          clearInterval(timer);\n",
       "\t  var Bokeh = get_bokeh(root)\n",
       "\t  if (Bokeh == null || Bokeh.Panel == null) {\n",
       "            console.warn(\"Panel: ERROR: Unable to run Panel code because Bokeh or Panel library is missing\");\n",
       "\t  } else {\n",
       "\t    console.warn(\"Panel: WARNING: Attempting to render but not all required libraries could be resolved.\")\n",
       "\t    embed_document(root)\n",
       "\t  }\n",
       "        }\n",
       "      }\n",
       "    }, 25, root)\n",
       "  }\n",
       "})(window);</script>"
      ],
      "text/plain": [
       ":Layout\n",
       "   .NdOverlay.Percentage_of_legislators_each_year_by_first_term_centenary :NdOverlay   [Variable]\n",
       "      :Area   [date]   (value,Baseline)\n",
       "   .NdOverlay.Percentage_of_legislators_by_length_of_time_in_office       :NdOverlay   [tenure]\n",
       "      :Area   [date]   (pct_legislators,Baseline)"
      ]
     },
     "execution_count": 409,
     "metadata": {
      "application/vnd.holoviews_exec.v0+json": {
       "id": "14fa064f-90e7-4c89-8c33-1cbe738ca33b"
      }
     },
     "output_type": "execute_result"
    }
   ],
   "source": [
    "slaid_3 = (plot_8 + plot_9).cols(1)\n",
    "slaid_3"
   ]
  },
  {
   "cell_type": "markdown",
   "id": "68fac17d-374d-4992-be1a-da28ee8fb0ff",
   "metadata": {},
   "source": [
    "# Preparation of the dashboard"
   ]
  },
  {
   "cell_type": "code",
   "execution_count": 410,
   "id": "5410aa9c-2c6e-40b8-8865-cb18bd30ba2d",
   "metadata": {
    "tags": []
   },
   "outputs": [],
   "source": [
    "template = pn.template.SlidesTemplate(title='Cohort analysis',\n",
    "    sidebar=[\n",
    "        pn.pane.Markdown('# About the project'),\n",
    "        pn.pane.Markdown('### This work used a dataset of former and current members of the US Congress. The project also uses different types of visualization, such as: [Panel](https://panel.holoviz.org/), [hvPlot](https://hvplot.holoviz.org/).'),\n",
    "        pn.pane.Markdown('### You can also see other works placed in the repository on [Github](https://github.com/DanilaPastukhov00).')\n",
    "    ])\n",
    "\n",
    "template.main.extend([   \n",
    "    pn.pane.Markdown('Cohort analysis', styles={'font-size': '3em'}, align='center'),\n",
    "    pn.Card(slaid_1, title='General Retention Analysis'),\n",
    "    pn.Card(slaid_2, title='Linked cohort analysis'),\n",
    "    pn.Card(slaid_3, title='Cross-sectional analysis across all cohorts'),\n",
    "])\n",
    "                                             \n",
    "\n",
    "template.servable();"
   ]
  },
  {
   "cell_type": "code",
   "execution_count": 411,
   "id": "98a01941-47de-42ba-8f14-836eff1f1d8c",
   "metadata": {
    "tags": []
   },
   "outputs": [
    {
     "name": "stdout",
     "output_type": "stream",
     "text": [
      "Launching server at http://localhost:59176\n"
     ]
    },
    {
     "data": {
      "text/plain": [
       "<panel.io.server.Server at 0x13b47d2d0>"
      ]
     },
     "execution_count": 411,
     "metadata": {},
     "output_type": "execute_result"
    }
   ],
   "source": [
    "# It shows the dashboard in another window \n",
    "template.show()"
   ]
  },
  {
   "cell_type": "code",
   "execution_count": null,
   "id": "d7ff495f-79b9-4e64-88b2-62fccbf4cb59",
   "metadata": {},
   "outputs": [],
   "source": [
    "MaterialTemplate"
   ]
  }
 ],
 "metadata": {
  "kernelspec": {
   "display_name": "Python 3 (ipykernel)",
   "language": "python",
   "name": "python3"
  },
  "language_info": {
   "codemirror_mode": {
    "name": "ipython",
    "version": 3
   },
   "file_extension": ".py",
   "mimetype": "text/x-python",
   "name": "python",
   "nbconvert_exporter": "python",
   "pygments_lexer": "ipython3",
   "version": "3.11.4"
  }
 },
 "nbformat": 4,
 "nbformat_minor": 5
}
