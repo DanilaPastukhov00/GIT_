{
 "nbformat": 4,
 "nbformat_minor": 0,
 "metadata": {
  "colab": {
   "provenance": [],
   "toc_visible": true
  },
  "kernelspec": {
   "name": "python3",
   "language": "python",
   "display_name": "Python 3 (ipykernel)"
  },
  "language_info": {
   "name": "python"
  }
 },
 "cells": [
  {
   "cell_type": "markdown",
   "source": [
    "# 1. Import data"
   ],
   "metadata": {
    "id": "yjDm7nwbchjM"
   }
  },
  {
   "cell_type": "code",
   "execution_count": 1,
   "metadata": {
    "id": "OYgGcJd-v67B",
    "ExecuteTime": {
     "end_time": "2023-12-19T10:14:59.045165Z",
     "start_time": "2023-12-19T10:14:57.502828Z"
    }
   },
   "outputs": [],
   "source": [
    "import pandas as pd\n",
    "import numpy as np\n",
    "from glob import glob\n"
   ]
  },
  {
   "cell_type": "code",
   "source": [
    "from google.colab import drive\n",
    "drive.mount('/content/drive')"
   ],
   "metadata": {
    "colab": {
     "base_uri": "https://localhost:8080/",
     "height": 338
    },
    "id": "V7o9bXp5qRip",
    "outputId": "55dd4ad5-2e85-4d81-ac46-68035f50e4bc",
    "ExecuteTime": {
     "end_time": "2023-12-19T10:15:05.707458Z",
     "start_time": "2023-12-19T10:15:03.291982Z"
    }
   },
   "execution_count": 2,
   "outputs": [
    {
     "ename": "ModuleNotFoundError",
     "evalue": "No module named 'google'",
     "output_type": "error",
     "traceback": [
      "\u001B[0;31m---------------------------------------------------------------------------\u001B[0m",
      "\u001B[0;31mModuleNotFoundError\u001B[0m                       Traceback (most recent call last)",
      "Cell \u001B[0;32mIn[2], line 1\u001B[0m\n\u001B[0;32m----> 1\u001B[0m \u001B[38;5;28;01mfrom\u001B[39;00m \u001B[38;5;21;01mgoogle\u001B[39;00m\u001B[38;5;21;01m.\u001B[39;00m\u001B[38;5;21;01mcolab\u001B[39;00m \u001B[38;5;28;01mimport\u001B[39;00m drive\n\u001B[1;32m      2\u001B[0m drive\u001B[38;5;241m.\u001B[39mmount(\u001B[38;5;124m'\u001B[39m\u001B[38;5;124m/content/drive\u001B[39m\u001B[38;5;124m'\u001B[39m)\n",
      "\u001B[0;31mModuleNotFoundError\u001B[0m: No module named 'google'"
     ]
    }
   ]
  },
  {
   "cell_type": "code",
   "source": [
    "FOLDER = '/content/drive/MyDrive/Цифровые кафедры/Кейс АБ Тест/Очищенные, поделенные на группы'\n",
    "file_names = glob(f'{FOLDER}/*.xlsx')\n",
    "print(file_names)\n",
    "\n",
    "dfs = [pd.read_excel(fname) for fname in file_names]\n",
    "df = pd.concat(dfs)"
   ],
   "metadata": {
    "id": "tnU6HTppHwxd",
    "ExecuteTime": {
     "end_time": "2023-12-19T10:15:09.940795Z",
     "start_time": "2023-12-19T10:15:09.413569Z"
    }
   },
   "execution_count": 3,
   "outputs": [
    {
     "name": "stdout",
     "output_type": "stream",
     "text": [
      "[]\n"
     ]
    },
    {
     "ename": "ValueError",
     "evalue": "No objects to concatenate",
     "output_type": "error",
     "traceback": [
      "\u001B[0;31m---------------------------------------------------------------------------\u001B[0m",
      "\u001B[0;31mValueError\u001B[0m                                Traceback (most recent call last)",
      "Cell \u001B[0;32mIn[3], line 6\u001B[0m\n\u001B[1;32m      3\u001B[0m \u001B[38;5;28mprint\u001B[39m(file_names)\n\u001B[1;32m      5\u001B[0m dfs \u001B[38;5;241m=\u001B[39m [pd\u001B[38;5;241m.\u001B[39mread_excel(fname) \u001B[38;5;28;01mfor\u001B[39;00m fname \u001B[38;5;129;01min\u001B[39;00m file_names]\n\u001B[0;32m----> 6\u001B[0m df \u001B[38;5;241m=\u001B[39m pd\u001B[38;5;241m.\u001B[39mconcat(dfs)\n",
      "File \u001B[0;32m~/anaconda3/lib/python3.11/site-packages/pandas/util/_decorators.py:331\u001B[0m, in \u001B[0;36mdeprecate_nonkeyword_arguments.<locals>.decorate.<locals>.wrapper\u001B[0;34m(*args, **kwargs)\u001B[0m\n\u001B[1;32m    325\u001B[0m \u001B[38;5;28;01mif\u001B[39;00m \u001B[38;5;28mlen\u001B[39m(args) \u001B[38;5;241m>\u001B[39m num_allow_args:\n\u001B[1;32m    326\u001B[0m     warnings\u001B[38;5;241m.\u001B[39mwarn(\n\u001B[1;32m    327\u001B[0m         msg\u001B[38;5;241m.\u001B[39mformat(arguments\u001B[38;5;241m=\u001B[39m_format_argument_list(allow_args)),\n\u001B[1;32m    328\u001B[0m         \u001B[38;5;167;01mFutureWarning\u001B[39;00m,\n\u001B[1;32m    329\u001B[0m         stacklevel\u001B[38;5;241m=\u001B[39mfind_stack_level(),\n\u001B[1;32m    330\u001B[0m     )\n\u001B[0;32m--> 331\u001B[0m \u001B[38;5;28;01mreturn\u001B[39;00m func(\u001B[38;5;241m*\u001B[39margs, \u001B[38;5;241m*\u001B[39m\u001B[38;5;241m*\u001B[39mkwargs)\n",
      "File \u001B[0;32m~/anaconda3/lib/python3.11/site-packages/pandas/core/reshape/concat.py:368\u001B[0m, in \u001B[0;36mconcat\u001B[0;34m(objs, axis, join, ignore_index, keys, levels, names, verify_integrity, sort, copy)\u001B[0m\n\u001B[1;32m    146\u001B[0m \u001B[38;5;129m@deprecate_nonkeyword_arguments\u001B[39m(version\u001B[38;5;241m=\u001B[39m\u001B[38;5;28;01mNone\u001B[39;00m, allowed_args\u001B[38;5;241m=\u001B[39m[\u001B[38;5;124m\"\u001B[39m\u001B[38;5;124mobjs\u001B[39m\u001B[38;5;124m\"\u001B[39m])\n\u001B[1;32m    147\u001B[0m \u001B[38;5;28;01mdef\u001B[39;00m \u001B[38;5;21mconcat\u001B[39m(\n\u001B[1;32m    148\u001B[0m     objs: Iterable[NDFrame] \u001B[38;5;241m|\u001B[39m Mapping[HashableT, NDFrame],\n\u001B[0;32m   (...)\u001B[0m\n\u001B[1;32m    157\u001B[0m     copy: \u001B[38;5;28mbool\u001B[39m \u001B[38;5;241m=\u001B[39m \u001B[38;5;28;01mTrue\u001B[39;00m,\n\u001B[1;32m    158\u001B[0m ) \u001B[38;5;241m-\u001B[39m\u001B[38;5;241m>\u001B[39m DataFrame \u001B[38;5;241m|\u001B[39m Series:\n\u001B[1;32m    159\u001B[0m \u001B[38;5;250m    \u001B[39m\u001B[38;5;124;03m\"\"\"\u001B[39;00m\n\u001B[1;32m    160\u001B[0m \u001B[38;5;124;03m    Concatenate pandas objects along a particular axis.\u001B[39;00m\n\u001B[1;32m    161\u001B[0m \n\u001B[0;32m   (...)\u001B[0m\n\u001B[1;32m    366\u001B[0m \u001B[38;5;124;03m    1   3   4\u001B[39;00m\n\u001B[1;32m    367\u001B[0m \u001B[38;5;124;03m    \"\"\"\u001B[39;00m\n\u001B[0;32m--> 368\u001B[0m     op \u001B[38;5;241m=\u001B[39m _Concatenator(\n\u001B[1;32m    369\u001B[0m         objs,\n\u001B[1;32m    370\u001B[0m         axis\u001B[38;5;241m=\u001B[39maxis,\n\u001B[1;32m    371\u001B[0m         ignore_index\u001B[38;5;241m=\u001B[39mignore_index,\n\u001B[1;32m    372\u001B[0m         join\u001B[38;5;241m=\u001B[39mjoin,\n\u001B[1;32m    373\u001B[0m         keys\u001B[38;5;241m=\u001B[39mkeys,\n\u001B[1;32m    374\u001B[0m         levels\u001B[38;5;241m=\u001B[39mlevels,\n\u001B[1;32m    375\u001B[0m         names\u001B[38;5;241m=\u001B[39mnames,\n\u001B[1;32m    376\u001B[0m         verify_integrity\u001B[38;5;241m=\u001B[39mverify_integrity,\n\u001B[1;32m    377\u001B[0m         copy\u001B[38;5;241m=\u001B[39mcopy,\n\u001B[1;32m    378\u001B[0m         sort\u001B[38;5;241m=\u001B[39msort,\n\u001B[1;32m    379\u001B[0m     )\n\u001B[1;32m    381\u001B[0m     \u001B[38;5;28;01mreturn\u001B[39;00m op\u001B[38;5;241m.\u001B[39mget_result()\n",
      "File \u001B[0;32m~/anaconda3/lib/python3.11/site-packages/pandas/core/reshape/concat.py:425\u001B[0m, in \u001B[0;36m_Concatenator.__init__\u001B[0;34m(self, objs, axis, join, keys, levels, names, ignore_index, verify_integrity, copy, sort)\u001B[0m\n\u001B[1;32m    422\u001B[0m     objs \u001B[38;5;241m=\u001B[39m \u001B[38;5;28mlist\u001B[39m(objs)\n\u001B[1;32m    424\u001B[0m \u001B[38;5;28;01mif\u001B[39;00m \u001B[38;5;28mlen\u001B[39m(objs) \u001B[38;5;241m==\u001B[39m \u001B[38;5;241m0\u001B[39m:\n\u001B[0;32m--> 425\u001B[0m     \u001B[38;5;28;01mraise\u001B[39;00m \u001B[38;5;167;01mValueError\u001B[39;00m(\u001B[38;5;124m\"\u001B[39m\u001B[38;5;124mNo objects to concatenate\u001B[39m\u001B[38;5;124m\"\u001B[39m)\n\u001B[1;32m    427\u001B[0m \u001B[38;5;28;01mif\u001B[39;00m keys \u001B[38;5;129;01mis\u001B[39;00m \u001B[38;5;28;01mNone\u001B[39;00m:\n\u001B[1;32m    428\u001B[0m     objs \u001B[38;5;241m=\u001B[39m \u001B[38;5;28mlist\u001B[39m(com\u001B[38;5;241m.\u001B[39mnot_none(\u001B[38;5;241m*\u001B[39mobjs))\n",
      "\u001B[0;31mValueError\u001B[0m: No objects to concatenate"
     ]
    }
   ]
  },
  {
   "cell_type": "markdown",
   "source": [
    "# 2. Get Unique Users"
   ],
   "metadata": {
    "id": "FLuuJO7rctHK"
   }
  },
  {
   "cell_type": "code",
   "source": [
    "# get records from groups A and B\n",
    "a_records = df[df['class'] == 'A']\n",
    "b_records = df[df['class'] == 'B']"
   ],
   "metadata": {
    "id": "eBPRECm8zrkc",
    "ExecuteTime": {
     "end_time": "2023-12-19T10:15:19.633132Z",
     "start_time": "2023-12-19T10:15:19.547395Z"
    }
   },
   "execution_count": 4,
   "outputs": [
    {
     "ename": "NameError",
     "evalue": "name 'df' is not defined",
     "output_type": "error",
     "traceback": [
      "\u001B[0;31m---------------------------------------------------------------------------\u001B[0m",
      "\u001B[0;31mNameError\u001B[0m                                 Traceback (most recent call last)",
      "Cell \u001B[0;32mIn[4], line 2\u001B[0m\n\u001B[1;32m      1\u001B[0m \u001B[38;5;66;03m# get records from groups A and B\u001B[39;00m\n\u001B[0;32m----> 2\u001B[0m a_records \u001B[38;5;241m=\u001B[39m df[df[\u001B[38;5;124m'\u001B[39m\u001B[38;5;124mclass\u001B[39m\u001B[38;5;124m'\u001B[39m] \u001B[38;5;241m==\u001B[39m \u001B[38;5;124m'\u001B[39m\u001B[38;5;124mA\u001B[39m\u001B[38;5;124m'\u001B[39m]\n\u001B[1;32m      3\u001B[0m b_records \u001B[38;5;241m=\u001B[39m df[df[\u001B[38;5;124m'\u001B[39m\u001B[38;5;124mclass\u001B[39m\u001B[38;5;124m'\u001B[39m] \u001B[38;5;241m==\u001B[39m \u001B[38;5;124m'\u001B[39m\u001B[38;5;124mB\u001B[39m\u001B[38;5;124m'\u001B[39m]\n",
      "\u001B[0;31mNameError\u001B[0m: name 'df' is not defined"
     ]
    }
   ]
  },
  {
   "cell_type": "code",
   "source": [
    "print(a_records.shape, b_records.shape)"
   ],
   "metadata": {
    "colab": {
     "base_uri": "https://localhost:8080/"
    },
    "id": "WUdoyDj6z9-W",
    "outputId": "0b72ab3c-3d2e-44f3-faec-40aedd356fce",
    "ExecuteTime": {
     "end_time": "2023-12-19T10:15:32.558617Z",
     "start_time": "2023-12-19T10:15:32.457853Z"
    }
   },
   "execution_count": 5,
   "outputs": [
    {
     "ename": "NameError",
     "evalue": "name 'a_records' is not defined",
     "output_type": "error",
     "traceback": [
      "\u001B[0;31m---------------------------------------------------------------------------\u001B[0m",
      "\u001B[0;31mNameError\u001B[0m                                 Traceback (most recent call last)",
      "Cell \u001B[0;32mIn[5], line 1\u001B[0m\n\u001B[0;32m----> 1\u001B[0m \u001B[38;5;28mprint\u001B[39m(a_records\u001B[38;5;241m.\u001B[39mshape, b_records\u001B[38;5;241m.\u001B[39mshape)\n",
      "\u001B[0;31mNameError\u001B[0m: name 'a_records' is not defined"
     ]
    }
   ]
  },
  {
   "cell_type": "code",
   "source": [
    "# get unique users from groups A and B\n",
    "a_users = pd.unique(a_records['uuid'])\n",
    "b_users = pd.unique(b_records['uuid'])\n",
    "print(a_users.shape, b_users.shape)"
   ],
   "metadata": {
    "colab": {
     "base_uri": "https://localhost:8080/"
    },
    "id": "g1runj4A1fH3",
    "outputId": "22e80254-eb88-4fdb-a9fd-8e94c2867f8e"
   },
   "execution_count": null,
   "outputs": [
    {
     "output_type": "stream",
     "name": "stdout",
     "text": [
      "(98733,) (123648,)\n"
     ]
    }
   ]
  },
  {
   "cell_type": "markdown",
   "source": [
    "# 3. Get Statistics in numbers"
   ],
   "metadata": {
    "id": "bXZli5JCc2Mf"
   }
  },
  {
   "cell_type": "code",
   "source": [
    "a_clicks = a_records[a_records['uri'] == '/addbull/'][['uuid', 'uri']]\n",
    "\n",
    "a_clicks = a_clicks.groupby(by=['uuid']).count()\n",
    "a_clicks = a_clicks.rename(columns={'uri': 'clicks'})\n",
    "\n",
    "a_stats = a_clicks.describe()['clicks']\n",
    "a_stats['sum'] = a_clicks.sum()['clicks']\n",
    "a_stats = a_stats[['sum', 'count', 'mean', 'std', 'min', 'max']]"
   ],
   "metadata": {
    "id": "Mc9EfmgD6laD"
   },
   "execution_count": null,
   "outputs": []
  },
  {
   "cell_type": "code",
   "source": [
    "b_clicks = b_records[b_records['uri'] == '/addbull/'][['uuid', 'uri']]\n",
    "\n",
    "b_clicks = b_clicks.groupby(by=['uuid']).count()\n",
    "b_clicks = b_clicks.rename(columns={'uri': 'clicks'})\n",
    "\n",
    "b_stats = b_clicks.describe()['clicks']\n",
    "b_stats['sum'] = b_clicks.sum()['clicks']\n",
    "b_stats = b_stats[['sum', 'count', 'mean', 'std', 'min', 'max']]"
   ],
   "metadata": {
    "id": "o09PyiDAiM_w"
   },
   "execution_count": null,
   "outputs": []
  },
  {
   "cell_type": "code",
   "source": [
    "gen_stats = pd.DataFrame({\n",
    "    'A': a_stats,\n",
    "    'B': b_stats,\n",
    "})\n",
    "\n",
    "gen_stats = gen_stats.rename(index = {'sum': 'Кол-во кликов',\n",
    "                                      'count': 'Кол-во пользователей',\n",
    "                                      'mean': 'Среднее кол-во нажатий на кнопку',\n",
    "                                      'std': 'Отклонение',\n",
    "                                      'min': 'Мин. значение',\n",
    "                                      'max': 'Макс. значение'\n",
    "                                      })\n",
    "\n",
    "\n",
    "print(gen_stats)"
   ],
   "metadata": {
    "colab": {
     "base_uri": "https://localhost:8080/"
    },
    "id": "ITB2eO41bWaV",
    "outputId": "8b53efe3-e865-4f49-be67-4d4a7107098b"
   },
   "execution_count": null,
   "outputs": [
    {
     "output_type": "stream",
     "name": "stdout",
     "text": [
      "                                             A             B\n",
      "Кол-во кликов                     33142.000000  42164.000000\n",
      "Кол-во пользователей              20369.000000  25395.000000\n",
      "Среднее кол-во нажатий на кнопку      1.627080      1.660327\n",
      "Отклонение                            2.520432      5.753837\n",
      "Мин. значение                         1.000000      1.000000\n",
      "Макс. значение                      107.000000    787.000000\n"
     ]
    }
   ]
  },
  {
   "cell_type": "code",
   "source": [
    "# Get CTR\n",
    "a_ctr = a_stats['sum'] / len(a_records)\n",
    "b_ctr = b_stats['sum'] / len(b_records)\n",
    "\n",
    "print('CTR A:', round(a_ctr, 4))\n",
    "print('CTR Б:', round(b_ctr, 4))"
   ],
   "metadata": {
    "colab": {
     "base_uri": "https://localhost:8080/"
    },
    "id": "xapeJNiTyqlL",
    "outputId": "b6c7c63d-261c-44bd-ab0a-6ad51a79de66"
   },
   "execution_count": null,
   "outputs": [
    {
     "output_type": "stream",
     "name": "stdout",
     "text": [
      "CTR A: 0.0987\n",
      "CTR Б: 0.1003\n"
     ]
    }
   ]
  },
  {
   "cell_type": "markdown",
   "source": [
    "# 4. Get statistics in graphs"
   ],
   "metadata": {
    "id": "qqUxop-HZAnk"
   }
  },
  {
   "cell_type": "code",
   "source": [
    "a_clicks = a_records[a_records['uri'] == '/addbull/'][['uuid', 'uri']]\n",
    "a_clicks = a_clicks.groupby(by=['uuid']).count()\n",
    "\n",
    "# Костыль, но работает\n",
    "a_clicks['click'] = 1\n",
    "a_clicks = a_clicks.groupby(by=['uri']).count()\n",
    "a_clicks['index'] = a_clicks.index\n",
    "\n",
    "# Draw\n",
    "a_clicks.plot.bar(x='index',\n",
    "                  y='click',\n",
    "                  title='Распределение числа пользователей по количеству кликов. Группа А',\n",
    "                  xlabel='Кол-во нажатий на кнопку',\n",
    "                  ylabel='Кол-во пользователей,нажавших\\n на кнопку',\n",
    "                  figsize=(10, 4)\n",
    ")"
   ],
   "metadata": {
    "colab": {
     "base_uri": "https://localhost:8080/",
     "height": 457
    },
    "id": "OtAgUFza25NW",
    "outputId": "22b4d67d-e7b7-42b5-cd11-f8859e8fb832"
   },
   "execution_count": null,
   "outputs": [
    {
     "output_type": "execute_result",
     "data": {
      "text/plain": [
       "<Axes: title={'center': 'Распределение числа пользователей по количеству кликов. Группа А'}, xlabel='Кол-во нажатий на кнопку', ylabel='Кол-во пользователей,нажавших\\n на кнопку'>"
      ]
     },
     "metadata": {},
     "execution_count": 61
    },
    {
     "output_type": "display_data",
     "data": {
      "text/plain": [
       "<Figure size 1000x400 with 1 Axes>"
      ],
      "image/png": "[encoded data removed]"
     },
     "metadata": {}
    }
   ]
  },
  {
   "cell_type": "code",
   "source": [
    "b_clicks = b_records[b_records['uri'] == '/addbull/'][['uuid', 'uri']]\n",
    "b_clicks = b_clicks.groupby(by=['uuid']).count()\n",
    "\n",
    "# Костыль, но работает\n",
    "b_clicks['click'] = 1\n",
    "b_clicks = b_clicks.groupby(by=['uri']).count()\n",
    "b_clicks['index'] = b_clicks.index\n",
    "\n",
    "# Draw\n",
    "b_clicks.plot.bar(x='index',\n",
    "                  y='click',\n",
    "                  title='Распределение числа пользователей по количеству кликов. Группа Б',\n",
    "                  xlabel='Кол-во нажатий на кнопку',\n",
    "                  ylabel='Кол-во пользователей,нажавших\\n на кнопку',\n",
    "                  figsize=(10, 4)\n",
    ")\n"
   ],
   "metadata": {
    "colab": {
     "base_uri": "https://localhost:8080/",
     "height": 458
    },
    "id": "B8iS0nsG7dwh",
    "outputId": "2dc0ad46-f1f1-4728-fb45-142b62650313"
   },
   "execution_count": null,
   "outputs": [
    {
     "output_type": "execute_result",
     "data": {
      "text/plain": [
       "<Axes: title={'center': 'Распределение числа пользователей по количеству кликов. Группа Б'}, xlabel='Кол-во нажатий на кнопку', ylabel='Кол-во пользователей,нажавших\\n на кнопку'>"
      ]
     },
     "metadata": {},
     "execution_count": 63
    },
    {
     "output_type": "display_data",
     "data": {
      "text/plain": [
       "<Figure size 1000x400 with 1 Axes>"
      ],
      "image/png": "[encoded data removed]"
     },
     "metadata": {}
    }
   ]
  },
  {
   "cell_type": "code",
   "source": [
    "print(a_clicks['click'])\n",
    "print()\n",
    "print(b_clicks['click'])"
   ],
   "metadata": {
    "colab": {
     "base_uri": "https://localhost:8080/"
    },
    "id": "wrsTO361a9kY",
    "outputId": "53bfcbce-054f-4630-ffb8-401f54093d1d"
   },
   "execution_count": null,
   "outputs": [
    {
     "output_type": "stream",
     "name": "stdout",
     "text": [
      "uri\n",
      "1      14956\n",
      "2       3043\n",
      "3       1072\n",
      "4        510\n",
      "5        293\n",
      "6        159\n",
      "7         85\n",
      "8         57\n",
      "9         41\n",
      "10        38\n",
      "11        17\n",
      "12        19\n",
      "13         6\n",
      "14        12\n",
      "15         9\n",
      "16         9\n",
      "17         4\n",
      "18         4\n",
      "19         3\n",
      "20         3\n",
      "21         2\n",
      "26         2\n",
      "27         1\n",
      "28         2\n",
      "29         3\n",
      "32         1\n",
      "34         2\n",
      "35         1\n",
      "37         2\n",
      "39         2\n",
      "42         1\n",
      "52         2\n",
      "57         1\n",
      "83         1\n",
      "89         1\n",
      "94         2\n",
      "103        1\n",
      "104        1\n",
      "107        1\n",
      "Name: click, dtype: int64\n",
      "\n",
      "uri\n",
      "1      18634\n",
      "2       3863\n",
      "3       1311\n",
      "4        675\n",
      "5        304\n",
      "6        191\n",
      "7        117\n",
      "8         86\n",
      "9         47\n",
      "10        30\n",
      "11        28\n",
      "12        19\n",
      "13        12\n",
      "14        11\n",
      "15        10\n",
      "16         2\n",
      "17         4\n",
      "18         3\n",
      "19         5\n",
      "20         1\n",
      "21         2\n",
      "22         3\n",
      "24         4\n",
      "26         3\n",
      "27         2\n",
      "28         1\n",
      "30         2\n",
      "34         2\n",
      "37         1\n",
      "41         1\n",
      "42         1\n",
      "43         1\n",
      "45         1\n",
      "46         1\n",
      "50         1\n",
      "56         2\n",
      "57         1\n",
      "63         1\n",
      "67         1\n",
      "69         1\n",
      "80         1\n",
      "81         1\n",
      "83         1\n",
      "103        1\n",
      "115        1\n",
      "117        1\n",
      "129        1\n",
      "170        1\n",
      "181        1\n",
      "787        1\n",
      "Name: click, dtype: int64\n"
     ]
    }
   ]
  },
  {
   "cell_type": "code",
   "source": [
    "a_clicks.index\n"
   ],
   "metadata": {
    "colab": {
     "base_uri": "https://localhost:8080/"
    },
    "id": "dARRpjprxuT_",
    "outputId": "3ad4fc41-d3c7-4f08-cccf-eea89ca6fa56"
   },
   "execution_count": null,
   "outputs": [
    {
     "output_type": "execute_result",
     "data": {
      "text/plain": [
       "Int64Index([  1,   2,   3,   4,   5,   6,   7,   8,   9,  10,  11,  12,  13,\n",
       "             14,  15,  16,  17,  18,  19,  20,  21,  26,  27,  28,  29,  32,\n",
       "             34,  35,  37,  39,  42,  52,  57,  83,  89,  94, 103, 104, 107],\n",
       "           dtype='int64', name='uri')"
      ]
     },
     "metadata": {},
     "execution_count": 65
    }
   ]
  },
  {
   "cell_type": "code",
   "source": [],
   "metadata": {
    "id": "6mRM00EUx63R"
   },
   "execution_count": null,
   "outputs": []
  },
  {
   "cell_type": "markdown",
   "source": [
    "# 5. Для Васи"
   ],
   "metadata": {
    "id": "837Mj3I1yRNx"
   }
  },
  {
   "cell_type": "code",
   "source": [
    "A_x = a_clicks.index.tolist()\n",
    "A_y = a_clicks['click'].values.tolist()\n",
    "\n",
    "B_x = b_clicks.index.tolist()\n",
    "B_y = b_clicks['click'].values.tolist()\n"
   ],
   "metadata": {
    "id": "fCKwqs2byUka",
    "colab": {
     "base_uri": "https://localhost:8080/",
     "height": 245
    },
    "outputId": "fe688d5f-46e5-45a9-e250-51d82f4d2619"
   },
   "execution_count": null,
   "outputs": [
    {
     "output_type": "error",
     "ename": "NameError",
     "evalue": "ignored",
     "traceback": [
      "\u001B[0;31m---------------------------------------------------------------------------\u001B[0m",
      "\u001B[0;31mNameError\u001B[0m                                 Traceback (most recent call last)",
      "\u001B[0;32m<ipython-input-1-8af16e1a583b>\u001B[0m in \u001B[0;36m<cell line: 1>\u001B[0;34m()\u001B[0m\n\u001B[0;32m----> 1\u001B[0;31m \u001B[0mA_x\u001B[0m \u001B[0;34m=\u001B[0m \u001B[0ma_clicks\u001B[0m\u001B[0;34m.\u001B[0m\u001B[0mindex\u001B[0m\u001B[0;34m.\u001B[0m\u001B[0mtolist\u001B[0m\u001B[0;34m(\u001B[0m\u001B[0;34m)\u001B[0m\u001B[0;34m\u001B[0m\u001B[0;34m\u001B[0m\u001B[0m\n\u001B[0m\u001B[1;32m      2\u001B[0m \u001B[0mA_y\u001B[0m \u001B[0;34m=\u001B[0m \u001B[0ma_clicks\u001B[0m\u001B[0;34m[\u001B[0m\u001B[0;34m'click'\u001B[0m\u001B[0;34m]\u001B[0m\u001B[0;34m.\u001B[0m\u001B[0mvalues\u001B[0m\u001B[0;34m.\u001B[0m\u001B[0mtolist\u001B[0m\u001B[0;34m(\u001B[0m\u001B[0;34m)\u001B[0m\u001B[0;34m\u001B[0m\u001B[0;34m\u001B[0m\u001B[0m\n\u001B[1;32m      3\u001B[0m \u001B[0;34m\u001B[0m\u001B[0m\n\u001B[1;32m      4\u001B[0m \u001B[0mB_x\u001B[0m \u001B[0;34m=\u001B[0m \u001B[0mb_clicks\u001B[0m\u001B[0;34m.\u001B[0m\u001B[0mindex\u001B[0m\u001B[0;34m.\u001B[0m\u001B[0mtolist\u001B[0m\u001B[0;34m(\u001B[0m\u001B[0;34m)\u001B[0m\u001B[0;34m\u001B[0m\u001B[0;34m\u001B[0m\u001B[0m\n\u001B[1;32m      5\u001B[0m \u001B[0mB_y\u001B[0m \u001B[0;34m=\u001B[0m \u001B[0mb_clicks\u001B[0m\u001B[0;34m[\u001B[0m\u001B[0;34m'click'\u001B[0m\u001B[0;34m]\u001B[0m\u001B[0;34m.\u001B[0m\u001B[0mvalues\u001B[0m\u001B[0;34m.\u001B[0m\u001B[0mtolist\u001B[0m\u001B[0;34m(\u001B[0m\u001B[0;34m)\u001B[0m\u001B[0;34m\u001B[0m\u001B[0;34m\u001B[0m\u001B[0m\n",
      "\u001B[0;31mNameError\u001B[0m: name 'a_clicks' is not defined"
     ]
    }
   ]
  },
  {
   "cell_type": "code",
   "source": [],
   "metadata": {
    "id": "TK04R74ez0IE"
   },
   "execution_count": null,
   "outputs": []
  },
  {
   "cell_type": "code",
   "source": [
    "print(B_x)\n",
    "print(B_y)"
   ],
   "metadata": {
    "colab": {
     "base_uri": "https://localhost:8080/"
    },
    "id": "6p9lRXqZya2Z",
    "outputId": "bb4660b5-beba-427b-d78c-757576c8f2f7"
   },
   "execution_count": null,
   "outputs": [
    {
     "output_type": "stream",
     "name": "stdout",
     "text": [
      "[1, 2, 3, 4, 5, 6, 7, 8, 9, 10, 11, 12, 13, 14, 15, 16, 17, 18, 19, 20, 21, 22, 24, 26, 27, 28, 30, 34, 37, 41, 42, 43, 45, 46, 50, 56, 57, 63, 67, 69, 80, 81, 83, 103, 115, 117, 129, 170, 181, 787]\n",
      "[18634, 3863, 1311, 675, 304, 191, 117, 86, 47, 30, 28, 19, 12, 11, 10, 2, 4, 3, 5, 1, 2, 3, 4, 3, 2, 1, 2, 2, 1, 1, 1, 1, 1, 1, 1, 2, 1, 1, 1, 1, 1, 1, 1, 1, 1, 1, 1, 1, 1, 1]\n"
     ]
    }
   ]
  },
  {
   "cell_type": "code",
   "source": [
    "A_x = [1, 2, 3, 4, 5, 6, 7, 8, 9, 10, 11, 12, 13, 14, 15, 16, 17, 18, 19, 20, 21, 26, 27, 28, 29, 32, 34, 35, 37, 39, 42, 52, 57, 83, 89, 94, 103, 104, 107]\n",
    "A_y = [14956, 3043, 1072, 510, 293, 159, 85, 57, 41, 38, 17, 19, 6, 12, 9, 9, 4, 4, 3, 3, 2, 2, 1, 2, 3, 1, 2, 1, 2, 2, 1, 2, 1, 1, 1, 2, 1, 1, 1]\n",
    "\n",
    "B_x = [1, 2, 3, 4, 5, 6, 7, 8, 9, 10, 11, 12, 13, 14, 15, 16, 17, 18, 19, 20, 21, 22, 24, 26, 27, 28, 30, 34, 37, 41, 42, 43, 45, 46, 50, 56, 57, 63, 67, 69, 80, 81, 83, 103, 115, 117, 129, 170, 181, 787]\n",
    "B_y = [18634, 3863, 1311, 675, 304, 191, 117, 86, 47, 30, 28, 19, 12, 11, 10, 2, 4, 3, 5, 1, 2, 3, 4, 3, 2, 1, 2, 2, 1, 1, 1, 1, 1, 1, 1, 2, 1, 1, 1, 1, 1, 1, 1, 1, 1, 1, 1, 1, 1, 1]\n",
    "\n",
    "\n",
    "\n",
    "E_1 = 0\n",
    "for i in range(len(A_x)):\n",
    "    E_1 = E_1 + A_x[i] * A_y[i]\n",
    "\n",
    "E_1_int = 0\n",
    "index_1 = 0\n",
    "for i in range(len(A_x)):\n",
    "    E_1_int = E_1_int + A_x[i] * A_y[i]\n",
    "    if E_1_int >= E_1 * 0.9:\n",
    "        index_1 = i\n",
    "        break\n",
    "\n",
    "E_2 = 0\n",
    "for l in range(len(B_x)):\n",
    "    E_2 = E_2 + B_x[l] * B_y[l]\n",
    "\n",
    "E_2_int = 0\n",
    "index_2 = 0\n",
    "for l in range(len(B_x)):\n",
    "    E_2_int = E_2_int + B_x[l] * B_y[l]\n",
    "    if E_2_int >= E_2 * 0.9:\n",
    "        index_2 = l\n",
    "        break\n",
    "#в A_x,A_y, B_x,B_y Сделанные данные\n",
    "A_x = A_x[:index_1]\n",
    "A_y = A_y[:index_1]\n",
    "\n",
    "B_x = B_x[:index_2]\n",
    "B_y = B_y[:index_2]\n",
    "\n"
   ],
   "metadata": {
    "id": "CkSIAQ8ly9TS"
   },
   "execution_count": null,
   "outputs": []
  },
  {
   "cell_type": "code",
   "source": [
    "import matplotlib.pyplot as plt\n",
    "\n",
    "import pandas as pd\n",
    "import numpy as np\n",
    "\n",
    "A_y = np.array(A_y)\n",
    "B_y = np.array(B_y)\n",
    "\n",
    "# Draw histogram\n",
    "# plt.figure(figsize=(10, 4))\n",
    "fig, axes = plt.subplots(nrows=1, ncols=2, figsize=(8, 4))\n",
    "plt.subplot(121)\n",
    "plt.title('Распределение пользователей\\nпо кол-ву кликов. Группа А')\n",
    "plt.xlabel('Кол-во нажатий на кнопку')\n",
    "plt.ylabel('Кол-во пользователей,нажавших\\n на кнопку')\n",
    "plt.bar(A_x, A_y)\n",
    "\n",
    "plt.subplot(122)\n",
    "plt.bar(B_x, B_y)\n",
    "plt.title('Распределение пользователей\\nпо кол-ву кликов. Группа Б')\n",
    "plt.xlabel('Кол-во нажатий на кнопку')\n",
    "plt.ylabel('Кол-во пользователей,нажавших\\n на кнопку')\n",
    "fig.tight_layout()\n",
    "plt.show()"
   ],
   "metadata": {
    "id": "KRw9_uQG3J78",
    "colab": {
     "base_uri": "https://localhost:8080/",
     "height": 407
    },
    "outputId": "27781dba-56d4-4ef6-8b6c-d68c69686abb"
   },
   "execution_count": null,
   "outputs": [
    {
     "output_type": "display_data",
     "data": {
      "text/plain": [
       "<Figure size 800x400 with 2 Axes>"
      ],
      "image/png": "[encoded data removed]"
     },
     "metadata": {}
    }
   ]
  },
  {
   "cell_type": "code",
   "source": [
    "a_clicks = np.sum(A_y * A_x)\n",
    "a_users = sum(A_y)\n",
    "a_clicks_avr = a_clicks / a_users\n",
    "a_clicks_min = np.min(A_x)\n",
    "a_clicks_max = np.max(A_x)\n",
    "\n",
    "b_clicks = np.sum(B_y * B_x)\n",
    "b_users = sum(B_y)\n",
    "b_clicks_avr = b_clicks / b_users\n",
    "b_clicks_min = np.min(B_x)\n",
    "b_clicks_max = np.max(B_x)\n",
    "\n",
    "num_of_clicks = (a_clicks, b_clicks)\n",
    "num_of_users = (a_users, b_users)\n",
    "clicks_avr = (a_clicks_avr, b_clicks_avr)\n",
    "clicks_min = (a_clicks_min, b_clicks_min)\n",
    "clicks_max = (a_clicks_max, b_clicks_max)\n",
    "\n",
    "df_new_stats = pd.DataFrame([\n",
    "                        num_of_clicks, num_of_users, clicks_avr,\n",
    "                        clicks_min, clicks_max\n",
    "                        ],\n",
    "                        columns = ['A', 'Б'],\n",
    "                        index = [\n",
    "                            'Кол-во кликов','Кол-во пользователей',\n",
    "                            'Среднее кол-во нажатий на кнопку',\n",
    "                            'Мин. значение',\n",
    "                            'Макс. значение'\n",
    "])\n",
    "\n",
    "df_new_stats, _ = df_new_stats.align(df_new_stats, join=\"outer\", axis=0)\n",
    "print(df_new_stats)"
   ],
   "metadata": {
    "colab": {
     "base_uri": "https://localhost:8080/"
    },
    "id": "g2vnPbE2zj0X",
    "outputId": "ebdea9fb-646f-4147-d94b-073981547da8"
   },
   "execution_count": null,
   "outputs": [
    {
     "output_type": "stream",
     "name": "stdout",
     "text": [
      "                                             A             Б\n",
      "Кол-во кликов                     29768.000000  37889.000000\n",
      "Кол-во пользователей              20175.000000  25258.000000\n",
      "Среднее кол-во нажатий на кнопку      1.475489      1.500079\n",
      "Мин. значение                         1.000000      1.000000\n",
      "Макс. значение                        8.000000     10.000000\n"
     ]
    }
   ]
  },
  {
   "cell_type": "code",
   "source": [
    "# Get CTR\n",
    "a_records = 0.95 * 98733\n",
    "b_records = 0.95 * 123648\n",
    "\n",
    "a_ctr = a_clicks / a_records\n",
    "b_ctr = b_clicks / b_records\n",
    "\n",
    "print('CTR A:', round(a_ctr, 4))\n",
    "print('CTR Б:', round(b_ctr, 4))"
   ],
   "metadata": {
    "colab": {
     "base_uri": "https://localhost:8080/"
    },
    "id": "OZ5iQ-Mo5LsH",
    "outputId": "0f55eead-f604-48ce-ba66-e492f73f9db9"
   },
   "execution_count": null,
   "outputs": [
    {
     "output_type": "stream",
     "name": "stdout",
     "text": [
      "CTR A: 0.3174\n",
      "CTR Б: 0.3226\n"
     ]
    }
   ]
  },
  {
   "cell_type": "code",
   "source": [
    "b_ctr / a_ctr * 100"
   ],
   "metadata": {
    "colab": {
     "base_uri": "https://localhost:8080/"
    },
    "id": "nUe2OdCQ5OHJ",
    "outputId": "cf7f99ef-9279-4cd1-fc74-06edb5639c00"
   },
   "execution_count": null,
   "outputs": [
    {
     "output_type": "execute_result",
     "data": {
      "text/plain": [
       "101.63393094159532"
      ]
     },
     "metadata": {},
     "execution_count": 47
    }
   ]
  },
  {
   "cell_type": "code",
   "source": [],
   "metadata": {
    "id": "hbP1uRal_BVw"
   },
   "execution_count": null,
   "outputs": []
  }
 ]
}
